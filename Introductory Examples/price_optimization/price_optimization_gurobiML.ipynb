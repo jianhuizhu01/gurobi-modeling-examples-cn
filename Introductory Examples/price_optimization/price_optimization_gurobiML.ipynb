{
  "cells": [
    {
      "cell_type": "markdown",
      "id": "e29e2b7a",
      "metadata": {},
      "source": [
        "# 你有 Gurobi WLS 许可证吗?\n",
        "本笔记本可以使用有限许可证运行,但详细程度会较低。如果你有 Gurobi WLS 许可证,可以[点击这里](https://colab.research.google.com/github/Gurobi/modeling-examples/blob/master/price_optimization/price_optimization_gurobiML_wls.ipynb)查看适用于该许可证的版本。\n",
        "\n",
        "如果你没有,也别担心!你仍然可以使用免费的有限 Gurobi 许可证来完成这个版本。"
      ]
    },
    {
      "cell_type": "markdown",
      "id": "94a00ac5",
      "metadata": {
        "id": "94a00ac5"
      },
      "source": [
        "# 第二部分:使用数学优化进行牛油果定价和供应\n",
        "\n",
        "这是价格优化示例的第二部分:[多少钱才算太贵？使用数学优化进行牛油果定价和供应](https://github.com/Gurobi/modeling-examples/tree/master/price_optimization)\n",
        "\n",
        "在第一部分中,使用了普通线性回归模型(OLS)来建立基于数据的价格和需求之间的关系。第二部分使用训练好的 `Scikit-learn` 模型替代 OLS 模型,并使用 [Gurobi Machine Learning](https://gurobi-machinelearning.readthedocs.io/en/stable/#) 包将其嵌入到 Gurobi 优化模型中。\n",
        "\n",
        "在本示例中,我们还将使用 `gurobipy-pandas`,这是另一个 Gurobi 开源包,作为 pandas 与 gurobipy 连接的便捷(且可选)包装器。\n",
        "\n",
        "如果你已经熟悉另一个笔记本中的示例,可以直接跳转到[构建回归模型](#Part-2:-Predict-the-Sales)部分,然后跳转到[构建优化问题](#Part-3:-Optimize-for-Price-and-Supply-of-Avocados)。\n",
        "\n",
        "**目标**:开发一个用于牛油果定价和分销以实现收益最大化的数据科学和决策管道。\n",
        "\n",
        "为实现这个目标,本笔记本将分三个阶段进行:\n",
        "\n",
        "1. 快速回顾 [Hass Avocado Board](https://hassavocadoboard.com/) (HAB) 数据\n",
        "2. 构建一个牛油果需求预测模型,该模型是价格、地区、年份和季节性的函数。\n",
        "3. 设计一个优化模型,在考虑运输和成本的同时,设定最佳价格和供应数量以最大化净收益。"
      ]
    },
    {
      "cell_type": "markdown",
      "id": "716ed7e0",
      "metadata": {
        "id": "716ed7e0"
      },
      "source": [
        "## 加载包并准备数据集\n",
        "\n",
        "和第一个示例一样,我们使用真实的 HAB 销售数据。\n"
      ]
    },
    {
      "cell_type": "code",
      "execution_count": 1,
      "id": "b1ff1bfa",
      "metadata": {
        "id": "b1ff1bfa"
      },
      "outputs": [],
      "source": [
        "import pandas as pd\n",
        "import warnings\n",
        "import numpy as np"
      ]
    },
    {
      "cell_type": "markdown",
      "id": "408e66ab",
      "metadata": {
        "id": "408e66ab"
      },
      "source": [
        "HAB 数据集包含 2019-2022 年的销售数据。这些数据通过之前从 HAB 下载的 2015-2018 年销售数据进行了补充,这些数据可在 [Kaggle](https://www.kaggle.com/datasets/timmate/avocado-prices-2020) 上获取。\n",
        "\n",
        "本笔记本将跳过第一个版本示例中的大部分数据预处理步骤。"
      ]
    },
    {
      "cell_type": "code",
      "execution_count": 2,
      "id": "-bbhXnJqFlu2",
      "metadata": {
        "colab": {
          "base_uri": "https://localhost:8080/",
          "height": 424
        },
        "id": "-bbhXnJqFlu2",
        "outputId": "bffc7347-2634-4622-c807-ca31e1bad6ed"
      },
      "outputs": [
        {
          "data": {
            "text/html": [
              "<div>\n",
              "<style scoped>\n",
              "    .dataframe tbody tr th:only-of-type {\n",
              "        vertical-align: middle;\n",
              "    }\n",
              "\n",
              "    .dataframe tbody tr th {\n",
              "        vertical-align: top;\n",
              "    }\n",
              "\n",
              "    .dataframe thead th {\n",
              "        text-align: right;\n",
              "    }\n",
              "</style>\n",
              "<table border=\"1\" class=\"dataframe\">\n",
              "  <thead>\n",
              "    <tr style=\"text-align: right;\">\n",
              "      <th></th>\n",
              "      <th>date</th>\n",
              "      <th>units_sold</th>\n",
              "      <th>price</th>\n",
              "      <th>region</th>\n",
              "      <th>year</th>\n",
              "      <th>month</th>\n",
              "      <th>peak</th>\n",
              "    </tr>\n",
              "  </thead>\n",
              "  <tbody>\n",
              "    <tr>\n",
              "      <th>0</th>\n",
              "      <td>2015-01-04</td>\n",
              "      <td>3.382800</td>\n",
              "      <td>1.020000</td>\n",
              "      <td>Great_Lakes</td>\n",
              "      <td>2015</td>\n",
              "      <td>1</td>\n",
              "      <td>0</td>\n",
              "    </tr>\n",
              "    <tr>\n",
              "      <th>1</th>\n",
              "      <td>2015-01-04</td>\n",
              "      <td>2.578275</td>\n",
              "      <td>1.100000</td>\n",
              "      <td>Midsouth</td>\n",
              "      <td>2015</td>\n",
              "      <td>1</td>\n",
              "      <td>0</td>\n",
              "    </tr>\n",
              "    <tr>\n",
              "      <th>2</th>\n",
              "      <td>2015-01-04</td>\n",
              "      <td>5.794411</td>\n",
              "      <td>0.890000</td>\n",
              "      <td>West</td>\n",
              "      <td>2015</td>\n",
              "      <td>1</td>\n",
              "      <td>0</td>\n",
              "    </tr>\n",
              "    <tr>\n",
              "      <th>3</th>\n",
              "      <td>2015-01-04</td>\n",
              "      <td>3.204112</td>\n",
              "      <td>0.980000</td>\n",
              "      <td>Southeast</td>\n",
              "      <td>2015</td>\n",
              "      <td>1</td>\n",
              "      <td>0</td>\n",
              "    </tr>\n",
              "    <tr>\n",
              "      <th>4</th>\n",
              "      <td>2015-01-04</td>\n",
              "      <td>0.321824</td>\n",
              "      <td>1.050000</td>\n",
              "      <td>Northern_New_England</td>\n",
              "      <td>2015</td>\n",
              "      <td>1</td>\n",
              "      <td>0</td>\n",
              "    </tr>\n",
              "    <tr>\n",
              "      <th>...</th>\n",
              "      <td>...</td>\n",
              "      <td>...</td>\n",
              "      <td>...</td>\n",
              "      <td>...</td>\n",
              "      <td>...</td>\n",
              "      <td>...</td>\n",
              "      <td>...</td>\n",
              "    </tr>\n",
              "    <tr>\n",
              "      <th>3396</th>\n",
              "      <td>2022-05-15</td>\n",
              "      <td>0.445830</td>\n",
              "      <td>1.513707</td>\n",
              "      <td>Northern_New_England</td>\n",
              "      <td>2022</td>\n",
              "      <td>5</td>\n",
              "      <td>1</td>\n",
              "    </tr>\n",
              "    <tr>\n",
              "      <th>3397</th>\n",
              "      <td>2022-05-15</td>\n",
              "      <td>4.150433</td>\n",
              "      <td>1.269883</td>\n",
              "      <td>SouthCentral</td>\n",
              "      <td>2022</td>\n",
              "      <td>5</td>\n",
              "      <td>1</td>\n",
              "    </tr>\n",
              "    <tr>\n",
              "      <th>3398</th>\n",
              "      <td>2022-05-15</td>\n",
              "      <td>4.668815</td>\n",
              "      <td>1.644873</td>\n",
              "      <td>Northeast</td>\n",
              "      <td>2022</td>\n",
              "      <td>5</td>\n",
              "      <td>1</td>\n",
              "    </tr>\n",
              "    <tr>\n",
              "      <th>3399</th>\n",
              "      <td>2022-05-15</td>\n",
              "      <td>32.745321</td>\n",
              "      <td>1.527357</td>\n",
              "      <td>Total_US</td>\n",
              "      <td>2022</td>\n",
              "      <td>5</td>\n",
              "      <td>1</td>\n",
              "    </tr>\n",
              "    <tr>\n",
              "      <th>3401</th>\n",
              "      <td>2022-05-15</td>\n",
              "      <td>1.560202</td>\n",
              "      <td>1.541429</td>\n",
              "      <td>Plains</td>\n",
              "      <td>2022</td>\n",
              "      <td>5</td>\n",
              "      <td>1</td>\n",
              "    </tr>\n",
              "  </tbody>\n",
              "</table>\n",
              "<p>3402 rows × 7 columns</p>\n",
              "</div>"
            ],
            "text/plain": [
              "           date  units_sold     price                region  year  month  peak\n",
              "0    2015-01-04    3.382800  1.020000           Great_Lakes  2015      1     0\n",
              "1    2015-01-04    2.578275  1.100000              Midsouth  2015      1     0\n",
              "2    2015-01-04    5.794411  0.890000                  West  2015      1     0\n",
              "3    2015-01-04    3.204112  0.980000             Southeast  2015      1     0\n",
              "4    2015-01-04    0.321824  1.050000  Northern_New_England  2015      1     0\n",
              "...         ...         ...       ...                   ...   ...    ...   ...\n",
              "3396 2022-05-15    0.445830  1.513707  Northern_New_England  2022      5     1\n",
              "3397 2022-05-15    4.150433  1.269883          SouthCentral  2022      5     1\n",
              "3398 2022-05-15    4.668815  1.644873             Northeast  2022      5     1\n",
              "3399 2022-05-15   32.745321  1.527357              Total_US  2022      5     1\n",
              "3401 2022-05-15    1.560202  1.541429                Plains  2022      5     1\n",
              "\n",
              "[3402 rows x 7 columns]"
            ]
          },
          "execution_count": 2,
          "metadata": {},
          "output_type": "execute_result"
        }
      ],
      "source": [
        "data_url = \"https://raw.githubusercontent.com/Gurobi/modeling-examples/master/price_optimization/\"\n",
        "avocado = pd.read_csv(data_url+\"HAB_data_2015to2022.csv\")\n",
        "avocado[\"date\"] = pd.to_datetime(avocado[\"date\"])\n",
        "avocado = avocado.sort_values(by=\"date\")\n",
        "avocado"
      ]
    },
    {
      "cell_type": "markdown",
      "id": "3a91caa2",
      "metadata": {
        "id": "3a91caa2"
      },
      "source": [
        "上述数据框中的一个地区是 `Total_US`，因此我们可以创建一个不包含总计的地区列表，该列表可以用于现在对数据进行子集划分。该列表稍后在示例中也会用到。"
      ]
    },
    {
      "cell_type": "code",
      "execution_count": 3,
      "id": "c2f6cc22",
      "metadata": {
        "id": "c2f6cc22"
      },
      "outputs": [],
      "source": [
        "regions = [\n",
        "    \"Great_Lakes\",\n",
        "    \"Midsouth\",\n",
        "    \"Northeast\",\n",
        "    \"Northern_New_England\",\n",
        "    \"SouthCentral\",\n",
        "    \"Southeast\",\n",
        "    \"West\",\n",
        "    \"Plains\"\n",
        "]\n",
        "df = avocado[avocado.region.isin(regions)]"
      ]
    },
    {
      "cell_type": "markdown",
      "id": "5186fd3e",
      "metadata": {
        "id": "5186fd3e"
      },
      "source": [
        "## 预测销量\n",
        "\n",
        "在本示例的第一个实例中，对输入数据进行了进一步分析并做了一些可视化。在这里，我们将直接进行预测模型训练，首先将数据集随机分为 80% 的训练集和 20% 的测试集。"
      ]
    },
    {
      "cell_type": "code",
      "execution_count": 4,
      "id": "866c540b",
      "metadata": {
        "id": "866c540b"
      },
      "outputs": [],
      "source": [
        "from sklearn.model_selection import train_test_split\n",
        "\n",
        "X = df[[\"region\", \"price\", \"year\", \"peak\"]]\n",
        "y = df[\"units_sold\"]\n",
        "# 将数据分为训练集和测试集\n",
        "X_train, X_test, y_train, y_test = train_test_split(\n",
        "    X, y, train_size=0.8, random_state=1\n",
        ")"
      ]
    },
    {
      "cell_type": "markdown",
      "id": "071154e3",
      "metadata": {
        "id": "071154e3"
      },
      "source": [
        "注意，地区是一个分类变量，我们将使用 Scikit Learn 的 `OneHotEncoder` 来转换该变量。我们还使用标准缩放器对价格和年份索引进行处理，并使用 `make_column_transformer` 将所有这些组合到 `Column Transformer` 中。"
      ]
    },
    {
      "cell_type": "code",
      "execution_count": 5,
      "id": "71c7c565",
      "metadata": {
        "id": "71c7c565"
      },
      "outputs": [],
      "source": [
        "from sklearn.preprocessing import OneHotEncoder\n",
        "from sklearn.preprocessing import StandardScaler\n",
        "from sklearn.compose import make_column_transformer\n",
        "from sklearn.linear_model import LinearRegression\n",
        "from sklearn.pipeline import make_pipeline\n",
        "from sklearn.metrics import r2_score\n",
        "\n",
        "feat_transform = make_column_transformer(\n",
        "    (OneHotEncoder(drop=\"first\"), [\"region\"]),\n",
        "    (StandardScaler(), [\"price\", \"year\"]),\n",
        "    (\"passthrough\", [\"peak\"]),\n",
        "    verbose_feature_names_out=False,\n",
        "    remainder='drop'\n",
        ")"
      ]
    },
    {
      "attachments": {},
      "cell_type": "markdown",
      "id": "65b6bcaa",
      "metadata": {
        "id": "65b6bcaa"
      },
      "source": [
        "回归模型是由 `Column Transformer` 和我们想要用于回归的模型类型组成的管道。为了进行比较，我们将继续使用线性回归。"
      ]
    },
    {
      "cell_type": "code",
      "execution_count": 6,
      "id": "29AoNyWVdfH0",
      "metadata": {
        "colab": {
          "base_uri": "https://localhost:8080/"
        },
        "id": "29AoNyWVdfH0",
        "outputId": "c602f200-f721-4d66-c70c-2670a223c9d8"
      },
      "outputs": [
        {
          "name": "stdout",
          "output_type": "stream",
          "text": [
            "The R^2 value in the test set is 0.9083\n"
          ]
        }
      ],
      "source": [
        "reg = make_pipeline(feat_transform, LinearRegression())\n",
        "reg.fit(X_train, y_train)\n",
        "\n",
        "# Get R^2 from test data\n",
        "y_pred = reg.predict(X_test)\n",
        "print(f\"The R^2 value in the test set is {np.round(r2_score(y_test, y_pred),5)}\")"
      ]
    },
    {
      "cell_type": "markdown",
      "id": "3291d28d",
      "metadata": {
        "id": "3291d28d"
      },
      "source": [
        "我们可以观察到测试集中有一个不错的 $R^2$ 值。现在我们将对完整数据集进行拟合训练。"
      ]
    },
    {
      "cell_type": "code",
      "execution_count": 7,
      "id": "1b956503",
      "metadata": {
        "colab": {
          "base_uri": "https://localhost:8080/"
        },
        "id": "1b956503",
        "outputId": "93177781-34fd-4a72-d16a-9e074bf2e368"
      },
      "outputs": [
        {
          "name": "stdout",
          "output_type": "stream",
          "text": [
            "The R^2 value in the full dataset is 0.90667\n"
          ]
        }
      ],
      "source": [
        "reg.fit(X, y)\n",
        "\n",
        "y_pred_full = reg.predict(X)\n",
        "print(f\"The R^2 value in the full dataset is {np.round(r2_score(y, y_pred_full),5)}\")"
      ]
    },
    {
      "cell_type": "markdown",
      "id": "93868dba",
      "metadata": {
        "id": "93868dba"
      },
      "source": [
        "## 优化牛油果价格和供应\n",
        "\n",
        "以下是数学优化模型表述的符号快速回顾。下标 $r$ 将用于表示每个地区。\n",
        "### 输入参数\n",
        "- $d(p,r)$：当牛油果价格为 $p$ 时地区 $r$ 的预测需求\n",
        "- $B$：可以分配给各地区的牛油果总量\n",
        "- $c_{waste}$：每个浪费的牛油果的成本 ($\\$$)\n",
        "- $c^r_{transport}$：将牛油果运输到地区 $r$ 的成本 ($\\$$)\n",
        "- $a_{min},a_{max}$：每个牛油果的最低和最高价格 ($\\$$)\n",
        "  $r$\n",
        "- $b^r_{min},b^r_{max}$：分配给地区 $r$ 的最少和最多牛油果数量\n",
        "\n",
        "以下代码设置这些参数的值。您可以自由调整这些值，看看优化模型的解决方案会如何变化。\n"
      ]
    },
    {
      "cell_type": "code",
      "execution_count": 8,
      "id": "1f293b80",
      "metadata": {
        "colab": {
          "base_uri": "https://localhost:8080/",
          "height": 300
        },
        "id": "1f293b80",
        "outputId": "5d74e7a3-f705-4bcf-aec5-b678b15f8656"
      },
      "outputs": [
        {
          "data": {
            "text/html": [
              "<div>\n",
              "<style scoped>\n",
              "    .dataframe tbody tr th:only-of-type {\n",
              "        vertical-align: middle;\n",
              "    }\n",
              "\n",
              "    .dataframe tbody tr th {\n",
              "        vertical-align: top;\n",
              "    }\n",
              "\n",
              "    .dataframe thead th {\n",
              "        text-align: right;\n",
              "    }\n",
              "</style>\n",
              "<table border=\"1\" class=\"dataframe\">\n",
              "  <thead>\n",
              "    <tr style=\"text-align: right;\">\n",
              "      <th></th>\n",
              "      <th>transport_cost</th>\n",
              "      <th>min_delivery</th>\n",
              "      <th>max_delivery</th>\n",
              "    </tr>\n",
              "  </thead>\n",
              "  <tbody>\n",
              "    <tr>\n",
              "      <th>Great_Lakes</th>\n",
              "      <td>0.3</td>\n",
              "      <td>2.063574</td>\n",
              "      <td>7.094765</td>\n",
              "    </tr>\n",
              "    <tr>\n",
              "      <th>Midsouth</th>\n",
              "      <td>0.1</td>\n",
              "      <td>1.845443</td>\n",
              "      <td>6.168572</td>\n",
              "    </tr>\n",
              "    <tr>\n",
              "      <th>Northeast</th>\n",
              "      <td>0.4</td>\n",
              "      <td>2.364424</td>\n",
              "      <td>8.836406</td>\n",
              "    </tr>\n",
              "    <tr>\n",
              "      <th>Northern_New_England</th>\n",
              "      <td>0.5</td>\n",
              "      <td>0.219690</td>\n",
              "      <td>0.917984</td>\n",
              "    </tr>\n",
              "    <tr>\n",
              "      <th>SouthCentral</th>\n",
              "      <td>0.3</td>\n",
              "      <td>3.687130</td>\n",
              "      <td>10.323175</td>\n",
              "    </tr>\n",
              "    <tr>\n",
              "      <th>Southeast</th>\n",
              "      <td>0.2</td>\n",
              "      <td>2.197764</td>\n",
              "      <td>7.810475</td>\n",
              "    </tr>\n",
              "    <tr>\n",
              "      <th>West</th>\n",
              "      <td>0.2</td>\n",
              "      <td>3.260102</td>\n",
              "      <td>11.274749</td>\n",
              "    </tr>\n",
              "    <tr>\n",
              "      <th>Plains</th>\n",
              "      <td>0.2</td>\n",
              "      <td>1.058938</td>\n",
              "      <td>3.575499</td>\n",
              "    </tr>\n",
              "  </tbody>\n",
              "</table>\n",
              "</div>"
            ],
            "text/plain": [
              "                      transport_cost  min_delivery  max_delivery\n",
              "Great_Lakes                      0.3      2.063574      7.094765\n",
              "Midsouth                         0.1      1.845443      6.168572\n",
              "Northeast                        0.4      2.364424      8.836406\n",
              "Northern_New_England             0.5      0.219690      0.917984\n",
              "SouthCentral                     0.3      3.687130     10.323175\n",
              "Southeast                        0.2      2.197764      7.810475\n",
              "West                             0.2      3.260102     11.274749\n",
              "Plains                           0.2      1.058938      3.575499"
            ]
          },
          "execution_count": 8,
          "metadata": {},
          "output_type": "execute_result"
        }
      ],
      "source": [
        "# 集合和参数\n",
        "B = 35  # 牛油果供应总量\n",
        "\n",
        "peak_or_not = 1  # 1表示旺季；0表示非旺季\n",
        "year = 2022\n",
        "\n",
        "c_waste = 0.1  # 浪费一个牛油果的成本($)\n",
        "\n",
        "# 运输一个牛油果的成本\n",
        "c_transport = pd.Series(\n",
        "    {\n",
        "        \"Great_Lakes\": 0.3,\n",
        "        \"Midsouth\": 0.1,\n",
        "        \"Northeast\": 0.4,\n",
        "        \"Northern_New_England\": 0.5,\n",
        "        \"SouthCentral\": 0.3,\n",
        "        \"Southeast\": 0.2,\n",
        "        \"West\": 0.2,\n",
        "        \"Plains\": 0.2,\n",
        "    }, name='transport_cost'\n",
        ")\n",
        "c_transport = c_transport.loc[regions]\n",
        "\n",
        "a_min = 0  # 牛油果最低价格\n",
        "a_max = 3  # 牛油果最高价格\n",
        "\n",
        "# 从数据集获取价格和库存数量的上下界\n",
        "data = pd.concat([c_transport,\n",
        "                  df.groupby(\"region\")[\"units_sold\"].min().rename('min_delivery'),\n",
        "                  df.groupby(\"region\")[\"units_sold\"].max().rename('max_delivery')], axis=1)\n",
        "\n",
        "data"
      ]
    },
    {
      "cell_type": "markdown",
      "id": "c6WbGctoAYUw",
      "metadata": {
        "id": "c6WbGctoAYUw"
      },
      "source": [
        "#### 安装并导入 Gurobi 包"
      ]
    },
    {
      "cell_type": "code",
      "execution_count": 10,
      "id": "Z7eyw2klAAcG",
      "metadata": {
        "id": "Z7eyw2klAAcG"
      },
      "outputs": [],
      "source": [
        "# %pip install gurobipy_pandas\n",
        "# %pip install gurobi-machinelearning\n",
        "import gurobipy_pandas as gppd\n",
        "from gurobi_ml import add_predictor_constr"
      ]
    },
    {
      "cell_type": "markdown",
      "id": "5eaf9769",
      "metadata": {
        "id": "5eaf9769"
      },
      "source": [
        "### 为回归的固定特征创建数据框\n",
        "\n",
        "我们现在开始创建优化模型中回归的输入，这些输入具有固定的特征。\n",
        "\n",
        "我们使用 gurobipy-pandas，它有助于更轻松地使用 pandas 数据创建 gurobipy 模型。"
      ]
    },
    {
      "cell_type": "markdown",
      "id": "ebb83dc2",
      "metadata": {
        "id": "ebb83dc2"
      },
      "source": [
        "首先，创建一个包含我们优化问题中固定特征的数据框。\n",
        "它以地区为索引（我们想要使用一个回归来预测每个地区的需求），并具有 3 个对应于固定特征的列：\n",
        "\n",
        "* `year`（年份）\n",
        "* `peak`（使用 `peak_or_not` 的值）\n",
        "* `region`（重复地区名称）。\n",
        "\n",
        "让我们显示数据框以确保它是正确的。"
      ]
    },
    {
      "cell_type": "code",
      "execution_count": 11,
      "id": "e879833f",
      "metadata": {
        "colab": {
          "base_uri": "https://localhost:8080/",
          "height": 300
        },
        "id": "e879833f",
        "outputId": "88107112-9fa8-4d30-da95-e445328b3669"
      },
      "outputs": [
        {
          "data": {
            "text/html": [
              "<div>\n",
              "<style scoped>\n",
              "    .dataframe tbody tr th:only-of-type {\n",
              "        vertical-align: middle;\n",
              "    }\n",
              "\n",
              "    .dataframe tbody tr th {\n",
              "        vertical-align: top;\n",
              "    }\n",
              "\n",
              "    .dataframe thead th {\n",
              "        text-align: right;\n",
              "    }\n",
              "</style>\n",
              "<table border=\"1\" class=\"dataframe\">\n",
              "  <thead>\n",
              "    <tr style=\"text-align: right;\">\n",
              "      <th></th>\n",
              "      <th>year</th>\n",
              "      <th>peak</th>\n",
              "      <th>region</th>\n",
              "    </tr>\n",
              "  </thead>\n",
              "  <tbody>\n",
              "    <tr>\n",
              "      <th>Great_Lakes</th>\n",
              "      <td>2022</td>\n",
              "      <td>1</td>\n",
              "      <td>Great_Lakes</td>\n",
              "    </tr>\n",
              "    <tr>\n",
              "      <th>Midsouth</th>\n",
              "      <td>2022</td>\n",
              "      <td>1</td>\n",
              "      <td>Midsouth</td>\n",
              "    </tr>\n",
              "    <tr>\n",
              "      <th>Northeast</th>\n",
              "      <td>2022</td>\n",
              "      <td>1</td>\n",
              "      <td>Northeast</td>\n",
              "    </tr>\n",
              "    <tr>\n",
              "      <th>Northern_New_England</th>\n",
              "      <td>2022</td>\n",
              "      <td>1</td>\n",
              "      <td>Northern_New_England</td>\n",
              "    </tr>\n",
              "    <tr>\n",
              "      <th>SouthCentral</th>\n",
              "      <td>2022</td>\n",
              "      <td>1</td>\n",
              "      <td>SouthCentral</td>\n",
              "    </tr>\n",
              "    <tr>\n",
              "      <th>Southeast</th>\n",
              "      <td>2022</td>\n",
              "      <td>1</td>\n",
              "      <td>Southeast</td>\n",
              "    </tr>\n",
              "    <tr>\n",
              "      <th>West</th>\n",
              "      <td>2022</td>\n",
              "      <td>1</td>\n",
              "      <td>West</td>\n",
              "    </tr>\n",
              "    <tr>\n",
              "      <th>Plains</th>\n",
              "      <td>2022</td>\n",
              "      <td>1</td>\n",
              "      <td>Plains</td>\n",
              "    </tr>\n",
              "  </tbody>\n",
              "</table>\n",
              "</div>"
            ],
            "text/plain": [
              "                      year  peak                region\n",
              "Great_Lakes           2022     1           Great_Lakes\n",
              "Midsouth              2022     1              Midsouth\n",
              "Northeast             2022     1             Northeast\n",
              "Northern_New_England  2022     1  Northern_New_England\n",
              "SouthCentral          2022     1          SouthCentral\n",
              "Southeast             2022     1             Southeast\n",
              "West                  2022     1                  West\n",
              "Plains                2022     1                Plains"
            ]
          },
          "execution_count": 11,
          "metadata": {},
          "output_type": "execute_result"
        }
      ],
      "source": [
        "feats = pd.DataFrame(\n",
        "    data={\n",
        "        \"year\": year,\n",
        "        \"peak\": peak_or_not,\n",
        "        \"region\": regions,\n",
        "    },\n",
        "    index=regions\n",
        ")\n",
        "feats"
      ]
    },
    {
      "cell_type": "markdown",
      "id": "5103dcd2",
      "metadata": {
        "id": "5103dcd2"
      },
      "source": [
        "### 决策变量\n",
        "\n",
        "现在让我们定义决策变量。在我们的模型中，我们想要存储每个地区的\n",
        "牛油果价格和分配数量。我们还需要变量来跟踪预测会售出多少牛油果\n",
        "以及预测会浪费多少。以下符号用于建模这些决策变量。\n",
        "\n",
        "- $p$ 每个地区的牛油果价格 ($\\$$)\n",
        "- $x$ 供应给每个地区的牛油果数量\n",
        "- $s$ 每个地区预测销售的牛油果数量\n",
        "- $w$ 每个地区预测浪费的牛油果数量\n",
        "- $d$ 每个地区的预测需求\n",
        "\n",
        "所有这些变量都是使用 gurobipy-pandas 创建的，通过函数 `gppd.add_vars` 它们被赋予与 `data` 数据框相同的索引。"
      ]
    },
    {
      "cell_type": "code",
      "execution_count": 12,
      "id": "5da3e84b",
      "metadata": {
        "colab": {
          "base_uri": "https://localhost:8080/"
        },
        "id": "5da3e84b",
        "outputId": "dd655d28-dfbe-49e5-fd3e-015a3674fee6"
      },
      "outputs": [
        {
          "name": "stdout",
          "output_type": "stream",
          "text": [
            "Set parameter LicenseID to value 2601452\n"
          ]
        },
        {
          "data": {
            "text/plain": [
              "Great_Lakes                      <gurobi.Var price[Great_Lakes]>\n",
              "Midsouth                            <gurobi.Var price[Midsouth]>\n",
              "Northeast                          <gurobi.Var price[Northeast]>\n",
              "Northern_New_England    <gurobi.Var price[Northern_New_England]>\n",
              "SouthCentral                    <gurobi.Var price[SouthCentral]>\n",
              "Southeast                          <gurobi.Var price[Southeast]>\n",
              "West                                    <gurobi.Var price[West]>\n",
              "Plains                                <gurobi.Var price[Plains]>\n",
              "Name: price, dtype: object"
            ]
          },
          "execution_count": 12,
          "metadata": {},
          "output_type": "execute_result"
        }
      ],
      "source": [
        "import gurobipy as gp\n",
        "\n",
        "m = gp.Model(\"Avocado_Price_Allocation\")\n",
        "\n",
        "p = gppd.add_vars(m, data, name=\"price\", lb=a_min, ub=a_max) # 每个地区的牛油果价格\n",
        "x = gppd.add_vars(m, data, name=\"x\", lb='min_delivery', ub='max_delivery') # 供应给每个地区的牛油果数量\n",
        "s = gppd.add_vars(m, data, name=\"s\") # 给定价格下每个地区的预测销售量\n",
        "w = gppd.add_vars(m, data, name=\"w\") # 每个地区的额外浪费量\n",
        "d = gppd.add_vars(m, data, lb=-gp.GRB.INFINITY, name=\"demand\") # 添加回归的变量\n",
        "\n",
        "m.update()\n",
        "\n",
        "# 显示其中一个变量\n",
        "p"
      ]
    },
    {
      "cell_type": "markdown",
      "id": "5a3bf602",
      "metadata": {
        "id": "5a3bf602"
      },
      "source": [
        "### 添加供应约束\n",
        "\n",
        "现在我们介绍约束条件。第一个约束是确保供应的牛油果总数等于 $B$，这可以用数学表达式表示如下。\n",
        "\n",
        "\\begin{align*} \\sum_{r} x_r &= B \\end{align*}\n"
      ]
    },
    {
      "cell_type": "code",
      "execution_count": 13,
      "id": "071c45f9",
      "metadata": {
        "id": "071c45f9"
      },
      "outputs": [],
      "source": [
        "m.addConstr(x.sum() == B)\n",
        "m.update()"
      ]
    },
    {
      "cell_type": "markdown",
      "id": "59009e4d",
      "metadata": {
        "id": "59009e4d"
      },
      "source": [
        "### 添加定义销售数量的约束\n",
        "\n",
        "简单回顾一下，销售数量是分配数量和预测需求的最小值，即 $s_r = \\min \\{x_r,d_r(p_r)\\}$。这个关系可以通过以下两个约束条件为每个地区 $r$ 建模。\n",
        "\n",
        "\\begin{align*} s_r &\\leq x_r  \\\\\n",
        "s_r &\\leq d(p_r,r) \\end{align*}\n",
        "\n",
        "在这种情况下，我们使用 gurobipy-pandas 的 `add_constrs` 函数，基于上述不等式，这个函数的使用非常直观。"
      ]
    },
    {
      "cell_type": "code",
      "execution_count": 14,
      "id": "c5323898",
      "metadata": {
        "id": "c5323898"
      },
      "outputs": [],
      "source": [
        "gppd.add_constrs(m, s, gp.GRB.LESS_EQUAL, x)\n",
        "gppd.add_constrs(m, s, gp.GRB.LESS_EQUAL, d)\n",
        "m.update()"
      ]
    },
    {
      "cell_type": "markdown",
      "id": "bf71c2f4",
      "metadata": {
        "id": "bf71c2f4"
      },
      "source": [
        "### 添加浪费约束\n",
        "\n",
        "最后，我们应该定义每个地区的预测浪费量，它由预测不会售出的供应数量给出。\n",
        "我们可以为每个地区 $r$ 用数学表达式表示这一点。\n",
        "\n",
        "\\begin{align*} w_r &= x_r - s_r \\end{align*}"
      ]
    },
    {
      "cell_type": "code",
      "execution_count": 15,
      "id": "e3a28ede",
      "metadata": {
        "id": "e3a28ede"
      },
      "outputs": [],
      "source": [
        "gppd.add_constrs(m, w, gp.GRB.EQUAL, x - s)\n",
        "m.update()"
      ]
    },
    {
      "cell_type": "markdown",
      "id": "0614c0c1",
      "metadata": {
        "id": "0614c0c1"
      },
      "source": [
        "### 添加预测需求的约束\n",
        "首先，我们创建预测器约束的完整输入。我们将 `p` 变量和固定特征连接起来。请记住，预测的价格是地区、年份和旺季/淡季的函数。"
      ]
    },
    {
      "cell_type": "code",
      "execution_count": 16,
      "id": "efaf9cea",
      "metadata": {
        "colab": {
          "base_uri": "https://localhost:8080/",
          "height": 300
        },
        "id": "efaf9cea",
        "outputId": "873bc699-affb-4c07-ba2f-3696288dff56"
      },
      "outputs": [
        {
          "data": {
            "text/html": [
              "<div>\n",
              "<style scoped>\n",
              "    .dataframe tbody tr th:only-of-type {\n",
              "        vertical-align: middle;\n",
              "    }\n",
              "\n",
              "    .dataframe tbody tr th {\n",
              "        vertical-align: top;\n",
              "    }\n",
              "\n",
              "    .dataframe thead th {\n",
              "        text-align: right;\n",
              "    }\n",
              "</style>\n",
              "<table border=\"1\" class=\"dataframe\">\n",
              "  <thead>\n",
              "    <tr style=\"text-align: right;\">\n",
              "      <th></th>\n",
              "      <th>region</th>\n",
              "      <th>price</th>\n",
              "      <th>year</th>\n",
              "      <th>peak</th>\n",
              "    </tr>\n",
              "  </thead>\n",
              "  <tbody>\n",
              "    <tr>\n",
              "      <th>Great_Lakes</th>\n",
              "      <td>Great_Lakes</td>\n",
              "      <td>&lt;gurobi.Var price[Great_Lakes]&gt;</td>\n",
              "      <td>2022</td>\n",
              "      <td>1</td>\n",
              "    </tr>\n",
              "    <tr>\n",
              "      <th>Midsouth</th>\n",
              "      <td>Midsouth</td>\n",
              "      <td>&lt;gurobi.Var price[Midsouth]&gt;</td>\n",
              "      <td>2022</td>\n",
              "      <td>1</td>\n",
              "    </tr>\n",
              "    <tr>\n",
              "      <th>Northeast</th>\n",
              "      <td>Northeast</td>\n",
              "      <td>&lt;gurobi.Var price[Northeast]&gt;</td>\n",
              "      <td>2022</td>\n",
              "      <td>1</td>\n",
              "    </tr>\n",
              "    <tr>\n",
              "      <th>Northern_New_England</th>\n",
              "      <td>Northern_New_England</td>\n",
              "      <td>&lt;gurobi.Var price[Northern_New_England]&gt;</td>\n",
              "      <td>2022</td>\n",
              "      <td>1</td>\n",
              "    </tr>\n",
              "    <tr>\n",
              "      <th>SouthCentral</th>\n",
              "      <td>SouthCentral</td>\n",
              "      <td>&lt;gurobi.Var price[SouthCentral]&gt;</td>\n",
              "      <td>2022</td>\n",
              "      <td>1</td>\n",
              "    </tr>\n",
              "    <tr>\n",
              "      <th>Southeast</th>\n",
              "      <td>Southeast</td>\n",
              "      <td>&lt;gurobi.Var price[Southeast]&gt;</td>\n",
              "      <td>2022</td>\n",
              "      <td>1</td>\n",
              "    </tr>\n",
              "    <tr>\n",
              "      <th>West</th>\n",
              "      <td>West</td>\n",
              "      <td>&lt;gurobi.Var price[West]&gt;</td>\n",
              "      <td>2022</td>\n",
              "      <td>1</td>\n",
              "    </tr>\n",
              "    <tr>\n",
              "      <th>Plains</th>\n",
              "      <td>Plains</td>\n",
              "      <td>&lt;gurobi.Var price[Plains]&gt;</td>\n",
              "      <td>2022</td>\n",
              "      <td>1</td>\n",
              "    </tr>\n",
              "  </tbody>\n",
              "</table>\n",
              "</div>"
            ],
            "text/plain": [
              "                                    region  \\\n",
              "Great_Lakes                    Great_Lakes   \n",
              "Midsouth                          Midsouth   \n",
              "Northeast                        Northeast   \n",
              "Northern_New_England  Northern_New_England   \n",
              "SouthCentral                  SouthCentral   \n",
              "Southeast                        Southeast   \n",
              "West                                  West   \n",
              "Plains                              Plains   \n",
              "\n",
              "                                                         price  year  peak  \n",
              "Great_Lakes                    <gurobi.Var price[Great_Lakes]>  2022     1  \n",
              "Midsouth                          <gurobi.Var price[Midsouth]>  2022     1  \n",
              "Northeast                        <gurobi.Var price[Northeast]>  2022     1  \n",
              "Northern_New_England  <gurobi.Var price[Northern_New_England]>  2022     1  \n",
              "SouthCentral                  <gurobi.Var price[SouthCentral]>  2022     1  \n",
              "Southeast                        <gurobi.Var price[Southeast]>  2022     1  \n",
              "West                                  <gurobi.Var price[West]>  2022     1  \n",
              "Plains                              <gurobi.Var price[Plains]>  2022     1  "
            ]
          },
          "execution_count": 16,
          "metadata": {},
          "output_type": "execute_result"
        }
      ],
      "source": [
        "m_feats = pd.concat([feats, p], axis=1)[[\"region\", \"price\", \"year\", \"peak\"]]\n",
        "m_feats"
      ]
    },
    {
      "cell_type": "markdown",
      "id": "8f2dc88f",
      "metadata": {
        "id": "8f2dc88f"
      },
      "source": [
        "现在，我们只需调用\n",
        "[add_predictor_constr](https://gurobi-machinelearning.readthedocs.io/en/stable/api/AbstractPredictorConstr.html#gurobi_ml.add_predictor_constr)\n",
        "来将连接特征和需求的约束插入到模型 `m` 中。\n",
        "\n",
        "重要的是要保持上述列的顺序，否则您会看到错误。这些列必须与训练数据的顺序相同。"
      ]
    },
    {
      "cell_type": "code",
      "execution_count": 17,
      "id": "200c4cb9",
      "metadata": {
        "colab": {
          "base_uri": "https://localhost:8080/"
        },
        "id": "200c4cb9",
        "outputId": "7b6fc0b8-b103-4179-a35d-f3b10c34471e"
      },
      "outputs": [
        {
          "name": "stdout",
          "output_type": "stream",
          "text": [
            "Model for pipe:\n",
            "88 variables\n",
            "24 constraints\n",
            "Input has shape (8, 4)\n",
            "Output has shape (8, 1)\n",
            "\n",
            "Pipeline has 2 steps:\n",
            "\n",
            "--------------------------------------------------------------------------------\n",
            "Step            Output Shape    Variables              Constraints              \n",
            "                                                Linear    Quadratic      General\n",
            "================================================================================\n",
            "col_trans            (8, 10)           24           16            0            0\n",
            "\n",
            "lin_reg               (8, 1)           64            8            0            0\n",
            "\n",
            "--------------------------------------------------------------------------------\n"
          ]
        }
      ],
      "source": [
        "pred_constr = add_predictor_constr(m, reg, m_feats, d)\n",
        "pred_constr.print_stats()"
      ]
    },
    {
      "cell_type": "code",
      "execution_count": 18,
      "id": "frjbAbjDNwr1",
      "metadata": {
        "colab": {
          "base_uri": "https://localhost:8080/"
        },
        "id": "frjbAbjDNwr1",
        "outputId": "14918634-849b-4c09-dc6f-c8783c8c12cf"
      },
      "outputs": [
        {
          "data": {
            "text/plain": [
              "<gurobi.Model Continuous instance Avocado_Price_Allocation: 49 constrs, 128 vars, Parameter changes: Username=(user-defined), LicenseID=2601452>"
            ]
          },
          "execution_count": 18,
          "metadata": {},
          "output_type": "execute_result"
        }
      ],
      "source": [
        "m"
      ]
    },
    {
      "cell_type": "markdown",
      "id": "5e15e4ae",
      "metadata": {
        "id": "5e15e4ae"
      },
      "source": [
        "### 设置目标函数\n",
        "\n",
        "目标是最大化**净收入**，即价格与数量的乘积减去所有地区的成本。该模型假设采购成本是固定的（因为数量 $B$ 是固定的），因此不纳入考虑。\n",
        "\n",
        "使用已定义的决策变量，目标函数可以写成如下形式。\n",
        "\n",
        "\\begin{align} \\textrm{最大化} &  \\sum_{r}  (p_r * s_r - c_{waste} * w_r -\n",
        "c^r_{transport} * x_r)& \\end{align}"
      ]
    },
    {
      "cell_type": "code",
      "execution_count": 19,
      "id": "703ff1b2",
      "metadata": {
        "id": "703ff1b2"
      },
      "outputs": [],
      "source": [
        "m.setObjective((p * s).sum() - c_waste * w.sum() - (c_transport * x).sum(),\n",
        "               gp.GRB.MAXIMIZE)"
      ]
    },
    {
      "cell_type": "markdown",
      "id": "cadd1721",
      "metadata": {
        "id": "cadd1721"
      },
      "source": [
        "### 启动求解器\n",
        "\n",
        "在我们的模型中，由于我们取价格和预测销量的乘积，而这两者都是变量，因此目标函数是**二次的**。最大化二次项被称为**非凸**，\n",
        "我们通过将 [Gurobi NonConvex 参数](https://www.gurobi.com/documentation/10.0/refman/nonconvex.html) 设置为 $2$ 来指定这一点。"
      ]
    },
    {
      "cell_type": "code",
      "execution_count": 20,
      "id": "06a42223",
      "metadata": {
        "colab": {
          "base_uri": "https://localhost:8080/"
        },
        "id": "06a42223",
        "outputId": "761a0098-43eb-41a3-c17b-a119474e3599"
      },
      "outputs": [
        {
          "name": "stdout",
          "output_type": "stream",
          "text": [
            "Set parameter NonConvex to value 2\n",
            "Gurobi Optimizer version 12.0.0 build v12.0.0rc1 (win64 - Windows 11.0 (22631.2))\n",
            "\n",
            "CPU model: Intel(R) Core(TM) Ultra 5 125H, instruction set [SSE2|AVX|AVX2]\n",
            "Thread count: 14 physical cores, 18 logical processors, using up to 18 threads\n",
            "\n",
            "Non-default parameters:\n",
            "NonConvex  2\n",
            "\n",
            "Optimize a model with 49 rows, 128 columns and 184 nonzeros\n",
            "Model fingerprint: 0xab60f9f8\n",
            "Model has 8 quadratic objective terms\n",
            "Coefficient statistics:\n",
            "  Matrix range     [2e-01, 3e+00]\n",
            "  Objective range  [1e-01, 5e-01]\n",
            "  QObjective range [2e+00, 2e+00]\n",
            "  Bounds range     [2e-01, 2e+03]\n",
            "  RHS range        [1e+00, 2e+03]\n",
            "Presolve removed 24 rows and 96 columns\n",
            "\n",
            "Continuous model is non-convex -- solving as a MIP\n",
            "\n",
            "Presolve removed 32 rows and 104 columns\n",
            "Presolve time: 0.00s\n",
            "Presolved: 34 rows, 34 columns, 81 nonzeros\n",
            "Presolved model has 8 bilinear constraint(s)\n",
            "Variable types: 34 continuous, 0 integer (0 binary)\n",
            "Found heuristic solution: objective 41.1671165\n",
            "\n",
            "Root relaxation: objective 7.790397e+01, 29 iterations, 0.00 seconds (0.00 work units)\n",
            "\n",
            "    Nodes    |    Current Node    |     Objective Bounds      |     Work\n",
            " Expl Unexpl |  Obj  Depth IntInf | Incumbent    BestBd   Gap | It/Node Time\n",
            "\n",
            "     0     0   77.90397    0    8   41.16712   77.90397  89.2%     -    0s\n",
            "     0     0   45.02170    0    8   41.16712   45.02170  9.36%     -    0s\n",
            "     0     0   42.73811    0    8   41.16712   42.73811  3.82%     -    0s\n",
            "     0     0   41.56071    0    8   41.16712   41.56071  0.96%     -    0s\n",
            "     0     0   41.31858    0    8   41.16712   41.31858  0.37%     -    0s\n",
            "     0     0   41.26949    0    8   41.16712   41.26949  0.25%     -    0s\n",
            "     0     0   41.26748    0    8   41.16712   41.26748  0.24%     -    0s\n",
            "     0     0   41.18333    0    8   41.16712   41.18333  0.04%     -    0s\n",
            "     0     0   41.18302    0    7   41.16712   41.18302  0.04%     -    0s\n",
            "     0     2   41.18302    0    7   41.16712   41.18302  0.04%     -    0s\n",
            "H  144    49                      41.1671165   41.17865  0.03%   1.5    0s\n",
            "\n",
            "Cutting planes:\n",
            "  RLT: 15\n",
            "\n",
            "Explored 2615 nodes (2587 simplex iterations) in 0.14 seconds (0.01 work units)\n",
            "Thread count was 18 (of 18 available processors)\n",
            "\n",
            "Solution count 1: 41.1671 \n",
            "\n",
            "Optimal solution found (tolerance 1.00e-04)\n",
            "Best objective 4.116711649734e+01, best bound 4.117112291937e+01, gap 0.0097%\n"
          ]
        }
      ],
      "source": [
        "m.Params.NonConvex = 2\n",
        "m.optimize()"
      ]
    },
    {
      "cell_type": "markdown",
      "id": "b3474030",
      "metadata": {
        "id": "b3474030"
      },
      "source": [
        "求解器在不到一秒的时间内解决了优化问题。让我们现在通过将最优解存储在 Pandas 数据框中来分析它。"
      ]
    },
    {
      "cell_type": "code",
      "execution_count": 21,
      "id": "ec0d106b",
      "metadata": {
        "colab": {
          "base_uri": "https://localhost:8080/",
          "height": 335
        },
        "id": "ec0d106b",
        "outputId": "8e11f057-dbc6-4e3e-d0d7-746a0872da55"
      },
      "outputs": [
        {
          "name": "stdout",
          "output_type": "stream",
          "text": [
            "\n",
            " The optimal net revenue: $41.167116 million\n"
          ]
        },
        {
          "data": {
            "text/html": [
              "<div>\n",
              "<style scoped>\n",
              "    .dataframe tbody tr th:only-of-type {\n",
              "        vertical-align: middle;\n",
              "    }\n",
              "\n",
              "    .dataframe tbody tr th {\n",
              "        vertical-align: top;\n",
              "    }\n",
              "\n",
              "    .dataframe thead th {\n",
              "        text-align: right;\n",
              "    }\n",
              "</style>\n",
              "<table border=\"1\" class=\"dataframe\">\n",
              "  <thead>\n",
              "    <tr style=\"text-align: right;\">\n",
              "      <th></th>\n",
              "      <th>Price</th>\n",
              "      <th>Allocated</th>\n",
              "      <th>Sold</th>\n",
              "      <th>Wasted</th>\n",
              "      <th>Pred_demand</th>\n",
              "    </tr>\n",
              "  </thead>\n",
              "  <tbody>\n",
              "    <tr>\n",
              "      <th>Great_Lakes</th>\n",
              "      <td>1.6139</td>\n",
              "      <td>3.5566</td>\n",
              "      <td>3.5566</td>\n",
              "      <td>0.0000</td>\n",
              "      <td>3.5566</td>\n",
              "    </tr>\n",
              "    <tr>\n",
              "      <th>Midsouth</th>\n",
              "      <td>1.5088</td>\n",
              "      <td>6.1686</td>\n",
              "      <td>3.5454</td>\n",
              "      <td>2.6231</td>\n",
              "      <td>3.5454</td>\n",
              "    </tr>\n",
              "    <tr>\n",
              "      <th>Northeast</th>\n",
              "      <td>1.9890</td>\n",
              "      <td>4.1629</td>\n",
              "      <td>4.1629</td>\n",
              "      <td>0.0000</td>\n",
              "      <td>4.1629</td>\n",
              "    </tr>\n",
              "    <tr>\n",
              "      <th>Northern_New_England</th>\n",
              "      <td>1.4412</td>\n",
              "      <td>0.9180</td>\n",
              "      <td>0.9180</td>\n",
              "      <td>0.0000</td>\n",
              "      <td>0.9180</td>\n",
              "    </tr>\n",
              "    <tr>\n",
              "      <th>SouthCentral</th>\n",
              "      <td>2.0027</td>\n",
              "      <td>4.4135</td>\n",
              "      <td>4.4135</td>\n",
              "      <td>0.0000</td>\n",
              "      <td>4.4135</td>\n",
              "    </tr>\n",
              "    <tr>\n",
              "      <th>Southeast</th>\n",
              "      <td>1.6964</td>\n",
              "      <td>5.5328</td>\n",
              "      <td>3.9588</td>\n",
              "      <td>1.5740</td>\n",
              "      <td>3.9588</td>\n",
              "    </tr>\n",
              "    <tr>\n",
              "      <th>West</th>\n",
              "      <td>2.1542</td>\n",
              "      <td>7.0820</td>\n",
              "      <td>4.9677</td>\n",
              "      <td>2.1143</td>\n",
              "      <td>4.9677</td>\n",
              "    </tr>\n",
              "    <tr>\n",
              "      <th>Plains</th>\n",
              "      <td>1.1521</td>\n",
              "      <td>3.1656</td>\n",
              "      <td>2.7593</td>\n",
              "      <td>0.4063</td>\n",
              "      <td>2.7593</td>\n",
              "    </tr>\n",
              "  </tbody>\n",
              "</table>\n",
              "</div>"
            ],
            "text/plain": [
              "                       Price  Allocated    Sold  Wasted  Pred_demand\n",
              "Great_Lakes           1.6139     3.5566  3.5566  0.0000       3.5566\n",
              "Midsouth              1.5088     6.1686  3.5454  2.6231       3.5454\n",
              "Northeast             1.9890     4.1629  4.1629  0.0000       4.1629\n",
              "Northern_New_England  1.4412     0.9180  0.9180  0.0000       0.9180\n",
              "SouthCentral          2.0027     4.4135  4.4135  0.0000       4.4135\n",
              "Southeast             1.6964     5.5328  3.9588  1.5740       3.9588\n",
              "West                  2.1542     7.0820  4.9677  2.1143       4.9677\n",
              "Plains                1.1521     3.1656  2.7593  0.4063       2.7593"
            ]
          },
          "execution_count": 21,
          "metadata": {},
          "output_type": "execute_result"
        }
      ],
      "source": [
        "solution = pd.DataFrame(index=regions)\n",
        "\n",
        "solution[\"Price\"] = p.gppd.X\n",
        "solution[\"Allocated\"] = x.gppd.X\n",
        "solution[\"Sold\"] = s.gppd.X\n",
        "solution[\"Wasted\"] = w.gppd.X\n",
        "solution[\"Pred_demand\"] = d.gppd.X\n",
        "\n",
        "opt_revenue = m.ObjVal\n",
        "print(\"\\n The optimal net revenue: $%f million\" % opt_revenue)\n",
        "solution.round(4)"
      ]
    },
    {
      "cell_type": "markdown",
      "id": "34279917",
      "metadata": {
        "id": "34279917"
      },
      "source": [
        "我们还可以检查 Gurobi 解对回归模型的估计误差。"
      ]
    },
    {
      "cell_type": "code",
      "execution_count": 22,
      "id": "353149d2",
      "metadata": {
        "colab": {
          "base_uri": "https://localhost:8080/"
        },
        "id": "353149d2",
        "outputId": "9e353c91-ccdd-4db1-da24-18814aad3f87"
      },
      "outputs": [
        {
          "name": "stdout",
          "output_type": "stream",
          "text": [
            "Maximum error in approximating the regression 8.88178e-16\n"
          ]
        }
      ],
      "source": [
        "print(\n",
        "    \"Maximum error in approximating the regression {:.6}\".format(\n",
        "        np.max(pred_constr.get_error())\n",
        "    )\n",
        ")"
      ]
    },
    {
      "cell_type": "markdown",
      "id": "c3b4a665",
      "metadata": {
        "id": "c3b4a665"
      },
      "source": [
        "这是对使用 Gurobi Machine Learning 包的入门介绍。要了解更多关于这个示例的信息，请参见 [Github 上的价格优化示例](https://github.com/Gurobi/modeling-examples/tree/master/price_optimization)，\n",
        "以及如何以交互方式使用该模型。"
      ]
    },
    {
      "cell_type": "markdown",
      "id": "bc9fbba6",
      "metadata": {
        "id": "bc9fbba6",
        "nbsphinx": "hidden"
      },
      "source": [
        "Copyright © 2023 Gurobi Optimization, LLC"
      ]
    }
  ],
  "metadata": {
    "colab": {
      "provenance": []
    },
    "jupytext": {
      "formats": "ipynb///ipynb,myst///md:myst"
    },
    "kernelspec": {
      "display_name": "Python 3",
      "language": "python",
      "name": "python3"
    },
    "language_info": {
      "codemirror_mode": {
        "name": "ipython",
        "version": 3
      },
      "file_extension": ".py",
      "mimetype": "text/x-python",
      "name": "python",
      "nbconvert_exporter": "python",
      "pygments_lexer": "ipython3",
      "version": "3.12.2"
    },
    "license": {
      "full_text": "# Copyright © 2022 Gurobi Optimization, LLC\n#\n# Licensed under the Apache License, Version 2.0 (the \"License\");\n# you may not use this file except in compliance with the License.\n# You may obtain a copy of the License at\n#\n#     http://www.apache.org/licenses/LICENSE-2.0\n#\n# Unless required by applicable law or agreed to in writing, software\n# distributed under the License is distributed on an \"AS IS\" BASIS,\n# WITHOUT WARRANTIES OR CONDITIONS OF ANY KIND, either express or implied.\n# See the License for the specific language governing permissions and\n# limitations under the License.\n# =============================================================================="
    }
  },
  "nbformat": 4,
  "nbformat_minor": 5
}
