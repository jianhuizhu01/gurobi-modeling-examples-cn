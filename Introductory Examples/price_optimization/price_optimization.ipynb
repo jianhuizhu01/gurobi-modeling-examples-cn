{
 "cells": [
  {
   "cell_type": "markdown",
   "id": "7f7d69f9",
   "metadata": {},
   "source": [
    "Copyright © 2022 Gurobi Optimization, LLC\n",
    "\n",
    "# 多少钱合适? 使用数学优化进行牛油果定价和供应\n",
    "\n",
    "2017年3月的一篇[Food Network文章](https://www.foodnetwork.com/fn-dish/news/2018/3/avocado-unseats-banana-as-america-s-top-fruit-import-by-value)宣称,\"牛油果取代香蕉成为美国进口水果第一名。\"这个说法不够完整且存在争议,原因不仅仅在于牛油果是否属于水果。牛油果价格昂贵。\n",
    "\n",
    "作为供应商,设定合适的牛油果价格需要权衡。\n",
    "价格太高会失去客户。价格太低则无法盈利。\n",
    "有了好的数据支持,牛油果的定价和供应问题为展示优化和数据科学的力量提供了很好的机会。\n",
    "\n",
    "俗话说,生活给了你牛油果,就做成鳄梨酱。\n",
    "就像完美的鳄梨酱需要适量的洋葱、柠檬和香料,找到最佳的牛油果价格需要描述性、预测性和规范性分析的恰当组合。\n",
    "\n",
    "|<img src=\"avocado_image_grocery.jpeg\" width=\"500\" align=\"center\">| \n",
    "|:--:|\n",
    "| <b>牛油果:杂货店的必备区。图片来源:[New York Post](https://nypost.com/2022/02/15/us-will-halt-mexico-avocado-imports-as-long-as-necessary/) </b>| \n",
    "\n",
    "\n",
    "**目标**: 开发一个数据科学流程来为牛油果定价和分销以实现收入最大化。\n",
    "\n",
    "这个笔记本将引导完成一个以数学优化模型为结果的决策流程。\n",
    "分为三个阶段:\n",
    "- 首先,了解数据集并推断销售量、价格、地区和季节性趋势等类别之间的关系。\n",
    "- 其次,建立一个预测模型,根据价格、地区、年份和季节性来预测牛油果的需求。\n",
    "- 第三,设计一个优化问题,在考虑浪费和运输成本的同时,设定最佳价格和供应量以实现净收入最大化。\n"
   ]
  },
  {
   "cell_type": "markdown",
   "id": "2e5dc427",
   "metadata": {},
   "source": [
    "## 加载包和数据集\n",
    "\n",
    "我们使用[Hass牛油果协会](https://hassavocadoboard.com/)(HAB)提供的真实销售数据,该协会的目标是\"让牛油果成为美国最受欢迎的水果\"。该数据集包含了多年来牛油果市场价格和销售的综合信息。\n",
    "\n",
    "我们现在将加载以下包来分析和可视化数据。"
   ]
  },
  {
   "cell_type": "code",
   "execution_count": null,
   "id": "d0d518e0-8f9f-465e-a8da-3b66c1e3761e",
   "metadata": {},
   "outputs": [],
   "source": [
    "# %pip install gurobipy"
   ]
  },
  {
   "cell_type": "code",
   "execution_count": 1,
   "id": "3024295a",
   "metadata": {},
   "outputs": [],
   "source": [
    "import pandas as pd\n",
    "import warnings\n",
    "warnings.filterwarnings(\"ignore\")\n",
    "import matplotlib.pyplot as plt\n",
    "from sklearn import tree \n",
    "import seaborn as sns\n",
    "import sklearn \n",
    "import numpy as np  "
   ]
  },
  {
   "cell_type": "markdown",
   "id": "4537e1ae",
   "metadata": {},
   "source": [
    "HAB的数据集包含2019-2022年的销售数据。此数据通过[Kaggle](https://www.kaggle.com/datasets/timmate/avocado-prices-2020)上HAB的早期下载数据(2015-2018年销售数据)进行了补充。\n",
    "\n",
    "数据集中的每一行是按地区和牛油果类型分类的每周牛油果销售数量和每周平均价格。有两种类型的牛油果:传统和有机。在本笔记本中,我们将只考虑传统牛油果。\n",
    "有八个大区域,即五大湖区、中南部、东北部、北新英格兰、南中部、东南部、西部和平原区。\n",
    "\n",
    "现在,让我们加载数据并存储到Pandas数据框中。"
   ]
  },
  {
   "cell_type": "code",
   "execution_count": 2,
   "id": "d7ebd6bb",
   "metadata": {},
   "outputs": [
    {
     "data": {
      "text/html": [
       "<div>\n",
       "<style scoped>\n",
       "    .dataframe tbody tr th:only-of-type {\n",
       "        vertical-align: middle;\n",
       "    }\n",
       "\n",
       "    .dataframe tbody tr th {\n",
       "        vertical-align: top;\n",
       "    }\n",
       "\n",
       "    .dataframe thead th {\n",
       "        text-align: right;\n",
       "    }\n",
       "</style>\n",
       "<table border=\"1\" class=\"dataframe\">\n",
       "  <thead>\n",
       "    <tr style=\"text-align: right;\">\n",
       "      <th></th>\n",
       "      <th>region</th>\n",
       "      <th>date</th>\n",
       "      <th>type</th>\n",
       "      <th>price</th>\n",
       "      <th>units_sold</th>\n",
       "    </tr>\n",
       "  </thead>\n",
       "  <tbody>\n",
       "    <tr>\n",
       "      <th>0</th>\n",
       "      <td>Great_Lakes</td>\n",
       "      <td>1/7/19 0:00</td>\n",
       "      <td>Conventional</td>\n",
       "      <td>1.106743</td>\n",
       "      <td>3812441.96</td>\n",
       "    </tr>\n",
       "    <tr>\n",
       "      <th>1</th>\n",
       "      <td>Great_Lakes</td>\n",
       "      <td>1/7/19 0:00</td>\n",
       "      <td>Organic</td>\n",
       "      <td>1.371280</td>\n",
       "      <td>275987.52</td>\n",
       "    </tr>\n",
       "    <tr>\n",
       "      <th>2</th>\n",
       "      <td>Great_Lakes</td>\n",
       "      <td>1/13/19 0:00</td>\n",
       "      <td>Conventional</td>\n",
       "      <td>1.063457</td>\n",
       "      <td>3843318.68</td>\n",
       "    </tr>\n",
       "    <tr>\n",
       "      <th>3</th>\n",
       "      <td>Great_Lakes</td>\n",
       "      <td>1/13/19 0:00</td>\n",
       "      <td>Organic</td>\n",
       "      <td>1.493384</td>\n",
       "      <td>244991.95</td>\n",
       "    </tr>\n",
       "    <tr>\n",
       "      <th>4</th>\n",
       "      <td>Great_Lakes</td>\n",
       "      <td>1/20/19 0:00</td>\n",
       "      <td>Conventional</td>\n",
       "      <td>1.049931</td>\n",
       "      <td>4587957.69</td>\n",
       "    </tr>\n",
       "    <tr>\n",
       "      <th>...</th>\n",
       "      <td>...</td>\n",
       "      <td>...</td>\n",
       "      <td>...</td>\n",
       "      <td>...</td>\n",
       "      <td>...</td>\n",
       "    </tr>\n",
       "    <tr>\n",
       "      <th>6799</th>\n",
       "      <td>West</td>\n",
       "      <td>11/18/18</td>\n",
       "      <td>Organic</td>\n",
       "      <td>1.610000</td>\n",
       "      <td>334096.14</td>\n",
       "    </tr>\n",
       "    <tr>\n",
       "      <th>6800</th>\n",
       "      <td>West</td>\n",
       "      <td>11/25/18</td>\n",
       "      <td>Conventional</td>\n",
       "      <td>1.240000</td>\n",
       "      <td>3260102.17</td>\n",
       "    </tr>\n",
       "    <tr>\n",
       "      <th>6801</th>\n",
       "      <td>West</td>\n",
       "      <td>11/25/18</td>\n",
       "      <td>Organic</td>\n",
       "      <td>1.730000</td>\n",
       "      <td>268362.34</td>\n",
       "    </tr>\n",
       "    <tr>\n",
       "      <th>6802</th>\n",
       "      <td>West</td>\n",
       "      <td>12/2/18</td>\n",
       "      <td>Conventional</td>\n",
       "      <td>1.200000</td>\n",
       "      <td>4594863.86</td>\n",
       "    </tr>\n",
       "    <tr>\n",
       "      <th>6803</th>\n",
       "      <td>West</td>\n",
       "      <td>12/2/18</td>\n",
       "      <td>Organic</td>\n",
       "      <td>1.620000</td>\n",
       "      <td>268969.03</td>\n",
       "    </tr>\n",
       "  </tbody>\n",
       "</table>\n",
       "<p>6804 rows × 5 columns</p>\n",
       "</div>"
      ],
      "text/plain": [
       "           region          date          type     price  units_sold\n",
       "0     Great_Lakes   1/7/19 0:00  Conventional  1.106743  3812441.96\n",
       "1     Great_Lakes   1/7/19 0:00       Organic  1.371280   275987.52\n",
       "2     Great_Lakes  1/13/19 0:00  Conventional  1.063457  3843318.68\n",
       "3     Great_Lakes  1/13/19 0:00       Organic  1.493384   244991.95\n",
       "4     Great_Lakes  1/20/19 0:00  Conventional  1.049931  4587957.69\n",
       "...           ...           ...           ...       ...         ...\n",
       "6799         West      11/18/18       Organic  1.610000   334096.14\n",
       "6800         West      11/25/18  Conventional  1.240000  3260102.17\n",
       "6801         West      11/25/18       Organic  1.730000   268362.34\n",
       "6802         West       12/2/18  Conventional  1.200000  4594863.86\n",
       "6803         West       12/2/18       Organic  1.620000   268969.03\n",
       "\n",
       "[6804 rows x 5 columns]"
      ]
     },
     "execution_count": 2,
     "metadata": {},
     "output_type": "execute_result"
    }
   ],
   "source": [
    "# avocado = pd.read_csv('https://raw.githubusercontent.com/Gurobi/modeling-examples/master/price_optimization/HABdata_2019_2022.csv') # dataset downloaded directly from HAB\n",
    "avocado = pd.read_csv('HABdata_2019_2022.csv') # dataset downloaded directly from HAB\n",
    "# avocado_old = pd.read_csv('https://raw.githubusercontent.com/Gurobi/modeling-examples/master/price_optimization/kaggledata_till2018.csv') # dataset downloaded from Kaggle\n",
    "avocado_old = pd.read_csv('kaggledata_till2018.csv') # dataset downloaded from Kaggle\n",
    "avocado = pd.concat([avocado, avocado_old], ignore_index=True)\n",
    "avocado"
   ]
  },
  {
   "cell_type": "markdown",
   "id": "68efc9c1",
   "metadata": {},
   "source": [
    "## 准备数据集\n",
    "\n",
    "我们现在将准备数据用于销售预测。为数据框添加年份和季节性的新列。让2015年至2022年的每一年按年份递增顺序分别赋予0到7的索引。我们将2月到7月定义为旺季。这些月份是根据趋势的可视化检查来设定的,但你可以尝试设置其他月份。"
   ]
  },
  {
   "cell_type": "code",
   "execution_count": 3,
   "id": "cd09a61a",
   "metadata": {},
   "outputs": [
    {
     "data": {
      "text/html": [
       "<div>\n",
       "<style scoped>\n",
       "    .dataframe tbody tr th:only-of-type {\n",
       "        vertical-align: middle;\n",
       "    }\n",
       "\n",
       "    .dataframe tbody tr th {\n",
       "        vertical-align: top;\n",
       "    }\n",
       "\n",
       "    .dataframe thead th {\n",
       "        text-align: right;\n",
       "    }\n",
       "</style>\n",
       "<table border=\"1\" class=\"dataframe\">\n",
       "  <thead>\n",
       "    <tr style=\"text-align: right;\">\n",
       "      <th></th>\n",
       "      <th>date</th>\n",
       "      <th>units_sold</th>\n",
       "      <th>price</th>\n",
       "      <th>region</th>\n",
       "      <th>year</th>\n",
       "      <th>month</th>\n",
       "      <th>year_index</th>\n",
       "      <th>peak</th>\n",
       "    </tr>\n",
       "  </thead>\n",
       "  <tbody>\n",
       "    <tr>\n",
       "      <th>0</th>\n",
       "      <td>2015-01-04</td>\n",
       "      <td>3.382800</td>\n",
       "      <td>1.020000</td>\n",
       "      <td>Great_Lakes</td>\n",
       "      <td>2015</td>\n",
       "      <td>1</td>\n",
       "      <td>0</td>\n",
       "      <td>0</td>\n",
       "    </tr>\n",
       "    <tr>\n",
       "      <th>1</th>\n",
       "      <td>2015-01-04</td>\n",
       "      <td>2.578275</td>\n",
       "      <td>1.100000</td>\n",
       "      <td>Midsouth</td>\n",
       "      <td>2015</td>\n",
       "      <td>1</td>\n",
       "      <td>0</td>\n",
       "      <td>0</td>\n",
       "    </tr>\n",
       "    <tr>\n",
       "      <th>2</th>\n",
       "      <td>2015-01-04</td>\n",
       "      <td>5.794411</td>\n",
       "      <td>0.890000</td>\n",
       "      <td>West</td>\n",
       "      <td>2015</td>\n",
       "      <td>1</td>\n",
       "      <td>0</td>\n",
       "      <td>0</td>\n",
       "    </tr>\n",
       "    <tr>\n",
       "      <th>3</th>\n",
       "      <td>2015-01-04</td>\n",
       "      <td>3.204112</td>\n",
       "      <td>0.980000</td>\n",
       "      <td>Southeast</td>\n",
       "      <td>2015</td>\n",
       "      <td>1</td>\n",
       "      <td>0</td>\n",
       "      <td>0</td>\n",
       "    </tr>\n",
       "    <tr>\n",
       "      <th>4</th>\n",
       "      <td>2015-01-04</td>\n",
       "      <td>0.321824</td>\n",
       "      <td>1.050000</td>\n",
       "      <td>Northern_New_England</td>\n",
       "      <td>2015</td>\n",
       "      <td>1</td>\n",
       "      <td>0</td>\n",
       "      <td>0</td>\n",
       "    </tr>\n",
       "    <tr>\n",
       "      <th>...</th>\n",
       "      <td>...</td>\n",
       "      <td>...</td>\n",
       "      <td>...</td>\n",
       "      <td>...</td>\n",
       "      <td>...</td>\n",
       "      <td>...</td>\n",
       "      <td>...</td>\n",
       "      <td>...</td>\n",
       "    </tr>\n",
       "    <tr>\n",
       "      <th>3397</th>\n",
       "      <td>2022-05-15</td>\n",
       "      <td>4.150433</td>\n",
       "      <td>1.269883</td>\n",
       "      <td>SouthCentral</td>\n",
       "      <td>2022</td>\n",
       "      <td>5</td>\n",
       "      <td>7</td>\n",
       "      <td>1</td>\n",
       "    </tr>\n",
       "    <tr>\n",
       "      <th>3398</th>\n",
       "      <td>2022-05-15</td>\n",
       "      <td>4.668815</td>\n",
       "      <td>1.644873</td>\n",
       "      <td>Northeast</td>\n",
       "      <td>2022</td>\n",
       "      <td>5</td>\n",
       "      <td>7</td>\n",
       "      <td>1</td>\n",
       "    </tr>\n",
       "    <tr>\n",
       "      <th>3399</th>\n",
       "      <td>2022-05-15</td>\n",
       "      <td>32.745321</td>\n",
       "      <td>1.527357</td>\n",
       "      <td>Total_US</td>\n",
       "      <td>2022</td>\n",
       "      <td>5</td>\n",
       "      <td>7</td>\n",
       "      <td>1</td>\n",
       "    </tr>\n",
       "    <tr>\n",
       "      <th>3400</th>\n",
       "      <td>2022-05-15</td>\n",
       "      <td>3.542902</td>\n",
       "      <td>1.514583</td>\n",
       "      <td>Midsouth</td>\n",
       "      <td>2022</td>\n",
       "      <td>5</td>\n",
       "      <td>7</td>\n",
       "      <td>1</td>\n",
       "    </tr>\n",
       "    <tr>\n",
       "      <th>3401</th>\n",
       "      <td>2022-05-15</td>\n",
       "      <td>1.560202</td>\n",
       "      <td>1.541429</td>\n",
       "      <td>Plains</td>\n",
       "      <td>2022</td>\n",
       "      <td>5</td>\n",
       "      <td>7</td>\n",
       "      <td>1</td>\n",
       "    </tr>\n",
       "  </tbody>\n",
       "</table>\n",
       "<p>3402 rows × 8 columns</p>\n",
       "</div>"
      ],
      "text/plain": [
       "           date  units_sold     price                region  year  month  \\\n",
       "0    2015-01-04    3.382800  1.020000           Great_Lakes  2015      1   \n",
       "1    2015-01-04    2.578275  1.100000              Midsouth  2015      1   \n",
       "2    2015-01-04    5.794411  0.890000                  West  2015      1   \n",
       "3    2015-01-04    3.204112  0.980000             Southeast  2015      1   \n",
       "4    2015-01-04    0.321824  1.050000  Northern_New_England  2015      1   \n",
       "...         ...         ...       ...                   ...   ...    ...   \n",
       "3397 2022-05-15    4.150433  1.269883          SouthCentral  2022      5   \n",
       "3398 2022-05-15    4.668815  1.644873             Northeast  2022      5   \n",
       "3399 2022-05-15   32.745321  1.527357              Total_US  2022      5   \n",
       "3400 2022-05-15    3.542902  1.514583              Midsouth  2022      5   \n",
       "3401 2022-05-15    1.560202  1.541429                Plains  2022      5   \n",
       "\n",
       "      year_index  peak  \n",
       "0              0     0  \n",
       "1              0     0  \n",
       "2              0     0  \n",
       "3              0     0  \n",
       "4              0     0  \n",
       "...          ...   ...  \n",
       "3397           7     1  \n",
       "3398           7     1  \n",
       "3399           7     1  \n",
       "3400           7     1  \n",
       "3401           7     1  \n",
       "\n",
       "[3402 rows x 8 columns]"
      ]
     },
     "execution_count": 3,
     "metadata": {},
     "output_type": "execute_result"
    }
   ],
   "source": [
    "# 为2015年至2022年的每一年添加索引\n",
    "avocado['date'] = pd.to_datetime(avocado['date'])\n",
    "avocado['year'] = pd.DatetimeIndex(avocado['date']).year\n",
    "avocado['year_index'] = avocado['year'] - 2015\n",
    "avocado = avocado.sort_values(by='date')\n",
    "\n",
    "# 定义旺季\n",
    "avocado['month'] = pd.DatetimeIndex(avocado['date']).month\n",
    "peak_months = range(2,8)        # <--------- 设置\"旺季\"的月份\n",
    "def peak_season(row):\n",
    "    return 1 if int(row['month']) in peak_months else 0  \n",
    "\n",
    "avocado['peak'] = avocado.apply(lambda row: peak_season(row), axis=1)\n",
    "\n",
    "# 将牛油果数量缩放为百万\n",
    "avocado['units_sold'] = avocado['units_sold']/1000000\n",
    "\n",
    "# 只选择传统牛油果\n",
    "avocado = avocado[avocado['type'] == 'Conventional'] \n",
    "\n",
    "avocado = avocado[['date','units_sold','price','region','year','month','year_index','peak']].reset_index(drop = True)\n",
    "\n",
    "avocado"
   ]
  },
  {
   "cell_type": "markdown",
   "id": "65bb1d21",
   "metadata": {},
   "source": [
    "## 第一部分: 观察数据趋势\n",
    "\n",
    "现在,我们将推断时间和季节性的销售趋势。为简单起见,让我们使用整个美国的数据进行分析。"
   ]
  },
  {
   "cell_type": "code",
   "execution_count": 4,
   "id": "ab0c4402",
   "metadata": {},
   "outputs": [],
   "source": [
    "df_Total_US = avocado[avocado['region']=='Total_US']"
   ]
  },
  {
   "cell_type": "markdown",
   "id": "7903d4b5",
   "metadata": {},
   "source": [
    "### 逐年销售情况"
   ]
  },
  {
   "cell_type": "code",
   "execution_count": 5,
   "id": "2ec7e699",
   "metadata": {},
   "outputs": [
    {
     "data": {
      "image/png": "[encoded data removed]",
      "text/plain": [
       "<Figure size 1000x500 with 1 Axes>"
      ]
     },
     "metadata": {},
     "output_type": "display_data"
    }
   ],
   "source": [
    "fig, axes = plt.subplots(nrows=1, ncols=1, figsize=(10, 5)) \n",
    "\n",
    "mean = df_Total_US.groupby('year')['units_sold'].mean()\n",
    "std  = df_Total_US.groupby('year')['units_sold'].std()\n",
    "axes.errorbar(mean.index, mean, xerr=0.5, yerr=2*std, linestyle='') \n",
    "axes.set_ylabel('Units Sold (millions)')\n",
    "axes.set_xlabel('Year') \n",
    " \n",
    "fig.tight_layout()"
   ]
  },
  {
   "cell_type": "markdown",
   "id": "e37ba680",
   "metadata": {},
   "source": [
    "我们可以看到,多年来销售量总体上有所增长,尽管增幅不大。2019年的下降是由于广为记载的[2019年牛油果短缺](https://abc7news.com/avocado-shortage-season-prices/5389855/)导致,使得牛油果价格[几乎翻了一倍](https://abc7news.com/avocado-shortage-season-prices/5389855/)。"
   ]
  },
  {
   "cell_type": "markdown",
   "id": "30abfba6",
   "metadata": {},
   "source": [
    "### 季节性\n",
    "\n",
    "我们现在来看看一年内的销售趋势。"
   ]
  },
  {
   "cell_type": "code",
   "execution_count": 6,
   "id": "4a594510",
   "metadata": {},
   "outputs": [
    {
     "data": {
      "image/png": "[encoded data removed]",
      "text/plain": [
       "<Figure size 1000x500 with 1 Axes>"
      ]
     },
     "metadata": {},
     "output_type": "display_data"
    }
   ],
   "source": [
    "fig, axes = plt.subplots(nrows=1, ncols=1, figsize=(10, 5)) \n",
    "\n",
    "mean = df_Total_US.groupby('month')['units_sold'].mean()\n",
    "std  = df_Total_US.groupby('month')['units_sold'].std()\n",
    " \n",
    "axes.errorbar(mean.index, mean, xerr=0.5, yerr=2*std, linestyle='') \n",
    "axes.set_ylabel('Units Sold (millions)')\n",
    "axes.set_xlabel('Month') \n",
    " \n",
    "fig.tight_layout()\n",
    " \n",
    "plt.xlabel('Month')\n",
    "axes.set_xticks(range(1,13)) \n",
    "plt.ylabel('Units sold (millions)')\n",
    "plt.show()"
   ]
  },
  {
   "cell_type": "markdown",
   "id": "c87738d0",
   "metadata": {},
   "source": [
    "我们可以看到2月超级碗和5月五月五日节期间的销售高峰。"
   ]
  },
  {
   "cell_type": "markdown",
   "id": "2e04cef1",
   "metadata": {},
   "source": [
    "### 相关性分析\n",
    "\n",
    "现在,我们将看看变量之间的相关性。\n",
    "最终目标是根据牛油果价格、年份和季节性(是否为旺季)来预测销量。"
   ]
  },
  {
   "cell_type": "code",
   "execution_count": 7,
   "id": "25729f7d",
   "metadata": {},
   "outputs": [
    {
     "data": {
      "image/png": "[encoded data removed]",
      "text/plain": [
       "<Figure size 1500x500 with 2 Axes>"
      ]
     },
     "metadata": {},
     "output_type": "display_data"
    }
   ],
   "source": [
    "fig, axes = plt.subplots(nrows=1, ncols=1, figsize=(15, 5)) \n",
    "sns.heatmap(df_Total_US[['units_sold', 'price', 'year', 'peak']].corr(),annot=True, center=0,ax=axes) \n",
    "\n",
    "axes.set_title('Correlations for conventional avocados') \n",
    "plt.show()"
   ]
  },
  {
   "cell_type": "markdown",
   "id": "fe48eecb",
   "metadata": {},
   "source": [
    "正如预期,销售数量与每个牛油果的价格呈负相关。销售数量与年份以及是否处于旺季呈正相关。"
   ]
  },
  {
   "cell_type": "markdown",
   "id": "27356cce",
   "metadata": {},
   "source": [
    "### 区域分析\n",
    "\n",
    "最后,我们将看看不同地区之间的销售差异。这将决定我们要向每个地区供应的牛油果数量。"
   ]
  },
  {
   "cell_type": "code",
   "execution_count": 8,
   "id": "081b3f31",
   "metadata": {},
   "outputs": [
    {
     "data": {
      "image/png": "[encoded data removed]",
      "text/plain": [
       "<Figure size 1000x500 with 1 Axes>"
      ]
     },
     "metadata": {},
     "output_type": "display_data"
    }
   ],
   "source": [
    "fig, axes = plt.subplots(nrows=1, ncols=1, figsize=(10, 5)) \n",
    "\n",
    "regions = ['Great_Lakes','Midsouth','Northeast','Northern_New_England','SouthCentral','Southeast','West','Plains'] \n",
    "df = avocado[avocado.region.isin(regions)]  \n",
    "\n",
    "mean = df.groupby('region')['units_sold'].mean()\n",
    "std  = df.groupby('region')['units_sold'].std() \n",
    " \n",
    "axes.errorbar(range(len(mean)), mean, xerr=0.5, yerr=2*std, linestyle='')  \n",
    "\n",
    "fig.tight_layout()\n",
    " \n",
    "plt.xlabel('Region') \n",
    "plt.xticks(range(len(mean)), pd.DataFrame(mean)['units_sold'].index,rotation=20)\n",
    "plt.ylabel('Units sold (millions)')\n",
    "plt.show()"
   ]
  },
  {
   "cell_type": "markdown",
   "id": "1d1a2716",
   "metadata": {},
   "source": [
    "显然,西海岸人更喜欢牛油果。"
   ]
  },
  {
   "cell_type": "markdown",
   "id": "b20e125e",
   "metadata": {},
   "source": [
    "## 第二部分: 预测销量\n",
    "\n",
    "第一部分观察到的趋势促使我们使用自变量(价格、年份、地区和季节性)构建销售预测模型。\n",
    "从此开始,销售数量将被称为*预测需求*。\n",
    "\n",
    "让我们现在为需求构建一个线性回归模型。\n",
    "注意地区是一个分类变量。\n",
    "线性回归可以用数学表达式表示为:\n",
    "\n",
    "$$demand = \\beta_0 + \\beta_1 * price + \\sum\\limits_{region} \\beta^{region}_3 * \\mathbb{1}(region)  +  \\beta_4 w_{year}*year +  \\beta_5  * \\mathbb{1}(peak).$$\n",
    "\n",
    "这里,$\\beta$值是需要从数据中学习的权重(或\"系数\")。\n",
    "注意,$\\mathbb{1}(region)$表示法是一个指示函数,在求和中对每个地区取值为$1$。如果我们考虑旺季,$\\mathbb{1}(peak)$的值为$1$。\n",
    "\n",
    "为验证回归模型,我们将数据集随机分为$80\\%$的训练数据和$20\\%$的测试数据,并使用scikit-learn来学习权重。"
   ]
  },
  {
   "cell_type": "code",
   "execution_count": 9,
   "id": "55a07590",
   "metadata": {},
   "outputs": [
    {
     "name": "stdout",
     "output_type": "stream",
     "text": [
      "测试集中的R^2值为 0.8982069358257863\n"
     ]
    }
   ],
   "source": [
    "import statsmodels.api as sm\n",
    "import statsmodels.formula.api as smf\n",
    "from sklearn.model_selection import train_test_split\n",
    "from sklearn.metrics import r2_score\n",
    "\n",
    "# 将数据分为训练集和测试集\n",
    "train, test = train_test_split(df, train_size=0.8, random_state=1)\n",
    "df_train = pd.DataFrame(train, columns=df.columns)\n",
    "df_test = pd.DataFrame(test, columns=df.columns)\n",
    " \n",
    "# 训练模型\n",
    "formula = 'units_sold ~ price + year_index + C(region)+ peak'\n",
    "mod = smf.ols(formula,data=df_train)\n",
    "result = mod.fit()\n",
    "result.summary()\n",
    "\n",
    "# 从测试数据获取R^2值\n",
    "y_true = df_test['units_sold']\n",
    "y_pred = result.predict(df_test)\n",
    "print(\"测试集中的R^2值为\",r2_score(y_true, y_pred))"
   ]
  },
  {
   "cell_type": "markdown",
   "id": "1e085dad",
   "metadata": {},
   "source": [
    "我们可以观察到测试集中的$R^2$值良好。我们现在将拟合权重到完整数据集。"
   ]
  },
  {
   "cell_type": "code",
   "execution_count": null,
   "id": "506c8804",
   "metadata": {},
   "outputs": [
    {
     "name": "stdout",
     "output_type": "stream",
     "text": [
      "The R^2 value in the full dataset is 0.9066729322212482\n"
     ]
    }
   ],
   "source": [
    "formula = 'units_sold ~ price + year_index + C(region)+ peak'\n",
    "mod_full = smf.ols(formula,data=df)\n",
    "result_full = mod_full.fit()\n",
    "\n",
    "y_true_full = df['units_sold']\n",
    "y_pred_full = result_full.predict(df)\n",
    "print(\"The R^2 value in the full dataset is\",r2_score(y_true_full, y_pred_full))\n",
    "\n",
    "# 获取权重，并存起来\n",
    "coef_dict = result_full.params.to_dict() \n",
    "coef_dict['C(region)[T.Great_Lakes]'] = 0 "
   ]
  },
  {
   "cell_type": "markdown",
   "id": "7cbe1cd5",
   "metadata": {},
   "source": [
    "## 第三部分: 优化牛油果的价格和供应"
   ]
  },
  {
   "cell_type": "markdown",
   "id": "214906e5",
   "metadata": {},
   "source": [
    "知道牛油果的价格如何影响需求,我们如何设定最佳的牛油果价格?\n",
    "我们不想把价格定得太高,因为那样会降低需求和销售量。同时,把价格定得太低在最大化收入时可能不是最优的。那么,最佳价格是多少呢?\n",
    "\n",
    "在分销物流方面,我们要确保各个地区有足够的牛油果。我们可以在数学优化模型中解决这些问题。\n",
    "优化模型根据**目标函数**找到**最佳解决方案**,使得解决方案满足一组**约束条件**。\n",
    "在这里,解决方案表示为一个实数或整数的向量,称为**决策变量**。\n",
    "约束条件是一组以决策变量为函数的方程或不等式。\n",
    "\n",
    "在每周开始时,假设可用的总产品数量是有限的。这个数量需要分配到各个地区,同时最大化净收入。因此,有两个关键决策 - 每个地区的牛油果价格和分配到每个地区的牛油果数量。\n",
    "\n",
    "现在,让我们定义一些用于创建模型的输入参数和符号。下标$r$将用于表示每个地区。\n",
    "\n",
    "### 输入参数\n",
    "- $R$: 地区集合,\n",
    "- $d(p,r)$: 当牛油果每个产品的价格为$p$时,地区$r\\in R$的预测需求,\n",
    "- $B$: 可分配到各个地区的牛油果总量,\n",
    "- $c_{waste}$: 每个浪费的牛油果的成本($\\$$),\n",
    "- $c^r_{transport}$: 运输到地区$r \\in R$的牛油果的成本($\\$$),\n",
    "- $a^r_{min},a^r_{max}$: 地区$r \\in R$的每个牛油果的最低和最高价格($\\$$),\n",
    "- $b^r_{min},b^r_{max}$: 分配到地区$r \\in R$的牛油果的最小和最大数量,\n",
    "\n",
    "以下代码加载Gurobi python包并初始化优化模型。\n",
    "$B$的值设为3000万个牛油果,接近数据中的平均每周供应量。\n",
    "为了说明,让我们考虑2021年的旺季。\n",
    "浪费一个牛油果的成本设为$0.10$。\n",
    "运输一个牛油果的成本根据每个地区距离南部边界的远近在$0.10$到$0.50$之间变化,大部分牛油果供应来自[南部边界](https://www.britannica.com/plant/avocado)。\n",
    "此外,我们可以设定牛油果的价格不超过每个$2$。"
   ]
  },
  {
   "cell_type": "code",
   "execution_count": 11,
   "id": "29328983",
   "metadata": {},
   "outputs": [
    {
     "name": "stdout",
     "output_type": "stream",
     "text": [
      "Set parameter LicenseID to value 2601452\n"
     ]
    }
   ],
   "source": [
    "import gurobipy as gp \n",
    "from gurobipy import GRB\n",
    "\n",
    "m = gp.Model(\"Avocado_Price_Allocation\")\n",
    "\n",
    "# 集合和参数\n",
    "R = regions   # 所有地区的集合\n",
    "\n",
    "B = 30  # 牛油果总供应量\n",
    "\n",
    "peak_or_not = 1 # 1表示旺季; 0表示非旺季\n",
    "year = 2022\n",
    "\n",
    "c_waste = 0.1 # 浪费一个牛油果的成本($)\n",
    "c_transport = {'Great_Lakes': .3,'Midsouth':.1,'Northeast':.4,'Northern_New_England':.5,'SouthCentral':.3,'Southeast':.2,'West':.2,'Plains':.2}\n",
    "# 运输一个牛油果的成本\n",
    "\n",
    "# 从数据集获取价格和存货数量的上下界\n",
    "a_min = {r: 0 for r in R} # 每个地区的最低牛油果价格\n",
    "a_max = {r: 2 for r in R} # 每个地区的最高牛油果价格\n",
    "b_min = dict(df.groupby('region')['units_sold'].min())  # 分配给每个地区的牛油果最小数量\n",
    "b_max = dict(df.groupby('region')['units_sold'].max())   # 分配给每个地区的牛油果最大数量"
   ]
  },
  {
   "cell_type": "markdown",
   "id": "1fa17930",
   "metadata": {},
   "source": [
    "### 决策变量\n",
    "\n",
    "现在,让我们定义决策变量。\n",
    "在我们的模型中,我们希望存储每个地区的价格和分配的牛油果数量。我们还希望有变量来跟踪每个地区预测的销售数量和浪费的数量。\n",
    "以下符号用于建模这些决策变量,每个地区$r$索引。\n",
    "\n",
    "$p_r$: 地区$r$的牛油果价格($\\$$),\n",
    "\n",
    "$x_r$: 分配到地区$r$的牛油果数量,\n",
    "\n",
    "$s_r = \\min \\{x_r,d_r(p_r)\\}$: 地区$r$预测的牛油果销售数量,\n",
    "\n",
    "$w_r = x_r - s_r$: 地区$r$预测的牛油果浪费数量\n",
    "\n",
    "我们现在将这些变量添加到Gurobi模型中。"
   ]
  },
  {
   "cell_type": "code",
   "execution_count": 16,
   "id": "0bb7f0f8",
   "metadata": {},
   "outputs": [],
   "source": [
    "p = m.addVars(R,name=\"p\",lb=a_min, ub=a_max)   # 每个地区的牛油果价格\n",
    "x = m.addVars(R,name=\"x\",lb=b_min,ub=b_max)  # 分配给每个地区的数量\n",
    "s = m.addVars(R,name=\"s\",lb=0)   # 给定价格下每个地区的预测销售量\n",
    "w = m.addVars(R,name=\"w\",lb=0)   # 每个地区的过剩浪费"
   ]
  },
  {
   "cell_type": "markdown",
   "id": "389ffd60",
   "metadata": {},
   "source": [
    "现在,让我们创建一个表达式,表示每个地区的预测需求作为价格的函数。注意,除了价格之外,预测函数中的其他参数(如地区、年份和季节性)都不是决策变量,因此可以视为常量。"
   ]
  },
  {
   "cell_type": "code",
   "execution_count": 17,
   "id": "8960e806",
   "metadata": {},
   "outputs": [
    {
     "name": "stdout",
     "output_type": "stream",
     "text": [
      "7.113205674224997 + -2.2037701048902503 <gurobi.Var *Awaiting Model Update*>\n",
      "6.870512520547117 + -2.2037701048902503 <gurobi.Var *Awaiting Model Update*>\n",
      "8.546225510868231 + -2.2037701048902503 <gurobi.Var *Awaiting Model Update*>\n",
      "4.093961883587106 + -2.2037701048902503 <gurobi.Var *Awaiting Model Update*>\n",
      "8.827017748198465 + -2.2037701048902503 <gurobi.Var *Awaiting Model Update*>\n",
      "7.697195840886165 + -2.2037701048902503 <gurobi.Var *Awaiting Model Update*>\n",
      "9.715005122866264 + -2.2037701048902503 <gurobi.Var *Awaiting Model Update*>\n",
      "5.298172801834592 + -2.2037701048902503 <gurobi.Var *Awaiting Model Update*>\n"
     ]
    }
   ],
   "source": [
    "d = {r: (coef_dict['Intercept']+coef_dict['price']*p[r] + coef_dict['C(region)[T.%s]'%r] + coef_dict['year_index']*(year-2015) + coef_dict['peak']*peak_or_not) for r in R}\n",
    "for r in R:\n",
    "    print(d[r])"
   ]
  },
  {
   "cell_type": "markdown",
   "id": "3d733d6f",
   "metadata": {},
   "source": [
    "### 设置目标\n",
    "\n",
    "接下来,我们将定义目标函数:我们希望最大化**净收入**。每个地区的销售收入由该地区的牛油果价格乘以销售数量计算。产生的成本有两种:未售出牛油果的浪费成本和将牛油果运输到不同地区的成本。\n",
    "\n",
    "净收入是销售收入减去总成本。我们假设采购成本是固定的,不包含在此模型中。\n",
    "\n",
    "使用定义的决策变量,目标可以写成如下。\n",
    "\n",
    "\\begin{align}\n",
    "\\textrm{maximize} &  \\sum_{r}  (p_r * s_r - c_{waste} * w_r - c^r_{transport} * x_r)& \n",
    "\\end{align}\n",
    "\n",
    "现在,让我们将目标函数添加到模型中。"
   ]
  },
  {
   "cell_type": "code",
   "execution_count": 18,
   "id": "bb5e1218",
   "metadata": {},
   "outputs": [],
   "source": [
    "m.setObjective(sum(p[r]*s[r] - c_waste*w[r] - c_transport[r]*x[r] for r in R)) \n",
    "m.ModelSense = GRB.MAXIMIZE"
   ]
  },
  {
   "cell_type": "markdown",
   "id": "93a8432c",
   "metadata": {},
   "source": [
    "### 添加供应约束\n",
    "\n",
    "我们现在引入约束条件。第一个约束是确保分配的牛油果总数等于$B$,可以用数学表达式表示如下。\n",
    "\n",
    "\\begin{align*} \n",
    "\\sum_{r} x_r &= B\n",
    "\\end{align*}\n",
    "\n",
    "以下代码将此约束添加到模型中。"
   ]
  },
  {
   "cell_type": "code",
   "execution_count": 19,
   "id": "84bd6017",
   "metadata": {},
   "outputs": [],
   "source": [
    "m.addConstr(sum(x[r] for r in R) == B)\n",
    "m.update()"
   ]
  },
  {
   "cell_type": "markdown",
   "id": "380cbfab",
   "metadata": {},
   "source": [
    "### 添加定义销售数量的约束\n",
    "\n",
    "接下来,我们应该定义每个地区的预测销售数量。\n",
    "我们可以假设如果供应量超过预测需求,我们销售的数量正好等于预测需求。\n",
    "否则,我们销售的数量正好等于分配量。\n",
    "因此,预测销售数量是供应量和预测需求的最小值,即$s_r = \\min \\{x_r,d_r(p_r)\\}$。\n",
    "这种关系可以通过以下两个约束条件来建模,每个地区$r$。\n",
    "\n",
    "\\begin{align*} \n",
    "s_r &\\leq x_r  \\\\\n",
    "s_r &\\leq d(p_r,r)  \n",
    "\\end{align*}\n",
    "\n",
    "这些约束将确保地区$r$的销售数量$s_r$既不大于分配量也不大于预测需求。注意,最大化目标函数试图最大化销售收入,因此优化器将最大化预测销售数量。这是假设浪费和运输成本小于每个牛油果的销售价格。因此,这些约束和目标将确保销售等于供应量和预测需求的最小值。\n",
    "\n",
    "现在,让我们将这些约束添加到模型中。"
   ]
  },
  {
   "cell_type": "code",
   "execution_count": 20,
   "id": "ca72fc5b",
   "metadata": {},
   "outputs": [],
   "source": [
    "m.addConstrs((s[r] <= x[r] for r in R))\n",
    "m.addConstrs((s[r] <= d[r] for r in R)) \n",
    "m.update()"
   ]
  },
  {
   "cell_type": "markdown",
   "id": "d0875f6c",
   "metadata": {},
   "source": [
    "### 添加浪费约束\n",
    "\n",
    "最后,我们应该定义每个地区的预测浪费,由未预测销售的供应量给出。我们可以用数学表达式表示每个地区$r$。\n",
    "\n",
    "\\begin{align*} \n",
    "w_r &= x_r - s_r\n",
    "\\end{align*} \n",
    "\n",
    "我们可以将这些约束添加到模型中。"
   ]
  },
  {
   "cell_type": "code",
   "execution_count": 21,
   "id": "38ac8066",
   "metadata": {},
   "outputs": [],
   "source": [
    "m.addConstrs((w[r] == x[r]-s[r] for r in R))\n",
    "m.update()"
   ]
  },
  {
   "cell_type": "markdown",
   "id": "dab6884c",
   "metadata": {},
   "source": [
    "### 启动求解器\n",
    "\n",
    "我们已经将决策变量、目标函数和约束条件添加到模型中。\n",
    "模型已准备好求解。\n",
    "在此之前,我们应该让求解器知道这是哪种类型的模型。\n",
    "默认设置假设目标和约束是变量的线性函数。\n",
    "\n",
    "在我们的模型中,目标是**二次的**,因为我们取价格和预测销售的乘积,这两个都是变量。\n",
    "最大化二次项被称为**非凸**,我们通过将Gurobi参数值设为$2$来指定这一点。\n",
    "详情请参见[这里](https://www.gurobi.com/documentation/9.5/refman/nonconvex.html)。"
   ]
  },
  {
   "cell_type": "code",
   "execution_count": 22,
   "id": "ac3c5eca",
   "metadata": {},
   "outputs": [
    {
     "name": "stdout",
     "output_type": "stream",
     "text": [
      "Set parameter NonConvex to value 2\n",
      "Gurobi Optimizer version 12.0.0 build v12.0.0rc1 (win64 - Windows 11.0 (22631.2))\n",
      "\n",
      "CPU model: Intel(R) Core(TM) Ultra 5 125H, instruction set [SSE2|AVX|AVX2]\n",
      "Thread count: 14 physical cores, 18 logical processors, using up to 18 threads\n",
      "\n",
      "Non-default parameters:\n",
      "NonConvex  2\n",
      "\n",
      "Optimize a model with 25 rows, 32 columns and 64 nonzeros\n",
      "Model fingerprint: 0x494cb22a\n",
      "Model has 8 quadratic objective terms\n",
      "Coefficient statistics:\n",
      "  Matrix range     [1e+00, 2e+00]\n",
      "  Objective range  [1e-01, 5e-01]\n",
      "  QObjective range [2e+00, 2e+00]\n",
      "  Bounds range     [2e-01, 1e+01]\n",
      "  RHS range        [4e+00, 3e+01]\n",
      "\n",
      "Continuous model is non-convex -- solving as a MIP\n",
      "\n",
      "Presolve removed 8 rows and 8 columns\n",
      "Presolve time: 0.00s\n",
      "Presolved: 34 rows, 34 columns, 81 nonzeros\n",
      "Presolved model has 8 bilinear constraint(s)\n",
      "Variable types: 34 continuous, 0 integer (0 binary)\n",
      "Found heuristic solution: objective 42.5082914\n",
      "\n",
      "Root relaxation: objective 5.288486e+01, 34 iterations, 0.00 seconds (0.00 work units)\n",
      "\n",
      "    Nodes    |    Current Node    |     Objective Bounds      |     Work\n",
      " Expl Unexpl |  Obj  Depth IntInf | Incumbent    BestBd   Gap | It/Node Time\n",
      "\n",
      "     0     0   52.88486    0    8   42.50829   52.88486  24.4%     -    0s\n",
      "     0     0   47.12254    0    8   42.50829   47.12254  10.9%     -    0s\n",
      "     0     0   43.45631    0    8   42.50829   43.45631  2.23%     -    0s\n",
      "     0     0   42.68700    0    8   42.50829   42.68700  0.42%     -    0s\n",
      "     0     0   42.58820    0    8   42.50829   42.58820  0.19%     -    0s\n",
      "     0     0   42.52779    0    8   42.50829   42.52779  0.05%     -    0s\n",
      "     0     0   42.52161    0    8   42.50829   42.52161  0.03%     -    0s\n",
      "     0     0   42.51509    0    8   42.50829   42.51509  0.02%     -    0s\n",
      "     0     0   42.51497    0    6   42.50829   42.51497  0.02%     -    0s\n",
      "     0     2   42.51497    0    6   42.50829   42.51497  0.02%     -    0s\n",
      "\n",
      "Cutting planes:\n",
      "  RLT: 15\n",
      "\n",
      "Explored 88 nodes (247 simplex iterations) in 0.10 seconds (0.00 work units)\n",
      "Thread count was 18 (of 18 available processors)\n",
      "\n",
      "Solution count 1: 42.5083 \n",
      "\n",
      "Optimal solution found (tolerance 1.00e-04)\n",
      "Best objective 4.250829142540e+01, best bound 4.251108861678e+01, gap 0.0066%\n"
     ]
    }
   ],
   "source": [
    "m.Params.NonConvex = 2 \n",
    "m.optimize() "
   ]
  },
  {
   "cell_type": "markdown",
   "id": "aed67953",
   "metadata": {},
   "source": [
    "求解器在不到一秒钟的时间内解决了优化问题。\n",
    "现在,让我们通过将其存储在Pandas数据框中来分析最优解。"
   ]
  },
  {
   "cell_type": "code",
   "execution_count": 23,
   "id": "3f7ff154",
   "metadata": {},
   "outputs": [
    {
     "name": "stdout",
     "output_type": "stream",
     "text": [
      "\n",
      " The optimal net revenue: $42.508291 million\n"
     ]
    },
    {
     "data": {
      "text/html": [
       "<div>\n",
       "<style scoped>\n",
       "    .dataframe tbody tr th:only-of-type {\n",
       "        vertical-align: middle;\n",
       "    }\n",
       "\n",
       "    .dataframe tbody tr th {\n",
       "        vertical-align: top;\n",
       "    }\n",
       "\n",
       "    .dataframe thead th {\n",
       "        text-align: right;\n",
       "    }\n",
       "</style>\n",
       "<table border=\"1\" class=\"dataframe\">\n",
       "  <thead>\n",
       "    <tr style=\"text-align: right;\">\n",
       "      <th></th>\n",
       "      <th>Region</th>\n",
       "      <th>Price</th>\n",
       "      <th>Allocated</th>\n",
       "      <th>Sold</th>\n",
       "      <th>Wasted</th>\n",
       "      <th>Pred_demand</th>\n",
       "    </tr>\n",
       "  </thead>\n",
       "  <tbody>\n",
       "    <tr>\n",
       "      <th>0</th>\n",
       "      <td>Great_Lakes</td>\n",
       "      <td>1.663872</td>\n",
       "      <td>3.446414</td>\n",
       "      <td>3.446414</td>\n",
       "      <td>1.000000e-08</td>\n",
       "      <td>3.446414</td>\n",
       "    </tr>\n",
       "    <tr>\n",
       "      <th>1</th>\n",
       "      <td>Midsouth</td>\n",
       "      <td>1.508809</td>\n",
       "      <td>5.272290</td>\n",
       "      <td>3.545445</td>\n",
       "      <td>1.726845e+00</td>\n",
       "      <td>3.545445</td>\n",
       "    </tr>\n",
       "    <tr>\n",
       "      <th>2</th>\n",
       "      <td>Northeast</td>\n",
       "      <td>2.000000</td>\n",
       "      <td>4.138685</td>\n",
       "      <td>4.138685</td>\n",
       "      <td>1.000000e-08</td>\n",
       "      <td>4.138685</td>\n",
       "    </tr>\n",
       "    <tr>\n",
       "      <th>3</th>\n",
       "      <td>Northern_New_England</td>\n",
       "      <td>1.441157</td>\n",
       "      <td>0.917984</td>\n",
       "      <td>0.917984</td>\n",
       "      <td>0.000000e+00</td>\n",
       "      <td>0.917984</td>\n",
       "    </tr>\n",
       "    <tr>\n",
       "      <th>4</th>\n",
       "      <td>SouthCentral</td>\n",
       "      <td>2.000000</td>\n",
       "      <td>4.419478</td>\n",
       "      <td>4.419478</td>\n",
       "      <td>1.000000e-08</td>\n",
       "      <td>4.419478</td>\n",
       "    </tr>\n",
       "    <tr>\n",
       "      <th>5</th>\n",
       "      <td>Southeast</td>\n",
       "      <td>1.746370</td>\n",
       "      <td>3.848598</td>\n",
       "      <td>3.848598</td>\n",
       "      <td>2.000000e-08</td>\n",
       "      <td>3.848598</td>\n",
       "    </tr>\n",
       "    <tr>\n",
       "      <th>6</th>\n",
       "      <td>West</td>\n",
       "      <td>2.000000</td>\n",
       "      <td>5.307465</td>\n",
       "      <td>5.307465</td>\n",
       "      <td>2.000000e-08</td>\n",
       "      <td>5.307465</td>\n",
       "    </tr>\n",
       "    <tr>\n",
       "      <th>7</th>\n",
       "      <td>Plains</td>\n",
       "      <td>1.202070</td>\n",
       "      <td>2.649086</td>\n",
       "      <td>2.649086</td>\n",
       "      <td>2.000000e-08</td>\n",
       "      <td>2.649086</td>\n",
       "    </tr>\n",
       "  </tbody>\n",
       "</table>\n",
       "</div>"
      ],
      "text/plain": [
       "                 Region     Price  Allocated      Sold        Wasted  \\\n",
       "0           Great_Lakes  1.663872   3.446414  3.446414  1.000000e-08   \n",
       "1              Midsouth  1.508809   5.272290  3.545445  1.726845e+00   \n",
       "2             Northeast  2.000000   4.138685  4.138685  1.000000e-08   \n",
       "3  Northern_New_England  1.441157   0.917984  0.917984  0.000000e+00   \n",
       "4          SouthCentral  2.000000   4.419478  4.419478  1.000000e-08   \n",
       "5             Southeast  1.746370   3.848598  3.848598  2.000000e-08   \n",
       "6                  West  2.000000   5.307465  5.307465  2.000000e-08   \n",
       "7                Plains  1.202070   2.649086  2.649086  2.000000e-08   \n",
       "\n",
       "   Pred_demand  \n",
       "0     3.446414  \n",
       "1     3.545445  \n",
       "2     4.138685  \n",
       "3     0.917984  \n",
       "4     4.419478  \n",
       "5     3.848598  \n",
       "6     5.307465  \n",
       "7     2.649086  "
      ]
     },
     "execution_count": 23,
     "metadata": {},
     "output_type": "execute_result"
    }
   ],
   "source": [
    "solution = pd.DataFrame() \n",
    "solution['Region'] = R\n",
    "solution['Price'] = [p[r].X for r in R]\n",
    "solution['Allocated'] = [round(x[r].X,8) for r in R]\n",
    "solution['Sold'] = [round(s[r].X,8) for r in R]\n",
    "solution['Wasted'] = [round(w[r].X,8) for r in R]  \n",
    "solution['Pred_demand'] = [(coef_dict['Intercept']+coef_dict['price']*p[r].X + coef_dict['C(region)[T.%s]'%r] + coef_dict['year_index']*(year-2015) + coef_dict['peak']*peak_or_not) for r in R]\n",
    "\n",
    "opt_revenue = m.ObjVal\n",
    "print(\"\\n The optimal net revenue: $%f million\"%opt_revenue) \n",
    "solution"
   ]
  },
  {
   "cell_type": "markdown",
   "id": "f475012d",
   "metadata": {},
   "source": [
    "现在,让我们可视化一个散点图,显示八个地区的价格和销售的牛油果数量(以百万计)。"
   ]
  },
  {
   "cell_type": "code",
   "execution_count": 24,
   "id": "551f4eb6",
   "metadata": {},
   "outputs": [
    {
     "data": {
      "image/png": "[encoded data removed]",
      "text/plain": [
       "<Figure size 640x480 with 1 Axes>"
      ]
     },
     "metadata": {},
     "output_type": "display_data"
    },
    {
     "name": "stdout",
     "output_type": "stream",
     "text": [
      "The circles represent sales quantity and the cross markers represent the wasted quantity.\n"
     ]
    }
   ],
   "source": [
    "fig, ax = plt.subplots(1,1) \n",
    "plot_sol = sns.scatterplot(data=solution,x='Price',y='Sold',hue='Region',s=100)\n",
    "plot_waste = sns.scatterplot(data=solution,x='Price',y='Wasted',marker='x',hue='Region',s=100,legend = False)\n",
    "\n",
    "plot_sol.legend(loc='center left', bbox_to_anchor=(1.25, 0.5), ncol=1)\n",
    "plot_waste.legend(loc='center left', bbox_to_anchor=(1.25, 0.5), ncol=1)\n",
    "plt.ylim(0, 5)\n",
    "plt.xlim(1, 2.2)\n",
    "ax.set_xlabel('Price per avocado ($)')\n",
    "ax.set_ylabel('Number of avocados sold (millions)')\n",
    "plt.show() \n",
    "print(\"The circles represent sales quantity and the cross markers represent the wasted quantity.\")"
   ]
  },
  {
   "cell_type": "markdown",
   "id": "ed0d2b24",
   "metadata": {},
   "source": [
    "## 实验参数设置\n",
    "\n",
    "虽然这个笔记本逐步讲解了如何构建优化模型,但以下代码包含了整体优化模型。你可以输入不同的参数值,看看最优解如何变化。\n",
    "$B$的值可以通过单元格下方的滑块进行控制。\n"
   ]
  },
  {
   "cell_type": "code",
   "execution_count": 26,
   "id": "26fc6a49",
   "metadata": {},
   "outputs": [
    {
     "name": "stdout",
     "output_type": "stream",
     "text": [
      "Select a value for the available inventory (B) (in millions):\n",
      "\n"
     ]
    },
    {
     "data": {
      "application/vnd.jupyter.widget-view+json": {
       "model_id": "a051baaeb81f4d52a2f2f3dc0cc719d9",
       "version_major": 2,
       "version_minor": 0
      },
      "text/plain": [
       "interactive(children=(IntSlider(value=27, description='x', max=40, min=15), Output()), _dom_classes=('widget-i…"
      ]
     },
     "metadata": {},
     "output_type": "display_data"
    },
    {
     "data": {
      "text/plain": [
       "<function __main__.solve_MIQP(x)>"
      ]
     },
     "execution_count": 26,
     "metadata": {},
     "output_type": "execute_result"
    }
   ],
   "source": [
    "from ipywidgets import interact, interactive, fixed, interact_manual\n",
    "import ipywidgets as widgets \n",
    " \n",
    "import plotly.express as px\n",
    "\n",
    "peak_or_not = 1 # \n",
    "year = 2021\n",
    "\n",
    "# Sets and parameters\n",
    "R = regions  \n",
    "c_waste = 0.1 \n",
    "c_transport = {'Great_Lakes': .3,'Midsouth':.1,'Northeast':.4,'Northern_New_England':.5,'SouthCentral':.3,'Southeast':.2,'West':.2,'Plains':.2}\n",
    "\n",
    "# 从数据集中获取价格(p)和库存数量(x)的下界和上界\n",
    "price_min = dict(df.groupby('region')['price'].min())\n",
    "price_max = dict(df.groupby('region')['price'].max())\n",
    "sold_min = dict(df.groupby('region')['units_sold'].min()) \n",
    "sold_max = dict(df.groupby('region')['units_sold'].max())   \n",
    "\n",
    "\n",
    "\n",
    "def solve_MIQP(x):\n",
    "    B = x\n",
    "    \n",
    "    # Initialize Model\n",
    "    m = gp.Model(\"Avocado_Price_Allocation\")\n",
    "\n",
    "    # Variables. Adjust the bounds here \n",
    "    x = m.addVars(R,name=\"x\",lb=sold_min,ub=sold_max) \n",
    "    p = m.addVars(R,name=\"p\",lb=0, ub=2)   \n",
    "    s = m.addVars(R,name=\"s\",lb=0)  \n",
    "    w = m.addVars(R,name=\"w\",lb=0) \n",
    "    i = m.addVars(R,name=\"i\",vtype=GRB.BINARY) \n",
    "\n",
    "    # Predictor expression for demand\n",
    "    d = {r: (coef_dict['Intercept']+coef_dict['price']*p[r] + coef_dict['C(region)[T.%s]'%r] + coef_dict['year_index']*(year-2015) + coef_dict['peak']*peak_or_not) for r in R}\n",
    " \n",
    "    \n",
    "    # Set the objective\n",
    "    m.ModelSense = GRB.MAXIMIZE\n",
    "    m.setObjective(sum(p[r]*s[r] - c_waste*w[r] - c_transport[r]*x[r] for r in R)) \n",
    "\n",
    "    # Add the constraints \n",
    "    m.addConstrs((s[r] <= x[r] for r in R))\n",
    "    m.addConstrs((s[r] <= d[r] for r in R)) \n",
    "    m.addConstrs((x[r] == w[r]+s[r] for r in R))\n",
    "    m.addConstr(sum(x[r] for r in R) == B)\n",
    "\n",
    "    # Solve   \n",
    "    m.setParam('OutputFlag', 0)\n",
    "    m.Params.NonConvex = 2\n",
    "    m.update()\n",
    "    m.optimize() \n",
    "    if m.status == 4:\n",
    "        print('The problem is infeasible. Try changing the parameter values.')\n",
    "    else:\n",
    "        global solution, opt_revenue\n",
    "        solution = pd.DataFrame() \n",
    "        solution['Region'] = R\n",
    "        solution['Price'] = [p[r].X for r in R]\n",
    "        solution['Allocated'] = [round(x[r].X,8) for r in R]\n",
    "        solution['Sold'] = [round(s[r].X,8) for r in R]\n",
    "        solution['Wasted'] = [round(w[r].X,8) for r in R]  \n",
    "        solution['Demand'] = [(coef_dict['Intercept']+coef_dict['price']*p[r].X + coef_dict['C(region)[T.%s]'%r] + coef_dict['year_index']*(year-2015) + coef_dict['peak']*peak_or_not) for r in R]\n",
    "\n",
    "        opt_revenue = m.ObjVal\n",
    "        if display_figures:\n",
    "            print(\"\\n Net revenue: $%f million\"%opt_revenue)\n",
    "            print(\"\\nThe optimal solution is as follows. Price per avocado in dollars. Allocated avocados, wasted avocados, and predicted demand in millions.\\n\")\n",
    "            print(solution)\n",
    "            \n",
    "            print(\"\\n Scatter plot of price vs number of avocados sold (millions) for the eight regions:\")\n",
    "            fig, ax = plt.subplots(1,1) \n",
    "            plot_sol = sns.scatterplot(data=solution,x='Price',y='Sold',hue='Region',s=100)\n",
    "            plot_waste = sns.scatterplot(data=solution,x='Price',y='Wasted',marker='x',hue='Region',s=100,legend = False)\n",
    "\n",
    "            plot_sol.legend(loc='center left', bbox_to_anchor=(1.25, 0.5), ncol=1)\n",
    "            plot_waste.legend(loc='center left', bbox_to_anchor=(1.25, 0.5), ncol=1)\n",
    "            plt.ylim(0, 5)\n",
    "            plt.xlim(1, 2.2)\n",
    "            ax.set_xlabel('Price per avocado ($)')\n",
    "            ax.set_ylabel('Number of avocados sold (millions)')\n",
    "            plt.show() \n",
    "            print(\"The circles represent sales quantity and the cross markers represent the wasted quantity.\")\n",
    "            \n",
    "            \n",
    "        return m.ObjVal, solution\n",
    "        \n",
    "        \n",
    "display_figures = 1\n",
    "print(\"Select a value for the available inventory (B) (in millions):\\n\")\n",
    "interact(solve_MIQP, x=(15,40,1))\n",
    "\n"
   ]
  },
  {
   "cell_type": "markdown",
   "id": "d05d06ab",
   "metadata": {},
   "source": [
    "**观察**:\n",
    "- 当供应量非常有限时,即$B$非常小时,模型设定高价格=>需求低=>分配量正好满足需求\n",
    "- 随着供应量增加=>价格下降=>需求上升=>分配量可以继续满足需求\n",
    "- 当供应量非常大时,浪费开始增加\n",
    " "
   ]
  },
  {
   "cell_type": "markdown",
   "id": "749247cc",
   "metadata": {},
   "source": [
    "## 比较最优与实际净收入"
   ]
  },
  {
   "cell_type": "markdown",
   "id": "92429363",
   "metadata": {},
   "source": [
    "最后,我们可以对每年的每周运行优化模型,并比较最优预测收入与实际每周收入。\n",
    "假设实际每周数量中没有浪费成本,因为这些信息是未知的。"
   ]
  },
  {
   "cell_type": "code",
   "execution_count": 27,
   "id": "96ba33e0",
   "metadata": {
    "scrolled": true
   },
   "outputs": [
    {
     "data": {
      "image/png": "[encoded data removed]",
      "text/plain": [
       "<Figure size 640x480 with 1 Axes>"
      ]
     },
     "metadata": {},
     "output_type": "display_data"
    },
    {
     "name": "stdout",
     "output_type": "stream",
     "text": [
      "For the average peak season week in 2021, the optimal solution yields 35.288636 % more net revenue than the actual supply chain.\n"
     ]
    }
   ],
   "source": [
    "# 创建给定年份和季节的数据子集\n",
    "df_subset = df[(df['year']==year) & (df['peak']==peak_or_not)]\n",
    "df_subset['price_minus_transport'] = df_subset['price'] - df_subset['region'].map(c_transport) \n",
    "dates = sorted(list(set(df_subset.date))) \n",
    "\n",
    "# 每周运行优化器\n",
    "actual, optimal, display_figures = [], [], 0\n",
    "for date in dates: \n",
    "    df_date = df_subset[df_subset['date']==date] \n",
    "    weekly_sold = (df_date['units_sold']).values.sum()  \n",
    "    optimal.append(solve_MIQP(weekly_sold)[0]) \n",
    "    \n",
    "    actual_weekly_revenue = (df_date['units_sold']*(df_date['price_minus_transport'])).values.sum() \n",
    "    actual.append(actual_weekly_revenue) \n",
    "\n",
    "# 绘制两个散点图\n",
    "fig_comparison, ax_comparison = plt.subplots(1,1) \n",
    "actual_plot = plt.scatter(dates, actual)\n",
    "optimal_plot = plt.scatter(dates, optimal)\n",
    "plt.legend((optimal_plot,actual_plot),('Optimal weekly net revenue','Actual weekly net revenue'),loc='center left', bbox_to_anchor=(1.25, 0.5), ncol=1)\n",
    "x_ticks_labels = list(dict.fromkeys([date.strftime(\"%B\") for date in  dates])) \n",
    "ax_comparison.set_xticklabels(x_ticks_labels, rotation=20, fontsize=12)\n",
    "ax_comparison.set_xlabel('Date')\n",
    "ax_comparison.set_ylabel('Net revenue in $million')\n",
    "\n",
    "plt.show()\n",
    "\n",
    "difference = [(i - j)/j for i, j in zip(optimal, actual)]\n",
    "print(\"For the average peak season week in %i, the optimal solution yields %f %% more net revenue than the actual supply chain.\"%(year,100*sum(difference)/len(difference)))\n"
   ]
  },
  {
   "cell_type": "markdown",
   "id": "f5c053f3",
   "metadata": {},
   "source": [
    "现在,我们可以比较每周的最优解和实际数据的价格和销售情况。使用交互工具选择一个星期,看看差异。"
   ]
  },
  {
   "cell_type": "code",
   "execution_count": 28,
   "id": "aaf20e93",
   "metadata": {},
   "outputs": [
    {
     "name": "stdout",
     "output_type": "stream",
     "text": [
      "Select a value for the available inventory (B) (in millions):\n",
      "\n"
     ]
    },
    {
     "data": {
      "application/vnd.jupyter.widget-view+json": {
       "model_id": "ec94f5ddb450495082749a52f037a9cb",
       "version_major": 2,
       "version_minor": 0
      },
      "text/plain": [
       "interactive(children=(Dropdown(description='x', options=(Timestamp('2021-02-07 00:00:00'), Timestamp('2021-02-…"
      ]
     },
     "metadata": {},
     "output_type": "display_data"
    },
    {
     "data": {
      "text/plain": [
       "<function __main__.compare_with_actual(x)>"
      ]
     },
     "execution_count": 28,
     "metadata": {},
     "output_type": "execute_result"
    }
   ],
   "source": [
    "def compare_with_actual(x):\n",
    "    df_date = df_subset[df_subset['date']==x]\n",
    "    weekly_sold = (df_date['units_sold']).values.sum()  \n",
    "    print(weekly_sold)\n",
    "    opt_revenue, opt_solution = solve_MIQP(weekly_sold) \n",
    "\n",
    "    df_comparison = df_date.merge(opt_solution, left_on='region', right_on='Region')\n",
    "\n",
    "    df_comparison = df_comparison[['Region','price','Price','units_sold','Sold']]\n",
    "    df_comparison = df_comparison.rename({'price': 'Actual price', 'Price': 'Optimal price','units_sold': 'Actual sold', 'Sold': 'Optimal sold'}, axis=1)\n",
    "    print(df_comparison.sort_values(by='Region').reset_index(drop=True))\n",
    "\n",
    "display_figures = 0\n",
    "print(\"Select a value for the available inventory (B) (in millions):\\n\")\n",
    "interact(compare_with_actual, x=dates)\n"
   ]
  },
  {
   "cell_type": "markdown",
   "id": "8d07d2fd",
   "metadata": {},
   "source": [
    "注意,在某些星期和某些地区,如果优化器预见到即使需求下降也是值得的,它会设定比实际价格更高的价格。在某些其他情况下,较低的价格是首选。总体而言,最优解比实际情况多出约35%的净收入。\n",
    "此分析表明,优化牛油果的定价和供应可以提高牛油果供应链的效率。\n",
    "\n",
    "有了正确的优化工具,每一天都可以是比赛日。"
   ]
  },
  {
   "cell_type": "code",
   "execution_count": 29,
   "id": "25196f57",
   "metadata": {},
   "outputs": [
    {
     "name": "stdout",
     "output_type": "stream",
     "text": [
      "Freeing default Gurobi environment\n"
     ]
    }
   ],
   "source": [
    "gp.disposeDefaultEnv()"
   ]
  },
  {
   "cell_type": "markdown",
   "id": "e0888fb6",
   "metadata": {},
   "source": [
    "Copyright © 2022 Gurobi Optimization, LLC"
   ]
  }
 ],
 "metadata": {
  "kernelspec": {
   "display_name": "Python 3",
   "language": "python",
   "name": "python3"
  },
  "language_info": {
   "codemirror_mode": {
    "name": "ipython",
    "version": 3
   },
   "file_extension": ".py",
   "mimetype": "text/x-python",
   "name": "python",
   "nbconvert_exporter": "python",
   "pygments_lexer": "ipython3",
   "version": "3.12.2"
  }
 },
 "nbformat": 4,
 "nbformat_minor": 5
}
