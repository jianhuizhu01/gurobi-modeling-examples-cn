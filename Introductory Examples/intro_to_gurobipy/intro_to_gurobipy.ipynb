{
 "cells": [
  {
   "cell_type": "markdown",
   "id": "9985f7b1",
   "metadata": {
    "slideshow": {
     "slide_type": "slide"
    }
   },
   "source": [
    "# Gurobi Python API简介\n",
    "\n",
    "###### Gurobi Days Digital\n",
    "###### June 24, 2026\n",
    "###### Maliheh Aramon, PhD, Optimization Engineer\n",
    "###### aramon@gurobi.com"
   ]
  },
  {
   "cell_type": "markdown",
   "id": "a66b4594",
   "metadata": {
    "slideshow": {
     "slide_type": "slide"
    }
   },
   "source": [
    "## 如何在本地运行笔记本？  \n",
    "- 访问[Gurobi建模示例](https://github.com/Gurobi/modeling-examples)存储库\n",
    "- 克隆包含本笔记本和其他示例的存储库，或者点击[这里](https://github.com/Gurobi/modeling-examples/archive/refs/heads/master.zip)下载\n",
    "- 导航到 __intro_to_gurobipy__ 文件夹\n",
    "- 启动[Jupyter Notebook Server](https://docs.jupyter.org/en/latest/running.html#id2)\n",
    "- 在Jupyter notebook中打开笔记本\n",
    "- 笔记本将安装gurobipy包和其他依赖项。Gurobi pip包包括一个大小有限的试用许可证，允许您运行笔记本"
   ]
  },
  {
   "cell_type": "code",
   "execution_count": null,
   "id": "b319a3b4",
   "metadata": {
    "slideshow": {
     "slide_type": "slide"
    }
   },
   "outputs": [],
   "source": [
    "%pip install \"gurobipy>=10.0\"\n",
    "\n",
    "# 安装其他依赖项\n",
    "%pip install numpy\n",
    "%pip install scipy\n",
    "%pip install pandas"
   ]
  },
  {
   "cell_type": "markdown",
   "id": "e5f5db7f",
   "metadata": {
    "slideshow": {
     "slide_type": "slide"
    }
   },
   "source": [
    "# Gurobi Python API\n",
    "\n",
    "Gurobi Python API，也称为gurobipy，是最流行的Gurobi API，因为它允许使用\n",
    "- 单独的变量和约束条件，与Guorbi的其他面向对象的API（如 C、C++、Java 和 .NET）一样\n",
    "- 矩阵，如其他Gurobi的面向矩阵的接口，如MATLAB和R\n",
    "- 更详细的数学语法，如传统的建模语言\n",
    "\n",
    "在本节课中，我们将带您了解Gurobi Python API的基础知识。"
   ]
  },
  {
   "cell_type": "markdown",
   "id": "5f92f0e2",
   "metadata": {
    "slideshow": {
     "slide_type": "slide"
    }
   },
   "source": [
    "## 如何安装 gurobipy？\n",
    "在任何操作系统（如Linux、Windows或macOS）上安装gurobipy主要有两种方法。\n",
    "\n",
    "- Pip\n",
    "- Conda\n",
    "\n",
    "相关知识库（KB）文章：\n",
    "- [Gurobi支持哪些Python版本？](https://support.gurobi.com/hc/en-us/articles/360013195212)\n",
    "- [如何为Python安装Gurobi？](https://support.gurobi.com/hc/en-us/articles/360044290292-How-do-I-install-Gurobi-for-Python-)"
   ]
  },
  {
   "cell_type": "markdown",
   "id": "e3f02815",
   "metadata": {
    "slideshow": {
     "slide_type": "slide"
    }
   },
   "source": [
    "## 优化模型\n",
    "\n",
    "Gurobi可以处理的优化模型的规范形式如下：\n",
    "\n",
    "\\begin{align}\n",
    "\\mbox{Model P:} ~~~~ \\mbox{minimize} \\quad & x^T Q x + c^T x + d &  \\notag \\\\\n",
    "\\mbox{subject to} \\quad & Ax = b & \\notag & \\notag \\\\\n",
    "                        & x^T Q_i x + c_i^T x \\leq d_i & \\forall i \\in I \\notag \\\\\n",
    "                        & l \\leq x \\leq u & \\notag \\\\\n",
    "                        & x_j \\in \\mathbb{Z} & \\forall j \\in J \n",
    "\\end{align}\n",
    "\n",
    "在本节课中，我们将学习如何使用gurobipy将上述数学结构映射到代码中。\n",
    "\n",
    "每个数学模型都有四个主要元素：__数据+决策变量+约束+目标函数__\n",
    "\n",
    "__数据__:\n",
    "\\begin{align}\n",
    "& \\mbox{Sets:}~~ I, J & \\notag \\\\ \n",
    "& \\mbox{Coefficients:}~~ Q, c, A, Q_i, c_i \\notag &\\\\ \n",
    "& \\mbox{RHS values:}~~ b, d_i & \\notag \\\\ \n",
    "& \\mbox{Lower and upper bounds:}~~ l, u & \\notag \\\\ \n",
    "& \\mbox{Constants:}~~ d & \\notag \\\\\n",
    "& \\mbox{Operators:} & \\notag \\\\\n",
    "& ~~~~~~ \\mbox{Arithmetic}~ (+, -, *, \\div)& \\notag \\\\\n",
    "& ~~~~~~ \\mbox{Constraint operators} ~(\\geq, \\leq, =) & \\notag\n",
    "\\end{align}"
   ]
  },
  {
   "cell_type": "markdown",
   "id": "5eb49aef",
   "metadata": {
    "slideshow": {
     "slide_type": "slide"
    }
   },
   "source": [
    "## 简单示例\n",
    "让我们从一个简单的例子开始：\n",
    "\n",
    "\\begin{align}\n",
    "\\mbox{maximize} \\quad & x + y + 2z \\notag \\\\\n",
    "\\mbox{subject to} \\quad & x + 2y + 3z \\leq 4 \\notag \\\\\n",
    "                        & x + y \\geq 1 \\notag \\\\\n",
    "                        & x, y, z \\in \\{0, 1\\} \\notag\n",
    "\\end{align}"
   ]
  },
  {
   "cell_type": "code",
   "execution_count": null,
   "id": "c51e50c5",
   "metadata": {
    "code_folding": [
     22
    ],
    "slideshow": {
     "slide_type": "fragment"
    }
   },
   "outputs": [
    {
     "name": "stdout",
     "output_type": "stream",
     "text": [
      "Set parameter LicenseID to value 2601452\n",
      "Gurobi Optimizer version 12.0.0 build v12.0.0rc1 (win64 - Windows 11.0 (22631.2))\n",
      "\n",
      "CPU model: Intel(R) Core(TM) Ultra 5 125H, instruction set [SSE2|AVX|AVX2]\n",
      "Thread count: 14 physical cores, 18 logical processors, using up to 18 threads\n",
      "\n",
      "Optimize a model with 2 rows, 3 columns and 5 nonzeros\n",
      "Model fingerprint: 0x98886187\n",
      "Variable types: 0 continuous, 3 integer (3 binary)\n",
      "Coefficient statistics:\n",
      "  Matrix range     [1e+00, 3e+00]\n",
      "  Objective range  [1e+00, 2e+00]\n",
      "  Bounds range     [1e+00, 1e+00]\n",
      "  RHS range        [1e+00, 4e+00]\n",
      "Found heuristic solution: objective 2.0000000\n",
      "Presolve removed 2 rows and 3 columns\n",
      "Presolve time: 0.00s\n",
      "Presolve: All rows and columns removed\n",
      "\n",
      "Explored 0 nodes (0 simplex iterations) in 0.02 seconds (0.00 work units)\n",
      "Thread count was 1 (of 18 available processors)\n",
      "\n",
      "Solution count 2: 3 2 \n",
      "\n",
      "Optimal solution found (tolerance 1.00e-04)\n",
      "Best objective 3.000000000000e+00, best bound 3.000000000000e+00, gap 0.0000%\n",
      "******* Solution *******\n",
      "x: 1.0\n",
      "y: 0.0\n",
      "z: 1.0\n",
      "************************\n"
     ]
    }
   ],
   "source": [
    "# 为方便起见，导入gurobipy包为gp\n",
    "import gurobipy as gp\n",
    "\n",
    "# GRB 是所有 Gurobi 常量的列表\n",
    "from gurobipy import GRB\n",
    "\n",
    "# 创建一个Gurobi环境和一个模型对象\n",
    "with gp.Env() as env, gp.Model(\"simple-example\", env=env) as model:\n",
    "    # 定义决策变量\n",
    "    x = model.addVar(vtype=GRB.BINARY, name=\"x\")\n",
    "    y = model.addVar(vtype=GRB.BINARY, name=\"y\")\n",
    "    z = model.addVar(vtype=GRB.BINARY, name=\"z\")\n",
    "\n",
    "    # 定义约束\n",
    "    model.addConstr(x + 2 * y + 3 * z <= 4, name=\"c0\")\n",
    "    model.addConstr(x + y >= 1, name=\"c1\")\n",
    "\n",
    "    # 定义目标函数\n",
    "    model.setObjective(x + y + 2 * z, sense=GRB.MAXIMIZE)\n",
    "\n",
    "    # 求解模型\n",
    "    model.optimize()\n",
    "\n",
    "    print(\"******* Solution *******\")\n",
    "    for var in model.getVars():\n",
    "        print(f\"{var.VarName}: {var.X}\")\n",
    "    print(\"************************\")"
   ]
  },
  {
   "cell_type": "markdown",
   "id": "c6d94dcd",
   "metadata": {
    "slideshow": {
     "slide_type": "slide"
    }
   },
   "source": [
    "## Python数据结构\n",
    "\n",
    "- 元组：一种有序的复合分组，一旦创建就不能修改，它非常适合表示多维下标。\n",
    "    ```\n",
    "        (\"city_0\", \"city_1\")\n",
    "    ```\n",
    "- 列表：一个有序的组，因此每个项都有索引。可以通过添加、删除或排序元素来修改列表。\n",
    "    ```\n",
    "        [\"city_0\", \"city_1\", \"city_2\"]\n",
    "     ```\n",
    "- 集合：一组无序的唯一元素。只能通过添加或删除来修改集合。\n",
    "    ```\n",
    "        {\"city_0\", \"city_1\", \"city_2\"}\n",
    "    ```\n",
    "- 字典：键值对映射，非常适合表示成本、需求、容量等索引数据。\n",
    "    ```\n",
    "        damand = {\"city_0\": 100, \"city_1\": 50, \"city_2\": 40}\n",
    "    ```"
   ]
  },
  {
   "cell_type": "markdown",
   "id": "f99590d2",
   "metadata": {
    "slideshow": {
     "slide_type": "slide"
    }
   },
   "source": [
    " ## Gurobi Python API中的扩展数据结构\n",
    " \n",
    " - [tuplelist()](https://www.gurobi.com/documentation/current/refman/py_tuplelist.html)\n",
    "     - Python list的子类\n",
    "     - 有效构建子列表的重要方法\n",
    "         - [tuplelist.select(pattern)](https://www.gurobi.com/documentation/current/refman/py_tuplelist_select.html) --> tuplelist()\n",
    "     \n",
    " \n",
    " \n",
    "- [tupledict()](https://www.gurobi.com/documentation/current/refman/py_tupledict.html)\n",
    "    - Python字典的子类\n",
    "    - tupledict()的键以 tuplelist()的形式存储，值为 Gurobi 变量对象。\n",
    "    - 有效构建线性表达式的重要方法:\n",
    "        - [tupledict.select(pattern)](https://www.gurobi.com/documentation/current/refman/py_tupledict_select.html) --> List\n",
    "        - [tupledict.sum(pattern)](https://www.gurobi.com/documentation/current/refman/py_tupledict_sum.html) --> LinExpr()\n",
    "        - [tupledict.prod(coeff, pattern)](https://www.gurobi.com/documentation/current/refman/py_tupledict_prod.html) --> LinExpr()\n",
    "    \n",
    "    \n",
    "- [multidict()](https://www.gurobi.com/documentation/current/refman/py_multidict.html): 在一个语句中定义多个字典的方便函数。"
   ]
  },
  {
   "cell_type": "code",
   "execution_count": 1,
   "id": "a5637577",
   "metadata": {
    "slideshow": {
     "slide_type": "fragment"
    }
   },
   "outputs": [
    {
     "name": "stdout",
     "output_type": "stream",
     "text": [
      "data: {('a', 'b', 'c'): 3, ('a', 'c', 'b'): 4, ('b', 'a', 'c'): 5, ('b', 'c', 'a'): 6, ('c', 'a', 'b'): 7, ('c', 'b', 'a'): 3}\n"
     ]
    }
   ],
   "source": [
    "import gurobipy as gp\n",
    "from gurobipy import GRB\n",
    "\n",
    "data = gp.tupledict(\n",
    "    [\n",
    "        ((\"a\", \"b\", \"c\"), 3),\n",
    "        ((\"a\", \"c\", \"b\"), 4),\n",
    "        ((\"b\", \"a\", \"c\"), 5),\n",
    "        ((\"b\", \"c\", \"a\"), 6),\n",
    "        ((\"c\", \"a\", \"b\"), 7),\n",
    "        ((\"c\", \"b\", \"a\"), 3),\n",
    "    ]\n",
    ")\n",
    "print(f\"data: {data}\")"
   ]
  },
  {
   "cell_type": "code",
   "execution_count": 2,
   "id": "8a45c285",
   "metadata": {},
   "outputs": [
    {
     "name": "stdout",
     "output_type": "stream",
     "text": [
      "\n",
      "Tuplelist:\n",
      "\tselect: <gurobi.tuplelist (2 tuples, 3 values each):\n",
      " ( a , b , c )\n",
      " ( a , c , b )\n",
      ">\n"
     ]
    }
   ],
   "source": [
    "print(\"\\nTuplelist:\")\n",
    "keys = gp.tuplelist(data.keys())\n",
    "print(f\"\\tselect: {keys.select('a', '*', '*')}\")"
   ]
  },
  {
   "cell_type": "code",
   "execution_count": 3,
   "id": "67191848",
   "metadata": {},
   "outputs": [
    {
     "name": "stdout",
     "output_type": "stream",
     "text": [
      "\n",
      "Tupledict:\n",
      "\tselect  : [3, 4]\n",
      "\tsum     : 28.0\n",
      "\tprod    : 0.0\n"
     ]
    }
   ],
   "source": [
    "print(\"\\nTupledict:\")\n",
    "print(f\"\\tselect  : {data.select('a', '*', '*')}\")\n",
    "print(f\"\\tsum     : {data.sum('*', '*', '*')}\")\n",
    "coeff = {(\"a\", \"c\", \"b\"): 6, (\"b\", \"c\", \"a\"): -4}\n",
    "print(f\"\\tprod    : {data.prod(coeff, '*', 'c', '*')}\")"
   ]
  },
  {
   "cell_type": "code",
   "execution_count": 4,
   "id": "517262d6",
   "metadata": {
    "slideshow": {
     "slide_type": "fragment"
    }
   },
   "outputs": [
    {
     "name": "stdout",
     "output_type": "stream",
     "text": [
      "\n",
      "Multidict:\n",
      "\tcapacity: {('Detroit', 'Boston'): 100, ('Detroit', 'New York'): 80, ('Detroit', 'Seattle'): 120, ('Denver', 'Boston'): 120, ('Denver', 'New York'): 120, ('Denver', 'Seattle'): 120}\n",
      "\n",
      "\n",
      "\tcost: {('Detroit', 'Boston'): 7, ('Detroit', 'New York'): 5, ('Detroit', 'Seattle'): 4, ('Denver', 'Boston'): 8, ('Denver', 'New York'): 11, ('Denver', 'Seattle'): 4}\n"
     ]
    }
   ],
   "source": [
    "arcs, capacity, cost = gp.multidict(\n",
    "    {\n",
    "        (\"Detroit\", \"Boston\"): [100, 7],\n",
    "        (\"Detroit\", \"New York\"): [80, 5],\n",
    "        (\"Detroit\", \"Seattle\"): [120, 4],\n",
    "        (\"Denver\", \"Boston\"): [120, 8],\n",
    "        (\"Denver\", \"New York\"): [120, 11],\n",
    "        (\"Denver\", \"Seattle\"): [120, 4],\n",
    "    }\n",
    ")\n",
    "print(\"\\nMultidict:\")\n",
    "print(f\"\\tcapacity: {capacity}\")\n",
    "print(\"\\n\")\n",
    "print(f\"\\tcost: {cost}\")"
   ]
  },
  {
   "cell_type": "markdown",
   "id": "87d60197",
   "metadata": {
    "slideshow": {
     "slide_type": "slide"
    }
   },
   "source": [
    "## [环境](https://www.gurobi.com/documentation/current/refman/py_env2.html)\n",
    "\n",
    "```\n",
    "+--------------------------------------------+\n",
    "| 环境                                       |\n",
    "| +----------------------------------------+ |\n",
    "| | 模型                                   | |\n",
    "| | +------+ +-----------+ +-------------+ | | \n",
    "| | |    数据   | |   变量   | |   约束   | | |\n",
    "| | +------+ +-----------+ +-------------+ | |\n",
    "| | +-----------+                          | |\n",
    "| | | 目标函数   |                          | |\n",
    "| | +-----------+                          | |\n",
    "| +----------------------------------------+ |\n",
    "+--------------------------------------------+  \n",
    "```\n",
    "\n",
    "Python API有一个默认环境，除非创建了一个新环境并显式地传递给需要环境的例程，否则默认情况下使用该环境。\n",
    "\n",
    "创建环境的主要原因是能够控制你的应用程序何时开始使用 Gurobi 以及何时停止使用它！\n",
    "- 使用远程资源（如浮动、云或计算服务器许可证）进行优化\n",
    "- 使用 Jupyter 笔记本时的垃圾回收\n",
    "\n",
    "注意：最好通过[上下文管理器](https://support.gurobi.com/hc/en-us/articles/4424054948881-How-do-I-manage-Gurobi-environments-in-gurobipy)创建新环境。"
   ]
  },
  {
   "cell_type": "markdown",
   "id": "dbd8d9ad",
   "metadata": {
    "slideshow": {
     "slide_type": "slide"
    }
   },
   "source": [
    "## [模型](https://www.gurobi.com/documentation/current/refman/py_model.html)\n",
    "[Python API](https://www.gurobi.com/documentation/current/refman/py_python_api_overview.html)中的模型构建是面向对象的。参考手册包含模型对象的[完整方法列表](https://www.gurobi.com/documentation/current/refman/py_python_api_details.html#sec:Python-details)。\n",
    "\n",
    "构造模型对象的语法是：\n",
    "```\n",
    "Model(name=\"\", env=defaultEnv)\n",
    "```"
   ]
  },
  {
   "cell_type": "code",
   "execution_count": 5,
   "id": "31c772ec",
   "metadata": {
    "slideshow": {
     "slide_type": "fragment"
    }
   },
   "outputs": [
    {
     "name": "stdout",
     "output_type": "stream",
     "text": [
      "Set parameter LicenseID to value 2601452\n",
      "Freeing default Gurobi environment\n",
      "Set parameter LicenseID to value 2601452\n",
      "Set parameter LicenseID to value 2601452\n"
     ]
    }
   ],
   "source": [
    "import gurobipy as gp\n",
    "\n",
    "# 使用默认环境构建模型对象\n",
    "with gp.Model(name=\"model\") as model:\n",
    "    pass\n",
    "\n",
    "model = gp.Model(name=\"model\")\n",
    "model.dispose()\n",
    "gp.disposeDefaultEnv()\n",
    "\n",
    "# 用新环境构建模型对象\n",
    "with gp.Env() as env, gp.Model(name=\"model\", env=env) as model:\n",
    "    pass\n",
    "\n",
    "env = gp.Env()\n",
    "model = gp.Model(name=\"model\", env=env)\n",
    "model.dispose()\n",
    "env.dispose()"
   ]
  },
  {
   "cell_type": "markdown",
   "id": "cb757e97",
   "metadata": {
    "slideshow": {
     "slide_type": "slide"
    }
   },
   "source": [
    "## 决策变量\n",
    "\n",
    "由于变量与特定的模型对象相关联，因此使用[Model.addVar()](https://www.gurobi.com/documentation/current/refman/py_model_addvar.html#pythonmethod:Model.addVar)方法创建Gurobi变量对象（[Var](https://www.gurobi.com/documentation/current/refman/py_var.html)）：\n",
    "```\n",
    "Model.addVar(lb=0, ub=float(\"inf\"), obj=0, vtype=GRB.CONTINUOUS, name=\"\", column=None)\n",
    "```\n",
    "\n",
    "在Gurobi中可用的变量类型有:\n",
    "- 连续: `GRB.CONTINUOUS`\n",
    "- 一般整数: `GRB.INTEGER`\n",
    "- 二进制: `GRB.BINARY`\n",
    "- 半连续: `GRB.SEMICONT`\n",
    "- 半整数: `GRB.SEMIINT`\n",
    "\n",
    "半连续变量具有取值为0或介于指定的下界和上界之间的值的性质。半整数变量增加了额外的限制，即变量必须取整数值。"
   ]
  },
  {
   "cell_type": "code",
   "execution_count": null,
   "id": "81839558",
   "metadata": {
    "slideshow": {
     "slide_type": "fragment"
    }
   },
   "outputs": [],
   "source": [
    "import gurobipy as gp\n",
    "from gurobipy import GRB\n",
    "\n",
    "with gp.Model(name=\"model\") as model:\n",
    "    # 定义一个二进制变量\n",
    "    x = model.addVar(vtype=GRB.BINARY, name=\"x\")\n",
    "    # 定义一个整数变量，下界为-1，上界为100\n",
    "    y = model.addVar(lb=-1, ub=100, vtype=GRB.INTEGER, name=\"y\")"
   ]
  },
  {
   "cell_type": "markdown",
   "id": "51071459",
   "metadata": {
    "slideshow": {
     "slide_type": "slide"
    }
   },
   "source": [
    "### [Model.addVars()](https://www.gurobi.com/documentation/current/refman/py_model_addvars.html#pythonmethod:Model.addVar)\n",
    "\n",
    "要将多个决策变量添加到模型中，请使用Model.addVars()方法，该方法返回一个包含新创建变量的Gurobi tupledict对象：\n",
    "```\n",
    "Model.addVars(*indices, lb=0.0, ub=float('inf'), obj=0.0, vtype=GRB.CONTINUOUS, name=\"\")\n",
    "```\n",
    "第一个参数是访问变量的索引：\n",
    "- Integers\n",
    "- lists of scalars\n",
    "- tuplelist\n",
    "- generator\n",
    "\n",
    "给定的名称下标为生成器表达式的索引。\n",
    "- 名称以ASCII字符串的形式存储\n",
    "    - 避免使用包含非ascii字符和空格的名称"
   ]
  },
  {
   "cell_type": "code",
   "execution_count": 6,
   "id": "b2948b40",
   "metadata": {
    "slideshow": {
     "slide_type": "fragment"
    }
   },
   "outputs": [
    {
     "name": "stdout",
     "output_type": "stream",
     "text": [
      "Set parameter LicenseID to value 2601452\n",
      "['x[0,0,0]', 'x[0,0,1]', 'x[0,0,2]', 'x[0,0,3]', 'x[0,1,0]', 'x[0,1,1]', 'x[0,1,2]', 'x[0,1,3]', 'x[0,2,0]', 'x[0,2,1]', 'x[0,2,2]', 'x[0,2,3]', 'x[1,0,0]', 'x[1,0,1]', 'x[1,0,2]', 'x[1,0,3]', 'x[1,1,0]', 'x[1,1,1]', 'x[1,1,2]', 'x[1,1,3]', 'x[1,2,0]', 'x[1,2,1]', 'x[1,2,2]', 'x[1,2,3]']\n",
      "\n",
      "Variables names, upper bounds, and indices:\n",
      "name: y_0, ub: 0.0, index: (1, 7)\n",
      "name: y_1, ub: 1.0, index: (1, 3)\n",
      "name: y_2, ub: 2.0, index: (1, 2)\n",
      "name: y_3, ub: 3.0, index: (5, 7)\n",
      "name: y_4, ub: 4.0, index: (5, 3)\n",
      "name: y_5, ub: 5.0, index: (5, 2)\n",
      "\n",
      "Variables names and lower and upper bounds:\n",
      "name: z[3,a], lb: -inf, ub: inf\n",
      "name: z[3,b], lb: -inf, ub: inf\n",
      "name: z[7,b], lb: -inf, ub: inf\n",
      "name: z[7,c], lb: -inf, ub: inf\n"
     ]
    }
   ],
   "source": [
    "import gurobipy as gp\n",
    "from gurobipy import GRB\n",
    "\n",
    "with gp.Model(name=\"model\") as model:\n",
    "    # 二进制变量的三维数组\n",
    "    x = model.addVars(2, 3, 4, vtype=GRB.BINARY, name=\"x\")\n",
    "    model.update()\n",
    "    print(model.getAttr(\"VarName\", model.getVars()))\n",
    "\n",
    "    # 使用任意的不可变对象列表来创建包含6个变量的元数组\n",
    "    y = model.addVars([1, 5], [7, 3, 2], ub=range(6), name=[f\"y_{i}\" for i in range(6)])\n",
    "    model.update()\n",
    "    print(\"\\nVariables names, upper bounds, and indices:\")\n",
    "    for index, var in y.items():\n",
    "        print(f\"name: {var.VarName}, ub: {var.UB}, index: {index}\")\n",
    "\n",
    "    # 使用任意的元组列表作为索引\n",
    "    z = model.addVars(\n",
    "        [(3, \"a\"), (3, \"b\"), (7, \"b\"), (7, \"c\")],\n",
    "        lb=-GRB.INFINITY,\n",
    "        ub=GRB.INFINITY,\n",
    "        name=\"z\",\n",
    "    )\n",
    "    model.update()\n",
    "    print(\"\\nVariables names and lower and upper bounds:\")\n",
    "    for index, var in z.items():\n",
    "        print(f\"name: {var.VarName}, lb: {var.LB}, ub: {var.UB}\")"
   ]
  },
  {
   "cell_type": "markdown",
   "id": "61214373",
   "metadata": {
    "slideshow": {
     "slide_type": "slide"
    }
   },
   "source": [
    "## 约束\n",
    "与变量一样，约束也与模型相关联。使用[Model.addConstr()](https://www.gurobi.com/documentation/current/refman/py_model_addconstr.html)方法向模型添加约束。\n",
    "```\n",
    "Model.addConstr(constr, name=\"\")\n",
    "```\n",
    "\n",
    "`constr`是一个[TempConstr](https://www.gurobi.com/documentation/current/refman/py_tempconstr.html#pythonclass:TempConstr)对象，可以采用不同的类型：\n",
    "\n",
    "- 线性约束: `x + y <= 1` \n",
    "- 范围线性约束: `x + y == [1, 3]`\n",
    "- 二次约束: `x*x + y*y + x*y <= 1`\n",
    "- 线性矩阵约束: `A @ x <= 1`\n",
    "- 二次矩阵约束: `x @ Q @ y <= 2`\n",
    "- 绝对值约束: `x == abs_(y)`\n",
    "- 逻辑约束: `x == and_(y, z)`\n",
    "- 最小或最大约束: `z == max_(x, y, constant=9)`\n",
    "- 指标约束: `(x == 1) >> (y + z <= 5)`"
   ]
  },
  {
   "cell_type": "code",
   "execution_count": 7,
   "id": "87d043c9",
   "metadata": {
    "slideshow": {
     "slide_type": "fragment"
    }
   },
   "outputs": [
    {
     "name": "stdout",
     "output_type": "stream",
     "text": [
      "RHS, sense = 4.0, <\n",
      "row: x[0] + x[1] + x[2] + x[3] + x[4] + x[5] + x[6] + x[7] + x[8] + x[9]\n",
      "\n",
      "\n",
      "\n",
      "Name: c_00\n",
      "\tRHS, sense = 3.0, >\n",
      "\trow: x[0] + y[0] + [ -1.0 x[0] * y[0] ]\n",
      "Name: c_01\n",
      "\tRHS, sense = 3.0, >\n",
      "\trow: x[0] + y[1] + [ -1.0 x[0] * y[1] ]\n",
      "Name: c_02\n",
      "\tRHS, sense = 3.0, >\n",
      "\trow: x[0] + y[2] + [ -1.0 x[0] * y[2] ]\n",
      "Name: c_03\n",
      "\tRHS, sense = 3.0, >\n",
      "\trow: x[0] + y[3] + [ -1.0 x[0] * y[3] ]\n",
      "Name: c_10\n",
      "\tRHS, sense = 3.0, >\n",
      "\trow: x[1] + y[0] + [ -1.0 x[1] * y[0] ]\n",
      "Name: c_11\n",
      "\tRHS, sense = 3.0, >\n",
      "\trow: x[1] + y[1] + [ -1.0 x[1] * y[1] ]\n",
      "Name: c_12\n",
      "\tRHS, sense = 3.0, >\n",
      "\trow: x[1] + y[2] + [ -1.0 x[1] * y[2] ]\n",
      "Name: c_13\n",
      "\tRHS, sense = 3.0, >\n",
      "\trow: x[1] + y[3] + [ -1.0 x[1] * y[3] ]\n",
      "Name: c_20\n",
      "\tRHS, sense = 3.0, >\n",
      "\trow: x[2] + y[0] + [ -1.0 x[2] * y[0] ]\n",
      "Name: c_21\n",
      "\tRHS, sense = 3.0, >\n",
      "\trow: x[2] + y[1] + [ -1.0 x[2] * y[1] ]\n",
      "Name: c_22\n",
      "\tRHS, sense = 3.0, >\n",
      "\trow: x[2] + y[2] + [ -1.0 x[2] * y[2] ]\n",
      "Name: c_23\n",
      "\tRHS, sense = 3.0, >\n",
      "\trow: x[2] + y[3] + [ -1.0 x[2] * y[3] ]\n",
      "Name: c_30\n",
      "\tRHS, sense = 3.0, >\n",
      "\trow: x[3] + y[0] + [ -1.0 x[3] * y[0] ]\n",
      "Name: c_31\n",
      "\tRHS, sense = 3.0, >\n",
      "\trow: x[3] + y[1] + [ -1.0 x[3] * y[1] ]\n",
      "Name: c_32\n",
      "\tRHS, sense = 3.0, >\n",
      "\trow: x[3] + y[2] + [ -1.0 x[3] * y[2] ]\n",
      "Name: c_33\n",
      "\tRHS, sense = 3.0, >\n",
      "\trow: x[3] + y[3] + [ -1.0 x[3] * y[3] ]\n",
      "Name: c_40\n",
      "\tRHS, sense = 3.0, >\n",
      "\trow: x[4] + y[0] + [ -1.0 x[4] * y[0] ]\n",
      "Name: c_41\n",
      "\tRHS, sense = 3.0, >\n",
      "\trow: x[4] + y[1] + [ -1.0 x[4] * y[1] ]\n",
      "Name: c_42\n",
      "\tRHS, sense = 3.0, >\n",
      "\trow: x[4] + y[2] + [ -1.0 x[4] * y[2] ]\n",
      "Name: c_43\n",
      "\tRHS, sense = 3.0, >\n",
      "\trow: x[4] + y[3] + [ -1.0 x[4] * y[3] ]\n"
     ]
    }
   ],
   "source": [
    "import gurobipy as gp\n",
    "from gurobipy import GRB\n",
    "\n",
    "# 为任意给定的n和b添加约束“\\sum_{i=1}^{n} x_i <= b”。假设x_i是二进制变量\n",
    "n, b = 10, 4\n",
    "with gp.Model(\"model\") as model:\n",
    "    x = model.addVars(n, vtype=GRB.BINARY, name=\"x\")\n",
    "    model.addConstr(gp.quicksum(x[i] for i in range(n)) <= b, name=\"c1\")\n",
    "    model.update()\n",
    "\n",
    "    # 打印约束c1的LHS、Sense和RHS\n",
    "    c1 = model.getConstrByName(\"c1\")\n",
    "    print(f\"RHS, sense = {c1.RHS}, {c1.Sense}\")\n",
    "    print(f\"row: {model.getRow(c1)}\")\n",
    "    print(\"\\n\\n\")\n",
    "\n",
    "# 添加约束“x_i y_j - x_i*y_j >= 3”。假设x_i和y_j是连续的\n",
    "n, m = 5, 4\n",
    "with gp.Model(\"model\") as model:\n",
    "    x = model.addVars(n, name=\"x\")\n",
    "    y = model.addVars(m, name=\"y\")\n",
    "\n",
    "    for i in range(n):\n",
    "        for j in range(m):\n",
    "            model.addConstr(x[i] + y[j] - x[i] * y[j] >= 3, name=f\"c_{i}{j}\")\n",
    "\n",
    "    model.update()\n",
    "\n",
    "    # Print the LHS, Sense, and RHS of all c_ij constraints\n",
    "    for c in model.getQConstrs():\n",
    "        print(f\"Name: {c.QCName}\")\n",
    "        print(f\"\\tRHS, sense = {c.QCRHS}, {c.QCSense}\")\n",
    "        print(f\"\\trow: {model.getQCRow(c)}\")"
   ]
  },
  {
   "cell_type": "markdown",
   "id": "b49864fc",
   "metadata": {
    "slideshow": {
     "slide_type": "slide"
    }
   },
   "source": [
    "### [Model.addConstrs](https://www.gurobi.com/documentation/current/refman/py_model_addconstrs.html)\n",
    "\n",
    "要向模型中添加多个约束，使用model.addconstrs()方法，该方法返回一个包含新创建约束的Gurobi tupledict：\n",
    "\n",
    "```\n",
    "Model.addConstrs(generator, name=\"\")\n",
    "```"
   ]
  },
  {
   "cell_type": "code",
   "execution_count": 8,
   "id": "ee87d5e7",
   "metadata": {
    "slideshow": {
     "slide_type": "fragment"
    }
   },
   "outputs": [
    {
     "name": "stdout",
     "output_type": "stream",
     "text": [
      "['c[0,a]', 'c[0,b]', 'c[0,c]', 'c[1,a]', 'c[1,b]', 'c[1,c]', 'c[2,a]', 'c[2,b]', 'c[2,c]', 'c[3,a]', 'c[3,b]', 'c[3,c]', 'c[4,a]', 'c[4,b]', 'c[4,c]']\n"
     ]
    }
   ],
   "source": [
    "import gurobipy as gp\n",
    "from gurobipy import GRB\n",
    "\n",
    "# 对所有（i, j）添加约束x_i + y_j <= 1。假设x_i和y_j是二进制变量\n",
    "I = range(5)\n",
    "J = [\"a\", \"b\", \"c\"]\n",
    "with gp.Model(\"model\") as model:\n",
    "    x = model.addVars(I, vtype=GRB.BINARY, name=\"x\")\n",
    "    y = model.addVars(J, vtype=GRB.BINARY, name=\"y\")\n",
    "\n",
    "    generator = (x[i] + y[j] <= 1 for i in I for j in J)\n",
    "    model.addConstrs(generator, name=\"c\")\n",
    "    model.update()\n",
    "\n",
    "    # Print constraint names\n",
    "    print(model.getAttr(\"ConstrName\", model.getConstrs()))"
   ]
  },
  {
   "cell_type": "markdown",
   "id": "c6e35294",
   "metadata": {
    "slideshow": {
     "slide_type": "slide"
    }
   },
   "source": [
    "## 目标函数\n",
    "\n",
    "要将模型目标设置为线性或二次表达式，请使用[Model.setObjective()](https://www.gurobi.com/documentation/current/refman/py_model_setobjective.html)方法：\n",
    "```\n",
    "Model.setObjective(expr, sense=GRB.MINIMIZE)\n",
    "```\n",
    "- expr: \n",
    "    - [LinExpr()](https://www.gurobi.com/documentation/current/refman/py_lex.html): 常数加上系数-变量对捕获线性项\n",
    "    - [QuadExpr()](https://www.gurobi.com/documentation/current/refman/py_qex.html): 线性表达式+系数-变量-变量三元组列表\n",
    "- sense:\n",
    "    - GRB.MINIMIZE (default) or GRB.MAXIMIZE"
   ]
  },
  {
   "cell_type": "code",
   "execution_count": 9,
   "id": "4e83785a",
   "metadata": {
    "slideshow": {
     "slide_type": "fragment"
    }
   },
   "outputs": [
    {
     "name": "stdout",
     "output_type": "stream",
     "text": [
      "obj: 0.1512515445081677 x[0] + 0.3291541476595792 x[1] + 0.8005249778673674 x[2] + 0.974099989221955 x[3] + 0.2628186839588105 x[4] + 0.9070584360180418 x[5] + 0.9627486894384101 x[6] + 0.1280724390723441 x[7] + 0.6882885209849768 x[8] + 0.932295625697586 x[9]\n",
      "\n",
      "obj: 0.0 + [ 0.7525031342511642 x[0] ^ 2 + 1.143852823313597 x[0] * x[1] + 1.3055475113378765 x[0] * x[2] + 0.7634217626453419 x[0] * x[3] + 0.7285503698021777 x[0] * x[4] + 1.2889420517441725 x[0] * x[5] + 1.1886704269940966 x[0] * x[6] + 1.4002153014202987 x[0] * x[7] + 1.0989281251875473 x[0] * x[8] + 0.3372517801257665 x[0] * x[9] + 0.698134085527861 x[1] ^ 2 + 1.0248325349620095 x[1] * x[2] + 0.9786676308573096 x[1] * x[3] + 0.9696252081631695 x[1] * x[4] + 1.3858910396039117 x[1] * x[5] + 0.7344468364738388 x[1] * x[6] + 0.8731192560967127 x[1] * x[7] + 0.8384893144593442 x[1] * x[8] + 1.1184807470441274 x[1] * x[9] + 0.21993985560974383 x[2] ^ 2 + 1.136977729838955 x[2] * x[3] + 1.1115908885695744 x[2] * x[4] + 1.8584640413522213 x[2] * x[5] + 0.678463048182862 x[2] * x[6] + 1.1722618199884716 x[2] * x[7] + 0.8808324196432286 x[2] * x[8] + 1.7864913367239548 x[2] * x[9] + 0.3917872168197185 x[3] ^ 2 + 1.07297524731498 x[3] * x[4] + 1.4286167529996132 x[3] * x[5] + 1.2445978473391626 x[3] * x[6] + 0.5304532031588373 x[3] * x[7] + 1.50361454797183 x[3] * x[8] + 0.9274041638431708 x[3] * x[9] + 0.701879715075506 x[4] ^ 2 + 1.3216365269539625 x[4] * x[5] + 1.0820254020621798 x[4] * x[6] + 1.208441514968717 x[4] * x[7] + 0.9119271826041477 x[4] * x[8] + 0.9495491104612722 x[4] * x[9] + 0.8435771933992303 x[5] ^ 2 + 1.7385309209353557 x[5] * x[6] + 1.0524750069458675 x[5] * x[7] + 1.2095400022715643 x[5] * x[8] + 1.32744639409559 x[5] * x[9] + 0.8446849208298327 x[6] ^ 2 + 1.5283658189829077 x[6] * x[7] + 0.6839430003209994 x[6] * x[8] + 0.3969115881622094 x[6] * x[9] + 0.9218881052522518 x[7] ^ 2 + 0.3797901277927178 x[7] * x[8] + 1.0195809111634309 x[7] * x[9] + 0.9012814877520635 x[8] ^ 2 + 0.3618251009725332 x[8] * x[9] + 0.23650034334728864 x[9] ^ 2 ]\n"
     ]
    }
   ],
   "source": [
    "import gurobipy as gp\n",
    "from gurobipy import GRB\n",
    "\n",
    "import numpy as np\n",
    "\n",
    "# 添加形如c^Tx的线性目标和形如x^TQx的二次目标。\n",
    "n = 10\n",
    "c = np.random.rand(n)\n",
    "Q = np.random.rand(n, n)\n",
    "\n",
    "with gp.Model(\"model\") as model:\n",
    "    x = model.addVars(n, name=\"x\")\n",
    "    linexpr = gp.quicksum(c[i] * x[i] for i in range(n))\n",
    "    # linexpr = gp.quicksum(c_i * x_i for c_i, x_i in zip(c, x.values()))\n",
    "    model.setObjective(linexpr)\n",
    "    model.update()\n",
    "\n",
    "    # 打印目标表达式\n",
    "    obj = model.getObjective()\n",
    "    print(f\"obj: {obj}\")\n",
    "\n",
    "with gp.Model(\"model\") as model:\n",
    "    x = model.addVars(n, name=\"x\")\n",
    "    quadexpr = 0\n",
    "    for i in range(n):\n",
    "        for j in range(n):\n",
    "            quadexpr += x[i] * Q[i, j] * x[j]\n",
    "    model.setObjective(quadexpr)\n",
    "    model.update()\n",
    "\n",
    "    # Print objective expression\n",
    "    obj = model.getObjective()\n",
    "    print(f\"\\nobj: {obj}\")"
   ]
  },
  {
   "cell_type": "markdown",
   "id": "82e22abf",
   "metadata": {
    "slideshow": {
     "slide_type": "slide"
    }
   },
   "source": [
    "## [属性](https://www.gurobi.com/documentation/current/refman/attributes.html)\n",
    "\n",
    "查询和修改Gurobi对象属性的主要机制是通过属性接口。您可以在上面链接的参考中看到完整的Gurobi属性集。\n",
    "\n",
    "让我们看一个如何在优化完成后查询模型对象上有用属性的示例。"
   ]
  },
  {
   "cell_type": "code",
   "execution_count": null,
   "id": "475ea4d5",
   "metadata": {
    "slideshow": {
     "slide_type": "fragment"
    }
   },
   "outputs": [
    {
     "ename": "RemoteDisconnected",
     "evalue": "Remote end closed connection without response",
     "output_type": "error",
     "traceback": [
      "\u001b[1;31m---------------------------------------------------------------------------\u001b[0m",
      "\u001b[1;31mRemoteDisconnected\u001b[0m                        Traceback (most recent call last)",
      "Cell \u001b[1;32mIn[12], line 6\u001b[0m\n\u001b[0;32m      3\u001b[0m \u001b[38;5;28;01mfrom\u001b[39;00m \u001b[38;5;21;01mgurobipy\u001b[39;00m \u001b[38;5;28;01mimport\u001b[39;00m GRB\n\u001b[0;32m      5\u001b[0m url \u001b[38;5;241m=\u001b[39m \u001b[38;5;124m\"\u001b[39m\u001b[38;5;124mhttps://raw.githubusercontent.com/Gurobi/modeling-examples/master/intro_to_gurobipy/data/glass4.mps.bz2\u001b[39m\u001b[38;5;124m\"\u001b[39m\n\u001b[1;32m----> 6\u001b[0m path_to_file, _ \u001b[38;5;241m=\u001b[39m \u001b[43murllib\u001b[49m\u001b[38;5;241;43m.\u001b[39;49m\u001b[43mrequest\u001b[49m\u001b[38;5;241;43m.\u001b[39;49m\u001b[43murlretrieve\u001b[49m\u001b[43m(\u001b[49m\u001b[43murl\u001b[49m\u001b[43m,\u001b[49m\u001b[43m \u001b[49m\u001b[38;5;124;43m\"\u001b[39;49m\u001b[38;5;124;43m./glass4.mps.bz2\u001b[39;49m\u001b[38;5;124;43m\"\u001b[39;49m\u001b[43m)\u001b[49m\n\u001b[0;32m      8\u001b[0m \u001b[38;5;66;03m# 本地运行笔记本:\u001b[39;00m\n\u001b[0;32m      9\u001b[0m \u001b[38;5;28;01mwith\u001b[39;00m gp\u001b[38;5;241m.\u001b[39mread(\u001b[38;5;124m\"\u001b[39m\u001b[38;5;124m./data/glass4.mps.bz2\u001b[39m\u001b[38;5;124m\"\u001b[39m) \u001b[38;5;28;01mas\u001b[39;00m model:\n\u001b[0;32m     10\u001b[0m \u001b[38;5;66;03m# with gp.read(path_to_file) as model:\u001b[39;00m\n",
      "File \u001b[1;32md:\\ComputerSoftware\\Python\\Lib\\urllib\\request.py:240\u001b[0m, in \u001b[0;36murlretrieve\u001b[1;34m(url, filename, reporthook, data)\u001b[0m\n\u001b[0;32m    223\u001b[0m \u001b[38;5;250m\u001b[39m\u001b[38;5;124;03m\"\"\"\u001b[39;00m\n\u001b[0;32m    224\u001b[0m \u001b[38;5;124;03mRetrieve a URL into a temporary location on disk.\u001b[39;00m\n\u001b[0;32m    225\u001b[0m \n\u001b[1;32m   (...)\u001b[0m\n\u001b[0;32m    236\u001b[0m \u001b[38;5;124;03mdata file as well as the resulting HTTPMessage object.\u001b[39;00m\n\u001b[0;32m    237\u001b[0m \u001b[38;5;124;03m\"\"\"\u001b[39;00m\n\u001b[0;32m    238\u001b[0m url_type, path \u001b[38;5;241m=\u001b[39m _splittype(url)\n\u001b[1;32m--> 240\u001b[0m \u001b[38;5;28;01mwith\u001b[39;00m contextlib\u001b[38;5;241m.\u001b[39mclosing(\u001b[43murlopen\u001b[49m\u001b[43m(\u001b[49m\u001b[43murl\u001b[49m\u001b[43m,\u001b[49m\u001b[43m \u001b[49m\u001b[43mdata\u001b[49m\u001b[43m)\u001b[49m) \u001b[38;5;28;01mas\u001b[39;00m fp:\n\u001b[0;32m    241\u001b[0m     headers \u001b[38;5;241m=\u001b[39m fp\u001b[38;5;241m.\u001b[39minfo()\n\u001b[0;32m    243\u001b[0m     \u001b[38;5;66;03m# Just return the local path and the \"headers\" for file://\u001b[39;00m\n\u001b[0;32m    244\u001b[0m     \u001b[38;5;66;03m# URLs. No sense in performing a copy unless requested.\u001b[39;00m\n",
      "File \u001b[1;32md:\\ComputerSoftware\\Python\\Lib\\urllib\\request.py:215\u001b[0m, in \u001b[0;36murlopen\u001b[1;34m(url, data, timeout, cafile, capath, cadefault, context)\u001b[0m\n\u001b[0;32m    213\u001b[0m \u001b[38;5;28;01melse\u001b[39;00m:\n\u001b[0;32m    214\u001b[0m     opener \u001b[38;5;241m=\u001b[39m _opener\n\u001b[1;32m--> 215\u001b[0m \u001b[38;5;28;01mreturn\u001b[39;00m \u001b[43mopener\u001b[49m\u001b[38;5;241;43m.\u001b[39;49m\u001b[43mopen\u001b[49m\u001b[43m(\u001b[49m\u001b[43murl\u001b[49m\u001b[43m,\u001b[49m\u001b[43m \u001b[49m\u001b[43mdata\u001b[49m\u001b[43m,\u001b[49m\u001b[43m \u001b[49m\u001b[43mtimeout\u001b[49m\u001b[43m)\u001b[49m\n",
      "File \u001b[1;32md:\\ComputerSoftware\\Python\\Lib\\urllib\\request.py:515\u001b[0m, in \u001b[0;36mOpenerDirector.open\u001b[1;34m(self, fullurl, data, timeout)\u001b[0m\n\u001b[0;32m    512\u001b[0m     req \u001b[38;5;241m=\u001b[39m meth(req)\n\u001b[0;32m    514\u001b[0m sys\u001b[38;5;241m.\u001b[39maudit(\u001b[38;5;124m'\u001b[39m\u001b[38;5;124murllib.Request\u001b[39m\u001b[38;5;124m'\u001b[39m, req\u001b[38;5;241m.\u001b[39mfull_url, req\u001b[38;5;241m.\u001b[39mdata, req\u001b[38;5;241m.\u001b[39mheaders, req\u001b[38;5;241m.\u001b[39mget_method())\n\u001b[1;32m--> 515\u001b[0m response \u001b[38;5;241m=\u001b[39m \u001b[38;5;28;43mself\u001b[39;49m\u001b[38;5;241;43m.\u001b[39;49m\u001b[43m_open\u001b[49m\u001b[43m(\u001b[49m\u001b[43mreq\u001b[49m\u001b[43m,\u001b[49m\u001b[43m \u001b[49m\u001b[43mdata\u001b[49m\u001b[43m)\u001b[49m\n\u001b[0;32m    517\u001b[0m \u001b[38;5;66;03m# post-process response\u001b[39;00m\n\u001b[0;32m    518\u001b[0m meth_name \u001b[38;5;241m=\u001b[39m protocol\u001b[38;5;241m+\u001b[39m\u001b[38;5;124m\"\u001b[39m\u001b[38;5;124m_response\u001b[39m\u001b[38;5;124m\"\u001b[39m\n",
      "File \u001b[1;32md:\\ComputerSoftware\\Python\\Lib\\urllib\\request.py:532\u001b[0m, in \u001b[0;36mOpenerDirector._open\u001b[1;34m(self, req, data)\u001b[0m\n\u001b[0;32m    529\u001b[0m     \u001b[38;5;28;01mreturn\u001b[39;00m result\n\u001b[0;32m    531\u001b[0m protocol \u001b[38;5;241m=\u001b[39m req\u001b[38;5;241m.\u001b[39mtype\n\u001b[1;32m--> 532\u001b[0m result \u001b[38;5;241m=\u001b[39m \u001b[38;5;28;43mself\u001b[39;49m\u001b[38;5;241;43m.\u001b[39;49m\u001b[43m_call_chain\u001b[49m\u001b[43m(\u001b[49m\u001b[38;5;28;43mself\u001b[39;49m\u001b[38;5;241;43m.\u001b[39;49m\u001b[43mhandle_open\u001b[49m\u001b[43m,\u001b[49m\u001b[43m \u001b[49m\u001b[43mprotocol\u001b[49m\u001b[43m,\u001b[49m\u001b[43m \u001b[49m\u001b[43mprotocol\u001b[49m\u001b[43m \u001b[49m\u001b[38;5;241;43m+\u001b[39;49m\n\u001b[0;32m    533\u001b[0m \u001b[43m                          \u001b[49m\u001b[38;5;124;43m'\u001b[39;49m\u001b[38;5;124;43m_open\u001b[39;49m\u001b[38;5;124;43m'\u001b[39;49m\u001b[43m,\u001b[49m\u001b[43m \u001b[49m\u001b[43mreq\u001b[49m\u001b[43m)\u001b[49m\n\u001b[0;32m    534\u001b[0m \u001b[38;5;28;01mif\u001b[39;00m result:\n\u001b[0;32m    535\u001b[0m     \u001b[38;5;28;01mreturn\u001b[39;00m result\n",
      "File \u001b[1;32md:\\ComputerSoftware\\Python\\Lib\\urllib\\request.py:492\u001b[0m, in \u001b[0;36mOpenerDirector._call_chain\u001b[1;34m(self, chain, kind, meth_name, *args)\u001b[0m\n\u001b[0;32m    490\u001b[0m \u001b[38;5;28;01mfor\u001b[39;00m handler \u001b[38;5;129;01min\u001b[39;00m handlers:\n\u001b[0;32m    491\u001b[0m     func \u001b[38;5;241m=\u001b[39m \u001b[38;5;28mgetattr\u001b[39m(handler, meth_name)\n\u001b[1;32m--> 492\u001b[0m     result \u001b[38;5;241m=\u001b[39m \u001b[43mfunc\u001b[49m\u001b[43m(\u001b[49m\u001b[38;5;241;43m*\u001b[39;49m\u001b[43margs\u001b[49m\u001b[43m)\u001b[49m\n\u001b[0;32m    493\u001b[0m     \u001b[38;5;28;01mif\u001b[39;00m result \u001b[38;5;129;01mis\u001b[39;00m \u001b[38;5;129;01mnot\u001b[39;00m \u001b[38;5;28;01mNone\u001b[39;00m:\n\u001b[0;32m    494\u001b[0m         \u001b[38;5;28;01mreturn\u001b[39;00m result\n",
      "File \u001b[1;32md:\\ComputerSoftware\\Python\\Lib\\urllib\\request.py:1392\u001b[0m, in \u001b[0;36mHTTPSHandler.https_open\u001b[1;34m(self, req)\u001b[0m\n\u001b[0;32m   1391\u001b[0m \u001b[38;5;28;01mdef\u001b[39;00m \u001b[38;5;21mhttps_open\u001b[39m(\u001b[38;5;28mself\u001b[39m, req):\n\u001b[1;32m-> 1392\u001b[0m     \u001b[38;5;28;01mreturn\u001b[39;00m \u001b[38;5;28;43mself\u001b[39;49m\u001b[38;5;241;43m.\u001b[39;49m\u001b[43mdo_open\u001b[49m\u001b[43m(\u001b[49m\u001b[43mhttp\u001b[49m\u001b[38;5;241;43m.\u001b[39;49m\u001b[43mclient\u001b[49m\u001b[38;5;241;43m.\u001b[39;49m\u001b[43mHTTPSConnection\u001b[49m\u001b[43m,\u001b[49m\u001b[43m \u001b[49m\u001b[43mreq\u001b[49m\u001b[43m,\u001b[49m\n\u001b[0;32m   1393\u001b[0m \u001b[43m                        \u001b[49m\u001b[43mcontext\u001b[49m\u001b[38;5;241;43m=\u001b[39;49m\u001b[38;5;28;43mself\u001b[39;49m\u001b[38;5;241;43m.\u001b[39;49m\u001b[43m_context\u001b[49m\u001b[43m)\u001b[49m\n",
      "File \u001b[1;32md:\\ComputerSoftware\\Python\\Lib\\urllib\\request.py:1348\u001b[0m, in \u001b[0;36mAbstractHTTPHandler.do_open\u001b[1;34m(self, http_class, req, **http_conn_args)\u001b[0m\n\u001b[0;32m   1346\u001b[0m     \u001b[38;5;28;01mexcept\u001b[39;00m \u001b[38;5;167;01mOSError\u001b[39;00m \u001b[38;5;28;01mas\u001b[39;00m err: \u001b[38;5;66;03m# timeout error\u001b[39;00m\n\u001b[0;32m   1347\u001b[0m         \u001b[38;5;28;01mraise\u001b[39;00m URLError(err)\n\u001b[1;32m-> 1348\u001b[0m     r \u001b[38;5;241m=\u001b[39m \u001b[43mh\u001b[49m\u001b[38;5;241;43m.\u001b[39;49m\u001b[43mgetresponse\u001b[49m\u001b[43m(\u001b[49m\u001b[43m)\u001b[49m\n\u001b[0;32m   1349\u001b[0m \u001b[38;5;28;01mexcept\u001b[39;00m:\n\u001b[0;32m   1350\u001b[0m     h\u001b[38;5;241m.\u001b[39mclose()\n",
      "File \u001b[1;32md:\\ComputerSoftware\\Python\\Lib\\http\\client.py:1423\u001b[0m, in \u001b[0;36mHTTPConnection.getresponse\u001b[1;34m(self)\u001b[0m\n\u001b[0;32m   1421\u001b[0m \u001b[38;5;28;01mtry\u001b[39;00m:\n\u001b[0;32m   1422\u001b[0m     \u001b[38;5;28;01mtry\u001b[39;00m:\n\u001b[1;32m-> 1423\u001b[0m         \u001b[43mresponse\u001b[49m\u001b[38;5;241;43m.\u001b[39;49m\u001b[43mbegin\u001b[49m\u001b[43m(\u001b[49m\u001b[43m)\u001b[49m\n\u001b[0;32m   1424\u001b[0m     \u001b[38;5;28;01mexcept\u001b[39;00m \u001b[38;5;167;01mConnectionError\u001b[39;00m:\n\u001b[0;32m   1425\u001b[0m         \u001b[38;5;28mself\u001b[39m\u001b[38;5;241m.\u001b[39mclose()\n",
      "File \u001b[1;32md:\\ComputerSoftware\\Python\\Lib\\http\\client.py:331\u001b[0m, in \u001b[0;36mHTTPResponse.begin\u001b[1;34m(self)\u001b[0m\n\u001b[0;32m    329\u001b[0m \u001b[38;5;66;03m# read until we get a non-100 response\u001b[39;00m\n\u001b[0;32m    330\u001b[0m \u001b[38;5;28;01mwhile\u001b[39;00m \u001b[38;5;28;01mTrue\u001b[39;00m:\n\u001b[1;32m--> 331\u001b[0m     version, status, reason \u001b[38;5;241m=\u001b[39m \u001b[38;5;28;43mself\u001b[39;49m\u001b[38;5;241;43m.\u001b[39;49m\u001b[43m_read_status\u001b[49m\u001b[43m(\u001b[49m\u001b[43m)\u001b[49m\n\u001b[0;32m    332\u001b[0m     \u001b[38;5;28;01mif\u001b[39;00m status \u001b[38;5;241m!=\u001b[39m CONTINUE:\n\u001b[0;32m    333\u001b[0m         \u001b[38;5;28;01mbreak\u001b[39;00m\n",
      "File \u001b[1;32md:\\ComputerSoftware\\Python\\Lib\\http\\client.py:300\u001b[0m, in \u001b[0;36mHTTPResponse._read_status\u001b[1;34m(self)\u001b[0m\n\u001b[0;32m    296\u001b[0m     \u001b[38;5;28mprint\u001b[39m(\u001b[38;5;124m\"\u001b[39m\u001b[38;5;124mreply:\u001b[39m\u001b[38;5;124m\"\u001b[39m, \u001b[38;5;28mrepr\u001b[39m(line))\n\u001b[0;32m    297\u001b[0m \u001b[38;5;28;01mif\u001b[39;00m \u001b[38;5;129;01mnot\u001b[39;00m line:\n\u001b[0;32m    298\u001b[0m     \u001b[38;5;66;03m# Presumably, the server closed the connection before\u001b[39;00m\n\u001b[0;32m    299\u001b[0m     \u001b[38;5;66;03m# sending a valid response.\u001b[39;00m\n\u001b[1;32m--> 300\u001b[0m     \u001b[38;5;28;01mraise\u001b[39;00m RemoteDisconnected(\u001b[38;5;124m\"\u001b[39m\u001b[38;5;124mRemote end closed connection without\u001b[39m\u001b[38;5;124m\"\u001b[39m\n\u001b[0;32m    301\u001b[0m                              \u001b[38;5;124m\"\u001b[39m\u001b[38;5;124m response\u001b[39m\u001b[38;5;124m\"\u001b[39m)\n\u001b[0;32m    302\u001b[0m \u001b[38;5;28;01mtry\u001b[39;00m:\n\u001b[0;32m    303\u001b[0m     version, status, reason \u001b[38;5;241m=\u001b[39m line\u001b[38;5;241m.\u001b[39msplit(\u001b[38;5;28;01mNone\u001b[39;00m, \u001b[38;5;241m2\u001b[39m)\n",
      "\u001b[1;31mRemoteDisconnected\u001b[0m: Remote end closed connection without response"
     ]
    }
   ],
   "source": [
    "import urllib.request\n",
    "import gurobipy as gp\n",
    "from gurobipy import GRB\n",
    "\n",
    "url = \"https://raw.githubusercontent.com/Gurobi/modeling-examples/master/intro_to_gurobipy/data/glass4.mps.bz2\"\n",
    "path_to_file, _ = urllib.request.urlretrieve(url, \"./glass4.mps.bz2\")\n",
    "\n",
    "# 本地运行笔记本:\n",
    "# with gp.read(\"./data/glass4.mps.bz2\") as model:\n",
    "with gp.read(path_to_file) as model:\n",
    "    model.optimize()\n",
    "\n",
    "    print(\"****************** SOLUTION ******************\")\n",
    "    print(f\"\\tStatus       : {model.Status}\")\n",
    "    print(f\"\\tObj          : {model.ObjVal}\")\n",
    "    print(f\"\\tSolutionCount: {model.SolCount}\")\n",
    "    print(f\"\\tRuntime      : {model.Runtime}\")\n",
    "    print(f\"\\tMIPGap       : {model.MIPGap}\")\n",
    "\n",
    "    print(\"\\n\")\n",
    "    for var in model.getVars()[:20]:\n",
    "        print(f\"\\t{var.VarName} = {var.X}\")"
   ]
  },
  {
   "cell_type": "markdown",
   "id": "ca8ac2a1",
   "metadata": {
    "slideshow": {
     "slide_type": "slide"
    }
   },
   "source": [
    "## [参数](https://www.gurobi.com/documentation/current/refman/parameter_descriptions.html)\n",
    "参数控制着Gurobi Optimizer的机制。"
   ]
  },
  {
   "cell_type": "code",
   "execution_count": null,
   "id": "8d5f7434",
   "metadata": {
    "slideshow": {
     "slide_type": "fragment"
    }
   },
   "outputs": [],
   "source": [
    "import urllib.request\n",
    "import gurobipy as gp\n",
    "from gurobipy import GRB\n",
    "\n",
    "url = \"https://raw.githubusercontent.com/Gurobi/modeling-examples/master/intro_to_gurobipy/data/glass4.mps.bz2\"\n",
    "path_to_file, _ = urllib.request.urlretrieve(url, \"./glass4.mps.bz2\")\n",
    "\n",
    "# 本地运行笔记本:\n",
    "# with gp.read(\"data/glass4.mps.bz2\") as model:\n",
    "with gp.read(path_to_file) as model:\n",
    "    model.params.Threads = 1\n",
    "    model.params.TimeLimit = 10\n",
    "    model.optimize()"
   ]
  },
  {
   "cell_type": "markdown",
   "id": "97615d56",
   "metadata": {
    "slideshow": {
     "slide_type": "slide"
    }
   },
   "source": [
    "## [一般的约束](https://www.gurobi.com/documentation/current/refman/constraints.html#subsubsection:GeneralConstraints)\n",
    "\n",
    "一般约束允许很容易地定义某些变量关系，而不需要根据更基本的MIP约束对这些关系进行建模。捕获这些一般约束中的单个约束通常需要大量约束和许多辅助决策变量。\n",
    "\n",
    "- __简单一般约束__: \n",
    "    - $z = \\mbox{max(x, y, 3)}$: `model.addConstr(z == max_(x, y, constant=3))`\n",
    "    - $z = \\mbox{min(x, y, 3)}$: `model.addConstr(z == min_(x, y, constant=3))`\n",
    "    - $y = \\mbox{abs(x)}$: `model.addConstr(y == abs_(x))`\n",
    "    - $z = x \\land y$: `model.addConstr(z == and_(x, y))`\n",
    "    - $z = x \\lor y$: `model.addConstr(z == or_(x, y))`\n",
    "    - $z = ||x||_p, ~~ p = 0, 1, 2, \\infty$: `model.addConstr(nx == norm(x, 1.0))`\n",
    "    - indicator: \n",
    "        -  $x_0 = 1 -> x_1 + 2 x_2 + x_3 \\leq 1$\n",
    "            - `model.addGenConstrIndicator(x0, 1, x1 + 2*x2 + x3 <= 1)`\n",
    "            - `model.addConstr((x0 == 1) >> (x1 + 2*x2 + x3 <= 1))`\n",
    "    - piece-wise linear:\n",
    "        - `model.addGenConstrPWL(x, y, [0, 1, 2], [1.5, 0, 3], \"\")`\n",
    "- __函数的约束__: \n",
    "    - $y = p_0x^n + p_1x^{n-1} + \\ldots + p_nx+ p_{n+1}$:\n",
    "        - $y = 2 x^3 + 1.5 x^2 + 1$\n",
    "          - `model.addGenConstrPoly(x, y, [2, 1.5, 0, 1])`\n",
    "    - $y = e^x$: `model.addGenConstrExp(x, y)`\n",
    "    - $y = a^x$: `model.addGenConstrExpA(x, y, a)`\n",
    "    - $y = \\ln(x)$: `model.addGenConstrLog(x, y)`\n",
    "    - $y = \\log_a(x)$: `model.addGenConstrLogA(x, y, a)`\n",
    "    - $y = \\frac{1}{1+e^{-x}}$: `model.addGenConstrLogistic(x, y)`\n",
    "    - $y = x^a$: `model.addGenConstrPow(x, y, a)`\n",
    "    - $y = \\sin(x)$: `model.addGenConstrSin(x, y)`\n",
    "    - $y = \\cos(x)$: `model.addGenConstrCos(x, y)`\n",
    "    - $y = \\tan(x)$: `model.addGenConstrTan(x, y)`\n",
    "   \n",
    "Gurobi将自动向模型中添加函数的分段线性近似。"
   ]
  },
  {
   "cell_type": "code",
   "execution_count": null,
   "id": "5e1ba317",
   "metadata": {
    "slideshow": {
     "slide_type": "fragment"
    }
   },
   "outputs": [
    {
     "name": "stdout",
     "output_type": "stream",
     "text": [
      "Set parameter FuncPieces to value 1\n",
      "Set parameter FuncPieceLength to value 0.001\n",
      "Gurobi Optimizer version 12.0.0 build v12.0.0rc1 (win64 - Windows 11.0 (22631.2))\n",
      "\n",
      "CPU model: Intel(R) Core(TM) Ultra 5 125H, instruction set [SSE2|AVX|AVX2]\n",
      "Thread count: 14 physical cores, 18 logical processors, using up to 18 threads\n",
      "\n",
      "Non-default parameters:\n",
      "FuncPieces  1\n",
      "FuncPieceLength  0.001\n",
      "\n",
      "Optimize a model with 1 rows, 4 columns and 2 nonzeros\n",
      "Model fingerprint: 0x1d1d047b\n",
      "Model has 2 function constraints treated as nonlinear\n",
      "  1 EXP, 1 POW\n",
      "Variable types: 4 continuous, 0 integer (0 binary)\n",
      "Coefficient statistics:\n",
      "  Matrix range     [1e+00, 4e+00]\n",
      "  Objective range  [1e+00, 2e+00]\n",
      "  Bounds range     [0e+00, 0e+00]\n",
      "  RHS range        [9e+00, 9e+00]\n",
      "Presolve time: 0.01s\n",
      "Presolved: 11 rows, 5 columns, 22 nonzeros\n",
      "Presolved model has 2 nonlinear constraint(s)\n",
      "\n",
      "Solving non-convex MINLP\n",
      "\n",
      "Variable types: 5 continuous, 0 integer (0 binary)\n",
      "Found heuristic solution: objective 4.4735963\n",
      "\n",
      "Root relaxation: objective 5.123248e+00, 5 iterations, 0.00 seconds (0.00 work units)\n",
      "\n",
      "    Nodes    |    Current Node    |     Objective Bounds      |     Work\n",
      " Expl Unexpl |  Obj  Depth IntInf | Incumbent    BestBd   Gap | It/Node Time\n",
      "\n",
      "     0     0    5.12325    0    2    4.47360    5.12325  14.5%     -    0s\n",
      "     0     0    5.04737    0    2    4.47360    5.04737  12.8%     -    0s\n",
      "     0     0    5.01680    0    2    4.47360    5.01680  12.1%     -    0s\n",
      "     0     0    5.01005    0    2    4.47360    5.01005  12.0%     -    0s\n",
      "     0     0    5.00820    0    2    4.47360    5.00820  12.0%     -    0s\n",
      "     0     0    5.00779    0    2    4.47360    5.00779  11.9%     -    0s\n",
      "     0     0    4.73388    0    2    4.47360    4.73388  5.82%     -    0s\n",
      "     0     2    4.73388    0    2    4.47360    4.73388  5.82%     -    0s\n",
      "\n",
      "Explored 19 nodes (45 simplex iterations) in 0.11 seconds (0.00 work units)\n",
      "Thread count was 18 (of 18 available processors)\n",
      "\n",
      "Solution count 1: 4.4736 \n",
      "\n",
      "Optimal solution found (tolerance 1.00e-04)\n",
      "Best objective 4.473596331615e+00, best bound 4.473778874418e+00, gap 0.0041%\n",
      "****************** SOLUTION ******************\n",
      "x = 0.8913614434939635, u = 2.4384472005151676\n",
      "y = 2.6908734446268614, v = 1.6403881993696676\n",
      "Obj = 4.473596331614789\n",
      "Vio = 0\n"
     ]
    }
   ],
   "source": [
    "# 考虑下面的非凸非线性问题\n",
    "#\n",
    "#  maximize    2 x    + y\n",
    "#  subject to  exp(x) + 4 sqrt(y) <= 9\n",
    "#              x, y >= 0\n",
    "\n",
    "import gurobipy as gp\n",
    "from gurobipy import GRB\n",
    "import math\n",
    "\n",
    "with gp.Model(\"model\") as model:\n",
    "    x = model.addVar(name=\"x\")\n",
    "    y = model.addVar(name=\"y\")\n",
    "    u = model.addVar(name=\"u\")\n",
    "    v = model.addVar(name=\"v\")\n",
    "\n",
    "    # Set objective\n",
    "    model.setObjective(2 * x + y, GRB.MAXIMIZE)\n",
    "\n",
    "    # u = exp(x)\n",
    "    gcf1 = model.addGenConstrExp(x, u, name=\"gcf1\")\n",
    "    # v = y^(0.5)\n",
    "    gcf2 = model.addGenConstrPow(y, v, 0.5, name=\"gcf2\")\n",
    "    c = model.addConstr(u + 4 * v <= 9)\n",
    "\n",
    "    # 使用等长方法，长度= 1e-3\n",
    "    model.Params.FuncPieces = 1\n",
    "    model.Params.FuncPieceLength = 1e-3\n",
    "\n",
    "    # 优化模型\n",
    "    model.optimize()\n",
    "\n",
    "    print(\"****************** SOLUTION ******************\")\n",
    "    print(f\"x = {x.X}, u = {u.X}\")\n",
    "    print(f\"y = {y.X}, v = {v.X}\")\n",
    "    print(f\"Obj = {model.ObjVal}\")\n",
    "\n",
    "    # 计算 exp(x)+4sqrt(y)<=9 的违反情况\n",
    "    vio = math.exp(x.X) + 4 * math.sqrt(y.X) - 9\n",
    "    if vio < 0:\n",
    "        vio = 0\n",
    "    print(f\"Vio = {vio}\")"
   ]
  },
  {
   "cell_type": "markdown",
   "id": "a2314369",
   "metadata": {
    "slideshow": {
     "slide_type": "slide"
    }
   },
   "source": [
    "## 示例：投资组合优化\n",
    "\n",
    "在投资组合优化问题中，有$n$资产。每个资产$i$与一个预期收益$\\mu_i$相关联，每一对资产$(i, j)$具有一个协方差（风险）$ \\sigma_{ij}$。目标是找到投资组合中投资于每种资产的最优比例，以使投资风险最小化，从而使1)投资的总预期回报超过最小目标回报$\\mu_0$和2)投资组合最多投资$k \\leq n$资产。\n",
    "\n",
    "- $x_i$: 相对投资于资产$i$\n",
    "- $y_i$: $i$是否被交易的二元变量\n",
    "\n",
    "\\begin{align}\n",
    "\\mbox{minimize} \\quad & \\sum_{i=1}^{n} \\sum_{j=1}^{n} \\sigma_{ij} x_i x_j & \\notag \\\\\n",
    "\\mbox{subject to} \\quad & \\sum_{i=1}^{n} \\mu_i x_i \\geq \\mu_0 & \\notag \\\\\n",
    "                        & \\sum_{i=1}^{n} x_i = 1 & \\notag \\\\\n",
    "                        & \\sum_{i=1}^{n} y_i \\leq k & \\notag \\\\\n",
    "                        & x_i \\leq y_i & i=1, \\ldots, n \\notag \\\\\n",
    "                        & 0 \\leq x_i \\leq 1 & i=1, \\ldots, n \\notag \\\\\n",
    "                        & y_i \\in \\{0, 1\\} & i=1, \\ldots, n \\notag\n",
    "\\end{align}"
   ]
  },
  {
   "cell_type": "code",
   "execution_count": 15,
   "id": "18a48e9e",
   "metadata": {
    "slideshow": {
     "slide_type": "fragment"
    }
   },
   "outputs": [],
   "source": [
    "import json\n",
    "from urllib.request import urlopen\n",
    "import numpy as np\n",
    "\n",
    "url = \"https://raw.githubusercontent.com/Gurobi/modeling-examples/master/intro_to_gurobipy/data/portfolio-example.json\"\n",
    "response = urlopen(url)\n",
    "data = json.loads(response.read())\n",
    "\n",
    "n = data[\"num_assets\"]\n",
    "sigma = np.array(data[\"covariance\"])\n",
    "mu = np.array(data[\"expected_return\"])\n",
    "mu_0 = data[\"target_return\"]\n",
    "k = data[\"portfolio_max_size\"]"
   ]
  },
  {
   "cell_type": "code",
   "execution_count": 16,
   "id": "3d1519b2",
   "metadata": {
    "slideshow": {
     "slide_type": "fragment"
    }
   },
   "outputs": [
    {
     "name": "stdout",
     "output_type": "stream",
     "text": [
      "Gurobi Optimizer version 12.0.0 build v12.0.0rc1 (win64 - Windows 11.0 (22631.2))\n",
      "\n",
      "CPU model: Intel(R) Core(TM) Ultra 5 125H, instruction set [SSE2|AVX|AVX2]\n",
      "Thread count: 14 physical cores, 18 logical processors, using up to 18 threads\n",
      "\n",
      "Optimize a model with 23 rows, 40 columns and 100 nonzeros\n",
      "Model fingerprint: 0x755216b2\n",
      "Model has 210 quadratic objective terms\n",
      "Variable types: 20 continuous, 20 integer (20 binary)\n",
      "Coefficient statistics:\n",
      "  Matrix range     [1e-04, 1e+00]\n",
      "  Objective range  [0e+00, 0e+00]\n",
      "  QObjective range [7e-06, 4e-03]\n",
      "  Bounds range     [1e+00, 1e+00]\n",
      "  RHS range        [1e-04, 2e+01]\n",
      "Found heuristic solution: objective 0.0000960\n",
      "Presolve time: 0.01s\n",
      "Presolved: 23 rows, 40 columns, 100 nonzeros\n",
      "Presolved model has 210 quadratic objective terms\n",
      "Variable types: 20 continuous, 20 integer (20 binary)\n",
      "\n",
      "Root relaxation: objective 6.741224e-05, 38 iterations, 0.00 seconds (0.00 work units)\n",
      "\n",
      "    Nodes    |    Current Node    |     Objective Bounds      |     Work\n",
      " Expl Unexpl |  Obj  Depth IntInf | Incumbent    BestBd   Gap | It/Node Time\n",
      "\n",
      "     0     0    0.00007    0   11    0.00010    0.00007  29.8%     -    0s\n",
      "H    0     0                       0.0000674    0.00007  0.00%     -    0s\n",
      "     0     0    0.00007    0   11    0.00007    0.00007  0.00%     -    0s\n",
      "\n",
      "Explored 1 nodes (38 simplex iterations) in 0.06 seconds (0.00 work units)\n",
      "Thread count was 18 (of 18 available processors)\n",
      "\n",
      "Solution count 2: 6.74122e-05 9.60284e-05 \n",
      "\n",
      "Optimal solution found (tolerance 1.00e-04)\n",
      "Best objective 6.741224163915e-05, best bound 6.741224163915e-05, gap 0.0000%\n",
      "          Portfolio\n",
      "asset_0    0.000000\n",
      "asset_1    0.000000\n",
      "asset_2    0.000000\n",
      "asset_3    0.000000\n",
      "asset_4    0.006812\n",
      "asset_5    0.034594\n",
      "asset_6    0.000000\n",
      "asset_7    0.000000\n",
      "asset_8    0.409840\n",
      "asset_9    0.026759\n",
      "asset_10   0.000000\n",
      "asset_11   0.027722\n",
      "asset_12   0.039911\n",
      "asset_13   0.030221\n",
      "asset_14   0.038511\n",
      "asset_15   0.000000\n",
      "asset_16   0.184718\n",
      "asset_17   0.000000\n",
      "asset_18   0.126673\n",
      "asset_19   0.074241\n",
      "risk       0.000067\n",
      "return     0.000104\n"
     ]
    }
   ],
   "source": [
    "import gurobipy as gp\n",
    "from gurobipy import GRB\n",
    "\n",
    "# 将数据转换为DataFrame\n",
    "import pandas as pd\n",
    "\n",
    "with gp.Model(\"term-based\") as model:\n",
    "    x = model.addVars(n, ub=1, name=\"x\")\n",
    "    y = model.addVars(n, vtype=GRB.BINARY, name=\"y\")\n",
    "\n",
    "    risk = gp.quicksum(x[i] * sigma[i, j] * x[j] for i in range(n) for j in range(n))\n",
    "    # 另一种构建风险表达的方法\n",
    "    # risk = gp.QuadExpr()\n",
    "    # for i in range(n):\n",
    "    #    for j in range(n):\n",
    "    #        risk.addTerms(sigma[i, j], x[i], x[j])\n",
    "    model.setObjective(risk)\n",
    "\n",
    "    expected_return = gp.quicksum(mu[i] * x[i] for i in range(n))\n",
    "    model.addConstr(expected_return >= mu_0, name=\"return\")\n",
    "\n",
    "    model.addConstr(x.sum() == 1, name=\"budget\")\n",
    "    # 另一种构建预算约束的方法\n",
    "    # model.addConstr(gp.quicksum(x[i] for i in range(n)) == 1, name=\"budget\")\n",
    "\n",
    "    model.addConstr(y.sum() <= k, name=\"cardinality\")\n",
    "\n",
    "    model.addConstrs((x[i] <= y[i] for i in range(n)), name=\"is_allocated\")\n",
    "\n",
    "    model.optimize()\n",
    "\n",
    "    # 将结果转换为DataFrame\n",
    "    portfolio = [var.X for var in model.getVars() if \"x\" in var.VarName]\n",
    "    risk = model.ObjVal\n",
    "    expected_return = model.getRow(model.getConstrByName(\"return\")).getValue()\n",
    "    df = pd.DataFrame(\n",
    "        data=portfolio + [risk, expected_return],\n",
    "        index=[f\"asset_{i}\" for i in range(n)] + [\"risk\", \"return\"],\n",
    "        columns=[\"Portfolio\"],\n",
    "    )\n",
    "\n",
    "    print(df)"
   ]
  },
  {
   "cell_type": "markdown",
   "id": "48c99d33",
   "metadata": {
    "slideshow": {
     "slide_type": "slide"
    }
   },
   "source": [
    "## 最佳实践\n",
    "\n",
    "- 确保模型和数据之间的分离\n",
    "- 在适当的情况下使用描述性名称\n",
    "- 创建变量/约束时利用稀疏性-仅为有效组合创建变量/约束\n",
    "- 不要忘记处理您的模型和环境\n",
    "- 使用留档"
   ]
  },
  {
   "cell_type": "markdown",
   "id": "5e8e9773",
   "metadata": {
    "slideshow": {
     "slide_type": "slide"
    }
   },
   "source": [
    "## [卡牌游戏](https://www.gurobi.com/resources/optimization-gamification-introducing-the-gurobipy-card-game/)\n",
    "\n",
    "\n",
    "<img src=\"./images/card-game.png\" width=\"800\" height=\"600\" style=\"margin-left:auto; margin-right:auto\"/>\n"
   ]
  },
  {
   "cell_type": "markdown",
   "id": "44aff1db",
   "metadata": {
    "slideshow": {
     "slide_type": "slide"
    }
   },
   "source": [
    "## 资源\n",
    "- [Gurobi Python Documentation](https://www.gurobi.com/documentation/current/refman/py_python_api_overview.html)\n",
    "- [Gurobi Python Examples](https://www.gurobi.com/documentation/current/examples/python_examples.html)\n",
    "- [Gurobi Jupyter Notebook Modeling Examples](https://www.gurobi.com/jupyter_models/)\n",
    "- [Gurobi Knowledge Base](https://support.gurobi.com/hc/en-us/categories/360000840331-Knowledge-Base)"
   ]
  }
 ],
 "metadata": {
  "kernelspec": {
   "display_name": "Python 3",
   "language": "python",
   "name": "python3"
  },
  "language_info": {
   "codemirror_mode": {
    "name": "ipython",
    "version": 3
   },
   "file_extension": ".py",
   "mimetype": "text/x-python",
   "name": "python",
   "nbconvert_exporter": "python",
   "pygments_lexer": "ipython3",
   "version": "3.12.2"
  }
 },
 "nbformat": 4,
 "nbformat_minor": 5
}
