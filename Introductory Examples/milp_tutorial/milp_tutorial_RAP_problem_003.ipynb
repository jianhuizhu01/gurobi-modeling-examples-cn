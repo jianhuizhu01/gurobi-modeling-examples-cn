{
 "cells": [
  {
   "attachments": {},
   "cell_type": "markdown",
   "metadata": {},
   "source": [
    "# 资源分配问题建模\n",
    "\n",
    "考虑三个工作岗位：测试员、Java开发人员和架构师。\n",
    "\n",
    "考虑三个资源：Carlos、Joe和Monika。\n",
    "\n",
    "## 数据\n",
    "\n",
    "每个资源执行每项工作的能力由以下匹配分数表说明：\n",
    "\n",
    "![资源分配问题数据图](util/rap_data.png)\n",
    "\n",
    "\n",
    "**假设**：每个工作只能分配一个资源，每个资源只能分配一个工作。\n",
    "\n",
    "## 问题陈述\n",
    "\n",
    "确定一种分配方案，确保每项工作都能得到完成，每个资源最多分配一项工作，目的是使分配的总匹配分数最大化。\n",
    "\n",
    "## 决策变量\n",
    "\n",
    "决策变量 $x_{r,\\; j} = 1$ 表示资源r被分配给工作j，否则为0，其中r=1,2,3且j=1,2,3。\n",
    "\n",
    "## 约束条件\n",
    "\n",
    "### 工作约束\n",
    "\n",
    "对于每个工作j=1,2,3，必须从r=1,2,3中分配恰好一个资源。\n",
    "\n",
    "约束（测试员=1）：$x_{1,\\; 1} + x_{2,\\; 1} + x_{3,\\; 1} = 1$\n",
    "\n",
    "约束（Java开发人员=2）：$x_{1,\\; 2} + x_{2,\\; 2} + x_{3,\\; 2} = 1$\n",
    "\n",
    "约束（架构师=3）：$x_{1,\\; 3} + x_{2,\\; 3} + x_{3,\\; 3} = 1$\n",
    "\n",
    "### 资源约束\n",
    "\n",
    "对于每个资源r=1,2,3，最多只能分配一项工作。\n",
    "\n",
    "约束（Carlos=1）：$x_{1,\\; 1} + x_{1,\\; 2} + x_{1,\\; 3}  \\leq 1$\n",
    "\n",
    "约束（Joe=2）：$x_{2,\\; 1} + x_{2,\\; 2} + x_{2,\\; 3}  \\leq 1$\n",
    "\n",
    "约束（Monika=3）：$x_{2,\\; 1} + x_{2,\\; 2} + x_{2,\\; 3}  \\leq 1$\n",
    "\n",
    "## 目标函数\n",
    "\n",
    "目标函数是在满足工作和资源约束的前提下，最大化分配的总匹配分数。\n",
    "\n",
    "$$\n",
    "Max \\; (53x_{1,\\; 1} + 80x_{2,\\; 1} + 53x_{3,\\; 1}) + (27x_{1,\\; 2} + 47x_{2,\\; 2} + 73x_{3,\\; 2})\n",
    "+ (13x_{1,\\; 3} + 67x_{2,\\; 3} + 47x_{3,\\; 3})\n",
    "$$\n",
    "\n",
    "\n"
   ]
  },
  {
   "cell_type": "markdown",
   "metadata": {},
   "source": [
    "首先，根据需要安装一些包"
   ]
  },
  {
   "cell_type": "code",
   "execution_count": null,
   "metadata": {},
   "outputs": [],
   "source": [
    "%pip install gurobipy\n",
    "%pip install names\n",
    "%pip install numpy"
   ]
  },
  {
   "cell_type": "code",
   "execution_count": 1,
   "metadata": {},
   "outputs": [],
   "source": [
    "# 导入gurobi库\n",
    "from gurobipy import *"
   ]
  },
  {
   "cell_type": "markdown",
   "metadata": {},
   "source": [
    "## 数据\n",
    "列表R包含三个资源的名称：Carlos、Joe和Monika。\n",
    "\n",
    "列表J包含工作岗位的名称：测试员、Java开发人员和架构师。\n",
    "\n",
    "**数学表示法**\n",
    "\n",
    "$r \\in R$意味着索引为r的资源在集合（列表）R中。\n",
    "\n",
    "$j \\in J$意味着索引为j的工作在集合（列表）J中。"
   ]
  },
  {
   "cell_type": "code",
   "execution_count": 2,
   "metadata": {},
   "outputs": [],
   "source": [
    "# 资源和工作集合\n",
    "R = ['Carlos', 'Joe', 'Monika']\n",
    "J = ['Tester', 'JavaDeveloper', 'Architect']"
   ]
  },
  {
   "cell_type": "markdown",
   "metadata": {},
   "source": [
    "以下“multidict”函数描述了每种资源和工作组合可能关联的匹配分数。\n",
    "\n",
    "**数学表示法**\n",
    "\n",
    "设$ms_{r,\\;j}$为资源$r \\in R$对于工作$j \\in J$的匹配分数。\n",
    "\n",
    "设$C_{r,\\;j}$为将资源$r \\in R$分配给工作$j \\in J$的成本。\n",
    "\n",
    "设$B$为可用预算。"
   ]
  },
  {
   "cell_type": "code",
   "execution_count": 3,
   "metadata": {},
   "outputs": [],
   "source": [
    "# 匹配分数数据\n",
    "combinations, ms, C = multidict({\n",
    "    ('Carlos', 'Tester'): [53, 1],\n",
    "    ('Carlos', 'JavaDeveloper'): [27, 1],\n",
    "    ('Carlos', 'Architect'): [13,1],\n",
    "    ('Joe', 'Tester'): [80, 2],\n",
    "    ('Joe', 'JavaDeveloper'): [47, 2],\n",
    "    ('Joe', 'Architect'): [67, 2],\n",
    "    ('Monika', 'Tester'): [53, 3] ,\n",
    "    ('Monika', 'JavaDeveloper'): [73, 3],\n",
    "    ('Monika', 'Architect'): [47, 3]\n",
    "})\n",
    "\n",
    "# 可用预算\n",
    "#B = 6\n",
    "B=5"
   ]
  },
  {
   "cell_type": "markdown",
   "metadata": {},
   "source": [
    "以下函数生成一个空模型对象“m”，并将字符串“RAP”模型名称作为参数。"
   ]
  },
  {
   "cell_type": "code",
   "execution_count": 4,
   "metadata": {},
   "outputs": [
    {
     "name": "stdout",
     "output_type": "stream",
     "text": [
      "Set parameter LicenseID to value 2601452\n"
     ]
    }
   ],
   "source": [
    "# 声明并初始化模型\n",
    "m = Model('RAP')"
   ]
  },
  {
   "cell_type": "markdown",
   "metadata": {},
   "source": [
    "## 决策变量\n",
    "\n",
    "决策变量$x_{r,\\; j} = 1$表示资源r被分配给工作j，否则为0，其中r=1,2,3且j=1,2,3。\n",
    "\n",
    "“addVars()”方法定义了模型对象“m”的决策变量。\n",
    "\n",
    "**数学表示法**\n",
    "\n",
    "设$x_{r,\\; j} = 1$，如果资源$r \\in R$被分配给工作$j \\in J$，否则为零。\n",
    "\n",
    "设$g_{j} = 1$，如果工作$j \\in J$无法填补，否则为零。这个变量是一个缺口变量，表示工作无法被填补。\n"
   ]
  },
  {
   "cell_type": "code",
   "execution_count": 5,
   "metadata": {},
   "outputs": [],
   "source": [
    "# 为RAP模型创建决策变量\n",
    "#x = m.addVars(combinations, name=\"assign\")\n",
    "x = m.addVars(combinations, vtype=GRB.BINARY, name=\"assign\")\n",
    "\n",
    "# 为RAP模型创建缺口变量\n",
    "g = m.addVars(J, name=\"gap\")"
   ]
  },
  {
   "cell_type": "markdown",
   "metadata": {},
   "source": [
    "## 工作约束\n",
    "\n",
    "对于每个工作j=1,2,3，必须从r=1,2,3中分配恰好一个资源。\n",
    "\n",
    "约束（测试员=1）：$x_{1,\\; 1} + x_{2,\\; 1} + x_{3,\\; 1} = 1$\n",
    "\n",
    "约束（Java开发人员=2）：$x_{1,\\; 2} + x_{2,\\; 2} + x_{3,\\; 2} = 1$\n",
    "\n",
    "约束（架构师=3）：$x_{1,\\; 3} + x_{2,\\; 3} + x_{3,\\; 3} = 1$\n",
    "\n",
    "“addConstrs()”方法定义了模型对象“m”的约束条件。\n",
    "\n",
    "**数学表示法**\n",
    "\n",
    "对于每个工作$j \\in J$，必须分配恰好一个资源：\n",
    "\n",
    "$$\n",
    "\\sum_{r \\: \\in \\: R} x_{r,\\; j} + g_{j} = 1 \n",
    "$$\n",
    "\n"
   ]
  },
  {
   "cell_type": "code",
   "execution_count": 6,
   "metadata": {},
   "outputs": [],
   "source": [
    "# 创建工作约束\n",
    "jobs = m.addConstrs((x.sum('*',j) + g[j]  == 1 for j in J), 'job')"
   ]
  },
  {
   "cell_type": "markdown",
   "metadata": {},
   "source": [
    "## 资源约束\n",
    "\n",
    "对于每个资源r=1,2,3，最多只能分配一项工作。\n",
    "\n",
    "约束（Carlos=1）：$x_{1,\\; 1} + x_{1,\\; 2} + x_{1,\\; 3}  \\leq 1$\n",
    "\n",
    "约束（Joe=2）：$x_{2,\\; 1} + x_{2,\\; 2} + x_{2,\\; 3}  \\leq 1$\n",
    "\n",
    "约束（Monika=3）：$x_{2,\\; 1} + x_{2,\\; 2} + x_{2,\\; 3}  \\leq 1$\n",
    "\n",
    "“addConstrs()”方法定义了模型对象“m”的约束条件。\n",
    "\n",
    "**数学表示法**\n",
    "\n",
    "对于每个资源$r \\in R$，最多只能分配一项工作：\n",
    "\n",
    "$$\n",
    "\\sum_{j \\: \\in \\: J} x_{r,\\; j} \\leq 1 \n",
    "$$"
   ]
  },
  {
   "cell_type": "code",
   "execution_count": 7,
   "metadata": {},
   "outputs": [],
   "source": [
    "# 创建资源约束\n",
    "resources = m.addConstrs((x.sum(r,'*') <= 1 for r in R), 'resource')"
   ]
  },
  {
   "cell_type": "markdown",
   "metadata": {},
   "source": [
    "## 预算约束\n",
    "\n",
    "将资源分配给工作的总成本应小于或等于可用预算。\n",
    "\n",
    "$$\n",
    "\\sum_{r \\; \\in \\; R} \\sum_{j \\; \\in \\; J} C_{r, j}x_{r, j} \\leq B\n",
    "$$"
   ]
  },
  {
   "cell_type": "code",
   "execution_count": 8,
   "metadata": {},
   "outputs": [],
   "source": [
    "budget = m.addConstr((x.prod(C) <= B), 'budget')"
   ]
  },
  {
   "cell_type": "markdown",
   "metadata": {},
   "source": [
    "## 目标函数\n",
    "\n",
    "目标函数是最大化分配的总匹配分数。\n",
    "\n",
    "$$\n",
    "Max \\; (53x_{1,\\; 1} + 80x_{2,\\; 1} + 53x_{3,\\; 1}) + (27x_{1,\\; 2} + 47x_{2,\\; 2} + 73x_{3,\\; 2})\n",
    "+ (13x_{1,\\; 3} + 67x_{2,\\; 3} + 47x_{3,\\; 3})\n",
    "$$\n",
    "\n",
    "“setObjective()”方法定义了模型对象“m”的目标函数。\n",
    "\n",
    "**数学表示法**\n",
    "\n",
    "注意\n",
    "$$\n",
    "(53x_{1,\\; 1} + 80x_{2,\\; 1} + 53x_{3,\\; 1}) = \\sum_{r \\; \\in \\; R} ms_{r,1}x_{r,1} \\\\\n",
    "(27x_{1,\\; 2} + 47x_{2,\\; 2} + 73x_{3,\\; 2}) = \\sum_{r \\; \\in \\; R} ms_{r,2}x_{r,2} \\\\\n",
    "(13x_{1,\\; 3} + 67x_{2,\\; 3} + 47x_{3,\\; 3})  = \\sum_{r \\; \\in \\; R} ms_{r,3}x_{r,3}\n",
    "$$\n",
    "\n",
    "因此，目标函数可以表示为\n",
    "\n",
    "$$\n",
    "Max \\; \\sum_{j \\; \\in \\; J} \\sum_{r \\; \\in \\; R} ms_{r,j}x_{r,j} -BigM \\sum_{j \\in J} g_{j}\n",
    "$$\n"
   ]
  },
  {
   "cell_type": "code",
   "execution_count": 9,
   "metadata": {},
   "outputs": [],
   "source": [
    "# 未能填补工作岗位的惩罚\n",
    "BIGM =101\n",
    "\n",
    "# 目标是最大化分配的总匹配分数\n",
    "m.setObjective(x.prod(ms) -BIGM*g.sum(), GRB.MAXIMIZE)"
   ]
  },
  {
   "cell_type": "code",
   "execution_count": null,
   "metadata": {},
   "outputs": [],
   "source": [
    "# 保存模型以供检查\n",
    "m.write('RAP3.lp')"
   ]
  },
  {
   "cell_type": "code",
   "execution_count": 10,
   "metadata": {
    "scrolled": false
   },
   "outputs": [
    {
     "name": "stdout",
     "output_type": "stream",
     "text": [
      "Gurobi Optimizer version 12.0.0 build v12.0.0rc1 (win64 - Windows 11.0 (22631.2))\n",
      "\n",
      "CPU model: Intel(R) Core(TM) Ultra 5 125H, instruction set [SSE2|AVX|AVX2]\n",
      "Thread count: 14 physical cores, 18 logical processors, using up to 18 threads\n",
      "\n",
      "Optimize a model with 7 rows, 12 columns and 30 nonzeros\n",
      "Model fingerprint: 0xa1231a12\n",
      "Variable types: 3 continuous, 9 integer (9 binary)\n",
      "Coefficient statistics:\n",
      "  Matrix range     [1e+00, 3e+00]\n",
      "  Objective range  [1e+01, 1e+02]\n",
      "  Bounds range     [1e+00, 1e+00]\n",
      "  RHS range        [1e+00, 5e+00]\n",
      "Presolve time: 0.01s\n",
      "Presolved: 7 rows, 12 columns, 30 nonzeros\n",
      "Variable types: 0 continuous, 12 integer (12 binary)\n",
      "Found heuristic solution: objective 52.0000000\n",
      "\n",
      "Root relaxation: objective 1.350000e+02, 4 iterations, 0.00 seconds (0.00 work units)\n",
      "\n",
      "    Nodes    |    Current Node    |     Objective Bounds      |     Work\n",
      " Expl Unexpl |  Obj  Depth IntInf | Incumbent    BestBd   Gap | It/Node Time\n",
      "\n",
      "     0     0  135.00000    0    2   52.00000  135.00000   160%     -    0s\n",
      "     0     0     cutoff    0        52.00000   52.00000  0.00%     -    0s\n",
      "\n",
      "Cutting planes:\n",
      "  Gomory: 1\n",
      "  Cover: 1\n",
      "  GUB cover: 1\n",
      "  Relax-and-lift: 1\n",
      "\n",
      "Explored 1 nodes (6 simplex iterations) in 0.06 seconds (0.00 work units)\n",
      "Thread count was 18 (of 18 available processors)\n",
      "\n",
      "Solution count 1: 52 \n",
      "\n",
      "Optimal solution found (tolerance 1.00e-04)\n",
      "Best objective 5.200000000000e+01, best bound 5.200000000000e+01, gap 0.0000%\n"
     ]
    }
   ],
   "source": [
    "# 运行优化引擎\n",
    "m.optimize()"
   ]
  },
  {
   "cell_type": "code",
   "execution_count": 11,
   "metadata": {},
   "outputs": [
    {
     "name": "stdout",
     "output_type": "stream",
     "text": [
      "assign[Joe,Tester] 1.0\n",
      "assign[Monika,JavaDeveloper] 1.0\n",
      "gap[Architect] 1.0\n",
      "最优目标函数值 52.0\n",
      "总匹配分数:  153.0\n"
     ]
    }
   ],
   "source": [
    "# 显示决策变量的最优值\n",
    "for v in m.getVars():\n",
    "\tif (abs(v.x) > 1e-6):\n",
    "\t\tprint(v.varName, v.x)\n",
    "\n",
    "# 显示最优总匹配分数\n",
    "print('最优目标函数值', m.objVal)\n",
    "\n",
    "# 从分配变量计算总匹配分数\n",
    "total_matching_score = 0\n",
    "for [r, j] in combinations:\n",
    "    if (abs(x[r, j].x) > 1e-6):\n",
    "        total_matching_score = total_matching_score + ms[r, j]*x[r, j].x\n",
    "\n",
    "print('总匹配分数: ', total_matching_score)\n"
   ]
  },
  {
   "cell_type": "markdown",
   "metadata": {},
   "source": [
    "## 生成随机场景"
   ]
  },
  {
   "cell_type": "code",
   "execution_count": 13,
   "metadata": {},
   "outputs": [],
   "source": [
    "import names\n",
    "import random\n",
    "import numpy as np\n",
    "from gurobipy import *\n",
    "from itertools import product\n",
    "\n",
    "def generate_scenario(num_resources=200, num_jobs=200, roles=None,\n",
    "                      score_mu=50, score_sigma=15, seed=10101):\n",
    "    random.seed(seed)\n",
    "    np.random.seed(seed)\n",
    "    if roles is None:\n",
    "        roles = {\"Architect\", \"BackEndEngineer\", \"FrontEndEngineer\",\n",
    "                     \"Tester\", \"DataScientist\", \"DataEngineer\"}\n",
    "    # 资源成本的概率密度函数遵循本福特定律，取值范围为{1,2,...,9}\n",
    "    benford = [np.log10((i+1)/i) for i in range(1,10)]\n",
    "    # 抽样资源名称\n",
    "    resources = {names.get_full_name() for i in range(num_resources)}\n",
    "    # 抽样工作需求，假设所有角色被选中的可能性相等\n",
    "    req = np.random.multinomial(num_jobs, [1/len(roles)]*len(roles), size=1)[0]\n",
    "    jobs = set()\n",
    "    # 为每个工作岗位分配ID\n",
    "    for i, role in enumerate(roles):\n",
    "        jobs = jobs.union(set(map(''.join, zip([role]*req[i], [str(x).zfill(int(np.log10(num_jobs))+1) for x in range(1,req[i]+1)]))))\n",
    "    scores = {}\n",
    "    costs = {}\n",
    "    # 为每个潜在分配抽样匹配分数和成本\n",
    "    for pair in product(resources, jobs):\n",
    "        scores[pair] = int(np.clip(np.random.normal(score_mu, score_sigma), 0, 100))\n",
    "        costs[pair] = random.choices(list(range(1,10)), weights=benford, k=1)[0]\n",
    "    return resources, jobs, scores, costs "
   ]
  },
  {
   "cell_type": "code",
   "execution_count": 14,
   "metadata": {},
   "outputs": [],
   "source": [
    "res, job, ms, cst = generate_scenario(seed=11111)\n",
    "budget = 200"
   ]
  },
  {
   "cell_type": "markdown",
   "metadata": {},
   "source": [
    "## 获取贪心解"
   ]
  },
  {
   "cell_type": "code",
   "execution_count": 19,
   "metadata": {},
   "outputs": [],
   "source": [
    "def greedy_solve(resources, jobs, scores, costs, budget):\n",
    "    assign = set()\n",
    "    total_score = 0\n",
    "    remaining_budget = budget\n",
    "    while remaining_budget > 0 and len(scores.keys()) > 0:\n",
    "        selection = max(scores, key=scores.get)\n",
    "        assign.add(selection)\n",
    "        total_score += scores[selection]\n",
    "        remaining_budget -= costs[selection]\n",
    "        # 删除与新选择相关的资源/工作的潜在分配\n",
    "        res_filter = list(filter(lambda x: x[0] == selection[0], scores))\n",
    "        job_filter = list(filter(lambda x: x[1] == selection[1], scores))\n",
    "        blacklist = res_filter + job_filter\n",
    "        scores = {key: val for key,val in scores.items()\n",
    "                  if key not in blacklist\n",
    "                  and costs[key] <= remaining_budget}\n",
    "    print(\"分配数量: {0}\".format(len(assign)))\n",
    "    print(\"总匹配分数: {0}\".format(total_score))\n",
    "    print(\"已用预算: {0}\".format(budget - remaining_budget))\n",
    "    \n",
    "    kpi = {}\n",
    "    kpi[\"n_assign\"] = len(assign)\n",
    "    kpi[\"total_ms\"] = total_score\n",
    "    kpi[\"budget_used\"] = budget - remaining_budget\n",
    "    return assign, kpi\n",
    "        "
   ]
  },
  {
   "cell_type": "code",
   "execution_count": 20,
   "metadata": {},
   "outputs": [
    {
     "name": "stdout",
     "output_type": "stream",
     "text": [
      "分配数量: 58\n",
      "总匹配分数: 5589\n",
      "已用预算: 200\n"
     ]
    }
   ],
   "source": [
    "greedy_sol, kpi = greedy_solve(res, job, ms, cst, budget)\n",
    "\n",
    "# 贪心启发式KPI\n",
    "Greedy_assign = kpi[\"n_assign\"]\n",
    "Greedy_ms = kpi[\"total_ms\"]\n",
    "\n",
    "#print('贪心分配数量: ', Greedy_assign)\n",
    "#print('贪心总匹配分数: ',Greedy_ms)"
   ]
  },
  {
   "cell_type": "markdown",
   "metadata": {},
   "source": [
    "# 获取最优解"
   ]
  },
  {
   "cell_type": "code",
   "execution_count": 22,
   "metadata": {},
   "outputs": [
    {
     "name": "stdout",
     "output_type": "stream",
     "text": [
      "Gurobi Optimizer version 12.0.0 build v12.0.0rc1 (win64 - Windows 11.0 (22631.2))\n",
      "\n",
      "CPU model: Intel(R) Core(TM) Ultra 5 125H, instruction set [SSE2|AVX|AVX2]\n",
      "Thread count: 14 physical cores, 18 logical processors, using up to 18 threads\n",
      "\n",
      "Optimize a model with 401 rows, 40200 columns and 120200 nonzeros\n",
      "Model fingerprint: 0xcca97cf6\n",
      "Variable types: 200 continuous, 40000 integer (40000 binary)\n",
      "Coefficient statistics:\n",
      "  Matrix range     [1e+00, 9e+00]\n",
      "  Objective range  [1e+00, 1e+02]\n",
      "  Bounds range     [1e+00, 1e+00]\n",
      "  RHS range        [1e+00, 2e+02]\n",
      "Found heuristic solution: objective -20200.00000\n",
      "Presolve time: 0.13s\n",
      "Presolved: 401 rows, 40200 columns, 120200 nonzeros\n",
      "Variable types: 0 continuous, 40200 integer (40200 binary)\n",
      "\n",
      "Root relaxation: objective 1.627500e+04, 592 iterations, 0.05 seconds (0.09 work units)\n",
      "\n",
      "    Nodes    |    Current Node    |     Objective Bounds      |     Work\n",
      " Expl Unexpl |  Obj  Depth IntInf | Incumbent    BestBd   Gap | It/Node Time\n",
      "\n",
      "*    0     0               0    16275.000000 16275.0000  0.00%     -    0s\n",
      "\n",
      "Explored 1 nodes (592 simplex iterations) in 0.37 seconds (0.37 work units)\n",
      "Thread count was 18 (of 18 available processors)\n",
      "\n",
      "Solution count 2: 16275 -20200 \n",
      "\n",
      "Optimal solution found (tolerance 1.00e-04)\n",
      "Best objective 1.627500000000e+04, best bound 1.627500000000e+04, gap 0.0000%\n"
     ]
    }
   ],
   "source": [
    "m = Model(\"RAP\")\n",
    "assign = m.addVars(ms.keys(), vtype=GRB.BINARY, name=\"assign\")\n",
    "g = m.addVars(job, name=\"gap\")\n",
    "m.addConstrs((assign.sum(\"*\", j) + g[j]  == 1 for j in job), name=\"demand\")\n",
    "m.addConstrs((assign.sum(r, \"*\") <= 1 for r in res), name=\"supply\")\n",
    "m.addConstr(assign.prod(cst) <= budget, name=\"Budget\")\n",
    "m.setObjective(assign.prod(ms) -BIGM*g.sum(), GRB.MAXIMIZE)\n",
    "m.optimize()"
   ]
  },
  {
   "cell_type": "code",
   "execution_count": 23,
   "metadata": {},
   "outputs": [
    {
     "name": "stdout",
     "output_type": "stream",
     "text": [
      "1) assign[Sharon Dean,DataScientist020]: 1.0\n",
      "2) assign[Jennifer Wohner,FrontEndEngineer004]: 1.0\n",
      "3) assign[Bianca Harris,Tester039]: 1.0\n",
      "4) assign[Maria Beals,Architect021]: 1.0\n",
      "5) assign[Jay Terry,Tester031]: 1.0\n",
      "6) assign[Robin Ransome,DataScientist019]: 1.0\n",
      "7) assign[Anita Smith,FrontEndEngineer017]: 1.0\n",
      "8) assign[Richard Jennings,Architect022]: 1.0\n",
      "9) assign[Jennie James,DataEngineer028]: 1.0\n",
      "10) assign[Eric Gonzalez,Tester024]: 1.0\n",
      "11) assign[Tressie Vargas,DataEngineer007]: 1.0\n",
      "12) assign[Jeffrey Dixon,BackEndEngineer020]: 1.0\n",
      "13) assign[James Carter,Tester025]: 1.0\n",
      "14) assign[Kristin Wermers,BackEndEngineer002]: 1.0\n",
      "15) assign[Charles Thomas,Tester040]: 1.0\n",
      "16) assign[John Nester,Tester041]: 1.0\n",
      "17) assign[John Thomas,DataScientist011]: 1.0\n",
      "18) assign[Odell Deanda,DataEngineer015]: 1.0\n",
      "19) assign[Earl Rosen,DataScientist010]: 1.0\n",
      "20) assign[Lance Segura,Tester022]: 1.0\n",
      "21) assign[Heather Khan,BackEndEngineer006]: 1.0\n",
      "22) assign[Thomas Kaufman,FrontEndEngineer003]: 1.0\n",
      "23) assign[Ann Holtzman,DataEngineer005]: 1.0\n",
      "24) assign[Paul Barron,DataEngineer012]: 1.0\n",
      "25) assign[David Miner,Tester006]: 1.0\n",
      "26) assign[Jacob Schwartz,DataEngineer024]: 1.0\n",
      "27) assign[Elizabeth Johnston,FrontEndEngineer033]: 1.0\n",
      "28) assign[Alicia Glover,Tester043]: 1.0\n",
      "29) assign[Dora Catchings,Tester009]: 1.0\n",
      "30) assign[Sara Raymond,BackEndEngineer014]: 1.0\n",
      "31) assign[Cory Arciniega,DataScientist016]: 1.0\n",
      "32) assign[Gertrude Webb,FrontEndEngineer029]: 1.0\n",
      "33) assign[Missy Burke,DataEngineer019]: 1.0\n",
      "34) assign[Teresa Spoon,DataEngineer001]: 1.0\n",
      "35) assign[Mark Sangster,Tester008]: 1.0\n",
      "36) assign[Marilyn Melanson,Tester014]: 1.0\n",
      "37) assign[Vallie Silvestri,Architect005]: 1.0\n",
      "38) assign[Leslie Swain,Tester034]: 1.0\n",
      "39) assign[Robert Hatton,DataEngineer017]: 1.0\n",
      "40) assign[Philip Mcalary,DataEngineer026]: 1.0\n",
      "41) assign[Kimberly Peterson,DataEngineer031]: 1.0\n",
      "42) assign[Amanda Membreno,FrontEndEngineer008]: 1.0\n",
      "43) assign[Paul Lowe,DataEngineer027]: 1.0\n",
      "44) assign[Shirley Begley,FrontEndEngineer028]: 1.0\n",
      "45) assign[Patrick Rogers,FrontEndEngineer021]: 1.0\n",
      "46) assign[Frances Lavender,DataScientist004]: 1.0\n",
      "47) assign[Heather Lewis,DataEngineer030]: 1.0\n",
      "48) assign[Rose Mcgregor,Tester045]: 1.0\n",
      "49) assign[Jose Uong,BackEndEngineer010]: 1.0\n",
      "50) assign[Charles Bianco,Architect024]: 1.0\n",
      "51) assign[Stephanie George,DataEngineer004]: 1.0\n",
      "52) assign[Nichole Barlow,DataEngineer023]: 1.0\n",
      "53) assign[Paul Hudson,FrontEndEngineer027]: 1.0\n",
      "54) assign[Charles Gomez,BackEndEngineer004]: 1.0\n",
      "55) assign[Sean Elwell,Tester013]: 1.0\n",
      "56) assign[Suzie Levings,FrontEndEngineer030]: 1.0\n",
      "57) assign[Patricia Maggard,DataScientist021]: 1.0\n",
      "58) assign[Patricia Summerlin,Tester005]: 1.0\n",
      "59) assign[Joey Sampson,DataEngineer013]: 1.0\n",
      "60) assign[Carmella Sixon,Tester004]: 1.0\n",
      "61) assign[Michael Davis,FrontEndEngineer005]: 1.0\n",
      "62) assign[Glen Thompson,BackEndEngineer021]: 1.0\n",
      "63) assign[Samuel Crews,DataScientist015]: 1.0\n",
      "64) assign[Tracy Popielarczyk,Architect006]: 1.0\n",
      "65) assign[Robert Ohara,DataEngineer029]: 1.0\n",
      "66) assign[Melissa Maupin,Tester028]: 1.0\n",
      "67) assign[Edward Gray,DataEngineer011]: 1.0\n",
      "68) assign[Mary Hackler,DataScientist008]: 1.0\n",
      "69) assign[Marita Buhmann,Architect008]: 1.0\n",
      "70) assign[Luis Tamondong,Architect019]: 1.0\n",
      "71) assign[Lenore Torrence,BackEndEngineer005]: 1.0\n",
      "72) assign[Jonathan Younglas,FrontEndEngineer002]: 1.0\n",
      "73) assign[Lillian Biser,Tester003]: 1.0\n",
      "74) assign[Mary Conner,FrontEndEngineer024]: 1.0\n",
      "75) assign[Alisha Johnson,Tester026]: 1.0\n",
      "76) assign[Gladys Worrell,Tester042]: 1.0\n",
      "77) assign[Charles Doering,Tester036]: 1.0\n",
      "78) assign[Joe Anderson,Tester001]: 1.0\n",
      "79) assign[Blanca Thompson,FrontEndEngineer036]: 1.0\n",
      "80) assign[William Jones,Architect002]: 1.0\n",
      "81) assign[Noel Connelly,FrontEndEngineer001]: 1.0\n",
      "82) assign[Joyce Carrier,Architect023]: 1.0\n",
      "83) assign[Karen Horton,DataScientist023]: 1.0\n",
      "84) assign[Jennifer Hogan,BackEndEngineer025]: 1.0\n",
      "85) assign[Michele Dess,Architect018]: 1.0\n",
      "86) assign[Donald Green,BackEndEngineer029]: 1.0\n",
      "87) assign[Douglas Mariani,DataScientist007]: 1.0\n",
      "88) assign[John Walsh,Architect012]: 1.0\n",
      "89) assign[Kimberly Brown,BackEndEngineer027]: 1.0\n",
      "90) assign[Roy Bednorz,FrontEndEngineer009]: 1.0\n",
      "91) assign[Terry Wilson,Tester007]: 1.0\n",
      "92) assign[Leila Richardson,DataScientist006]: 1.0\n",
      "93) assign[George Stalker,Tester020]: 1.0\n",
      "94) assign[Jessica Bentley,DataEngineer025]: 1.0\n",
      "95) assign[James Oneill,BackEndEngineer003]: 1.0\n",
      "96) assign[Ronald Marashio,FrontEndEngineer022]: 1.0\n",
      "97) assign[Dorthey Hannah,BackEndEngineer024]: 1.0\n",
      "98) assign[Martha Newport,BackEndEngineer012]: 1.0\n",
      "99) assign[Juan Ordonez,FrontEndEngineer025]: 1.0\n",
      "100) assign[Jason Stjohn,DataEngineer010]: 1.0\n",
      "101) assign[Don Ely,BackEndEngineer015]: 1.0\n",
      "102) assign[David Williams,BackEndEngineer017]: 1.0\n",
      "103) assign[Karen Merchant,FrontEndEngineer035]: 1.0\n",
      "104) assign[Michael Kozlowski,FrontEndEngineer031]: 1.0\n",
      "105) assign[James Bates,DataEngineer009]: 1.0\n",
      "106) assign[Johnny Walker,DataScientist018]: 1.0\n",
      "107) assign[Benjamin Barber,Tester002]: 1.0\n",
      "108) assign[Jordan Ward,Architect009]: 1.0\n",
      "109) assign[Barbara Geoghegan,BackEndEngineer026]: 1.0\n",
      "110) assign[Heather Lindquist,DataScientist005]: 1.0\n",
      "111) assign[Jessica Mata,FrontEndEngineer007]: 1.0\n",
      "112) assign[Autumn Phothirath,Tester018]: 1.0\n",
      "113) assign[Joe Suarez,Architect011]: 1.0\n",
      "114) assign[Monica Grubbs,Architect027]: 1.0\n",
      "115) assign[Lavon Cothran,Tester012]: 1.0\n",
      "116) assign[Rita Hodge,FrontEndEngineer019]: 1.0\n",
      "117) assign[Terry Cunningham,Architect017]: 1.0\n",
      "118) assign[Myles French,BackEndEngineer016]: 1.0\n",
      "119) assign[Kory Gonsalez,Tester011]: 1.0\n",
      "120) assign[Richard Williams,Tester010]: 1.0\n",
      "121) assign[Chad Day,FrontEndEngineer032]: 1.0\n",
      "122) assign[Harriet Vandenberge,BackEndEngineer013]: 1.0\n",
      "123) assign[Terri Bartholomew,DataEngineer034]: 1.0\n",
      "124) assign[Joe Gantt,DataEngineer006]: 1.0\n",
      "125) assign[Addie Brown,Tester023]: 1.0\n",
      "126) assign[Nicole Hewitt,Architect010]: 1.0\n",
      "127) assign[Raymond Cole,DataEngineer014]: 1.0\n",
      "128) assign[Joel Dodd,FrontEndEngineer014]: 1.0\n",
      "129) assign[David Rogowski,BackEndEngineer022]: 1.0\n",
      "130) assign[Courtney Heinandez,Architect014]: 1.0\n",
      "131) assign[Patricia Vaughn,DataScientist013]: 1.0\n",
      "132) assign[Zachary Curtis,DataScientist014]: 1.0\n",
      "133) assign[Travis Cole,BackEndEngineer030]: 1.0\n",
      "134) assign[Elias Pinkston,FrontEndEngineer011]: 1.0\n",
      "135) assign[Patrick Odell,Architect007]: 1.0\n",
      "136) assign[Robert Douglas,DataEngineer003]: 1.0\n",
      "137) assign[Shelia Rossi,Architect003]: 1.0\n",
      "138) assign[Antonio Hancock,Architect013]: 1.0\n",
      "139) assign[Krystal Berardi,Tester032]: 1.0\n",
      "140) assign[Michael Hodges,Architect015]: 1.0\n",
      "141) assign[John Copper,FrontEndEngineer006]: 1.0\n",
      "142) assign[Laura Portes,DataEngineer032]: 1.0\n",
      "143) assign[Frederick Farrell,DataEngineer021]: 1.0\n",
      "144) assign[Shanon Moore,Architect001]: 1.0\n",
      "145) assign[Jerry Dragon,FrontEndEngineer016]: 1.0\n",
      "146) assign[Daniel Stone,FrontEndEngineer013]: 1.0\n",
      "147) assign[Denver Madrid,Tester017]: 1.0\n",
      "148) assign[Karla Sanchez,FrontEndEngineer023]: 1.0\n",
      "149) assign[Clarence Morton,Tester033]: 1.0\n",
      "150) assign[Geri Brooks,Tester035]: 1.0\n",
      "151) assign[Tina Johnson,FrontEndEngineer039]: 1.0\n",
      "152) assign[Antoine Bullard,BackEndEngineer008]: 1.0\n",
      "153) assign[Quinton Manning,DataScientist022]: 1.0\n",
      "154) assign[Christine Nichols,BackEndEngineer009]: 1.0\n",
      "155) assign[Rebecca Klatt,DataScientist001]: 1.0\n",
      "156) assign[William James,Tester019]: 1.0\n",
      "157) assign[Clara Lindgren,DataEngineer022]: 1.0\n",
      "158) assign[Gertrude Knowles,Architect025]: 1.0\n",
      "159) assign[Kristie Cobb,BackEndEngineer011]: 1.0\n",
      "160) assign[James Peters,FrontEndEngineer015]: 1.0\n",
      "161) assign[Christy Acree,BackEndEngineer023]: 1.0\n",
      "162) assign[Jenelle Giller,Tester044]: 1.0\n",
      "163) assign[Derek Landon,FrontEndEngineer018]: 1.0\n",
      "164) assign[Paula Gonzales,BackEndEngineer007]: 1.0\n",
      "165) assign[Brad Love,FrontEndEngineer020]: 1.0\n",
      "166) assign[Jason Langford,BackEndEngineer019]: 1.0\n",
      "167) assign[Linda Capp,Tester038]: 1.0\n",
      "168) assign[Jesus Hancock,Tester027]: 1.0\n",
      "169) assign[Nicholas Beltrame,Tester030]: 1.0\n",
      "170) assign[John Solis,DataEngineer033]: 1.0\n",
      "171) assign[Gracie Shockley,FrontEndEngineer034]: 1.0\n",
      "172) assign[Catalina Anderson,FrontEndEngineer038]: 1.0\n",
      "173) assign[Devorah Pierre,Architect004]: 1.0\n",
      "174) assign[Donald Marx,Tester016]: 1.0\n",
      "175) assign[Florence Canada,Tester021]: 1.0\n",
      "176) assign[Gary Voris,Tester015]: 1.0\n",
      "177) assign[Geraldine Vargas,DataScientist012]: 1.0\n",
      "178) assign[Mina Sheffield,FrontEndEngineer012]: 1.0\n",
      "179) assign[Crystal Douglas,FrontEndEngineer026]: 1.0\n",
      "180) assign[Susie Leonard,DataEngineer018]: 1.0\n",
      "181) assign[Matthew Vaughn,Tester037]: 1.0\n",
      "182) assign[Kelly Buoy,Architect016]: 1.0\n",
      "183) assign[Debra Lemke,DataScientist002]: 1.0\n",
      "184) assign[Ronald Mcconnell,BackEndEngineer001]: 1.0\n",
      "185) assign[Rufus Walker,DataEngineer002]: 1.0\n",
      "186) assign[Jason Fields,DataEngineer016]: 1.0\n",
      "187) assign[Cordelia Kaylor,BackEndEngineer031]: 1.0\n",
      "188) assign[Elena Lee,Tester029]: 1.0\n",
      "189) assign[Dominica Milner,DataScientist017]: 1.0\n",
      "190) assign[Dennis Lee,DataEngineer020]: 1.0\n",
      "191) assign[Tammy Creighton,DataEngineer008]: 1.0\n",
      "192) assign[Jeffrey Fetter,Architect020]: 1.0\n",
      "193) assign[Michelle Garnand,FrontEndEngineer037]: 1.0\n",
      "194) assign[Stephanie Gardner,Architect026]: 1.0\n",
      "195) assign[Johnny Mcmurray,BackEndEngineer032]: 1.0\n",
      "196) assign[Salvatore Averill,DataScientist009]: 1.0\n",
      "197) assign[Roy Bailey,BackEndEngineer018]: 1.0\n",
      "198) assign[Richard Latigo,FrontEndEngineer010]: 1.0\n",
      "199) assign[Lorena Freeman,BackEndEngineer028]: 1.0\n",
      "200) assign[Jerry Collett,DataScientist003]: 1.0\n",
      "总匹配分数: 16275.0\n",
      "最优目标函数值: 16275.0\n"
     ]
    }
   ],
   "source": [
    "def print_solution(model):\n",
    "    i = 1\n",
    "    total_ms = 0\n",
    "    for var in model.getVars():\n",
    "        if abs(var.x) > 1e-6:\n",
    "            print(\"{0}) {1}: {2}\".format(i, var.varName, var.x))\n",
    "            i += 1\n",
    "            if \"assign\" in var.varName:\n",
    "                total_ms += var.Obj\n",
    "    print('总匹配分数: {0}'.format(total_ms))\n",
    "    print('最优目标函数值: {0}'.format(model.objVal))\n",
    "    return None\n",
    "\n",
    "# 显示决策变量的最优值\n",
    "print_solution(m)"
   ]
  },
  {
   "cell_type": "code",
   "execution_count": 27,
   "metadata": {},
   "outputs": [
    {
     "name": "stdout",
     "output_type": "stream",
     "text": [
      "Gurobi总分配数量:  200.0\n",
      "Gurobi总匹配分数:  16275.0\n",
      "分配比率:  29.00 %\n",
      "匹配分数比率:  34.34 %\n"
     ]
    }
   ],
   "source": [
    "# 比较贪心启发式和Gurobi优化器的KPI\n",
    "Gurobi_assign = 0\n",
    "Gurobi_ms = 0\n",
    "for [r,j] in ms.keys():\n",
    "    if (abs(assign[r, j].x) > 1e-6):\n",
    "        Gurobi_assign = Gurobi_assign + assign[r, j].x\n",
    "        Gurobi_ms = Gurobi_ms + ms[r, j]*assign[r, j].x\n",
    "        \n",
    "print('Gurobi总分配数量: ', Gurobi_assign)\n",
    "print('Gurobi总匹配分数: ', Gurobi_ms)\n",
    "\n",
    "#贪心分配数量与Gurobi分配数量的比率\n",
    "assign_ratio = 100*Greedy_assign/Gurobi_assign\n",
    "ms_ratio = 100*Greedy_ms/Gurobi_ms\n",
    "\n",
    "print('分配比率: ',\"%.2f\" % assign_ratio, '%')\n",
    "print('匹配分数比率: ',\"%.2f\" % ms_ratio, '%')"
   ]
  }
 ],
 "metadata": {
  "kernelspec": {
   "display_name": "Python 3",
   "language": "python",
   "name": "python3"
  },
  "language_info": {
   "codemirror_mode": {
    "name": "ipython",
    "version": 3
   },
   "file_extension": ".py",
   "mimetype": "text/x-python",
   "name": "python",
   "nbconvert_exporter": "python",
   "pygments_lexer": "ipython3",
   "version": "3.12.2"
  }
 },
 "nbformat": 4,
 "nbformat_minor": 2
}
