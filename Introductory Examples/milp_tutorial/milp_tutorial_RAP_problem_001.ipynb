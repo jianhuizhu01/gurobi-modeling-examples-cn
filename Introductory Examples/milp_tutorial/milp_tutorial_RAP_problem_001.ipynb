{
 "cells": [
  {
   "attachments": {},
   "cell_type": "markdown",
   "metadata": {},
   "source": [
    "# 资源分配问题建模\n",
    "\n",
    "考虑三个工作岗位：测试员、Java开发人员和架构师。\n",
    "\n",
    "考虑三个资源：Carlos、Joe和Monika。\n",
    "\n",
    "## 数据 \n",
    "\n",
    "每个资源执行各项工作的能力由以下匹配分数表说明：\n",
    "\n",
    "![资源分配问题数据图](util/rap_data.png)\n",
    "\n",
    "\n",
    "**假设**：每个工作只能分配一个资源，每个资源最多可以分配一项工作。\n",
    "\n",
    "## 问题陈述\n",
    "\n",
    "确定一种分配方案，确保每项工作都能得到完成，每个资源最多分配一项工作，以最大化分配的总匹配分数。\n",
    "\n",
    "## 决策变量\n",
    "\n",
    "决策变量 $x_{r,\\; j} = 1$ 表示资源r被分配给工作j，否则为0，其中 r=1,2,3 且 𝑗=1,2,3。\n",
    "\n",
    "## 约束条件\n",
    "\n",
    "### 工作约束\n",
    "\n",
    "对于每个工作 𝑗=1,2,3，必须从r=1,2,3中恰好分配一个资源。\n",
    "\n",
    "约束（测试员=1）：$x_{1,\\; 1} + x_{2,\\; 1} + x_{3,\\; 1} = 1$\n",
    "\n",
    "约束（Java开发人员=2）：$x_{1,\\; 2} + x_{2,\\; 2} + x_{3,\\; 2} = 1$\n",
    "\n",
    "约束（架构师=3）：$x_{1,\\; 3} + x_{2,\\; 3} + x_{3,\\; 3} = 1$\n",
    "\n",
    "### 资源约束\n",
    "\n",
    "对于每个资源 r=1,2,3，最多可以从j=1,2,3中分配一项工作。\n",
    "\n",
    "约束（Carlos=1）：$x_{1,\\; 1} + x_{1,\\; 2} + x_{1,\\; 3}  \\leq 1$\n",
    "\n",
    "约束（Joe=2）：$x_{2,\\; 1} + x_{2,\\; 2} + x_{2,\\; 3}  \\leq 1$\n",
    "\n",
    "约束（Monika=3）：$x_{2,\\; 1} + x_{2,\\; 2} + x_{2,\\; 3}  \\leq 1$\n",
    "\n",
    "## 目标函数\n",
    "\n",
    "目标函数是在满足工作和资源约束的前提下，最大化分配的总匹配分数。\n",
    "\n",
    "$$\n",
    "Max \\; (53x_{1,\\; 1} + 80x_{2,\\; 1} + 53x_{3,\\; 1}) + (27x_{1,\\; 2} + 47x_{2,\\; 2} + 73x_{3,\\; 2})\n",
    "+ (13x_{1,\\; 3} + 67x_{2,\\; 3} + 47x_{3,\\; 3})\n",
    "$$\n",
    "\n",
    "\n"
   ]
  },
  {
   "cell_type": "markdown",
   "metadata": {},
   "source": [
    "首先，按需安装gurobipy"
   ]
  },
  {
   "cell_type": "code",
   "execution_count": null,
   "metadata": {},
   "outputs": [],
   "source": [
    "%pip install gurobipy"
   ]
  },
  {
   "cell_type": "code",
   "execution_count": 1,
   "metadata": {},
   "outputs": [],
   "source": [
    "# 导入gurobi库\n",
    "from gurobipy import *"
   ]
  },
  {
   "cell_type": "markdown",
   "metadata": {},
   "source": [
    "## 数据\n",
    "R列表包含了三个资源的名称：Carlos、Joe和Monika。\n",
    "\n",
    "J列表包含了工作岗位的名称：测试员、Java开发人员和架构师"
   ]
  },
  {
   "cell_type": "code",
   "execution_count": 2,
   "metadata": {},
   "outputs": [],
   "source": [
    "# 资源和工作集合\n",
    "R = ['Carlos', 'Joe', 'Monika']\n",
    "J = ['Tester', 'JavaDeveloper', 'Architect']"
   ]
  },
  {
   "cell_type": "markdown",
   "metadata": {},
   "source": [
    "$r \\in R$ 资源的索引和集合。\n",
    "\n",
    "$j \\in J$ 工作的索引和集合。"
   ]
  },
  {
   "cell_type": "markdown",
   "metadata": {},
   "source": [
    "以下\"multidict\"函数描述了与每个资源和工作的可能组合相关的匹配分数"
   ]
  },
  {
   "cell_type": "code",
   "execution_count": 3,
   "metadata": {},
   "outputs": [],
   "source": [
    "# 匹配分数数据\n",
    "combinations, ms = multidict({\n",
    "    ('Carlos', 'Tester'): 53,\n",
    "    ('Carlos', 'JavaDeveloper'): 27,\n",
    "    ('Carlos', 'Architect'): 13,\n",
    "    ('Joe', 'Tester'): 80,\n",
    "    ('Joe', 'JavaDeveloper'): 47,\n",
    "    ('Joe', 'Architect'): 67,\n",
    "    ('Monika', 'Tester'): 53,\n",
    "    ('Monika', 'JavaDeveloper'): 73,\n",
    "    ('Monika', 'Architect'): 47\n",
    "})"
   ]
  },
  {
   "cell_type": "markdown",
   "metadata": {},
   "source": [
    "以下函数生成一个空的模型对象\"m\"，并将字符串\"RAP\"模型名称作为其参数。"
   ]
  },
  {
   "cell_type": "code",
   "execution_count": 6,
   "metadata": {},
   "outputs": [
    {
     "name": "stdout",
     "output_type": "stream",
     "text": [
      "Set parameter LicenseID to value 2601452\n"
     ]
    }
   ],
   "source": [
    "# 声明并初始化模型\n",
    "m = Model('RAP')"
   ]
  },
  {
   "cell_type": "markdown",
   "metadata": {},
   "source": [
    "## 决策变量\n",
    "\n",
    "决策变量 $x_{r,\\; j} = 1$ 表示资源r被分配给工作j，否则为0，对于 $r \\in R$ 和 $j \\in J $。\n",
    "\n",
    "\"addVars()\"方法定义了模型对象\"m\"的决策变量。"
   ]
  },
  {
   "cell_type": "code",
   "execution_count": 7,
   "metadata": {},
   "outputs": [],
   "source": [
    "# 为RAP模型创建决策变量\n",
    "x = m.addVars(combinations, name=\"assign\")"
   ]
  },
  {
   "cell_type": "markdown",
   "metadata": {},
   "source": [
    "## 工作约束\n",
    "\n",
    "对于每个工作 𝑗=1,2,3，必须从r=1,2,3中恰好分配一个资源。\n",
    "\n",
    "约束（测试员=1）：$x_{1,\\; 1} + x_{2,\\; 1} + x_{3,\\; 1} = 1$\n",
    "\n",
    "约束（Java开发人员=2）：$x_{1,\\; 2} + x_{2,\\; 2} + x_{3,\\; 2} = 1$\n",
    "\n",
    "约束（架构师=3）：$x_{1,\\; 3} + x_{2,\\; 3} + x_{3,\\; 3} = 1$\n",
    "\n",
    "\"addConstrs()\"方法定义了模型对象\"m\"的约束条件。\n"
   ]
  },
  {
   "cell_type": "code",
   "execution_count": 8,
   "metadata": {},
   "outputs": [],
   "source": [
    "# 创建工作约束\n",
    "job = m.addConstrs((x.sum('*',j) == 1 for j in J), 'job')"
   ]
  },
  {
   "cell_type": "markdown",
   "metadata": {},
   "source": [
    "## 工作约束\n",
    "$$\n",
    "\\sum_{r \\: \\in \\: R} x_{r,\\; j} = 1 \\; \\; \\; \\forall \\; j \\in J\n",
    "$$"
   ]
  },
  {
   "cell_type": "markdown",
   "metadata": {},
   "source": [
    "## 资源约束\n",
    "\n",
    "对于每个资源 r=1,2,3，最多可以从j=1,2,3中分配一项工作。\n",
    "\n",
    "约束（Carlos=1）：$x_{1,\\; 1} + x_{1,\\; 2} + x_{1,\\; 3}  \\leq 1$\n",
    "\n",
    "约束（Joe=2）：$x_{2,\\; 1} + x_{2,\\; 2} + x_{2,\\; 3}  \\leq 1$\n",
    "\n",
    "约束（Monika=3）：$x_{3,\\; 1} + x_{3,\\; 2} + x_{3,\\; 3}  \\leq 1$\n",
    "\n",
    "\"addConstrs()\"方法定义了模型对象\"m\"的约束条件。"
   ]
  },
  {
   "cell_type": "code",
   "execution_count": 9,
   "metadata": {},
   "outputs": [],
   "source": [
    "# 创建资源约束\n",
    "resource = m.addConstrs((x.sum(r,'*') <= 1 for r in R), 'resource')"
   ]
  },
  {
   "cell_type": "markdown",
   "metadata": {},
   "source": [
    "## 资源约束\n",
    "$$\n",
    "\\sum_{j \\: \\in \\: J} x_{r,\\; j} \\leq 1 \\; \\; \\; \\forall \\; r \\in R\n",
    "$$"
   ]
  },
  {
   "cell_type": "markdown",
   "metadata": {},
   "source": [
    "## 目标函数\n",
    "\n",
    "目标函数是最大化分配的总匹配分数。\n",
    "\n",
    "$$\n",
    "Max \\; (53x_{1,\\; 1} + 80x_{2,\\; 1} + 53x_{3,\\; 1}) + (27x_{1,\\; 2} + 47x_{2,\\; 2} + 73x_{3,\\; 2})\n",
    "+ (13x_{1,\\; 3} + 67x_{2,\\; 3} + 47x_{3,\\; 3})\n",
    "$$\n",
    "\n",
    "\"setObjective()\"方法定义了模型对象\"m\"的目标函数。"
   ]
  },
  {
   "cell_type": "code",
   "execution_count": 12,
   "metadata": {},
   "outputs": [],
   "source": [
    "# 目标是最大化分配的总匹配分数\n",
    "m.setObjective(x.prod(ms), GRB.MAXIMIZE)"
   ]
  },
  {
   "cell_type": "markdown",
   "metadata": {},
   "source": [
    "## 目标函数\n",
    "注意\n",
    "$$\n",
    "(53x_{1,\\; 1} + 80x_{2,\\; 1} + 53x_{3,\\; 1}) = \\sum_{r \\; \\in \\; R} ms_{r,1}x_{r,1} \\\\\n",
    "(27x_{1,\\; 2} + 47x_{2,\\; 2} + 73x_{3,\\; 2}) = \\sum_{r \\; \\in \\; R} ms_{r,2}x_{r,2} \\\\\n",
    "(13x_{1,\\; 3} + 67x_{2,\\; 3} + 47x_{3,\\; 3})  = \\sum_{r \\; \\in \\; R} ms_{r,3}x_{r,3}\n",
    "$$\n",
    "\n",
    "因此，目标函数可以表示为\n",
    "\n",
    "$$\n",
    "Max \\; \\sum_{j \\; \\in \\; J} \\sum_{r \\; \\in \\; R} ms_{r,j}x_{r,j}\n",
    "$$"
   ]
  },
  {
   "cell_type": "code",
   "execution_count": 11,
   "metadata": {},
   "outputs": [],
   "source": [
    "# 保存模型以便检查\n",
    "m.write('RAP.lp')"
   ]
  },
  {
   "cell_type": "code",
   "execution_count": 13,
   "metadata": {
    "scrolled": true
   },
   "outputs": [
    {
     "name": "stdout",
     "output_type": "stream",
     "text": [
      "Gurobi Optimizer version 12.0.0 build v12.0.0rc1 (win64 - Windows 11.0 (22631.2))\n",
      "\n",
      "CPU model: Intel(R) Core(TM) Ultra 5 125H, instruction set [SSE2|AVX|AVX2]\n",
      "Thread count: 14 physical cores, 18 logical processors, using up to 18 threads\n",
      "\n",
      "Optimize a model with 6 rows, 9 columns and 18 nonzeros\n",
      "Model fingerprint: 0xb343b6eb\n",
      "Coefficient statistics:\n",
      "  Matrix range     [1e+00, 1e+00]\n",
      "  Objective range  [1e+01, 8e+01]\n",
      "  Bounds range     [0e+00, 0e+00]\n",
      "  RHS range        [1e+00, 1e+00]\n",
      "Presolve time: 0.01s\n",
      "Presolved: 6 rows, 9 columns, 18 nonzeros\n",
      "\n",
      "Iteration    Objective       Primal Inf.    Dual Inf.      Time\n",
      "       0    4.6000000e+32   1.800000e+31   4.600000e+02      0s\n",
      "       5    1.9300000e+02   0.000000e+00   0.000000e+00      0s\n",
      "\n",
      "Solved in 5 iterations and 0.02 seconds (0.00 work units)\n",
      "Optimal objective  1.930000000e+02\n"
     ]
    }
   ],
   "source": [
    "# 运行优化引擎\n",
    "m.optimize()"
   ]
  },
  {
   "cell_type": "code",
   "execution_count": 14,
   "metadata": {},
   "outputs": [
    {
     "name": "stdout",
     "output_type": "stream",
     "text": [
      "assign[Carlos,Tester]: 1.0\n",
      "assign[Joe,Architect]: 1.0\n",
      "assign[Monika,JavaDeveloper]: 1.0\n",
      "总匹配分数: 193.0\n"
     ]
    }
   ],
   "source": [
    "def print_solution(model):\n",
    "    for var in model.getVars():\n",
    "        if abs(var.x) > 1e-6:\n",
    "            print(\"{0}: {1}\".format(var.varName, var.x))\n",
    "    print('总匹配分数: {0}'.format(model.objVal))\n",
    "    return None\n",
    "\n",
    "# 显示决策变量的最优值\n",
    "print_solution(m)   \n"
   ]
  },
  {
   "cell_type": "markdown",
   "metadata": {},
   "source": [
    "## 新场景\n",
    "考虑一个名为Ada的新资源，她对所有工作岗位的匹配分数都是100%。\n",
    "\n",
    "## 约束条件\n",
    "\n",
    "### 工作约束\n",
    "\n",
    "对于每个工作 𝑗=1,2,3，必须从r=1,2,3,4中恰好分配一个资源。\n",
    "\n",
    "约束（测试员=1）：$x_{1,\\; 1} + x_{2,\\; 1} + x_{3,\\; 1} + x_{4,\\; 1} = 1$\n",
    "\n",
    "约束（Java开发人员=2）：$x_{1,\\; 2} + x_{2,\\; 2} + x_{3,\\; 2} + x_{4,\\; 2} = 1$\n",
    "\n",
    "约束（架构师=3）：$x_{1,\\; 3} + x_{2,\\; 3} + x_{3,\\; 3} + x_{4,\\; 3}= 1$\n",
    "\n",
    "### 资源约束\n",
    "\n",
    "对于资源r=4，最多可以从j=1,2,3中分配一项工作。\n",
    "\n",
    "约束（Ada=1）：$x_{4,\\; 1} + x_{4,\\; 2} + x_{4,\\; 3}  \\leq 1$\n",
    "\n",
    "\n",
    "## 目标函数\n",
    "\n",
    "目标函数是在满足工作和资源约束的前提下，最大化分配的总匹配分数。\n",
    "\n",
    "$$\n",
    "Max \\; (53x_{1,\\; 1} + 80x_{2,\\; 1} + 53x_{3,\\; 1} + 100x_{4, \\; 1}) \n",
    "+ (27x_{1,\\; 2} + 47x_{2,\\; 2} + 73x_{3,\\; 2} + 100x_{4, \\; 2})\n",
    "+ (13x_{1,\\; 3} + 67x_{2,\\; 3} + 47x_{3,\\; 3} + 100x_{4, \\; 3})\n",
    "$$\n"
   ]
  },
  {
   "cell_type": "code",
   "execution_count": 15,
   "metadata": {},
   "outputs": [
    {
     "data": {
      "text/plain": [
       "<gurobi.Constr *Awaiting Model Update*>"
      ]
     },
     "execution_count": 15,
     "metadata": {},
     "output_type": "execute_result"
    }
   ],
   "source": [
    "new_scores = {('Ada','Tester'):100, ('Ada','JavaDeveloper'):100, ('Ada','Architect'):100}\n",
    "\n",
    "for key, val in new_scores.items():\n",
    "    r, j = key\n",
    "    x[key] = m.addVar(obj=val,\n",
    "                           name='assign[{0},{1}]'.format(r,j),\n",
    "                           column=Column([1], [m.getConstrByName('job[{0}]'.format(j))]))\n",
    "m.addConstr(x.sum('Ada','*') <= 1, name=\"resources[Ada]\")"
   ]
  },
  {
   "cell_type": "code",
   "execution_count": 16,
   "metadata": {},
   "outputs": [
    {
     "name": "stdout",
     "output_type": "stream",
     "text": [
      "Gurobi Optimizer version 12.0.0 build v12.0.0rc1 (win64 - Windows 11.0 (22631.2))\n",
      "\n",
      "CPU model: Intel(R) Core(TM) Ultra 5 125H, instruction set [SSE2|AVX|AVX2]\n",
      "Thread count: 14 physical cores, 18 logical processors, using up to 18 threads\n",
      "\n",
      "Optimize a model with 7 rows, 12 columns and 24 nonzeros\n",
      "Coefficient statistics:\n",
      "  Matrix range     [1e+00, 1e+00]\n",
      "  Objective range  [1e+01, 1e+02]\n",
      "  Bounds range     [0e+00, 0e+00]\n",
      "  RHS range        [1e+00, 1e+00]\n",
      "LP warm-start: use basis\n",
      "\n",
      "Iteration    Objective       Primal Inf.    Dual Inf.      Time\n",
      "       0    1.4100000e+32   9.000000e+30   1.410000e+02      0s\n",
      "       2    2.5300000e+02   0.000000e+00   0.000000e+00      0s\n",
      "\n",
      "Solved in 2 iterations and 0.02 seconds (0.00 work units)\n",
      "Optimal objective  2.530000000e+02\n",
      "assign[Joe,Tester]: 1.0\n",
      "assign[Monika,JavaDeveloper]: 1.0\n",
      "assign[Ada,Architect]: 1.0\n",
      "总匹配分数: 253.0\n"
     ]
    }
   ],
   "source": [
    "# 重新优化\n",
    "m.optimize()\n",
    "# 显示决策变量的最优值\n",
    "print_solution(m)"
   ]
  }
 ],
 "metadata": {
  "kernelspec": {
   "display_name": "Python 3",
   "language": "python",
   "name": "python3"
  },
  "language_info": {
   "codemirror_mode": {
    "name": "ipython",
    "version": 3
   },
   "file_extension": ".py",
   "mimetype": "text/x-python",
   "name": "python",
   "nbconvert_exporter": "python",
   "pygments_lexer": "ipython3",
   "version": "3.12.2"
  }
 },
 "nbformat": 4,
 "nbformat_minor": 2
}
