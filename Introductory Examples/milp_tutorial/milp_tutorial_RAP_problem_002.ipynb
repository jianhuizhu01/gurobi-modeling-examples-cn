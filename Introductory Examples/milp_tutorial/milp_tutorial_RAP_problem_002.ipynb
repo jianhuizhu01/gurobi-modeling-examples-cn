{
 "cells": [
  {
   "attachments": {},
   "cell_type": "markdown",
   "metadata": {},
   "source": [
    "# 资源分配问题的建模\n",
    "\n",
    "考虑三个工作岗位：测试员、Java开发者和架构师。\n",
    "\n",
    "考虑三个资源：Carlos、Joe和Monika。\n",
    "\n",
    "## 数据\n",
    "\n",
    "每种资源对每个工作的能力由下表的匹配分数表示：\n",
    "\n",
    "![资源分配问题数据图](util/rap_data.png)\n",
    "\n",
    "\n",
    "**假设**：每个工作只能分配给一个资源，每个资源只能分配到一个工作。\n",
    "\n",
    "## 问题陈述\n",
    "\n",
    "确定一个分配方案，确保每个工作都有人完成，每个资源最多分配一个工作，以最大化总匹配分数。\n",
    "\n",
    "## 决策变量\n",
    "\n",
    "决策变量 $x_{r,\\; j} = 1$ 表示资源r被分配到工作j，否则为0，其中r=1,2,3且j=1,2,3。\n",
    "\n",
    "## 约束条件\n",
    "\n",
    "### 工作约束\n",
    "\n",
    "对于每个工作j=1,2,3，必须恰好分配一个资源（r=1,2,3）。\n",
    "\n",
    "约束（测试员=1）：$x_{1,\\; 1} + x_{2,\\; 1} + x_{3,\\; 1} = 1$\n",
    "\n",
    "约束（Java开发者=2）：$x_{1,\\; 2} + x_{2,\\; 2} + x_{3,\\; 2} = 1$\n",
    "\n",
    "约束（架构师=3）：$x_{1,\\; 3} + x_{2,\\; 3} + x_{3,\\; 3} = 1$\n",
    "\n",
    "### 资源约束\n",
    "\n",
    "对于每个资源r=1,2,3，最多只能分配一个工作。\n",
    "\n",
    "约束（Carlos=1）：$x_{1,\\; 1} + x_{1,\\; 2} + x_{1,\\; 3}  \\leq 1$\n",
    "\n",
    "约束（Joe=2）：$x_{2,\\; 1} + x_{2,\\; 2} + x_{2,\\; 3}  \\leq 1$\n",
    "\n",
    "约束（Monika=3）：$x_{2,\\; 1} + x_{2,\\; 2} + x_{2,\\; 3}  \\leq 1$\n",
    "\n",
    "## 目标函数\n",
    "\n",
    "目标函数是在满足工作和资源约束的同时，最大化分配的总匹配分数。\n",
    "\n",
    "$$\n",
    "Max \\; (53x_{1,\\; 1} + 80x_{2,\\; 1} + 53x_{3,\\; 1}) + (27x_{1,\\; 2} + 47x_{2,\\; 2} + 73x_{3,\\; 2})\n",
    "+ (13x_{1,\\; 3} + 67x_{2,\\; 3} + 47x_{3,\\; 3})\n",
    "$$\n",
    "\n",
    "\n"
   ]
  },
  {
   "cell_type": "markdown",
   "metadata": {},
   "source": [
    "首先，根据需要安装gurobipy"
   ]
  },
  {
   "cell_type": "code",
   "execution_count": null,
   "metadata": {},
   "outputs": [],
   "source": [
    "%pip install gurobipy"
   ]
  },
  {
   "cell_type": "code",
   "execution_count": 1,
   "metadata": {},
   "outputs": [],
   "source": [
    "# 导入gurobi库\n",
    "from gurobipy import *"
   ]
  },
  {
   "cell_type": "markdown",
   "metadata": {},
   "source": [
    "## 数据\n",
    "列表R包含三个资源的名称：Carlos、Joe和Monika。\n",
    "\n",
    "列表J包含三个工作岗位的名称：测试员、Java开发者和架构师。\n",
    "\n",
    "**数学表示法**\n",
    "\n",
    "$r \\in R$ 表示索引为r的资源属于集合（列表）R。\n",
    "\n",
    "$j \\in J$ 表示索引为j的工作属于集合（列表）J。"
   ]
  },
  {
   "cell_type": "code",
   "execution_count": 3,
   "metadata": {},
   "outputs": [],
   "source": [
    "# 资源和工作集合\n",
    "R = ['Carlos', 'Joe', 'Monika']\n",
    "J = ['Tester', 'JavaDeveloper', 'Architect']"
   ]
  },
  {
   "cell_type": "markdown",
   "metadata": {},
   "source": [
    "以下“multidict”函数描述了每个资源和工作可能组合的匹配分数。\n",
    "\n",
    "**数学表示法**\n",
    "\n",
    "令 $ms_{r,\\;j}$ 表示资源 $r \\in R$ 与工作 $j \\in J$ 的匹配分数。\n",
    "\n",
    "令 $C_{r,\\;j}$ 表示将资源 $r \\in R$ 分配给工作 $j \\in J$ 的成本。\n",
    "\n",
    "令 $B$ 表示可用预算。"
   ]
  },
  {
   "cell_type": "code",
   "execution_count": 4,
   "metadata": {},
   "outputs": [],
   "source": [
    "# 匹配分数数据\n",
    "combinations, ms, C = multidict({\n",
    "    ('Carlos', 'Tester'): [53, 1],\n",
    "    ('Carlos', 'JavaDeveloper'): [27, 1],\n",
    "    ('Carlos', 'Architect'): [13,1],\n",
    "    ('Joe', 'Tester'): [80, 2],\n",
    "    ('Joe', 'JavaDeveloper'): [47, 2],\n",
    "    ('Joe', 'Architect'): [67, 2],\n",
    "    ('Monika', 'Tester'): [53, 3] ,\n",
    "    ('Monika', 'JavaDeveloper'): [73, 3],\n",
    "    ('Monika', 'Architect'): [47, 3]\n",
    "})\n",
    "\n",
    "# 可用预算\n",
    "#B = 6\n",
    "B=5"
   ]
  },
  {
   "cell_type": "markdown",
   "metadata": {},
   "source": [
    "下面的函数生成一个空模型对象“m”，并以字符串“RAP”作为模型名称参数。"
   ]
  },
  {
   "cell_type": "code",
   "execution_count": 5,
   "metadata": {},
   "outputs": [
    {
     "name": "stdout",
     "output_type": "stream",
     "text": [
      "Set parameter LicenseID to value 2601452\n"
     ]
    }
   ],
   "source": [
    "# 声明并初始化模型\n",
    "m = Model('RAP')"
   ]
  },
  {
   "cell_type": "markdown",
   "metadata": {},
   "source": [
    "## 决策变量\n",
    "\n",
    "决策变量 $x_{r,\\; j} = 1$ 表示资源r被分配到工作j，否则为0，其中r=1,2,3且j=1,2,3。\n",
    "\n",
    "“addVars()”方法定义了模型对象“m”的决策变量。\n",
    "\n",
    "**数学表示法**\n",
    "\n",
    "令 $x_{r,\\; j} = 1$ 表示资源 $r \\in R$ 被分配到工作 $j \\in J$，否则为零。\n",
    "\n",
    "令 $g_{j} = 1$ 表示工作 $j \\in J$ 不能被填补，否则为零。这个变量是一个缺口变量，表明某工作无法填补。\n"
   ]
  },
  {
   "cell_type": "code",
   "execution_count": 6,
   "metadata": {},
   "outputs": [],
   "source": [
    "# 为RAP模型创建决策变量\n",
    "#x = m.addVars(combinations, name=\"assign\")\n",
    "x = m.addVars(combinations, vtype=GRB.BINARY, name=\"assign\")\n",
    "\n",
    "# 为RAP模型创建缺口变量\n",
    "g = m.addVars(J, name=\"gap\")"
   ]
  },
  {
   "cell_type": "markdown",
   "metadata": {},
   "source": [
    "## 工作约束\n",
    "\n",
    "对于每个工作j=1,2,3，必须恰好分配一个资源（r=1,2,3）。\n",
    "\n",
    "约束（测试员=1）：$x_{1,\\; 1} + x_{2,\\; 1} + x_{3,\\; 1} + g_{1} = 1$\n",
    "\n",
    "约束（Java开发者=2）：$x_{1,\\; 2} + x_{2,\\; 2} + x_{3,\\; 2} + g_{2} = 1$\n",
    "\n",
    "约束（架构师=3）：$x_{1,\\; 3} + x_{2,\\; 3} + x_{3,\\; 3} + g_{3} = 1$\n",
    "\n",
    "“addConstrs()”方法定义了模型对象“m”的约束条件。\n",
    "\n",
    "**数学表示法**\n",
    "\n",
    "对于每个工作 $j \\in J$，必须恰好分配一个资源：\n",
    "\n",
    "$$\n",
    "\\sum_{r \\: \\in \\: R} x_{r,\\; j} + g_{j} = 1 \n",
    "$$\n",
    "\n"
   ]
  },
  {
   "cell_type": "code",
   "execution_count": 7,
   "metadata": {},
   "outputs": [],
   "source": [
    "# 创建工作约束\n",
    "jobs = m.addConstrs((x.sum('*',j) + g[j]  == 1 for j in J), 'job')"
   ]
  },
  {
   "cell_type": "markdown",
   "metadata": {},
   "source": [
    "## 资源约束\n",
    "\n",
    "对于每个资源r=1,2,3，最多只能分配一个工作。\n",
    "\n",
    "约束（Carlos=1）：$x_{1,\\; 1} + x_{1,\\; 2} + x_{1,\\; 3}  \\leq 1$\n",
    "\n",
    "约束（Joe=2）：$x_{2,\\; 1} + x_{2,\\; 2} + x_{2,\\; 3}  \\leq 1$\n",
    "\n",
    "约束（Monika=3）：$x_{2,\\; 1} + x_{2,\\; 2} + x_{2,\\; 3}  \\leq 1$\n",
    "\n",
    "“addConstrs()”方法定义了模型对象“m”的约束条件。\n",
    "\n",
    "**数学表示法**\n",
    "\n",
    "对于每个资源 $r \\in R$，最多只能分配一个工作：\n",
    "\n",
    "$$\n",
    "\\sum_{j \\: \\in \\: J} x_{r,\\; j} \\leq 1 \n",
    "$$"
   ]
  },
  {
   "cell_type": "code",
   "execution_count": 8,
   "metadata": {},
   "outputs": [],
   "source": [
    "# 创建资源约束\n",
    "resources = m.addConstrs((x.sum(r,'*') <= 1 for r in R), 'resource')"
   ]
  },
  {
   "cell_type": "markdown",
   "metadata": {},
   "source": [
    "## 预算约束\n",
    "\n",
    "分配资源到工作的总成本应小于或等于可用预算。\n",
    "\n",
    "$$\n",
    "\\sum_{r \\; \\in \\; R} \\sum_{j \\; \\in \\; J} C_{r, j}x_{r, j} \\leq B\n",
    "$$"
   ]
  },
  {
   "cell_type": "code",
   "execution_count": 9,
   "metadata": {},
   "outputs": [],
   "source": [
    "budget = m.addConstr((x.prod(C) <= B), 'budget')"
   ]
  },
  {
   "cell_type": "markdown",
   "metadata": {},
   "source": [
    "## 目标函数\n",
    "\n",
    "目标函数是最大化分配的总匹配分数。\n",
    "\n",
    "$$\n",
    "Max \\; (53x_{1,\\; 1} + 80x_{2,\\; 1} + 53x_{3,\\; 1}) + (27x_{1,\\; 2} + 47x_{2,\\; 2} + 73x_{3,\\; 2})\n",
    "+ (13x_{1,\\; 3} + 67x_{2,\\; 3} + 47x_{3,\\; 3})\n",
    "$$\n",
    "\n",
    "“setObjective()”方法定义了模型对象“m”的目标函数。\n",
    "\n",
    "**数学表示法**\n",
    "\n",
    "注意，\n",
    "$$\n",
    "(53x_{1,\\; 1} + 80x_{2,\\; 1} + 53x_{3,\\; 1}) = \\sum_{r \\; \\in \\; R} ms_{r,1}x_{r,1} \\\\\n",
    "(27x_{1,\\; 2} + 47x_{2,\\; 2} + 73x_{3,\\; 2}) = \\sum_{r \\; \\in \\; R} ms_{r,2}x_{r,2} \\\\\n",
    "(13x_{1,\\; 3} + 67x_{2,\\; 3} + 47x_{3,\\; 3})  = \\sum_{r \\; \\in \\; R} ms_{r,3}x_{r,3}\n",
    "$$\n",
    "\n",
    "因此，目标函数可以表示为：\n",
    "\n",
    "$$\n",
    "Max \\; \\sum_{j \\; \\in \\; J} \\sum_{r \\; \\in \\; R} ms_{r,j}x_{r,j} -BigM \\sum_{j \\in J} g_{j}\n",
    "$$\n"
   ]
  },
  {
   "cell_type": "code",
   "execution_count": 10,
   "metadata": {},
   "outputs": [],
   "source": [
    "# 未填补工作岗位的惩罚\n",
    "BIGM =101\n",
    "\n",
    "# 目标是最大化分配的总匹配分数\n",
    "m.setObjective(x.prod(ms) -BIGM*g.sum(), GRB.MAXIMIZE)"
   ]
  },
  {
   "cell_type": "code",
   "execution_count": null,
   "metadata": {},
   "outputs": [],
   "source": [
    "# 保存模型以供检查\n",
    "m.write('RAP3.lp')"
   ]
  },
  {
   "cell_type": "code",
   "execution_count": 11,
   "metadata": {
    "scrolled": true
   },
   "outputs": [
    {
     "name": "stdout",
     "output_type": "stream",
     "text": [
      "Gurobi Optimizer version 12.0.0 build v12.0.0rc1 (win64 - Windows 11.0 (22631.2))\n",
      "\n",
      "CPU model: Intel(R) Core(TM) Ultra 5 125H, instruction set [SSE2|AVX|AVX2]\n",
      "Thread count: 14 physical cores, 18 logical processors, using up to 18 threads\n",
      "\n",
      "Optimize a model with 7 rows, 12 columns and 30 nonzeros\n",
      "Model fingerprint: 0xa1231a12\n",
      "Variable types: 3 continuous, 9 integer (9 binary)\n",
      "Coefficient statistics:\n",
      "  Matrix range     [1e+00, 3e+00]\n",
      "  Objective range  [1e+01, 1e+02]\n",
      "  Bounds range     [1e+00, 1e+00]\n",
      "  RHS range        [1e+00, 5e+00]\n",
      "Presolve time: 0.01s\n",
      "Presolved: 7 rows, 12 columns, 30 nonzeros\n",
      "Variable types: 0 continuous, 12 integer (12 binary)\n",
      "Found heuristic solution: objective 52.0000000\n",
      "\n",
      "Root relaxation: objective 1.350000e+02, 4 iterations, 0.00 seconds (0.00 work units)\n",
      "\n",
      "    Nodes    |    Current Node    |     Objective Bounds      |     Work\n",
      " Expl Unexpl |  Obj  Depth IntInf | Incumbent    BestBd   Gap | It/Node Time\n",
      "\n",
      "     0     0  135.00000    0    2   52.00000  135.00000   160%     -    0s\n",
      "     0     0     cutoff    0        52.00000   52.00000  0.00%     -    0s\n",
      "\n",
      "Cutting planes:\n",
      "  Gomory: 1\n",
      "  Cover: 1\n",
      "  GUB cover: 1\n",
      "  Relax-and-lift: 1\n",
      "\n",
      "Explored 1 nodes (6 simplex iterations) in 0.06 seconds (0.00 work units)\n",
      "Thread count was 18 (of 18 available processors)\n",
      "\n",
      "Solution count 1: 52 \n",
      "\n",
      "Optimal solution found (tolerance 1.00e-04)\n",
      "Best objective 5.200000000000e+01, best bound 5.200000000000e+01, gap 0.0000%\n"
     ]
    }
   ],
   "source": [
    "# 运行优化引擎\n",
    "m.optimize()"
   ]
  },
  {
   "cell_type": "code",
   "execution_count": 12,
   "metadata": {},
   "outputs": [
    {
     "name": "stdout",
     "output_type": "stream",
     "text": [
      "assign[Joe,Tester] 1.0\n",
      "assign[Monika,JavaDeveloper] 1.0\n",
      "gap[Architect] 1.0\n",
      "Optimal objective function value 52.0\n",
      "Total matching score:  153.0\n"
     ]
    }
   ],
   "source": [
    "# 显示决策变量的最优值\n",
    "for v in m.getVars():\n",
    "\tif (abs(v.x) > 1e-6):\n",
    "\t\tprint(v.varName, v.x)\n",
    "\n",
    "# 显示最优目标函数值\n",
    "print('Optimal objective function value', m.objVal)   \n",
    "\n",
    "# 根据分配变量计算总匹配分数\n",
    "total_matching_score = 0\n",
    "for [r, j] in combinations:\n",
    "    if (abs(x[r, j].x) > 1e-6):\n",
    "        total_matching_score = total_matching_score + ms[r, j]*x[r, j].x\n",
    "\n",
    "print('Total matching score: ', total_matching_score)  \n"
   ]
  }
 ],
 "metadata": {
  "kernelspec": {
   "display_name": "Python 3",
   "language": "python",
   "name": "python3"
  },
  "language_info": {
   "codemirror_mode": {
    "name": "ipython",
    "version": 3
   },
   "file_extension": ".py",
   "mimetype": "text/x-python",
   "name": "python",
   "nbconvert_exporter": "python",
   "pygments_lexer": "ipython3",
   "version": "3.12.2"
  }
 },
 "nbformat": 4,
 "nbformat_minor": 2
}
