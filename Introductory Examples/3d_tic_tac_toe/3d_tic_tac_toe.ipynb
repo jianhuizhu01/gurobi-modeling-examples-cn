{
 "cells": [
  {
   "cell_type": "markdown",
   "metadata": {},
   "source": [
    "# 3D井字棋\n",
    "\n",
    "## 目标和前提条件\n",
    "\n",
    "尝试这个逻辑编程示例，学习如何解决在三维井字棋棋盘上布置X和O，以最小化完成线条或对角线数量的问题。本示例将向您展示如何使用二进制规划模型来捕获简单的逻辑约束。\n",
    "\n",
    "这是H. Paul Williams所著《数学规划中的模型构建》第五版第272页和第327-328页的示例17。\n",
    "\n",
    "这个建模示例属于入门级别。我们假设您对Python和Gurobi Python API有一定的了解，但您可以从示例中学习任何缺失的概念。\n",
    "\n",
    "**下载代码库** <br /> \n",
    "您可以通过点击[这里](https://github.com/Gurobi/modeling-examples/archive/master.zip)下载包含本示例和其他示例的代码库。\n",
    "\n",
    "---\n",
    "## 问题描述\n",
    "\n",
    "在3D井字棋棋盘上，玩家轮流放置$X$和$O$，通常当一个玩家完成一条线或对角线时游戏结束；也就是说，当他们设法在形成一条线或网格中的对角线的三个格子中放置他们的符号时。这里处理的变体是游戏继续进行直到每个格子都包含一个符号，目标是安排符号以最小化完成的线条或对角线的数量。\n",
    "\n",
    "---\n",
    "## 模型公式\n",
    "\n",
    "\n",
    "### 决策变量\n",
    "\n",
    "$\\text{isX}_{ijk} \\in [0,1]$: 格子$(i,j,k)$是否包含$X$（$isX=1$）或$O$（$isX=0$）？\n",
    "\n",
    "$\\text{isLine}_{l} \\in [0,1]$: 线条/对角线$l$是否包含3个相同的符号？\n",
    "\n",
    "### 目标函数\n",
    "\n",
    "- **线条**: 最小化完成的线条或对角线的数量\n",
    "\n",
    "\\begin{equation}\n",
    "\\text{最小化} \\quad Z = \\sum_{l \\in \\text{Lines}}\\text{isLine}_l\n",
    "\\end{equation}\n",
    "\n",
    "### 约束条件\n",
    "\n",
    "- **轮流**: 棋盘必须包含14个$X$和13个$O$（$X$先行）。\n",
    "\n",
    "\\begin{equation}\n",
    "\\sum_{ijk} \\text{isX}_{ijk} = 14\n",
    "\\end{equation}\n",
    "\n",
    "- **线条**: 对于一条未完成的线，必须有一个格子具有不同的值。简单的观察是，如果全是$X$，对应的3个二进制变量之和将为3，如果全是$O$则为0。当$isLine_l == 0$时，我们需要禁止这些结果。注意$l_0$是线$l$中的第一个格子，$l_1$是第二个，$l_2$是第三个。\n",
    "\n",
    "\\begin{equation}\n",
    "\\text{isLine}_l == 0 \\implies isX[l_0] + isX[l_1] + isX[l_2] >= 1 \\quad \\forall l \\in \\text{Lines}\n",
    "\\end{equation}\n",
    "\n",
    "\\begin{equation}\n",
    "\\text{isLine}_l == 0 \\implies isX[l_0] + isX[l_1] + isX[l_2] <= 2 \\quad \\forall l \\in \\text{Lines}\n",
    "\\end{equation}\n",
    "\n",
    "---\n",
    "## Python实现\n",
    "\n",
    "我们导入Gurobi Python模块。"
   ]
  },
  {
   "cell_type": "code",
   "execution_count": null,
   "metadata": {},
   "outputs": [],
   "source": [
    "# %pip install gurobipy"
   ]
  },
  {
   "cell_type": "code",
   "execution_count": 1,
   "metadata": {},
   "outputs": [],
   "source": [
    "import gurobipy as gp\n",
    "from gurobipy import GRB\n",
    "\n",
    "# tested with Python 3.11 & Gurobi 11.0"
   ]
  },
  {
   "cell_type": "markdown",
   "metadata": {},
   "source": [
    "## 模型部署\n",
    "\n",
    "我们首先创建3D井字棋棋盘中所有可能的线条和对角线的列表。每一个都用Python元组表示，包含3个条目，每个条目给出相应格子的(i,j,k)位置。总共有49个。"
   ]
  },
  {
   "cell_type": "code",
   "execution_count": 2,
   "metadata": {},
   "outputs": [],
   "source": [
    "lines = []\n",
    "size = 3\n",
    "\n",
    "for i in range(size):\n",
    "    for j in range(size):\n",
    "        for k in range(size):\n",
    "            if i == 0:\n",
    "                lines.append(((0,j,k), (1,j,k), (2,j,k)))\n",
    "            if j == 0:\n",
    "                lines.append(((i,0,k), (i,1,k), (i,2,k)))\n",
    "            if k == 0:\n",
    "                lines.append(((i,j,0), (i,j,1), (i,j,2)))\n",
    "            if i == 0 and j == 0:\n",
    "                lines.append(((0,0,k), (1,1,k), (2,2,k)))\n",
    "            if i == 0 and j == 2:\n",
    "                lines.append(((0,2,k), (1,1,k), (2,0,k)))\n",
    "            if i == 0 and k == 0:\n",
    "                lines.append(((0,j,0), (1,j,1), (2,j,2)))\n",
    "            if i == 0 and k == 2:\n",
    "                lines.append(((0,j,2), (1,j,1), (2,j,0)))\n",
    "            if j == 0 and k == 0:\n",
    "                lines.append(((i,0,0), (i,1,1), (i,2,2)))\n",
    "            if j == 0 and k == 2:\n",
    "                lines.append(((i,0,2), (i,1,1), (i,2,0)))\n",
    "lines.append(((0,0,0), (1,1,1), (2,2,2)))\n",
    "lines.append(((2,0,0), (1,1,1), (0,2,2)))\n",
    "lines.append(((0,2,0), (1,1,1), (2,0,2)))\n",
    "lines.append(((0,0,2), (1,1,1), (2,2,0)))"
   ]
  },
  {
   "cell_type": "markdown",
   "metadata": {},
   "source": [
    "接下来我们创建模型和决策变量。"
   ]
  },
  {
   "cell_type": "code",
   "execution_count": 3,
   "metadata": {},
   "outputs": [
    {
     "name": "stdout",
     "output_type": "stream",
     "text": [
      "Set parameter LicenseID to value 2601452\n"
     ]
    }
   ],
   "source": [
    "model = gp.Model('Tic_Tac_Toe')\n",
    "isX = model.addVars(size, size, size, vtype=GRB.BINARY, name=\"isX\")\n",
    "isLine = model.addVars(lines, vtype=GRB.BINARY, name=\"isLine\")"
   ]
  },
  {
   "cell_type": "markdown",
   "metadata": {},
   "source": [
    "现在我们创建约束条件。第一个约束说明棋盘将包含14个X（和13个O）："
   ]
  },
  {
   "cell_type": "code",
   "execution_count": 4,
   "metadata": {},
   "outputs": [],
   "source": [
    "x14 = model.addConstr(isX.sum() == 14)"
   ]
  },
  {
   "cell_type": "markdown",
   "metadata": {},
   "source": [
    "剩余的约束建立了$isLine[]$和$isX[]$变量之间的关系。如果三个格子都包含相同的符号，则一条线是完整的。在我们的模型中，这将对应于三个相关的$isX[]$变量之和要么为3（全是$X$）要么为0（全是$O$）。就我们的目的而言，如果$isLine[] = 0$，强制要求和必须严格在这两个值之间就足够了。"
   ]
  },
  {
   "cell_type": "code",
   "execution_count": 5,
   "metadata": {},
   "outputs": [],
   "source": [
    "for line in lines:\n",
    "    model.addGenConstrIndicator(isLine[line], False, isX[line[0]] + isX[line[1]] + isX[line[2]] >= 1)\n",
    "    model.addGenConstrIndicator(isLine[line], False, isX[line[0]] + isX[line[1]] + isX[line[2]] <= 2)"
   ]
  },
  {
   "cell_type": "markdown",
   "metadata": {},
   "source": [
    "最后，我们设置优化目标，即最小化完成线条的数量。"
   ]
  },
  {
   "cell_type": "code",
   "execution_count": 6,
   "metadata": {},
   "outputs": [],
   "source": [
    "model.setObjective(isLine.sum())"
   ]
  },
  {
   "cell_type": "markdown",
   "metadata": {},
   "source": [
    "现在我们执行优化。"
   ]
  },
  {
   "cell_type": "code",
   "execution_count": 7,
   "metadata": {},
   "outputs": [
    {
     "name": "stdout",
     "output_type": "stream",
     "text": [
      "Gurobi Optimizer version 12.0.0 build v12.0.0rc1 (win64 - Windows 11.0 (22631.2))\n",
      "\n",
      "CPU model: Intel(R) Core(TM) Ultra 5 125H, instruction set [SSE2|AVX|AVX2]\n",
      "Thread count: 14 physical cores, 18 logical processors, using up to 18 threads\n",
      "\n",
      "Optimize a model with 1 rows, 76 columns and 27 nonzeros\n",
      "Model fingerprint: 0x678d29e7\n",
      "Model has 98 simple general constraints\n",
      "  98 INDICATOR\n",
      "Variable types: 0 continuous, 76 integer (76 binary)\n",
      "Coefficient statistics:\n",
      "  Matrix range     [1e+00, 1e+00]\n",
      "  Objective range  [1e+00, 1e+00]\n",
      "  Bounds range     [1e+00, 1e+00]\n",
      "  RHS range        [1e+01, 1e+01]\n",
      "  GenCon rhs range [1e+00, 2e+00]\n",
      "  GenCon coe range [1e+00, 1e+00]\n",
      "Presolve added 98 rows and 0 columns\n",
      "Presolve time: 0.00s\n",
      "Presolved: 99 rows, 76 columns, 419 nonzeros\n",
      "Variable types: 0 continuous, 76 integer (76 binary)\n",
      "Found heuristic solution: objective 7.0000000\n",
      "Found heuristic solution: objective 6.0000000\n",
      "\n",
      "Root relaxation: objective 0.000000e+00, 45 iterations, 0.00 seconds (0.00 work units)\n",
      "\n",
      "    Nodes    |    Current Node    |     Objective Bounds      |     Work\n",
      " Expl Unexpl |  Obj  Depth IntInf | Incumbent    BestBd   Gap | It/Node Time\n",
      "\n",
      "     0     0    0.00000    0    8    6.00000    0.00000   100%     -    0s\n",
      "H    0     0                       5.0000000    0.00000   100%     -    0s\n",
      "     0     0    0.00000    0   19    5.00000    0.00000   100%     -    0s\n",
      "H    0     0                       4.0000000    0.00000   100%     -    0s\n",
      "     0     0    0.00000    0   19    4.00000    0.00000   100%     -    0s\n",
      "     0     0    0.00000    0   14    4.00000    0.00000   100%     -    0s\n",
      "     0     0    0.00000    0   18    4.00000    0.00000   100%     -    0s\n",
      "     0     0    0.00000    0    8    4.00000    0.00000   100%     -    0s\n",
      "     0     0    0.00000    0   17    4.00000    0.00000   100%     -    0s\n",
      "     0     0    0.61111    0    8    4.00000    0.61111  84.7%     -    0s\n",
      "     0     0    0.66667    0   19    4.00000    0.66667  83.3%     -    0s\n",
      "     0     0    0.79167    0   19    4.00000    0.79167  80.2%     -    0s\n",
      "     0     0    0.79167    0   16    4.00000    0.79167  80.2%     -    0s\n",
      "     0     2    1.00000    0   13    4.00000    1.00000  75.0%     -    0s\n",
      "\n",
      "Cutting planes:\n",
      "  MIR: 7\n",
      "  Zero half: 6\n",
      "\n",
      "Explored 392 nodes (3323 simplex iterations) in 0.15 seconds (0.04 work units)\n",
      "Thread count was 18 (of 18 available processors)\n",
      "\n",
      "Solution count 4: 4 5 6 7 \n",
      "\n",
      "Optimal solution found (tolerance 1.00e-04)\n",
      "Best objective 4.000000000000e+00, best bound 4.000000000000e+00, gap 0.0000%\n"
     ]
    }
   ],
   "source": [
    "model.optimize()"
   ]
  },
  {
   "cell_type": "markdown",
   "metadata": {},
   "source": [
    "---\n",
    "## 结果\n",
    "\n",
    "最优解只完成4条线或对角线。我们可以使用matplotlib来可视化结果（我们已经剥离了3D井字棋棋盘的第三维）。"
   ]
  },
  {
   "cell_type": "code",
   "execution_count": 8,
   "metadata": {},
   "outputs": [
    {
     "data": {
      "image/png": "[encoded data removed]",
      "text/plain": [
       "<Figure size 1000x500 with 3 Axes>"
      ]
     },
     "metadata": {},
     "output_type": "display_data"
    }
   ],
   "source": [
    "import matplotlib.pyplot as plt\n",
    "# %matplotlib inline\n",
    "\n",
    "fig, ax = plt.subplots(1, 3, figsize=(10,5))\n",
    "for i in range(3):\n",
    "    ax[i].grid()\n",
    "    ax[i].set_xticks(range(4))\n",
    "    ax[i].set_yticks(range(4))\n",
    "    ax[i].tick_params(labelleft=False, labelbottom=False)\n",
    "    \n",
    "for cell in isX.keys():\n",
    "    if isX[cell].x > 0.5:\n",
    "        ax[cell[0]].add_patch(plt.Rectangle((cell[1],cell[2]), 1, 1))\n",
    "\n",
    "plt.show()"
   ]
  },
  {
   "cell_type": "markdown",
   "metadata": {},
   "source": [
    "---\n",
    "## 参考文献\n",
    "\n",
    "H. Paul Williams著，《数学规划中的模型构建》，第五版。\n",
    "\n",
    "版权所有 © 2020 Gurobi Optimization, LLC"
   ]
  },
  {
   "cell_type": "code",
   "execution_count": null,
   "metadata": {},
   "outputs": [],
   "source": []
  }
 ],
 "metadata": {
  "kernelspec": {
   "display_name": "Python 3",
   "language": "python",
   "name": "python3"
  },
  "language_info": {
   "codemirror_mode": {
    "name": "ipython",
    "version": 3
   },
   "file_extension": ".py",
   "mimetype": "text/x-python",
   "name": "python",
   "nbconvert_exporter": "python",
   "pygments_lexer": "ipython3",
   "version": "3.12.2"
  }
 },
 "nbformat": 4,
 "nbformat_minor": 2
}
