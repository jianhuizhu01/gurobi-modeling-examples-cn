{
 "cells": [
  {
   "cell_type": "markdown",
   "metadata": {},
   "source": [
    "# 供应网络设计 1\n",
    "\n",
    "## 目标和准备条件\n",
    "\n",
    "尝试这个 Jupyter Notebook 建模示例，学习如何解决一个经典的供应网络设计问题，该问题涉及找到网络中的最小成本流。我们将向您展示如何 – 在给定一组工厂、仓库和客户的情况下 – 使用数学优化来确定满足客户需求的最佳方式，同时最小化运输成本。\n",
    "\n",
    "这个模型是 H. Paul Williams 所著《数学规划中的模型构建》第五版第 273-275 页和 330-332 页中的示例 19。\n",
    "\n",
    "这是一个初级难度的示例；我们假设您了解 Python，并对 Gurobi Python API 和构建数学优化模型有一定了解。\n",
    "\n",
    "**下载存储库** <br />\n",
    "您可以通过点击[这里](https://github.com/Gurobi/modeling-examples/archive/master.zip)下载包含此示例和其他示例的存储库。\n",
    "\n",
    "---\n",
    "## 问题描述\n",
    "\n",
    "在这个问题中，我们有六个终端客户，每个客户对产品都有已知需求。客户需求可以从四个仓库或直接从两个工厂满足。每个仓库可以支持通过它的最大产品数量，每个工厂可以生产最大数量的产品。在运输产品时，从工厂到仓库、从仓库到客户、或从工厂直接到客户都有已知的成本。\n",
    "\n",
    "我们的供应网络有两个工厂，分别位于利物浦和布莱顿，生产产品。每个工厂都有最大生产能力：\n",
    "\n",
    "| 工厂 | 供应量（吨） |\n",
    "| --- | --- |\n",
    "| 利物浦 | 150,000 |\n",
    "| 布莱顿 | 200,000 |\n",
    "\n",
    "产品可以从工厂运送到四个仓库。每个仓库都有最大吞吐量。仓库不生产或消耗产品；它们只是将产品传递给客户。\n",
    "\n",
    "| 仓库 | 吞吐量（吨） |\n",
    "| --- | --- |\n",
    "| 纽卡斯尔 | 70,000 |\n",
    "| 伯明翰 | 50,000 |\n",
    "| 伦敦 | 100,000 |\n",
    "| 埃克塞特 | 40,000 |\n",
    "\n",
    "我们的网络有六个客户，每个客户都有特定需求。\n",
    "\n",
    "| 客户 | 需求量（吨） |\n",
    "| --- | --- |\n",
    "| C1 | 50,000 |\n",
    "| C2 | 10,000 |\n",
    "| C3 | 40,000 |\n",
    "| C4 | 35,000 |\n",
    "| C5 | 60,000 |\n",
    "| C6 | 20,000 |\n",
    "\n",
    "运输成本在下表中给出（以美元/吨为单位）。列是源城市，行是目的地城市。例如，从利物浦到伦敦运输产品的成本为每吨1美元。表中的\"-\"表示该组合不可能，例如不可能从布莱顿工厂运输到纽卡斯尔仓库。\n",
    "\n",
    "| 目的地 | 利物浦 | 布莱顿 | 纽卡斯尔 | 伯明翰 | 伦敦 | 埃克塞特 |\n",
    "| --- | --- | --- | --- | --- | --- | --- |\n",
    "| 仓库 |\n",
    "| 纽卡斯尔 | 0.5 | - |\n",
    "| 伯明翰 | 0.5 | 0.3 |\n",
    "| 伦敦 | 1.0 | 0.5 |\n",
    "| 埃克塞特 | 0.2 | 0.2 |\n",
    "| 客户 |\n",
    "| C1 | 1.0 | 2.0 | - | 1.0 | - | - |\n",
    "| C2 | - | - | 1.5 | 0.5 | 1.5 | - |\n",
    "| C3 | 1.5 | - | 0.5 | 0.5 | 2.0 | 0.2 |\n",
    "| C4 | 2.0 | - | 1.5 | 1.0 | - | 1.5 |\n",
    "| C5 | - | - | - | 0.5 | 0.5 | 0.5 |\n",
    "| C6 | 1.0 | - | 1.0 | - | 1.5 | 1.5 |\n",
    "\n",
    "需要解决的问题是如何在最小化运输成本的同时满足终端客户的需求。\n",
    "\n",
    "---\n",
    "## 模型公式\n",
    "\n",
    "### 集合和索引\n",
    "\n",
    "$f \\in \\text{工厂}=\\{\\text{利物浦}, \\text{布莱顿}\\}$\n",
    "\n",
    "$d \\in \\text{仓库}=\\{\\text{纽卡斯尔}, \\text{伯明翰}, \\text{伦敦}, \\text{埃克塞特}\\}$\n",
    "\n",
    "$c \\in \\text{客户}=\\{\\text{C1}, \\text{C2}, \\text{C3}, \\text{C4}, \\text{C5}, \\text{C6}\\}$\n",
    "\n",
    "$\\text{城市} = \\text{工厂} \\cup \\text{仓库} \\cup \\text{客户}$\n",
    "\n",
    "### 参数\n",
    "\n",
    "$\\text{cost}_{s,t} \\in \\mathbb{R}^+$: 从源点 $s$ 到目的地 $t$ 运输一吨的成本。\n",
    "\n",
    "$\\text{supply}_f \\in \\mathbb{R}^+$: 工厂 $f$ 的最大可能供应量（吨）。\n",
    "\n",
    "$\\text{through}_d \\in \\mathbb{R}^+$: 仓库 $d$ 的最大可能流通量（吨）。\n",
    "\n",
    "$\\text{demand}_c \\in \\mathbb{R}^+$: 客户 $c$ 的产品需求量（吨）。\n",
    "\n",
    "### 决策变量\n",
    "\n",
    "$\\text{flow}_{s,t} \\in \\mathbb{N}^+$: 从源点 $s$ 到目的地 $t$ 运输的产品数量（吨）。\n",
    "\n",
    "\n",
    "### 目标函数\n",
    "\n",
    "- **成本**: 最小化总运输成本。\n",
    "\n",
    "\\begin{equation}\n",
    "\\text{最小化} \\quad Z = \\sum_{(s,t) \\in \\text{城市} \\times \\text{城市}}{\\text{cost}_{s,t}*\\text{flow}_{s,t}}\n",
    "\\end{equation}\n",
    "\n",
    "### 约束条件\n",
    "\n",
    "- **工厂产出**: 工厂的产品流出量必须遵守最大产能。\n",
    "\n",
    "\\begin{equation}\n",
    "\\sum_{t \\in \\text{城市}}{\\text{flow}_{f,t}} \\leq \\text{supply}_{f} \\quad \\forall f \\in \\text{工厂}\n",
    "\\end{equation}\n",
    "\n",
    "- **客户需求**: 产品流量必须满足客户需求。\n",
    "\n",
    "\\begin{equation}\n",
    "\\sum_{s \\in \\text{城市}}{\\text{flow}_{s,c}} = \\text{demand}_{c} \\quad \\forall c \\in \\text{客户}\n",
    "\\end{equation}\n",
    "\n",
    "- **仓库流量**: 进入仓库的流量等于从仓库流出的流量。\n",
    "\n",
    "\\begin{equation}\n",
    "\\sum_{s \\in \\text{城市}}{\\text{flow}_{s,d}} = \n",
    "\\sum_{t \\in \\text{城市}}{\\text{flow}_{d,t}}\n",
    "\\quad \\forall d \\in \\text{仓库}\n",
    "\\end{equation}\n",
    "\n",
    "- **仓库容量**: 进入仓库的流量必须遵守仓库容量。\n",
    "\n",
    "\\begin{equation}\n",
    "\\sum_{s \\in \\text{城市}}{\\text{flow}_{s,d}} \\leq \\text{through}_{d}\n",
    "\\quad \\forall d \\in \\text{仓库}\n",
    "\\end{equation}\n",
    "\n",
    "---\n",
    "## Python 实现\n",
    "\n",
    "我们导入 Gurobi Python 模块和其他 Python 库。"
   ]
  },
  {
   "cell_type": "code",
   "execution_count": null,
   "metadata": {},
   "outputs": [],
   "source": [
    "# %pip install gurobipy"
   ]
  },
  {
   "cell_type": "code",
   "execution_count": null,
   "metadata": {},
   "outputs": [],
   "source": [
    "import pandas as pd\n",
    "\n",
    "import gurobipy as gp\n",
    "from gurobipy import GRB\n",
    "\n",
    "# 使用 Python 3.11 和 Gurobi 11.0 测试通过"
   ]
  },
  {
   "cell_type": "markdown",
   "metadata": {},
   "source": [
    "## 输入数据\n",
    "我们定义模型的所有输入数据。"
   ]
  },
  {
   "cell_type": "code",
   "execution_count": null,
   "metadata": {},
   "outputs": [],
   "source": [
    "# 创建字典来存储工厂供应限制、仓库吞吐限制和客户需求\n",
    "\n",
    "supply = dict({'Liverpool': 150000,\n",
    "               'Brighton': 200000})\n",
    "\n",
    "through = dict({'Newcastle': 70000,\n",
    "                'Birmingham': 50000,\n",
    "                'London': 100000,\n",
    "                'Exeter': 40000})\n",
    "\n",
    "demand = dict({'C1': 50000,\n",
    "               'C2': 10000,\n",
    "               'C3': 40000,\n",
    "               'C4': 35000,\n",
    "               'C5': 60000,\n",
    "               'C6': 20000})\n",
    "\n",
    "# 创建字典来存储运输成本\n",
    "\n",
    "arcs, cost = gp.multidict({\n",
    "    ('Liverpool', 'Newcastle'): 0.5,\n",
    "    ('Liverpool', 'Birmingham'): 0.5,\n",
    "    ('Liverpool', 'London'): 1.0,\n",
    "    ('Liverpool', 'Exeter'): 0.2,\n",
    "    ('Liverpool', 'C1'): 1.0,\n",
    "    ('Liverpool', 'C3'): 1.5,\n",
    "    ('Liverpool', 'C4'): 2.0,\n",
    "    ('Liverpool', 'C6'): 1.0,\n",
    "    ('Brighton', 'Birmingham'): 0.3,\n",
    "    ('Brighton', 'London'): 0.5,\n",
    "    ('Brighton', 'Exeter'): 0.2,\n",
    "    ('Brighton', 'C1'): 2.0,\n",
    "    ('Newcastle', 'C2'): 1.5,\n",
    "    ('Newcastle', 'C3'): 0.5,\n",
    "    ('Newcastle', 'C5'): 1.5,\n",
    "    ('Newcastle', 'C6'): 1.0,\n",
    "    ('Birmingham', 'C1'): 1.0,\n",
    "    ('Birmingham', 'C2'): 0.5,\n",
    "    ('Birmingham', 'C3'): 0.5,\n",
    "    ('Birmingham', 'C4'): 1.0,\n",
    "    ('Birmingham', 'C5'): 0.5,\n",
    "    ('London', 'C2'): 1.5,\n",
    "    ('London', 'C3'): 2.0,\n",
    "    ('London', 'C5'): 0.5,\n",
    "    ('London', 'C6'): 1.5,\n",
    "    ('Exeter', 'C3'): 0.2,\n",
    "    ('Exeter', 'C4'): 1.5,\n",
    "    ('Exeter', 'C5'): 0.5,\n",
    "    ('Exeter', 'C6'): 1.5\n",
    "})"
   ]
  },
  {
   "cell_type": "markdown",
   "metadata": {},
   "source": [
    "## 模型部署\n",
    "\n",
    "我们创建一个模型和变量。这些变量简单地捕获在源点和目的地之间允许路径上流动的产品数量。优化目标系数在此处提供（在 $\\text{cost}$ 中），因此我们之后不需要提供优化目标。"
   ]
  },
  {
   "cell_type": "code",
   "execution_count": 3,
   "metadata": {},
   "outputs": [
    {
     "name": "stdout",
     "output_type": "stream",
     "text": [
      "Using license file c:\\gurobi\\gurobi.lic\n"
     ]
    }
   ],
   "source": [
    "model = gp.Model('SupplyNetworkDesign')\n",
    "flow = model.addVars(arcs, obj=cost, name=\"flow\")"
   ]
  },
  {
   "cell_type": "markdown",
   "metadata": {},
   "source": [
    "我们的第一个约束要求离开工厂的总流量不超过该工厂的供应能力。"
   ]
  },
  {
   "cell_type": "code",
   "execution_count": null,
   "metadata": {},
   "outputs": [],
   "source": [
    "# 生产能力限制\n",
    "\n",
    "factories = supply.keys()\n",
    "factory_flow = model.addConstrs((gp.quicksum(flow.select(factory, '*')) <= supply[factory]\n",
    "                                 for factory in factories), name=\"factory\")"
   ]
  },
  {
   "cell_type": "markdown",
   "metadata": {},
   "source": [
    "我们的下一个约束要求进入客户的总流量等于该客户的需求。"
   ]
  },
  {
   "cell_type": "code",
   "execution_count": null,
   "metadata": {},
   "outputs": [],
   "source": [
    "# 客户需求\n",
    "\n",
    "customers = demand.keys()\n",
    "customer_flow = model.addConstrs((gp.quicksum(flow.select('*', customer)) == demand[customer]\n",
    "                                  for customer in customers), name=\"customer\")"
   ]
  },
  {
   "cell_type": "markdown",
   "metadata": {},
   "source": [
    "我们的最后约束与仓库有关。第一个约束要求进入仓库的产品总量必须等于离开的总量。"
   ]
  },
  {
   "cell_type": "code",
   "execution_count": null,
   "metadata": {},
   "outputs": [],
   "source": [
    "# 仓库流量平衡\n",
    "\n",
    "depots = through.keys()\n",
    "depot_flow = model.addConstrs((gp.quicksum(flow.select(depot, '*')) == gp.quicksum(flow.select('*', depot))\n",
    "                               for depot in depots), name=\"depot\")"
   ]
  },
  {
   "cell_type": "markdown",
   "metadata": {},
   "source": [
    "第二组约束限制通过仓库的产品量最多等于该仓库的吞吐量。"
   ]
  },
  {
   "cell_type": "code",
   "execution_count": null,
   "metadata": {},
   "outputs": [],
   "source": [
    "# 仓库吞吐量\n",
    "\n",
    "depot_capacity = model.addConstrs((gp.quicksum(flow.select('*', depot)) <= through[depot]\n",
    "                                   for depot in depots), name=\"depot_capacity\")"
   ]
  },
  {
   "cell_type": "markdown",
   "metadata": {},
   "source": [
    "现在我们优化模型"
   ]
  },
  {
   "cell_type": "code",
   "execution_count": 8,
   "metadata": {},
   "outputs": [
    {
     "name": "stdout",
     "output_type": "stream",
     "text": [
      "Gurobi Optimizer version 9.1.0 build v9.1.0rc0 (win64)\n",
      "Thread count: 4 physical cores, 8 logical processors, using up to 8 threads\n",
      "Optimize a model with 16 rows, 29 columns and 65 nonzeros\n",
      "Model fingerprint: 0x3607c855\n",
      "Coefficient statistics:\n",
      "  Matrix range     [1e+00, 1e+00]\n",
      "  Objective range  [2e-01, 2e+00]\n",
      "  Bounds range     [0e+00, 0e+00]\n",
      "  RHS range        [1e+04, 2e+05]\n",
      "Presolve removed 1 rows and 0 columns\n",
      "Presolve time: 0.03s\n",
      "Presolved: 15 rows, 29 columns, 64 nonzeros\n",
      "\n",
      "Iteration    Objective       Primal Inf.    Dual Inf.      Time\n",
      "       0    1.4800000e+05   1.812500e+04   0.000000e+00      0s\n",
      "       7    1.9850000e+05   0.000000e+00   0.000000e+00      0s\n",
      "\n",
      "Solved in 7 iterations and 0.03 seconds\n",
      "Optimal objective  1.985000000e+05\n"
     ]
    }
   ],
   "source": [
    "model.optimize()"
   ]
  },
  {
   "cell_type": "markdown",
   "metadata": {},
   "source": [
    "---\n",
    "## 分析\n",
    "\n",
    "所有客户的产品需求都可以以总成本 $\\$198,500$ 得到满足。最优方案如下。"
   ]
  },
  {
   "cell_type": "code",
   "execution_count": 9,
   "metadata": {},
   "outputs": [
    {
     "data": {
      "text/html": [
       "<div>\n",
       "<style scoped>\n",
       "    .dataframe tbody tr th:only-of-type {\n",
       "        vertical-align: middle;\n",
       "    }\n",
       "\n",
       "    .dataframe tbody tr th {\n",
       "        vertical-align: top;\n",
       "    }\n",
       "\n",
       "    .dataframe thead th {\n",
       "        text-align: right;\n",
       "    }\n",
       "</style>\n",
       "<table border=\"1\" class=\"dataframe\">\n",
       "  <thead>\n",
       "    <tr style=\"text-align: right;\">\n",
       "      <th></th>\n",
       "      <th>From</th>\n",
       "      <th>To</th>\n",
       "      <th>Flow</th>\n",
       "    </tr>\n",
       "  </thead>\n",
       "  <tbody>\n",
       "    <tr>\n",
       "      <th></th>\n",
       "      <td>Liverpool</td>\n",
       "      <td>C1</td>\n",
       "      <td>50000.0</td>\n",
       "    </tr>\n",
       "    <tr>\n",
       "      <th></th>\n",
       "      <td>Liverpool</td>\n",
       "      <td>C6</td>\n",
       "      <td>20000.0</td>\n",
       "    </tr>\n",
       "    <tr>\n",
       "      <th></th>\n",
       "      <td>Brighton</td>\n",
       "      <td>Birmingham</td>\n",
       "      <td>50000.0</td>\n",
       "    </tr>\n",
       "    <tr>\n",
       "      <th></th>\n",
       "      <td>Brighton</td>\n",
       "      <td>London</td>\n",
       "      <td>55000.0</td>\n",
       "    </tr>\n",
       "    <tr>\n",
       "      <th></th>\n",
       "      <td>Brighton</td>\n",
       "      <td>Exeter</td>\n",
       "      <td>40000.0</td>\n",
       "    </tr>\n",
       "    <tr>\n",
       "      <th></th>\n",
       "      <td>Birmingham</td>\n",
       "      <td>C2</td>\n",
       "      <td>10000.0</td>\n",
       "    </tr>\n",
       "    <tr>\n",
       "      <th></th>\n",
       "      <td>Birmingham</td>\n",
       "      <td>C4</td>\n",
       "      <td>35000.0</td>\n",
       "    </tr>\n",
       "    <tr>\n",
       "      <th></th>\n",
       "      <td>Birmingham</td>\n",
       "      <td>C5</td>\n",
       "      <td>5000.0</td>\n",
       "    </tr>\n",
       "    <tr>\n",
       "      <th></th>\n",
       "      <td>London</td>\n",
       "      <td>C5</td>\n",
       "      <td>55000.0</td>\n",
       "    </tr>\n",
       "    <tr>\n",
       "      <th></th>\n",
       "      <td>Exeter</td>\n",
       "      <td>C3</td>\n",
       "      <td>40000.0</td>\n",
       "    </tr>\n",
       "  </tbody>\n",
       "</table>\n",
       "</div>"
      ],
      "text/plain": [
       "        From          To     Flow\n",
       "   Liverpool          C1  50000.0\n",
       "   Liverpool          C6  20000.0\n",
       "    Brighton  Birmingham  50000.0\n",
       "    Brighton      London  55000.0\n",
       "    Brighton      Exeter  40000.0\n",
       "  Birmingham          C2  10000.0\n",
       "  Birmingham          C4  35000.0\n",
       "  Birmingham          C5   5000.0\n",
       "      London          C5  55000.0\n",
       "      Exeter          C3  40000.0"
      ]
     },
     "execution_count": 9,
     "metadata": {},
     "output_type": "execute_result"
    }
   ],
   "source": [
    "product_flow = pd.DataFrame(\n",
    "    [{\"From\": arc[0], \"To\": arc[1], \"Flow\": flow[arc].x} for arc in arcs if flow[arc].x > 1e-6]\n",
    ")\n",
    "product_flow.index=[''] * len(product_flow)\n",
    "product_flow"
   ]
  },
  {
   "cell_type": "markdown",
   "metadata": {},
   "source": [
    "---\n",
    "## 参考文献\n",
    "\n",
    "H. Paul Williams，《数学规划中的模型构建》，第五版。\n",
    "\n",
    "版权所有 © 2020 Gurobi Optimization, LLC"
   ]
  },
  {
   "cell_type": "code",
   "execution_count": null,
   "metadata": {},
   "outputs": [],
   "source": []
  }
 ],
 "metadata": {
  "kernelspec": {
   "display_name": "Python 3",
   "language": "python",
   "name": "python3"
  },
  "language_info": {
   "codemirror_mode": {
    "name": "ipython",
    "version": 3
   },
   "file_extension": ".py",
   "mimetype": "text/x-python",
   "name": "python",
   "nbconvert_exporter": "python",
   "pygments_lexer": "ipython3",
   "version": "3.11.6"
  }
 },
 "nbformat": 4,
 "nbformat_minor": 2
}
