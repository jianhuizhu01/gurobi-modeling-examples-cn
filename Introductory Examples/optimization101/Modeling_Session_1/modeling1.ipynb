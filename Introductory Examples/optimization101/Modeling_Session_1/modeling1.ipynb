{
 "cells": [
  {
   "cell_type": "markdown",
   "id": "89eeb5ad",
   "metadata": {},
   "source": [
    "# 将决策问题转化为优化模型\n",
    "\n",
    "在第一个视频中，我们讨论了数学优化所需的几个关键概念：\n",
    "- 参数 \n",
    "- 决策变量\n",
    "- 约束条件\n",
    "- 目标函数\n",
    "\n",
    "在这第一个建模示例中，我们将看到如何使用这些概念将决策问题表述为优化模型，并使用`gurobipy`编码实现这个公式化。有关Python API中所有命令的更多信息，请查看我们的[文档](https://www.gurobi.com/documentation/10.0/refman/py_python_api_details.html)。\n",
    "\n",
    "## 决策问题\n",
    "我们生产部件。拥有一组生产设施，生产装有部件的箱子。还有一组分销地点，将这些部件分销销售。每个分销中心都有预测需求，而每个生产设施在此期间能够生产的部件数量有最小值和最大值。我们需要确保每个分销设施从生产处接收足够的部件以满足需求，并且我们希望以最小成本实现这一点。最小生产量是生产设施最大值的75%。\n",
    "\n",
    "## 集合和定义模型\n",
    "我们的集合是：\n",
    "- $P = \\{\\texttt{'Baltimore', 'Cleveland', 'Little Rock', 'Birmingham', 'Charleston'}\\} \\quad\\quad\\quad\\quad\\quad\\quad\\quad\\space\\space \\texttt{production}$\n",
    "- $D = \\{\\texttt{'Columbia', 'Indianapolis', 'Lexington', 'Nashville', 'Richmond', 'St. Louis'}\\} \\quad\\quad\\quad \\texttt{distribution}$\n",
    "\n",
    "为了索引每个集合，我们将使用每个集合的小写字母。用于集合和索引的字母由您决定。通常，大写字母用于集合，相应的小写字母将作为索引。单个字母主要用于简洁。"
   ]
  },
  {
   "cell_type": "code",
   "execution_count": 2,
   "id": "28e16593-5c56-43d6-b2fb-d05835d38ea3",
   "metadata": {},
   "outputs": [],
   "source": [
    "# %pip install gurobipy\n",
    "\n",
    "# 导入包\n",
    "import pandas as pd\n",
    "import gurobipy as gp\n",
    "from gurobipy import GRB\n",
    "\n",
    "# 分别设置集合P和D\n",
    "# 当我们编写集合时，可以使用更具描述性的名称\n",
    "production = ['Baltimore','Cleveland','Little Rock','Birmingham','Charleston']\n",
    "distribution = ['Columbia','Indianapolis','Lexington','Nashville','Richmond','St. Louis']\n",
    "\n",
    "# 为决策问题定义一个gurobipy模型\n",
    "m = gp.Model('widgets')"
   ]
  },
  {
   "cell_type": "markdown",
   "id": "728aaa2d-b631-4ce3-9bd2-c619732a291c",
   "metadata": {},
   "source": [
    "## 参数\n",
    "\n",
    "数学优化问题的参数是在模型中被视为常量的值，与决策变量相关联。对于这个决策问题，这些值是每个生产设施的限制、每个分销中心的需求，以及生产和分销地点之间的成本。\n",
    "\n",
    "- $m_p$ 是位置 $p$ 的最大生产量，$\\forall p \\in P \\quad\\quad\\quad\\quad\\quad\\quad\\quad\\quad\\quad\\quad\\quad\\quad\\quad\\quad\\space\\space \\texttt{max}\\_\\texttt{prod[p]}$\n",
    "- $n_d$ 是分销中心 $d$ 的客户数量，$\\forall d \\in D \\quad\\quad\\quad\\quad\\quad\\quad\\quad\\quad \\texttt{n}\\_\\texttt{demand[d]}$\n",
    "- $c_{p,d}$ 是在位置 $p$ 和位置 $d$ 之间运送部件的成本，$\\forall p \\in P, d \\in D \\quad\\quad\\quad \\texttt{cost[p,d]}$"
   ]
  },
  {
   "cell_type": "code",
   "execution_count": 3,
   "id": "924fa2e7-7f88-4f69-a5e1-74feed55adf5",
   "metadata": {},
   "outputs": [
    {
     "data": {
      "application/vnd.microsoft.datawrangler.viewer.v0+json": {
       "columns": [
        {
         "name": "production",
         "rawType": "object",
         "type": "string"
        },
        {
         "name": "Columbia",
         "rawType": "float64",
         "type": "float"
        },
        {
         "name": "Indianapolis",
         "rawType": "float64",
         "type": "float"
        },
        {
         "name": "Lexington",
         "rawType": "float64",
         "type": "float"
        },
        {
         "name": "Nashville",
         "rawType": "float64",
         "type": "float"
        },
        {
         "name": "Richmond",
         "rawType": "float64",
         "type": "float"
        },
        {
         "name": "St. Louis",
         "rawType": "float64",
         "type": "float"
        }
       ],
       "conversionMethod": "pd.DataFrame",
       "ref": "1f24724b-49e4-49fc-a53c-2d69e77503fc",
       "rows": [
        [
         "Baltimore",
         "4.5",
         "5.09",
         "4.33",
         "5.96",
         "1.96",
         "7.3"
        ],
        [
         "Birmingham",
         "3.33",
         "4.33",
         "3.38",
         "1.53",
         "5.95",
         "4.01"
        ],
        [
         "Charleston",
         "3.02",
         "2.61",
         "1.61",
         "4.44",
         "2.36",
         "4.6"
        ],
        [
         "Cleveland",
         "2.43",
         "2.37",
         "2.54",
         "4.13",
         "3.2",
         "4.88"
        ],
        [
         "Little Rock",
         "6.42",
         "4.83",
         "3.39",
         "4.4",
         "7.44",
         "2.92"
        ]
       ],
       "shape": {
        "columns": 6,
        "rows": 5
       }
      },
      "text/html": [
       "<div>\n",
       "<style scoped>\n",
       "    .dataframe tbody tr th:only-of-type {\n",
       "        vertical-align: middle;\n",
       "    }\n",
       "\n",
       "    .dataframe tbody tr th {\n",
       "        vertical-align: top;\n",
       "    }\n",
       "\n",
       "    .dataframe thead th {\n",
       "        text-align: right;\n",
       "    }\n",
       "</style>\n",
       "<table border=\"1\" class=\"dataframe\">\n",
       "  <thead>\n",
       "    <tr style=\"text-align: right;\">\n",
       "      <th>distribution</th>\n",
       "      <th>Columbia</th>\n",
       "      <th>Indianapolis</th>\n",
       "      <th>Lexington</th>\n",
       "      <th>Nashville</th>\n",
       "      <th>Richmond</th>\n",
       "      <th>St. Louis</th>\n",
       "    </tr>\n",
       "    <tr>\n",
       "      <th>production</th>\n",
       "      <th></th>\n",
       "      <th></th>\n",
       "      <th></th>\n",
       "      <th></th>\n",
       "      <th></th>\n",
       "      <th></th>\n",
       "    </tr>\n",
       "  </thead>\n",
       "  <tbody>\n",
       "    <tr>\n",
       "      <th>Baltimore</th>\n",
       "      <td>4.50</td>\n",
       "      <td>5.09</td>\n",
       "      <td>4.33</td>\n",
       "      <td>5.96</td>\n",
       "      <td>1.96</td>\n",
       "      <td>7.30</td>\n",
       "    </tr>\n",
       "    <tr>\n",
       "      <th>Birmingham</th>\n",
       "      <td>3.33</td>\n",
       "      <td>4.33</td>\n",
       "      <td>3.38</td>\n",
       "      <td>1.53</td>\n",
       "      <td>5.95</td>\n",
       "      <td>4.01</td>\n",
       "    </tr>\n",
       "    <tr>\n",
       "      <th>Charleston</th>\n",
       "      <td>3.02</td>\n",
       "      <td>2.61</td>\n",
       "      <td>1.61</td>\n",
       "      <td>4.44</td>\n",
       "      <td>2.36</td>\n",
       "      <td>4.60</td>\n",
       "    </tr>\n",
       "    <tr>\n",
       "      <th>Cleveland</th>\n",
       "      <td>2.43</td>\n",
       "      <td>2.37</td>\n",
       "      <td>2.54</td>\n",
       "      <td>4.13</td>\n",
       "      <td>3.20</td>\n",
       "      <td>4.88</td>\n",
       "    </tr>\n",
       "    <tr>\n",
       "      <th>Little Rock</th>\n",
       "      <td>6.42</td>\n",
       "      <td>4.83</td>\n",
       "      <td>3.39</td>\n",
       "      <td>4.40</td>\n",
       "      <td>7.44</td>\n",
       "      <td>2.92</td>\n",
       "    </tr>\n",
       "  </tbody>\n",
       "</table>\n",
       "</div>"
      ],
      "text/plain": [
       "distribution  Columbia  Indianapolis  Lexington  Nashville  Richmond  \\\n",
       "production                                                             \n",
       "Baltimore         4.50          5.09       4.33       5.96      1.96   \n",
       "Birmingham        3.33          4.33       3.38       1.53      5.95   \n",
       "Charleston        3.02          2.61       1.61       4.44      2.36   \n",
       "Cleveland         2.43          2.37       2.54       4.13      3.20   \n",
       "Little Rock       6.42          4.83       3.39       4.40      7.44   \n",
       "\n",
       "distribution  St. Louis  \n",
       "production               \n",
       "Baltimore          7.30  \n",
       "Birmingham         4.01  \n",
       "Charleston         4.60  \n",
       "Cleveland          4.88  \n",
       "Little Rock        2.92  "
      ]
     },
     "execution_count": 3,
     "metadata": {},
     "output_type": "execute_result"
    }
   ],
   "source": [
    "# 使用.squeeze(\"columns\")将成本转换为系列\n",
    "path = 'https://raw.githubusercontent.com/Gurobi/modeling-examples/master/optimization101/Modeling_Session_1/'\n",
    "transp_cost = pd.read_csv(path + 'cost.csv', index_col=[0,1]).squeeze(\"columns\")\n",
    "# transp_cost = pd.read_csv('cost.csv', index_col=[0,1]).squeeze(\"columns\")\n",
    "# 透视表格以便更容易查看成本\n",
    "transp_cost.reset_index().pivot(index='production', columns='distribution', values='cost')"
   ]
  },
  {
   "cell_type": "code",
   "execution_count": 4,
   "id": "cf7664cc-4547-4b72-948f-a02e138c45d9",
   "metadata": {},
   "outputs": [
    {
     "data": {
      "application/vnd.microsoft.datawrangler.viewer.v0+json": {
       "columns": [
        {
         "name": "index",
         "rawType": "object",
         "type": "string"
        },
        {
         "name": "max_production",
         "rawType": "int64",
         "type": "integer"
        }
       ],
       "conversionMethod": "pd.DataFrame",
       "ref": "4381d37c-fc3f-45ae-838d-10281e7a8fae",
       "rows": [
        [
         "Baltimore",
         "180"
        ],
        [
         "Cleveland",
         "200"
        ],
        [
         "Little Rock",
         "140"
        ],
        [
         "Birmingham",
         "80"
        ],
        [
         "Charleston",
         "180"
        ]
       ],
       "shape": {
        "columns": 1,
        "rows": 5
       }
      },
      "text/html": [
       "<div>\n",
       "<style scoped>\n",
       "    .dataframe tbody tr th:only-of-type {\n",
       "        vertical-align: middle;\n",
       "    }\n",
       "\n",
       "    .dataframe tbody tr th {\n",
       "        vertical-align: top;\n",
       "    }\n",
       "\n",
       "    .dataframe thead th {\n",
       "        text-align: right;\n",
       "    }\n",
       "</style>\n",
       "<table border=\"1\" class=\"dataframe\">\n",
       "  <thead>\n",
       "    <tr style=\"text-align: right;\">\n",
       "      <th></th>\n",
       "      <th>max_production</th>\n",
       "    </tr>\n",
       "  </thead>\n",
       "  <tbody>\n",
       "    <tr>\n",
       "      <th>Baltimore</th>\n",
       "      <td>180</td>\n",
       "    </tr>\n",
       "    <tr>\n",
       "      <th>Cleveland</th>\n",
       "      <td>200</td>\n",
       "    </tr>\n",
       "    <tr>\n",
       "      <th>Little Rock</th>\n",
       "      <td>140</td>\n",
       "    </tr>\n",
       "    <tr>\n",
       "      <th>Birmingham</th>\n",
       "      <td>80</td>\n",
       "    </tr>\n",
       "    <tr>\n",
       "      <th>Charleston</th>\n",
       "      <td>180</td>\n",
       "    </tr>\n",
       "  </tbody>\n",
       "</table>\n",
       "</div>"
      ],
      "text/plain": [
       "             max_production\n",
       "Baltimore               180\n",
       "Cleveland               200\n",
       "Little Rock             140\n",
       "Birmingham               80\n",
       "Charleston              180"
      ]
     },
     "execution_count": 4,
     "metadata": {},
     "output_type": "execute_result"
    }
   ],
   "source": [
    "max_prod = pd.Series([180,200,140,80,180], index = production, name = \"max_production\")\n",
    "n_demand = pd.Series([89,95,121,101,116,181], index = distribution, name = \"demand\") \n",
    "max_prod.to_frame()\n",
    "#n_demand.to_frame()"
   ]
  },
  {
   "cell_type": "markdown",
   "id": "fd659abc-ab18-49d4-b42e-43e43f19cccf",
   "metadata": {},
   "source": [
    "我们还有每个生产设施需要达到其最大产能75%的要求。我们将在公式化中用 $a$ 表示这个值，用\"frac\"表示所需的最大产能比例。最初我们设定 $a = 0.75$。"
   ]
  },
  {
   "cell_type": "code",
   "execution_count": 5,
   "id": "dd77683c-47d1-4ee2-af3d-e9ce2003c209",
   "metadata": {},
   "outputs": [],
   "source": [
    "frac = 0.75"
   ]
  },
  {
   "cell_type": "markdown",
   "id": "cca98af8-c5c2-4883-8c48-f104ff798010",
   "metadata": {},
   "source": [
    "## 决策变量\n",
    "这是优化求解器确定的内容，即您可以控制的行动。提醒一下，它们主要有三种形式：\n",
    "- `连续型`：产品价格\n",
    "- `整数型`：用于活动的食品卡车数量\n",
    "- `二元型`：投资组合中是否包含某支股票的是/否决策\n",
    "\n",
    "决策变量（和参数）使用我们为问题定义的集合元素进行索引。在这个例子中，让我们从一组生产我们部件的城市开始，我们在公式中称之为集合 $P$，但在代码中可以定义为'production'。以及一组分销部件的城市 $D$，类似地定义为'distribution'。这里的决策是确定从每个生产设施到每个分销地点发送的箱子数量。\n",
    "\n",
    "令 $x_{p,d}$ 表示在设施 $p$ 生产并运送到地点 $d$ 的部件数量。\n",
    "\n",
    "### 在gurobipy中添加变量\n",
    "`gurobipy` 主要通过两个（相似的）命令让您添加决策变量：\n",
    "- [addVar()](https://www.gurobi.com/documentation/10.0/refman/py_model_addvar.html) 添加单个变量\n",
    "- [addVars()](https://www.gurobi.com/documentation/10.0/refman/py_model_addvar.html) 通过集合/索引添加一组变量\n",
    "\n",
    "使用 `addVars` 时，您必须提供要添加的变量的索引，对我们来说，这些是生产和分销地点。我们可以使用其他参数，稍后将介绍其中几个。\n",
    "\n",
    "### 我们的决策变量\n",
    "在编写代码时，通常有几种方法可以达到同样的目的。下面我们可以看到创建决策变量的三种不同方式。"
   ]
  },
  {
   "cell_type": "code",
   "execution_count": 6,
   "id": "ed5c511b-6da0-4edd-a647-7cf91c67aeda",
   "metadata": {},
   "outputs": [],
   "source": [
    "# 遍历每个p和d组合来创建决策变量\n",
    "m = gp.Model('widgets')\n"
   ]
  },
  {
   "cell_type": "code",
   "execution_count": 7,
   "id": "b66187a6-2b42-4d9b-8a96-6969da5150fb",
   "metadata": {},
   "outputs": [],
   "source": [
    "# 为索引提供每个集合\n",
    "m = gp.Model('widgets')\n"
   ]
  },
  {
   "cell_type": "code",
   "execution_count": 8,
   "id": "4420b1b9-844b-4dc1-90f0-955938f5885c",
   "metadata": {},
   "outputs": [],
   "source": [
    "# 运输成本的索引包含生产和分销地点的每种组合\n",
    "m = gp.Model('widgets')\n"
   ]
  },
  {
   "cell_type": "markdown",
   "id": "94a42856-5458-4501-959e-c0265af517c2",
   "metadata": {},
   "source": [
    "命令 `m.update()` 更新模型以包含所做的任何更改，如添加变量。它不需要在每个单元格中运行，但如果您在单元格的输出中看到 *Awaiting Model Update*，那么这应该可以防止这种情况发生。"
   ]
  },
  {
   "cell_type": "markdown",
   "id": "9dde6c86",
   "metadata": {},
   "source": [
    "## 约束条件\n",
    "我们在本示例开始时概述了生产和需求约束；现在我们将它们公式化并编码。请注意，向模型添加约束（和/或决策变量）的顺序并不重要。\n",
    "\n",
    "### 在gurobipy中添加约束\n",
    "向模型添加约束与添加变量类似：\n",
    "- [addConstr()](https://www.gurobi.com/documentation/10.0/refman/py_model_addconstr.html) 添加单个约束\n",
    "- [addConstrs()](https://www.gurobi.com/documentation/10.0/refman/py_model_addconstrs.htmll) 使用Python `generator` 表达式添加一组约束\n",
    " \n",
    "### 我们的约束\n",
    "首先，我们将为每个分销地点制定需求约束，并将它们添加到模型中。\n",
    "\n",
    "\\begin{align*} \n",
    "\\sum_{p}x_{p,d} \\ge n_d, \\quad \\forall d \\in D \\quad\\quad \\texttt{meet}\\_\\texttt{demand[d]}\\\\ \n",
    "\\end{align*}\n",
    "\n",
    "这将是我们第一次使用 [gp.quicksum()](https://www.gurobi.com/documentation/10.0/refman/py_quicksum.html)。在gurobipy中有其他方法可以对表达式求和，虽然这种方法在编码上不是最简洁的，但它很容易与公式中的求和进行比较，以了解它的工作原理。"
   ]
  },
  {
   "cell_type": "code",
   "execution_count": null,
   "id": "5fee7987-ff5e-4b00-9e28-c93121c44ec3",
   "metadata": {},
   "outputs": [],
   "source": []
  },
  {
   "cell_type": "markdown",
   "id": "ecca1f83-c111-47f1-9a34-6eeb2a1f63b6",
   "metadata": {},
   "source": [
    "接下来，我们有每个生产设施可以制造的最大部件数量。我们还要求每个设施必须至少达到其最大产能的75%。\n",
    "\n",
    "$$\n",
    "\\begin{align*} \n",
    "\\sum_{d}x_{p,d} &\\le m_p, &\\forall p \\in P \\quad\\quad &\\texttt{can}\\_\\texttt{produce[p]}\\\\ \n",
    "\\sum_{d}x_{p,d} &\\ge a*m_p,&\\forall p \\in P \\quad\\quad &\\texttt{must}\\_\\texttt{produce[p]}\\\\ \n",
    "\\end{align*}\n",
    "$$\n"
   ]
  },
  {
   "cell_type": "code",
   "execution_count": null,
   "id": "d70dbb23-db8f-40fb-af49-1682071c6c62",
   "metadata": {},
   "outputs": [],
   "source": []
  },
  {
   "cell_type": "markdown",
   "id": "b5be8505-9359-4004-8ac0-b54502db661e",
   "metadata": {},
   "source": [
    "## 目标函数\n",
    "我们被要求**减少**运输成本，我们将用这一点来确定我们的目标函数，即最小化从生产地到分销地运送部件的总成本。\n",
    "\n",
    "### 在gurobipy中设置目标\n",
    "这是通过 [setObjective()](https://www.gurobi.com/documentation/10.0/refman/py_model_setobjective.html) 完成的。第二个参数（在这种情况下是 `GRB.MINIMIZE`）被称为模型的*sense*。对于最大化问题，我们将使用 `GRB.MAXIMIZE`。\n",
    "\n",
    "### 我们的目标函数\n",
    "\\begin{align*} \n",
    "{\\rm minimize} \\space \\sum_{p,d}c_{p,d}x_{p,d}, \\quad \\forall p \\in P, d \\in D\\\\ \n",
    "\\end{align*}"
   ]
  },
  {
   "cell_type": "code",
   "execution_count": null,
   "id": "2756333c-6a92-4a3a-ba4d-9ec706d900f9",
   "metadata": {},
   "outputs": [],
   "source": []
  },
  {
   "cell_type": "markdown",
   "id": "4b77c7b0-ddd1-48de-8d41-71a2e0fd77f3",
   "metadata": {},
   "source": [
    "## 查找、提取和分析解决方案\n",
    "在运行优化之前，写入一个 `lp` 文件是一个好主意。这是一个文本文件，它像我们在*公式化*中看到的那样打印出变量、约束和对象，只是没有求和符号，并使用我们指定的名称。"
   ]
  },
  {
   "cell_type": "code",
   "execution_count": null,
   "id": "f2f93cde-16ae-4e1d-a9ab-835761587e7f",
   "metadata": {},
   "outputs": [],
   "source": [
    "m.write('widget_shipment.lp')"
   ]
  },
  {
   "cell_type": "markdown",
   "id": "12763405-b27f-4a6d-897f-db30df211caa",
   "metadata": {},
   "source": [
    "### 运行优化"
   ]
  },
  {
   "cell_type": "code",
   "execution_count": null,
   "id": "119fc40e-d1fc-4d13-b227-90255fd806ea",
   "metadata": {},
   "outputs": [],
   "source": [
    "m.optimize()"
   ]
  },
  {
   "cell_type": "markdown",
   "id": "2ee05c74-fe8d-445f-9ffe-4a25d123a17b",
   "metadata": {},
   "source": [
    "### 提取解决方案\n",
    "从gurobipy中获取决策变量值的方法有很多。"
   ]
  },
  {
   "cell_type": "code",
   "execution_count": null,
   "id": "69d92eda-0937-4aff-8e60-ff012d766fa0",
   "metadata": {},
   "outputs": [],
   "source": [
    "x_values = pd.Series(m.getAttr('X', x), name = \"shipment\", index = transp_cost.index)\n",
    "sol = pd.concat([transp_cost, x_values], axis=1)\n",
    "#sol \n",
    "sol[sol.shipment > 0]"
   ]
  },
  {
   "cell_type": "markdown",
   "id": "47ec3d90-5155-4224-a522-4277bdc3b870",
   "metadata": {},
   "source": [
    "这里还有几种其他获取解决方案的方法。"
   ]
  },
  {
   "cell_type": "code",
   "execution_count": null,
   "id": "65811b4c-d4a2-4565-8416-df6478635211",
   "metadata": {},
   "outputs": [],
   "source": [
    "# 你可以获取所有决策变量的名称和值：\n",
    "all_vars = {v.varName: v.x for v in m.getVars()} \n",
    "all_vars"
   ]
  },
  {
   "cell_type": "markdown",
   "id": "ede5f4f3-9035-4f88-85e6-b9e95ade4435",
   "metadata": {},
   "source": [
    "或者，您可以只迭代特定变量，并仅返回您感兴趣的值。记住，x在python中是一个字典。所以，就像迭代任何字典一样迭代它"
   ]
  },
  {
   "cell_type": "code",
   "execution_count": null,
   "id": "34e5f6ef-d9ec-4f53-98b8-c9d4d5afd4b7",
   "metadata": {},
   "outputs": [],
   "source": [
    "xvals = {k: v.x for k,v in x.items() if v.x > 0} \n",
    "xvals "
   ]
  },
  {
   "cell_type": "markdown",
   "id": "bde35449-0b63-4bb4-9926-d20013b1b95b",
   "metadata": {},
   "source": [
    "### 解决方案分析\n",
    "虽然确定部件的最佳运输是我们的目标，但我们可能想要更深入地研究解决方案。例如，我们可以按设施汇总总生产量，看看哪些地点（如果有的话）没有生产其最大产能的部件，以及哪些（如果有的话）生产设施处于其生产下限。"
   ]
  },
  {
   "cell_type": "code",
   "execution_count": null,
   "id": "53a42bc7-1e45-4245-84b9-f648d7e74fa5",
   "metadata": {},
   "outputs": [],
   "source": [
    "# 按生产设施汇总运输量\n",
    "ship_out = sol.groupby('production')['shipment'].sum()\n",
    "pd.DataFrame({'Remaining':max_prod - ship_out, 'Utilization':ship_out/max_prod})"
   ]
  },
  {
   "cell_type": "markdown",
   "id": "105d6054-67e4-4237-b00a-705b9d34a153",
   "metadata": {},
   "source": [
    "在数学优化中，当不等式约束的左侧和右侧相等时，我们说约束是`绑定的`。当这种情况*没有发生*时，该约束中就存在`松弛`或`剩余`。我们可以通过调用约束的 `Slack` 属性来获取此值。"
   ]
  },
  {
   "cell_type": "code",
   "execution_count": null,
   "id": "30213e7c-bc28-4d31-be7c-b57925ee68b1",
   "metadata": {},
   "outputs": [],
   "source": [
    "pd.DataFrame({'Remaining':[can_produce[p].Slack for p in production], \n",
    "              'Utilization':[1-can_produce[p].Slack/max_prod[p] for p in production]}, \n",
    "             index = production)"
   ]
  },
  {
   "cell_type": "markdown",
   "id": "8f2d53b5-54bc-48c7-97e6-26c1c0f329b0",
   "metadata": {},
   "source": [
    "# 使用二元变量\n",
    "正如我们在第一节和本笔记本顶部所描述的，二元变量用于在数学优化中选择替代方案。它们可以解释为是/否决策或开/关开关。\n",
    "\n",
    "在原始问题中，Birmingham的产量比其他设施低得多。假设我们有选项将该设施的最大产能增加25或50个部件，但选择其中一个选项需要支付50美元和75美元的成本，并且我们最多只能选择一个。我们将为每个选项使用一个名为$xprod$的二元决策变量。\n",
    "\n",
    "令 $xprod_0 = 1$ 如果我们选择第一个选项并将生产能力增加25，否则为 $0$。\n",
    "令 $xprod_1 = 1$ 如果我们选择第二个选项并将生产能力增加50，否则为 $0$。\n",
    "\n",
    "虽然使用单个小写字母作为决策变量相当常见，但这不是必须的，您将经常看到如上定义的变量（更具描述性）。我们将制定一个新模型，其中包含与之前相同的决策变量和需求约束。"
   ]
  },
  {
   "cell_type": "code",
   "execution_count": null,
   "id": "dd9a333d-ae1d-4b29-a69c-760a7414ef59",
   "metadata": {},
   "outputs": [],
   "source": [
    "# 我们使用m2作为第二个模型\n",
    "# 除了新模型名称外，这些部分与上面相同\n",
    "m2 = gp.Model('widgets2')\n",
    "x = m2.addVars(production, distribution, obj = transp_cost, name = 'prod_ship')\n",
    "meet_demand = m2.addConstrs((gp.quicksum(x[p,d] for p in production) >= n_demand[d] for d in distribution), name = 'meet_demand')"
   ]
  },
  {
   "cell_type": "markdown",
   "id": "5bc726e6-7982-46bd-9568-925351b22306",
   "metadata": {},
   "source": [
    "在上面的单元格中，我们确实使用了 `addVars()` 函数的一个新参数：`obj`。这将设置添加的决策变量在目标函数中的系数，相当于我们之前通过将每个生产和分销地点之间的运输成本附加到适当的决策变量所做的操作。\n",
    "\n",
    "接下来，我们将为除Birmingham以外的每个生产设施添加与之前相同的生产限制约束。公式基本相同，只是约束适用的集合不同。\n",
    "$$\n",
    "\\begin{align*} \n",
    "\\sum_{d}x_{p,d} &\\le m_p, &\\forall p \\in P -\\{\\texttt{Birmingham}\\} \\\\ \n",
    "\\sum_{d}x_{p,d} &\\ge a*m_p,&\\forall p \\in P -\\{\\texttt{Birmingham}\\} \\\\ \n",
    "\\end{align*}\n",
    "$$\n",
    "\n",
    "在gurobipy中，这是通过在 `generator` 表达式中添加条件来完成的。"
   ]
  },
  {
   "cell_type": "code",
   "execution_count": null,
   "id": "38e30563-b8c8-454b-9b61-e6ef6fa5fe83",
   "metadata": {},
   "outputs": [],
   "source": []
  },
  {
   "cell_type": "markdown",
   "id": "ed539f12-4ce2-4de6-820f-076e45ac0a73",
   "metadata": {},
   "source": [
    "现在，添加新的二元变量。"
   ]
  },
  {
   "cell_type": "code",
   "execution_count": null,
   "id": "5eda68b8-6f7c-4245-8553-42f41fff5a7a",
   "metadata": {},
   "outputs": [],
   "source": []
  },
  {
   "cell_type": "markdown",
   "id": "bf53d755-2ff2-46e3-a38a-2c8fb1434c64",
   "metadata": {},
   "source": [
    "让我们分解上面单元格中的每个参数 —— 那里有一些新东西。\n",
    "1. `range(n)` 用于添加 $n$ 个决策变量。在这种情况下，我们添加2个变量。\n",
    "2. 我们需要使用 `vtype` 将其声明为二元变量。\n",
    "3. 我们再次使用 `obj` 功能立即设置这些变量的目标函数系数。\n",
    "\n",
    "目标和新的二元变量在公式中如下所示：\n",
    "\n",
    "\\begin{align*} \n",
    "{\\rm minimize} \\space &\\sum_{p,d}c_{p,d}x_{p,d} + 50*xprod_0 + 75*xprod_1, \\quad &\\forall p \\in P, d \\in D\\\\ \n",
    "&xprod_i \\in \\{0,1\\}, &{\\rm for} \\space i \\in \\{0,1\\}\n",
    "\\end{align*}\n",
    "\n",
    "接下来我们有特定于Birmingham设施的生产约束。\n",
    "\n",
    "$$\n",
    "\\begin{align*} \n",
    "\\sum_{d}x_{p,d} &\\le m_p + 25*xprod_0 + 50*xprod_1, & p = \\texttt{Birmingham} \\\\ \n",
    "\\sum_{d}x_{p,d} &\\ge a*(m_p+ 25*xprod_0 + 50*xprod_1),& p = \\texttt{Birmingham} \\\\ \n",
    "\\end{align*}\n",
    "$$"
   ]
  },
  {
   "cell_type": "code",
   "execution_count": null,
   "id": "487ee3df-6cf0-421a-95dc-54440248d81f",
   "metadata": {},
   "outputs": [],
   "source": []
  },
  {
   "cell_type": "markdown",
   "id": "4ed63a6b-ef71-4eb6-b237-637096518f0a",
   "metadata": {},
   "source": [
    "上面提到，我们最多可以选择一个扩展选项，这意味着我们不能允许 $xprod_0$ 和 $xprod_1$ 同时等于1。为了对此进行建模，我们添加一个约束，将这两个二元变量的总和限制为最多1。\n",
    "\n",
    "$$\n",
    "\\begin{align*}\n",
    "\\sum_{i}xprod_i \\le 1\n",
    "\\end{align*}\n",
    "$$\n",
    "gurobipy中相应的约束："
   ]
  },
  {
   "cell_type": "code",
   "execution_count": null,
   "id": "a48175c5-6b22-402f-a207-9f590b7dc5cd",
   "metadata": {},
   "outputs": [],
   "source": []
  },
  {
   "cell_type": "markdown",
   "id": "14e96d35-1d54-4c65-be2c-0b4c6d26d964",
   "metadata": {},
   "source": [
    "现在我们可以运行这个优化模型，看看这个潜在的扩展是否会帮助我们降低总体成本。"
   ]
  },
  {
   "cell_type": "code",
   "execution_count": null,
   "id": "fb182d4c-c533-4cc1-a559-05c07ef18975",
   "metadata": {},
   "outputs": [],
   "source": [
    "m2.optimize()"
   ]
  },
  {
   "cell_type": "code",
   "execution_count": null,
   "id": "34d94ec0-6ab4-4b68-8181-0c432595642e",
   "metadata": {},
   "outputs": [],
   "source": [
    "obj1 = m.getObjective()\n",
    "obj2 = m2.getObjective()\n",
    "print(f\"原始模型的总成本为 {round(obj1.getValue(),2)}\")\n",
    "print(f\"新公式的总成本为 {round(obj2.getValue(),2)}\")"
   ]
  },
  {
   "cell_type": "markdown",
   "id": "6813d599-d8c1-49c3-8f09-f495c3b1af16",
   "metadata": {},
   "source": [
    "目标函数值的变化告诉我们什么？\n",
    "\n",
    "让我们看看二元变量的值。"
   ]
  },
  {
   "cell_type": "code",
   "execution_count": null,
   "id": "3177169c-67b9-4db3-804d-8b17b32fe70d",
   "metadata": {},
   "outputs": [],
   "source": [
    "pd.Series(m2.getAttr('X', xprod))"
   ]
  },
  {
   "cell_type": "markdown",
   "id": "3410274c-55fd-4724-9f76-92cfc8178647",
   "metadata": {},
   "source": [
    "模型选择了第一个扩展选项，因为 $xprod_0 = 1$，即将Birmingham的产能增加25个部件。我们可以看到其余的解决方案，其中将包括Birmingham的产能增加。"
   ]
  },
  {
   "cell_type": "code",
   "execution_count": null,
   "id": "05f918a8-ed81-4210-a341-c2d401f1276c",
   "metadata": {},
   "outputs": [],
   "source": [
    "x2_values = pd.Series(m2.getAttr('X', x), name = \"shipment\", index = transp_cost.index)\n",
    "sol2 = pd.concat([transp_cost, x2_values], axis=1)\n",
    "sol2[sol2.shipment > 0]"
   ]
  },
  {
   "cell_type": "markdown",
   "id": "90a9b8d1-fe39-410a-a551-4ddb165ffd5a",
   "metadata": {},
   "source": [
    "### 作业！（并不是真的，但值得研究的东西）\n",
    "分析两个模型之间最优解的变化。你会注意到一些奇怪的事情。\n",
    "- 有什么奇怪的地方？\n",
    "- 你认为为什么会发生这种情况？\n",
    "- 从公式化角度和商业角度，你会如何解决它？"
   ]
  }
 ],
 "metadata": {
  "kernelspec": {
   "display_name": "Python 3",
   "language": "python",
   "name": "python3"
  },
  "language_info": {
   "codemirror_mode": {
    "name": "ipython",
    "version": 3
   },
   "file_extension": ".py",
   "mimetype": "text/x-python",
   "name": "python",
   "nbconvert_exporter": "python",
   "pygments_lexer": "ipython3",
   "version": "3.12.2"
  },
  "toc-autonumbering": false,
  "toc-showcode": false,
  "toc-showmarkdowntxt": false
 },
 "nbformat": 4,
 "nbformat_minor": 5
}
