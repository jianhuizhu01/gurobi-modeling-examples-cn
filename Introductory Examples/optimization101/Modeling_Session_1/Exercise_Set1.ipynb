{
 "cells": [
  {
   "cell_type": "markdown",
   "id": "aad61277-d251-4b6d-b24a-0f2a36b4a835",
   "metadata": {},
   "source": [
    "## 练习集1\n",
    "\n",
    "### 选择题 \n",
    "**问题1.** 以下哪项不是优化模型的关键组成部分？\n",
    "- 决策变量\n",
    "- 参数\n",
    "- 目标函数\n",
    "- 超参数"
   ]
  },
  {
   "cell_type": "markdown",
   "id": "23a353af-3b6c-4bf6-8aad-6c6517192496",
   "metadata": {},
   "source": [
    "**问题2.** 数学优化可以严格替代几乎所有机器学习问题\n",
    "- 正确\n",
    "- 错误"
   ]
  },
  {
   "cell_type": "markdown",
   "id": "1fc1f1ff-1a52-44a0-8238-218e768cd030",
   "metadata": {},
   "source": [
    "**问题3.** 机器学习可以严格替代几乎所有数学优化问题\n",
    "- 正确\n",
    "- 错误"
   ]
  },
  {
   "cell_type": "markdown",
   "id": "ef95ad3e-ea49-4d3c-9a97-138731da48a8",
   "metadata": {},
   "source": [
    "**问题4.** 以下哪项是数学优化中的决策变量类型？\n",
    "- 二元变量\n",
    "- 复数变量\n",
    "- 特征变量\n",
    "- 互补变量"
   ]
  },
  {
   "cell_type": "markdown",
   "id": "bd09ddc9-372b-4162-ae4d-c33faffc7324",
   "metadata": {},
   "source": [
    "**问题5.** 为解决混合整数规划问题，求解器可能需要解决以下哪种数量的线性规划：\n",
    "- 无需解决\n",
    "- 决策变量的数量\n",
    "- 总约束条件的数量\n",
    "- 可能需要指数级数量"
   ]
  },
  {
   "cell_type": "markdown",
   "id": "fb2bcfd8-7eee-4a17-aebf-8c42aab69d2e",
   "metadata": {},
   "source": [
    "**问题6.** 在尝试进行`处方性`分析（如数学优化）之前，您或您的数据分析团队需要先在`预测性`分析领域发展专业知识。\n",
    "- 正确\n",
    "- 错误"
   ]
  },
  {
   "cell_type": "markdown",
   "id": "b8d30a5d-29e7-4fd3-97ca-5f32ca2bb257",
   "metadata": {},
   "source": [
    "**问题7.** 假设两个模型除了线性规划(LP)只有连续变量而混合整数规划(MIP)包含整数变量外完全相同，线性规划的`可行域`将比其对应的混合整数规划有____个点。\n",
    "- 更多\n",
    "- 更少\n",
    "- 始终完全相同"
   ]
  },
  {
   "cell_type": "markdown",
   "id": "5e67fb56-2e80-4efe-a604-68dda572c41d",
   "metadata": {},
   "source": [
    "**问题8.** 除非特别指定，使用`addVars()`时的默认变量类型是**连续的**。\n",
    "- 正确\n",
    "- 错误"
   ]
  },
  {
   "cell_type": "markdown",
   "id": "f97876b8-eb9b-4191-8820-a3d635dda8ea",
   "metadata": {},
   "source": [
    "设 $J = \\{\\texttt{Apple, Banana, Coconut, Dragonfruit, Elderberry, Fig, Gooseberry}\\}$ 和 $T = \\{1, 2, 3, 4\\}$ \n",
    "\n",
    "**问题9-a.** 使用`addVars(J,...)`和`addVars(range(8),...)`添加决策变量将向模型添加*相同*数量的变量\n",
    "- 正确\n",
    "- 错误\n",
    "\n",
    "**问题9-b.** 使用上述集合，通过`addVars(J, T,...)`和`addVars(range(28),...)`添加决策变量将向模型添加*相同*数量的变量\n",
    "- 正确\n",
    "- 错误"
   ]
  },
  {
   "cell_type": "markdown",
   "id": "39eeaee0-628e-46f3-9fd9-f74ce324eefe",
   "metadata": {},
   "source": [
    "### 公式建模与编程 \n",
    "以下是在一个单元格中展示的原始模型的完整代码，如果您希望用它来帮助完成这些练习。"
   ]
  },
  {
   "cell_type": "code",
   "execution_count": null,
   "id": "b963b996-8e54-448f-be9d-36822d984b22",
   "metadata": {},
   "outputs": [],
   "source": [
    "%pip install gurobipy\n",
    "\n",
    "import pandas as pd\n",
    "import gurobipy as gp\n",
    "from gurobipy import GRB\n",
    "\n",
    "production = ['Baltimore','Cleveland','Little Rock','Birmingham','Charleston']\n",
    "distribution = ['Columbia','Indianapolis','Lexington','Nashville','Richmond','St. Louis']\n",
    "\n",
    "path = 'https://raw.githubusercontent.com/Gurobi/modeling-examples/master/optimization101/Modeling_Session_1/'\n",
    "transp_cost = pd.read_csv(path + 'cost.csv', index_col=[0,1]).squeeze(\"columns\")\n",
    "max_prod = pd.Series([180,200,140,80,180], index = production, name = \"max_production\")\n",
    "n_demand = pd.Series([89,95,121,101,116,181], index = distribution, name = \"demand\") \n",
    "frac = 0.75\n",
    "\n",
    "m = gp.Model('widgets')\n",
    "x = m.addVars(production, distribution, name = 'prod_ship')\n",
    "meet_demand = m.addConstrs((gp.quicksum(x[p,d] for p in production) >= n_demand[d] for d in distribution), name = 'meet_demand')\n",
    "can_produce = m.addConstrs((gp.quicksum(x[p,d] for d in distribution) <= max_prod[p] for p in production), name = 'can_produce')\n",
    "must_produce = m.addConstrs((gp.quicksum(x[p,d] for d in distribution) >= frac*max_prod[p] for p in production), name = 'must_produce')\n",
    "m.setObjective(gp.quicksum(transp_cost[i,j]*x[i,j] for i in production for j in distribution), GRB.MINIMIZE) \n",
    "m.optimize()"
   ]
  },
  {
   "cell_type": "markdown",
   "id": "218720a0-d7aa-4f28-ac07-e1318d62305a",
   "metadata": {},
   "source": [
    "您被告知有一项新的**小部件**运输政策。现在要求从任何生产设施运往任何配送中心的小部件最小数量需要至少为20个。\n",
    "\n",
    "**问题10-a.** 使用数学符号写出针对新要求的公式变化。"
   ]
  },
  {
   "cell_type": "markdown",
   "id": "ea8db170-40f4-43b0-91cc-ac01cd5331c2",
   "metadata": {},
   "source": []
  },
  {
   "cell_type": "markdown",
   "id": "3b00d486-0ca4-4382-96f7-a817cf5d0ac9",
   "metadata": {},
   "source": [
    "**问题10-b.** 在下面的单元格中用gurobipy代码编写**问题10-a**的变更（无需运行，除非您想复制模型来检查）。"
   ]
  },
  {
   "cell_type": "code",
   "execution_count": null,
   "id": "6facc8b7-e0d0-49eb-885d-a923a0afba4a",
   "metadata": {},
   "outputs": [],
   "source": []
  },
  {
   "cell_type": "markdown",
   "id": "c60c5e1b-d9b5-4389-9d00-cb525da52c61",
   "metadata": {},
   "source": [
    "初始小部件模型$m$表示单一时间段（例如一周、一个月、一个季度）。假设我们使用集合$T = \\{0, 1, 2, 3\\}$添加了时间组件，代表一年的四个季度。\n",
    "\n",
    "**问题11-a.** 使用`addVar()`或`addVars()`在gurobipy中创建一个决策变量，表示在给定时间段内从生产设施运往配送中心的小部件数量。"
   ]
  },
  {
   "cell_type": "code",
   "execution_count": null,
   "id": "673d6901-853b-4947-b29f-7dcca25fa10a",
   "metadata": {},
   "outputs": [],
   "source": []
  },
  {
   "cell_type": "markdown",
   "id": "7d3cd726-e115-42ff-a1f8-b6d11bfec3b9",
   "metadata": {},
   "source": [
    "**问题11-b.** 要引用给定时间$t$之前的时间段，我们可以使用$t-1$作为下标（因为$T$是整数集合），但当$t = 0$时，$t-1$不起作用，因为$-1$不在$T$中。在下面的代码中填写???，以表示限制生产设施在*两个连续*时间段内可以生产的数量为`max_prod[p]`的约束集。"
   ]
  },
  {
   "cell_type": "code",
   "execution_count": null,
   "id": "e48ef0e5-7ff7-456f-b587-d7140c5b3ee8",
   "metadata": {},
   "outputs": [],
   "source": [
    "time_prod_limit = m.addConstrs((gp.quicksum(x[p,d,???] + x[p,d,???] for d in distribution) <= max_prod[p] for p in production for t in ??? if t ???), name = 'time_prod_limit')"
   ]
  }
 ],
 "metadata": {
  "kernelspec": {
   "display_name": "Python 3 (ipykernel)",
   "language": "python",
   "name": "python3"
  },
  "language_info": {
   "codemirror_mode": {
    "name": "ipython",
    "version": 3
   },
   "file_extension": ".py",
   "mimetype": "text/x-python",
   "name": "python",
   "nbconvert_exporter": "python",
   "pygments_lexer": "ipython3",
   "version": "3.9.7"
  }
 },
 "nbformat": 4,
 "nbformat_minor": 5
}
