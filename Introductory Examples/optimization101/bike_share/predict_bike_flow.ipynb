{
 "cells": [
  {
   "cell_type": "markdown",
   "id": "406c2750",
   "metadata": {},
   "source": [
    "# 使用数学优化进行共享单车系统再平衡"
   ]
  },
  {
   "cell_type": "markdown",
   "id": "7a7e7404",
   "metadata": {},
   "source": [
    "共享单车系统已经成为全球城市居民和游客日常通勤的有效方式。\n",
    "\n",
    "作为最大的共享单车网络，纽约的 Citi-Bike 在2022年7月拥有1,588个活跃站点和25,575辆活跃单车。\n",
    "\n",
    "2022年7月完成了超过300万次骑行，覆盖纽约市/霍博肯/泽西市，拥有约15万名活跃年度会员。\n",
    "\n",
    "在高峰时段，许多自行车站点对单车有很高的需求，这意味着这些站点的单车流出量大于流入量。\n",
    "\n",
    "同时，一些站点对停车位有很高的需求（骑行者将单车归还到这些站点），这意味着这些站点的单车流入量大于流出量。\n",
    "\n",
    "高需求站点缺乏可用的单车或停车位会导致共享单车网络的严重不平衡，并造成客户不满和收入损失。\n",
    "\n",
    "为了解决这个问题，需要在站点之间重新调配单车以平衡供需关系。"
   ]
  },
  {
   "cell_type": "markdown",
   "id": "3fdb0fdf",
   "metadata": {},
   "source": [
    "## 问题陈述和解决方案"
   ]
  },
  {
   "cell_type": "markdown",
   "id": "d2142854",
   "metadata": {},
   "source": [
    "使用2022年7月纽约和新泽西地区的Citi-bike历史数据，我们想要了解：\n",
    "- 在8月第一周期间，每个站点每小时的单车需求是多少？\n",
    "- 在知道需求的情况下，如何最小化销售损失？\n",
    "\n",
    "销售损失是由于客户需要单车时却没有可用单车造成的。因此，应该将单车从流入量较高的站点转移到流出量较高的站点。\n",
    "\n",
    "所以，首先需要确定每个站点在每个小时内应该增加或减少多少辆单车。然后，安排站点之间的实际单车转移。\n",
    "\n",
    "在本笔记本中，我们将重点关注第一部分，并在最后讨论如何解决第二部分。\n",
    "我们将结合机器学习(ML)和数学优化(MO)来解决这个问题。\n",
    "\n",
    "**解决方案思路**\n",
    "解决方案包含两个步骤：\n",
    "- **第一步**：我们使用2022年7月纽约和新泽西地区的Citi-bike历史数据，使用ML模型预测8月第一周每个站点每小时的单车流入和流出量。本笔记本完成这一步骤。\n",
    "- **第二步**：我们使用MO模型来决定每个站点在每个小时内应增加或减少多少单车，以最小化总销售损失。这在[bike_rebalancing](bike_rebalancing.ipynb)笔记本中完成。\n",
    "\n",
    "为确保每个人都能使用gurobi受限许可运行笔记本，我们减少了数据规模。为此，我们将重点关注早高峰时段（上午7点到9点）的前50个站点。\n",
    "\n",
    "使用PageRank算法选择热门站点。"
   ]
  },
  {
   "cell_type": "markdown",
   "id": "a8bd6f69",
   "metadata": {},
   "source": [
    "# 导入包"
   ]
  },
  {
   "cell_type": "code",
   "execution_count": 1,
   "id": "4036b5a7",
   "metadata": {
    "ExecuteTime": {
     "end_time": "2022-11-12T12:18:19.901609Z",
     "start_time": "2022-11-12T12:18:16.625440Z"
    }
   },
   "outputs": [],
   "source": [
    "import datetime\n",
    "import io\n",
    "import json\n",
    "import matplotlib.pyplot as plt\n",
    "import networkx as nx\n",
    "import pandas as pd\n",
    "import requests\n",
    "from sklearn.linear_model import LinearRegression\n",
    "from sklearn.metrics import r2_score\n",
    "from sklearn.svm import LinearSVR\n",
    "from xgboost import XGBRegressor\n",
    "from zipfile import ZipFile"
   ]
  },
  {
   "cell_type": "markdown",
   "id": "6cb80ad5",
   "metadata": {},
   "source": [
    "# 收集、分析和创建所需数据"
   ]
  },
  {
   "cell_type": "markdown",
   "id": "9c2cf6bd",
   "metadata": {},
   "source": [
    "## Citi Bike 骑行历史数据\n",
    "\n",
    "获取Citi Bike骑行数据:\n",
    "- 访问[此链接](https://ride.citibikenyc.com/system-data)\n",
    "- 点击 Citi Bike Trip Histories 下的链接\n",
    "- 下载 \"[202207-citbike-tripdata.csv.zip](https://s3.amazonaws.com/tripdata/202207-citbike-tripdata.csv.zip)\" 和 \"[JC-202207-citbike-tripdata.csv.zip](https://s3.amazonaws.com/tripdata/JC-202207-citbike-tripdata.csv.zip)\"\n",
    "\n",
    "\n",
    "[7月份Citi-Bike月度报告](https://mot-marketing-whitelabel-prod.s3.amazonaws.com/nyc/July-2022-Citi-Bike-Monthly-Report.pdf) 统计:\n",
    "\n",
    "- 平均车队规模: 25,575辆单车\n",
    "- 活跃站点: 1,588个\n",
    "- 日均骑行次数: 109,305次 - 每辆单车每天使用4.13次\n"
   ]
  },
  {
   "cell_type": "code",
   "execution_count": 2,
   "id": "2e7f1760",
   "metadata": {
    "ExecuteTime": {
     "end_time": "2022-11-12T12:18:21.253047Z",
     "start_time": "2022-11-12T12:18:21.242057Z"
    }
   },
   "outputs": [],
   "source": [
    "def download_zip_to_dataframe(url):\n",
    "    response = requests.get(url)\n",
    "    with ZipFile(io.BytesIO(response.content)) as zf:\n",
    "        with zf.open(zf.namelist()[0]) as f:\n",
    "            df = pd.read_csv(f, low_memory=False)\n",
    "    return df"
   ]
  },
  {
   "cell_type": "code",
   "execution_count": 3,
   "id": "cadc5750",
   "metadata": {
    "ExecuteTime": {
     "end_time": "2022-11-12T12:18:56.741692Z",
     "start_time": "2022-11-12T12:18:22.306863Z"
    }
   },
   "outputs": [
    {
     "data": {
      "text/plain": [
       "ride_id                  0\n",
       "rideable_type            0\n",
       "started_at               0\n",
       "ended_at                 0\n",
       "start_station_name       0\n",
       "start_station_id         0\n",
       "end_station_name      3561\n",
       "end_station_id        3561\n",
       "start_lat                0\n",
       "start_lng                0\n",
       "end_lat               1851\n",
       "end_lng               1851\n",
       "member_casual            0\n",
       "dtype: int64"
      ]
     },
     "execution_count": 3,
     "metadata": {},
     "output_type": "execute_result"
    }
   ],
   "source": [
    "# 直接从url读取数据\n",
    "# 纽约数据\n",
    "nyc_citi_jul_2022 = download_zip_to_dataframe('https://raw.githubusercontent.com/Gurobi/modeling-examples/master/optimization101/bike_share/202207-citbike-tripdata.csv.zip')\n",
    "# 新泽西数据\n",
    "jersey_citi_jul_2022 = download_zip_to_dataframe('https://raw.githubusercontent.com/Gurobi/modeling-examples/master/optimization101/bike_share/JC-202207-citbike-tripdata.csv.zip')\n",
    "citi_jul_network = pd.concat([nyc_citi_jul_2022, jersey_citi_jul_2022])\n",
    "pd.isnull(citi_jul_network).sum()  # 统计每列的空值数量"
   ]
  },
  {
   "cell_type": "code",
   "execution_count": 5,
   "id": "ec0bebcf",
   "metadata": {
    "ExecuteTime": {
     "end_time": "2022-11-12T12:19:04.738859Z",
     "start_time": "2022-11-12T12:18:56.789998Z"
    }
   },
   "outputs": [],
   "source": [
    "# 存在少量终点站缺失数据，将其删除\n",
    "citi_jul_network.dropna(inplace=True)\n",
    "# 发现站点名称不一致的情况 'Broadway\\t& W 48 St' 和 'Broadway\\\\t& W 48 St'\n",
    "# 替换为 'Broadway & W 48 St' 使其保持一致\n",
    "citi_jul_network['start_station_name'] = citi_jul_network['start_station_name'].replace(\n",
    "    ['Broadway\\t& W 48 St'], 'Broadway & W 48 St')\n",
    "citi_jul_network['start_station_name'] = citi_jul_network['start_station_name'].replace(\n",
    "    ['Broadway\\\\t& W 48 St'], 'Broadway & W 48 St')\n",
    "citi_jul_network['end_station_name'] = citi_jul_network['end_station_name'].replace(\n",
    "    ['Broadway\\t& W 48 St'], 'Broadway & W 48 St')\n",
    "citi_jul_network['end_station_name'] = citi_jul_network['end_station_name'].replace(\n",
    "    ['Broadway\\\\t& W 48 St'], 'Broadway & W 48 St')"
   ]
  },
  {
   "cell_type": "markdown",
   "id": "3670270d",
   "metadata": {},
   "source": [
    "## 站点信息\n",
    "Citi Bike发布的实时系统数据可以从[此链接](http://gbfs.citibikenyc.com/gbfs/gbfs.json)获取。"
   ]
  },
  {
   "cell_type": "code",
   "execution_count": 6,
   "id": "d1f8e80e",
   "metadata": {
    "ExecuteTime": {
     "end_time": "2022-11-12T12:19:04.786173Z",
     "start_time": "2022-11-12T12:19:04.771167Z"
    }
   },
   "outputs": [],
   "source": [
    "def get_stations_info():\n",
    "    response_api = requests.get('https://gbfs.citibikenyc.com/gbfs/es/station_information.json')\n",
    "    parse_json = json.loads(response_api.text)\n",
    "    stations = parse_json['data']['stations']\n",
    "    stations_dict = {}\n",
    "    for station in stations:\n",
    "        if 'region_id' in station:\n",
    "            stations_dict[station['name']] = {'capacity': station['capacity'],\n",
    "                                              'lat': station['lat'],\n",
    "                                              'lon': station['lon'],\n",
    "                                              'region': station['region_id']}\n",
    "    if 'Broadway\\t& W 48 St' in stations_dict:\n",
    "        stations_dict['Broadway & W 48 St'] = stations_dict.pop('Broadway\\t& W 48 St')  # 替换以匹配其他名称\n",
    "    stations_info = pd.DataFrame(stations_dict).T\n",
    "    # 删除容量为0的站点\n",
    "    stations_info = stations_info.loc[stations_info.capacity > 0]\n",
    "    return stations_info"
   ]
  },
  {
   "cell_type": "code",
   "execution_count": 7,
   "id": "12cff6ed",
   "metadata": {
    "ExecuteTime": {
     "end_time": "2022-11-12T12:19:05.414661Z",
     "start_time": "2022-11-12T12:19:04.821035Z"
    }
   },
   "outputs": [
    {
     "data": {
      "application/vnd.microsoft.datawrangler.viewer.v0+json": {
       "columns": [
        {
         "name": "index",
         "rawType": "object",
         "type": "string"
        },
        {
         "name": "capacity",
         "rawType": "object",
         "type": "unknown"
        },
        {
         "name": "lat",
         "rawType": "object",
         "type": "unknown"
        },
        {
         "name": "lon",
         "rawType": "object",
         "type": "unknown"
        },
        {
         "name": "region",
         "rawType": "object",
         "type": "string"
        }
       ],
       "conversionMethod": "pd.DataFrame",
       "ref": "fd3f213a-bd93-4d9e-8a3a-5cf3f073b063",
       "rows": [
        [
         "23 Ave & 31 St",
         "27",
         "40.77423301703027",
         "-73.91274864321404",
         "71"
        ],
        [
         "Vesey St & Church St",
         "78",
         "40.71221958009051",
         "-74.01047229766846",
         "71"
        ],
        [
         "Myrtle Ave & 65 St",
         "19",
         "40.70117",
         "-73.8904",
         "71"
        ],
        [
         "E 138 St & 5 Ave",
         "22",
         "40.81449",
         "-73.936153",
         "71"
        ],
        [
         "44 St & Greenpoint Ave",
         "27",
         "40.741119944681465",
         "-73.92103672027588",
         "71"
        ]
       ],
       "shape": {
        "columns": 4,
        "rows": 5
       }
      },
      "text/html": [
       "<div>\n",
       "<style scoped>\n",
       "    .dataframe tbody tr th:only-of-type {\n",
       "        vertical-align: middle;\n",
       "    }\n",
       "\n",
       "    .dataframe tbody tr th {\n",
       "        vertical-align: top;\n",
       "    }\n",
       "\n",
       "    .dataframe thead th {\n",
       "        text-align: right;\n",
       "    }\n",
       "</style>\n",
       "<table border=\"1\" class=\"dataframe\">\n",
       "  <thead>\n",
       "    <tr style=\"text-align: right;\">\n",
       "      <th></th>\n",
       "      <th>capacity</th>\n",
       "      <th>lat</th>\n",
       "      <th>lon</th>\n",
       "      <th>region</th>\n",
       "    </tr>\n",
       "  </thead>\n",
       "  <tbody>\n",
       "    <tr>\n",
       "      <th>23 Ave &amp; 31 St</th>\n",
       "      <td>27</td>\n",
       "      <td>40.774233</td>\n",
       "      <td>-73.912749</td>\n",
       "      <td>71</td>\n",
       "    </tr>\n",
       "    <tr>\n",
       "      <th>Vesey St &amp; Church St</th>\n",
       "      <td>78</td>\n",
       "      <td>40.71222</td>\n",
       "      <td>-74.010472</td>\n",
       "      <td>71</td>\n",
       "    </tr>\n",
       "    <tr>\n",
       "      <th>Myrtle Ave &amp; 65 St</th>\n",
       "      <td>19</td>\n",
       "      <td>40.70117</td>\n",
       "      <td>-73.8904</td>\n",
       "      <td>71</td>\n",
       "    </tr>\n",
       "    <tr>\n",
       "      <th>E 138 St &amp; 5 Ave</th>\n",
       "      <td>22</td>\n",
       "      <td>40.81449</td>\n",
       "      <td>-73.936153</td>\n",
       "      <td>71</td>\n",
       "    </tr>\n",
       "    <tr>\n",
       "      <th>44 St &amp; Greenpoint Ave</th>\n",
       "      <td>27</td>\n",
       "      <td>40.74112</td>\n",
       "      <td>-73.921037</td>\n",
       "      <td>71</td>\n",
       "    </tr>\n",
       "  </tbody>\n",
       "</table>\n",
       "</div>"
      ],
      "text/plain": [
       "                       capacity        lat        lon region\n",
       "23 Ave & 31 St               27  40.774233 -73.912749     71\n",
       "Vesey St & Church St         78   40.71222 -74.010472     71\n",
       "Myrtle Ave & 65 St           19   40.70117   -73.8904     71\n",
       "E 138 St & 5 Ave             22   40.81449 -73.936153     71\n",
       "44 St & Greenpoint Ave       27   40.74112 -73.921037     71"
      ]
     },
     "execution_count": 7,
     "metadata": {},
     "output_type": "execute_result"
    }
   ],
   "source": [
    "stations_info = get_stations_info()\n",
    "stations_info.head()"
   ]
  },
  {
   "cell_type": "markdown",
   "id": "dc5cd448",
   "metadata": {},
   "source": [
    "## 获取热门站点\n",
    "使用PageRank算法获取热门站点"
   ]
  },
  {
   "cell_type": "code",
   "execution_count": 8,
   "id": "01fe3c7a",
   "metadata": {
    "ExecuteTime": {
     "end_time": "2022-11-12T12:19:09.087524Z",
     "start_time": "2022-11-12T12:19:05.446537Z"
    }
   },
   "outputs": [],
   "source": [
    "citi_df = citi_jul_network.groupby(['start_station_name', 'end_station_name'], \n",
    "                                   sort=False)['ride_id'].count().reset_index()\n",
    "g = nx.from_pandas_edgelist(citi_df, source='start_station_name', target='end_station_name',\n",
    "                            edge_attr='ride_id', create_using=nx.DiGraph)\n",
    "wpr_scores_fwd = pd.Series(nx.pagerank(g, weight='ride_id')).sort_values(ascending=False)"
   ]
  },
  {
   "cell_type": "code",
   "execution_count": 12,
   "id": "325aa38b",
   "metadata": {
    "ExecuteTime": {
     "end_time": "2022-11-12T12:19:09.555679Z",
     "start_time": "2022-11-12T12:19:09.135803Z"
    }
   },
   "outputs": [
    {
     "data": {
      "text/plain": [
       "Text(0, 0.5, 'PageRank Value')"
      ]
     },
     "execution_count": 12,
     "metadata": {},
     "output_type": "execute_result"
    },
    {
     "data": {
      "image/png": "[encoded data removed]",
      "text/plain": [
       "<Figure size 640x480 with 1 Axes>"
      ]
     },
     "metadata": {},
     "output_type": "display_data"
    }
   ],
   "source": [
    "plt.figure(figsize=(8, 6), dpi=80)\n",
    "plt.xticks(rotation=90)\n",
    "plt.bar(wpr_scores_fwd.index[:20], wpr_scores_fwd.values[:20])\n",
    "plt.title('Top 20 Important Stations')\n",
    "plt.xlabel('Stations')\n",
    "plt.ylabel('PageRank Value')"
   ]
  },
  {
   "cell_type": "markdown",
   "id": "a141a0a1",
   "metadata": {},
   "source": [
    "## 合并和过滤数据"
   ]
  },
  {
   "cell_type": "code",
   "execution_count": 13,
   "id": "8fa57158",
   "metadata": {
    "ExecuteTime": {
     "end_time": "2022-11-12T12:19:09.618487Z",
     "start_time": "2022-11-12T12:19:09.607019Z"
    }
   },
   "outputs": [
    {
     "data": {
      "text/plain": [
       "(44, 4)"
      ]
     },
     "execution_count": 13,
     "metadata": {},
     "output_type": "execute_result"
    }
   ],
   "source": [
    "# 根据网络重要性获取前N个站点\n",
    "n = 50  # 用户可以定义选择多少个站点\n",
    "top_stations = list(wpr_scores_fwd.head(n).index)\n",
    "# 仅过滤出前N个站点的信息\n",
    "top_stations_info = stations_info[stations_info.index.isin(top_stations)]\n",
    "top_stations_info.shape  # 部分站点不在stations_info中"
   ]
  },
  {
   "cell_type": "code",
   "execution_count": 15,
   "id": "e0709871",
   "metadata": {
    "ExecuteTime": {
     "end_time": "2022-11-12T12:19:09.681859Z",
     "start_time": "2022-11-12T12:19:09.667226Z"
    }
   },
   "outputs": [],
   "source": [
    "# 实时站点数据和citi_jul_network中的站点存在差异\n",
    "# 因此使用`top_station_info`中的站点值作为基准\n",
    "top_stations = top_stations_info.index"
   ]
  },
  {
   "cell_type": "code",
   "execution_count": 16,
   "id": "bab9a050",
   "metadata": {
    "ExecuteTime": {
     "end_time": "2022-11-12T12:19:25.711002Z",
     "start_time": "2022-11-12T12:19:24.018886Z"
    }
   },
   "outputs": [
    {
     "name": "stderr",
     "output_type": "stream",
     "text": [
      "C:\\Users\\Jianhui Zhu\\AppData\\Local\\Temp\\ipykernel_38556\\1833889823.py:3: SettingWithCopyWarning: \n",
      "A value is trying to be set on a copy of a slice from a DataFrame.\n",
      "Try using .loc[row_indexer,col_indexer] = value instead\n",
      "\n",
      "See the caveats in the documentation: https://pandas.pydata.org/pandas-docs/stable/user_guide/indexing.html#returning-a-view-versus-a-copy\n",
      "  citi_jul_network_top['started_at'] = pd.to_datetime(citi_jul_network_top['started_at']).dt.round('h')\n"
     ]
    },
    {
     "data": {
      "text/plain": [
       "start_station_name  started_at         \n",
       "11 Ave & W 41 St    2022-07-01 00:00:00    2\n",
       "                    2022-07-01 01:00:00    2\n",
       "                    2022-07-01 02:00:00    2\n",
       "                    2022-07-01 03:00:00    2\n",
       "                    2022-07-01 06:00:00    2\n",
       "Name: start, dtype: int64"
      ]
     },
     "execution_count": 16,
     "metadata": {},
     "output_type": "execute_result"
    }
   ],
   "source": [
    "# 开始\n",
    "citi_jul_network_top = citi_jul_network[citi_jul_network['start_station_name'].isin(top_stations)]\n",
    "citi_jul_network_top['started_at'] = pd.to_datetime(citi_jul_network_top['started_at']).dt.round('h')\n",
    "citi_jul_2022_start = citi_jul_network_top.groupby(['start_station_name', 'started_at']).size().rename('start')\n",
    "citi_jul_2022_start.head()"
   ]
  },
  {
   "cell_type": "code",
   "execution_count": 17,
   "id": "56b6cb5d",
   "metadata": {
    "ExecuteTime": {
     "end_time": "2022-11-12T12:19:26.532376Z",
     "start_time": "2022-11-12T12:19:25.774624Z"
    }
   },
   "outputs": [
    {
     "name": "stderr",
     "output_type": "stream",
     "text": [
      "C:\\Users\\Jianhui Zhu\\AppData\\Local\\Temp\\ipykernel_38556\\1604340781.py:3: SettingWithCopyWarning: \n",
      "A value is trying to be set on a copy of a slice from a DataFrame.\n",
      "Try using .loc[row_indexer,col_indexer] = value instead\n",
      "\n",
      "See the caveats in the documentation: https://pandas.pydata.org/pandas-docs/stable/user_guide/indexing.html#returning-a-view-versus-a-copy\n",
      "  citi_jul_network_top['ended_at'] = pd.to_datetime(citi_jul_network_top['ended_at']).dt.round('h')\n"
     ]
    },
    {
     "data": {
      "text/plain": [
       "end_station_name  ended_at           \n",
       "11 Ave & W 41 St  2022-07-01 00:00:00    6\n",
       "                  2022-07-01 01:00:00    6\n",
       "                  2022-07-01 02:00:00    1\n",
       "                  2022-07-01 04:00:00    4\n",
       "                  2022-07-01 05:00:00    1\n",
       "Name: end, dtype: int64"
      ]
     },
     "execution_count": 17,
     "metadata": {},
     "output_type": "execute_result"
    }
   ],
   "source": [
    "# 结束\n",
    "citi_jul_network_top = citi_jul_network[citi_jul_network['end_station_name'].isin(top_stations)]\n",
    "citi_jul_network_top['ended_at'] = pd.to_datetime(citi_jul_network_top['ended_at']).dt.round('h')\n",
    "citi_jul_2022_end = citi_jul_network_top.groupby(['end_station_name', 'ended_at']).size().rename('end')\n",
    "citi_jul_2022_end.head()"
   ]
  },
  {
   "cell_type": "code",
   "execution_count": 18,
   "id": "e382506e",
   "metadata": {
    "ExecuteTime": {
     "end_time": "2022-11-12T12:19:29.555636Z",
     "start_time": "2022-11-12T12:19:29.320768Z"
    }
   },
   "outputs": [
    {
     "data": {
      "application/vnd.microsoft.datawrangler.viewer.v0+json": {
       "columns": [
        {
         "name": "index",
         "rawType": "int64",
         "type": "integer"
        },
        {
         "name": "station",
         "rawType": "object",
         "type": "string"
        },
        {
         "name": "datetime",
         "rawType": "datetime64[ns]",
         "type": "datetime"
        },
        {
         "name": "start",
         "rawType": "float64",
         "type": "float"
        },
        {
         "name": "end",
         "rawType": "float64",
         "type": "float"
        }
       ],
       "conversionMethod": "pd.DataFrame",
       "ref": "dc3317c5-157b-4e37-969c-6982e2746e0a",
       "rows": [
        [
         "0",
         "11 Ave & W 41 St",
         "2022-07-01 00:00:00",
         "2.0",
         "6.0"
        ],
        [
         "1",
         "11 Ave & W 41 St",
         "2022-07-01 01:00:00",
         "2.0",
         "6.0"
        ],
        [
         "2",
         "11 Ave & W 41 St",
         "2022-07-01 02:00:00",
         "2.0",
         "1.0"
        ],
        [
         "3",
         "11 Ave & W 41 St",
         "2022-07-01 03:00:00",
         "2.0",
         "0.0"
        ],
        [
         "4",
         "11 Ave & W 41 St",
         "2022-07-01 06:00:00",
         "2.0",
         "0.0"
        ]
       ],
       "shape": {
        "columns": 4,
        "rows": 5
       }
      },
      "text/html": [
       "<div>\n",
       "<style scoped>\n",
       "    .dataframe tbody tr th:only-of-type {\n",
       "        vertical-align: middle;\n",
       "    }\n",
       "\n",
       "    .dataframe tbody tr th {\n",
       "        vertical-align: top;\n",
       "    }\n",
       "\n",
       "    .dataframe thead th {\n",
       "        text-align: right;\n",
       "    }\n",
       "</style>\n",
       "<table border=\"1\" class=\"dataframe\">\n",
       "  <thead>\n",
       "    <tr style=\"text-align: right;\">\n",
       "      <th></th>\n",
       "      <th>station</th>\n",
       "      <th>datetime</th>\n",
       "      <th>start</th>\n",
       "      <th>end</th>\n",
       "    </tr>\n",
       "  </thead>\n",
       "  <tbody>\n",
       "    <tr>\n",
       "      <th>0</th>\n",
       "      <td>11 Ave &amp; W 41 St</td>\n",
       "      <td>2022-07-01 00:00:00</td>\n",
       "      <td>2.0</td>\n",
       "      <td>6.0</td>\n",
       "    </tr>\n",
       "    <tr>\n",
       "      <th>1</th>\n",
       "      <td>11 Ave &amp; W 41 St</td>\n",
       "      <td>2022-07-01 01:00:00</td>\n",
       "      <td>2.0</td>\n",
       "      <td>6.0</td>\n",
       "    </tr>\n",
       "    <tr>\n",
       "      <th>2</th>\n",
       "      <td>11 Ave &amp; W 41 St</td>\n",
       "      <td>2022-07-01 02:00:00</td>\n",
       "      <td>2.0</td>\n",
       "      <td>1.0</td>\n",
       "    </tr>\n",
       "    <tr>\n",
       "      <th>3</th>\n",
       "      <td>11 Ave &amp; W 41 St</td>\n",
       "      <td>2022-07-01 03:00:00</td>\n",
       "      <td>2.0</td>\n",
       "      <td>0.0</td>\n",
       "    </tr>\n",
       "    <tr>\n",
       "      <th>4</th>\n",
       "      <td>11 Ave &amp; W 41 St</td>\n",
       "      <td>2022-07-01 06:00:00</td>\n",
       "      <td>2.0</td>\n",
       "      <td>0.0</td>\n",
       "    </tr>\n",
       "  </tbody>\n",
       "</table>\n",
       "</div>"
      ],
      "text/plain": [
       "            station            datetime  start  end\n",
       "0  11 Ave & W 41 St 2022-07-01 00:00:00    2.0  6.0\n",
       "1  11 Ave & W 41 St 2022-07-01 01:00:00    2.0  6.0\n",
       "2  11 Ave & W 41 St 2022-07-01 02:00:00    2.0  1.0\n",
       "3  11 Ave & W 41 St 2022-07-01 03:00:00    2.0  0.0\n",
       "4  11 Ave & W 41 St 2022-07-01 06:00:00    2.0  0.0"
      ]
     },
     "execution_count": 18,
     "metadata": {},
     "output_type": "execute_result"
    }
   ],
   "source": [
    "# 合并每个站点的每小时骑行开始和结束数据\n",
    "citi_jul_2022_hourly_combined = pd.concat(\n",
    "    [citi_jul_2022_start, citi_jul_2022_end], axis=1).fillna(0).reset_index().rename(\n",
    "    columns={'level_0': 'station', 'level_1': 'datetime'})\n",
    "citi_jul_2022_hourly_combined.head()"
   ]
  },
  {
   "cell_type": "code",
   "execution_count": 19,
   "id": "633c5112",
   "metadata": {
    "ExecuteTime": {
     "end_time": "2022-11-12T12:19:31.119344Z",
     "start_time": "2022-11-12T12:19:30.951917Z"
    }
   },
   "outputs": [
    {
     "name": "stderr",
     "output_type": "stream",
     "text": [
      "C:\\Users\\Jianhui Zhu\\AppData\\Local\\Temp\\ipykernel_38556\\2718263966.py:3: FutureWarning: 'H' is deprecated and will be removed in a future version, please use 'h' instead.\n",
      "  data = data[data['datetime'].isin(pd.date_range(start='7/1/2022', end='7/31/2022 23:00:00', freq='H'))]\n"
     ]
    },
    {
     "data": {
      "application/vnd.microsoft.datawrangler.viewer.v0+json": {
       "columns": [
        {
         "name": "index",
         "rawType": "int64",
         "type": "integer"
        },
        {
         "name": "station",
         "rawType": "object",
         "type": "string"
        },
        {
         "name": "datetime",
         "rawType": "datetime64[ns]",
         "type": "datetime"
        },
        {
         "name": "start",
         "rawType": "float64",
         "type": "float"
        },
        {
         "name": "end",
         "rawType": "float64",
         "type": "float"
        }
       ],
       "conversionMethod": "pd.DataFrame",
       "ref": "cebc6cee-71eb-4dc9-934c-7c9dfaedccdf",
       "rows": [
        [
         "0",
         "11 Ave & W 41 St",
         "2022-07-01 00:00:00",
         "2.0",
         "6.0"
        ],
        [
         "1",
         "11 Ave & W 41 St",
         "2022-07-01 01:00:00",
         "2.0",
         "6.0"
        ],
        [
         "2",
         "11 Ave & W 41 St",
         "2022-07-01 02:00:00",
         "2.0",
         "1.0"
        ],
        [
         "3",
         "11 Ave & W 41 St",
         "2022-07-01 03:00:00",
         "2.0",
         "0.0"
        ],
        [
         "4",
         "11 Ave & W 41 St",
         "2022-07-01 06:00:00",
         "2.0",
         "0.0"
        ]
       ],
       "shape": {
        "columns": 4,
        "rows": 5
       }
      },
      "text/html": [
       "<div>\n",
       "<style scoped>\n",
       "    .dataframe tbody tr th:only-of-type {\n",
       "        vertical-align: middle;\n",
       "    }\n",
       "\n",
       "    .dataframe tbody tr th {\n",
       "        vertical-align: top;\n",
       "    }\n",
       "\n",
       "    .dataframe thead th {\n",
       "        text-align: right;\n",
       "    }\n",
       "</style>\n",
       "<table border=\"1\" class=\"dataframe\">\n",
       "  <thead>\n",
       "    <tr style=\"text-align: right;\">\n",
       "      <th></th>\n",
       "      <th>station</th>\n",
       "      <th>datetime</th>\n",
       "      <th>start</th>\n",
       "      <th>end</th>\n",
       "    </tr>\n",
       "  </thead>\n",
       "  <tbody>\n",
       "    <tr>\n",
       "      <th>0</th>\n",
       "      <td>11 Ave &amp; W 41 St</td>\n",
       "      <td>2022-07-01 00:00:00</td>\n",
       "      <td>2.0</td>\n",
       "      <td>6.0</td>\n",
       "    </tr>\n",
       "    <tr>\n",
       "      <th>1</th>\n",
       "      <td>11 Ave &amp; W 41 St</td>\n",
       "      <td>2022-07-01 01:00:00</td>\n",
       "      <td>2.0</td>\n",
       "      <td>6.0</td>\n",
       "    </tr>\n",
       "    <tr>\n",
       "      <th>2</th>\n",
       "      <td>11 Ave &amp; W 41 St</td>\n",
       "      <td>2022-07-01 02:00:00</td>\n",
       "      <td>2.0</td>\n",
       "      <td>1.0</td>\n",
       "    </tr>\n",
       "    <tr>\n",
       "      <th>3</th>\n",
       "      <td>11 Ave &amp; W 41 St</td>\n",
       "      <td>2022-07-01 03:00:00</td>\n",
       "      <td>2.0</td>\n",
       "      <td>0.0</td>\n",
       "    </tr>\n",
       "    <tr>\n",
       "      <th>4</th>\n",
       "      <td>11 Ave &amp; W 41 St</td>\n",
       "      <td>2022-07-01 06:00:00</td>\n",
       "      <td>2.0</td>\n",
       "      <td>0.0</td>\n",
       "    </tr>\n",
       "  </tbody>\n",
       "</table>\n",
       "</div>"
      ],
      "text/plain": [
       "            station            datetime  start  end\n",
       "0  11 Ave & W 41 St 2022-07-01 00:00:00    2.0  6.0\n",
       "1  11 Ave & W 41 St 2022-07-01 01:00:00    2.0  6.0\n",
       "2  11 Ave & W 41 St 2022-07-01 02:00:00    2.0  1.0\n",
       "3  11 Ave & W 41 St 2022-07-01 03:00:00    2.0  0.0\n",
       "4  11 Ave & W 41 St 2022-07-01 06:00:00    2.0  0.0"
      ]
     },
     "execution_count": 19,
     "metadata": {},
     "output_type": "execute_result"
    }
   ],
   "source": [
    "# 清理并将数据保存为完整时间序列\n",
    "data = citi_jul_2022_hourly_combined\n",
    "data = data[data['datetime'].isin(pd.date_range(start='7/1/2022', end='7/31/2022 23:00:00', freq='H'))]\n",
    "new_index = pd.MultiIndex.from_product([data.station.unique(), data.datetime.unique()])\n",
    "clean_full_time_series = data.set_index(\n",
    "    ['station', 'datetime']).reindex(new_index).fillna(0).reset_index().rename(\n",
    "    columns={'level_0': 'station', 'level_1': 'datetime'})\n",
    "clean_full_time_series.head()"
   ]
  },
  {
   "cell_type": "markdown",
   "id": "f9ba5fcb",
   "metadata": {},
   "source": [
    "# Citi-Bike 2022年7月机器学习建模"
   ]
  },
  {
   "cell_type": "markdown",
   "id": "2e5df46a",
   "metadata": {},
   "source": [
    "## 创建主ML数据框\n",
    "这需要同时为骑行的开始和结束数据执行"
   ]
  },
  {
   "cell_type": "code",
   "execution_count": 20,
   "id": "9f3daad7",
   "metadata": {
    "ExecuteTime": {
     "end_time": "2022-11-12T12:19:40.577042Z",
     "start_time": "2022-11-12T12:19:40.568892Z"
    }
   },
   "outputs": [],
   "source": [
    "def prep_ml_df(col):\n",
    "    \"\"\"\n",
    "    展平数据。时间序列不再按行排列，而是按列排列。\n",
    "    获取上周和两周前的前12小时数据。\n",
    "\n",
    "    预测未来一周。按小时计算 -> 168小时\n",
    "    \"\"\"\n",
    "    mdf = clean_full_time_series[['station', 'datetime', col]].sort_values('datetime')\n",
    "    ml_master_ls = []\n",
    "    hours_prediction_horizon = 168  # 一周的小时数\n",
    "    num_lagging_windows = hours_prediction_horizon + 12  # 时间x之前的12小时\n",
    "    # 逐个处理每个ts_id的数据块\n",
    "    for grp, df in mdf.groupby('station'):\n",
    "        # 添加滞后需求数据\n",
    "        for n in range(hours_prediction_horizon, num_lagging_windows + 1):\n",
    "            df[f'{col}_lag_{n}'] = df[col].shift(n)  # 一周前\n",
    "            df[f'{col}_lag_{n + 168}'] = df[col].shift(n + 168)  # 两周前\n",
    "        ml_master_ls.append(df)\n",
    "    # 将所有数据重新组合在一起\n",
    "    ml_master_df = pd.concat(ml_master_ls, axis=0, ignore_index=True).dropna(axis=0)\n",
    "    return ml_master_df, mdf"
   ]
  },
  {
   "cell_type": "code",
   "execution_count": 21,
   "id": "d5e4b675",
   "metadata": {
    "ExecuteTime": {
     "end_time": "2022-11-12T12:19:42.302660Z",
     "start_time": "2022-11-12T12:19:41.536434Z"
    }
   },
   "outputs": [],
   "source": [
    "# 创建'start'的ML数据框\n",
    "ml_master_df_start, master_df_start = prep_ml_df('start')\n",
    "# 创建'end'的ML数据框\n",
    "ml_master_df_end, master_df_end = prep_ml_df('end')"
   ]
  },
  {
   "cell_type": "markdown",
   "id": "6f97159e",
   "metadata": {},
   "source": [
    "## 划分训练集和测试集"
   ]
  },
  {
   "cell_type": "markdown",
   "id": "6b7b024d",
   "metadata": {},
   "source": [
    "### 定义训练-测试集划分"
   ]
  },
  {
   "cell_type": "code",
   "execution_count": 26,
   "id": "bb6868bd",
   "metadata": {
    "ExecuteTime": {
     "end_time": "2022-11-12T12:19:45.398443Z",
     "start_time": "2022-11-12T12:19:45.392442Z"
    }
   },
   "outputs": [],
   "source": [
    "def train_test_data(ml_df, start_end, train_test_cutoff):\n",
    "    \"\"\"将ml_df分为训练集和测试集\n",
    "    \n",
    "    我们保留训练和测试数据的键以便后续跟踪预测结果\n",
    "    我们在下面的聚类代码之后创建数据\n",
    "    注意：我们应该添加逻辑以确保从X_...数据集中删除了start\n",
    "    \"\"\"\n",
    "    # 获取模型特征数据\n",
    "    train_mask = ml_df.datetime < train_test_cutoff\n",
    "    X_train = ml_df[train_mask].copy()\n",
    "    X_test = ml_df[~train_mask].copy()\n",
    "\n",
    "    # 获取模型目标\n",
    "    y_train = X_train[start_end]\n",
    "    y_test = X_test[start_end]\n",
    "\n",
    "    # 删除未使用的列\n",
    "    extra_cols = ['station', 'datetime', start_end]\n",
    "    X_train.drop(extra_cols, axis=1, inplace=True)\n",
    "    X_test.drop(extra_cols, axis=1, inplace=True)\n",
    "    return X_train, y_train, X_test, y_test"
   ]
  },
  {
   "cell_type": "code",
   "execution_count": 27,
   "id": "f2f69a42",
   "metadata": {
    "ExecuteTime": {
     "end_time": "2022-11-12T12:19:46.635639Z",
     "start_time": "2022-11-12T12:19:46.601129Z"
    }
   },
   "outputs": [],
   "source": [
    "cutoff_time = datetime.datetime(year=2022, month=7, day=27)\n",
    "# Start\n",
    "X_train_start, y_train_start, X_test_start, y_test_start = train_test_data(ml_master_df_start, 'start', cutoff_time)\n",
    "# End\n",
    "X_train_end, y_train_end, X_test_end, y_test_end = train_test_data(ml_master_df_end, 'end', cutoff_time)"
   ]
  },
  {
   "cell_type": "markdown",
   "id": "4bf32a24",
   "metadata": {},
   "source": [
    "## 运行ML模型和测试"
   ]
  },
  {
   "cell_type": "code",
   "execution_count": 28,
   "id": "c0b8d297",
   "metadata": {
    "ExecuteTime": {
     "end_time": "2022-11-12T12:19:48.348264Z",
     "start_time": "2022-11-12T12:19:48.337141Z"
    }
   },
   "outputs": [],
   "source": [
    "def create_ml_models(x_train, y_train, x_test, y_test):\n",
    "    best_model = None\n",
    "    best_model_name = None\n",
    "    best_score = 0\n",
    "    for name, regression in zip(['xgb', 'svm', 'linear regression'],\n",
    "                                [XGBRegressor, LinearSVR, LinearRegression]):\n",
    "        ml_model = regression()\n",
    "        ml_model.fit(x_train, y_train)\n",
    "        print(f'{name} results\\n~~~~~~~~~~~~~~~~~~~~~~~~~~~~~~~~')\n",
    "        score = r2_score(y_test, ml_model.predict(x_test))\n",
    "        print(score)\n",
    "        if score > best_score:\n",
    "            best_score = score\n",
    "            best_model = ml_model\n",
    "            best_model_name = name\n",
    "    print(f'\\nBest model: {best_model_name}\\n')\n",
    "    return best_model"
   ]
  },
  {
   "cell_type": "code",
   "execution_count": 29,
   "id": "1042ef60",
   "metadata": {
    "ExecuteTime": {
     "end_time": "2022-11-12T12:19:57.532976Z",
     "start_time": "2022-11-12T12:19:53.500568Z"
    }
   },
   "outputs": [
    {
     "name": "stdout",
     "output_type": "stream",
     "text": [
      "xgb results\n",
      "~~~~~~~~~~~~~~~~~~~~~~~~~~~~~~~~\n",
      "0.552256012128425\n"
     ]
    },
    {
     "name": "stderr",
     "output_type": "stream",
     "text": [
      "d:\\ComputerSoftware\\Python\\Lib\\site-packages\\sklearn\\svm\\_classes.py:31: FutureWarning: The default value of `dual` will change from `True` to `'auto'` in 1.5. Set the value of `dual` explicitly to suppress the warning.\n",
      "  warnings.warn(\n",
      "d:\\ComputerSoftware\\Python\\Lib\\site-packages\\sklearn\\svm\\_base.py:1237: ConvergenceWarning: Liblinear failed to converge, increase the number of iterations.\n",
      "  warnings.warn(\n",
      "d:\\ComputerSoftware\\Python\\Lib\\site-packages\\sklearn\\svm\\_classes.py:31: FutureWarning: The default value of `dual` will change from `True` to `'auto'` in 1.5. Set the value of `dual` explicitly to suppress the warning.\n",
      "  warnings.warn(\n"
     ]
    },
    {
     "name": "stdout",
     "output_type": "stream",
     "text": [
      "svm results\n",
      "~~~~~~~~~~~~~~~~~~~~~~~~~~~~~~~~\n",
      "0.5699795834089112\n",
      "linear regression results\n",
      "~~~~~~~~~~~~~~~~~~~~~~~~~~~~~~~~\n",
      "0.6034301888320571\n",
      "\n",
      "Best model: linear regression\n",
      "\n",
      "xgb results\n",
      "~~~~~~~~~~~~~~~~~~~~~~~~~~~~~~~~\n",
      "0.5374559468326788\n",
      "svm results\n",
      "~~~~~~~~~~~~~~~~~~~~~~~~~~~~~~~~\n",
      "0.3892745753232735\n",
      "linear regression results\n",
      "~~~~~~~~~~~~~~~~~~~~~~~~~~~~~~~~\n",
      "0.5776995169694515\n",
      "\n",
      "Best model: linear regression\n",
      "\n"
     ]
    },
    {
     "name": "stderr",
     "output_type": "stream",
     "text": [
      "d:\\ComputerSoftware\\Python\\Lib\\site-packages\\sklearn\\svm\\_base.py:1237: ConvergenceWarning: Liblinear failed to converge, increase the number of iterations.\n",
      "  warnings.warn(\n"
     ]
    }
   ],
   "source": [
    "# Start\n",
    "ml_model_start = create_ml_models(X_train_start, y_train_start, X_test_start, y_test_start)\n",
    "# End\n",
    "ml_model_end = create_ml_models(X_train_end, y_train_end, X_test_end, y_test_end)"
   ]
  },
  {
   "cell_type": "markdown",
   "id": "303327d4",
   "metadata": {},
   "source": [
    "## 进行预测"
   ]
  },
  {
   "cell_type": "code",
   "execution_count": 30,
   "id": "56cd5866",
   "metadata": {
    "ExecuteTime": {
     "end_time": "2022-11-12T12:19:57.814009Z",
     "start_time": "2022-11-12T12:19:57.795560Z"
    }
   },
   "outputs": [],
   "source": [
    "def create_prediction_df(master_df, ml_model, col):\n",
    "    ml_master_ls = []\n",
    "    hours_prediction_horizon = 168  # 一周的小时数\n",
    "    num_lagging_windows = hours_prediction_horizon + 12  # 时间x之前的12小时\n",
    "    # 逐个处理每个ts_id的数据块\n",
    "    date_range = pd.date_range(start='8/1/2022', end='8/5/2022 23:00:00', freq='H')\n",
    "    for grp, df in master_df.groupby('station'):\n",
    "        prediction_df = pd.DataFrame({'station': grp, col: 0, 'datetime': date_range})\n",
    "        df = pd.concat([df, prediction_df], axis=0, ignore_index=True)\n",
    "        # 确保排序\n",
    "        df.sort_values('datetime', inplace=True)\n",
    "        # 添加滞后需求数据\n",
    "        for n in range(hours_prediction_horizon, num_lagging_windows + 1):\n",
    "            df[f'{col}_lag_{n}'] = df[col].shift(n)  # 一周前\n",
    "            df[f'{col}_lag_{n + 168}'] = df[col].shift(n + 168)  # 两周前\n",
    "        ml_master_ls.append(df)\n",
    "    # 将所有数据重新组合在一起\n",
    "    ml_master_df = pd.concat(ml_master_ls, axis=0, ignore_index=True)\n",
    "    prediction_master = ml_master_df[ml_master_df['datetime'].isin(date_range)]\n",
    "    prediction_ml = prediction_master.drop(['station', 'datetime', col], axis=1)  # 模型数据框\n",
    "    # 数据框预测键作为预测结果的占位符\n",
    "    prediction_key = prediction_master[['station', 'datetime']].copy()\n",
    "    prediction_key[f'{col}_forecast'] = ml_model.predict(prediction_ml)\n",
    "    return prediction_key"
   ]
  },
  {
   "cell_type": "code",
   "execution_count": 31,
   "id": "36136b5c",
   "metadata": {
    "ExecuteTime": {
     "end_time": "2022-11-12T12:22:35.956500Z",
     "start_time": "2022-11-12T12:22:35.044628Z"
    }
   },
   "outputs": [
    {
     "name": "stderr",
     "output_type": "stream",
     "text": [
      "C:\\Users\\Jianhui Zhu\\AppData\\Local\\Temp\\ipykernel_38556\\4006967382.py:6: FutureWarning: 'H' is deprecated and will be removed in a future version, please use 'h' instead.\n",
      "  date_range = pd.date_range(start='8/1/2022', end='8/5/2022 23:00:00', freq='H')\n",
      "C:\\Users\\Jianhui Zhu\\AppData\\Local\\Temp\\ipykernel_38556\\4006967382.py:6: FutureWarning: 'H' is deprecated and will be removed in a future version, please use 'h' instead.\n",
      "  date_range = pd.date_range(start='8/1/2022', end='8/5/2022 23:00:00', freq='H')\n"
     ]
    }
   ],
   "source": [
    "# 八月第一周，周一至周五的预测\n",
    "# 创建'start'的预测数据框\n",
    "start_prediction_key = create_prediction_df(master_df_start, ml_model_start, 'start')\n",
    "# 创建'end'的预测数据框\n",
    "end_prediction_key = create_prediction_df(master_df_end, ml_model_end, 'end')\n",
    "predictions_final = pd.merge(start_prediction_key, end_prediction_key, on=['station', 'datetime'])\n",
    "top_stations_info.to_csv('top_stations.csv', index_label='station')\n",
    "predictions_final.round(0).to_csv('stations_flow.csv', index=False)"
   ]
  },
  {
   "cell_type": "code",
   "execution_count": null,
   "id": "84c765bd",
   "metadata": {},
   "outputs": [],
   "source": []
  }
 ],
 "metadata": {
  "kernelspec": {
   "display_name": "Python 3",
   "language": "python",
   "name": "python3"
  },
  "language_info": {
   "codemirror_mode": {
    "name": "ipython",
    "version": 3
   },
   "file_extension": ".py",
   "mimetype": "text/x-python",
   "name": "python",
   "nbconvert_exporter": "python",
   "pygments_lexer": "ipython3",
   "version": "3.12.2"
  },
  "varInspector": {
   "cols": {
    "lenName": 16,
    "lenType": 16,
    "lenVar": 40
   },
   "kernels_config": {
    "python": {
     "delete_cmd_postfix": "",
     "delete_cmd_prefix": "del ",
     "library": "var_list.py",
     "varRefreshCmd": "print(var_dic_list())"
    },
    "r": {
     "delete_cmd_postfix": ") ",
     "delete_cmd_prefix": "rm(",
     "library": "var_list.r",
     "varRefreshCmd": "cat(var_dic_list()) "
    }
   },
   "types_to_exclude": [
    "module",
    "function",
    "builtin_function_or_method",
    "instance",
    "_Feature"
   ],
   "window_display": false
  }
 },
 "nbformat": 4,
 "nbformat_minor": 5
}
