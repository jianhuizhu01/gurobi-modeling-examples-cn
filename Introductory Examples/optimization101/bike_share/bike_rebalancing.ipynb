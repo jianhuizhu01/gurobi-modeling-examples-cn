{
 "cells": [
  {
   "cell_type": "markdown",
   "id": "406c2750",
   "metadata": {},
   "source": [
    "# 使用数学优化进行共享单车再平衡"
   ]
  },
  {
   "cell_type": "markdown",
   "id": "7a7e7404",
   "metadata": {},
   "source": [
    "共享单车系统已经成为全球城市居民和游客日常出行的有效方式。\n",
    "\n",
    "NYC的Citi-Bike作为最大的共享单车网络,在2022年7月拥有1,588个活跃站点和25,575辆活跃单车。\n",
    "\n",
    "2022年7月完成了超过300万次骑行,覆盖NYC/Hoboken/Jersey City区域,约有15万名活跃年度会员。\n",
    "\n",
    "在高峰时段,许多单车站对单车的需求很高,这意味着这些站点的单车流出量大于流入量。\n",
    "\n",
    "同时,也有一些站点对车位的需求很高(骑行者将单车归还到这些站点),这意味着这些站点的单车流入量大于流出量。\n",
    "\n",
    "在高需求站点缺乏可用单车或车位会导致共享单车网络的重大失衡,并造成客户不满和收入损失。\n",
    "\n",
    "为解决这个问题,需要在站点之间重新调配单车以平衡供需。"
   ]
  },
  {
   "cell_type": "markdown",
   "id": "3fdb0fdf",
   "metadata": {},
   "source": [
    "## 问题陈述与解决方案"
   ]
  },
  {
   "cell_type": "markdown",
   "id": "d2142854",
   "metadata": {},
   "source": [
    "使用2022年7月NYC和Jersey区域的Citi-bike历史数据,我们想知道:\n",
    "- 8月第一周每个站点每小时的单车需求是多少?\n",
    "- 了解需求后,如何最小化销售损失?\n",
    "\n",
    "销售损失是由于客户需要单车时缺乏单车造成的。因此,应该将单车从流入量较大的站点转移到流出量较大的站点。\n",
    "\n",
    "所以,首先要确定每小时需要向各站点增加或减少的单车数量。然后,安排站点之间的实际单车转运。\n",
    "\n",
    "在本示例中,我们将专注于第一部分,最后讨论如何解决第二部分。\n",
    "我们将使用机器学习(ML)和数学优化(MO)的组合来解决这个问题。\n",
    "\n",
    "**解决方案方法**\n",
    "解决方案包含两个步骤:\n",
    "- **步骤1**: 我们使用2022年7月NYC和Jersey区域的Citi-bike历史数据,使用ML模型预测8月第一周每个站点每小时的单车流入和流出量。这在[predict_bike_flow](predict_bike_flow.ipynb)笔记本中完成。\n",
    "- **步骤2**: 我们使用MO模型来决定每个小时向每个站点增加或减少多少单车,以最小化总销售损失。\n",
    "\n",
    "为确保每个人都可以使用Gurobi受限许可运行笔记本,我们减少了数据规模。为此,我们在早高峰时段(上午7点到9点)只关注前50个站点。\n",
    "\n",
    "使用PageRank算法选择了这些顶级站点。"
   ]
  },
  {
   "cell_type": "markdown",
   "id": "ed4f7ee5",
   "metadata": {
    "heading_collapsed": true
   },
   "source": [
    "# 安装所需包"
   ]
  },
  {
   "cell_type": "code",
   "execution_count": null,
   "id": "af590656",
   "metadata": {
    "ExecuteTime": {
     "end_time": "2022-11-08T19:29:24.273068Z",
     "start_time": "2022-11-08T19:29:20.555378Z"
    },
    "hidden": true
   },
   "outputs": [],
   "source": [
    "%pip install gurobipy\n",
    "%pip install pandas"
   ]
  },
  {
   "cell_type": "markdown",
   "id": "a8bd6f69",
   "metadata": {},
   "source": [
    "# 导入包"
   ]
  },
  {
   "cell_type": "code",
   "execution_count": null,
   "id": "4036b5a7",
   "metadata": {
    "ExecuteTime": {
     "end_time": "2022-11-16T00:27:52.744267Z",
     "start_time": "2022-11-16T00:27:52.303702Z"
    }
   },
   "outputs": [],
   "source": [
    "import datetime\n",
    "import gurobipy as gp\n",
    "import pandas as pd\n",
    "from gurobipy import GRB"
   ]
  },
  {
   "cell_type": "markdown",
   "id": "c165d441",
   "metadata": {},
   "source": [
    "# 优化问题"
   ]
  },
  {
   "cell_type": "markdown",
   "id": "58e8f88d",
   "metadata": {},
   "source": [
    "## 问题定义"
   ]
  },
  {
   "cell_type": "markdown",
   "id": "0816abcb",
   "metadata": {},
   "source": [
    "我们希望最小化总销售损失。每个站点在每个小时的销售损失可以定义为总单车需求量(从该站点出发的单车数量)与总供应量之间的差值。\n",
    "\n",
    "总供应量包括结束行程到达该站点的单车数量,加上站点现有的所有单车(即库存),再加上该小时通过调配增加或减少的单车数量。\n",
    "\n",
    "**假设:**\n",
    "- 第一个小时开始时(在本例中为7点)的库存为零。\n",
    "- 在任何给定小时,我们都可以使用有限数量的单车分配到各站点,以期望在不需要站点之间转移单车的情况下减少失衡(因为这是早高峰时段的分析)。"
   ]
  },
  {
   "cell_type": "markdown",
   "id": "79287692",
   "metadata": {},
   "source": [
    "## 加载所需数据"
   ]
  },
  {
   "cell_type": "code",
   "execution_count": null,
   "id": "3fd07b80",
   "metadata": {
    "ExecuteTime": {
     "end_time": "2022-11-16T00:28:00.613144Z",
     "start_time": "2022-11-16T00:28:00.583600Z"
    }
   },
   "outputs": [],
   "source": [
    "stations = pd.read_csv('https://raw.githubusercontent.com/Gurobi/modeling-examples/master/optimization101/bike_share/top_stations.csv', index_col='station')\n",
    "# run locally\n",
    "# stations = pd.read_csv('top_stations.csv', index_col='station')\n",
    "stations.head()"
   ]
  },
  {
   "cell_type": "code",
   "execution_count": null,
   "id": "2d6872ea",
   "metadata": {
    "ExecuteTime": {
     "end_time": "2022-11-16T00:28:34.586233Z",
     "start_time": "2022-11-16T00:28:34.559120Z"
    }
   },
   "outputs": [],
   "source": [
    "stations_flow = pd.read_csv('https://raw.githubusercontent.com/Gurobi/modeling-examples/master/optimization101/bike_share/stations_flow.csv')\n",
    "# run locally\n",
    "# stations_flow = pd.read_csv('stations_flow.csv')\n",
    "stations_flow['datetime'] = pd.to_datetime(stations_flow['datetime'])\n",
    "stations_flow.head(25)"
   ]
  },
  {
   "cell_type": "markdown",
   "id": "a791ab30",
   "metadata": {},
   "source": [
    "`stations_flow`数据包含2022年8月前5天所有时段的预测。我们的分析关注早高峰时段,即上午7点到9点。此外,我们可以每天运行MO模型。目前,我们仅关注第一天,但最后我们会展示完整模型并说明如何每天运行。"
   ]
  },
  {
   "cell_type": "code",
   "execution_count": null,
   "id": "190b9bce",
   "metadata": {
    "ExecuteTime": {
     "end_time": "2022-11-16T00:30:20.677910Z",
     "start_time": "2022-11-16T00:30:20.654847Z"
    }
   },
   "outputs": [],
   "source": [
    "# 当创建新列时Pandas会给出一些SettingWithCopyWarning警告\n",
    "# 这些是误报。所以我们忽略它们。\n",
    "pd.options.mode.chained_assignment = None\n",
    "morning_flow = stations_flow[stations_flow['datetime'].dt.hour.between(7, 9)]\n",
    "morning_flow['date'] = morning_flow['datetime'].dt.date\n",
    "morning_flow['time'] = morning_flow['datetime'].dt.hour\n",
    "# 现在,让我们为第一天运行MO模型: 08/01/2022\n",
    "flow_df = morning_flow.loc[morning_flow['date'] == datetime.date(2022, 8, 1)]\n",
    "flow_df.set_index(['station', 'time'], inplace=True)\n",
    "flow_df.head(10)"
   ]
  },
  {
   "cell_type": "markdown",
   "id": "75881443",
   "metadata": {},
   "source": [
    "## 问题建模"
   ]
  },
  {
   "cell_type": "markdown",
   "id": "8b8229be",
   "metadata": {},
   "source": [
    "让我们定义MO模型的符号。我们希望对每个小时和每个站点运行模型。因此,让我们定义以下两个集合:\n",
    "\n",
    "**集合**\n",
    "- $I\\quad$: 站点集合\n",
    "- $T\\quad$: 小时集合 \n",
    "\n",
    "我们还从`stations`和`flow_df`数据框中获得以下信息:\n",
    "\n",
    "**参数**\n",
    "- $e_{i,t}\\quad$: 在t小时结束行程到达站点i的单车数量(即供应)\n",
    "- $s_{i,t}\\quad$: 在t小时从站点i开始行程的单车数量(即需求)\n",
    "- $c_{i}\\quad$: 站点i的容量\n",
    "\n",
    "我们知道在高峰时段和拥堵时段,在站点之间转移单车并不容易。为了减少高需求站点因缺乏单车而造成的损失,我们假设每小时开始时都有少量的备用单车可以分配给各站点。我们用$N$表示:\n",
    "- $N\\quad$: 在给定小时内可以分配给站点的备用单车数量"
   ]
  },
  {
   "cell_type": "code",
   "execution_count": null,
   "id": "e8140631",
   "metadata": {
    "ExecuteTime": {
     "end_time": "2022-11-15T15:51:55.077210Z",
     "start_time": "2022-11-15T15:51:55.066655Z"
    }
   },
   "outputs": [],
   "source": [
    "num_bikes = 25  # N: 在给定小时内可以分配给站点的备用单车数量\n",
    "station_names = list(stations.index)  # 集合 I\n",
    "time_rng = morning_flow['time'].drop_duplicates().values  # 集合 T"
   ]
  },
  {
   "cell_type": "code",
   "execution_count": null,
   "id": "68f17fc6-abf3-470d-9848-a94d98c1f7cc",
   "metadata": {
    "ExecuteTime": {
     "end_time": "2022-11-13T18:23:39.820414Z",
     "start_time": "2022-11-13T18:23:39.804231Z"
    }
   },
   "outputs": [],
   "source": [
    "station_time = flow_df.index  # (i,t)索引对\n",
    "start_forecast = flow_df.start_forecast  # s\n",
    "end_forecast = flow_df.end_forecast  # e\n",
    "capacity = stations.capacity  # c"
   ]
  },
  {
   "cell_type": "markdown",
   "id": "9fcf3cf8",
   "metadata": {},
   "source": [
    "## 决策变量"
   ]
  },
  {
   "cell_type": "markdown",
   "id": "d21f6f93",
   "metadata": {},
   "source": [
    "首先,我们想要确定每个站点在每个小时内需要增加或减少的单车数量。我们用$y_{i,t}$表示增加的单车数量,用$z_{i,t}$表示减少的单车数量:\n",
    "- $y_{i,t}\\quad$: 在t小时向站点i增加的单车数量\n",
    "- $z_{i,t}\\quad$: 在t小时从站点i减少的单车数量\n",
    "\n",
    "模型的目标是减少每个站点每小时的销售损失。这个值也取决于决策变量$y_{i,t}$和$z_{i,t}$的值,因此它本身也是一个决策变量。我们用$l_{i,t}$表示:\n",
    "- $l_{i,t}\\quad$: 站点i在t小时的销售损失\n",
    "\n",
    "**你能想到其他变量吗?**\n",
    "\n",
    "有了这些初始决策变量,我们就可以开始构建MO模型了:"
   ]
  },
  {
   "cell_type": "code",
   "execution_count": null,
   "id": "18f9b67f",
   "metadata": {
    "ExecuteTime": {
     "end_time": "2022-11-14T18:40:14.941185Z",
     "start_time": "2022-11-14T18:40:14.311062Z"
    },
    "tags": []
   },
   "outputs": [],
   "source": [
    "mdl = gp.Model('bike_rebalancing')\n",
    "# 变量\n",
    "\n",
    "y = mdl.addVars(station_time, lb=0, vtype=GRB.CONTINUOUS, name='y')\n",
    "# 替代方案:\n",
    "# y = mdl.addVars(station_names, time_rng, lb=0, vtype=GRB.CONTINUOUS, name='y')\n",
    "z = mdl.addVars(station_time, lb=0, vtype=GRB.CONTINUOUS, name='z')\n",
    "l = mdl.addVars(station_time, lb=0, vtype=GRB.CONTINUOUS, name='l')"
   ]
  },
  {
   "cell_type": "markdown",
   "id": "53a33172",
   "metadata": {},
   "source": [
    "## 约束条件"
   ]
  },
  {
   "cell_type": "markdown",
   "id": "225d8693",
   "metadata": {},
   "source": [
    "首先,我们为每小时可以增加或减少的单车数量设置上下限。\n",
    "\n",
    "在每小时内,我们有$s_{i,t}$辆单车从站点出发,$e_{i,t}$辆单车到达站点。如果$s_{i,t} \\ge e_{i,t}$,需求超过供应。在这种情况下,我们可以选择向该站点增加一些单车以减少损失(也可以选择不增加)。需要记住的是,我们不能增加超过站点容量的单车。\n",
    "\n",
    "另一方面,如果$s_{i,t} \\le e_{i,t}$,我们可以选择从该站点减少一些多余的单车(也可以选择不减少)。然而,如果$e_{i,t} \\ge s_{i,t} + c_i$,那么到达站点的单车数量将超过站点容量。在这种情况下,我们必须减少一些单车以避免溢出。\n",
    "\n",
    "上述描述帮助我们定义了$y_{i,t}$和$z_{i,t}$的界限。\n",
    "对于增加单车,界限是:\n",
    "\n",
    "\\begin{align}\n",
    "&??? &\\quad \\forall i \\in I, t \\in T\\\\\n",
    "\\end{align}\n",
    "\n",
    "对于减少单车:\n",
    "\n",
    "\\begin{align}\n",
    "&??? &\\quad \\forall i \\in I, t \\in T\\\\\n",
    "\\end{align}\n"
   ]
  },
  {
   "cell_type": "code",
   "execution_count": null,
   "id": "fe03af94-b72d-440c-b81d-e1de82eed7c6",
   "metadata": {
    "ExecuteTime": {
     "end_time": "2022-11-14T18:56:42.840230Z",
     "start_time": "2022-11-14T18:56:42.827230Z"
    }
   },
   "outputs": [],
   "source": [
    "# Y的界限\n",
    "... # ???\n",
    "\n",
    "# z的界限\n",
    "... # ???"
   ]
  },
  {
   "cell_type": "markdown",
   "id": "db534a31",
   "metadata": {},
   "source": [
    "接下来,我们将初始库存(即$t_0$小时的库存)设置为0。\n",
    "\n",
    "\\begin{align}\n",
    "&??? & \\\\\n",
    "\\end{align}"
   ]
  },
  {
   "cell_type": "code",
   "execution_count": null,
   "id": "e0b73d5f",
   "metadata": {
    "ExecuteTime": {
     "end_time": "2022-11-13T18:25:20.279863Z",
     "start_time": "2022-11-13T18:25:20.270344Z"
    }
   },
   "outputs": [],
   "source": [
    "t0 = 7\n",
    "# 设置初始库存\n",
    "... # ???"
   ]
  },
  {
   "cell_type": "markdown",
   "id": "28688fc6",
   "metadata": {},
   "source": [
    "如何定义一个小时开始时站点的库存?库存量是否有上限?\n",
    "\n",
    "\n",
    "\\begin{align}\n",
    "&??? &\\\\\n",
    "\\end{align}\n",
    "\n"
   ]
  },
  {
   "cell_type": "code",
   "execution_count": null,
   "id": "5faf6bdf",
   "metadata": {},
   "outputs": [],
   "source": []
  },
  {
   "cell_type": "code",
   "execution_count": null,
   "id": "cfbe6926",
   "metadata": {},
   "outputs": [],
   "source": []
  },
  {
   "cell_type": "code",
   "execution_count": null,
   "id": "e1ab9a6a",
   "metadata": {},
   "outputs": [],
   "source": []
  },
  {
   "cell_type": "markdown",
   "id": "fdfeb12a",
   "metadata": {},
   "source": [
    "接下来,我们需要定义销售损失的计算方法。销售损失是站点需求与供应之间的差值。\n",
    "- 需求是所有离开站点的单车数量。那么,需求是什么?\n",
    "- 供应是所有到达站点的单车数量。那么,供应是什么?\n",
    "\n",
    "当然,如果供应大于需求,则没有损失。因此,我们需要确保损失只考虑非负值。这可以通过以下方式实现:\n",
    "\n",
    "\\begin{align}\n",
    "&??? &\\quad \\forall i \\in I, t \\in T \\\\\n",
    "\\end{align}"
   ]
  },
  {
   "cell_type": "code",
   "execution_count": null,
   "id": "4a467dca",
   "metadata": {
    "ExecuteTime": {
     "end_time": "2022-11-13T19:36:22.912966Z",
     "start_time": "2022-11-13T19:36:22.885648Z"
    }
   },
   "outputs": [],
   "source": [
    "# 损失定义\n",
    "... # ???"
   ]
  },
  {
   "cell_type": "markdown",
   "id": "90b4f56e",
   "metadata": {},
   "source": [
    "我们假设每小时开始时有少量备用单车可以分配给各站点。这个限制是对分配给站点的单车总数的限制。\n",
    "\n",
    "你认为我们需要做什么来添加这个约束?\n",
    "\n",
    "\n",
    "\\begin{align}\n",
    "&??? \\\\\n",
    "\\end{align}"
   ]
  },
  {
   "cell_type": "code",
   "execution_count": null,
   "id": "61f52e65",
   "metadata": {
    "ExecuteTime": {
     "end_time": "2022-11-13T19:36:26.781812Z",
     "start_time": "2022-11-13T19:36:26.773870Z"
    }
   },
   "outputs": [],
   "source": [
    "# 限制增加的单车数量\n",
    "... # ???"
   ]
  },
  {
   "cell_type": "code",
   "execution_count": null,
   "id": "904b93a6",
   "metadata": {},
   "outputs": [],
   "source": []
  },
  {
   "cell_type": "code",
   "execution_count": null,
   "id": "7bbd480c",
   "metadata": {},
   "outputs": [],
   "source": []
  },
  {
   "cell_type": "markdown",
   "id": "a9e0d5df",
   "metadata": {},
   "source": [
    "## 目标"
   ]
  },
  {
   "cell_type": "markdown",
   "id": "cafeb700",
   "metadata": {},
   "source": [
    "目标是最小化总销售损失。\n",
    "\n",
    "$$\\min \\sum_{i,t} l_{i,t}$$"
   ]
  },
  {
   "cell_type": "code",
   "execution_count": null,
   "id": "a7352d11",
   "metadata": {
    "ExecuteTime": {
     "end_time": "2022-11-13T19:36:29.138482Z",
     "start_time": "2022-11-13T19:36:29.124154Z"
    }
   },
   "outputs": [],
   "source": [
    "mdl.setObjective(l.sum(), GRB.MINIMIZE)"
   ]
  },
  {
   "cell_type": "markdown",
   "id": "93782ff9",
   "metadata": {},
   "source": [
    "我们现在可以告诉Gurobi模型已经完成,可以解决问题了。"
   ]
  },
  {
   "cell_type": "code",
   "execution_count": null,
   "id": "9b4669ff",
   "metadata": {
    "ExecuteTime": {
     "end_time": "2022-11-13T19:36:30.309795Z",
     "start_time": "2022-11-13T19:36:30.214344Z"
    }
   },
   "outputs": [],
   "source": [
    "mdl.optimize()"
   ]
  },
  {
   "cell_type": "markdown",
   "id": "f9a1a8f4",
   "metadata": {},
   "source": [
    "## 后处理"
   ]
  },
  {
   "cell_type": "code",
   "execution_count": null,
   "id": "1f1b8fd1",
   "metadata": {
    "ExecuteTime": {
     "end_time": "2022-11-13T19:36:42.952139Z",
     "start_time": "2022-11-13T19:36:42.867732Z"
    }
   },
   "outputs": [],
   "source": [
    "df = pd.DataFrame()\n",
    "if mdl.status == GRB.Status.OPTIMAL:\n",
    "    df = flow_df.copy()\n",
    "    df = df.merge(stations[['capacity']], left_on='station', right_index=True)\n",
    "    df[['bikes_added', 'bikes_removed', 'loss_sale', 'beginning_inventory']] = 0\n",
    "    for k, v in y.items():\n",
    "        df.loc[k, 'bikes_added'] = v.x\n",
    "        df.loc[k, 'bikes_removed'] = z[k].x\n",
    "        df.loc[k, 'beginning_inventory'] = q[k].x\n",
    "        df.loc[k, 'loss_sale'] = l[k].x\n",
    "    df.reset_index(inplace=True)\n",
    "    print(f'Total Loss : {mdl.objVal}')\n",
    "    total_bikes_added = df.groupby('time')['bikes_added'].sum()\n",
    "    print(f'Total number of bikes added in each hour:\\n {total_bikes_added}')\n",
    "else:\n",
    "    print('Could not find a feasible solution!')\n",
    "df.head(10)"
   ]
  },
  {
   "cell_type": "markdown",
   "id": "94c40922",
   "metadata": {},
   "source": [
    "# 模型增强"
   ]
  },
  {
   "cell_type": "markdown",
   "id": "1863587a",
   "metadata": {},
   "source": [
    "查看`output_df`,你可能会注意到每小时都有单车转移(增加或减少)的站点。更糟糕的是,有些站点在一个小时内减少单车,但在下一个小时内增加单车。我们知道这些增加/减少消耗时间和金钱。我们可以做些什么来避免这种情况?\n",
    "\n",
    "一种方法是引入固定成本,用于转移单车的卡车(或自行车拖车),然后将此项添加到目标函数中。通过与转移相关的成本,模型被激励使用更少的转移次数。\n",
    "\n",
    "首先,我们应该计算转移发生的次数。每当向站点增加单车或从站点减少单车时,就发生了一次转移。因此,我们需要一种方法将单车的增加和减少与转移联系起来。实现这一目标的一种方法是引入两个新的二元变量:\n",
    "\n",
    "- $x_{i,t}\\quad$: 如果在t小时向站点i增加单车,则为1;否则为0\n",
    "- $w_{i,t}\\quad$: 如果在t小时从站点i减少单车,则为1;否则为0\n",
    "\n",
    "接下来,我们需要建立$y_{i,t}$与$x_{i,t}$之间的关系,以及$z_{i,t}$与$w_{i,t}$之间的关系。基本上,我们想说:\n",
    "如果$y_{i,t} \\ge 0$,则$x_{i,t} = 1$;如果$z_{i,t} \\ge 0$,则$w_{i,t} = 1$。\n",
    "\n",
    "我们引入以下两个约束条件:\n",
    "\n",
    "\\begin{align}\n",
    "&y_{i,t} \\le M x_{i,t} &\\quad \\forall i \\in I, t \\in T \\tag{11}\\\\\n",
    "&z_{i,t} \\le M w_{i,t} &\\quad \\forall i \\in I, t \\in T \\tag{12}\\\\\n",
    "\\end{align}\n",
    "\n",
    "其中$M$是一个大数。\n",
    "\n",
    "约束条件11确保如果$y_{i,t}\\ge 0$,则$x_{i,t} = 1$。但单独来看,这个约束条件不能使$x_{i,t} =0$如果$y_{i,t} \\le 0$。约束条件12也是如此。它确保$z_{i,t} \\ge 0$使$w_{i,t} = 1$。然而,它不能强制$w_{i,t} = 0$如果$z_{i,t} \\ge 0$。\n",
    "\n",
    "这可以通过目标函数实现。\n",
    "\n",
    "总转移次数等于$x_{i,t}$和$w_{i,t}$的总和,我们的目标是最小化转移次数。因此,我们将这些项添加到目标函数中。换句话说,我们的新目标函数是:\n",
    "\n",
    "$$\\min \\sum_{i,t} (l_{i,t} + x_{i,t} + w_{i,t})$$\n",
    "\n",
    "由于最小化总转移次数是目标,目标函数试图使$x_{i,t}$和$w_{i,t}$尽可能小(在这种情况下为零)。结合约束条件11和12,这意味着在$x_{i,t}$和$w_{i,t}$可以取0或1的情况下,目标函数迫使它们取值为0。此外,由于任何额外的转移会导致$x_{i,t}$或$w_{i,t}$为1,模型被激励减少转移次数以最小化目标函数。\n",
    "\n",
    "当然,你可以通过为目标函数中的每个项设置系数(将其视为成本)使模型更加通用。"
   ]
  },
  {
   "cell_type": "code",
   "execution_count": null,
   "id": "a8c272b6",
   "metadata": {
    "ExecuteTime": {
     "end_time": "2022-11-13T19:37:17.713950Z",
     "start_time": "2022-11-13T19:37:17.356485Z"
    }
   },
   "outputs": [],
   "source": [
    "x = mdl.addVars(station_time, vtype=GRB.BINARY, name='x')  # 如果 y_{i,t} >= 0 则为1\n",
    "w = mdl.addVars(station_time, vtype=GRB.BINARY, name='w')  # 如果 z_{i,t} >= 0 则为1\n",
    "\n",
    "big_m = 1000  # 大数\n",
    "# y和x之间的关系\n",
    "mdl.addConstrs((y[i, t] <= big_m * x[i, t] for i, t in station_time), 'rel_y_x')\n",
    "# z和w之间的关系\n",
    "mdl.addConstrs((z[i, t] <= big_m * w[i, t] for i, t in station_time), 'rel_z_w')\n",
    "\n",
    "# 新的目标函数\n",
    "obj = l.sum() + (x.sum() + w.sum())\n",
    "mdl.setObjective(obj, GRB.MINIMIZE)\n",
    "mdl.optimize()"
   ]
  },
  {
   "cell_type": "markdown",
   "id": "98a94077",
   "metadata": {},
   "source": [
    "## 后处理"
   ]
  },
  {
   "cell_type": "code",
   "execution_count": null,
   "id": "bd6baf18",
   "metadata": {
    "ExecuteTime": {
     "end_time": "2022-11-13T19:37:23.168043Z",
     "start_time": "2022-11-13T19:37:23.108652Z"
    }
   },
   "outputs": [],
   "source": [
    "df = pd.DataFrame()\n",
    "if mdl.status == GRB.Status.OPTIMAL:\n",
    "    df = flow_df.copy()\n",
    "    df = df.merge(stations[['capacity']], left_on='station', right_index=True)\n",
    "    df[['bikes_added', 'bikes_removed', 'loss_sale', 'beginning_inventory']] = 0\n",
    "    for k, v in y.items():\n",
    "        df.loc[k, 'bikes_added'] = v.x\n",
    "        df.loc[k, 'bikes_removed'] = z[k].x\n",
    "        df.loc[k, 'beginning_inventory'] = q[k].x\n",
    "        df.loc[k, 'loss_sale'] = l[k].x\n",
    "    df.reset_index(inplace=True)\n",
    "    print(f'Total Loss : {mdl.objVal}')\n",
    "    total_bikes_added = df.groupby('time')['bikes_added'].sum()\n",
    "    print(f'Total number of bikes added in each hour:\\n {total_bikes_added}')\n",
    "else:\n",
    "    print('Could not find a feasible solution!')\n",
    "df.head(10)"
   ]
  },
  {
   "cell_type": "markdown",
   "id": "7cf3c78f",
   "metadata": {
    "ExecuteTime": {
     "end_time": "2022-10-19T18:40:17.606647Z",
     "start_time": "2022-10-19T18:40:17.596562Z"
    }
   },
   "source": [
    "# 额外"
   ]
  },
  {
   "cell_type": "markdown",
   "id": "690cd096",
   "metadata": {},
   "source": [
    "## 场景分析"
   ]
  },
  {
   "cell_type": "markdown",
   "id": "50335f47",
   "metadata": {},
   "source": [
    "在许多MO问题中,场景分析或假设分析是一个重要的需求。\n",
    "一般来说,在假设分析中,我们感兴趣的是在各种场景下解决方案如何变化。\n",
    "想想我们的案例。\n",
    "- 如果备用单车数量增加或减少10%,解决方案会如何变化?\n",
    "- 在增强模型中,如果销售损失的成本发生变化会怎样?增加或减少单车的成本又会怎样?\n",
    "- 如果在最繁忙的站点附近增加一个新站点会怎样?\n",
    "- 如果我们希望确保每个站点在每小时开始时至少有2辆可用单车会怎样?\n",
    "\n",
    "我们的模型仍然是一个简单的模型。但你可以想象场景分析可以提供的价值。它可以通过创建和比较不同的场景并评估其结果来回答许多问题,从而评估其对业务目标的影响。要了解更多,你可以查看Gurobi的这个[多场景示例](https://www.gurobi.com/documentation/9.5/examples/multiscenario_py.html)。"
   ]
  },
  {
   "cell_type": "markdown",
   "id": "57187c2f",
   "metadata": {},
   "source": [
    "## 现实中如何解决这个问题?"
   ]
  },
  {
   "cell_type": "markdown",
   "id": "a504980e",
   "metadata": {},
   "source": [
    "在知道每个站点需要多少单车后,需要将单车从一个站点实际移动到另一个站点。\n",
    "\n",
    "在高峰时段,交通已经很拥堵。因此,使用自行车拖车(通常可以容纳5辆自行车)来移动单车。\n",
    "\n",
    "在较轻的时段(主要是晚上),使用卡车转移单车。\n",
    "\n",
    "无论哪种情况,都需要从单车流入量较大的站点移除一些单车,并将其转移到单车流出量较大的站点以平衡它们。\n",
    "这个问题,即卡车需要从一个站点到另一个站点并接送单车,本身就是另一个数学优化问题。\n",
    "\n",
    "在这个问题中,我们需要确保所有需要接送的站点在特定时间窗口内被访问,目标可以是使用最少数量的卡车或最小的运输成本(例如,燃料成本加上使用卡车的成本)。这个问题是著名的带接送的车辆路径问题(VRP)的变体。\n",
    "要了解更多,请查看[这个网络研讨会](https://www.gurobi.com/resource/how-to-synchronize-complex-routing-operations-synched-vrps-with-gurobi/)"
   ]
  },
  {
   "cell_type": "code",
   "execution_count": null,
   "id": "e47e0051",
   "metadata": {},
   "outputs": [],
   "source": []
  }
 ],
 "metadata": {
  "kernelspec": {
   "display_name": "Python 3 (ipykernel)",
   "language": "python",
   "name": "python3"
  },
  "language_info": {
   "codemirror_mode": {
    "name": "ipython",
    "version": 3
   },
   "file_extension": ".py",
   "mimetype": "text/x-python",
   "name": "python",
   "nbconvert_exporter": "python",
   "pygments_lexer": "ipython3",
   "version": "3.9.7"
  },
  "varInspector": {
   "cols": {
    "lenName": 16,
    "lenType": 16,
    "lenVar": 40
   },
   "kernels_config": {
    "python": {
     "delete_cmd_postfix": "",
     "delete_cmd_prefix": "del ",
     "library": "var_list.py",
     "varRefreshCmd": "print(var_dic_list())"
    },
    "r": {
     "delete_cmd_postfix": ") ",
     "delete_cmd_prefix": "rm(",
     "library": "var_list.r",
     "varRefreshCmd": "cat(var_dic_list()) "
    }
   },
   "types_to_exclude": [
    "module",
    "function",
    "builtin_function_or_method",
    "instance",
    "_Feature"
   ],
   "window_display": false
  }
 },
 "nbformat": 4,
 "nbformat_minor": 5
}
