{
 "cells": [
  {
   "cell_type": "markdown",
   "id": "a3b6270b-424d-4ea3-bbf6-c3d3ed118d7a",
   "metadata": {},
   "source": [
    "# 练习集 2"
   ]
  },
  {
   "cell_type": "markdown",
   "id": "6db295a8-7128-40a9-9bf1-096c60f4bc1b",
   "metadata": {},
   "source": [
    "### 判断题"
   ]
  },
  {
   "cell_type": "markdown",
   "id": "5542c846-91d6-419b-b360-a4be51a89305",
   "metadata": {},
   "source": [
    "**问题1.** 假设本周的太阳能预测总量超过了总需求。在这种情况下，可以保证不会从电网购买能源。\n",
    "- 正确\n",
    "- `错误`"
   ]
  },
  {
   "cell_type": "markdown",
   "id": "f6934b39-c3d2-4595-ac2b-03dcce6fab8f",
   "metadata": {},
   "source": [
    "### 建模和编程"
   ]
  },
  {
   "cell_type": "code",
   "execution_count": null,
   "id": "55ba277f-b582-4162-9ed7-1758a6864116",
   "metadata": {},
   "outputs": [],
   "source": [
    "%pip install gurobipy\n",
    "\n",
    "import gurobipy as gp\n",
    "from gurobipy import GRB\n",
    "\n",
    "batteries = [\"Battery0\", \"Battery1\"]\n",
    "time_periods = range(180)\n",
    "capacity = {\"Battery0\": 60, \"Battery1\": 80} \n",
    "p_loss = {\"Battery0\": 0.95, \"Battery1\": 0.9} \n",
    "initial = {\"Battery0\": 20, \"Battery1\": 30} \n",
    "\n",
    "m = gp.Model() \n",
    "\n",
    "# flow_in = m.addVars(batteries, time_periods, name=\"flow_in\") \n",
    "# flow_out = m.addVars(batteries, time_periods, name=\"flow_out\")\n",
    "# grid = m.addVars(time_periods, name=\"grid\")\n",
    "# state = m.addVars(batteries, time_periods, name=\"state\") \n",
    "# gen = m.addVars(time_periods, name=\"gen\")"
   ]
  },
  {
   "cell_type": "markdown",
   "id": "6e39bd75-d9ce-453f-ac69-6a2f7c498890",
   "metadata": {},
   "source": [
    "欢迎使用上面被注释掉的代码进行复制粘贴。"
   ]
  },
  {
   "cell_type": "markdown",
   "id": "3defaedc-5960-40f7-b830-e387cb9b3c6b",
   "metadata": {},
   "source": [
    "**问题2.** 使用`addVars()`命令编写一行代码，为能源存储问题设置目标系数（最小化购买的电网电力）。通过将模型写入名为`model.lp`的文件来检查你的代码。"
   ]
  },
  {
   "cell_type": "code",
   "execution_count": null,
   "id": "c3c678e2-6f38-49f5-aa61-cfadbbd3130f",
   "metadata": {},
   "outputs": [],
   "source": [
    "#### gurobipy代码\n",
    "grid = m.addVars(time_periods, obj = 1, name=\"grid\")\n",
    "m.write('model.lp')"
   ]
  },
  {
   "cell_type": "markdown",
   "id": "5836149c-060a-4d03-89fa-16154b714be6",
   "metadata": {},
   "source": [
    "**问题3.** [放电深度](https://en.wikipedia.org/wiki/Depth_of_discharge)指的是电池电量低于其容量的百分比。为了帮助维护电池，施加了一个限制，即**两个电池合计**的放电深度不能超过**总容量**的70%。建立模型约束条件（用代数方式编写不等式）并编写gurobipy代码。\n",
    "\n",
    "**提示：** 如果出错，请确保你的生成器表达式在括号内，并考虑上方几个单元格中提到的初始状态。"
   ]
  },
  {
   "cell_type": "markdown",
   "id": "cb8a761f-b5fb-447f-9be5-fb1d6130b9ad",
   "metadata": {},
   "source": [
    "公式：\n",
    "$$\n",
    "\\begin{align*}\n",
    "\\sum_bs_{b,t} \\ge (1-0.7)*\\sum_bc_b, \\quad \\forall t \\in T\n",
    "\\end{align*}\n",
    "$$"
   ]
  },
  {
   "cell_type": "code",
   "execution_count": null,
   "id": "1e9d4938-aad8-4653-b5b8-cfa14b8e4ae9",
   "metadata": {},
   "outputs": [],
   "source": [
    "#### gurobipy代码\n",
    "state = m.addVars(batteries, time_periods, name=\"state\") \n",
    "depth_of_discharge = m.addConstrs((gp.quicksum(state[b,t] for b in batteries) >= 0.3*sum(capacity[b] for b in batteries) for t in time_periods), name = 'depth_restriction')"
   ]
  },
  {
   "cell_type": "markdown",
   "id": "c868cddd-fd51-4dac-8783-ca4ef8ab6fae",
   "metadata": {},
   "source": [
    "**问题4.** 在每天开始时（第一天除外），要求每个电池至少充满40%。每天开始的时间段为30、60、90、120和150。制定这些约束条件并编写gurobipy代码。不必担心太阳能预测和**问题3**中的约束条件。"
   ]
  },
  {
   "cell_type": "markdown",
   "id": "194cfcbc-359c-4b32-b2fc-4b54ccdd303f",
   "metadata": {},
   "source": [
    "公式：\n",
    "$$\n",
    "\\begin{align*}\n",
    "s_{b,t} \\ge 0.4*c_b, \\quad \\forall t \\in [30,60,90,120,150]\n",
    "\\end{align*}\n",
    "$$"
   ]
  },
  {
   "cell_type": "code",
   "execution_count": null,
   "id": "616de220-f53b-460c-b098-2e02d21fc273",
   "metadata": {},
   "outputs": [],
   "source": [
    "#### gurobipy代码\n",
    "m = gp.Model() # 再次定义模型以确保它被重置\n",
    "state = m.addVars(batteries, time_periods, name=\"state\") \n",
    "start_of_day = m.addConstrs((state[b,t] >= 0.4*capacity[b] for b in batteries for t in [30,60,90,120,150]), name = 'start_of_day') #in time_periods if t"
   ]
  },
  {
   "cell_type": "markdown",
   "id": "c30485e8-6883-4f3c-9220-a6650e793f8b",
   "metadata": {},
   "source": [
    "### 使用二元变量建模\n",
    "\n",
    "你有五个灯泡。设$y_i = 1$表示灯泡$i$是开启的，$y_i = 0$表示灯泡是关闭的，对于$\\space i \\in \\{1,2,3,4,5\\}$。使用二元变量和$\\le,\\space\\ge,\\space=$来建模以下陈述。所有问题彼此独立。"
   ]
  },
  {
   "cell_type": "markdown",
   "id": "8500fa22-9536-4266-a80b-f9e677171d29",
   "metadata": {},
   "source": [
    "**问题4.** 最多只能开启三个灯泡。\n",
    "$$\n",
    "\\begin{align*}\n",
    "\\sum_i y_i \\le 3\n",
    "\\end{align*}\n",
    "$$"
   ]
  },
  {
   "cell_type": "markdown",
   "id": "fd67c59e-fd98-4f63-9a49-d3c91302332b",
   "metadata": {},
   "source": [
    "**问题5.** 灯泡2或灯泡3必须开启。\n",
    "$$\n",
    "\\begin{align*}\n",
    "y_2 + y_3 \\ge 1\n",
    "\\end{align*}\n",
    "$$"
   ]
  },
  {
   "cell_type": "markdown",
   "id": "84ba908d-ca27-4278-be80-3b0d86d0d862",
   "metadata": {},
   "source": [
    "**问题6.** 如果灯泡1开启，那么灯泡5也开启。\n",
    "$$\n",
    "\\begin{align*} \n",
    "y_1 \\le y_5\n",
    "\\end{align*}\n",
    "$$"
   ]
  },
  {
   "cell_type": "markdown",
   "id": "85ffcb81-53bf-4d3f-85c0-ae14dbc34664",
   "metadata": {},
   "source": [
    "**问题7.** 如果灯泡1关闭，那么灯泡3开启。\n",
    "$$\n",
    "\\begin{align*} \n",
    "1-y_1 \\le y_3\n",
    "\\end{align*}\n",
    "$$"
   ]
  },
  {
   "cell_type": "markdown",
   "id": "82b39e21-c89f-4bbc-9498-0522dff56141",
   "metadata": {},
   "source": [
    "**问题8.** 如果灯泡1关闭，那么灯泡2关闭。\n",
    "$$\n",
    "\\begin{align*} \n",
    "1-y_1 &\\le 1-y_2 \\\\\n",
    "y_1 &\\ge y_2\n",
    "\\end{align*}\n",
    "$$"
   ]
  },
  {
   "cell_type": "markdown",
   "id": "043015c9-68d3-4e7a-af5d-7d2a87f28c2c",
   "metadata": {},
   "source": [
    "**问题9.** 灯泡2和灯泡4处于相反的开/关状态。\n",
    "$$\n",
    "\\begin{align*} \n",
    "y_2 =& 1-y_4 \\\\\n",
    "y_2 + y_4 =& 1\n",
    "\\end{align*}\n",
    "$$"
   ]
  },
  {
   "cell_type": "markdown",
   "id": "1e7396d3-cbc4-416d-be28-95a07e3c243a",
   "metadata": {},
   "source": [
    "**问题10.** 如果灯泡1到4中的任何一个开启，那么灯泡5也开启。\n",
    "$$\n",
    "\\begin{align*}\n",
    "y_1 + y_2 + y_3 + y_4 \\le 4y_5\n",
    "\\end{align*}\n",
    "$$"
   ]
  },
  {
   "cell_type": "code",
   "execution_count": null,
   "id": "d271c17f-ea69-4523-87a4-e2a407d51700",
   "metadata": {},
   "outputs": [],
   "source": []
  }
 ],
 "metadata": {
  "kernelspec": {
   "display_name": "Python 3 (ipykernel)",
   "language": "python",
   "name": "python3"
  },
  "language_info": {
   "codemirror_mode": {
    "name": "ipython",
    "version": 3
   },
   "file_extension": ".py",
   "mimetype": "text/x-python",
   "name": "python",
   "nbconvert_exporter": "python",
   "pygments_lexer": "ipython3",
   "version": "3.9.7"
  },
  "toc-autonumbering": false,
  "toc-showcode": false,
  "toc-showmarkdowntxt": false
 },
 "nbformat": 4,
 "nbformat_minor": 5
}
