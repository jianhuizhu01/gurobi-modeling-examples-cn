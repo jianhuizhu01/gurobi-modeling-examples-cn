{
 "cells": [
  {
   "cell_type": "markdown",
   "id": "a3b6270b-424d-4ea3-bbf6-c3d3ed118d7a",
   "metadata": {},
   "source": [
    "# 练习集 2"
   ]
  },
  {
   "cell_type": "markdown",
   "id": "6db295a8-7128-40a9-9bf1-096c60f4bc1b",
   "metadata": {},
   "source": [
    "### 判断题"
   ]
  },
  {
   "cell_type": "markdown",
   "id": "5542c846-91d6-419b-b360-a4be51a89305",
   "metadata": {},
   "source": [
    "**问题1.** 假设一周的太阳能预测总能量超过了总需求。在这种情况下，保证不会从电网购买能量。\n",
    "- 正确\n",
    "- 错误"
   ]
  },
  {
   "cell_type": "markdown",
   "id": "f6934b39-c3d2-4595-ac2b-03dcce6fab8f",
   "metadata": {},
   "source": [
    "### 建模和编程"
   ]
  },
  {
   "cell_type": "code",
   "execution_count": null,
   "id": "55ba277f-b582-4162-9ed7-1758a6864116",
   "metadata": {},
   "outputs": [],
   "source": [
    "%pip install gurobipy\n",
    "\n",
    "import gurobipy as gp\n",
    "from gurobipy import GRB\n",
    "\n",
    "batteries = [\"Battery0\", \"Battery1\"]\n",
    "time_periods = range(180)\n",
    "capacity = {\"Battery0\": 60, \"Battery1\": 80} \n",
    "p_loss = {\"Battery0\": 0.95, \"Battery1\": 0.9} \n",
    "initial = {\"Battery0\": 20, \"Battery1\": 30} \n",
    "\n",
    "m = gp.Model() \n",
    "\n",
    "# flow_in = m.addVars(batteries, time_periods, name=\"flow_in\") \n",
    "# flow_out = m.addVars(batteries, time_periods, name=\"flow_out\")\n",
    "# grid = m.addVars(time_periods, name=\"grid\")\n",
    "# state = m.addVars(batteries, time_periods, name=\"state\") \n",
    "# gen = m.addVars(time_periods, name=\"gen\")"
   ]
  },
  {
   "cell_type": "markdown",
   "id": "6e39bd75-d9ce-453f-ac69-6a2f7c498890",
   "metadata": {},
   "source": [
    "随意使用上面被注释的代码进行复制粘贴。"
   ]
  },
  {
   "cell_type": "markdown",
   "id": "3defaedc-5960-40f7-b830-e387cb9b3c6b",
   "metadata": {},
   "source": [
    "**问题2.** 编写一行代码，使用`addVars()`命令设置能量存储问题的目标系数（最小化购买的电网电力）。通过将模型写入名为`model.lp`的文件来检查你的代码。"
   ]
  },
  {
   "cell_type": "code",
   "execution_count": null,
   "id": "c3c678e2-6f38-49f5-aa61-cfadbbd3130f",
   "metadata": {},
   "outputs": [],
   "source": [
    "#### gurobipy代码\n",
    "\n"
   ]
  },
  {
   "cell_type": "markdown",
   "id": "5836149c-060a-4d03-89fa-16154b714be6",
   "metadata": {},
   "source": [
    "**问题3.** [放电深度](https://en.wikipedia.org/wiki/Depth_of_discharge)指的是电池电量低于其容量的百分比。为了帮助维护电池，规定**两个电池合计**的放电深度不能超过**总容量**的70%。制定约束条件（用代数不等式写出）来建模此情况，并编写gurobipy代码。\n",
    "\n",
    "**提示：** 如果你遇到错误，请确保你的生成器表达式用括号括起来，并考虑上面几个单元格中的初始状态。"
   ]
  },
  {
   "cell_type": "markdown",
   "id": "cb8a761f-b5fb-447f-9be5-fb1d6130b9ad",
   "metadata": {},
   "source": [
    "建模：\n",
    "\n",
    "\n"
   ]
  },
  {
   "cell_type": "code",
   "execution_count": null,
   "id": "1e9d4938-aad8-4653-b5b8-cfa14b8e4ae9",
   "metadata": {},
   "outputs": [],
   "source": [
    "#### gurobipy代码\n",
    "state = m.addVars(batteries, time_periods, name=\"state\") \n",
    "\n"
   ]
  },
  {
   "cell_type": "markdown",
   "id": "c868cddd-fd51-4dac-8783-ca4ef8ab6fae",
   "metadata": {},
   "source": [
    "**问题4.** 在每天开始时（除了第一天），要求每个电池至少充满40%。每天开始的时间段为30、60、90、120和150。制定这些约束条件并编写gurobipy代码。不必考虑太阳能预测或**问题3**中的约束。"
   ]
  },
  {
   "cell_type": "markdown",
   "id": "194cfcbc-359c-4b32-b2fc-4b54ccdd303f",
   "metadata": {},
   "source": [
    "建模："
   ]
  },
  {
   "cell_type": "code",
   "execution_count": null,
   "id": "616de220-f53b-460c-b098-2e02d21fc273",
   "metadata": {},
   "outputs": [],
   "source": [
    "#### gurobipy代码\n",
    "m = gp.Model() # 重新定义模型以确保它被重置\n",
    "state = m.addVars(batteries, time_periods, name=\"state\") \n",
    "\n"
   ]
  },
  {
   "cell_type": "markdown",
   "id": "c30485e8-6883-4f3c-9220-a6650e793f8b",
   "metadata": {},
   "source": [
    "### 使用二进制变量建模\n",
    "\n",
    "你有五个灯泡，它们可以处于开或关的状态。令$y_i = 1$表示灯泡$i$处于开启状态，$y_i = 0$表示灯泡处于关闭状态，其中$\\space i \\in \\{1,2,3,4,5\\}$。使用二进制变量和$\\le,\\space\\ge,\\space=$对以下语句进行建模。所有问题相互独立。"
   ]
  },
  {
   "cell_type": "markdown",
   "id": "8500fa22-9536-4266-a80b-f9e677171d29",
   "metadata": {},
   "source": [
    "**问题4.** 最多只能有三个灯泡处于开启状态。"
   ]
  },
  {
   "cell_type": "markdown",
   "id": "fd67c59e-fd98-4f63-9a49-d3c91302332b",
   "metadata": {},
   "source": [
    "**问题5.** 灯泡2或灯泡3必须处于开启状态。"
   ]
  },
  {
   "cell_type": "markdown",
   "id": "84ba908d-ca27-4278-be80-3b0d86d0d862",
   "metadata": {},
   "source": [
    "**问题6.** 如果灯泡1处于开启状态，那么灯泡5也处于开启状态。"
   ]
  },
  {
   "cell_type": "markdown",
   "id": "85ffcb81-53bf-4d3f-85c0-ae14dbc34664",
   "metadata": {},
   "source": [
    "**问题7.** 如果灯泡1处于关闭状态，那么灯泡3处于开启状态。"
   ]
  },
  {
   "cell_type": "markdown",
   "id": "82b39e21-c89f-4bbc-9498-0522dff56141",
   "metadata": {},
   "source": [
    "**问题8.** 如果灯泡1处于关闭状态，那么灯泡2也处于关闭状态。"
   ]
  },
  {
   "cell_type": "markdown",
   "id": "043015c9-68d3-4e7a-af5d-7d2a87f28c2c",
   "metadata": {},
   "source": [
    "**问题9.** 灯泡2和灯泡4处于相反的开/关状态。"
   ]
  },
  {
   "cell_type": "markdown",
   "id": "1e7396d3-cbc4-416d-be28-95a07e3c243a",
   "metadata": {},
   "source": [
    "**问题10.** 如果灯泡1到4中的任何一个处于开启状态，那么灯泡5也处于开启状态。"
   ]
  },
  {
   "cell_type": "code",
   "execution_count": null,
   "id": "ac311889-c0b1-41d9-936a-ea93109290f2",
   "metadata": {},
   "outputs": [],
   "source": []
  }
 ],
 "metadata": {
  "kernelspec": {
   "display_name": "Python 3 (ipykernel)",
   "language": "python",
   "name": "python3"
  },
  "language_info": {
   "codemirror_mode": {
    "name": "ipython",
    "version": 3
   },
   "file_extension": ".py",
   "mimetype": "text/x-python",
   "name": "python",
   "nbconvert_exporter": "python",
   "pygments_lexer": "ipython3",
   "version": "3.9.7"
  },
  "toc-autonumbering": false,
  "toc-showcode": false,
  "toc-showmarkdowntxt": false
 },
 "nbformat": 4,
 "nbformat_minor": 5
}
