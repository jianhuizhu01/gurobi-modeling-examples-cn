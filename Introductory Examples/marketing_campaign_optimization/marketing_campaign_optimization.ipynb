{
 "cells": [
  {
   "cell_type": "markdown",
   "metadata": {},
   "source": [
    "# 营销活动优化"
   ]
  },
  {
   "cell_type": "markdown",
   "metadata": {},
   "source": [
    "## 目标和前提条件\n",
    "\n",
    "几乎所有行业的公司都在寻求优化其营销活动。在本Jupyter笔记本中，我们将探讨银行和金融服务行业常见的营销活动优化问题，该问题涉及确定向个别客户提供哪些产品，以在满足各种业务约束的同时实现预期总利润最大化。您将学习如何制定问题的数学优化模型（使用机器学习预测响应模型作为参数），并使用Gurobi优化器求解。\n",
    "\n",
    "这个建模示例属于初级水平，我们假设您了解Python，并且对构建数学优化模型有一定了解。读者还应参考Gurobi Python API的[文档](https://www.gurobi.com/resources/?category-filter=documentation)。\n",
    "\n",
    "**下载代码库** <br />\n",
    "您可以通过点击[这里](https://github.com/Gurobi/modeling-examples/archive/master.zip)下载包含此示例和其他示例的代码库。"
   ]
  },
  {
   "cell_type": "markdown",
   "metadata": {},
   "source": [
    "## 动机\n",
    "\n",
    "银行和金融服务业营销的主要目标是\"在正确的时间向正确的客户提供正确的产品\"。然而，实际实现这个目标是一个复杂且具有挑战性的任务。尤其困难的是，公司拥有多种产品并在复杂的业务约束下运营。在满足业务约束的同时选择向哪些客户提供哪些产品以最大化营销投资回报率是极其复杂的。\n",
    "\n",
    "考虑一家主要银行，该银行已经做出了成为以客户为中心的机构的明确努力，而不是垂直产品驱动的公司。该银行的目标是\"通过为客户的特定需求提供相关解决方案，帮助客户在财务上变得更好\"。这个目标的直接结果是营销活动是多产品活动，而不是单一产品活动。这将数据科学和活动定位过程从单个响应模型的相对简单应用转变为涉及选择向哪个客户通过哪个渠道提供哪个产品的更复杂过程。\n",
    "\n",
    "该银行的营销团队习惯于直接应用业务规则来锁定客户。例如，他们仅根据客户的产品缺口或营销人员的商业直觉来锁定客户。该银行的营销人员还应用了RFM类型的分析，其中使用一般的近期性、频率和货币度量以及产品缺口来为特定优惠锁定客户。\n",
    "\n",
    "营销团队当前的方法（广泛使用）依赖于预测响应模型来锁定客户进行优惠。这些模型估计客户对特定优惠做出响应的概率，可以显著提高产品优惠的响应率。然而，当公司有多个产品要推广并且需要考虑其他业务约束时，仅仅知道客户对特定优惠的响应概率是不够的。\n",
    "\n",
    "一般来说，营销团队还面临着了解向客户提供哪些产品的问题，而不仅仅是向哪些客户提供产品。在实践中，使用了许多临时规则：\n",
    "\n",
    "* 基于响应率或估计预期盈利能力措施的优先级规则\n",
    "\n",
    "* 用于确定可营销产品优先级的业务规则\n",
    "\n",
    "* 用于为特定活动选择客户的产品响应模型\n",
    "\n",
    "一种容易实施但可能无法产生最佳客户联系计划的方法是依靠预期优惠盈利能力的衡量来选择向客户提供哪些产品。然而，这种方法的一个缺点是无法有效处理客户联系计划的复杂约束。\n",
    "\n",
    "为解决这个营销活动优化问题，M. D. Cohen [1]提出了一个使用丰业银行数据的MIP方法。考虑的营销活动优化问题包括十一个独特的优惠：五个投资、三个贷款和三个日常银行业务优惠。投资优惠包括保证投资存单(GIC)、共同基金、注册教育储蓄计划(RESP)和两个独特的折扣经纪优惠。贷款优惠包括一个抵押贷款和两个信用卡优惠。日常银行业务优惠包括两个丰业在线银行服务优惠之一和一个存款账户获取。这里使用的术语\"活动\"意味着一个由十一个不同优惠组成的大型主动客户联系活动；它可以被认为是在大致相同时间向非重叠客户群提供的十一个单一产品活动。该活动的潜在目标市场包括约250万客户。\n",
    "\n",
    "\n",
    "在本Jupyter笔记本中，我们将使用这种MIP方法来解决银行的营销活动优化问题。值得注意的是，几乎任何行业的公司都可以使用这种方法来优化其营销活动，同时考虑其业务约束。\n"
   ]
  },
  {
   "cell_type": "markdown",
   "metadata": {},
   "source": [
    "## 问题描述\n",
    "银行的营销团队需要确定以何种方式向每个客户提供产品，以最大化营销活动投资回报，同时考虑以下约束：\n",
    "\n",
    "* 活动可用资金限制。\n",
    "* 在活动中可以提供的最少产品数量的限制。\n",
    "* 必须满足的活动投资回报率门槛。"
   ]
  },
  {
   "cell_type": "markdown",
   "metadata": {},
   "source": [
    "## 解决方案方法\n",
    "\n",
    "数学规划是一种声明性方法，模型制定者通过制定数学优化模型来捕捉复杂决策问题的关键方面。Gurobi优化器使用最先进的数学和计算机科学来求解这些模型。\n",
    "\n",
    "数学优化模型有五个组成部分，即：\n",
    "\n",
    "* 集合和索引。\n",
    "* 参数。\n",
    "* 决策变量。\n",
    "* 目标函数。\n",
    "* 约束条件。\n",
    "\n",
    "我们现在为这个营销活动优化问题提出一种MIP方法。\n",
    "\n",
    "Cohen [1]提出的MIP解决方案方法是对传统的逐步选择最大预期值客户方法的改进，因为它从银行的角度产生全局最优解，并允许在客户和业务单元之间有效实施业务约束。该方法考虑了有限的资源和其他业务约束。\n",
    "\n",
    "我们假设客户/优惠预期增量利润、成本和业务约束的估计值作为营销活动优化方法的输入。优化阶段独立于这些输入的构建。\n",
    "\n",
    "MIP方法涉及战术问题和操作问题。对于战术问题，我们根据个体预期利润参数对客户进行聚类。个体预期利润的估计可以通过数据科学技术（如预测响应模型）来确定。关键思想是对个体预期利润进行聚类，然后将聚类中心视为单个聚类中所有个体客户数据的代表。这种聚合使得问题可以被表述为线性规划问题，因此模型识别每个聚类中每个产品优惠的比例，以最大化营销活动投资回报，同时考虑业务约束。通常，每个聚类中的客户数量将达到数十万，这是战术问题的主要决策变量，因此这些变量可以被视为连续变量；因此，线性规划方法是合理的。\n",
    "\n",
    "操作问题可以表述为MIP模型，其中个体预期利润的估计值和战术模型的输出可以用作输入，以便在每个聚类中为个体客户分配产品优惠，从而最大化总营销活动投资回报。"
   ]
  },
  {
   "cell_type": "markdown",
   "metadata": {},
   "source": [
    "## 战术模型公式\n",
    "\n",
    "### 集合和索引\n",
    "$k \\in K$: 聚类的索引和集合。\n",
    "\n",
    "$j \\in J$: 产品的索引和集合。\n",
    "\n",
    "### 参数\n",
    "$\\pi_{k,j}$: 向聚类$k \\in K$的平均客户提供产品$j \\in J$的预期利润。\n",
    "\n",
    "$\\nu_{k,j}$: 向聚类$k \\in K$的平均客户提供产品$j \\in J$的平均可变成本。\n",
    "  \n",
    "$N_{k}$: 聚类$k \\in K$中的客户数量。\n",
    "\n",
    "$Q_{j}$: 产品$j \\in J$的最少优惠数量。\n",
    "\n",
    "$R$: 企业门槛率。此门槛率用于营销活动的ROI计算。\n",
    "\n",
    "$B$: 营销活动预算。\n",
    "\n",
    "$M$: 大M惩罚。此惩罚与满足其他业务约束所需的预算修正相关。\n",
    " \n",
    "\n",
    "### 决策变量\n",
    "$y_{k,j} \\geq 0$: 向聚类$k \\in K$中的客户提供产品$j \\in J$的数量。\n",
    "\n",
    "$z \\geq 0$: 为了使活动可行而增加的预算。\n",
    "\n",
    "### 目标函数\n",
    "- **总利润**。最大化营销活动的总预期利润，并严重惩罚任何预算修正。\n",
    "\n",
    "\\begin{equation}\n",
    "\\text{Max} \\quad Z = \\sum_{k \\in K} \\sum_{j \\in J} \\pi_{k,j} \\cdot y_{k,j} - M \\cdot z\n",
    "\\tag{0}\n",
    "\\end{equation}\n",
    "\n",
    "### 约束条件\n",
    "\n",
    "- **优惠数量**。每个聚类的产品优惠数量最多受限于聚类中的客户数量。\n",
    "\n",
    "\\begin{equation}\n",
    "\\sum_{j \\in J} y_{k,j} \\leq N_{k} \\quad \\forall k \\in K\n",
    "\\tag{1}\n",
    "\\end{equation}\n",
    "\n",
    "- **预算**。营销活动预算约束强制要求活动的总成本应小于预算活动。为了确保模型的可行性，有可能增加预算，因为所有产品的最少优惠数量可能需要增加预算。\n",
    "\n",
    "\\begin{equation}\n",
    "\\sum_{k \\in K} \\sum_{j \\in J} \\nu_{k,j} \\cdot y_{k,j} \\leq B + z\n",
    "\\tag{2}\n",
    "\\end{equation}\n",
    "\n",
    "- **优惠限制**。每种产品的最少优惠数量。\n",
    "\n",
    "\\begin{equation}\n",
    "\\sum_{k \\in K} y_{k,j} \\geq Q_{j}  \\quad \\forall j \\in J\n",
    "\\tag{3}\n",
    "\\end{equation}\n",
    "\n",
    "- **ROI**。最小ROI约束确保总利润与成本的比率至少为企业门槛率加一。\n",
    "\n",
    "\\begin{equation}\n",
    "\\sum_{k \\in K} \\sum_{j \\in J} \\pi_{k,j} \\cdot y_{k,j} \\geq (1+R) \\cdot \\sum_{k \\in K} \\sum_{j \\in J} \\nu_{k,j} \\cdot y_{k,j}\n",
    "\\tag{4}\n",
    "\\end{equation}\n"
   ]
  },
  {
   "cell_type": "markdown",
   "metadata": {},
   "source": [
    "## 操作模型公式\n",
    "\n",
    "一旦找到了战术模型的最优值$y_{k,j}$，对于所有$j \\in J$和$k \\in K$，我们应该确定聚类$k$中的哪些个体客户应该获得产品优惠。假设对于给定的聚类$k \\in K$，产品$j_1$和$j_2$的优惠分配是正的，即$y_{k,j_1} > 0$和$y_{k,j_2} > 0$。然后，聚类$k$中的$y_{k,j_1}$和$y_{k,j_2}$客户必须分别获得产品$j_1$和$j_2$的优惠。最优的方法是使用个体客户的预期利润而不是聚类的预期利润来解决分配问题。\n",
    "\n",
    "我们现在提供操作问题的公式。\n",
    "\n",
    "### 集合和索引\n",
    "$i \\in I^{k}$: 聚类$k \\in K$中的客户索引和集合。\n",
    "\n",
    "$j \\in J^{k}$: 聚类$k \\in K$中提供给客户的产品索引和子集，其中$J^{k} = \\{ j \\in J: y_{k,j} > 0 \\}$。\n",
    "\n",
    "### 参数\n",
    "\n",
    "$r_{k,i,j}$: 客户$i \\in I^{k}$从产品$j \\in J^{k}$的优惠中获得的预期个体利润。\n",
    "\n",
    "$Y_{k,j} = \\lfloor y_{k,j} \\rfloor $: 聚类$k$中将获得产品$j \\in J^{k}$优惠的客户数量。\n",
    "\n",
    "### 决策变量\n",
    "$x_{k,i,j} \\in \\{0,1 \\}$: 如果产品$j \\in J^{k}$提供给客户$i \\in I^{k}$，则该变量等于1，否则为0。\n",
    "\n",
    "\n",
    "\n",
    "### 目标函数\n",
    "- **总利润**。最大化总个体利润。\n",
    "\n",
    "\\begin{equation}\n",
    "\\text{Max} \\quad Z = \\sum_{k \\in K} \\sum_{i \\in I^{k}} \\sum_{j \\in J^{k}} r_{k,i,j} \\cdot x_{k,i,j}\n",
    "\\tag{0}\n",
    "\\end{equation}\n",
    "\n",
    "\n",
    "### 约束条件\n",
    "\n",
    "- **产品优惠**。将产品优惠分配给每个聚类的客户。\n",
    "\n",
    "\\begin{equation}\n",
    "\\sum_{i \\in  I^{k}}  x_{k,i,j} = Y_{k,j}  \\quad \\forall j \\in J^{k}, k \\in K\n",
    "\\tag{1}\n",
    "\\end{equation}\n",
    "\n",
    "\n",
    "- **优惠限制**。每个聚类的客户最多可以获得一个产品优惠。\n",
    "\n",
    "\\begin{equation}\n",
    "\\sum_{j \\in J^{k}} x_{k,i,j} \\leq 1 \\quad \\forall i \\in I^{k}, k \\in K\n",
    "\\tag{2}\n",
    "\\end{equation}\n",
    "\n",
    "- **二进制约束**。要么向聚类$k$的客户提供产品优惠，要么不提供。\n",
    "\n",
    "\\begin{equation}\n",
    "x_{k,i,j} \\in \\{0,1 \\} \\quad \\forall i \\in I^{k},  j \\in J^{k}, k \\in K\n",
    "\\tag{3}\n",
    "\\end{equation}\n"
   ]
  },
  {
   "cell_type": "markdown",
   "metadata": {},
   "source": [
    "## 问题实例\n",
    "\n",
    "我们考虑两个产品、十个客户和两个客户聚类。企业门槛率为20%。\n",
    "\n",
    "### 战术问题数据\n",
    "\n",
    "下表定义了向每个聚类的平均客户提供产品时的预期利润。\n",
    "\n",
    "| <i></i> | 产品1 | 产品2 |\n",
    "| --- | --- |  --- |\n",
    "| 聚类1 | $\\$2,000$ | $\\$1,000$ |\n",
    "| 聚类2 | $\\$3,000$ | $\\$2,000$ |\n",
    "\n",
    "向每个聚类的平均客户提供产品的预期成本由下表确定。\n",
    "\n",
    "| <i></i> | 产品1 | 产品2 |\n",
    "| --- | --- |  --- |\n",
    "| 聚类1 | $\\$200$ | $\\$100$ |\n",
    "| 聚类2 | $\\$300$ | $\\$200$ |\n",
    "\n",
    "营销活动的可用预算为$\\$200$。\n",
    "\n",
    "每个聚类的客户数量如下表所示。\n",
    "\n",
    "| <i></i> | 客户数量 | \n",
    "| --- | --- |\n",
    "| 聚类1 | 5 |\n",
    "| 聚类2 | 5 | \n",
    "\n",
    "每种产品的最少优惠数量如下表所示，\n",
    "\n",
    "| <i></i> | 最少优惠数量 | \n",
    "| --- | --- |\n",
    "| 产品1 | 2 |\n",
    "| 产品2 | 2 | \n",
    "\n",
    "### 操作问题数据\n",
    "\n",
    "下表显示了向每个聚类的客户提供产品时的预期利润。\n",
    "\n",
    "| <i></i> | 产品1 | 产品2 |\n",
    "| --- | --- |  --- |\n",
    "| 聚类1，客户1 | $\\$2,050$ | $\\$1,050$ |\n",
    "| 聚类1，客户2 | $\\$1,950$ | $\\$950$ |\n",
    "| 聚类1，客户3 | $\\$2,000$ | $\\$1,000$ |\n",
    "| 聚类1，客户4 | $\\$2,100$ | $\\$1,100$ |\n",
    "| 聚类1，客户5 | $\\$1,900$ | $\\$900$ |\n",
    "| 聚类2，客户6 | $\\$3,000$ | $\\$2,000$ |\n",
    "| 聚类2，客户7 | $\\$2,900$ | $\\$1,900$ |\n",
    "| 聚类2，客户8 | $\\$3,050$ | $\\$2,050$ |\n",
    "| 聚类2，客户9 | $\\$3,100$ | $\\$2,100$ |\n",
    "| 聚类2，客户10 | $\\$2,950$ | $\\$1,950$ |\n",
    "\n",
    "下表显示了向每个聚类的客户提供产品的成本。\n",
    "\n",
    "| <i></i> | 产品1 | 产品2 |\n",
    "| --- | --- |  --- |\n",
    "| 聚类1，客户1 | $\\$205$ | $\\$105$ |\n",
    "| 聚类1，客户2 | $\\$195$ | $\\$95$ |\n",
    "| 聚类1，客户3 | $\\$200$ | $\\$100$ |\n",
    "| 聚类1，客户4 | $\\$210$ | $\\$110$ |\n",
    "| 聚类1，客户5 | $\\$190$ | $\\$90$ |\n",
    "| 聚类2，客户6 | $\\$300$ | $\\$200$ |\n",
    "| 聚类2，客户7 | $\\$290$ | $\\$190$ |\n",
    "| 聚类2，客户8 | $\\$305$ | $\\$205$ |\n",
    "| 聚类2，客户9 | $\\$310$ | $\\$210$ |\n",
    "| 聚类2，客户10 | $\\$295$ | $\\$195$ |"
   ]
  },
  {
   "cell_type": "markdown",
   "metadata": {},
   "source": [
    "## Python实现\n",
    "\n",
    "我们现在导入Gurobi Python模块。然后，我们使用给定的数据初始化数据结构。"
   ]
  },
  {
   "cell_type": "code",
   "execution_count": null,
   "metadata": {},
   "outputs": [],
   "source": [
    "# %pip install gurobipy"
   ]
  },
  {
   "cell_type": "code",
   "execution_count": null,
   "metadata": {},
   "outputs": [],
   "source": [
    "import gurobipy as gp\n",
    "from gurobipy import GRB\n",
    "\n",
    "# 使用Gurobi v9.0.0和Python 3.7.0测试\n",
    "\n",
    "### 集合\n",
    "\n",
    "products = ['p1', 'p2']\n",
    "clusters = ['k1', 'k2']"
   ]
  },
  {
   "cell_type": "markdown",
   "metadata": {},
   "source": [
    "### 预期利润\n",
    "\n",
    "下表显示了向每个聚类的客户提供产品时的预期利润。\n",
    "\n",
    "| <i></i> | 产品1 | 产品2 |\n",
    "| --- | --- |  --- |\n",
    "| 聚类1 | $\\$2,000$ | $\\$1,000$ |\n",
    "| 聚类2 | $\\$3,000$ | $\\$2,000$ |"
   ]
  },
  {
   "cell_type": "code",
   "execution_count": null,
   "metadata": {},
   "outputs": [],
   "source": [
    "### 参数\n",
    "\n",
    "# 预期利润\n",
    "cp, expected_profit = gp.multidict({\n",
    "    ('k1', 'p1'): 2000,\n",
    "    ('k1', 'p2'): 1000,\n",
    "    ('k2', 'p1'): 3000,\n",
    "    ('k2', 'p2'): 2000\n",
    "})\n"
   ]
  },
  {
   "cell_type": "markdown",
   "metadata": {},
   "source": [
    "### 预期成本\n",
    "\n",
    "下表显示了向每个聚类的客户提供产品的预期成本。\n",
    "\n",
    "| <i></i> | 产品1 | 产品2 |\n",
    "| --- | --- |  --- |\n",
    "| 聚类1 | $\\$200$ | $\\$100$ |\n",
    "| 聚类2 | $\\$300$ | $\\$200$ |"
   ]
  },
  {
   "cell_type": "code",
   "execution_count": null,
   "metadata": {},
   "outputs": [],
   "source": [
    "# 预期成本\n",
    "\n",
    "cp, expected_cost = gp.multidict({\n",
    "    ('k1', 'p1'): 200,\n",
    "    ('k1', 'p2'): 100,\n",
    "    ('k2', 'p1'): 300,\n",
    "    ('k2', 'p2'): 200\n",
    "})"
   ]
  },
  {
   "cell_type": "markdown",
   "metadata": {},
   "source": [
    "### 客户数量\n",
    "下表显示了每个聚类的客户数量。\n",
    "\n",
    "| <i></i> | 客户数量 | \n",
    "| --- | --- |\n",
    "| 聚类1 | 5 |\n",
    "| 聚类2 | 5 | "
   ]
  },
  {
   "cell_type": "code",
   "execution_count": null,
   "metadata": {},
   "outputs": [],
   "source": [
    "# 每个聚类的客户数量\n",
    "\n",
    "clusters, number_customers = gp.multidict({\n",
    "    ('k1'): 5,\n",
    "    ('k2'): 5\n",
    "})"
   ]
  },
  {
   "cell_type": "markdown",
   "metadata": {},
   "source": [
    "### 最少优惠数量\n",
    "\n",
    "下表显示了每种产品的最少优惠数量。\n",
    "\n",
    "| <i></i> | 最少优惠数量 | \n",
    "| --- | --- |\n",
    "| 产品1 | 2 |\n",
    "| 产品2 | 2 | "
   ]
  },
  {
   "cell_type": "code",
   "execution_count": null,
   "metadata": {},
   "outputs": [],
   "source": [
    "# 每个产品的最小优惠数量\n",
    "\n",
    "products, min_offers = gp.multidict({\n",
    "    ('p1'): 2,\n",
    "    ('p2'): 2\n",
    "})"
   ]
  },
  {
   "cell_type": "markdown",
   "metadata": {},
   "source": [
    "### 标量\n",
    "\n",
    "企业门槛率为20%（$R = 0.20$）。\n",
    "\n",
    "营销活动的可用预算为$\\$200$。\n"
   ]
  },
  {
   "cell_type": "code",
   "execution_count": null,
   "metadata": {},
   "outputs": [],
   "source": [
    "# 标量\n",
    "\n",
    "R = 0.20\n",
    "\n",
    "#紧张预算\n",
    "budget = 200 "
   ]
  },
  {
   "cell_type": "markdown",
   "metadata": {},
   "source": [
    "## 战术模型公式\n",
    " \n",
    "\n",
    "### 决策变量\n",
    "$y_{k,j} \\geq 0$: 向聚类$k \\in K$中的客户提供产品$j \\in J$的数量。\n",
    "\n",
    "$z \\geq 0$: 为了使活动可行而增加的预算。"
   ]
  },
  {
   "cell_type": "code",
   "execution_count": null,
   "metadata": {},
   "outputs": [
    {
     "name": "stdout",
     "output_type": "stream",
     "text": [
      "Using license file c:\\gurobi\\gurobi.lic\n"
     ]
    }
   ],
   "source": [
    "# 声明和初始化模型\n",
    "mt = gp.Model('Tactical')\n",
    "\n",
    "### 决策变量\n",
    "\n",
    "# 分配产品优惠给聚类中的客户\n",
    "\n",
    "y = mt.addVars(cp, name=\"allocate\")\n",
    "\n",
    "# 预算修正\n",
    "\n",
    "z = mt.addVar(name=\"budget_correction\")"
   ]
  },
  {
   "cell_type": "markdown",
   "metadata": {},
   "source": [
    "### 约束条件\n",
    "\n",
    "- **优惠数量**。每个聚类的产品优惠数量最多受限于聚类中的客户数量。\n",
    "\n",
    "\\begin{equation}\n",
    "\\sum_{j \\in J} y_{k,j} \\leq N_{k} \\quad \\forall k \\in K\n",
    "\\tag{1}\n",
    "\\end{equation}\n",
    "\n",
    "其中\n",
    "\n",
    "$y_{k,j} \\geq 0$: 向聚类$k \\in K$中的客户提供产品$j \\in J$的数量。\n",
    "\n",
    "$N_{k}$: 聚类$k \\in K$中的客户数量。"
   ]
  },
  {
   "cell_type": "code",
   "execution_count": null,
   "metadata": {},
   "outputs": [],
   "source": [
    "### 约束条件\n",
    "\n",
    "# 每个聚类的优惠数量约束\n",
    "\n",
    "maxOffers_cons = mt.addConstrs((y.sum(k,'*') <= number_customers[k]  for k in clusters), name='maxOffers')\n"
   ]
  },
  {
   "cell_type": "markdown",
   "metadata": {},
   "source": [
    "### 约束条件\n",
    "\n",
    "- **预算**。营销活动预算约束强制要求活动的总成本应小于预算活动。为了确保模型的可行性，有可能增加预算，因为所有产品的最少优惠数量可能需要增加预算。\n",
    "\n",
    "\\begin{equation}\n",
    "\\sum_{k \\in K} \\sum_{j \\in J} \\nu_{k,j} \\cdot y_{k,j} \\leq B + z\n",
    "\\tag{2}\n",
    "\\end{equation}\n",
    "\n",
    "其中\n",
    "\n",
    "$y_{k,j} \\geq 0$: 向聚类$k \\in K$中的客户提供产品$j \\in J$的数量。\n",
    "\n",
    "$z \\geq 0$: 为了使活动可行而增加的预算。\n",
    "\n",
    "$\\nu_{k,j}$: 向聚类$k \\in K$的平均客户提供产品$j \\in J$的平均可变成本。\n",
    "\n",
    "$B$: 营销活动预算。"
   ]
  },
  {
   "cell_type": "code",
   "execution_count": null,
   "metadata": {},
   "outputs": [],
   "source": [
    "# 预算约束\n",
    "\n",
    "budget_con = mt.addConstr((y.prod(expected_cost) - z <= budget), name='budget')\n"
   ]
  },
  {
   "cell_type": "markdown",
   "metadata": {},
   "source": [
    "### 约束条件\n",
    "\n",
    "- **优惠限制**。每种产品的最少优惠数量。\n",
    "\n",
    "\\begin{equation}\n",
    "\\sum_{k \\in K} y_{k,j} \\geq Q_{j}  \\quad \\forall j \\in J\n",
    "\\tag{3}\n",
    "\\end{equation}\n",
    "\n",
    "其中\n",
    "\n",
    "$y_{k,j} \\geq 0$: 向聚类$k \\in K$中的客户提供产品$j \\in J$的数量。\n",
    "\n",
    "$Q_{j}$: 产品$j \\in J$的最少优惠数量。"
   ]
  },
  {
   "cell_type": "code",
   "execution_count": null,
   "metadata": {},
   "outputs": [],
   "source": [
    "# 每个产品的最小优惠数量约束\n",
    "\n",
    "minOffers_cons = mt.addConstrs( (y.sum('*',j) >= min_offers[j] for j in products), name='min_offers')\n"
   ]
  },
  {
   "cell_type": "markdown",
   "metadata": {},
   "source": [
    "### 约束条件\n",
    "\n",
    "\n",
    "- **ROI**。最小ROI约束确保总利润与成本的比率至少为企业门槛率加一。\n",
    "\n",
    "\\begin{equation}\n",
    "\\sum_{k \\in K} \\sum_{j \\in J} \\pi_{k,j} \\cdot y_{k,j} \\geq (1+R) \\cdot \\sum_{k \\in K} \\sum_{j \\in J} \\nu_{k,j} \\cdot y_{k,j}\n",
    "\\tag{4}\n",
    "\\end{equation}\n",
    "\n",
    "其中\n",
    "\n",
    "$y_{k,j} \\geq 0$: 向聚类$k \\in K$中的客户提供产品$j \\in J$的数量。\n",
    "\n",
    "$\\pi_{k,j}$: 向聚类$k \\in K$的平均客户提供产品$j \\in J$的预期利润。\n",
    "\n",
    "$\\nu_{k,j}$: 向聚类$k \\in K$的平均客户提供产品$j \\in J$的平均可变成本。\n",
    "\n",
    "$R$: 企业门槛率。"
   ]
  },
  {
   "cell_type": "code",
   "execution_count": null,
   "metadata": {},
   "outputs": [],
   "source": [
    "# 确保最小投资回报率的约束\n",
    "\n",
    "ROI_con = mt.addConstr((y.prod(expected_profit) - (1 + R)*y.prod(expected_cost) >= 0), name='ROI')"
   ]
  },
  {
   "cell_type": "markdown",
   "metadata": {},
   "source": [
    "### 目标函数\n",
    "- **总利润**。最大化营销活动的总预期利润，并严重惩罚任何预算修正。\n",
    "\n",
    "\\begin{equation}\n",
    "\\text{Max} \\quad Z = \\sum_{k \\in K} \\sum_{j \\in J} \\pi_{k,j} \\cdot y_{k,j} - M \\cdot z\n",
    "\\tag{0}\n",
    "\\end{equation}\n",
    "\n",
    "其中\n",
    "\n",
    "$y_{k,j} \\geq 0$: 向聚类$k \\in K$中的客户提供产品$j \\in J$的数量。\n",
    "\n",
    "$z \\geq 0$: 为了使活动可行而增加的预算。\n",
    "\n",
    "$\\pi_{k,j}$: 向聚类$k \\in K$的平均客户提供产品$j \\in J$的预期利润。\n",
    "\n",
    "**注意：** $M$的值应高于任何预期利润，以确保仅在模型不可行时才增加预算。"
   ]
  },
  {
   "cell_type": "code",
   "execution_count": null,
   "metadata": {},
   "outputs": [],
   "source": [
    "### 目标函数\n",
    "\n",
    "# 最大化总预期利润\n",
    "\n",
    "M = 10000\n",
    "\n",
    "mt.setObjective(y.prod(expected_profit) -M*z, GRB.MAXIMIZE)"
   ]
  },
  {
   "cell_type": "code",
   "execution_count": null,
   "metadata": {},
   "outputs": [],
   "source": [
    "# 验证模型公式\n",
    "\n",
    "mt.write('tactical.lp')"
   ]
  },
  {
   "cell_type": "code",
   "execution_count": null,
   "metadata": {},
   "outputs": [
    {
     "name": "stdout",
     "output_type": "stream",
     "text": [
      "Gurobi Optimizer version 9.1.0 build v9.1.0rc0 (win64)\n",
      "Thread count: 4 physical cores, 8 logical processors, using up to 8 threads\n",
      "Optimize a model with 6 rows, 5 columns and 17 nonzeros\n",
      "Model fingerprint: 0x1eac2f22\n",
      "Coefficient statistics:\n",
      "  Matrix range     [1e+00, 3e+03]\n",
      "  Objective range  [1e+03, 1e+04]\n",
      "  Bounds range     [0e+00, 0e+00]\n",
      "  RHS range        [2e+00, 2e+02]\n",
      "Presolve removed 1 rows and 0 columns\n",
      "Presolve time: 0.01s\n",
      "Presolved: 5 rows, 5 columns, 13 nonzeros\n",
      "\n",
      "Iteration    Objective       Primal Inf.    Dual Inf.      Time\n",
      "       0    2.5000000e+04   8.787500e+01   0.000000e+00      0s\n",
      "       4   -3.9940000e+06   0.000000e+00   0.000000e+00      0s\n",
      "\n",
      "Solved in 4 iterations and 0.01 seconds\n",
      "Optimal objective -3.994000000e+06\n"
     ]
    }
   ],
   "source": [
    "# 运行优化引擎\n",
    "\n",
    "mt.optimize()"
   ]
  },
  {
   "cell_type": "code",
   "execution_count": null,
   "metadata": {},
   "outputs": [
    {
     "name": "stdout",
     "output_type": "stream",
     "text": [
      "\n",
      "Optimal allocation of product offers to clusters.\n",
      "___________________________________________________\n",
      "The number of customers in cluster k1 that gets an offer of product p1 is: 2.0\n",
      "The number of customers in cluster k1 that gets an offer of product p2 is: 2.0\n",
      "\n",
      "The increase correction in the campaign budget is $400.00.\n",
      "\n",
      "Financial reports.\n",
      "___________________________________________________\n",
      "Optimal total expected profit is $6,000.00.\n",
      "Optimal total expected cost is $600.00 with a budget of $200.00 and an extra amount of $400.00.\n",
      "Optimal ROI is 1000.0% with a minimum ROI of  120.0%.\n"
     ]
    }
   ],
   "source": [
    "### 输出报告\n",
    "\n",
    "# 优化产品优惠分配到聚类\n",
    "\n",
    "total_expected_profit = 0\n",
    "total_expected_cost = 0\n",
    "\n",
    "print(\"\\nOptimal allocation of product offers to clusters.\")\n",
    "print(\"___________________________________________________\")\n",
    "for k,p in cp:\n",
    "    if y[k,p].x > 1e-6:\n",
    "        #print(y[k,p].varName, y[k,p].x)\n",
    "        print(f\"The number of customers in cluster {k} that gets an offer of product {p} is: {y[k,p].x}\")\n",
    "        total_expected_profit += expected_profit[k,p]*y[k,p].x\n",
    "        total_expected_cost += expected_cost[k,p]*y[k,p].x\n",
    "\n",
    "increased_budget = '${:,.2f}'.format(z.x)\n",
    "print(f\"\\nThe increase correction in the campaign budget is {increased_budget}.\")\n",
    "\n",
    "# 财务报告\n",
    "\n",
    "optimal_ROI = round(100*total_expected_profit/total_expected_cost,2)\n",
    "min_ROI = round(100*(1+R),2)\n",
    "\n",
    "money_expected_profit = '${:,.2f}'.format(total_expected_profit)\n",
    "money_expected_cost = '${:,.2f}'.format(total_expected_cost)\n",
    "money_budget = '${:,.2f}'.format(budget)\n",
    "\n",
    "print(f\"\\nFinancial reports.\")\n",
    "print(\"___________________________________________________\")\n",
    "print(f\"Optimal total expected profit is {money_expected_profit}.\")\n",
    "print(f\"Optimal total expected cost is {money_expected_cost} with a budget of {money_budget} and an extra amount of {increased_budget}.\")\n",
    "print(f\"Optimal ROI is {optimal_ROI}% with a minimum ROI of  {min_ROI}%.\")"
   ]
  },
  {
   "cell_type": "markdown",
   "metadata": {},
   "source": [
    "## 分析\n",
    "\n",
    "分配产品到聚类的成本需要增加$\\$400$的预算。总预期利润为$\\$6,000$。总预期成本为$\\$600$，等于原始预算$\\$200$加上$\\$400$的增加。预期ROI为1,000%，远高于所需的最低ROI。"
   ]
  },
  {
   "cell_type": "markdown",
   "metadata": {},
   "source": [
    "## 操作模型公式\n",
    "\n",
    "### 客户预期利润"
   ]
  },
  {
   "cell_type": "code",
   "execution_count": null,
   "metadata": {},
   "outputs": [],
   "source": [
    "### 集合\n",
    "\n",
    "customers = ['c1', 'c2','c3','c4','c5','c6','c7','c8','c9','c10']\n",
    "\n",
    "### 参数\n",
    "\n",
    "# 每个聚类中每个客户的产品优惠预期利润\n",
    "ccp, customer_profit = gp.multidict({\n",
    "    ('k1', 'c1', 'p1'): 2050,\n",
    "    ('k1', 'c1', 'p2'): 1050,\n",
    "    ('k1', 'c2', 'p1'): 1950,\n",
    "    ('k1', 'c2', 'p2'): 950,\n",
    "    ('k1', 'c3', 'p1'): 2000,\n",
    "    ('k1', 'c3', 'p2'): 1000,\n",
    "    ('k1', 'c4', 'p1'): 2100,\n",
    "    ('k1', 'c4', 'p2'): 1100,\n",
    "    ('k1', 'c5', 'p1'): 1900,\n",
    "    ('k1', 'c5', 'p2'): 900,\n",
    "    ('k2', 'c6', 'p1'): 3000,\n",
    "    ('k2', 'c6', 'p2'): 2000,\n",
    "    ('k2', 'c7', 'p1'): 2900,\n",
    "    ('k2', 'c7', 'p2'): 1900,\n",
    "    ('k2', 'c8', 'p1'): 3050,\n",
    "    ('k2', 'c8','p2'): 2050,\n",
    "    ('k2', 'c9', 'p1'): 3100,\n",
    "    ('k2', 'c9', 'p2'): 3100,\n",
    "    ('k2', 'c10', 'p1'): 2950,\n",
    "    ('k2', 'c10', 'p2'): 2950   \n",
    "})"
   ]
  },
  {
   "cell_type": "markdown",
   "metadata": {},
   "source": [
    "### 客户提供成本"
   ]
  },
  {
   "cell_type": "code",
   "execution_count": null,
   "metadata": {},
   "outputs": [],
   "source": [
    "# 每个聚类中每个客户的产品优惠成本\n",
    "\n",
    "ccp, customer_cost = gp.multidict({\n",
    "    ('k1', 'c1', 'p1'): 205,\n",
    "    ('k1', 'c1', 'p2'): 105,\n",
    "    ('k1', 'c2', 'p1'): 195,\n",
    "    ('k1', 'c2', 'p2'): 95,\n",
    "    ('k1', 'c3', 'p1'): 200,\n",
    "    ('k1', 'c3', 'p2'): 100,\n",
    "    ('k1', 'c4', 'p1'): 210,\n",
    "    ('k1', 'c4', 'p2'): 110,\n",
    "    ('k1', 'c5', 'p1'): 190,\n",
    "    ('k1', 'c5', 'p2'): 90,\n",
    "    ('k2', 'c6', 'p1'): 300,\n",
    "    ('k2', 'c6', 'p2'): 200,\n",
    "    ('k2', 'c7', 'p1'): 290,\n",
    "    ('k2', 'c7', 'p2'): 190,\n",
    "    ('k2', 'c8', 'p1'): 305,\n",
    "    ('k2', 'c8','p2'): 205,\n",
    "    ('k2', 'c9', 'p1'): 310,\n",
    "    ('k2', 'c9', 'p2'): 310,\n",
    "    ('k2', 'c10', 'p1'): 295,\n",
    "    ('k2', 'c10', 'p2'): 295   \n",
    "})"
   ]
  },
  {
   "cell_type": "markdown",
   "metadata": {},
   "source": [
    "## 操作模型公式\n"
   ]
  },
  {
   "cell_type": "markdown",
   "metadata": {},
   "source": [
    "### 决策变量\n",
    "$x_{k,i,j} \\in \\{0,1 \\}$: 如果产品$j \\in J^{k}$提供给客户$i \\in I^{k}$，则该变量等于1，否则为0。"
   ]
  },
  {
   "cell_type": "code",
   "execution_count": null,
   "metadata": {},
   "outputs": [],
   "source": [
    "# 声明和初始化模型\n",
    "mo = gp.Model('Operational')\n",
    "\n",
    "### 决策变量\n",
    "\n",
    "x = mo.addVars(ccp, vtype=GRB.BINARY, name=\"assign\")"
   ]
  },
  {
   "cell_type": "markdown",
   "metadata": {},
   "source": [
    "### 约束条件\n",
    "\n",
    "- **产品优惠**。将产品优惠分配给每个聚类的客户。\n",
    "\n",
    "\\begin{equation}\n",
    "\\sum_{i \\in  I^{k}}  x_{k,i,j} = Y_{k,j}  \\quad \\forall j \\in J^{k}, k \\in K\n",
    "\\tag{1}\n",
    "\\end{equation}\n",
    "\n",
    "其中\n",
    "\n",
    "$x_{k,i,j} \\in \\{0,1 \\}$: 如果产品$j \\in J^{k}$提供给客户$i \\in I^{k}$，则该变量等于1，否则为0。\n",
    "\n",
    "$Y_{k,j} = \\lfloor y_{k,j} \\rfloor $: 聚类$k$中将获得产品$j \\in J^{k}$优惠的客户数量。\n",
    "\n",
    "\n"
   ]
  },
  {
   "cell_type": "code",
   "execution_count": null,
   "metadata": {},
   "outputs": [],
   "source": [
    "# 产品优惠约束\n",
    "\n",
    "productOffers = {}\n",
    "\n",
    "for k in clusters:\n",
    "    for j in products:\n",
    "            productOffers[k,j] = mo.addConstr(gp.quicksum(x[k,i,j] for kk,i,jj in ccp if (kk ==k and jj == j)) == \n",
    "                                              int(y[k,j].x), name='prodOffers_' + str(k) + ',' + str(j) )"
   ]
  },
  {
   "cell_type": "markdown",
   "metadata": {},
   "source": [
    "\n",
    "### 约束条件\n",
    "\n",
    "\n",
    "- **优惠限制**。每个聚类的客户最多可以获得一个产品优惠。\n",
    "\n",
    "\\begin{equation}\n",
    "\\sum_{j \\in J^{k}} x_{k,i,j} \\leq 1 \\quad \\forall i \\in I^{k}, k \\in K\n",
    "\\tag{2}\n",
    "\\end{equation}\n",
    "\n",
    "其中\n",
    "\n",
    "$x_{k,i,j} \\in \\{0,1 \\}$: 如果产品$j \\in J^{k}$提供给客户$i \\in I^{k}$，则该变量等于1，否则为0。"
   ]
  },
  {
   "cell_type": "code",
   "execution_count": null,
   "metadata": {},
   "outputs": [],
   "source": [
    "# 每个聚类中每个客户的优惠数量限制\n",
    "\n",
    "ki = [('k1', 'c1'), \n",
    "      ('k1', 'c2'), \n",
    "      ('k1', 'c3'),\n",
    "      ('k1', 'c4'), \n",
    "      ('k1', 'c5'), \n",
    "      ('k2', 'c6'), \n",
    "      ('k2', 'c7'), \n",
    "      ('k2', 'c8'), \n",
    "      ('k2', 'c9'), \n",
    "      ('k2', 'c10')]\n",
    "\n",
    "customerOffers = {}\n",
    "\n",
    "for k,i in ki:\n",
    "    customerOffers[k,i] = mo.addConstr(gp.quicksum(x[k,i,j] for kk,ii,j in ccp if (kk == k and ii == i) ) <= 1, \n",
    "                                          name ='custOffers_' + str(k) + ',' + str(i) )"
   ]
  },
  {
   "cell_type": "markdown",
   "metadata": {},
   "source": [
    "### 目标函数\n",
    "\n",
    "- **总利润**。最大化总个体预期利润。\n",
    "\n",
    "\\begin{equation}\n",
    "\\text{Max} \\quad Z = \\sum_{k \\in K}  \\sum_{i \\in I^{k}} \\sum_{j \\in J^{k}} r_{k,i,j} \\cdot x_{k,i,j}\n",
    "\\tag{0}\n",
    "\\end{equation}\n",
    "\n",
    "其中\n",
    "\n",
    "$x_{k,i,j} \\in \\{0,1 \\}$: 如果产品$j \\in J^{k}$提供给客户$i \\in I^{k}$，则该变量等于1，否则为0。\n",
    "\n",
    "$r_{k,i,j}$: 客户$i \\in I^{k}$从产品$j \\in J^{k}$的优惠中获得的预期个体利润。\n",
    "\n"
   ]
  },
  {
   "cell_type": "code",
   "execution_count": null,
   "metadata": {},
   "outputs": [],
   "source": [
    "### 目标函数\n",
    "\n",
    "# 最大化总利润\n",
    "\n",
    "mo.setObjective(x.prod(customer_profit), GRB.MAXIMIZE)"
   ]
  },
  {
   "cell_type": "code",
   "execution_count": null,
   "metadata": {},
   "outputs": [
    {
     "name": "stdout",
     "output_type": "stream",
     "text": [
      "Gurobi Optimizer version 9.1.0 build v9.1.0rc0 (win64)\n",
      "Thread count: 4 physical cores, 8 logical processors, using up to 8 threads\n",
      "Optimize a model with 14 rows, 20 columns and 40 nonzeros\n",
      "Model fingerprint: 0xe1e9d99f\n",
      "Variable types: 0 continuous, 20 integer (20 binary)\n",
      "Coefficient statistics:\n",
      "  Matrix range     [1e+00, 1e+00]\n",
      "  Objective range  [9e+02, 3e+03]\n",
      "  Bounds range     [1e+00, 1e+00]\n",
      "  RHS range        [1e+00, 2e+00]\n",
      "Found heuristic solution: objective 6050.0000000\n",
      "Presolve removed 7 rows and 10 columns\n",
      "Presolve time: 0.00s\n",
      "Presolved: 7 rows, 10 columns, 20 nonzeros\n",
      "Variable types: 0 continuous, 10 integer (10 binary)\n",
      "\n",
      "Root relaxation: objective 6.100000e+03, 2 iterations, 0.00 seconds\n",
      "\n",
      "    Nodes    |    Current Node    |     Objective Bounds      |     Work\n",
      " Expl Unexpl |  Obj  Depth IntInf | Incumbent    BestBd   Gap | It/Node Time\n",
      "\n",
      "*    0     0               0    6100.0000000 6100.00000  0.00%     -    0s\n",
      "\n",
      "Explored 0 nodes (2 simplex iterations) in 0.02 seconds\n",
      "Thread count was 8 (of 8 available processors)\n",
      "\n",
      "Solution count 2: 6100 6050 \n",
      "\n",
      "Optimal solution found (tolerance 1.00e-04)\n",
      "Best objective 6.100000000000e+03, best bound 6.100000000000e+03, gap 0.0000%\n"
     ]
    }
   ],
   "source": [
    "# 验证模型公式\n",
    "\n",
    "mo.write('operational.lp')\n",
    "\n",
    "# 运行优化引擎\n",
    "\n",
    "mo.optimize()"
   ]
  },
  {
   "cell_type": "code",
   "execution_count": null,
   "metadata": {},
   "outputs": [
    {
     "name": "stdout",
     "output_type": "stream",
     "text": [
      "\n",
      "Optimal assignment of product offers to customers.\n",
      "___________________________________________________\n",
      "Customer c1 in cluster k1 gets an offer of product p2:\n",
      "The expected profit is $1,050.00 at a cost of $105.00\n",
      "Customer c2 in cluster k1 gets an offer of product p2:\n",
      "The expected profit is $950.00 at a cost of $95.00\n",
      "Customer c3 in cluster k1 gets an offer of product p1:\n",
      "The expected profit is $2,000.00 at a cost of $200.00\n",
      "Customer c4 in cluster k1 gets an offer of product p1:\n",
      "The expected profit is $2,100.00 at a cost of $210.00\n",
      "___________________________________________________\n",
      "Number of assignments in cluster k1 is 4\n",
      "___________________________________________________\n",
      "___________________________________________________\n",
      "Number of assignments in cluster k2 is 0\n",
      "___________________________________________________\n",
      "\n",
      "\n",
      "Financial reports.\n",
      "___________________________________________________\n",
      "Optimal total customers profit is $6,100.00.\n",
      "Optimal total customers cost is $610.00 with a budget of $200.00 and an extra amount of $400.00.\n",
      "Optimal ROI is 1000.0% with a minimum ROI of  120.0%.\n"
     ]
    }
   ],
   "source": [
    "### 输出报告\n",
    "\n",
    "# 优化产品优惠分配给客户\n",
    "\n",
    "total_customer_profit = 0\n",
    "total_customer_cost = 0\n",
    "\n",
    "kvalue = None\n",
    "first = True\n",
    "num_assignments = 0\n",
    "\n",
    "print(\"\\nOptimal assignment of product offers to customers.\")\n",
    "print(\"___________________________________________________\")\n",
    "for k,i,j in ccp:\n",
    "    if k != kvalue:\n",
    "        prevk = kvalue\n",
    "        kvalue = k\n",
    "        if not first:\n",
    "            print(\"___________________________________________________\")\n",
    "            print(f\"Number of assignments in cluster {prevk} is {num_assignments}\")\n",
    "            print(\"___________________________________________________\")\n",
    "            num_assignments = 0\n",
    "        if first:\n",
    "            first = False\n",
    "    if x[k,i,j].x > 0.5:\n",
    "        #print(x[k,i,j].varName, x[k,i,j].x)\n",
    "        profit = '${:,.2f}'.format(customer_profit[k,i,j])\n",
    "        cost = '${:,.2f}'.format(customer_cost[k,i,j])\n",
    "        print(f\"Customer {i} in cluster {k} gets an offer of product {j}:\")\n",
    "        print(f\"The expected profit is {profit} at a cost of {cost}\")\n",
    "        total_customer_profit += customer_profit[k,i,j]*x[k,i,j].x\n",
    "        total_customer_cost += customer_cost[k,i,j]*x[k,i,j].x\n",
    "        num_assignments += 1\n",
    "print(\"___________________________________________________\")\n",
    "print(f\"Number of assignments in cluster {kvalue} is {num_assignments}\")\n",
    "print(\"___________________________________________________\\n\")\n",
    "        \n",
    "# 财务报告\n",
    "\n",
    "customers_ROI = round(100*total_customer_profit/total_customer_cost,2)\n",
    "\n",
    "money_customers_profit = '${:,.2f}'.format(total_customer_profit)\n",
    "money_customers_cost = '${:,.2f}'.format(total_customer_cost)\n",
    "\n",
    "print(f\"\\nFinancial reports.\")\n",
    "print(\"___________________________________________________\")\n",
    "print(f\"Optimal total customers profit is {money_customers_profit}.\")\n",
    "print(f\"Optimal total customers cost is {money_customers_cost} with a budget of {money_budget} and an extra amount of {increased_budget}.\")\n",
    "print(f\"Optimal ROI is {customers_ROI}% with a minimum ROI of  {min_ROI}%.\")\n",
    "        \n"
   ]
  },
  {
   "cell_type": "markdown",
   "metadata": {},
   "source": [
    "## 分析\n",
    "每个客户最多获得一个产品优惠。产品p2提供给客户c1和c2，产品p1提供给客户c3和c4。产品p1和p2至少提供给两个客户——这是战术模型的约束。请注意，为了确保这些硬性业务约束，预算需要增加$\\$400$。\n",
    "\n",
    "将产品分配给客户的成本为$\\$610$，略微违反了$\\$600$的总可用预算。总客户利润为$\\$6,100$。ROI为1,000%，远高于所需的最低ROI。\n",
    "\n",
    "如果需要强制执行总可用预算，可以将以下约束添加到操作模型中：\n",
    "\n",
    "- **预算**。强制执行预算约束。\n",
    "\n",
    "\\begin{equation}\n",
    "\\sum_{k \\in K}  \\sum_{i \\in I^{k}} \\sum_{j \\in J^{k}} c_{k,i,j} \\cdot x_{k,i,j} \\leq B'\n",
    "\\tag{4}\n",
    "\\end{equation}\n",
    "\n",
    "新预算为原始预算加上修正，即$B' = B + z$"
   ]
  },
  {
   "cell_type": "markdown",
   "metadata": {},
   "source": [
    "## 场景1\n",
    "强制执行总可用预算约束。在这种情况下，操作模型为：\n",
    "\n",
    "### 目标函数\n",
    "\n",
    "- **总利润**。最大化总个体预期利润。\n",
    "\n",
    "\\begin{equation}\n",
    "\\text{Max} \\quad Z = \\sum_{k \\in K}  \\sum_{i \\in I^{k}} \\sum_{j \\in J^{k}} r_{k,i,j} \\cdot x_{k,i,j}\n",
    "\\tag{0}\n",
    "\\end{equation}\n",
    "\n",
    "### 约束条件\n",
    "\n",
    "- **产品优惠**。将产品优惠分配给每个聚类的客户。\n",
    "\n",
    "\\begin{equation}\n",
    "\\sum_{i \\in  I^{k}}  x_{k,i,j} = Y_{k,j}  \\quad \\forall j \\in J^{k}, k \\in K\n",
    "\\tag{1}\n",
    "\\end{equation}\n",
    "\n",
    "- **优惠限制**。每个聚类的客户最多可以获得一个产品优惠。\n",
    "\n",
    "\\begin{equation}\n",
    "\\sum_{j \\in J^{k}} x_{k,i,j} \\leq 1 \\quad \\forall i \\in I^{k}, k \\in K\n",
    "\\tag{2}\n",
    "\\end{equation}\n",
    "\n",
    "- **预算**。强制执行预算约束。\n",
    "\n",
    "\\begin{equation}\n",
    "\\sum_{k \\in K}  \\sum_{i \\in I^{k}} \\sum_{j \\in J^{k}} c_{k,i,j} \\cdot x_{k,i,j} \\leq B'\n",
    "\\tag{3}\n",
    "\\end{equation}"
   ]
  },
  {
   "cell_type": "code",
   "execution_count": null,
   "metadata": {},
   "outputs": [],
   "source": [
    "### 强制执行总预算约束的操作模型\n",
    "\n",
    "# 声明和初始化模型\n",
    "mob = gp.Model('OperationalB')\n",
    "\n",
    "### 决策变量\n",
    "\n",
    "xb = mob.addVars(ccp, vtype=GRB.BINARY, name=\"assign\")"
   ]
  },
  {
   "cell_type": "code",
   "execution_count": null,
   "metadata": {},
   "outputs": [],
   "source": [
    "# 产品优惠约束\n",
    "\n",
    "productOffersb = {}\n",
    "\n",
    "for k in clusters:\n",
    "    for j in products:\n",
    "            productOffersb[k,j] = mob.addConstr(gp.quicksum(xb[k,i,j] for kk,i,jj in ccp if (kk ==k and jj == j)) == \n",
    "                                              int(y[k,j].x), name='prodOffersb_' + str(k) + ',' + str(j) )"
   ]
  },
  {
   "cell_type": "code",
   "execution_count": null,
   "metadata": {},
   "outputs": [],
   "source": [
    "# 每个聚类中每个客户的优惠数量限制\n",
    "\n",
    "customerOffersb = {}\n",
    "\n",
    "for k,i in ki:\n",
    "    customerOffersb[k,i] = mob.addConstr(gp.quicksum(xb[k,i,j] for kk,ii,j in ccp if (kk == k and ii == i) ) <= 1, \n",
    "                                          name ='custOffersb_' + str(k) + ',' + str(i) )"
   ]
  },
  {
   "cell_type": "code",
   "execution_count": null,
   "metadata": {},
   "outputs": [],
   "source": [
    "# 预算约束\n",
    "\n",
    "# 新预算\n",
    "new_budget = budget + z.x\n",
    "\n",
    "totBudget = mob.addConstr(xb.prod(customer_cost) <= new_budget, name='total_budget')"
   ]
  },
  {
   "cell_type": "code",
   "execution_count": null,
   "metadata": {},
   "outputs": [],
   "source": [
    "### 目标函数\n",
    "\n",
    "# 最大化总利润\n",
    "\n",
    "mob.setObjective(xb.prod(customer_profit), GRB.MAXIMIZE)"
   ]
  },
  {
   "cell_type": "code",
   "execution_count": null,
   "metadata": {},
   "outputs": [
    {
     "name": "stdout",
     "output_type": "stream",
     "text": [
      "Gurobi Optimizer version 9.1.0 build v9.1.0rc0 (win64)\n",
      "Thread count: 4 physical cores, 8 logical processors, using up to 8 threads\n",
      "Optimize a model with 15 rows, 20 columns and 60 nonzeros\n",
      "Model fingerprint: 0x96da858f\n",
      "Variable types: 0 continuous, 20 integer (20 binary)\n",
      "Coefficient statistics:\n",
      "  Matrix range     [1e+00, 3e+02]\n",
      "  Objective range  [9e+02, 3e+03]\n",
      "  Bounds range     [1e+00, 1e+00]\n",
      "  RHS range        [1e+00, 6e+02]\n",
      "Found heuristic solution: objective 5950.0000000\n",
      "Presolve removed 7 rows and 10 columns\n",
      "Presolve time: 0.00s\n",
      "Presolved: 8 rows, 10 columns, 28 nonzeros\n",
      "Variable types: 0 continuous, 10 integer (10 binary)\n",
      "\n",
      "Root relaxation: objective 6.000000e+03, 2 iterations, 0.00 seconds\n",
      "\n",
      "    Nodes    |    Current Node    |     Objective Bounds      |     Work\n",
      " Expl Unexpl |  Obj  Depth IntInf | Incumbent    BestBd   Gap | It/Node Time\n",
      "\n",
      "*    0     0               0    6000.0000000 6000.00000  0.00%     -    0s\n",
      "\n",
      "Explored 0 nodes (2 simplex iterations) in 0.02 seconds\n",
      "Thread count was 8 (of 8 available processors)\n",
      "\n",
      "Solution count 2: 6000 5950 \n",
      "\n",
      "Optimal solution found (tolerance 1.00e-04)\n",
      "Best objective 6.000000000000e+03, best bound 6.000000000000e+03, gap 0.0000%\n"
     ]
    }
   ],
   "source": [
    "# 验证模型公式\n",
    "\n",
    "mob.write('operationalB.lp')\n",
    "\n",
    "# 运行优化引擎\n",
    "\n",
    "mob.optimize()"
   ]
  },
  {
   "cell_type": "code",
   "execution_count": null,
   "metadata": {},
   "outputs": [
    {
     "name": "stdout",
     "output_type": "stream",
     "text": [
      "\n",
      "Optimal assignment of product offers to customers.\n",
      "___________________________________________________\n",
      "Customer c1 in cluster k1 gets an offer of product p2:\n",
      "The expected profit is $1,050.00 at a cost of $105.00\n",
      "Customer c2 in cluster k1 gets an offer of product p1:\n",
      "The expected profit is $1,950.00 at a cost of $195.00\n",
      "Customer c4 in cluster k1 gets an offer of product p1:\n",
      "The expected profit is $2,100.00 at a cost of $210.00\n",
      "Customer c5 in cluster k1 gets an offer of product p2:\n",
      "The expected profit is $900.00 at a cost of $90.00\n",
      "___________________________________________________\n",
      "Number of assignments in cluster k1 is 4\n",
      "___________________________________________________\n",
      "___________________________________________________\n",
      "Number of assignments in cluster k2 is 0\n",
      "___________________________________________________\n",
      "\n",
      "\n",
      "Financial reports.\n",
      "___________________________________________________\n",
      "Optimal total customers profit is $6,000.00.\n",
      "Optimal total customers cost is $600.00 with a budget of $200.00 and an extra amount of $400.00.\n",
      "Optimal ROI is 1000.0% with a minimum ROI of  120.0%.\n"
     ]
    }
   ],
   "source": [
    "### 输出报告\n",
    "\n",
    "# 优化产品优惠分配给客户\n",
    "\n",
    "total_customer_profitb = 0\n",
    "total_customer_costb = 0\n",
    "\n",
    "kvalueb = None\n",
    "firstb = True\n",
    "num_assignmentsb = 0\n",
    "\n",
    "print(\"\\nOptimal assignment of product offers to customers.\")\n",
    "print(\"___________________________________________________\")\n",
    "for k,i,j in ccp:\n",
    "    if k != kvalueb:\n",
    "        prevkb = kvalueb\n",
    "        kvalueb = k\n",
    "        if not firstb:\n",
    "            print(\"___________________________________________________\")\n",
    "            print(f\"Number of assignments in cluster {prevkb} is {num_assignmentsb}\")\n",
    "            print(\"___________________________________________________\")\n",
    "            num_assignmentsb = 0\n",
    "        if firstb:\n",
    "            firstb = False\n",
    "    if xb[k,i,j].x > 0.5:\n",
    "        #print(x[k,i,j].varName, x[k,i,j].x)\n",
    "        profitb = '${:,.2f}'.format(customer_profit[k,i,j])\n",
    "        costb = '${:,.2f}'.format(customer_cost[k,i,j])\n",
    "        print(f\"Customer {i} in cluster {k} gets an offer of product {j}:\")\n",
    "        print(f\"The expected profit is {profitb} at a cost of {costb}\")\n",
    "        total_customer_profitb += customer_profit[k,i,j]*xb[k,i,j].x\n",
    "        total_customer_costb += customer_cost[k,i,j]*xb[k,i,j].x\n",
    "        num_assignmentsb += 1\n",
    "print(\"___________________________________________________\")\n",
    "print(f\"Number of assignments in cluster {kvalueb} is {num_assignmentsb}\")\n",
    "print(\"___________________________________________________\\n\")\n",
    "        \n",
    "# 财务报告\n",
    "\n",
    "customers_ROIb = round(100*total_customer_profitb/total_customer_costb,2)\n",
    "\n",
    "money_customers_profitb = '${:,.2f}'.format(total_customer_profitb)\n",
    "money_customers_costb = '${:,.2f}'.format(total_customer_costb)\n",
    "\n",
    "print(f\"\\nFinancial reports.\")\n",
    "print(\"___________________________________________________\")\n",
    "print(f\"Optimal total customers profit is {money_customers_profitb}.\")\n",
    "print(f\"Optimal total customers cost is {money_customers_costb} with a budget of {money_budget} and an extra amount of {increased_budget}.\")\n",
    "print(f\"Optimal ROI is {customers_ROIb}% with a minimum ROI of  {min_ROI}%.\")"
   ]
  },
  {
   "cell_type": "markdown",
   "metadata": {},
   "source": [
    "## 分析\n",
    "每个客户最多获得一个产品优惠。产品p1和p2至少提供给两个客户。将产品分配给客户的成本为$\\$600$，等于总可用预算。总客户利润为$\\$6,000$。ROI为1,000%，远高于所需的最低ROI。\n",
    "\n",
    "在这种情况下，我们强制执行总可用预算约束，并获得不同的分配。产品p1提供给客户c2和c4，产品p2提供给客户c1和c5。"
   ]
  },
  {
   "cell_type": "markdown",
   "metadata": {},
   "source": [
    "## 结论\n",
    "\n",
    "在本Jupyter笔记本中，我们讨论了营销活动对银行业的重要性。我们讨论了机器学习预测响应模型可以用来提供营销活动优化问题的输入数据。我们展示了如何将营销活动优化问题分解为战术问题和操作问题。\n",
    "\n",
    "战术问题被表述为线性规划问题，我们聚合了由机器学习预测响应模型生成的数据。\n",
    "\n",
    "战术问题的解决方案确定了在最大化营销活动预期利润的同时，考虑以下约束条件，向客户聚类提供哪些产品：\n",
    "\n",
    "* 活动可用资金限制。\n",
    "* 在活动中可以提供的最少产品数量的限制。\n",
    "* 必须满足的活动投资回报率门槛。\n",
    "\n",
    "操作问题被表述为MIP模型，其中客户预期利润和战术模型的输出可以用作输入，以便在每个聚类中为个体客户分配产品优惠，从而最大化总客户利润。我们考虑了操作问题的两种情况。在第一种情况下，不强制执行战术问题确定的总可用预算。这意味着该问题的最优解可能会略微违反总可用预算。在第二种情况下，我们强制执行总可用预算。\n"
   ]
  },
  {
   "cell_type": "markdown",
   "metadata": {},
   "source": [
    "## 参考文献\n",
    "\n",
    "[1] M. D. Cohen. *Exploiting response models—optimizing cross-sell and up-sell opportunities in banking.* Information Systems. Vol. 29. issue 4, June 2004, Pages 327-341"
   ]
  },
  {
   "cell_type": "markdown",
   "metadata": {},
   "source": [
    "Copyright © 2020 Gurobi Optimization, LLC"
   ]
  },
  {
   "cell_type": "code",
   "execution_count": null,
   "metadata": {},
   "outputs": [],
   "source": []
  }
 ],
 "metadata": {
  "kernelspec": {
   "display_name": "Python 3",
   "language": "python",
   "name": "python3"
  },
  "language_info": {
   "codemirror_mode": {
    "name": "ipython",
    "version": 3
   },
   "file_extension": ".py",
   "mimetype": "text/x-python",
   "name": "python",
   "nbconvert_exporter": "python",
   "pygments_lexer": "ipython3",
   "version": "3.7.1"
  }
 },
 "nbformat": 4,
 "nbformat_minor": 2
}
