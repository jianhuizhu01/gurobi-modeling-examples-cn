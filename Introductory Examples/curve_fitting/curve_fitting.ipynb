{
 "cells": [
  {
   "cell_type": "markdown",
   "metadata": {},
   "source": [
    "# 曲线拟合\n",
    "\n",
    "## 目标和前提条件\n",
    "\n",
    "尝试这个Jupyter笔记本建模示例，学习如何将函数拟合到一组观测值。我们将使用Gurobi Python API将这个回归问题表述为线性规划问题，然后用Gurobi优化器求解。\n",
    "\n",
    "这个模型是H. Paul Williams的《数学规划中的模型构建》第五版第266页和第319-320页的示例11。\n",
    "\n",
    "这个建模示例属于初级水平，我们假设你了解Python并且对构建数学优化模型有一定了解。读者还应该查阅\n",
    "[文档](https://www.gurobi.com/resources/?category-filter=documentation)\n",
    "了解Gurobi Python API。\n",
    "\n",
    "**下载代码库** <br />\n",
    "你可以通过点击[这里](https://github.com/Gurobi/modeling-examples/archive/master.zip)下载包含此示例和其他示例的代码库。"
   ]
  },
  {
   "cell_type": "markdown",
   "metadata": {},
   "source": [
    "## 模型表述\n",
    "\n",
    "### 集合和索引\n",
    "\n",
    "$i \\in \\text{观测值}=\\{1, .. ,n\\}$.\n",
    "\n",
    "\n",
    "### 参数\n",
    "\n",
    "$x_{i} \\in \\mathbb{R}$: 观测值$i$处的自变量值。\n",
    "\n",
    "$y_{i} \\in \\mathbb{R}$: 观测值$i$处的因变量值。\n",
    "\n",
    "### 决策变量\n",
    "\n",
    "$a \\in \\mathbb{R}$: 函数中解释$y$值与$x$值关系的常数项的值。\n",
    "\n",
    "$b \\in \\mathbb{R}$: 函数中解释$y$值与$x$值关系的线性项系数。\n",
    "\n",
    "$u_{i} \\in \\mathbb{R}^+$: 在观测值$i$处，所提议函数相对于$y$值的正偏差。\n",
    "\n",
    "$v_{i} \\in \\mathbb{R}^+$: 在观测值$i$处，所提议函数相对于$y$值的负偏差。\n",
    "\n",
    "$z$: 最大偏差值。\n",
    "\n",
    "我们为第一个目标建模：\n",
    "\n",
    "* 将直线$y=a+bx$拟合到给定的数据集，以最小化每个观测$y$值与线性关系预测值之间的绝对偏差之和。\n",
    "\n",
    "\n",
    "### 问题1的约束\n",
    "\n",
    "**偏差**: 每对对应的数据值$(x_{i},y_{i})$产生以下约束。\n",
    "\n",
    "\\begin{equation}\n",
    "bx_{i} + a + u_{i} - v_{i} = y_{i}  \\quad \\forall i \\in \\text{观测值}\n",
    "\\end{equation}\n",
    "\n",
    "其中$x_{i}$和$y_{i}$是观测集中给定的值，$b$、$a$、$u_{i}$和$v_{i}$是变量。\n",
    "正偏差$u_{i}$和负偏差$v_{i}$给出了线性表达式建议的$y_{i}$值与观测值之间的差异量。\n",
    "\n",
    "### 问题1的目标函数\n",
    "\n",
    "**总偏差**: 目标是最小化总的正负偏差。\n",
    "\n",
    "\\begin{equation}\n",
    "\\text{最小化} \\quad \\sum_{i \\in \\text{观测值}} (u_{i} + v_{i})\n",
    "\\end{equation}\n",
    "\n",
    "现在我们为第二个目标提供模型表述：\n",
    "\n",
    "* 将直线$y=a+bx$拟合到给定的数据集，以最小化所有观测$y$值与线性关系预测值之间的最大偏差。\n",
    "\n",
    "对于这个新表述，除了\"偏差约束\"外，我们还需要包含以下约束。\n",
    "\n",
    "### 问题2的约束\n",
    "\n",
    "**最大偏差**: 以下约束确保决策变量$z$取最大偏差值。\n",
    "\n",
    "\\begin{equation}\n",
    "z \\geq u_{i}  \\quad \\forall i \\in \\text{观测值}\n",
    "\\end{equation}\n",
    "\n",
    "\\begin{equation}\n",
    "z \\geq v_{i}  \\quad \\forall i \\in \\text{观测值}\n",
    "\\end{equation}\n",
    "\n",
    "### 问题2的目标函数\n",
    "\n",
    "**最小/最大偏差**: 目标是最小化最大偏差。\n",
    "\n",
    "\\begin{equation}\n",
    "\\text{最小化} \\quad z\n",
    "\\end{equation}"
   ]
  },
  {
   "cell_type": "markdown",
   "metadata": {},
   "source": [
    "## Python实现\n",
    "\n",
    "我们导入Gurobi Python模块。"
   ]
  },
  {
   "cell_type": "code",
   "execution_count": null,
   "metadata": {},
   "outputs": [],
   "source": [
    "# %pip install gurobipy"
   ]
  },
  {
   "cell_type": "code",
   "execution_count": 1,
   "metadata": {},
   "outputs": [],
   "source": [
    "import gurobipy as gp\n",
    "from gurobipy import GRB\n",
    "\n",
    "# 使用Python 3.7.0和Gurobi 9.1.0测试"
   ]
  },
  {
   "cell_type": "markdown",
   "metadata": {},
   "source": [
    "## 输入数据\n",
    "\n",
    "我们定义观测集中$x$和$y$的对应值。"
   ]
  },
  {
   "cell_type": "code",
   "execution_count": 2,
   "metadata": {},
   "outputs": [],
   "source": [
    "# 样本数据：自变量x和因变量y的值\n",
    "\n",
    "observations, x, y = gp.multidict({\n",
    "    ('1'): [0,1],\n",
    "    ('2'): [0.5,0.9],\n",
    "    ('3'): [1,0.7],\n",
    "    ('4'): [1.5,1.5],\n",
    "    ('5'): [1.9,2],\n",
    "    ('6'): [2.5,2.4],\n",
    "    ('7'): [3,3.2],\n",
    "    ('8'): [3.5,2],\n",
    "    ('9'): [4,2.7],\n",
    "    ('10'): [4.5,3.5],\n",
    "    ('11'): [5,1],\n",
    "    ('12'): [5.5,4],\n",
    "    ('13'): [6,3.6],\n",
    "    ('14'): [6.6,2.7],\n",
    "    ('15'): [7,5.7],\n",
    "    ('16'): [7.6,4.6],\n",
    "    ('17'): [8.5,6],\n",
    "    ('18'): [9,6.8],\n",
    "    ('19'): [10,7.3]\n",
    "})"
   ]
  },
  {
   "cell_type": "markdown",
   "metadata": {},
   "source": [
    "## 模型部署\n",
    "\n",
    "我们创建一个模型和变量。模型的变量包括函数f(x)的常数项和线性项系数、正负偏差以及最大偏差。"
   ]
  },
  {
   "cell_type": "code",
   "execution_count": 7,
   "metadata": {},
   "outputs": [
    {
     "name": "stdout",
     "output_type": "stream",
     "text": [
      "Set parameter LicenseID to value 2601452\n"
     ]
    }
   ],
   "source": [
    "model = gp.Model('CurveFitting')\n",
    "\n",
    "# 函数f(x)的常数项。这是一个可以取正负值的自由连续变量。\n",
    "a = model.addVar(lb=-GRB.INFINITY, ub=GRB.INFINITY, vtype=GRB.CONTINUOUS, name=\"a\")\n",
    "\n",
    "# 函数f(x)的线性项系数。这是一个可以取正负值的自由连续变量。\n",
    "b = model.addVar(lb=-GRB.INFINITY, ub=GRB.INFINITY, vtype=GRB.CONTINUOUS, name=\"b\")\n",
    "\n",
    "# 捕获正偏差的非负连续变量\n",
    "u = model.addVars(observations, vtype=GRB.CONTINUOUS, name=\"u\")\n",
    "\n",
    "# 捕获负偏差的非负连续变量\n",
    "v = model.addVars(observations, vtype=GRB.CONTINUOUS, name=\"v\")\n",
    "\n",
    "# 捕获最大偏差值的非负连续变量\n",
    "z = model.addVar(vtype=GRB.CONTINUOUS, name=\"z\")"
   ]
  },
  {
   "cell_type": "markdown",
   "metadata": {},
   "source": [
    "每对对应的数据值$x_{i}$和$y_{i}$产生一个约束。"
   ]
  },
  {
   "cell_type": "code",
   "execution_count": 8,
   "metadata": {},
   "outputs": [],
   "source": [
    "# 偏差约束\n",
    "\n",
    "deviations = model.addConstrs( (b*x[i] + a + u[i] - v[i] == y[i] for i in observations), name='bias')"
   ]
  },
  {
   "cell_type": "markdown",
   "metadata": {},
   "source": [
    "问题1的目标函数是最小化总的正负偏差。"
   ]
  },
  {
   "cell_type": "code",
   "execution_count": 9,
   "metadata": {},
   "outputs": [],
   "source": [
    "# 问题1的目标函数\n",
    "\n",
    "model.setObjective(u.sum('*') + v.sum('*'))"
   ]
  },
  {
   "cell_type": "code",
   "execution_count": 10,
   "metadata": {},
   "outputs": [
    {
     "name": "stdout",
     "output_type": "stream",
     "text": [
      "Gurobi Optimizer version 12.0.0 build v12.0.0rc1 (win64 - Windows 11.0 (22631.2))\n",
      "\n",
      "CPU model: Intel(R) Core(TM) Ultra 5 125H, instruction set [SSE2|AVX|AVX2]\n",
      "Thread count: 14 physical cores, 18 logical processors, using up to 18 threads\n",
      "\n",
      "Optimize a model with 19 rows, 41 columns and 75 nonzeros\n",
      "Model fingerprint: 0x0bec2f7b\n",
      "Coefficient statistics:\n",
      "  Matrix range     [5e-01, 1e+01]\n",
      "  Objective range  [1e+00, 1e+00]\n",
      "  Bounds range     [0e+00, 0e+00]\n",
      "  RHS range        [7e-01, 7e+00]\n",
      "Presolve removed 0 rows and 1 columns\n",
      "Presolve time: 0.02s\n",
      "Presolved: 19 rows, 40 columns, 75 nonzeros\n",
      "\n",
      "Iteration    Objective       Primal Inf.    Dual Inf.      Time\n",
      "       0      handle free variables                          0s\n",
      "      20    1.1466250e+01   0.000000e+00   0.000000e+00      0s\n",
      "\n",
      "Solved in 20 iterations and 0.02 seconds (0.00 work units)\n",
      "Optimal objective  1.146625000e+01\n"
     ]
    }
   ],
   "source": [
    "# 验证模型表述\n",
    "\n",
    "# model.write('CurveFitting.lp')\n",
    "\n",
    "# 运行优化引擎\n",
    "\n",
    "model.optimize()"
   ]
  },
  {
   "cell_type": "code",
   "execution_count": 11,
   "metadata": {},
   "outputs": [
    {
     "name": "stdout",
     "output_type": "stream",
     "text": [
      "\n",
      "\n",
      "_________________________________________________________________________________\n",
      "使偏差绝对值最小的最佳直线是：\n",
      "_________________________________________________________________________________\n",
      "y = 0.6375x + (0.5813)\n"
     ]
    }
   ],
   "source": [
    "# 输出报告\n",
    "\n",
    "print(\"\\n\\n_________________________________________________________________________________\")\n",
    "print(f\"使偏差绝对值最小的最佳直线是：\")\n",
    "print(\"_________________________________________________________________________________\")\n",
    "print(f\"y = {b.x:.4f}x + ({a.x:.4f})\")"
   ]
  },
  {
   "cell_type": "markdown",
   "metadata": {},
   "source": [
    "对于问题2，需要引入另一个变量$z$来捕获最大偏差的值"
   ]
  },
  {
   "cell_type": "code",
   "execution_count": 12,
   "metadata": {},
   "outputs": [],
   "source": [
    "# 最大偏差约束\n",
    "\n",
    "maxPositive_deviation = model.addConstrs( (z >= u[i] for i in observations), name='maximum_positive_deviation')\n",
    "\n",
    "maxNegative_deviation = model.addConstrs( (z >= v[i] for i in observations), name='maximum_negative_deviation')"
   ]
  },
  {
   "cell_type": "markdown",
   "metadata": {},
   "source": [
    "问题2的目标函数是最小化最大偏差。"
   ]
  },
  {
   "cell_type": "code",
   "execution_count": 13,
   "metadata": {},
   "outputs": [
    {
     "name": "stdout",
     "output_type": "stream",
     "text": [
      "Gurobi Optimizer version 12.0.0 build v12.0.0rc1 (win64 - Windows 11.0 (22631.2))\n",
      "\n",
      "CPU model: Intel(R) Core(TM) Ultra 5 125H, instruction set [SSE2|AVX|AVX2]\n",
      "Thread count: 14 physical cores, 18 logical processors, using up to 18 threads\n",
      "\n",
      "Optimize a model with 57 rows, 41 columns and 151 nonzeros\n",
      "Coefficient statistics:\n",
      "  Matrix range     [5e-01, 1e+01]\n",
      "  Objective range  [1e+00, 1e+00]\n",
      "  Bounds range     [0e+00, 0e+00]\n",
      "  RHS range        [7e-01, 7e+00]\n",
      "LP warm-start: use basis\n",
      "\n",
      "Iteration    Objective       Primal Inf.    Dual Inf.      Time\n",
      "       0    0.0000000e+00   1.146625e+01   0.000000e+00      0s\n",
      "      11    1.7250000e+00   0.000000e+00   0.000000e+00      0s\n",
      "\n",
      "Solved in 11 iterations and 0.01 seconds (0.00 work units)\n",
      "Optimal objective  1.725000000e+00\n"
     ]
    }
   ],
   "source": [
    "# 问题2的目标函数\n",
    "\n",
    "model.setObjective(z)\n",
    "\n",
    "# 运行优化引擎\n",
    "\n",
    "model.optimize()"
   ]
  },
  {
   "cell_type": "code",
   "execution_count": 14,
   "metadata": {},
   "outputs": [
    {
     "name": "stdout",
     "output_type": "stream",
     "text": [
      "\n",
      "\n",
      "_________________________________________________________________________________\n",
      "使最大偏差最小的最佳直线是：\n",
      "_________________________________________________________________________________\n",
      "y = 0.6250x + (-0.4000)\n"
     ]
    }
   ],
   "source": [
    "# 输出报告\n",
    "\n",
    "print(\"\\n\\n_________________________________________________________________________________\")\n",
    "print(f\"使最大偏差最小的最佳直线是：\")\n",
    "print(\"_________________________________________________________________________________\")\n",
    "print(f\"y = {b.x:.4f}x + ({a.x:.4f})\")"
   ]
  },
  {
   "cell_type": "markdown",
   "metadata": {},
   "source": [
    "---\n",
    "## 参考文献\n",
    "\n",
    "H. Paul Williams著，《数学规划中的模型构建》，第五版。\n",
    "\n",
    "版权所有 © 2020 Gurobi Optimization, LLC"
   ]
  },
  {
   "cell_type": "code",
   "execution_count": null,
   "metadata": {},
   "outputs": [],
   "source": []
  }
 ],
 "metadata": {
  "kernelspec": {
   "display_name": "Python 3",
   "language": "python",
   "name": "python3"
  },
  "language_info": {
   "codemirror_mode": {
    "name": "ipython",
    "version": 3
   },
   "file_extension": ".py",
   "mimetype": "text/x-python",
   "name": "python",
   "nbconvert_exporter": "python",
   "pygments_lexer": "ipython3",
   "version": "3.12.2"
  }
 },
 "nbformat": 4,
 "nbformat_minor": 2
}
