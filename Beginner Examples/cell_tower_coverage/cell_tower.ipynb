{
 "cells": [
  {
   "cell_type": "markdown",
   "metadata": {},
   "source": [
    "# 基站覆盖问题"
   ]
  },
  {
   "cell_type": "markdown",
   "metadata": {},
   "source": [
    "## 目标和前提条件\n",
    "\n",
    "想学习如何配置基站网络以为尽可能多的人提供信号覆盖吗？在这个示例中，您将学习如何解决这个简单的覆盖问题。我们将向您展示如何构建该问题的混合整数规划(MIP)模型，如何在Gurobi Python API中实现这个模型，以及如何使用Gurobi优化器找到最优解。\n",
    "\n",
    "这个建模示例属于入门级别，我们假设您了解Python，并且对构建数学优化模型有一定了解。\n",
    "\n",
    "**下载代码库：** <br />\n",
    "您可以通过点击[这里](https://github.com/Gurobi/modeling-examples/archive/master.zip)下载包含此示例和其他示例的代码库。"
   ]
  },
  {
   "cell_type": "markdown",
   "metadata": {},
   "source": [
    "## 背景介绍\n",
    "\n",
    "在过去十年中，智能手机彻底改变了我们的生活方式，其影响远超通信领域。除了打电话、发短信和收发电子邮件之外，全球现有超过20亿人使用这些设备进行导航、预约出租车、比较产品评价和价格、关注新闻、观看电影、听音乐、玩视频游戏、拍照、参与社交媒体以及众多其他应用。\n",
    "\n",
    "蜂窝网络是一个由手持智能手机组成的网络，每部手机通过基站（基站塔）的本地天线以无线电波与电话网络进行通信。一个重要的问题是如何布置基站塔，以便为最多数量的人提供信号覆盖。"
   ]
  },
  {
   "cell_type": "markdown",
   "metadata": {},
   "source": [
    "## 问题描述\n",
    "\n",
    "某电信公司需要建设一系列基站塔，为特定城市的居民提供信号覆盖。已经确定了一些可能的基站建设位置。基站有固定的覆盖范围，而且由于预算限制，只能建设有限数量的基站。在这些限制条件下，公司希望为尽可能多的人口提供覆盖。为简化问题，公司将需要覆盖的区域划分为若干个区域，每个区域都有已知的人口数量。目标是选择在哪些潜在位置建设基站塔，以便为尽可能多的人提供覆盖。\n",
    "\n",
    "基站覆盖问题是最大覆盖位置问题[1]的一个实例。它也与集合覆盖问题相关。集合覆盖问题在许多不同领域都有应用，航空业有非常重要的应用。例如，机组排班和飞机尾号分配问题[2]。"
   ]
  },
  {
   "cell_type": "markdown",
   "metadata": {},
   "source": [
    "## 解决方案\n",
    "\n",
    "数学规划是一种声明式方法，建模者通过制定数学优化模型来捕获复杂决策问题的关键方面。Gurobi优化器使用最先进的数学和计算机科学来解决这些模型。\n",
    "\n",
    "数学优化模型有五个组成部分，即：\n",
    "\n",
    "* 集合和索引\n",
    "* 参数\n",
    "* 决策变量\n",
    "* 目标函数\n",
    "* 约束条件\n",
    "\n",
    "现在我们将为基站覆盖问题提出一个混合整数规划(MIP)模型。"
   ]
  },
  {
   "cell_type": "markdown",
   "metadata": {},
   "source": [
    "## 模型公式\n",
    "\n",
    "### 集合和索引\n",
    "\n",
    "$i \\in T$: 建设基站的潜在位置的索引和集合。\n",
    "\n",
    "$j \\in R$: 区域的索引和集合。\n",
    "\n",
    "$G(T,R,E)$: 定义在潜在基站位置集合$T$、我们希望覆盖的区域集合$R$上的二分图，$E$是边的集合，如果区域$j \\in R$可以被位置$i \\in T$上的基站覆盖，则有边$(i,j) \\in E$。\n",
    "\n",
    "### 参数\n",
    "\n",
    "$c_{i} \\in \\mathbb{R}^+$: 在位置$i$建设基站的成本。\n",
    "\n",
    "$p_{j} \\in \\mathbb{N}$: 区域$j$的人口。\n",
    "\n",
    "### 决策变量\n",
    "\n",
    "$covered_{j} \\in \\{0, 1 \\}$: 如果区域$j$被覆盖，则该变量等于1；否则等于0。\n",
    "\n",
    "$build_{i} \\in \\{0, 1 \\}$: 如果建设基站$i$，则该变量等于1；否则等于0。\n",
    "\n",
    "### 目标函数\n",
    "\n",
    "- **覆盖人口**。我们寻求最大化基站覆盖的总人口。\n",
    "\n",
    "\\begin{equation}\n",
    "\\text{Max} \\quad Z = \\sum_{j \\in R} p_{j} \\cdot covered_{j}\n",
    "\\tag{0}\n",
    "\\end{equation}\n",
    "\n",
    "### 约束条件\n",
    "\n",
    "- **覆盖**。对于每个区域$j \\in R$，确保至少选择一个覆盖该区域的基站。\n",
    "\n",
    "\\begin{equation}\n",
    "\\sum_{(i,j) \\in E} build_{i} \\geq covered_{j} \\quad \\forall j \\in R\n",
    "\\tag{1}\n",
    "\\end{equation}\n",
    "\n",
    "- **预算**。我们需要确保建设基站的总成本不超过分配的预算。\n",
    "\n",
    "\\begin{equation}\n",
    "\\sum_{i \\in T} c_{i} \\cdot build_{i} \\leq \\text{budget}\n",
    "\\tag{2}\n",
    "\\end{equation}"
   ]
  },
  {
   "cell_type": "markdown",
   "metadata": {},
   "source": [
    "## Python 实现\n",
    "\n",
    "这个示例考虑了6个基站和9个区域的二分图。下表说明了每个基站位置（行）覆盖的区域（列）。\n",
    "\n",
    "| <i></i> | 区域 0 | 区域 1 | 区域 2 | 区域 3 | 区域 4 | 区域 5 | 区域 6 | 区域 7 | 区域 8 |\n",
    "| --- | --- | --- | --- | --- | --- | --- | --- | --- |  --- |\n",
    "| 基站 0 | 1 | 1 | - | - | - | 1 | - | - |  - |\n",
    "| 基站 1 | 1 | - | - | - | - | - | - | 1 |  1 |\n",
    "| 基站 2 | - | - | 1 | 1 | 1 | - | 1 | - |  - |\n",
    "| 基站 3 | - | - | 1 | - | - | 1 | 1 | - |  - |\n",
    "| 基站 4 | 1 | - | 1 | - | - | - | 1 | 1 |  1 |\n",
    "| 基站 5 | - | - | - | 1 | 1 | - | - | - |  1 |\n",
    "\n",
    "每个区域的人口如下表所示。\n",
    "\n",
    "| <i></i> | 区域 0 | 区域 1 | 区域 2 | 区域 3 | 区域 4 | 区域 5 | 区域 6 | 区域 7 | 区域 8 |\n",
    "| --- | --- | --- | --- | --- | --- | --- | --- | --- | --- |\n",
    "| 人口 | 523 | 690 | 420 | 1010 | 1200 | 850 | 400 | 1008 | 950 |\n",
    "\n",
    "在每个位置建设基站的成本如下表所示。\n",
    "\n",
    "| <i></i> | 成本（百万美元） |\n",
    "| --- | --- |\n",
    "| 基站 0 | 4.2 |\n",
    "| 基站 1 | 6.1 |\n",
    "| 基站 2 | 5.2 |\n",
    "| 基站 3 | 5.5 |\n",
    "| 基站 4 | 4.8 |\n",
    "| 基站 5 | 9.2 | \n",
    "\n",
    "分配的预算为$\\$20,000,000$。\n",
    "\n",
    "现在我们导入Gurobi Python模块。然后，我们用给定的数据初始化数据结构。\n"
   ]
  },
  {
   "cell_type": "code",
   "execution_count": null,
   "metadata": {},
   "outputs": [],
   "source": [
    "# %pip install gurobipy"
   ]
  },
  {
   "cell_type": "code",
   "execution_count": 1,
   "metadata": {},
   "outputs": [],
   "source": [
    "import gurobipy as gp\n",
    "from gurobipy import GRB\n",
    "\n",
    "# tested with Gurobi v9.0.0 and Python 3.7.0\n",
    "\n",
    "# 参数\n",
    "budget = 20\n",
    "regions, population = gp.multidict({\n",
    "    0: 523, 1: 690, 2: 420,\n",
    "    3: 1010, 4: 1200, 5: 850,\n",
    "    6: 400, 7: 1008, 8: 950\n",
    "})\n",
    "\n",
    "sites, coverage, cost = gp.multidict({\n",
    "    0: [{0,1,5}, 4.2],\n",
    "    1: [{0,7,8}, 6.1],\n",
    "    2: [{2,3,4,6}, 5.2],\n",
    "    3: [{2,5,6}, 5.5],\n",
    "    4: [{0,2,6,7,8}, 4.8],\n",
    "    5: [{3,4,8}, 9.2]\n",
    "})\n"
   ]
  },
  {
   "cell_type": "markdown",
   "metadata": {},
   "source": [
    "### 模型部署\n",
    "\n",
    "现在我们确定基站覆盖问题的模型，定义决策变量、约束条件和目标函数。接下来，我们开始优化过程，Gurobi找到在给定预算下最大化人口覆盖的基站建设计划。"
   ]
  },
  {
   "cell_type": "code",
   "execution_count": 7,
   "metadata": {
    "scrolled": true
   },
   "outputs": [
    {
     "name": "stdout",
     "output_type": "stream",
     "text": [
      "Set parameter LicenseID to value 2601452\n",
      "Gurobi Optimizer version 12.0.0 build v12.0.0rc1 (win64 - Windows 11.0 (22631.2))\n",
      "\n",
      "CPU model: Intel(R) Core(TM) Ultra 5 125H, instruction set [SSE2|AVX|AVX2]\n",
      "Thread count: 14 physical cores, 18 logical processors, using up to 18 threads\n",
      "\n",
      "Optimize a model with 10 rows, 15 columns and 36 nonzeros\n",
      "Model fingerprint: 0xf0a21eec\n",
      "Variable types: 0 continuous, 15 integer (15 binary)\n",
      "Coefficient statistics:\n",
      "  Matrix range     [1e+00, 9e+00]\n",
      "  Objective range  [4e+02, 1e+03]\n",
      "  Bounds range     [1e+00, 1e+00]\n",
      "  RHS range        [2e+01, 2e+01]\n",
      "Found heuristic solution: objective -0.0000000\n",
      "Presolve removed 10 rows and 15 columns\n",
      "Presolve time: 0.00s\n",
      "Presolve: All rows and columns removed\n",
      "\n",
      "Explored 0 nodes (0 simplex iterations) in 0.01 seconds (0.00 work units)\n",
      "Thread count was 1 (of 18 available processors)\n",
      "\n",
      "Solution count 2: 7051 -0 \n",
      "\n",
      "Optimal solution found (tolerance 1.00e-04)\n",
      "Best objective 7.051000000000e+03, best bound 7.051000000000e+03, gap 0.0000%\n"
     ]
    }
   ],
   "source": [
    "# MIP模型公式\n",
    "m = gp.Model(\"cell_tower\")\n",
    "\n",
    "build = m.addVars(len(sites), vtype=GRB.BINARY, name=\"Build\")\n",
    "is_covered = m.addVars(len(regions), vtype=GRB.BINARY, name=\"Is_covered\")\n",
    "\n",
    "m.addConstrs((gp.quicksum(build[t] for t in sites if r in coverage[t]) >= is_covered[r]\n",
    "                        for r in regions), name=\"Build2cover\")\n",
    "m.addConstr(build.prod(cost) <= budget, name=\"budget\")\n",
    "\n",
    "m.setObjective(is_covered.prod(population), GRB.MAXIMIZE)\n",
    "\n",
    "m.optimize() "
   ]
  },
  {
   "cell_type": "markdown",
   "metadata": {},
   "source": [
    "## 分析\n",
    "优化模型的结果显示，在$\\$20,000,000$预算下，最大可覆盖人口为7,051人。让我们看看实现该最优结果的解决方案。\n",
    "\n",
    "### 基站建设计划\n",
    "\n",
    "该计划确定在哪些位置建设基站。"
   ]
  },
  {
   "cell_type": "code",
   "execution_count": 8,
   "metadata": {},
   "outputs": [
    {
     "name": "stdout",
     "output_type": "stream",
     "text": [
      "\n",
      " Build a cell tower at location Tower 0.\n",
      "\n",
      " Build a cell tower at location Tower 4.\n",
      "\n",
      " Build a cell tower at location Tower 5.\n"
     ]
    }
   ],
   "source": [
    "# 显示决策变量的最优值\n",
    "\n",
    "for tower in build.keys():\n",
    "    if (abs(build[tower].x) > 1e-6):\n",
    "        print(f\"\\n Build a cell tower at location Tower {tower}.\")"
   ]
  },
  {
   "cell_type": "markdown",
   "metadata": {},
   "source": [
    "### 需求满足指标\n",
    "\n",
    "- **覆盖率**：基站覆盖的人口百分比。"
   ]
  },
  {
   "cell_type": "code",
   "execution_count": 9,
   "metadata": {},
   "outputs": [
    {
     "name": "stdout",
     "output_type": "stream",
     "text": [
      "\n",
      " The population coverage associated to the cell towers build plan is: 100.0 %\n"
     ]
    }
   ],
   "source": [
    "# 计算基站覆盖的人口百分比。\n",
    "\n",
    "total_population = 0\n",
    "\n",
    "for region in range(len(regions)):\n",
    "    total_population += population[region]\n",
    "\n",
    "coverage = round(100*m.objVal/total_population, 2)\n",
    "\n",
    "print(f\"\\n The population coverage associated to the cell towers build plan is: {coverage} %\")"
   ]
  },
  {
   "cell_type": "markdown",
   "metadata": {},
   "source": [
    "### 资源利用指标\n",
    "\n",
    "- **预算消耗**：建设基站所消耗的预算百分比。"
   ]
  },
  {
   "cell_type": "code",
   "execution_count": 10,
   "metadata": {},
   "outputs": [
    {
     "name": "stdout",
     "output_type": "stream",
     "text": [
      "\n",
      " The percentage of budget consumed associated to the cell towers build plan is: 91.0 %\n"
     ]
    }
   ],
   "source": [
    "# 计算建设基站所消耗的预算百分比。\n",
    "\n",
    "total_cost = 0\n",
    "\n",
    "for tower in range(len(sites)):\n",
    "    if (abs(build[tower].x) > 0.5):\n",
    "        total_cost += cost[tower]*int(build[tower].x)\n",
    "\n",
    "budget_consumption = round(100*total_cost/budget, 2)\n",
    "\n",
    "print(f\"\\n The percentage of budget consumed associated to the cell towers build plan is: {budget_consumption} %\")"
   ]
  },
  {
   "cell_type": "markdown",
   "metadata": {},
   "source": [
    "## 结论\n",
    "\n",
    "在这个示例中，我们解决了建设基站以为尽可能多的人提供信号覆盖的问题，同时满足预算约束。我们学习了如何将问题公式化为MIP模型。还学习了如何实现MIP模型公式并使用Gurobi Python API求解。"
   ]
  },
  {
   "cell_type": "markdown",
   "metadata": {},
   "source": [
    "## 参考文献\n",
    "\n",
    "[1] Richard Church and Charles R. Velle. \"The Maximal Covering Location Problem\". Papers in Regional Science, 1974, vol. 32, issue 1, 101-118.\n",
    "\n",
    "[2] Tail Assignment Problem. https://www.gurobi.com/case_study/air-france-tail-assignment-optimization/"
   ]
  },
  {
   "cell_type": "markdown",
   "metadata": {},
   "source": [
    "Copyright © 2020 Gurobi Optimization, LLC"
   ]
  }
 ],
 "metadata": {
  "kernelspec": {
   "display_name": "Python 3",
   "language": "python",
   "name": "python3"
  },
  "language_info": {
   "codemirror_mode": {
    "name": "ipython",
    "version": 3
   },
   "file_extension": ".py",
   "mimetype": "text/x-python",
   "name": "python",
   "nbconvert_exporter": "python",
   "pygments_lexer": "ipython3",
   "version": "3.12.2"
  }
 },
 "nbformat": 4,
 "nbformat_minor": 2
}
