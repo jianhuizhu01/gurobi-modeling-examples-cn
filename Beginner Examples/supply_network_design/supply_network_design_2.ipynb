{
 "cells": [
  {
   "cell_type": "markdown",
   "metadata": {},
   "source": [
    "# 供应网络设计 2\n",
    "\n",
    "## 目标和前提条件\n",
    "\n",
    "在本示例中，让我们将您的供应链网络设计技能提升到更高水平。我们将向您展示如何在给定一组工厂、仓库和客户的情况下，使用数学优化来确定应该开设或关闭哪些仓库以最小化总成本。\n",
    "\n",
    "此模型是 H. Paul Williams 所著《数学规划中的模型构建》第五版第275-276页和332-333页中的示例20。\n",
    "\n",
    "这是一个初级难度的示例；我们假设您了解 Python 并对 Gurobi Python API 和构建数学优化模型有一定了解。\n",
    "\n",
    "**下载代码库** <br />\n",
    "您可以通过点击[这里](https://github.com/Gurobi/modeling-examples/archive/master.zip)下载包含此示例和其他示例的代码库。\n",
    "\n",
    "---\n",
    "## 问题描述\n",
    "\n",
    "在这个问题中，我们有六个最终客户，每个客户对产品都有已知的需求。客户需求可以从六个仓库中的任何一个得到满足，或直接从两个工厂获得供应。每个仓库都有通过它的最大产品流量限制，每个工厂都有最大生产量限制。从工厂到仓库、从仓库到客户或从工厂直接到客户运输产品都有已知的成本。这个扩展版本提供了在六个可能的仓库中选择四个开设的机会。它还提供了在一个特定仓库扩大容量的选择。\n",
    "\n",
    "我们的供应网络有两个工厂，分别位于利物浦和布莱顿，生产一种产品。每个工厂都有最大生产能力：\n",
    "\n",
    "| 工厂 | 供应量（吨） |\n",
    "| --- | --- |\n",
    "| 利物浦 | 150,000 |\n",
    "| 布莱顿 | 200,000 |\n",
    "\n",
    "产品可以从工厂运送到六个仓库中的任何一个。每个仓库都有最大吞吐量。仓库不生产或消耗产品；它们只是将产品传递给客户。\n",
    "\n",
    "| 仓库 | 吞吐量（吨） |\n",
    "| --- | --- |\n",
    "| 纽卡斯尔 | 70,000 |\n",
    "| 伯明翰 | 50,000 |\n",
    "| 伦敦 | 100,000 |\n",
    "| 埃克塞特 | 40,000 |\n",
    "| 布里斯托尔 | 30,000 |\n",
    "| 北安普顿 | 25,000 |\n",
    "\n",
    "实际上，我们只能在六个仓库中选择四个开设。开设仓库需要成本：\n",
    "\n",
    "| 仓库 | 开设成本 |\n",
    "| --- | --- |\n",
    "| 纽卡斯尔 | 10,000 |\n",
    "| 埃克塞特 | 5,000 |\n",
    "| 布里斯托尔 | 12,000 |\n",
    "| 北安普顿 | 4,000 |\n",
    "\n",
    "（注意：书中提到开设布里斯托尔或北安普顿的成本，以及关闭纽卡斯尔或埃克塞特的节省，但这些只是表达同一选择的不同方式）。\n",
    "\n",
    "我们还可以选择以3000美元的成本将伯明翰的容量扩大20,000吨。\n",
    "\n",
    "我们的网络有六个客户，每个客户都有给定的需求。\n",
    "\n",
    "| 客户 | 需求（吨） |\n",
    "| --- | --- |\n",
    "| C1 | 50,000 |\n",
    "| C2 | 10,000 |\n",
    "| C3 | 40,000 |\n",
    "| C4 | 35,000 |\n",
    "| C5 | 60,000 |\n",
    "| C6 | 20,000 |\n",
    "\n",
    "运输成本在下表中给出（单位：美元/吨）。列为源城市，行为目的地城市。例如，从利物浦运送产品到伦敦的成本为每吨1美元。表中的'-'表示该组合不可行，例如无法从布莱顿工厂运送到纽卡斯尔仓库。\n",
    "\n",
    "| 目的地 | 利物浦 | 布莱顿 | 纽卡斯尔 | 伯明翰 | 伦敦 | 埃克塞特 | 布里斯托尔 | 北安普顿\n",
    "| --- | --- | --- | --- | --- | --- | --- | --- | --- |\n",
    "| 仓库 |\n",
    "| 纽卡斯尔 | 0.5 | - |\n",
    "| 伯明翰 | 0.5 | 0.3 |\n",
    "| 伦敦 | 1.0 | 0.5 |\n",
    "| 埃克塞特 | 0.2 | 0.2 |\n",
    "| 布里斯托尔 | 0.6 | 0.4 |\n",
    "| 北安普顿 | 0.4 | 0.3 |\n",
    "| 客户 |\n",
    "| C1 | 1.0 | 2.0 | - | 1.0 | - | - | 1.2 | - |\n",
    "| C2 | - | - | 1.5 | 0.5 | 1.5 | - | 0.6 | 0.4 |\n",
    "| C3 | 1.5 | - | 0.5 | 0.5 | 2.0 | 0.2 | 0.5 | - |\n",
    "| C4 | 2.0 | - | 1.5 | 1.0 | - | 1.5 | - | 0.5 |\n",
    "| C5 | - | - | - | 0.5 | 0.5 | 0.5 | 0.3 | 0.6 |\n",
    "| C6 | 1.0 | - | 1.0 | - | 1.5 | 1.5 | 0.8 | 0.9 |\n",
    "\n",
    "需要回答的问题是：(i) 应该开设哪四个仓库？(ii) 是否应该扩大伯明翰的容量？(iii) 应该使用哪些仓库来满足客户需求？\n",
    "\n",
    "---\n",
    "## 模型构建\n",
    "\n",
    "### 集合和索引\n",
    "\n",
    "$f \\in \\text{工厂}=\\{\\text{利物浦}, \\text{布莱顿}\\}$\n",
    "\n",
    "$d \\in \\text{仓库}=\\{\\text{纽卡斯尔}, \\text{伯明翰}, \\text{伦敦}, \\text{埃克塞特}, \\text{布里斯托尔}, \\text{北安普顿}\\}$\n",
    "\n",
    "$c \\in \\text{客户}=\\{\\text{C1}, \\text{C2}, \\text{C3}, \\text{C4}, \\text{C5}, \\text{C6}\\}$\n",
    "\n",
    "$\\text{城市} = \\text{工厂} \\cup \\text{仓库} \\cup \\text{客户}$\n",
    "\n",
    "### 参数\n",
    "\n",
    "$\\text{成本}_{s,t} \\in \\mathbb{R}^+$: 从源点 $s$ 到目的地 $t$ 运输一吨产品的成本。\n",
    "\n",
    "$\\text{供应}_f \\in \\mathbb{R}^+$: 工厂 $f$ 的最大可能供应量（吨）。\n",
    "\n",
    "$\\text{吞吐量}_d \\in \\mathbb{R}^+$: 仓库 $d$ 的最大可能流通量（吨）。\n",
    "\n",
    "$\\text{需求}_c \\in \\mathbb{R}^+$: 客户 $c$ 的产品需求量（吨）。\n",
    "\n",
    "$\\text{开设成本}_d \\in \\mathbb{R}^+$: 开设仓库 $d$ 的成本（美元）。\n",
    "\n",
    "### 决策变量\n",
    "\n",
    "$\\text{流量}_{s,t} \\in \\mathbb{N}^+$: 从源点 $s$ 到目的地 $t$ 运送的产品数量（吨）。\n",
    "\n",
    "$\\text{开设}_{d} \\in [0,1]$: 仓库 $d$ 是否开设？\n",
    "\n",
    "$\\text{扩容} \\in [0,1]$: 是否应该扩大伯明翰的容量？\n",
    "\n",
    "### 目标函数\n",
    "\n",
    "- **成本**: 最小化总运输成本加上开设仓库的成本。\n",
    "\n",
    "\\begin{equation}\n",
    "\\text{最小化} \\quad Z = \\sum_{(s,t) \\in \\text{城市} \\times \\text{城市}}{\\text{成本}_{s,t}*\\text{流量}_{s,t}} +\n",
    "                          \\sum_{{d} \\in \\text{仓库}}{\\text{开设成本}_d*\\text{开设}_d} +\n",
    "                          3000 * \\text{扩容}\n",
    "\\end{equation}\n",
    "\n",
    "### 约束条件\n",
    "\n",
    "- **工厂产出**: 从工厂流出的产品量必须遵守最大产能限制。\n",
    "\n",
    "\\begin{equation}\n",
    "\\sum_{t \\in \\text{城市}}{\\text{流量}_{f,t}} \\leq \\text{供应}_{f} \\quad \\forall f \\in \\text{工厂}\n",
    "\\end{equation}\n",
    "\n",
    "- **客户需求**: 产品流量必须满足客户需求。\n",
    "\n",
    "\\begin{equation}\n",
    "\\sum_{s \\in \\text{城市}}{\\text{流量}_{s,c}} = \\text{需求}_{c} \\quad \\forall c \\in \\text{客户}\n",
    "\\end{equation}\n",
    "\n",
    "- **仓库流量**: 进入仓库的流量等于离开仓库的流量。\n",
    "\n",
    "\\begin{equation}\n",
    "\\sum_{s \\in \\text{城市}}{\\text{流量}_{s,d}} = \n",
    "\\sum_{t \\in \\text{城市}}{\\text{流量}_{d,t}}\n",
    "\\quad \\forall d \\in \\text{仓库}\n",
    "\\end{equation}\n",
    "\n",
    "- **仓库容量（除伯明翰外）**: 进入仓库的流量必须遵守仓库容量限制，且仅当仓库开设时才允许有流量。\n",
    "\n",
    "\\begin{equation}\n",
    "\\sum_{s \\in \\text{城市}}{\\text{流量}_{s,d}} \\leq \\text{吞吐量}_{d} * \\text{开设}_{d}\n",
    "\\quad \\forall d \\in \\text{仓库} - \\text{伯明翰}\n",
    "\\end{equation}\n",
    "\n",
    "- **仓库容量（伯明翰）**: 进入伯明翰的流量必须遵守仓库容量限制，该容量可能已被扩大。\n",
    "\n",
    "\\begin{equation}\n",
    "\\sum_{s \\in \\text{城市}} \\text{流量}_{s,\\text{伯明翰}} \\leq \\text{吞吐量}_{\\text{伯明翰}} + 20000 * \\text{扩容}\n",
    "\\end{equation}\n",
    "\n",
    "- **开设仓库**: 最多开设4个仓库（伯明翰和伦敦没有选择）。\n",
    "\n",
    "\\begin{equation}\n",
    "\\sum_{d \\in \\text{仓库}}{\\text{开设}_{d}} \\leq 4\n",
    "\\end{equation}\n",
    "\n",
    "\\begin{equation}\n",
    "\\text{开设}_{\\text{伯明翰}} = \\text{开设}_{\\text{伦敦}} = 1\n",
    "\\end{equation}\n",
    "\n",
    "---\n",
    "## Python实现\n",
    "\n",
    "我们导入Gurobi Python模块和其他Python库。"
   ]
  },
  {
   "cell_type": "code",
   "execution_count": null,
   "metadata": {},
   "outputs": [],
   "source": [
    "# %pip install gurobipy"
   ]
  },
  {
   "cell_type": "code",
   "execution_count": 1,
   "metadata": {},
   "outputs": [],
   "source": [
    "import pandas as pd\n",
    "\n",
    "import gurobipy as gp\n",
    "from gurobipy import GRB\n",
    "\n",
    "# 测试环境：Python 3.11 & Gurobi 11.0"
   ]
  },
  {
   "cell_type": "markdown",
   "metadata": {},
   "source": [
    "## 输入数据\n",
    "我们定义模型的所有输入数据。"
   ]
  },
  {
   "cell_type": "code",
   "execution_count": 2,
   "metadata": {},
   "outputs": [],
   "source": [
    "# 创建字典来存储工厂供应限制、仓库吞吐量限制、开设仓库成本和客户需求\n",
    "\n",
    "supply = dict({'Liverpool': 150000,\n",
    "               'Brighton': 200000})\n",
    "\n",
    "through = dict({'Newcastle': 70000,\n",
    "                'Birmingham': 50000,\n",
    "                'London': 100000,\n",
    "                'Exeter': 40000,\n",
    "                'Bristol': 30000,\n",
    "                'Northampton': 25000})\n",
    "\n",
    "opencost = dict({'Newcastle': 10000,\n",
    "                 'Birmingham': 0,\n",
    "                 'London': 0,\n",
    "                 'Exeter': 5000,\n",
    "                 'Bristol': 12000,\n",
    "                 'Northampton': 4000})\n",
    "\n",
    "demand = dict({'C1': 50000,\n",
    "               'C2': 10000,\n",
    "               'C3': 40000,\n",
    "               'C4': 35000,\n",
    "               'C5': 60000,\n",
    "               'C6': 20000})\n",
    "\n",
    "# 创建字典来存储运输成本\n",
    "\n",
    "arcs, cost = gp.multidict({\n",
    "    ('Liverpool', 'Newcastle'): 0.5,\n",
    "    ('Liverpool', 'Birmingham'): 0.5,\n",
    "    ('Liverpool', 'London'): 1.0,\n",
    "    ('Liverpool', 'Exeter'): 0.2,\n",
    "    ('Liverpool', 'Bristol'): 0.6,\n",
    "    ('Liverpool', 'Northampton'): 0.4,\n",
    "    ('Liverpool', 'C1'): 1.0,\n",
    "    ('Liverpool', 'C3'): 1.5,\n",
    "    ('Liverpool', 'C4'): 2.0,\n",
    "    ('Liverpool', 'C6'): 1.0,\n",
    "    ('Brighton', 'Birmingham'): 0.3,\n",
    "    ('Brighton', 'London'): 0.5,\n",
    "    ('Brighton', 'Exeter'): 0.2,\n",
    "    ('Brighton', 'Bristol'): 0.4,\n",
    "    ('Brighton', 'Northampton'): 0.3,\n",
    "    ('Brighton', 'C1'): 2.0,\n",
    "    ('Newcastle', 'C2'): 1.5,\n",
    "    ('Newcastle', 'C3'): 0.5,\n",
    "    ('Newcastle', 'C5'): 1.5,\n",
    "    ('Newcastle', 'C6'): 1.0,\n",
    "    ('Birmingham', 'C1'): 1.0,\n",
    "    ('Birmingham', 'C2'): 0.5,\n",
    "    ('Birmingham', 'C3'): 0.5,\n",
    "    ('Birmingham', 'C4'): 1.0,\n",
    "    ('Birmingham', 'C5'): 0.5,\n",
    "    ('London', 'C2'): 1.5,\n",
    "    ('London', 'C3'): 2.0,\n",
    "    ('London', 'C5'): 0.5,\n",
    "    ('London', 'C6'): 1.5,\n",
    "    ('Exeter', 'C3'): 0.2,\n",
    "    ('Exeter', 'C4'): 1.5,\n",
    "    ('Exeter', 'C5'): 0.5,\n",
    "    ('Exeter', 'C6'): 1.5,\n",
    "    ('Bristol', 'C1'): 1.2,\n",
    "    ('Bristol', 'C2'): 0.6,\n",
    "    ('Bristol', 'C3'): 0.5,\n",
    "    ('Bristol', 'C5'): 0.3,\n",
    "    ('Bristol', 'C6'): 0.8,\n",
    "    ('Northampton', 'C2'): 0.4,\n",
    "    ('Northampton', 'C4'): 0.5,\n",
    "    ('Northampton', 'C5'): 0.6,\n",
    "    ('Northampton', 'C6'): 0.9\n",
    "})"
   ]
  },
  {
   "cell_type": "markdown",
   "metadata": {},
   "source": [
    "## 模型部署\n",
    "\n",
    "我们创建模型和变量。'flow'变量简单地捕获在源点和目的地之间允许路径上流动的产品数量。'open'变量捕获关于开设哪些仓库的决策。'expand'变量捕获是否扩大伯明翰容量的选择。这里提供了目标系数，所以我们后面不需要再提供优化目标。"
   ]
  },
  {
   "cell_type": "code",
   "execution_count": 3,
   "metadata": {},
   "outputs": [
    {
     "name": "stdout",
     "output_type": "stream",
     "text": [
      "Set parameter LicenseID to value 2601452\n"
     ]
    }
   ],
   "source": [
    "model = gp.Model('SupplyNetworkDesign2')\n",
    "\n",
    "depots = through.keys()\n",
    "flow = model.addVars(arcs, obj=cost, name=\"flow\")\n",
    "open = model.addVars(depots, obj=opencost, vtype=GRB.BINARY, name=\"open\")\n",
    "expand = model.addVar(obj=3000, vtype=GRB.BINARY, name=\"expand\")\n",
    "\n",
    "open['Birmingham'].lb = 1\n",
    "open['London'].lb = 1\n",
    "model.objcon = -(opencost['Newcastle'] + opencost['Exeter']) # 表达为“关闭的节省”"
   ]
  },
  {
   "cell_type": "markdown",
   "metadata": {},
   "source": [
    "我们的第一个约束要求离开工厂的总流量不能超过该工厂的供应能力。"
   ]
  },
  {
   "cell_type": "code",
   "execution_count": 4,
   "metadata": {},
   "outputs": [],
   "source": [
    "# 生产能力限制\n",
    "\n",
    "factories = supply.keys()\n",
    "factory_flow = model.addConstrs((gp.quicksum(flow.select(factory, '*')) <= supply[factory]\n",
    "                                 for factory in factories), name=\"factory\")"
   ]
  },
  {
   "cell_type": "markdown",
   "metadata": {},
   "source": [
    "我们的下一个约束要求进入客户的总流量必须等于该客户的需求量。"
   ]
  },
  {
   "cell_type": "code",
   "execution_count": 5,
   "metadata": {},
   "outputs": [],
   "source": [
    "# 客户需求\n",
    "\n",
    "customers = demand.keys()\n",
    "customer_flow = model.addConstrs((gp.quicksum(flow.select('*', customer)) == demand[customer]\n",
    "                                  for customer in customers), name=\"customer\")"
   ]
  },
  {
   "cell_type": "markdown",
   "metadata": {},
   "source": [
    "我们的最后一组约束与仓库有关。第一个约束要求进入仓库的总产品量必须等于离开的总量。"
   ]
  },
  {
   "cell_type": "code",
   "execution_count": 6,
   "metadata": {},
   "outputs": [],
   "source": [
    "# 仓库流量守恒\n",
    "\n",
    "depot_flow = model.addConstrs((gp.quicksum(flow.select(depot, '*')) == gp.quicksum(flow.select('*', depot))\n",
    "                               for depot in depots), name=\"depot\")"
   ]
  },
  {
   "cell_type": "markdown",
   "metadata": {},
   "source": [
    "第二组约束限制通过仓库的产品量最多等于该仓库的吞吐量，如果仓库未开设则为0。"
   ]
  },
  {
   "cell_type": "code",
   "execution_count": 7,
   "metadata": {},
   "outputs": [],
   "source": [
    "# 仓库吞吐量\n",
    "\n",
    "all_but_birmingham = list(set(depots) - set(['Birmingham']))\n",
    "\n",
    "depot_capacity = model.addConstrs((gp.quicksum(flow.select(depot, '*')) <= through[depot]*open[depot]\n",
    "                                   for depot in all_but_birmingham), name=\"depot_capacity\")\n"
   ]
  },
  {
   "cell_type": "markdown",
   "metadata": {},
   "source": [
    "伯明翰的容量约束不同。该仓库始终开放，但我们可以选择扩大其容量。"
   ]
  },
  {
   "cell_type": "code",
   "execution_count": 8,
   "metadata": {},
   "outputs": [],
   "source": [
    "birmingham_capacity = model.addConstr(gp.quicksum(flow.select('*', 'Birmingham')) <= through['Birmingham'] +\n",
    "                                      20000*expand, name=\"birmingham_capacity\")"
   ]
  },
  {
   "cell_type": "markdown",
   "metadata": {},
   "source": [
    "最后，最多只能开设4个仓库"
   ]
  },
  {
   "cell_type": "code",
   "execution_count": 9,
   "metadata": {},
   "outputs": [],
   "source": [
    "# 仓库数量限制\n",
    "\n",
    "depot_count = model.addConstr(open.sum() <= 4)"
   ]
  },
  {
   "cell_type": "markdown",
   "metadata": {},
   "source": [
    "现在我们优化模型"
   ]
  },
  {
   "cell_type": "code",
   "execution_count": 10,
   "metadata": {},
   "outputs": [
    {
     "name": "stdout",
     "output_type": "stream",
     "text": [
      "Gurobi Optimizer version 12.0.0 build v12.0.0rc1 (win64 - Windows 11.0 (22631.2))\n",
      "\n",
      "CPU model: Intel(R) Core(TM) Ultra 5 125H, instruction set [SSE2|AVX|AVX2]\n",
      "Thread count: 14 physical cores, 18 logical processors, using up to 18 threads\n",
      "\n",
      "Optimize a model with 21 rows, 49 columns and 119 nonzeros\n",
      "Model fingerprint: 0xab94e1c9\n",
      "Variable types: 42 continuous, 7 integer (7 binary)\n",
      "Coefficient statistics:\n",
      "  Matrix range     [1e+00, 1e+05]\n",
      "  Objective range  [2e-01, 1e+04]\n",
      "  Bounds range     [1e+00, 1e+00]\n",
      "  RHS range        [4e+00, 2e+05]\n",
      "Presolve removed 1 rows and 2 columns\n",
      "Presolve time: 0.01s\n",
      "Presolved: 20 rows, 47 columns, 113 nonzeros\n",
      "Variable types: 42 continuous, 5 integer (5 binary)\n",
      "Found heuristic solution: objective 174000.00000\n",
      "\n",
      "Root relaxation: cutoff, 19 iterations, 0.00 seconds (0.00 work units)\n",
      "\n",
      "    Nodes    |    Current Node    |     Objective Bounds      |     Work\n",
      " Expl Unexpl |  Obj  Depth IntInf | Incumbent    BestBd   Gap | It/Node Time\n",
      "\n",
      "     0     0     cutoff    0      174000.000 174000.000  0.00%     -    0s\n",
      "\n",
      "Explored 1 nodes (19 simplex iterations) in 0.05 seconds (0.00 work units)\n",
      "Thread count was 18 (of 18 available processors)\n",
      "\n",
      "Solution count 1: 174000 \n",
      "\n",
      "Optimal solution found (tolerance 1.00e-04)\n",
      "Best objective 1.740000000000e+05, best bound 1.740000000000e+05, gap 0.0000%\n"
     ]
    }
   ],
   "source": [
    "model.optimize()"
   ]
  },
  {
   "cell_type": "markdown",
   "metadata": {},
   "source": [
    "---\n",
    "## 分析\n",
    "\n",
    "通过在北安普顿开设仓库，关闭纽卡斯尔的仓库，并扩大伯明翰的仓库容量，我们所有客户的产品需求都可以以总成本174,000美元得到满足："
   ]
  },
  {
   "cell_type": "code",
   "execution_count": 11,
   "metadata": {},
   "outputs": [
    {
     "name": "stdout",
     "output_type": "stream",
     "text": [
      "List of open depots: ['Birmingham', 'London', 'Exeter', 'Northampton']\n",
      "Expand Birmingham\n"
     ]
    }
   ],
   "source": [
    "print('List of open depots:', [d for d in depots if open[d].x > 0.5])\n",
    "if expand.x > 0.5:\n",
    "    print('Expand Birmingham')"
   ]
  },
  {
   "cell_type": "code",
   "execution_count": 12,
   "metadata": {},
   "outputs": [
    {
     "data": {
      "text/html": [
       "<div>\n",
       "<style scoped>\n",
       "    .dataframe tbody tr th:only-of-type {\n",
       "        vertical-align: middle;\n",
       "    }\n",
       "\n",
       "    .dataframe tbody tr th {\n",
       "        vertical-align: top;\n",
       "    }\n",
       "\n",
       "    .dataframe thead th {\n",
       "        text-align: right;\n",
       "    }\n",
       "</style>\n",
       "<table border=\"1\" class=\"dataframe\">\n",
       "  <thead>\n",
       "    <tr style=\"text-align: right;\">\n",
       "      <th></th>\n",
       "      <th>From</th>\n",
       "      <th>To</th>\n",
       "      <th>Flow</th>\n",
       "    </tr>\n",
       "  </thead>\n",
       "  <tbody>\n",
       "    <tr>\n",
       "      <th></th>\n",
       "      <td>Liverpool</td>\n",
       "      <td>C1</td>\n",
       "      <td>50000.0</td>\n",
       "    </tr>\n",
       "    <tr>\n",
       "      <th></th>\n",
       "      <td>Liverpool</td>\n",
       "      <td>C6</td>\n",
       "      <td>20000.0</td>\n",
       "    </tr>\n",
       "    <tr>\n",
       "      <th></th>\n",
       "      <td>Brighton</td>\n",
       "      <td>Birmingham</td>\n",
       "      <td>70000.0</td>\n",
       "    </tr>\n",
       "    <tr>\n",
       "      <th></th>\n",
       "      <td>Brighton</td>\n",
       "      <td>London</td>\n",
       "      <td>10000.0</td>\n",
       "    </tr>\n",
       "    <tr>\n",
       "      <th></th>\n",
       "      <td>Brighton</td>\n",
       "      <td>Exeter</td>\n",
       "      <td>40000.0</td>\n",
       "    </tr>\n",
       "    <tr>\n",
       "      <th></th>\n",
       "      <td>Brighton</td>\n",
       "      <td>Northampton</td>\n",
       "      <td>25000.0</td>\n",
       "    </tr>\n",
       "    <tr>\n",
       "      <th></th>\n",
       "      <td>Birmingham</td>\n",
       "      <td>C2</td>\n",
       "      <td>10000.0</td>\n",
       "    </tr>\n",
       "    <tr>\n",
       "      <th></th>\n",
       "      <td>Birmingham</td>\n",
       "      <td>C4</td>\n",
       "      <td>10000.0</td>\n",
       "    </tr>\n",
       "    <tr>\n",
       "      <th></th>\n",
       "      <td>Birmingham</td>\n",
       "      <td>C5</td>\n",
       "      <td>50000.0</td>\n",
       "    </tr>\n",
       "    <tr>\n",
       "      <th></th>\n",
       "      <td>London</td>\n",
       "      <td>C5</td>\n",
       "      <td>10000.0</td>\n",
       "    </tr>\n",
       "    <tr>\n",
       "      <th></th>\n",
       "      <td>Exeter</td>\n",
       "      <td>C3</td>\n",
       "      <td>40000.0</td>\n",
       "    </tr>\n",
       "    <tr>\n",
       "      <th></th>\n",
       "      <td>Northampton</td>\n",
       "      <td>C4</td>\n",
       "      <td>25000.0</td>\n",
       "    </tr>\n",
       "  </tbody>\n",
       "</table>\n",
       "</div>"
      ],
      "text/plain": [
       "         From           To     Flow\n",
       "    Liverpool           C1  50000.0\n",
       "    Liverpool           C6  20000.0\n",
       "     Brighton   Birmingham  70000.0\n",
       "     Brighton       London  10000.0\n",
       "     Brighton       Exeter  40000.0\n",
       "     Brighton  Northampton  25000.0\n",
       "   Birmingham           C2  10000.0\n",
       "   Birmingham           C4  10000.0\n",
       "   Birmingham           C5  50000.0\n",
       "       London           C5  10000.0\n",
       "       Exeter           C3  40000.0\n",
       "  Northampton           C4  25000.0"
      ]
     },
     "execution_count": 12,
     "metadata": {},
     "output_type": "execute_result"
    }
   ],
   "source": [
    "product_flow = pd.DataFrame(\n",
    "    [{\"From\": arc[0], \"To\": arc[1], \"Flow\": flow[arc].x} for arc in arcs if flow[arc].x > 1e-6]\n",
    ")\n",
    "product_flow.index=[''] * len(product_flow)\n",
    "product_flow"
   ]
  },
  {
   "cell_type": "markdown",
   "metadata": {},
   "source": [
    "---\n",
    "## 参考文献\n",
    "\n",
    "H. Paul Williams 著《数学规划中的模型构建》第五版。\n",
    "\n",
    "Copyright © 2020 Gurobi Optimization, LLC"
   ]
  },
  {
   "cell_type": "code",
   "execution_count": null,
   "metadata": {},
   "outputs": [],
   "source": []
  }
 ],
 "metadata": {
  "kernelspec": {
   "display_name": "Python 3",
   "language": "python",
   "name": "python3"
  },
  "language_info": {
   "codemirror_mode": {
    "name": "ipython",
    "version": 3
   },
   "file_extension": ".py",
   "mimetype": "text/x-python",
   "name": "python",
   "nbconvert_exporter": "python",
   "pygments_lexer": "ipython3",
   "version": "3.12.2"
  }
 },
 "nbformat": 4,
 "nbformat_minor": 2
}
