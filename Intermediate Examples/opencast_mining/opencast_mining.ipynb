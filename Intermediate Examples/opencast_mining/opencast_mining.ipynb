{
 "cells": [
  {
   "cell_type": "markdown",
   "metadata": {},
   "source": [
    "# 露天采矿\n",
    "\n",
    "## 目标和先决条件\n",
    "\n",
    "采矿公司如何使用数学优化来确定应选择哪些开采地点以最大化开采矿石的毛利润？尝试这个建模示例来找出答案！\n",
    "\n",
    "这个模型是H. Paul Williams所著《数学规划中的模型构建》第五版第269-270页和324-325页的示例14。\n",
    "\n",
    "这是一个中级示例，我们假设您了解Python和Gurobi Python API，并且对构建数学优化模型有一定了解。\n",
    "\n",
    "**下载代码库** <br /> \n",
    "您可以通过点击[这里](https://github.com/Gurobi/modeling-examples/archive/master.zip)下载包含此示例和其他示例的代码库。"
   ]
  },
  {
   "cell_type": "markdown",
   "metadata": {},
   "source": [
    "## 问题描述\n",
    "\n",
    "一家公司获得了在200英尺 × 200英尺的方形地块内进行露天采矿的许可。由于土壤的滑动角度限制，开挖边坡不可能超过45度。公司已经对不同地点不同深度的矿石价值进行了估算。考虑到滑动角度的限制，公司决定将问题视为矩形区块的开采问题。每个区块的水平尺寸为50英尺 × 50英尺，垂直尺寸为25英尺。如果区块被选择在彼此之上，那么只能开挖形成一个倒金字塔形状的区块组合。\n",
    "下面的三维示意图显示了四个开采层级。我们用黑色数字标记了每个层级的每个区块，红色数字表示该层级下方的区块。例如，第2层的17号区块位于第1层的1、2、5和6号区块下方。\n",
    "![pyramid](extractionPyramid.PNG)\n",
    "\n",
    "已经估算了每个区块开采矿石的利润。目标是找到一个能够最大化总利润的矿石开采计划。"
   ]
  },
  {
   "cell_type": "markdown",
   "metadata": {},
   "source": [
    "## 模型构建\n",
    "\n",
    "### 集合和索引\n",
    "\n",
    "$b,b2 \\in \\text{Blocks}=\\{1,...,30 \\}$: 区块集合\n",
    "\n",
    "### 参数\n",
    "\n",
    "$\\text{profit}_{b} \\in \\mathbb{R}^+$: 开采区块 $b$ 的利润。\n",
    "\n",
    "$(b,b2) \\in Arcs = Blocks \\times Blocks$: 此参数表示描述开采规则的串并联图中的弧。在此串并联图的邻接矩阵中，如果区块b2是区块b上方的四个区块之一，则弧$(b,b2)$的值为1，否则为0。例如，弧$(29,24)$表示24号区块是29号区块上方的四个区块之一。\n",
    "\n",
    "### 决策变量\n",
    "\n",
    "$\\text{extract}_{b} \\in \\{0,1\\}$: 如果选择开采区块 $b$，则此二元变量等于1，否则为0。\n",
    "\n",
    "### 约束条件\n",
    "\n",
    "**开采约束**: 如果开采某个区块，则其上方的四个区块也必须开采。\n",
    "\n",
    "\\begin{equation}\n",
    "\\text{extract}_{b2} \\geq \\text{extract}_{b} \\quad \\forall (b,b2) \\in \\text{Arcs}\n",
    "\\end{equation}\n",
    "\n",
    "### 目标函数\n",
    "\n",
    "**利润**: 最大化矿石开采的利润。\n",
    "\n",
    "\\begin{equation}\n",
    "\\text{最大化} \\quad \\sum_{b \\in Blocks} \\text{profit}_{b}*\\text{extract}_{b}\n",
    "\\end{equation}"
   ]
  },
  {
   "cell_type": "markdown",
   "metadata": {},
   "source": [
    "## Python实现\n",
    "\n",
    "导入Gurobi Python模块。"
   ]
  },
  {
   "cell_type": "code",
   "execution_count": null,
   "metadata": {},
   "outputs": [],
   "source": [
    "# %pip install gurobipy"
   ]
  },
  {
   "cell_type": "code",
   "execution_count": 1,
   "metadata": {},
   "outputs": [],
   "source": [
    "import numpy as np\n",
    "import pandas as pd\n",
    "\n",
    "import gurobipy as gp\n",
    "from gurobipy import GRB\n",
    "\n",
    "# tested with Python 3.11 & Gurobi 11.0"
   ]
  },
  {
   "cell_type": "markdown",
   "metadata": {},
   "source": [
    "## 输入数据\n",
    "\n",
    "定义模型和其他Python库所需的所有输入数据。"
   ]
  },
  {
   "cell_type": "code",
   "execution_count": null,
   "metadata": {},
   "outputs": [],
   "source": [
    "# 创建字典来存储每个区块开采矿石的利润\n",
    "\n",
    "blocks, profit = gp.multidict({\n",
    "    ('1'): 0,\n",
    "    ('2'): 0,\n",
    "    ('3'): 0,\n",
    "    ('4'): -1500,\n",
    "    ('5'): 0,\n",
    "    ('6'): 1000,\n",
    "    ('7'): 0,\n",
    "    ('8'): -1500,\n",
    "    ('9'): -1000,\n",
    "    ('10'): -1000,\n",
    "    ('11'): -1500,\n",
    "    ('12'): -2000,\n",
    "    ('13'): -1500,\n",
    "    ('14'): -1500,\n",
    "    ('15'): -2000,\n",
    "    ('16'): -2500,\n",
    "    ('17'): 2000,\n",
    "    ('18'): 2000,\n",
    "    ('19'): -2000,\n",
    "    ('20'): 0,\n",
    "    ('21'): 0,\n",
    "    ('22'): -4000,\n",
    "    ('23'): -2000,\n",
    "    ('24'): -2000,\n",
    "    ('25'): -5000,\n",
    "    ('26'): 16000,\n",
    "    ('27'): 4000,\n",
    "    ('28'): 2000,\n",
    "    ('29'): 0,\n",
    "    ('30'): 2000\n",
    "})\n",
    "\n",
    "# 创建串并联图邻接矩阵的字典\n",
    "\n",
    "arcs, value = gp.multidict({\n",
    "    ('30','26'): 1,\n",
    "    ('30','27'): 1,\n",
    "    ('30','28'): 1,\n",
    "    ('30','29'): 1,\n",
    "    ('29','21'): 1,\n",
    "    ('29','22'): 1,\n",
    "    ('29','24'): 1,\n",
    "    ('29','25'): 1,\n",
    "    ('28','20'): 1,\n",
    "    ('28','21'): 1,\n",
    "    ('28','23'): 1,\n",
    "    ('28','24'): 1,\n",
    "    ('27','18'): 1,\n",
    "    ('27','19'): 1,\n",
    "    ('27','21'): 1,\n",
    "    ('27','22'): 1,\n",
    "    ('26','17'): 1,\n",
    "    ('26','18'): 1,\n",
    "    ('26','20'): 1,\n",
    "    ('26','21'): 1,\n",
    "    ('25','11'): 1,\n",
    "    ('25','12'): 1,\n",
    "    ('25','15'): 1,\n",
    "    ('25','16'): 1,\n",
    "    ('24','10'): 1,\n",
    "    ('24','11'): 1,\n",
    "    ('24','14'): 1,\n",
    "    ('24','15'): 1,\n",
    "    ('23','9'): 1,\n",
    "    ('23','10'): 1,\n",
    "    ('23','13'): 1,\n",
    "    ('23','14'): 1,\n",
    "    ('22','7'): 1,\n",
    "    ('22','8'): 1,\n",
    "    ('22','11'): 1,\n",
    "    ('22','12'): 1,\n",
    "    ('21','6'): 1,\n",
    "    ('21','7'): 1,\n",
    "    ('21','10'): 1,\n",
    "    ('21','11'): 1,\n",
    "    ('20','5'): 1,\n",
    "    ('20','6'): 1,\n",
    "    ('20','9'): 1,\n",
    "    ('20','10'): 1,\n",
    "    ('19','3'): 1,\n",
    "    ('19','4'): 1,\n",
    "    ('19','7'): 1,\n",
    "    ('19','8'): 1,\n",
    "    ('18','2'): 1,\n",
    "    ('18','3'): 1,\n",
    "    ('18','6'): 1,\n",
    "    ('18','7'): 1,\n",
    "    ('17','1'): 1,\n",
    "    ('17','2'): 1,\n",
    "    ('17','5'): 1,\n",
    "    ('17','6'): 1\n",
    "})"
   ]
  },
  {
   "cell_type": "markdown",
   "metadata": {},
   "source": [
    "## 模型部署\n",
    "\n",
    "创建模型和变量。这些二元决策变量定义了从哪个区块开采矿石。\n",
    "\n",
    "注意，约束条件的系数矩阵是完全单模的，因此决策变量可以定义在区间$[0,1]$内，问题可以作为线性规划问题求解。"
   ]
  },
  {
   "cell_type": "code",
   "execution_count": null,
   "metadata": {},
   "outputs": [
    {
     "name": "stdout",
     "output_type": "stream",
     "text": [
      "Using license file c:\\gurobi\\gurobi.lic\n"
     ]
    }
   ],
   "source": [
    "model = gp.Model('opencastMining')\n",
    "\n",
    "# 定义从区块开采矿石的决策变量\n",
    "extract = model.addVars(blocks, ub=1, vtype=GRB.CONTINUOUS, name=\"extract\" )"
   ]
  },
  {
   "cell_type": "markdown",
   "metadata": {},
   "source": [
    "以下约束确保如果开采某个区块，则其上方的四个区块也必须开采。"
   ]
  },
  {
   "cell_type": "code",
   "execution_count": null,
   "metadata": {},
   "outputs": [],
   "source": [
    "# 开采约束条件\n",
    "\n",
    "extractionConstrs = model.addConstrs( (extract[b] <= extract[b2]  for b,b2 in arcs), name='extractionConstrs')"
   ]
  },
  {
   "cell_type": "markdown",
   "metadata": {},
   "source": [
    "我们的目标是最大化矿石开采的利润。"
   ]
  },
  {
   "cell_type": "code",
   "execution_count": null,
   "metadata": {},
   "outputs": [],
   "source": [
    "# 目标函数\n",
    "\n",
    "extractionProfit = gp.quicksum(profit[b]*extract[b] for b in blocks )\n",
    "\n",
    "model.setObjective(extractionProfit, GRB.MAXIMIZE)"
   ]
  },
  {
   "cell_type": "code",
   "execution_count": null,
   "metadata": {},
   "outputs": [
    {
     "name": "stdout",
     "output_type": "stream",
     "text": [
      "Gurobi Optimizer version 9.1.0 build v9.1.0rc0 (win64)\n",
      "Thread count: 4 physical cores, 8 logical processors, using up to 8 threads\n",
      "Optimize a model with 56 rows, 30 columns and 112 nonzeros\n",
      "Model fingerprint: 0x83427493\n",
      "Coefficient statistics:\n",
      "  Matrix range     [1e+00, 1e+00]\n",
      "  Objective range  [1e+03, 2e+04]\n",
      "  Bounds range     [1e+00, 1e+00]\n",
      "  RHS range        [0e+00, 0e+00]\n",
      "Presolve removed 22 rows and 12 columns\n",
      "Presolve time: 0.01s\n",
      "Presolved: 34 rows, 18 columns, 68 nonzeros\n",
      "\n",
      "Iteration    Objective       Primal Inf.    Dual Inf.      Time\n",
      "       0    2.3014500e+04   1.100300e+01   0.000000e+00      0s\n",
      "       9    1.7500000e+04   0.000000e+00   0.000000e+00      0s\n",
      "\n",
      "Solved in 9 iterations and 0.01 seconds\n",
      "Optimal objective  1.750000000e+04\n"
     ]
    }
   ],
   "source": [
    "# 验证模型公式\n",
    "\n",
    "model.write('opencastMining.lp')\n",
    "\n",
    "# 运行优化引擎\n",
    "\n",
    "model.optimize()"
   ]
  },
  {
   "cell_type": "markdown",
   "metadata": {},
   "source": [
    "## 分析\n",
    "\n",
    "最优开采方案产生的总利润为 $\\$17,500.00$。\n",
    "下表显示了要开采的区块及其相关的利润或损失。"
   ]
  },
  {
   "cell_type": "code",
   "execution_count": null,
   "metadata": {},
   "outputs": [
    {
     "data": {
      "text/html": [
       "<div>\n",
       "<style scoped>\n",
       "    .dataframe tbody tr th:only-of-type {\n",
       "        vertical-align: middle;\n",
       "    }\n",
       "\n",
       "    .dataframe tbody tr th {\n",
       "        vertical-align: top;\n",
       "    }\n",
       "\n",
       "    .dataframe thead th {\n",
       "        text-align: right;\n",
       "    }\n",
       "</style>\n",
       "<table border=\"1\" class=\"dataframe\">\n",
       "  <thead>\n",
       "    <tr style=\"text-align: right;\">\n",
       "      <th></th>\n",
       "      <th>Block</th>\n",
       "      <th>Profit/Loss</th>\n",
       "    </tr>\n",
       "  </thead>\n",
       "  <tbody>\n",
       "    <tr>\n",
       "      <th></th>\n",
       "      <td>1</td>\n",
       "      <td>$0.00</td>\n",
       "    </tr>\n",
       "    <tr>\n",
       "      <th></th>\n",
       "      <td>2</td>\n",
       "      <td>$0.00</td>\n",
       "    </tr>\n",
       "    <tr>\n",
       "      <th></th>\n",
       "      <td>3</td>\n",
       "      <td>$0.00</td>\n",
       "    </tr>\n",
       "    <tr>\n",
       "      <th></th>\n",
       "      <td>5</td>\n",
       "      <td>$0.00</td>\n",
       "    </tr>\n",
       "    <tr>\n",
       "      <th></th>\n",
       "      <td>6</td>\n",
       "      <td>$1,000.00</td>\n",
       "    </tr>\n",
       "    <tr>\n",
       "      <th></th>\n",
       "      <td>7</td>\n",
       "      <td>$0.00</td>\n",
       "    </tr>\n",
       "    <tr>\n",
       "      <th></th>\n",
       "      <td>9</td>\n",
       "      <td>$-1,000.00</td>\n",
       "    </tr>\n",
       "    <tr>\n",
       "      <th></th>\n",
       "      <td>10</td>\n",
       "      <td>$-1,000.00</td>\n",
       "    </tr>\n",
       "    <tr>\n",
       "      <th></th>\n",
       "      <td>11</td>\n",
       "      <td>$-1,500.00</td>\n",
       "    </tr>\n",
       "    <tr>\n",
       "      <th></th>\n",
       "      <td>17</td>\n",
       "      <td>$2,000.00</td>\n",
       "    </tr>\n",
       "    <tr>\n",
       "      <th></th>\n",
       "      <td>18</td>\n",
       "      <td>$2,000.00</td>\n",
       "    </tr>\n",
       "    <tr>\n",
       "      <th></th>\n",
       "      <td>20</td>\n",
       "      <td>$0.00</td>\n",
       "    </tr>\n",
       "    <tr>\n",
       "      <th></th>\n",
       "      <td>21</td>\n",
       "      <td>$0.00</td>\n",
       "    </tr>\n",
       "    <tr>\n",
       "      <th></th>\n",
       "      <td>26</td>\n",
       "      <td>$16,000.00</td>\n",
       "    </tr>\n",
       "  </tbody>\n",
       "</table>\n",
       "</div>"
      ],
      "text/plain": [
       " Block Profit/Loss\n",
       "     1       $0.00\n",
       "     2       $0.00\n",
       "     3       $0.00\n",
       "     5       $0.00\n",
       "     6   $1,000.00\n",
       "     7       $0.00\n",
       "     9  $-1,000.00\n",
       "    10  $-1,000.00\n",
       "    11  $-1,500.00\n",
       "    17   $2,000.00\n",
       "    18   $2,000.00\n",
       "    20       $0.00\n",
       "    21       $0.00\n",
       "    26  $16,000.00"
      ]
     },
     "execution_count": 7,
     "metadata": {},
     "output_type": "execute_result"
    }
   ],
   "source": [
    "# 输出报告\n",
    "\n",
    "extraction_plan = pd.DataFrame(\n",
    "    [(b, f\"${profit[b]*round(extract[b].x):,.2f}\") for b in blocks if (extract[b].x > 0.5)],\n",
    "    columns = [\"Block\", \"Profit/Loss\"],\n",
    ")\n",
    "extraction_plan.index=[''] * len(extraction_plan)\n",
    "extraction_plan"
   ]
  },
  {
   "cell_type": "markdown",
   "metadata": {},
   "source": [
    "## 参考文献\n",
    "\n",
    "H. Paul Williams著《数学规划中的模型构建》第五版。\n",
    "\n",
    "版权所有 © 2020 Gurobi Optimization, LLC"
   ]
  },
  {
   "cell_type": "code",
   "execution_count": null,
   "metadata": {},
   "outputs": [],
   "source": []
  }
 ],
 "metadata": {
  "kernelspec": {
   "display_name": "Python 3",
   "language": "python",
   "name": "python3"
  },
  "language_info": {
   "codemirror_mode": {
    "name": "ipython",
    "version": 3
   },
   "file_extension": ".py",
   "mimetype": "text/x-python",
   "name": "python",
   "nbconvert_exporter": "python",
   "pygments_lexer": "ipython3",
   "version": "3.11.6"
  }
 },
 "nbformat": 4,
 "nbformat_minor": 2
}
