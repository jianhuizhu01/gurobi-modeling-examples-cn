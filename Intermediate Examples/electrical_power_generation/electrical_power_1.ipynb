{
 "cells": [
  {
   "cell_type": "markdown",
   "metadata": {},
   "source": [
    "# 电力生产 1\n",
    "\n",
    "## 目标和前提条件\n",
    "\n",
    "世界各地的大型电力公司都利用数学优化来管理其电网中的能源流动。在这个例子中，您将发现数学优化在解决常见能源行业问题方面的优势：电力生产。我们将向您展示如何确定最佳的发电站组合，以满足24小时时间范围内的预期电力需求。\n",
    "\n",
    "这个模型是H. Paul Williams所著《Model Building in Mathematical Programming》第五版第270-271页和325-326页中的示例15。\n",
    "\n",
    "这是一个中级难度的示例，我们假设您了解Python和Gurobi Python API，并且对构建数学优化模型有一定了解。\n",
    "\n",
    "**下载代码库** <br />\n",
    "您可以通过点击[这里](https://github.com/Gurobi/modeling-examples/archive/master.zip)下载包含此示例和其他示例的代码库。\n",
    "\n",
    "---\n",
    "## 问题描述\n",
    "\n",
    "在这个问题中，发电机组被分为三种不同类型，每种类型都有不同的特性（发电量、每兆瓦时成本、启动成本等）。一个机组可以开启或关闭，从关闭到开启会产生启动成本，当机组开启时，发电量可以在指定的最小值和最大值之间变化。24小时的时间范围被分为5个离散时间段，每个时段都有预期的总电力需求。模型需要决定在什么时候开启哪些机组，以满足每个时间段的需求。该模型还考虑了备用要求，即选定的发电厂必须能够在不超过其最大输出的情况下增加输出，以应对实际需求超过预测需求的情况。\n",
    "\n",
    "有一组发电机可用于满足次日的电力需求。预期需求如下：\n",
    "\n",
    "| 时间段 | 需求（兆瓦） |\n",
    "| --- | --- |\n",
    "| 凌晨12点至早上6点 | 15000 |\n",
    "| 早上6点至9点 | 30000 |\n",
    "| 早上9点至下午3点 | 25000 |\n",
    "| 下午3点至6点 | 40000 |\n",
    "| 晚上6点至凌晨12点 | 27000 |\n",
    "\n",
    "发电机分为三种类型，每种类型在开启时的最小和最大输出如下：\n",
    "\n",
    "| 类型 | 可用数量 | 最小输出(MW) | 最大输出(MW) |\n",
    "| --- | --- | --- | --- |\n",
    "| 0 | 12 | 850 | 2000 |\n",
    "| 1 | 10 | 1250 | 1750 |\n",
    "| 2 | 5 | 1500 | 4000 |\n",
    "\n",
    "使用发电机会产生相关成本：发电机开启时（并产生最小输出）的每小时成本、超过最小输出的每兆瓦时成本，以及开启发电机的启动成本：\n",
    "\n",
    "| 类型 | 每小时成本（开启状态） | 超出最小值的每兆瓦时成本 | 启动成本 |\n",
    "| --- | --- | --- | --- |\n",
    "| 0 | $\\$1000$ | $\\$2.00$ | $\\$2000$ |\n",
    "| 1 | $\\$2600$ | $\\$1.30$ | $\\$1000$ |\n",
    "| 2 | $\\$3000$ | $\\$3.00$ | $\\$500$ |\n",
    "\n",
    "发电机不仅要满足预测需求，还必须具有足够的备用容量，以应对实际需求超过预测需求的情况。在这个模型中，所选的发电机组必须能够产生预测需求的115%。\n",
    "\n",
    "为了最小化总成本，应该选择哪些发电机来满足预期需求？\n",
    "\n",
    "---\n",
    "## 模型构建\n",
    "\n",
    "### 集合和索引\n",
    "\n",
    "$t \\in \\text{Types}=\\{0,1,2\\}$：发电机类型。\n",
    "\n",
    "$p \\in \\text{Periods}=\\{0,1,2,3,4\\}$：时间段。\n",
    "\n",
    "### 参数\n",
    "\n",
    "$\\text{period_hours}_p \\in \\mathbb{N}^+$：每个时间段的小时数。\n",
    "\n",
    "$\\text{generators}_t \\in \\mathbb{N}^+$：类型$t$的发电机数量。\n",
    "\n",
    "$\\text{demand}_p \\in \\mathbb{R}^+$：时间段$p$的总电力需求。\n",
    "\n",
    "$\\text{start0} \\in \\mathbb{N}^+$：时间范围开始时已开启的发电机数量（在时间段0可用且无需支付启动成本）。\n",
    "\n",
    "$\\text{min_output}_t \\in \\mathbb{R}^+$：类型$t$发电机的最小输出（开启状态）。\n",
    "\n",
    "$\\text{max_output}_t \\in \\mathbb{R}^+$：类型$t$发电机的最大输出。\n",
    "\n",
    "$\\text{base_cost}_t \\in \\mathbb{R}^+$：类型$t$发电机的最小运营成本（每小时）。\n",
    "\n",
    "$\\text{per_mw_cost}_t \\in \\mathbb{R}^+$：类型$t$发电机每增加一兆瓦的成本（每小时）。\n",
    "\n",
    "$\\text{startup_cost}_t \\in \\mathbb{R}^+$：类型$t$发电机的启动成本。\n",
    "\n",
    "### 决策变量\n",
    "\n",
    "$\\text{ngen}_{t,p} \\in \\mathbb{N}^+$：时间段$p$中类型$t$的开启发电机数量。\n",
    "\n",
    "$\\text{output}_{t,p} \\in \\mathbb{R}^+$：时间段$p$中类型$t$发电机的总输出功率。\n",
    "\n",
    "$\\text{nstart}_{t,p} \\in \\mathbb{N}^+$：时间段$p$中需要启动的类型$t$发电机数量。\n",
    "\n",
    "\n",
    "### 目标函数\n",
    "\n",
    "- **成本**：最小化满足预测电力需求的成本（美元）。\n",
    "\n",
    "\\begin{equation}\n",
    "\\text{最小化} \\quad Z_{on} + Z_{extra} + Z_{startup}\n",
    "\\end{equation}\n",
    "\n",
    "\\begin{equation}\n",
    "Z_{on} = \\sum_{(t,p) \\in \\text{Types} \\times \\text{Periods}}{\\text{base_cost}_t*\\text{ngen}_{t,p}}\n",
    "\\end{equation}\n",
    "\n",
    "\\begin{equation}\n",
    "Z_{extra} = \\sum_{(t,p) \\in \\text{Types} \\times \\text{Periods}}{\\text{per_mw_cost}_t*(\\text{output}_{t,p} - \\text{min_load}_t})\n",
    "\\end{equation}\n",
    "\n",
    "\\begin{equation}\n",
    "Z_{startup} = \\sum_{(t,p) \\in \\text{Types} \\times \\text{Periods}}{\\text{startup_cost}_t*\\text{nstart}_{t,p}}\n",
    "\\end{equation}\n",
    "\n",
    "### 约束条件\n",
    "\n",
    "- **可用发电机**：使用的发电机数量必须小于或等于可用数量。\n",
    "\n",
    "\\begin{equation}\n",
    "\\text{ngen}_{t,p} \\leq \\text{generators}_{t} \\quad \\forall (t,p) \\in \\text{Types} \\times \\text{Periods}\n",
    "\\end{equation}\n",
    "\n",
    "- **需求**：所有类型发电机的总发电量必须满足每个时间段$p$的预期需求。\n",
    "\n",
    "\\begin{equation}\n",
    "\\sum_{t \\in \\text{Types}}{\\text{output}_{t,p}} \\geq \\text{demand}_p \\quad \\forall p \\in \\text{Periods}\n",
    "\\end{equation}\n",
    "\n",
    "- **最小/最大发电量**：发电量必须遵守发电机的最小/最大值。\n",
    "\n",
    "\\begin{equation}\n",
    "\\text{output}_{t,p} \\geq \\text{min_output}_t*\\text{ngen}_{t,p} \\quad \\forall (t,p) \\in \\text{Types} \\times \\text{Periods}\n",
    "\\end{equation}\n",
    "\n",
    "\\begin{equation}\n",
    "\\text{output}_{t,p} \\leq \\text{max_output}_t*\\text{ngen}_{t,p} \\quad \\forall (t,p) \\in \\text{Types} \\times \\text{Periods}\n",
    "\\end{equation}\n",
    "\n",
    "- **备用**：选定的发电机必须能够满足比预测高出15%的需求。\n",
    "\n",
    "\\begin{equation}\n",
    "\\sum_{t \\in \\text{Types}}{\\text{max_output}_t*\\text{ngen}_{t,p}} \\geq 1.15 * \\text{demand}_p \\quad \\forall p \\in \\text{Periods}\n",
    "\\end{equation}\n",
    "\n",
    "- **启动**：建立活跃发电机数量与启动数量之间的关系（使用$start0$作为时间范围开始前的时段）\n",
    "\n",
    "\\begin{equation}\n",
    "\\text{ngen}_{t,p} \\leq \\text{ngen}_{t,p-1} + \\text{startup}_{t,p} \\quad \\forall (t,p) \\in \\text{Types} \\times \\text{Periods}\n",
    "\\end{equation}\n",
    "\n",
    "---\n",
    "## Python实现\n",
    "\n",
    "我们导入Gurobi Python模块和其他Python库。"
   ]
  },
  {
   "cell_type": "code",
   "execution_count": null,
   "metadata": {},
   "outputs": [],
   "source": [
    "# %pip install gurobipy"
   ]
  },
  {
   "cell_type": "code",
   "execution_count": 1,
   "metadata": {},
   "outputs": [],
   "source": [
    "import pandas as pd\n",
    "\n",
    "import gurobipy as gp\n",
    "from gurobipy import GRB\n",
    "\n",
    "# tested with Python 3.11 & Gurobi 11.0"
   ]
  },
  {
   "cell_type": "markdown",
   "metadata": {},
   "source": [
    "## 输入数据\n",
    "我们定义模型的所有输入数据。"
   ]
  },
  {
   "cell_type": "code",
   "execution_count": 2,
   "metadata": {},
   "outputs": [],
   "source": [
    "# 参数定义\n",
    "\n",
    "ntypes = 3\n",
    "nperiods = 5\n",
    "maxstart0 = 5\n",
    "\n",
    "generators = [12, 10, 5]\n",
    "period_hours = [6, 3, 6, 3, 6]\n",
    "demand = [15000, 30000, 25000, 40000, 27000]\n",
    "min_load = [850, 1250, 1500]\n",
    "max_load = [2000, 1750, 4000]\n",
    "base_cost = [1000, 2600, 3000]\n",
    "per_mw_cost = [2, 1.3, 3]\n",
    "startup_cost = [2000, 1000, 500]"
   ]
  },
  {
   "cell_type": "markdown",
   "metadata": {},
   "source": [
    "## 模型部署\n",
    "\n",
    "我们创建一个模型和变量。对于每个时间段，我们有：一个整数决策变量来捕获每种类型的活跃发电机数量（ngen），一个整数变量来捕获我们必须启动的每种类型发电机数量（nstart），以及一个连续决策变量来捕获每种发电机类型的总输出功率（output）。"
   ]
  },
  {
   "cell_type": "code",
   "execution_count": 3,
   "metadata": {},
   "outputs": [
    {
     "name": "stdout",
     "output_type": "stream",
     "text": [
      "Set parameter LicenseID to value 2601452\n"
     ]
    }
   ],
   "source": [
    "model = gp.Model('PowerGeneration')\n",
    "ngen = model.addVars(ntypes, nperiods, vtype=GRB.INTEGER, name=\"ngen\")\n",
    "nstart = model.addVars(ntypes, nperiods, vtype=GRB.INTEGER, name=\"nstart\")\n",
    "output = model.addVars(ntypes, nperiods, vtype=GRB.CONTINUOUS, name=\"genoutput\")"
   ]
  },
  {
   "cell_type": "markdown",
   "metadata": {},
   "source": [
    "接下来我们插入约束条件：\n",
    "\n",
    "活跃发电机的数量不能超过可用发电机的数量。"
   ]
  },
  {
   "cell_type": "code",
   "execution_count": 4,
   "metadata": {},
   "outputs": [],
   "source": [
    "# 发电机数量约束\n",
    "\n",
    "numgen = model.addConstrs(ngen[type, period] <= generators[type]\n",
    "                         for type in range(ntypes) for period in range(nperiods))"
   ]
  },
  {
   "cell_type": "markdown",
   "metadata": {},
   "source": [
    "发电机类型的总输出功率取决于该类型的活跃发电机数量。"
   ]
  },
  {
   "cell_type": "code",
   "execution_count": 5,
   "metadata": {},
   "outputs": [],
   "source": [
    "# 遵守每种发电机类型的最小和最大输出限制\n",
    "\n",
    "min_output = model.addConstrs((output[type, period] >= min_load[type] * ngen[type, period])\n",
    "                              for type in range(ntypes) for period in range(nperiods))\n",
    "\n",
    "max_output = model.addConstrs((output[type, period] <= max_load[type] * ngen[type, period])\n",
    "                              for type in range(ntypes) for period in range(nperiods))"
   ]
  },
  {
   "cell_type": "markdown",
   "metadata": {},
   "source": [
    "每个时间段的总输出必须满足预测需求。"
   ]
  },
  {
   "cell_type": "code",
   "execution_count": 6,
   "metadata": {},
   "outputs": [],
   "source": [
    "# 满足需求\n",
    "\n",
    "meet_demand = model.addConstrs(gp.quicksum(output[type, period] for type in range(ntypes)) >= demand[period]\n",
    "                               for period in range(nperiods))"
   ]
  },
  {
   "cell_type": "markdown",
   "metadata": {},
   "source": [
    "选定的发电机必须能够应对额外的需求。"
   ]
  },
  {
   "cell_type": "code",
   "execution_count": 7,
   "metadata": {},
   "outputs": [],
   "source": [
    "# 提供足够的备用容量\n",
    "\n",
    "reserve = model.addConstrs(gp.quicksum(max_load[type]*ngen[type, period] for type in range(ntypes)) >= 1.15*demand[period]\n",
    "                    for period in range(nperiods))"
   ]
  },
  {
   "cell_type": "markdown",
   "metadata": {},
   "source": [
    "连接捕获活跃发电机的决策变量与计算启动次数的决策变量。"
   ]
  },
  {
   "cell_type": "code",
   "execution_count": 8,
   "metadata": {},
   "outputs": [],
   "source": [
    "# 启动约束\n",
    "\n",
    "startup0 = model.addConstrs((ngen[type,0] <= maxstart0 + nstart[type,0])\n",
    "                            for type in range(ntypes))\n",
    "\n",
    "startup = model.addConstrs((ngen[type,period] <= ngen[type,period-1] + nstart[type,period])\n",
    "                           for type in range(ntypes) for period in range(1,nperiods))"
   ]
  },
  {
   "cell_type": "markdown",
   "metadata": {},
   "source": [
    "目标：最小化总成本。成本由三部分组成：运行活跃发电机的成本、每个机组超过最小发电量的发电成本，以及启动发电机的成本。"
   ]
  },
  {
   "cell_type": "code",
   "execution_count": 9,
   "metadata": {},
   "outputs": [],
   "source": [
    "# 目标：最小化总成本\n",
    "\n",
    "active = gp.quicksum(base_cost[type]*period_hours[period]*ngen[type,period]\n",
    "                    for type in range(ntypes) for period in range(nperiods))\n",
    "\n",
    "per_mw = gp.quicksum(per_mw_cost[type]*period_hours[period]*(output[type,period] - min_load[type]*ngen[type,period])\n",
    "                       for type in range(ntypes) for period in range(nperiods))\n",
    "\n",
    "startup_obj = gp.quicksum(startup_cost[type]*nstart[type,period]\n",
    "                         for type in range(ntypes) for period in range(nperiods))\n",
    "\n",
    "model.setObjective(active + per_mw + startup_obj)"
   ]
  },
  {
   "cell_type": "markdown",
   "metadata": {},
   "source": [
    "接下来，我们开始优化，Gurobi将找到最优解。"
   ]
  },
  {
   "cell_type": "code",
   "execution_count": 10,
   "metadata": {},
   "outputs": [
    {
     "name": "stdout",
     "output_type": "stream",
     "text": [
      "Gurobi Optimizer version 12.0.0 build v12.0.0rc1 (win64 - Windows 11.0 (22631.2))\n",
      "\n",
      "CPU model: Intel(R) Core(TM) Ultra 5 125H, instruction set [SSE2|AVX|AVX2]\n",
      "Thread count: 14 physical cores, 18 logical processors, using up to 18 threads\n",
      "\n",
      "Optimize a model with 70 rows, 45 columns and 147 nonzeros\n",
      "Model fingerprint: 0xd010fb19\n",
      "Variable types: 15 continuous, 30 integer (0 binary)\n",
      "Coefficient statistics:\n",
      "  Matrix range     [1e+00, 4e+03]\n",
      "  Objective range  [4e+00, 9e+03]\n",
      "  Bounds range     [0e+00, 0e+00]\n",
      "  RHS range        [5e+00, 5e+04]\n",
      "Presolve removed 31 rows and 1 columns\n",
      "Presolve time: 0.00s\n",
      "Presolved: 39 rows, 44 columns, 115 nonzeros\n",
      "Variable types: 0 continuous, 44 integer (0 binary)\n",
      "Found heuristic solution: objective 1339300.0000\n",
      "\n",
      "Root relaxation: objective 9.995143e+05, 22 iterations, 0.00 seconds (0.00 work units)\n",
      "\n",
      "    Nodes    |    Current Node    |     Objective Bounds      |     Work\n",
      " Expl Unexpl |  Obj  Depth IntInf | Incumbent    BestBd   Gap | It/Node Time\n",
      "\n",
      "     0     0 999514.286    0   10 1339300.00 999514.286  25.4%     -    0s\n",
      "H    0     0                    1025721.4000 999514.286  2.55%     -    0s\n",
      "H    0     0                    1006352.8000 999514.286  0.68%     -    0s\n",
      "H    0     0                    1005970.0000 999514.286  0.64%     -    0s\n",
      "H    0     0                    1005365.8000 999514.286  0.58%     -    0s\n",
      "H    0     0                    1004530.0000 999514.286  0.50%     -    0s\n",
      "H    0     0                    1002540.0000 1001292.86  0.12%     -    0s\n",
      "     0     0 1001814.71    0    7 1002540.00 1001814.71  0.07%     -    0s\n",
      "     0     0 1002540.00    0   11 1002540.00 1002540.00  0.00%     -    0s\n",
      "\n",
      "Cutting planes:\n",
      "  MIR: 4\n",
      "\n",
      "Explored 1 nodes (26 simplex iterations) in 0.05 seconds (0.00 work units)\n",
      "Thread count was 18 (of 18 available processors)\n",
      "\n",
      "Solution count 7: 1.00254e+06 1.00453e+06 1.00537e+06 ... 1.3393e+06\n",
      "\n",
      "Optimal solution found (tolerance 1.00e-04)\n",
      "Best objective 1.002540000000e+06, best bound 1.002540000000e+06, gap 0.0000%\n"
     ]
    }
   ],
   "source": [
    "# model.write('junk.lp')\n",
    "model.optimize()"
   ]
  },
  {
   "cell_type": "markdown",
   "metadata": {},
   "source": [
    "---\n",
    "## 分析\n",
    "\n",
    "24小时时间窗口内的预期电力需求可以以总成本$\\$1,002,540$满足。每个时间段的详细计划如下：\n",
    "\n",
    "### 机组调度\n",
    "\n",
    "下表显示了最优解中每个时间段内每种类型的活跃发电机数量："
   ]
  },
  {
   "cell_type": "code",
   "execution_count": 11,
   "metadata": {},
   "outputs": [
    {
     "data": {
      "text/html": [
       "<div>\n",
       "<style scoped>\n",
       "    .dataframe tbody tr th:only-of-type {\n",
       "        vertical-align: middle;\n",
       "    }\n",
       "\n",
       "    .dataframe tbody tr th {\n",
       "        vertical-align: top;\n",
       "    }\n",
       "\n",
       "    .dataframe thead th {\n",
       "        text-align: right;\n",
       "    }\n",
       "</style>\n",
       "<table border=\"1\" class=\"dataframe\">\n",
       "  <thead>\n",
       "    <tr style=\"text-align: right;\">\n",
       "      <th></th>\n",
       "      <th>0</th>\n",
       "      <th>1</th>\n",
       "      <th>2</th>\n",
       "      <th>3</th>\n",
       "      <th>4</th>\n",
       "    </tr>\n",
       "  </thead>\n",
       "  <tbody>\n",
       "    <tr>\n",
       "      <th>Type0</th>\n",
       "      <td>12.0</td>\n",
       "      <td>12.0</td>\n",
       "      <td>12.0</td>\n",
       "      <td>12.0</td>\n",
       "      <td>12.0</td>\n",
       "    </tr>\n",
       "    <tr>\n",
       "      <th>Type1</th>\n",
       "      <td>3.0</td>\n",
       "      <td>8.0</td>\n",
       "      <td>8.0</td>\n",
       "      <td>9.0</td>\n",
       "      <td>9.0</td>\n",
       "    </tr>\n",
       "    <tr>\n",
       "      <th>Type2</th>\n",
       "      <td>-0.0</td>\n",
       "      <td>0.0</td>\n",
       "      <td>0.0</td>\n",
       "      <td>2.0</td>\n",
       "      <td>-0.0</td>\n",
       "    </tr>\n",
       "  </tbody>\n",
       "</table>\n",
       "</div>"
      ],
      "text/plain": [
       "          0     1     2     3     4\n",
       "Type0  12.0  12.0  12.0  12.0  12.0\n",
       "Type1   3.0   8.0   8.0   9.0   9.0\n",
       "Type2  -0.0   0.0   0.0   2.0  -0.0"
      ]
     },
     "execution_count": 11,
     "metadata": {},
     "output_type": "execute_result"
    }
   ],
   "source": [
    "rows = [\"Type\" + str(t) for t in range(ntypes)]\n",
    "units = pd.DataFrame(columns=range(nperiods), index=rows, data=0.0)\n",
    "\n",
    "for t in range(ntypes):\n",
    "    for p in range(nperiods):\n",
    "        units.loc[\"Type\"+str(t), p] = ngen[t,p].x\n",
    "units"
   ]
  },
  {
   "cell_type": "markdown",
   "metadata": {},
   "source": [
    "以下显示了在每个时间段需要启动的各类型发电机数量，以实现这个计划（请记住，模型假设在时间范围开始时有5台发电机可用）："
   ]
  },
  {
   "cell_type": "code",
   "execution_count": 12,
   "metadata": {},
   "outputs": [
    {
     "data": {
      "text/html": [
       "<div>\n",
       "<style scoped>\n",
       "    .dataframe tbody tr th:only-of-type {\n",
       "        vertical-align: middle;\n",
       "    }\n",
       "\n",
       "    .dataframe tbody tr th {\n",
       "        vertical-align: top;\n",
       "    }\n",
       "\n",
       "    .dataframe thead th {\n",
       "        text-align: right;\n",
       "    }\n",
       "</style>\n",
       "<table border=\"1\" class=\"dataframe\">\n",
       "  <thead>\n",
       "    <tr style=\"text-align: right;\">\n",
       "      <th></th>\n",
       "      <th>0</th>\n",
       "      <th>1</th>\n",
       "      <th>2</th>\n",
       "      <th>3</th>\n",
       "      <th>4</th>\n",
       "    </tr>\n",
       "  </thead>\n",
       "  <tbody>\n",
       "    <tr>\n",
       "      <th>Type0</th>\n",
       "      <td>7.0</td>\n",
       "      <td>0.0</td>\n",
       "      <td>0.0</td>\n",
       "      <td>0.0</td>\n",
       "      <td>0.0</td>\n",
       "    </tr>\n",
       "    <tr>\n",
       "      <th>Type1</th>\n",
       "      <td>0.0</td>\n",
       "      <td>5.0</td>\n",
       "      <td>0.0</td>\n",
       "      <td>1.0</td>\n",
       "      <td>0.0</td>\n",
       "    </tr>\n",
       "    <tr>\n",
       "      <th>Type2</th>\n",
       "      <td>0.0</td>\n",
       "      <td>0.0</td>\n",
       "      <td>0.0</td>\n",
       "      <td>2.0</td>\n",
       "      <td>0.0</td>\n",
       "    </tr>\n",
       "  </tbody>\n",
       "</table>\n",
       "</div>"
      ],
      "text/plain": [
       "         0    1    2    3    4\n",
       "Type0  7.0  0.0  0.0  0.0  0.0\n",
       "Type1  0.0  5.0  0.0  1.0  0.0\n",
       "Type2  0.0  0.0  0.0  2.0  0.0"
      ]
     },
     "execution_count": 12,
     "metadata": {},
     "output_type": "execute_result"
    }
   ],
   "source": [
    "startups = pd.DataFrame(columns=range(nperiods), index=rows, data=0.0)\n",
    "\n",
    "for t in range(ntypes):\n",
    "    for p in range(nperiods):\n",
    "        startups.loc[\"Type\"+str(t), p] = int(nstart[t,p].x)\n",
    "startups"
   ]
  },
  {
   "cell_type": "markdown",
   "metadata": {},
   "source": [
    "---\n",
    "## 参考文献\n",
    "\n",
    "H. Paul Williams, 《Model Building in Mathematical Programming》第五版。\n",
    "\n",
    "版权所有 © 2020 Gurobi Optimization, LLC"
   ]
  },
  {
   "cell_type": "code",
   "execution_count": null,
   "metadata": {},
   "outputs": [],
   "source": []
  }
 ],
 "metadata": {
  "kernelspec": {
   "display_name": "Python 3",
   "language": "python",
   "name": "python3"
  },
  "language_info": {
   "codemirror_mode": {
    "name": "ipython",
    "version": 3
   },
   "file_extension": ".py",
   "mimetype": "text/x-python",
   "name": "python",
   "nbconvert_exporter": "python",
   "pygments_lexer": "ipython3",
   "version": "3.12.2"
  }
 },
 "nbformat": 4,
 "nbformat_minor": 2
}
