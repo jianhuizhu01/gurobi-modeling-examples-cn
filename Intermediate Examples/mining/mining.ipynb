{
 "cells": [
  {
   "cell_type": "markdown",
   "metadata": {},
   "source": [
    "# 采矿问题\n",
    "\n",
    "## 目标和前提条件\n",
    "\n",
    "在本示例中，您将学习如何建模和求解一个生产规划问题，该问题涉及优化一组矿山在五年期间的运营。\n",
    "\n",
    "关于这种类型的模型的更多信息可以在 H. P. Williams 所著《数学规划中的模型构建》第五版的示例 #7（第 261-262 页和 310-312 页）中找到。\n",
    "\n",
    "这个建模示例属于中级水平，我们假设您了解 Python 并熟悉 Gurobi Python API。此外，您还应该对构建数学优化模型有一定了解。\n",
    "\n",
    "**下载代码库** <br />\n",
    "您可以通过点击[这里](https://github.com/Gurobi/modeling-examples/archive/master.zip)下载包含此示例和其他示例的代码库。\n",
    "\n",
    "---\n",
    "## 问题描述\n",
    "\n",
    "一家采矿公司需要为一个拥有四个矿山的区域制定五年运营计划。\n",
    "\n",
    "在任何给定年份，他们在该区域最多只能运营三个矿山。但是，即使某个矿山在某一年可能不运营，如果预期将来会再次运营，公司仍然必须支付该矿山的特许权使用费。否则，可以永久关闭，无需再支付特许权使用费。\n",
    "\n",
    "每个开放矿山（无论是否运营）的年度特许权使用费如下：\n",
    "\n",
    "| <i></i> | 特许权使用费 |\n",
    "| --- | --- |\n",
    "| 矿山 1 | $\\$5 百万$ |\n",
    "| 矿山 2 | $\\$4 百万$ |\n",
    "| 矿山 3 | $\\$4 百万$ |\n",
    "| 矿山 4 | $\\$5 百万$ |\n",
    "\n",
    "每个矿山在一年内可以开采的矿石量有上限。这些限制如下：\n",
    "\n",
    "| <i></i> | 最大产量 |\n",
    "| --- | --- |\n",
    "| 矿山 1 | $2.0\\times10^6$ 吨 |\n",
    "| 矿山 2 | $2.5\\times10^6$ 吨 |\n",
    "| 矿山 3 | $1.3\\times10^6$ 吨 |\n",
    "| 矿山 4 | $3.0\\times10^6$ 吨 |\n",
    "\n",
    "每个矿山生产的矿石品位不同。这个品位是按照一个标准来衡量的，当将矿石混合在一起时，其品质要求呈线性组合。例如，如果将两个不同矿山的相等数量的矿石混合在一起，得到的矿石品位将是这两种矿石品位的平均值。每个矿山的矿石品位如下：\n",
    "\n",
    "| <i></i> | 矿石品位 |\n",
    "| --- | --- |\n",
    "| 矿山 1 | 1.0 |\n",
    "| 矿山 2 | 0.7 |\n",
    "| 矿山 3 | 1.5 |\n",
    "| 矿山 4 | 0.5 |\n",
    "\n",
    "每年，从每个运营矿山生产的矿石必须混合以生产特定品位的矿石。每年混合矿石的目标品位如下：\n",
    "\n",
    "| <i></i> | 品位目标 |\n",
    "| --- | --- |\n",
    "| 第 1 年 | 0.9 |\n",
    "| 第 2 年 | 0.8 |\n",
    "| 第 3 年 | 1.2 |\n",
    "| 第 4 年 | 0.6 |\n",
    "| 第 5 年 | 1.0 |\n",
    "\n",
    "最终混合的矿石售价为 $\\$10$/吨。未来年份的收入和成本按照每年 $10\\%$ 的比率折现。\n",
    "\n",
    "采矿公司的关键问题是：每年应该运营哪些矿山，以及从每个矿山应该开采多少矿石？\n",
    "\n",
    "这个问题是基于英国瓷土公司（English China Clays）面临的一个更大规模问题。在那个问题中（在 20 世纪 70 年代），目标是每年从 20 个矿山中选择最多 4 个进行运营。\n",
    "\n",
    "---\n",
    "## 模型构建\n",
    "\n",
    "### 集合和索引\n",
    "\n",
    "$t \\in \\text{Years}=\\{1,2,\\dots,5\\}$: 年份集合。\n",
    "\n",
    "$m \\in \\text{Mines}=\\{1,2,\\dots,4\\}$: 矿山集合。\n",
    "\n",
    "### 参数\n",
    "\n",
    "$\\text{price} \\in \\mathbb{R}^+$: 混合矿石每吨的售价（美元）。\n",
    "\n",
    "$\\text{max_mines} \\in \\mathbb{N}$: 任一年份可运营的最大矿山数量。\n",
    "\n",
    "$\\text{royalties}_m \\in \\mathbb{R}^+$: 保持矿山 $m$ 开放的年度特许权使用费（美元）。\n",
    "\n",
    "$\\text{capacity}_m \\in \\mathbb{R}^+$: 矿山 $m$ 每年可开采的最大矿石吨数。\n",
    "\n",
    "$\\text{quality}_m \\in \\mathbb{R}^+$: 矿山 $m$ 开采的矿石品位。\n",
    "\n",
    "$\\text{target} \\in \\mathbb{R}^+$: 第 $t$ 年混合矿石的品位目标。\n",
    "\n",
    "$\\text{time_discount}_t \\in [0,1] \\subset \\mathbb{R}^+$: 第 $t$ 年收入和成本的时间折现系数。\n",
    "\n",
    "### 决策变量\n",
    "\n",
    "$\\text{blend}_t \\in \\mathbb{R}^+$: 第 $t$ 年混合矿石的吨数。\n",
    "\n",
    "$\\text{extract}_{t,m} \\in \\mathbb{R}^+$: 第 $t$ 年从矿山 $m$ 开采的矿石吨数。\n",
    "\n",
    "$\\text{working}_{t,m} \\in \\{0,1\\}$: 如果矿山 $m$ 在第 $t$ 年运营则为 1，否则为 0。\n",
    "\n",
    "$\\text{available}_{t,m} \\in \\{0,1\\}$: 如果矿山 $m$ 在第 $t$ 年开放则为 1，否则为 0。\n",
    "\n",
    "### 目标函数\n",
    "\n",
    "- **利润**: 最大化规划期内的总利润（美元）。\n",
    "\n",
    "\\begin{equation}\n",
    "\\text{Maximize} \\quad Z = \\sum_{t \\in \\text{Years}}\\sum_{m \\in \\text{Mines}}{\\text{time_discount}_t*(\\text{price}*\\text{blend}_t-\\text{royalties}_m*\\text{available}_{t,m})}\n",
    "\\tag{0}\n",
    "\\end{equation}\n",
    "\n",
    "### 约束条件\n",
    "\n",
    "- **运营矿山**: 第 $t$ 年运营矿山的总数不能超过限制。\n",
    "\n",
    "\\begin{equation}\n",
    "\\sum_{m \\in \\text{Mines}}{\\text{working}_{t,m}} \\leq \\text{max_mines} \\quad \\forall t \\in \\text{Years}\n",
    "\\tag{1}\n",
    "\\end{equation}\n",
    "\n",
    "- **品位**: 第 $t$ 年混合矿石的最终品位必须满足目标。\n",
    "\n",
    "\\begin{equation}\n",
    "\\sum_{m \\in \\text{Mines}}{\\text{quality}_m*\\text{extract}_{t,m}} = \\text{target}_t*\\text{blended}_t \\quad \\forall t \\in \\text{Years}\n",
    "\\tag{2}\n",
    "\\end{equation}\n",
    "\n",
    "- **质量守恒**: 第 $t$ 年开采的矿石总吨数应等于该年混合矿石的吨数。\n",
    "\n",
    "\\begin{equation}\n",
    "\\sum_{m \\in \\text{Mines}}{\\text{extract}_{t,m}} = \\text{blend}_t \\quad \\forall t \\in \\text{Years}\n",
    "\\tag{3}\n",
    "\\end{equation}\n",
    "\n",
    "- **矿山产能**: 第 $t$ 年从矿山 $m$ 开采的矿石总吨数不能超过该矿山的年度产能。\n",
    "\n",
    "\\begin{equation}\n",
    "\\sum_{m \\in \\text{Mines}}{\\text{extract}_{t,m}} \\leq \\text{capacity}_m*\\text{working}_{t,m} \\quad \\forall t \\in \\text{Years}\n",
    "\\tag{4}\n",
    "\\end{equation}\n",
    "\n",
    "- **开放运营**: 矿山 $m$ 只能在该年开放的情况下在第 $t$ 年运营。\n",
    "\n",
    "\\begin{equation}\n",
    "\\text{working}_{t,m} \\leq \\text{available}_{t,m} \\quad \\forall (t,m) \\in \\text{Years} \\times \\text{Mines}\n",
    "\\tag{5}\n",
    "\\end{equation}\n",
    "\n",
    "- **关闭**: 如果矿山 $m$ 在第 $t$ 年关闭，将来不能再重新开放。\n",
    "\n",
    "\\begin{equation}\n",
    "\\text{available}_{t+1,m} \\leq \\text{available}_{t,m} \\quad \\forall (t < 5,m) \\in \\text{Years} \\times \\text{Mines}\n",
    "\\tag{6}\n",
    "\\end{equation}\n",
    "\n",
    "---\n",
    "## Python 实现\n",
    "\n",
    "我们导入 Gurobi Python 模块和其他 Python 库。"
   ]
  },
  {
   "cell_type": "code",
   "execution_count": null,
   "metadata": {},
   "outputs": [],
   "source": [
    "# %pip install gurobipy"
   ]
  },
  {
   "cell_type": "code",
   "execution_count": 1,
   "metadata": {},
   "outputs": [],
   "source": [
    "import numpy as np\n",
    "import pandas as pd\n",
    "\n",
    "import gurobipy as gp\n",
    "from gurobipy import GRB\n",
    "\n",
    "# tested with Python 3.11 & Gurobi 11.0"
   ]
  },
  {
   "cell_type": "markdown",
   "metadata": {},
   "source": [
    "## 输入数据\n",
    "我们定义模型的所有输入数据。"
   ]
  },
  {
   "cell_type": "code",
   "execution_count": 2,
   "metadata": {},
   "outputs": [],
   "source": [
    "# 参数\n",
    "\n",
    "years = [1, 2, 3, 4, 5]\n",
    "mines = [1, 2, 3, 4]\n",
    "\n",
    "royalties = {1: 5e6, 2: 4e6, 3: 4e6, 4: 5e6}\n",
    "capacity = {1: 2e6, 2: 2.5e6, 3: 1.3e6, 4: 3e6}\n",
    "quality  = {1: 1.0, 2: 0.7, 3: 1.5, 4: 0.5}\n",
    "target = {1: 0.9, 2: 0.8, 3: 1.2, 4: 0.6, 5: 1.0}\n",
    "time_discount = {year: (1/(1+1/10.0)) ** (year-1) for year in years}\n",
    "\n",
    "max_mines = 3\n",
    "price = 10"
   ]
  },
  {
   "cell_type": "markdown",
   "metadata": {},
   "source": [
    "**注意：** 第 $n$ 期未来金额的现值由公式给出：$\\text{present_value} = \\frac{1}{(1+\\text{interest_rate})^n}*\\text{future_value} $\n",
    "\n",
    "## 模型部署\n",
    "我们创建一个模型和变量。对于每年和每个矿山，我们有 (i) 一个捕获生产量的变量，以百万吨为单位，(ii) 一个决策变量，告诉我们矿山是否开放，以及 (iii) 一个决策变量，告诉我们矿山是否运营。"
   ]
  },
  {
   "cell_type": "code",
   "execution_count": 3,
   "metadata": {},
   "outputs": [
    {
     "name": "stdout",
     "output_type": "stream",
     "text": [
      "Set parameter LicenseID to value 2601452\n"
     ]
    }
   ],
   "source": [
    "mining = gp.Model('Mining')\n",
    "\n",
    "blend = mining.addVars(years, name=\"Blend\")\n",
    "extract = mining.addVars(years, mines, name=\"Extract\")\n",
    "working = mining.addVars(years, mines, vtype=GRB.BINARY, name=\"Working\")\n",
    "available = mining.addVars(years, mines, vtype=GRB.BINARY, name=\"Available\")"
   ]
  },
  {
   "cell_type": "markdown",
   "metadata": {},
   "source": [
    "接下来，我们插入约束条件。\n",
    "\n",
    "每年只能有三个矿山运营。"
   ]
  },
  {
   "cell_type": "code",
   "execution_count": 4,
   "metadata": {},
   "outputs": [],
   "source": [
    "#1. 运营矿山\n",
    "\n",
    "OperatingMines = mining.addConstrs((working.sum(year, '*') <= max_mines for year in years), \"Operating_mines\")"
   ]
  },
  {
   "cell_type": "markdown",
   "metadata": {},
   "source": [
    "矿山开采的矿石品位乘以开采量必须等于混合矿石需要的品位乘以混合矿石的数量。\n",
    "这确保了品质标准得到满足。"
   ]
  },
  {
   "cell_type": "code",
   "execution_count": 5,
   "metadata": {},
   "outputs": [],
   "source": [
    "#2. 品质\n",
    "\n",
    "Quality = mining.addConstrs((gp.quicksum(quality[mine]*extract[year, mine] for mine in mines)\n",
    "                   == target[year]*blend[year] for year in years), \"Quality\")"
   ]
  },
  {
   "cell_type": "markdown",
   "metadata": {},
   "source": [
    "以下约束确保每年混合矿石的吨数等于组成部分的总吨数。"
   ]
  },
  {
   "cell_type": "code",
   "execution_count": 6,
   "metadata": {},
   "outputs": [],
   "source": [
    "#3. 质量守恒\n",
    "\n",
    "MassConservation = mining.addConstrs((extract.sum(year, '*') == blend[year] for year in years), \"Mass Conservation\")"
   ]
  },
  {
   "cell_type": "markdown",
   "metadata": {},
   "source": [
    "以下约束确保矿山开采量不超过开采限制，并且只有在矿山运营时才有产出。"
   ]
  },
  {
   "cell_type": "code",
   "execution_count": 7,
   "metadata": {},
   "outputs": [],
   "source": [
    "#4. 矿山产能\n",
    "\n",
    "MineCapacity = mining.addConstrs((extract[year, mine] <= capacity[mine]*working[year, mine] for year, mine in extract), \"Capacity\")"
   ]
  },
  {
   "cell_type": "markdown",
   "metadata": {},
   "source": [
    "以下约束确保当矿山运营时，它也需要处于开放状态。"
   ]
  },
  {
   "cell_type": "code",
   "execution_count": 8,
   "metadata": {},
   "outputs": [],
   "source": [
    "# 开放运营\n",
    "OpenToOperate = mining.addConstrs((working[year, mine] <= available[year, mine] for year, mine in available), \"Open to Operate\")"
   ]
  },
  {
   "cell_type": "markdown",
   "metadata": {},
   "source": [
    "以下约束强制矿山在首次关闭后的所有年份都保持关闭状态。如果矿山关闭，以后就不能重新开放："
   ]
  },
  {
   "cell_type": "code",
   "execution_count": 9,
   "metadata": {},
   "outputs": [],
   "source": [
    "# 关闭矿山\n",
    "ShutdownMine = mining.addConstrs((available[year+1, mine] <= available[year, mine]\n",
    "                   for year, mine in available if year < years[-1]), \"Shut down\")"
   ]
  },
  {
   "cell_type": "markdown",
   "metadata": {},
   "source": [
    "总利润由销售混合矿石的收入减去应付的特许权使用费组成。这是要最大化的目标。可以写作："
   ]
  },
  {
   "cell_type": "code",
   "execution_count": 10,
   "metadata": {},
   "outputs": [],
   "source": [
    "#0. 目标函数\n",
    "obj = gp.quicksum(price*time_discount[year]*blend[year] for year in years) \\\n",
    "- gp.quicksum(royalties[mine] * time_discount[year] * available[year, mine] for year, mine in available)\n",
    "mining.setObjective(obj, GRB.MAXIMIZE)"
   ]
  },
  {
   "cell_type": "markdown",
   "metadata": {},
   "source": [
    "接下来，优化过程开始，Gurobi 找到最优解。"
   ]
  },
  {
   "cell_type": "code",
   "execution_count": 11,
   "metadata": {},
   "outputs": [
    {
     "name": "stdout",
     "output_type": "stream",
     "text": [
      "Gurobi Optimizer version 12.0.0 build v12.0.0rc1 (win64 - Windows 11.0 (22631.2))\n",
      "\n",
      "CPU model: Intel(R) Core(TM) Ultra 5 125H, instruction set [SSE2|AVX|AVX2]\n",
      "Thread count: 14 physical cores, 18 logical processors, using up to 18 threads\n",
      "\n",
      "Optimize a model with 71 rows, 65 columns and 182 nonzeros\n",
      "Model fingerprint: 0xbc1c2f7b\n",
      "Variable types: 25 continuous, 40 integer (40 binary)\n",
      "Coefficient statistics:\n",
      "  Matrix range     [5e-01, 3e+06]\n",
      "  Objective range  [7e+00, 5e+06]\n",
      "  Bounds range     [1e+00, 1e+00]\n",
      "  RHS range        [3e+00, 3e+00]\n",
      "Found heuristic solution: objective -0.0000000\n",
      "Presolve removed 13 rows and 13 columns\n",
      "Presolve time: 0.00s\n",
      "Presolved: 58 rows, 52 columns, 135 nonzeros\n",
      "Variable types: 16 continuous, 36 integer (36 binary)\n",
      "\n",
      "Root relaxation: objective 1.577309e+08, 40 iterations, 0.00 seconds (0.00 work units)\n",
      "\n",
      "    Nodes    |    Current Node    |     Objective Bounds      |     Work\n",
      " Expl Unexpl |  Obj  Depth IntInf | Incumbent    BestBd   Gap | It/Node Time\n",
      "\n",
      "     0     0 1.5773e+08    0    4   -0.00000 1.5773e+08      -     -    0s\n",
      "H    0     0                    1.189074e+08 1.5773e+08  32.7%     -    0s\n",
      "H    0     0                    1.302711e+08 1.5773e+08  21.1%     -    0s\n",
      "H    0     0                    1.343620e+08 1.5773e+08  17.4%     -    0s\n",
      "     0     0 1.5462e+08    0    4 1.3436e+08 1.5462e+08  15.1%     -    0s\n",
      "H    0     0                    1.393620e+08 1.5246e+08  9.40%     -    0s\n",
      "H    0     0                    1.468620e+08 1.5246e+08  3.81%     -    0s\n",
      "\n",
      "Cutting planes:\n",
      "  Implied bound: 1\n",
      "  MIR: 1\n",
      "  Flow cover: 1\n",
      "  RLT: 3\n",
      "  Relax-and-lift: 1\n",
      "\n",
      "Explored 1 nodes (47 simplex iterations) in 0.03 seconds (0.00 work units)\n",
      "Thread count was 18 (of 18 available processors)\n",
      "\n",
      "Solution count 6: 1.46862e+08 1.39362e+08 1.34362e+08 ... -0\n",
      "\n",
      "Optimal solution found (tolerance 1.00e-04)\n",
      "Best objective 1.468619743642e+08, best bound 1.468619743642e+08, gap 0.0000%\n"
     ]
    }
   ],
   "source": [
    "mining.optimize()"
   ]
  },
  {
   "cell_type": "markdown",
   "metadata": {},
   "source": [
    "---\n",
    "## 分析\n",
    "\n",
    "最优解产生了 $\\$146.8620$ 百万的利润，各矿山在每年的生产计划如下（数量以百万吨为单位）：\n",
    "\n",
    "### 开采计划\n",
    "该计划确定了规划期内每年（行）从每个矿山（列）开采的矿石百万吨数。例如，在第 2 年将从矿山 3 开采 130 万吨矿石。"
   ]
  },
  {
   "cell_type": "code",
   "execution_count": 12,
   "metadata": {},
   "outputs": [
    {
     "data": {
      "text/html": [
       "<div>\n",
       "<style scoped>\n",
       "    .dataframe tbody tr th:only-of-type {\n",
       "        vertical-align: middle;\n",
       "    }\n",
       "\n",
       "    .dataframe tbody tr th {\n",
       "        vertical-align: top;\n",
       "    }\n",
       "\n",
       "    .dataframe thead th {\n",
       "        text-align: right;\n",
       "    }\n",
       "</style>\n",
       "<table border=\"1\" class=\"dataframe\">\n",
       "  <thead>\n",
       "    <tr style=\"text-align: right;\">\n",
       "      <th></th>\n",
       "      <th>1</th>\n",
       "      <th>2</th>\n",
       "      <th>3</th>\n",
       "      <th>4</th>\n",
       "    </tr>\n",
       "  </thead>\n",
       "  <tbody>\n",
       "    <tr>\n",
       "      <th>1</th>\n",
       "      <td>2.00</td>\n",
       "      <td>0.00</td>\n",
       "      <td>1.3</td>\n",
       "      <td>2.45</td>\n",
       "    </tr>\n",
       "    <tr>\n",
       "      <th>2</th>\n",
       "      <td>0.00</td>\n",
       "      <td>2.50</td>\n",
       "      <td>1.3</td>\n",
       "      <td>2.20</td>\n",
       "    </tr>\n",
       "    <tr>\n",
       "      <th>3</th>\n",
       "      <td>1.95</td>\n",
       "      <td>0.00</td>\n",
       "      <td>1.3</td>\n",
       "      <td>0.00</td>\n",
       "    </tr>\n",
       "    <tr>\n",
       "      <th>4</th>\n",
       "      <td>0.12</td>\n",
       "      <td>2.50</td>\n",
       "      <td>0.0</td>\n",
       "      <td>3.00</td>\n",
       "    </tr>\n",
       "    <tr>\n",
       "      <th>5</th>\n",
       "      <td>2.00</td>\n",
       "      <td>2.17</td>\n",
       "      <td>1.3</td>\n",
       "      <td>0.00</td>\n",
       "    </tr>\n",
       "  </tbody>\n",
       "</table>\n",
       "</div>"
      ],
      "text/plain": [
       "      1     2    3     4\n",
       "1  2.00  0.00  1.3  2.45\n",
       "2  0.00  2.50  1.3  2.20\n",
       "3  1.95  0.00  1.3  0.00\n",
       "4  0.12  2.50  0.0  3.00\n",
       "5  2.00  2.17  1.3  0.00"
      ]
     },
     "execution_count": 12,
     "metadata": {},
     "output_type": "execute_result"
    }
   ],
   "source": [
    "rows = years.copy()\n",
    "columns = mines.copy()\n",
    "extraction = pd.DataFrame(columns=columns, index=rows, data=0.0)\n",
    "\n",
    "for year, mine in extract.keys():\n",
    "    if (abs(extract[year, mine].x) > 1e-6):\n",
    "        extraction.loc[year, mine] = np.round(extract[year, mine].x / 1e6, 2)\n",
    "extraction"
   ]
  },
  {
   "cell_type": "markdown",
   "metadata": {},
   "source": [
    "### 销售计划\n",
    "该计划定义了规划期内每年要销售的混合矿石百万吨数。例如，我们计划在第 4 年销售 562 万吨混合矿石。"
   ]
  },
  {
   "cell_type": "code",
   "execution_count": 14,
   "metadata": {},
   "outputs": [
    {
     "data": {
      "text/html": [
       "<div>\n",
       "<style scoped>\n",
       "    .dataframe tbody tr th:only-of-type {\n",
       "        vertical-align: middle;\n",
       "    }\n",
       "\n",
       "    .dataframe tbody tr th {\n",
       "        vertical-align: top;\n",
       "    }\n",
       "\n",
       "    .dataframe thead th {\n",
       "        text-align: right;\n",
       "    }\n",
       "</style>\n",
       "<table border=\"1\" class=\"dataframe\">\n",
       "  <thead>\n",
       "    <tr style=\"text-align: right;\">\n",
       "      <th></th>\n",
       "      <th>Sales</th>\n",
       "    </tr>\n",
       "  </thead>\n",
       "  <tbody>\n",
       "    <tr>\n",
       "      <th>1</th>\n",
       "      <td>5.75</td>\n",
       "    </tr>\n",
       "    <tr>\n",
       "      <th>2</th>\n",
       "      <td>6.00</td>\n",
       "    </tr>\n",
       "    <tr>\n",
       "      <th>3</th>\n",
       "      <td>3.25</td>\n",
       "    </tr>\n",
       "    <tr>\n",
       "      <th>4</th>\n",
       "      <td>5.62</td>\n",
       "    </tr>\n",
       "    <tr>\n",
       "      <th>5</th>\n",
       "      <td>5.47</td>\n",
       "    </tr>\n",
       "  </tbody>\n",
       "</table>\n",
       "</div>"
      ],
      "text/plain": [
       "   Sales\n",
       "1   5.75\n",
       "2   6.00\n",
       "3   3.25\n",
       "4   5.62\n",
       "5   5.47"
      ]
     },
     "execution_count": 14,
     "metadata": {},
     "output_type": "execute_result"
    }
   ],
   "source": [
    "rows = years.copy()\n",
    "sales = pd.DataFrame(columns=['Sales'], index=rows, data=0.0)\n",
    "\n",
    "for year in blend.keys():\n",
    "    if (abs(blend[year].x) > 1e-6):\n",
    "        sales.loc[year, 'Sales'] = np.round(blend[year].x / 1e6, 2)\n",
    "sales"
   ]
  },
  {
   "cell_type": "markdown",
   "metadata": {},
   "source": [
    "**注意：** 如果您想将解决方案写入文件，而不是打印到终端，可以使用 model.write() 命令。示例实现为：\n",
    "\n",
    "`mining.write(\"mining-output.sol\")`\n",
    "\n",
    "---\n",
    "## 参考文献\n",
    "\n",
    "H. Paul Williams，《数学规划中的模型构建》，第五版。\n",
    "\n",
    "版权所有 © 2020 Gurobi Optimization, LLC"
   ]
  },
  {
   "cell_type": "code",
   "execution_count": null,
   "metadata": {},
   "outputs": [],
   "source": []
  }
 ],
 "metadata": {
  "kernelspec": {
   "display_name": "Python 3",
   "language": "python",
   "name": "python3"
  },
  "language_info": {
   "codemirror_mode": {
    "name": "ipython",
    "version": 3
   },
   "file_extension": ".py",
   "mimetype": "text/x-python",
   "name": "python",
   "nbconvert_exporter": "python",
   "pygments_lexer": "ipython3",
   "version": "3.12.2"
  }
 },
 "nbformat": 4,
 "nbformat_minor": 2
}
