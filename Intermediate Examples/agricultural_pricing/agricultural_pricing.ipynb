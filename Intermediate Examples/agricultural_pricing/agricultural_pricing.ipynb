{
 "cells": [
  {
   "cell_type": "markdown",
   "metadata": {},
   "source": [
    "# 农产品定价\n",
    "\n",
    "## 目标和先决条件\n",
    "\n",
    "通过这个例子，您将学习如何使用数学优化来解决一个常见但关键的农产品定价问题：确定一个国家乳制品的价格和需求，以最大化这些产品销售带来的总收入。您将学习如何使用Gurobi Python API将此问题建模为二次优化问题，并使用Gurobi优化器求解。\n",
    "\n",
    "这个模型是H. Paul Williams所著《数学规划中的模型构建》第五版第276-278页和333-335页中的第21个示例。\n",
    "\n",
    "这个建模示例属于中级水平，我们假设您了解Python并熟悉Gurobi Python API。此外，您应该对构建数学优化模型有一定的了解。\n",
    "\n",
    "\n",
    "**下载代码库** <br /> \n",
    "您可以通过点击[这里](https://github.com/Gurobi/modeling-examples/archive/master.zip)下载包含此示例和其他示例的代码库。"
   ]
  },
  {
   "cell_type": "markdown",
   "metadata": {},
   "source": [
    "## 问题描述\n",
    "\n",
    "某国政府想要决定其乳制品：牛奶、黄油和奶酪的价格。所有这些产品都是由该国的原料奶生产运营直接或间接生产的。这些原料奶分为两个主要成分：脂肪和干物质。在扣除用于制造出口产品或农场消费的脂肪和干物质数量后，每年可用的脂肪总量为600,000吨，干物质总量为750,000吨。这些全部可用于生产国内消费的牛奶、黄油和两种奶酪。产品的百分比成分如下表所示：\n",
    "\n",
    "| 成分 | 脂肪 (%) | 干物质 (%) |\n",
    "| --- | --- | --- |\n",
    "| 牛奶 | 4 | 9 |\n",
    "| 黄油 | 80 | 2 |\n",
    "| 奶酪1 | 35 | 30 |\n",
    "| 奶酪2 | 25 | 40 |\n",
    "\n",
    "下表显示了去年乳制品的国内消费量（需求）和价格：\n",
    "\n",
    "| 乳制品 | 牛奶 | 黄油 | 奶酪1 | 奶酪2 |\n",
    "| --- | --- | --- | --- | --- |\n",
    "| 需求（千吨） | 4.82 | 0.32 | 0.21 | 0.07 |\n",
    "| 价格（美元/吨） | 297 | 720 | 1050 | 815 |\n",
    "\n",
    "弹性系数和交叉弹性系数如下表所示：\n",
    "\n",
    "| 牛奶 | 黄油 | 奶酪1 | 奶酪2 | 奶酪1对奶酪2 | 奶酪2对奶酪1 |\n",
    "| --- | --- | --- | --- | --- | --- |\n",
    "| 0.4 | 2.7 | 1.1 | 0.4 | 0.1 | 0.4 |\n",
    "\n",
    "价格指数不能高于去年。这个约束条件规定，新价格必须使得去年的消费总成本不会增加。\n",
    "去年的价格指数为1.939（以千美元计）。\n",
    "\n",
    "目标是确定能够最大化总收入的价格和需求。"
   ]
  },
  {
   "cell_type": "markdown",
   "metadata": {},
   "source": [
    "## 模型公式\n",
    "\n",
    "### 集合和索引\n",
    "\n",
    "$d \\in \\text{Dairy}=\\{\\text{milk}, \\text{butter}, \\text{cheese1}, \\text{cheese2} \\}$\n",
    "\n",
    "$c \\in \\text{Components}=\\{\\text{fat}, \\text{dry_matter} \\}$\n",
    "\n",
    "### 参数\n",
    "\n",
    "$\\text{capacity}_{c} \\in \\mathbb{R}^+$: 组分$c$的年可用量（千吨）。\n",
    "\n",
    "$\\text{qtyper}_{c,d} \\in [0,1]$: 乳制品$d$中组分$c$的百分比。\n",
    "\n",
    "$\\text{consumption}_{d} \\in \\mathbb{R}^+$: 去年乳制品$d$的国内消费量（千吨）。\n",
    "\n",
    "$\\text{price}_{d} \\in \\mathbb{R}^+$: 去年乳制品$d$的价格（美元/千吨）。\n",
    "\n",
    "$\\text{elasticity}_{d} \\in \\mathbb{R}^+$: 去年乳制品$d$的价格弹性。\n",
    "\n",
    "$\\text{elasticity12} \\in \\mathbb{R}^+$: 去年奶酪1和奶酪2的交叉价格弹性。\n",
    "\n",
    "$\\text{elasticity21} \\in \\mathbb{R}^+$: 去年奶酪2和奶酪1的交叉价格弹性。\n",
    "\n",
    "$\\text{prcIndex} \\in \\mathbb{R}^+$: 反映去年消费总成本的价格指数。\n",
    "\n",
    "### 决策变量\n",
    "\n",
    "$\\text{p}_{d} \\in \\mathbb{R}^+$: 乳制品$d$的价格（美元/千吨）。\n",
    "\n",
    "$\\text{q}_{d} \\in \\mathbb{R}^+$: 乳制品$d$的需求（千吨）。\n",
    "\n",
    "### 约束条件\n",
    "\n",
    "**产能约束**: 下列约束条件强制执行脂肪和干物质的有限可用性。\n",
    "\n",
    "\\begin{equation}\n",
    "\\sum_{d \\in \\text{Dairy}}{\\text{qtyper}_{c,d}*\\text{q}_{d} } \\leq \\text{capacity}_{c} \\quad \\forall c \\in \\text{Components}\n",
    "\\end{equation}\n",
    "\n",
    "\n",
    "**价格指数**: 此约束条件规定，新价格必须使得去年的消费总成本不会增加。\n",
    "\n",
    "\\begin{equation}\n",
    "\\sum_{d \\in \\text{Dairy}}{\\text{consumption}_{d}*\\text{p}_{d} } \\leq \\text{prcIndex}\n",
    "\\end{equation}\n",
    "\n",
    "**弹性**: 需求变量$q_{d}$通过价格弹性关系与价格变量$p_{d}$相关。我们用线性关系来近似弹性。\n",
    "\n",
    "牛奶弹性。\n",
    "$$\n",
    "(\\text{q}_{milk} - \\text{consumption}_{milk})/\\text{consumption}_{milk}) = -\\text{elasticity}_{milk}*(\\text{p}_{milk} - \\text{price}_{milk})/\\text{price}_{milk})\n",
    "$$\n",
    "\n",
    "黄油弹性。\n",
    "$$\n",
    "(\\text{q}_{butter} - \\text{consumption}_{butter})/\\text{consumption}_{butter}) = -\\text{elasticity}_{butter}*(\\text{p}_{butter} - \\text{price}_{butter})/\\text{price}_{butter})\n",
    "$$\n",
    "\n",
    "奶酪1弹性。\n",
    "$$\n",
    "(\\text{q}_{cheese1} - \\text{consumption}_{cheese1})/\\text{consumption}_{cheese1}) = -\\text{elasticity}_{cheese1}*(\\text{p}_{cheese1} - \\text{price}_{cheese1})/\\text{price}_{cheese1}) \n",
    "$$\n",
    "\n",
    "$$\n",
    "+ elasticity12*(\\text{p}_{cheese2} - \\text{price}_{cheese2})/\\text{price}_{cheese2})\n",
    "$$\n",
    "\n",
    "奶酪2弹性。\n",
    "$$\n",
    "(\\text{q}_{cheese2} - \\text{consumption}_{cheese2})/\\text{consumption}_{cheese2}) = -\\text{elasticity}_{cheese2}*(\\text{p}_{cheese2} - \\text{price}_{cheese2})/\\text{price}_{cheese2}) \n",
    "$$\n",
    "\n",
    "$$\n",
    "+ elasticity21*(\\text{p}_{cheese1} - \\text{price}_{cheese1})/\\text{price}_{cheese1}) \n",
    "$$\n",
    "\n",
    "### 目标函数\n",
    "\n",
    "**收入**: 目标是最大化总收入。\n",
    "\n",
    "\\begin{equation}\n",
    "\\text{最大化} \\quad \\sum_{d \\in \\text{Dairy}}{\\text{q}_{d}*\\text{p}_{d} }\n",
    "\\end{equation}\n",
    "\n",
    "---\n",
    "## Python实现\n",
    "\n",
    "我们导入Gurobi Python模块和其他Python库。"
   ]
  },
  {
   "cell_type": "code",
   "execution_count": null,
   "metadata": {},
   "outputs": [],
   "source": [
    "# %pip install gurobipy"
   ]
  },
  {
   "cell_type": "code",
   "execution_count": 1,
   "metadata": {},
   "outputs": [],
   "source": [
    "import pandas as pd\n",
    "\n",
    "import gurobipy as gp\n",
    "from gurobipy import GRB\n",
    "\n",
    "# tested with Python 3.11 & Gurobi 11.0"
   ]
  },
  {
   "cell_type": "markdown",
   "metadata": {},
   "source": [
    "## 输入数据\n",
    "\n",
    "我们定义模型的所有输入数据。"
   ]
  },
  {
   "cell_type": "code",
   "execution_count": null,
   "metadata": {},
   "outputs": [],
   "source": [
    "# 乳制品列表\n",
    "\n",
    "dairy = ['milk', 'butter', 'cheese1', 'cheese2']\n",
    "\n",
    "components = ['fat', 'dryMatter']\n",
    "\n",
    "\n",
    "# 创建字典来存储产品的成分百分比\n",
    "\n",
    "cd, qtyper = gp.multidict({\n",
    "    ('fat','milk'): 0.04,\n",
    "    ('fat','butter'): 0.8,\n",
    "    ('fat','cheese1'): 0.35,\n",
    "    ('fat','cheese2'): 0.25,\n",
    "    ('dryMatter','milk'): 0.09,\n",
    "    ('dryMatter','butter'): 0.02,\n",
    "    ('dryMatter','cheese1'): 0.3,\n",
    "    ('dryMatter','cheese2'): 0.4\n",
    "})\n",
    "\n",
    "# 创建字典来存储组分的年度可用量（千吨）\n",
    "\n",
    "components, capacity = gp.multidict({\n",
    "    ('fat'): 600,\n",
    "    ('dryMatter'): 750\n",
    "})\n",
    "\n",
    "# 创建字典来存储去年的国内消费量和价格\n",
    "\n",
    "dairy, consumption, price, elasticity = gp.multidict({\n",
    "    ('milk'): [4.82, 0.297, 0.4],\n",
    "    ('butter'): [0.32, 0.72, 2.7],\n",
    "    ('cheese1'): [0.21, 1.05, 1.1],\n",
    "    ('cheese2'): [0.07, 0.815, 0.4]\n",
    "})\n",
    "\n",
    "elasticity12 = 0.1\n",
    "elasticity21 = 0.4\n",
    "\n",
    "priceIndex = 1.939"
   ]
  },
  {
   "cell_type": "markdown",
   "metadata": {},
   "source": [
    "## 模型部署\n",
    "\n",
    "我们创建一个模型和变量。此模型的决策变量是乳制品的价格和需求。\n",
    "\n",
    "使用Gurobi求解双线性问题非常简单，只需配置全局参数`nonConvex`，并将此参数设置为2。"
   ]
  },
  {
   "cell_type": "code",
   "execution_count": null,
   "metadata": {},
   "outputs": [
    {
     "name": "stdout",
     "output_type": "stream",
     "text": [
      "Using license file c:\\gurobi\\gurobi.lic\n",
      "Changed value of parameter nonConvex to 2\n",
      "   Prev: -1  Min: -1  Max: 2  Default: -1\n"
     ]
    }
   ],
   "source": [
    "model = gp.Model('AgriculturalPricing')\n",
    "\n",
    "# 设置全局参数\n",
    "model.params.nonConvex = 2\n",
    "\n",
    "# 乳制品数量\n",
    "qvar = model.addVars(dairy, name=\"qvar\")\n",
    "\n",
    "# 乳制品价格\n",
    "pvar = model.addVars(dairy, name=\"pvar\")\n"
   ]
  },
  {
   "cell_type": "markdown",
   "metadata": {},
   "source": [
    "以下约束条件强制执行脂肪和干物质的有限可用性。"
   ]
  },
  {
   "cell_type": "code",
   "execution_count": null,
   "metadata": {},
   "outputs": [],
   "source": [
    "# 产能约束\n",
    "\n",
    "fatCap = model.addConstrs( (gp.quicksum(qtyper[c,d]*qvar[d] for d in dairy) <= capacity[c] for c in components  ), \n",
    "                          name='fatCap')"
   ]
  },
  {
   "cell_type": "markdown",
   "metadata": {},
   "source": [
    "此约束确保新价格必须使得去年的消费总成本不会增加。"
   ]
  },
  {
   "cell_type": "code",
   "execution_count": null,
   "metadata": {},
   "outputs": [],
   "source": [
    "# 价格指数约束\n",
    "\n",
    "priceIndex = model.addConstr( (gp.quicksum(consumption[d]*pvar[d] for d in dairy) <= priceIndex ), name='priceIndex')"
   ]
  },
  {
   "cell_type": "markdown",
   "metadata": {},
   "source": [
    "需求变量通过价格弹性关系与价格变量相关。我们用线性关系来近似弹性。"
   ]
  },
  {
   "cell_type": "code",
   "execution_count": null,
   "metadata": {},
   "outputs": [],
   "source": [
    "# 弹性约束\n",
    "\n",
    "elasMilk = model.addConstr( (qvar['milk']-consumption['milk'])/consumption['milk']  \n",
    "                           == -elasticity['milk']*(pvar['milk']-price['milk'])/price['milk'], name='elasMilk')\n",
    "\n",
    "elasButter = model.addConstr( (qvar['butter']-consumption['butter'])/consumption['butter']  \n",
    "                           == -elasticity['butter']*(pvar['butter']-price['butter'])/price['butter'], name='elasButter')\n",
    "\n",
    "elasCheese1 = model.addConstr( (qvar['cheese1']-consumption['cheese1'])/consumption['cheese1']  \n",
    "                           == -elasticity['cheese1']*(pvar['cheese1']-price['cheese1'])/price['cheese1']\n",
    "                              +elasticity12*(pvar['cheese2']-price['cheese2'])/price['cheese2'] , name='elasCheese1')\n",
    "\n",
    "elasCheese2 = model.addConstr( (qvar['cheese2']-consumption['cheese2'])/consumption['cheese2']  \n",
    "                           == -elasticity['cheese2']*(pvar['cheese2']-price['cheese2'])/price['cheese2']\n",
    "                              +elasticity21*(pvar['cheese1']-price['cheese1'])/price['cheese1'] , name='elasCheese2')"
   ]
  },
  {
   "cell_type": "markdown",
   "metadata": {},
   "source": [
    "目标函数是最大化收入。"
   ]
  },
  {
   "cell_type": "code",
   "execution_count": null,
   "metadata": {},
   "outputs": [],
   "source": [
    "# 二次目标函数\n",
    "\n",
    "obj = gp.quicksum(qvar[d]*pvar[d] for d in dairy)\n",
    "\n",
    "model.setObjective(obj, GRB.MAXIMIZE)"
   ]
  },
  {
   "cell_type": "code",
   "execution_count": null,
   "metadata": {},
   "outputs": [
    {
     "name": "stdout",
     "output_type": "stream",
     "text": [
      "Gurobi Optimizer version 9.1.0 build v9.1.0rc0 (win64)\n",
      "Thread count: 4 physical cores, 8 logical processors, using up to 8 threads\n",
      "Optimize a model with 7 rows, 8 columns and 22 nonzeros\n",
      "Model fingerprint: 0x4fffdf2e\n",
      "Model has 4 quadratic objective terms\n",
      "Coefficient statistics:\n",
      "  Matrix range     [2e-02, 1e+01]\n",
      "  Objective range  [0e+00, 0e+00]\n",
      "  QObjective range [2e+00, 2e+00]\n",
      "  Bounds range     [0e+00, 0e+00]\n",
      "  RHS range        [1e+00, 8e+02]\n",
      "Presolve removed 2 rows and 0 columns\n",
      "\n",
      "Continuous model is non-convex -- solving as a MIP.\n",
      "\n",
      "Presolve removed 2 rows and 0 columns\n",
      "Presolve time: 0.00s\n",
      "Presolved: 14 rows, 13 columns, 36 nonzeros\n",
      "Presolved model has 4 bilinear constraint(s)\n",
      "Variable types: 13 continuous, 0 integer (0 binary)\n",
      "\n",
      "Root relaxation: objective 2.791205e+00, 11 iterations, 0.00 seconds\n",
      "\n",
      "    Nodes    |    Current Node    |     Objective Bounds      |     Work\n",
      " Expl Unexpl |  Obj  Depth IntInf | Incumbent    BestBd   Gap | It/Node Time\n",
      "\n",
      "     0     0    2.79121    0    4          -    2.79121      -     -    0s\n",
      "H    0     0                       2.0422947    2.79121  36.7%     -    0s\n",
      "     0     0    2.23682    0    4    2.04229    2.23682  9.53%     -    0s\n",
      "     0     0    2.18215    0    4    2.04229    2.18215  6.85%     -    0s\n",
      "H    0     0                       2.0596849    2.18215  5.95%     -    0s\n",
      "     0     0    2.17036    0    4    2.05968    2.17036  5.37%     -    0s\n",
      "     0     0    2.16917    0    4    2.05968    2.16917  5.32%     -    0s\n",
      "     0     0    2.16441    0    4    2.05968    2.16441  5.08%     -    0s\n",
      "     0     0    2.16252    0    4    2.05968    2.16252  4.99%     -    0s\n",
      "     0     0    2.15497    0    4    2.05968    2.15497  4.63%     -    0s\n",
      "H    0     0                       2.0598300    2.15497  4.62%     -    0s\n",
      "     0     0    2.15391    0    4    2.05983    2.15391  4.57%     -    0s\n",
      "H    0     0                       2.0626181    2.15391  4.43%     -    0s\n",
      "H    0     0                       2.0653760    2.15391  4.29%     -    0s\n",
      "H    0     0                       2.0656667    2.15391  4.27%     -    0s\n",
      "     0     2    2.15391    0    4    2.06567    2.15391  4.27%     -    0s\n",
      "*   85    35              18       2.0658550    2.07220  0.31%   1.6    0s\n",
      "*  103    33              16       2.0658649    2.06832  0.12%   1.6    0s\n",
      "*  139    49              18       2.0663278    2.06781  0.07%   1.5    0s\n",
      "*  161    53              19       2.0663286    2.06781  0.07%   1.4    0s\n",
      "*  164    53              18       2.0663408    2.06781  0.07%   1.4    0s\n",
      "*  165    53              18       2.0663409    2.06781  0.07%   1.4    0s\n",
      "*  209    59              21       2.0663474    2.06758  0.06%   1.4    0s\n",
      "*  210    59              21       2.0663482    2.06758  0.06%   1.4    0s\n",
      "*  211    59              20       2.0663508    2.06758  0.06%   1.4    0s\n",
      "*  226    53              27       2.0663906    2.06712  0.04%   1.3    0s\n",
      "*  339    58              24       2.0663946    2.06654  0.01%   1.2    0s\n",
      "*  341    58              25       2.0663954    2.06654  0.01%   1.2    0s\n",
      "*  368    58              22       2.0663973    2.06649  0.00%   1.2    0s\n",
      "*  371    58              23       2.0663990    2.06649  0.00%   1.2    0s\n",
      "\n",
      "Cutting planes:\n",
      "  RLT: 9\n",
      "\n",
      "Explored 397 nodes (484 simplex iterations) in 0.11 seconds\n",
      "Thread count was 8 (of 8 available processors)\n",
      "\n",
      "Solution count 10: 2.0664 2.0664 2.0664 ... 2.06634\n",
      "\n",
      "Optimal solution found (tolerance 1.00e-04)\n",
      "Best objective 2.066398260370e+00, best bound 2.066493116553e+00, gap 0.0046%\n"
     ]
    }
   ],
   "source": [
    "# 验证模型公式\n",
    "\n",
    "model.write('AgriculturalPricing.lp')\n",
    "\n",
    "# 运行优化引擎\n",
    "\n",
    "model.optimize()"
   ]
  },
  {
   "cell_type": "markdown",
   "metadata": {},
   "source": [
    "## 分析\n",
    "\n",
    "下表显示了每种乳制品在均衡时的价格（美元/吨）和需求（吨）。产生的总收入为$\\$ 2,066,398,260$。"
   ]
  },
  {
   "cell_type": "code",
   "execution_count": null,
   "metadata": {},
   "outputs": [
    {
     "data": {
      "text/html": [
       "<div>\n",
       "<style scoped>\n",
       "    .dataframe tbody tr th:only-of-type {\n",
       "        vertical-align: middle;\n",
       "    }\n",
       "\n",
       "    .dataframe tbody tr th {\n",
       "        vertical-align: top;\n",
       "    }\n",
       "\n",
       "    .dataframe thead th {\n",
       "        text-align: right;\n",
       "    }\n",
       "</style>\n",
       "<table border=\"1\" class=\"dataframe\">\n",
       "  <thead>\n",
       "    <tr style=\"text-align: right;\">\n",
       "      <th></th>\n",
       "      <th>Products</th>\n",
       "      <th>Price</th>\n",
       "      <th>Demand</th>\n",
       "    </tr>\n",
       "  </thead>\n",
       "  <tbody>\n",
       "    <tr>\n",
       "      <th></th>\n",
       "      <td>milk</td>\n",
       "      <td>$321.00</td>\n",
       "      <td>4,661,067.00</td>\n",
       "    </tr>\n",
       "    <tr>\n",
       "      <th></th>\n",
       "      <td>butter</td>\n",
       "      <td>$422.00</td>\n",
       "      <td>677,334.00</td>\n",
       "    </tr>\n",
       "    <tr>\n",
       "      <th></th>\n",
       "      <td>cheese1</td>\n",
       "      <td>$839.00</td>\n",
       "      <td>264,129.00</td>\n",
       "    </tr>\n",
       "    <tr>\n",
       "      <th></th>\n",
       "      <td>cheese2</td>\n",
       "      <td>$1,116.00</td>\n",
       "      <td>54,042.00</td>\n",
       "    </tr>\n",
       "  </tbody>\n",
       "</table>\n",
       "</div>"
      ],
      "text/plain": [
       " Products      Price        Demand\n",
       "     milk    $321.00  4,661,067.00\n",
       "   butter    $422.00    677,334.00\n",
       "  cheese1    $839.00    264,129.00\n",
       "  cheese2  $1,116.00     54,042.00"
      ]
     },
     "execution_count": 9,
     "metadata": {},
     "output_type": "execute_result"
    }
   ],
   "source": [
    "# 输出报告\n",
    "price_demand = pd.DataFrame(\n",
    "    {\n",
    "        \"Products\": dairy,\n",
    "        \"Price\": [f\"{round(1000*pvar[d].x):.2f}\" for d in dairy],\n",
    "        \"Demand\" : [f\"{round(1e6*qvar[d].x):.2f}\" for d in dairy],\n",
    "    },\n",
    ")\n",
    "price_demand.index=[''] * len(price_demand)\n",
    "price_demand"
   ]
  },
  {
   "cell_type": "markdown",
   "metadata": {},
   "source": [
    "---\n",
    "## 参考文献\n",
    "\n",
    "H. Paul Williams著《数学规划中的模型构建》第五版。\n",
    "\n",
    "版权所有 © 2020 Gurobi Optimization, LLC"
   ]
  },
  {
   "cell_type": "code",
   "execution_count": null,
   "metadata": {},
   "outputs": [],
   "source": []
  }
 ],
 "metadata": {
  "kernelspec": {
   "display_name": "Python 3",
   "language": "python",
   "name": "python3"
  },
  "language_info": {
   "codemirror_mode": {
    "name": "ipython",
    "version": 3
   },
   "file_extension": ".py",
   "mimetype": "text/x-python",
   "name": "python",
   "nbconvert_exporter": "python",
   "pygments_lexer": "ipython3",
   "version": "3.11.6"
  }
 },
 "nbformat": 4,
 "nbformat_minor": 2
}
