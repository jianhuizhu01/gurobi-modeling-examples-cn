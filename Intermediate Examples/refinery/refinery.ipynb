{
 "cells": [
  {
   "cell_type": "markdown",
   "metadata": {},
   "source": [
    "# 炼油厂优化\n",
    "\n",
    "## 目标和准备工作\n",
    "\n",
    "在这个示例中，我们将演示如何使用数学优化来优化炼油厂的产出。你将学习如何生成一个最大化总利润的最优生产计划，同时考虑生产能力和其他限制条件。\n",
    "\n",
    "关于这类模型的更多信息，可以在 H. P. Williams 所著《Modeling Building in Mathematical Programming》第五版的第258页和第306-310页的示例#6中找到。\n",
    "\n",
    "这是一个中级水平的建模示例，我们假设你了解 Python 并熟悉 Gurobi Python API。此外，你还应该对构建数学优化模型有一定的了解。\n",
    "\n",
    "**下载代码库** <br />\n",
    "你可以通过点击[这里](https://github.com/Gurobi/modeling-examples/archive/master.zip)下载包含此示例和其他示例的代码库。\n",
    "\n",
    "---\n",
    "## 问题描述\n",
    "\n",
    "一个炼油厂购买两种原油(原油1和原油2)，并通过四个步骤(蒸馏、重整、裂化和混合)将其提炼成可销售的汽油和燃料。\n",
    "\n",
    "### 第一步：蒸馏\n",
    "\n",
    "蒸馏过程根据沸点将每种原油分离成六种馏分：轻石脑油、中石脑油、重石脑油、轻油、重油和残渣油。轻、中、重石脑油的辛烷值分别为90、80和70。\n",
    "\n",
    "一桶原油分离成以下馏分：\n",
    "\n",
    "| <i></i> | 轻石脑油 | 中石脑油 | 重石脑油 | 轻油 | 重油 | 残渣油 |\n",
    "| --- | --- | --- | --- | --- | --- | --- |\n",
    "| 原油1 | 0.1 | 0.2 | 0.2 | 0.12 | 0.2 | 0.13 |\n",
    "| 原油2 | 0.15 | 0.25 | 0.18 | 0.08 | 0.19 | 0.12 |\n",
    "\n",
    "蒸馏过程中有少量损耗(原油1为5%，原油2为3%)。\n",
    "\n",
    "### 第二步：重整\n",
    "\n",
    "蒸馏后，得到的石脑油可以混合成不同等级的汽油，或者通过重整过程处理。重整过程的产物是辛烷值为115的重整汽油。\n",
    "\n",
    "不同石脑油每桶的重整汽油产量如下：\n",
    "\n",
    "- 一桶轻石脑油可产出0.6桶重整汽油\n",
    "- 一桶中石脑油可产出0.52桶重整汽油\n",
    "- 一桶重石脑油可产出0.45桶重整汽油\n",
    "\n",
    "### 第三步：裂化\n",
    "\n",
    "轻油和重油可以混合成喷气燃料，或者通过催化裂化处理。催化裂化装置生产裂化油和裂化汽油。\n",
    "\n",
    "裂化汽油的辛烷值为105，产量如下：\n",
    "\n",
    "- 一桶轻油可产出0.68桶裂化油和0.28桶裂化汽油\n",
    "- 一桶重油可产出0.75桶裂化油和0.2桶裂化汽油\n",
    "\n",
    "裂化油用于混合燃料油和喷气燃料；裂化汽油用于混合汽油。残渣油可用于生产润滑油或混合成喷气燃料和燃料油：\n",
    "\n",
    "- 一桶残渣油可产出0.5桶润滑油\n",
    "\n",
    "### 第四步：混合\n",
    "\n",
    "#### 汽油\n",
    "\n",
    "通过混合石脑油、重整汽油和裂化汽油可以生产两种汽油 — 普通汽油和高级汽油。唯一的要求是普通汽油的辛烷值至少为84，高级汽油的辛烷值至少为94。假设辛烷值按体积线性混合。\n",
    "\n",
    "#### 喷气燃料\n",
    "\n",
    "喷气燃料的蒸气压不得超过1.0 kg/cm²。轻油、重油、裂化油和残渣油的蒸气压分别为1.0、0.6、1.5和0.05 kg/cm²。假设蒸气压按体积线性混合。\n",
    "\n",
    "#### 燃料油\n",
    "\n",
    "生产燃料油时，必须按10:4:3:1的比例混合轻油、裂化油、重油和残渣油。\n",
    "\n",
    "可用性和产能限制如下：\n",
    "\n",
    "- 原油1的日可用量为20,000桶\n",
    "- 原油2的日可用量为30,000桶\n",
    "- 每日最多可蒸馏45,000桶原油\n",
    "- 每日最多可重整10,000桶石脑油\n",
    "- 每日最多可裂化8,000桶油料\n",
    "- 每日润滑油产量必须在500到1,000桶之间\n",
    "- 高级汽油产量必须至少为普通汽油产量的40%\n",
    "\n",
    "每种最终产品的每桶利润贡献(单位：美分)如下：\n",
    "\n",
    "| <i></i> | 利润贡献 |\n",
    "| --- | --- |\n",
    "| 高级汽油 | 700 |\n",
    "| 普通汽油 | 600 |\n",
    "| 喷气燃料 | 400 |\n",
    "| 燃料油 | 350 |\n",
    "| 润滑油 | 150 |\n",
    "\n",
    "关键问题是：如何规划炼油厂的运营以最大化总利润？\n",
    "\n",
    "---\n",
    "## 模型公式\n",
    "\n",
    "### 集合和索引\n",
    "\n",
    "$i \\in \\text{Crudes}=\\{1,2\\}$: 原油集合\n",
    "\n",
    "### 参数\n",
    "\n",
    "$\\text{buy_limit}_i \\in \\mathbb{N}$: 原油 $i$ 的最大购买量(桶)\n",
    "\n",
    "$\\text{distill_cap} \\in \\mathbb{N}$: 最大蒸馏原油量(桶)\n",
    "\n",
    "$\\text{reform_cap} \\in \\mathbb{N}$: 最大重整石脑油量(桶)\n",
    "\n",
    "$\\text{crack_cap} \\in \\mathbb{N}$ 最大裂化油料量(桶)\n",
    "\n",
    "$\\text{LBO_min}, \\text{LBO_max} \\in \\mathbb{N}$ 润滑油生产的最小和最大量(桶)\n",
    "\n",
    "### 决策变量\n",
    "\n",
    "$\\text{CR}_i \\in [0,\\text{buy_limit}_i] \\subset \\mathbb{R}^+$: 购买的原油 $i$ 的数量(桶)\n",
    "\n",
    "$\\text{LN} \\in \\mathbb{R}^+$: 蒸馏的轻石脑油数量(桶)\n",
    "\n",
    "$\\text{MN} \\in \\mathbb{R}^+$: 蒸馏的中石脑油数量(桶)\n",
    "\n",
    "$\\text{HN} \\in \\mathbb{R}^+$: 蒸馏的重石脑油数量(桶)\n",
    "\n",
    "$\\text{LO} \\in \\mathbb{R}^+$: 蒸馏的轻油数量(桶)\n",
    "\n",
    "$\\text{HO} \\in \\mathbb{R}^+$: 蒸馏的重油数量(桶)\n",
    "\n",
    "$\\text{R} \\in \\mathbb{R}^+$: 蒸馏的残渣油数量(桶)\n",
    "\n",
    "$\\text{LNRG} \\in \\mathbb{R}^+$: 用于生产重整汽油的轻石脑油数量(桶)\n",
    "\n",
    "$\\text{MNRG} \\in \\mathbb{R}^+$: 用于生产重整汽油的中石脑油数量(桶)\n",
    "\n",
    "$\\text{HNRG} \\in \\mathbb{R}^+$: 用于生产重整汽油的重石脑油数量(桶)\n",
    "\n",
    "$\\text{RG} \\in \\mathbb{R}^+$: 生产的重整汽油数量(桶)\n",
    "\n",
    "$\\text{LOCGO} \\in \\mathbb{R}^+$: 用于生产裂化汽油和裂化油的轻油数量(桶)\n",
    "\n",
    "$\\text{HOCGO} \\in \\mathbb{R}^+$: 用于生产裂化汽油和裂化油的重油数量(桶)\n",
    "\n",
    "$\\text{CG} \\in \\mathbb{R}^+$: 生产的裂化汽油数量(桶)\n",
    "\n",
    "$\\text{CO} \\in \\mathbb{R}^+$: 生产的裂化油数量(桶)\n",
    "\n",
    "$\\text{LNPMF} \\in \\mathbb{R}^+$: 用于生产高级汽油的轻石脑油数量(桶)\n",
    "\n",
    "$\\text{LNRMF} \\in \\mathbb{R}^+$: 用于生产普通汽油的轻石脑油数量(桶)\n",
    "\n",
    "$\\text{MNPMF} \\in \\mathbb{R}^+$: 用于生产高级汽油的中石脑油数量(桶)\n",
    "\n",
    "$\\text{MNRMF} \\in \\mathbb{R}^+$: 用于生产普通汽油的中石脑油数量(桶)\n",
    "\n",
    "$\\text{HNPMF} \\in \\mathbb{R}^+$: 用于生产高级汽油的重石脑油数量(桶)\n",
    "\n",
    "$\\text{HNRMF} \\in \\mathbb{R}^+$: 用于生产普通汽油的重石脑油数量(桶)\n",
    "\n",
    "$\\text{RGPMF} \\in \\mathbb{R}^+$: 用于生产高级汽油的重整汽油数量(桶)\n",
    "\n",
    "$\\text{RGRMF} \\in \\mathbb{R}^+$: 用于生产普通汽油的重整汽油数量(桶)\n",
    "\n",
    "$\\text{CGPMF} \\in \\mathbb{R}^+$: 用于生产高级汽油的裂化汽油数量(桶)\n",
    "\n",
    "$\\text{CGRMF} \\in \\mathbb{R}^+$: 用于生产普通汽油的裂化汽油数量(桶)\n",
    "\n",
    "$\\text{LOJF} \\in \\mathbb{R}^+$: 用于生产喷气燃料的轻油数量(桶)\n",
    "\n",
    "$\\text{HOJF} \\in \\mathbb{R}^+$: 用于生产喷气燃料的重油数量(桶)\n",
    "\n",
    "$\\text{RJF} \\in \\mathbb{R}^+$: 用于生产喷气燃料的残渣油数量(桶)\n",
    "\n",
    "$\\text{COJF} \\in \\mathbb{R}^+$: 用于生产喷气燃料的裂化油数量(桶)\n",
    "\n",
    "$\\text{RLBO} \\in \\mathbb{R}^+$: 用于生产润滑油的残渣油数量(桶)\n",
    "\n",
    "$\\text{PMF} \\in \\mathbb{R}^+$: 生产的高级汽油数量(桶)\n",
    "\n",
    "$\\text{RMF} \\in \\mathbb{R}^+$: 生产的普通汽油数量(桶)\n",
    "\n",
    "$\\text{JF} \\in \\mathbb{R}^+$: 生产的喷气燃料数量(桶)\n",
    "\n",
    "$\\text{FO} \\in \\mathbb{R}^+$: 生产的燃料油数量(桶)\n",
    "\n",
    "$\\text{LBO} \\in [\\text{LBO_min}, \\text{LBO_max}] \\subset \\mathbb{R}^+$: 生产的润滑油数量(桶)\n",
    "\n",
    "### 目标函数\n",
    "\n",
    "- **利润:** 最大化总利润(单位：百美元)\n",
    "\n",
    "\\begin{equation}\n",
    "\\text{Max} \\quad Z = 7*\\text{PMF} + 6*\\text{RMF} + 4*\\text{JF} + 3.5*\\text{FO} + 1.5*\\text{LBO}\n",
    "\\tag{0}\n",
    "\\end{equation}\n",
    "\n",
    "### 约束条件\n",
    "\n",
    "- **蒸馏能力:** 蒸馏的原油数量不能超过产能\n",
    "\n",
    "\\begin{equation}\n",
    "\\sum_{i \\in \\text{Crudes}}{\\text{CR}_i} \\leq \\text{distill_cap}\n",
    "\\tag{1}\n",
    "\\end{equation}\n",
    "\n",
    "- **重整能力:** 重整的石脑油数量不能超过产能\n",
    "\n",
    "\\begin{equation}\n",
    "\\text{LNRG} + \\text{MNRG} + \\text{HNRG} \\leq \\text{reform_cap}\n",
    "\\tag{2}\n",
    "\\end{equation}\n",
    "\n",
    "- **裂化能力:** 裂化的油料数量不能超过产能\n",
    "\n",
    "\\begin{equation}\n",
    "\\text{LOCGO} + \\text{HOCGO} \\leq \\text{crack_cap}\n",
    "\\tag{3}\n",
    "\\end{equation}\n",
    "\n",
    "- **产量:** 生产的数量取决于使用的投入量及其相应的产量\n",
    "\n",
    "\\begin{equation}\n",
    "0.10*\\text{CR}_1 + 0.15*\\text{CR}_2 = \\text{LN}\n",
    "\\tag{4.1}\n",
    "\\end{equation}\n",
    "\n",
    "\\begin{equation}\n",
    "0.20*\\text{CR}_1 + 0.25*\\text{CR}_2 = \\text{MN}\n",
    "\\tag{4.2}\n",
    "\\end{equation}\n",
    "\n",
    "\\begin{equation}\n",
    "0.20*\\text{CR}_1 + 0.18*\\text{CR}_2 = \\text{HN}\n",
    "\\tag{4.3}\n",
    "\\end{equation}\n",
    "\n",
    "\\begin{equation}\n",
    "0.12*\\text{CR}_1 + 0.08*\\text{CR}_2 = \\text{LO}\n",
    "\\tag{4.4}\n",
    "\\end{equation}\n",
    "\n",
    "\\begin{equation}\n",
    "0.20*\\text{CR}_1 + 0.19*\\text{CR}_2 = \\text{HO}\n",
    "\\tag{4.5}\n",
    "\\end{equation}\n",
    "\n",
    "\\begin{equation}\n",
    "0.13*\\text{CR}_1 + 0.12*\\text{CR}_2 = \\text{R}\n",
    "\\tag{4.6}\n",
    "\\end{equation}\n",
    "\n",
    "\\begin{equation}\n",
    "0.60*\\text{LNRG} + 0.52*\\text{MNRG} + 0.45*\\text{HNRG} = \\text{RG}\n",
    "\\tag{4.7}\n",
    "\\end{equation}\n",
    "\n",
    "\\begin{equation}\n",
    "0.68*\\text{LOCGO} + 0.75*\\text{HOCGO} = \\text{CO}\n",
    "\\tag{4.8}\n",
    "\\end{equation}\n",
    "\n",
    "\\begin{equation}\n",
    "0.28*\\text{LOCGO} + 0.20*\\text{HOCGO} = \\text{CG}\n",
    "\\tag{4.9}\n",
    "\\end{equation}\n",
    "\n",
    "\\begin{equation}\n",
    "0.50*\\text{RLBO} = \\text{LBO}\n",
    "\\tag{4.10}\n",
    "\\end{equation}\n",
    "\n",
    "\\begin{equation}\n",
    "\\text{LNPMF} + \\text{MNPMF} + \\text{HNPMF} + \\text{RGPMF} + \\text{CGPMF} = \\text{PMF}\n",
    "\\tag{4.11}\n",
    "\\end{equation}\n",
    "\n",
    "\\begin{equation}\n",
    "\\text{LNRMF} + \\text{MNRMF} + \\text{HNRMF} + \\text{RGRMF} + \\text{CGRMF} = \\text{RMF}\n",
    "\\tag{4.12}\n",
    "\\end{equation}\n",
    "\n",
    "\\begin{equation}\n",
    "\\text{LOJF} + \\text{HOJF} + \\text{COJF} + \\text{RJF} = \\text{JF}\n",
    "\\tag{4.13}\n",
    "\\end{equation}\n",
    "\n",
    "- **质量守恒:** 使用的数量必须等于可用的数量\n",
    "\n",
    "\\begin{equation}\n",
    "\\text{LNRG} + \\text{LNPMF} + \\text{LNRMF} = \\text{LN}\n",
    "\\tag{5.1}\n",
    "\\end{equation}\n",
    "\n",
    "\\begin{equation}\n",
    "\\text{MNRG} + \\text{MNPMF} + \\text{MNRMF} = \\text{MN}\n",
    "\\tag{5.2}\n",
    "\\end{equation}\n",
    "\n",
    "\\begin{equation}\n",
    "\\text{HNRG} + \\text{HNPMF} + \\text{HNRMF} = \\text{HN}\n",
    "\\tag{5.3}\n",
    "\\end{equation}\n",
    "\n",
    "\\begin{equation}\n",
    "\\text{LOCGO} + \\text{LOJF} + 0.55*\\text{FO} = \\text{LO}\n",
    "\\tag{5.4}\n",
    "\\end{equation}\n",
    "\n",
    "\\begin{equation}\n",
    "\\text{HOCGO} + \\text{HOJF} + 0.17*\\text{FO} = \\text{HO}\n",
    "\\tag{5.5}\n",
    "\\end{equation}\n",
    "\n",
    "\\begin{equation}\n",
    "\\text{COJF} + 0.22*\\text{FO} = \\text{CO}\n",
    "\\tag{5.6}\n",
    "\\end{equation}\n",
    "\n",
    "\\begin{equation}\n",
    "\\text{RLBO} + \\text{RJF} + 0.0555*\\text{FO} = \\text{R}\n",
    "\\tag{5.7}\n",
    "\\end{equation}\n",
    "\n",
    "\\begin{equation}\n",
    "\\text{CGPMF} + \\text{CGRMF} = \\text{CG}\n",
    "\\tag{5.8}\n",
    "\\end{equation}\n",
    "\n",
    "\\begin{equation}\n",
    "\\text{RGPMF} + \\text{RGRMF} = \\text{RG}\n",
    "\\tag{5.9}\n",
    "\\end{equation}\n",
    "\n",
    "- **高级汽油与普通汽油的比例:** 高级汽油与普通汽油的生产比例必须满足最低要求\n",
    "\n",
    "\\begin{equation}\n",
    "\\text{PMF} \\geq 0.40*\\text{RMF}\n",
    "\\tag{6}\n",
    "\\end{equation}\n",
    "\n",
    "- **辛烷值容差:** 每种汽油的辛烷值不能低于下限\n",
    "\n",
    "\\begin{equation}\n",
    "90*\\text{LNPMF} + 80*\\text{MNPMF} + 70*\\text{HNPMF} + 115*\\text{RGPMF} + 105*\\text{CGPMF} \\geq 94*\\text{PMF}\n",
    "\\tag{7.1}\n",
    "\\end{equation}\n",
    "\n",
    "\\begin{equation}\n",
    "90*\\text{LNRMF} + 80*\\text{MNRMF} + 70*\\text{HNRMF} + 115*\\text{RGRMF} + 105*\\text{CGRMF} \\geq 84*\\text{PMF}\n",
    "\\tag{7.2}\n",
    "\\end{equation}\n",
    "\n",
    "- **蒸气压容差:** 喷气燃料的蒸气压不能低于下限\n",
    "\n",
    "\\begin{equation}\n",
    "1.0*\\text{LOJF} + 0.6*\\text{HOJF} + 1.5*\\text{COJF} + 0.05*\\text{RJF} \\leq 1.0*\\text{JF}\n",
    "\\tag{8}\n",
    "\\end{equation}\n",
    "\n",
    "---\n",
    "## Python 实现\n",
    "\n",
    "我们导入 Gurobi Python 模块和其他 Python 库。"
   ]
  },
  {
   "cell_type": "code",
   "execution_count": null,
   "metadata": {},
   "outputs": [],
   "source": [
    "%pip install gurobipy"
   ]
  },
  {
   "cell_type": "code",
   "execution_count": 1,
   "metadata": {},
   "outputs": [],
   "source": [
    "import numpy as np\n",
    "\n",
    "import gurobipy as gp\n",
    "from gurobipy import GRB\n",
    "\n",
    "# tested with Python 3.11 & Gurobi 11.0"
   ]
  },
  {
   "cell_type": "markdown",
   "metadata": {},
   "source": [
    "## 输入数据\n",
    "我们定义模型的所有输入数据。"
   ]
  },
  {
   "cell_type": "code",
   "execution_count": null,
   "metadata": {},
   "outputs": [],
   "source": [
    "# 参数\n",
    "\n",
    "crude_numbers = range(1,2+1)\n",
    "petrols = [\"Premium_fuel\", \"Regular_fuel\"]\n",
    "end_product_names = [\"Premium_fuel\", \"Regular_fuel\", \"Jet_fuel\", \"Fuel_oil\", \"Lube_oil\"]\n",
    "distillation_products_names = [\"Light_naphtha\", \"Medium_naphtha\", \"Heavy_naphtha\",\n",
    "                               \"Light_oil\", \"Heavy_oil\", \"Residuum\"]\n",
    "naphthas = [\"Light_naphtha\", \"Medium_naphtha\", \"Heavy_naphtha\"]\n",
    "intermediate_oils = [\"Light_oil\", \"Heavy_oil\"]\n",
    "cracking_products_names = [\"Cracked_gasoline\", \"Cracked_oil\"]\n",
    "used_for_motor_fuel_names = [\"Light_naphtha\", \"Medium_naphtha\", \"Heavy_naphtha\",\n",
    "                             \"Reformed_gasoline\", \"Cracked_gasoline\"]\n",
    "used_for_jet_fuel_names = [\"Light_oil\", \"Heavy_oil\", \"Residuum\", \"Cracked_oil\"]\n",
    "\n",
    "buy_limit = {1:20000, 2:30000}\n",
    "lbo_min = 500\n",
    "lbo_max = 1000\n",
    "\n",
    "distill_cap = 45000\n",
    "reform_cap = 10000\n",
    "crack_cap = 8000\n",
    "\n",
    "distillation_splitting_coefficients = {\"Light_naphtha\": (0.1, 0.15),\n",
    "                          \"Medium_naphtha\": (0.2, 0.25),\n",
    "                         \"Heavy_naphtha\": (0.2, 0.18),\n",
    "                         \"Light_oil\": (0.12, 0.08),\n",
    "                         \"Heavy_oil\": (0.2, 0.19),\n",
    "                         \"Residuum\": (0.13, 0.12)}\n",
    "\n",
    "cracking_splitting_coefficients = {(\"Light_oil\",\"Cracked_oil\"): 0.68,\n",
    "                                   (\"Heavy_oil\",\"Cracked_oil\"): 0.75,\n",
    "                                   (\"Light_oil\",\"Cracked_gasoline\"): 0.28,\n",
    "                                   (\"Heavy_oil\",\"Cracked_gasoline\"): 0.2}\n",
    "\n",
    "reforming_splitting_coefficients = {\"Light_naphtha\": 0.6, \"Medium_naphtha\":0.52, \"Heavy_naphtha\":0.45}\n",
    "end_product_profit = {\"Premium_fuel\":7, \"Regular_fuel\":6, \"Jet_fuel\":4, \"Fuel_oil\":3.5, \"Lube_oil\":1.5}\n",
    "blending_coefficients = {\"Light_oil\": 0.55, \"Heavy_oil\": 0.17, \"Cracked_oil\": 0.22, \"Residuum\": 0.055}\n",
    "\n",
    "lube_oil_factor = 0.5\n",
    "pmf_rmf_ratio = 0.4\n",
    "\n",
    "octance_number_coefficients = {\n",
    "    \"Light_naphtha\":90,\n",
    "    \"Medium_naphtha\":80,\n",
    "    \"Heavy_naphtha\":70,\n",
    "    \"Reformed_gasoline\":115,\n",
    "    \"Cracked_gasoline\":105,\n",
    "}\n",
    "octance_number_fuel = {\"Premium_fuel\": 94,\"Regular_fuel\": 84}\n",
    "\n",
    "vapor_pressure_constants = [0.6, 1.5, 0.05]"
   ]
  },
  {
   "cell_type": "markdown",
   "metadata": {},
   "source": [
    "## 模型部署\n",
    "我们创建一个模型和变量。"
   ]
  },
  {
   "cell_type": "code",
   "execution_count": 3,
   "metadata": {},
   "outputs": [
    {
     "name": "stdout",
     "output_type": "stream",
     "text": [
      "Using license file c:\\gurobi\\gurobi.lic\n"
     ]
    }
   ],
   "source": [
    "refinery = gp.Model('Refinery_Optimization')\n",
    "\n",
    "# Variables\n",
    "crudes = refinery.addVars(crude_numbers, ub=buy_limit, name=\"cr\")    \n",
    "end_products = refinery.addVars(end_product_names, name=\"end_prod\")\n",
    "end_products[\"Lube_oil\"].lb= lbo_min\n",
    "end_products[\"Lube_oil\"].ub= lbo_max\n",
    "distillation_products = refinery.addVars(distillation_products_names, name=\"dist_prod\")\n",
    "reform_usage = refinery.addVars(naphthas, name=\"napthas_to_reformed_gasoline\")\n",
    "reformed_gasoline = refinery.addVar(name=\"reformed_gasoline\")\n",
    "cracking_usage = refinery.addVars(intermediate_oils,name=\"intermediate_oils_to_cracked_gasoline\")\n",
    "cracking_products = refinery.addVars(cracking_products_names,  name=\"cracking_prods\")\n",
    "used_for_regular_motor_fuel = refinery.addVars(used_for_motor_fuel_names, name=\"motor_fuel_to_regular_motor_fuel\")\n",
    "used_for_premium_motor_fuel = refinery.addVars(used_for_motor_fuel_names, name=\"motot_fuel_to_premium_motor_fuel\")\n",
    "used_for_jet_fuel = refinery.addVars(used_for_jet_fuel_names, name=\"jet_fuel\")\n",
    "used_for_lube_oil = refinery.addVar(vtype=GRB.CONTINUOUS,name=\"residuum_used_for_lube_oil\")"
   ]
  },
  {
   "cell_type": "markdown",
   "metadata": {},
   "source": [
    "接下来，我们插入约束条件。\n",
    "\n",
    "蒸馏能力约束为："
   ]
  },
  {
   "cell_type": "code",
   "execution_count": null,
   "metadata": {},
   "outputs": [],
   "source": [
    "# 1. 蒸馏能力\n",
    "DistillationCap = refinery.addConstr(crudes.sum() <= distill_cap, \"Distill_cap\")"
   ]
  },
  {
   "cell_type": "markdown",
   "metadata": {},
   "source": [
    "重整能力约束为："
   ]
  },
  {
   "cell_type": "code",
   "execution_count": null,
   "metadata": {},
   "outputs": [],
   "source": [
    "# 2. 重整能力\n",
    "ReformingCap = refinery.addConstr(reform_usage.sum() <= reform_cap, \"Reform_cap\")"
   ]
  },
  {
   "cell_type": "markdown",
   "metadata": {},
   "source": [
    "裂化能力约束为："
   ]
  },
  {
   "cell_type": "code",
   "execution_count": null,
   "metadata": {},
   "outputs": [],
   "source": [
    "# 3. 裂化能力\n",
    "CrackingCap = refinery.addConstr(cracking_usage.sum() <= crack_cap, \"Crack_cap\")"
   ]
  },
  {
   "cell_type": "markdown",
   "metadata": {},
   "source": [
    "蒸馏产品的数量取决于使用的原油数量，并考虑到每种原油在蒸馏过程中的分离方式。这给出了："
   ]
  },
  {
   "cell_type": "code",
   "execution_count": null,
   "metadata": {},
   "outputs": [],
   "source": [
    "# 4.1-4.6 产量 (原油产品)\n",
    "YieldCrudeOil = refinery.addConstrs((gp.quicksum(distillation_splitting_coefficients[dpn][crude-1]*crudes[crude] for crude in crudes)\n",
    "                  == distillation_products[dpn] for dpn in distillation_products_names), \"Splitting_distillation\")"
   ]
  },
  {
   "cell_type": "markdown",
   "metadata": {},
   "source": [
    "重整汽油的数量取决于重整过程中使用的石脑油数量。这给出了约束条件："
   ]
  },
  {
   "cell_type": "code",
   "execution_count": null,
   "metadata": {},
   "outputs": [],
   "source": [
    "# 4.7 产量 (石脑油重整)\n",
    "YieldNaphthas = refinery.addConstr(reform_usage.prod(reforming_splitting_coefficients) == reformed_gasoline, \"Splitting_reforming\")"
   ]
  },
  {
   "cell_type": "markdown",
   "metadata": {},
   "source": [
    "裂化油和裂化汽油的数量取决于使用的轻油和重油数量。这给出了约束条件："
   ]
  },
  {
   "cell_type": "code",
   "execution_count": null,
   "metadata": {},
   "outputs": [],
   "source": [
    "# 4.8-4.9 产量 (油料裂化)\n",
    "YieldCrackingOil = refinery.addConstrs((gp.quicksum(cracking_splitting_coefficients[oil, crack_prod]*cracking_usage[oil]\n",
    "                           for oil in intermediate_oils) == cracking_products[crack_prod]\n",
    "                  for crack_prod in cracking_products_names),\n",
    "                 name=\"Splitting_cracking\")"
   ]
  },
  {
   "cell_type": "markdown",
   "metadata": {},
   "source": [
    "生产的润滑油数量是使用的残渣油数量的0.5倍。这给出了："
   ]
  },
  {
   "cell_type": "code",
   "execution_count": null,
   "metadata": {},
   "outputs": [],
   "source": [
    "# 4.10 产量 (润滑油)\n",
    "YieldLubeOil = refinery.addConstr(lube_oil_factor*used_for_lube_oil == end_products[\"Lube_oil\"],\n",
    "                \"Splitting_lube_oil\")"
   ]
  },
  {
   "cell_type": "markdown",
   "metadata": {},
   "source": [
    "生产的汽油和喷气燃料的数量等于其成分的总数量。这给出了约束条件："
   ]
  },
  {
   "cell_type": "code",
   "execution_count": null,
   "metadata": {},
   "outputs": [],
   "source": [
    "# 4.11 产量 (高级汽油)\n",
    "YieldPremium = refinery.addConstr(used_for_premium_motor_fuel.sum() == end_products[\"Premium_fuel\"], \"Blending_premium_fuel\")\n",
    "\n",
    "# 4.12 产量 (普通汽油)\n",
    "YieldRegular = refinery.addConstr(used_for_regular_motor_fuel.sum() == end_products[\"Regular_fuel\"], \"Blending_regular_fuel\")\n",
    "\n",
    "# 4.13 产量 (喷气燃料)\n",
    "YieldJetFuel = refinery.addConstr(used_for_jet_fuel.sum() == end_products[\"Jet_fuel\"], \"Continuity_jet_fuel\")"
   ]
  },
  {
   "cell_type": "markdown",
   "metadata": {},
   "source": [
    "用于重整和混合的石脑油数量等于可用的数量。这给出了："
   ]
  },
  {
   "cell_type": "code",
   "execution_count": null,
   "metadata": {},
   "outputs": [],
   "source": [
    "# 5.1-5.3 质量守恒 (石脑油)\n",
    "MassBalNaphthas = refinery.addConstrs((reform_usage[naphtha] +\n",
    "                    used_for_regular_motor_fuel[naphtha] +\n",
    "                    used_for_premium_motor_fuel[naphtha] ==\n",
    "                    distillation_products[naphtha] for naphtha in naphthas), \"Continuity_napththa\")"
   ]
  },
  {
   "cell_type": "markdown",
   "metadata": {},
   "source": [
    "对于燃料油的混合，轻油/重油/裂化油/残渣油的比例是固定的。因此，没有为这个比例引入单独的变量，因为它由变量决定。这给出了："
   ]
  },
  {
   "cell_type": "code",
   "execution_count": null,
   "metadata": {},
   "outputs": [],
   "source": [
    "# 5.4 质量守恒 (轻油)\n",
    "MassBalLightOil = refinery.addConstr(cracking_usage[\"Light_oil\"]+\n",
    "                used_for_jet_fuel[\"Light_oil\"]+\n",
    "                blending_coefficients[\"Light_oil\"]*end_products[\"Fuel_oil\"] ==\n",
    "                distillation_products[\"Light_oil\"], \"Fixed_proportion_light_oil_for_blending\")\n",
    "\n",
    "# 5.5 质量守恒 (重油)\n",
    "MassBalHeavyOil = refinery.addConstr(cracking_usage[\"Heavy_oil\"]+\n",
    "                used_for_jet_fuel[\"Heavy_oil\"]+\n",
    "                blending_coefficients[\"Heavy_oil\"]*end_products[\"Fuel_oil\"] ==\n",
    "                distillation_products[\"Heavy_oil\"], \"Fixed_proportion_heavy_oil_for_blending\")\n",
    "\n",
    "# 5.6 质量守恒 (裂化油)\n",
    "MassBalCrackedOil = refinery.addConstr(used_for_jet_fuel[\"Cracked_oil\"]+\n",
    "                blending_coefficients[\"Cracked_oil\"]*end_products[\"Fuel_oil\"] ==\n",
    "                cracking_products[\"Cracked_oil\"], \"Fixed_proportion_cracked_oil_for_blending\")\n",
    "\n",
    "# 5.7 质量守恒 (残渣油)\n",
    "MassBalResiduum = refinery.addConstr(used_for_lube_oil +\n",
    "                used_for_jet_fuel[\"Residuum\"]+\n",
    "                blending_coefficients[\"Residuum\"]*end_products[\"Fuel_oil\"] ==\n",
    "                distillation_products[\"Residuum\"], \"Fixed_proportion_residuum_for_blending\")\n",
    "\n",
    "# 5.8 质量守恒 (裂化汽油)\n",
    "MassBalCrackedGas = refinery.addConstr(used_for_regular_motor_fuel[\"Cracked_gasoline\"] +\n",
    "                used_for_premium_motor_fuel[\"Cracked_gasoline\"] ==\n",
    "                cracking_products[\"Cracked_gasoline\"], \"Continuity_cracked_gasoline\")\n",
    "\n",
    "# 5.9 质量守恒 (重整汽油)\n",
    "MassBalReformedGas = refinery.addConstr(used_for_regular_motor_fuel[\"Reformed_gasoline\"] +\n",
    "                used_for_premium_motor_fuel[\"Reformed_gasoline\"] ==\n",
    "                reformed_gasoline, \"Continuity_reformed_gasoline\")"
   ]
  },
  {
   "cell_type": "markdown",
   "metadata": {},
   "source": [
    "高级汽油的生产必须至少是普通汽油生产的40%，这给出了："
   ]
  },
  {
   "cell_type": "code",
   "execution_count": null,
   "metadata": {},
   "outputs": [],
   "source": [
    "# 7. 高级汽油与普通汽油的比例\n",
    "Premium2Regular = refinery.addConstr(end_products[\"Premium_fuel\"] >= pmf_rmf_ratio*end_products[\"Regular_fuel\"],\n",
    "                \"Prem2reg_prop\")"
   ]
  },
  {
   "cell_type": "markdown",
   "metadata": {},
   "source": [
    "有必要规定高级汽油(普通汽油)的辛烷值不低于94(84)。这由约束条件给出："
   ]
  },
  {
   "cell_type": "code",
   "execution_count": null,
   "metadata": {},
   "outputs": [],
   "source": [
    "# 8.1-8.2 辛烷值容差\n",
    "OctaneRegular = refinery.addConstr(used_for_regular_motor_fuel.prod(octance_number_coefficients) >=\n",
    "                octance_number_fuel[\"Regular_fuel\"] * end_products[\"Regular_fuel\"],\n",
    "                \"Octane_tol_regular_fuel\")\n",
    "\n",
    "OctanePremium = refinery.addConstr(used_for_premium_motor_fuel.prod(octance_number_coefficients) >=\n",
    "                octance_number_fuel[\"Premium_fuel\"] * end_products[\"Premium_fuel\"],\n",
    "                \"Octane_tol_premium_fuel\")"
   ]
  },
  {
   "cell_type": "markdown",
   "metadata": {},
   "source": [
    "对于喷气燃料，我们有蒸气压的约束条件："
   ]
  },
  {
   "cell_type": "code",
   "execution_count": null,
   "metadata": {},
   "outputs": [],
   "source": [
    "# 9. 蒸气压容差\n",
    "VaporPressure = refinery.addConstr(used_for_jet_fuel[\"Light_oil\"] +\n",
    "                vapor_pressure_constants[0]*used_for_jet_fuel[\"Heavy_oil\"] +\n",
    "                vapor_pressure_constants[1]*used_for_jet_fuel[\"Cracked_oil\"] +\n",
    "                vapor_pressure_constants[2]*used_for_jet_fuel[\"Residuum\"] <= end_products[\"Jet_fuel\"],\n",
    "                \"Vapor_pressure_tol\")"
   ]
  },
  {
   "cell_type": "markdown",
   "metadata": {},
   "source": [
    "该模型有29个约束条件以及三个变量的简单界限。\n",
    "\n",
    "关于燃料油的混合应注意一点，其中的成分(轻油、重油、裂化油和残渣油)按固定比例使用。可能更适合将燃料油的生产视为一种活动。在石油工业中，通常以活动的形式思考，而不是数量。在 H.P. Williams 的书的第3.4节中，讨论了将活动表示为过程的极端操作模式的模型公式。在这个示例中，我们有一个特殊的过程，只有一种操作模式。这个活动的水平自动确定了成分的比例。\n",
    "\n",
    "唯一涉及利润(或成本)的变量是最终产品。这给出了一个要最大化的目标(单位：美元)："
   ]
  },
  {
   "cell_type": "code",
   "execution_count": null,
   "metadata": {},
   "outputs": [],
   "source": [
    "# 0. 利润\n",
    "refinery.setObjective(end_products.prod(end_product_profit), GRB.MAXIMIZE)"
   ]
  },
  {
   "cell_type": "markdown",
   "metadata": {},
   "source": [
    "接下来，优化过程开始，Gurobi 找到最优解。"
   ]
  },
  {
   "cell_type": "code",
   "execution_count": 18,
   "metadata": {},
   "outputs": [
    {
     "name": "stdout",
     "output_type": "stream",
     "text": [
      "Gurobi Optimizer version 9.1.0 build v9.1.0rc0 (win64)\n",
      "Thread count: 4 physical cores, 8 logical processors, using up to 8 threads\n",
      "Optimize a model with 29 rows, 36 columns and 106 nonzeros\n",
      "Model fingerprint: 0xe30699e6\n",
      "Coefficient statistics:\n",
      "  Matrix range     [5e-02, 1e+02]\n",
      "  Objective range  [2e+00, 7e+00]\n",
      "  Bounds range     [5e+02, 3e+04]\n",
      "  RHS range        [8e+03, 5e+04]\n",
      "Presolve removed 13 rows and 14 columns\n",
      "Presolve time: 0.01s\n",
      "Presolved: 16 rows, 22 columns, 72 nonzeros\n",
      "\n",
      "Iteration    Objective       Primal Inf.    Dual Inf.      Time\n",
      "       0    1.1887574e+06   6.045565e+04   0.000000e+00      0s\n",
      "      14    2.1136513e+05   0.000000e+00   0.000000e+00      0s\n",
      "\n",
      "Solved in 14 iterations and 0.01 seconds\n",
      "Optimal objective  2.113651348e+05\n"
     ]
    }
   ],
   "source": [
    "refinery.optimize()"
   ]
  },
  {
   "cell_type": "markdown",
   "metadata": {},
   "source": [
    "---\n",
    "## 分析\n",
    "\n",
    "最优解的利润为 $\\$211,365.13$。变量的最优值如下："
   ]
  },
  {
   "cell_type": "code",
   "execution_count": 19,
   "metadata": {},
   "outputs": [
    {
     "name": "stdout",
     "output_type": "stream",
     "text": [
      "cr[1] = 15000.0\n",
      "cr[2] = 30000.0\n",
      "end_prod[Premium_fuel] = 6817.78\n",
      "end_prod[Regular_fuel] = 17044.45\n",
      "end_prod[Jet_fuel] = 15156.0\n",
      "end_prod[Lube_oil] = 500.0\n",
      "dist_prod[Light_naphtha] = 6000.0\n",
      "dist_prod[Medium_naphtha] = 10500.0\n",
      "dist_prod[Heavy_naphtha] = 8400.0\n",
      "dist_prod[Light_oil] = 4200.0\n",
      "dist_prod[Heavy_oil] = 8700.0\n",
      "dist_prod[Residuum] = 5550.0\n",
      "napthas_to_reformed_gasoline[Heavy_naphtha] = 5406.86\n",
      "reformed_gasoline = 2433.09\n",
      "intermediate_oils_to_cracked_gasoline[Light_oil] = 4200.0\n",
      "intermediate_oils_to_cracked_gasoline[Heavy_oil] = 3800.0\n",
      "cracking_prods[Cracked_gasoline] = 1936.0\n",
      "cracking_prods[Cracked_oil] = 5706.0\n",
      "motor_fuel_to_regular_motor_fuel[Light_naphtha] = 273.07\n",
      "motor_fuel_to_regular_motor_fuel[Medium_naphtha] = 10500.0\n",
      "motor_fuel_to_regular_motor_fuel[Heavy_naphtha] = 2993.14\n",
      "motor_fuel_to_regular_motor_fuel[Reformed_gasoline] = 1342.24\n",
      "motor_fuel_to_regular_motor_fuel[Cracked_gasoline] = 1936.0\n",
      "motot_fuel_to_premium_motor_fuel[Light_naphtha] = 5726.93\n",
      "motot_fuel_to_premium_motor_fuel[Reformed_gasoline] = 1090.84\n",
      "jet_fuel[Heavy_oil] = 4900.0\n",
      "jet_fuel[Residuum] = 4550.0\n",
      "jet_fuel[Cracked_oil] = 5706.0\n",
      "residuum_used_for_lube_oil = 1000.0\n"
     ]
    }
   ],
   "source": [
    "for var in refinery.getVars():\n",
    "    if abs(var.x) > 1e-6:\n",
    "        print(\"{0} = {1}\".format(var.varName, np.round(var.x, 2)))"
   ]
  },
  {
   "cell_type": "markdown",
   "metadata": {},
   "source": [
    "---\n",
    "## 参考文献\n",
    "\n",
    "H. Paul Williams, Model Building in Mathematical Programming, fifth edition.\n",
    "\n",
    "Copyright © 2020 Gurobi Optimization, LLC"
   ]
  },
  {
   "cell_type": "code",
   "execution_count": null,
   "metadata": {},
   "outputs": [],
   "source": []
  }
 ],
 "metadata": {
  "kernelspec": {
   "display_name": "Python 3",
   "language": "python",
   "name": "python3"
  },
  "language_info": {
   "codemirror_mode": {
    "name": "ipython",
    "version": 3
   },
   "file_extension": ".py",
   "mimetype": "text/x-python",
   "name": "python",
   "nbconvert_exporter": "python",
   "pygments_lexer": "ipython3",
   "version": "3.7.1"
  }
 },
 "nbformat": 4,
 "nbformat_minor": 2
}
