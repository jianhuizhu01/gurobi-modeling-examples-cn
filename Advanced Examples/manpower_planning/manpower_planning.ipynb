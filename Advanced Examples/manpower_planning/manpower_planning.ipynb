{
 "cells": [
  {
   "cell_type": "markdown",
   "metadata": {},
   "source": [
    "# 人力资源规划\n",
    "\n",
    "## 目标和前提条件\n",
    "\n",
    "人员配置问题 — 需要对员工的招聘、培训、裁员和排班等做出艰难决策 — 在制造业和服务业中普遍存在。在这个例子中,你将学习如何通过创建一个优化的多期运营计划来建模和求解复杂的人员配置问题,该计划最小化裁员总数和成本。\n",
    "\n",
    "有关这种类型模型的更多信息,可以在H. Paul Williams的《Model Building in Mathematical Programming》第五版第256-257页和303-304页的例5中找到。\n",
    "\n",
    "这个建模示例属于高级水平,我们假设你熟悉Python和Gurobi Python API,并且对构建数学优化模型有高级知识。通常,这些示例的目标函数和/或约束条件较为复杂,或需要使用Gurobi Python API的高级功能。\n",
    "\n",
    "**下载代码库** <br />\n",
    "你可以通过点击[这里](https://github.com/Gurobi/modeling-examples/archive/master.zip)下载包含此示例和其他示例的代码库。 \n",
    "\n",
    "---\n",
    "## 问题描述\n",
    "\n",
    "一家公司正在改变其业务运营方式,因此其人员配置需求预计会发生变化。\n",
    "\n",
    "由于购买了新设备,预计将减少对非技术工人的需求,增加对技术工人和半技术工人的需求。此外,由于预计明年将出现经济放缓导致的销售预测下降,预计将进一步减少所有类别的劳动力需求。\n",
    "\n",
    "未来三年的劳动力需求预测如下:\n",
    "\n",
    "| <i></i> | 非技术工人 | 半技术工人 | 技术工人 |\n",
    "| --- | --- | --- | --- |\n",
    "| 当前人数 | 2000 | 1500 | 1000 |\n",
    "| 第1年 | 1000 | 1400 | 1000 |\n",
    "| 第2年 | 500 | 2000 | 1500 |\n",
    "| 第3年 | 0 | 2500 | 2000 |\n",
    "\n",
    "公司需要确定未来三年每年的:\n",
    "\n",
    "- 招聘\n",
    "- 再培训\n",
    "- 裁员(裁减)\n",
    "- 兼职vs全职员工\n",
    "\n",
    "需要注意的是,劳动力每年都会出现一定程度的自然流失。新员工入职第一年的流失率相对较高,而后续年份的流失率相对较低。预期流失率如下:\n",
    "\n",
    "| <i></i> | 非技术工人(%) | 半技术工人(%) | 技术工人(%) |\n",
    "| --- | --- | --- | --- |\n",
    "| 工作年限< 1年 | 25 | 20 | 10 |\n",
    "| 工作年限≥ 1年 | 10 | 5 | 5 |\n",
    "\n",
    "所有现有员工的工作年限都在1年以上。\n",
    "\n",
    "### 招聘\n",
    "\n",
    "每年可以从公司外部招聘一定数量的各类员工,具体如下:\n",
    "\n",
    "| 非技术工人 | 半技术工人 | 技术工人 |\n",
    "| --- | --- | --- |\n",
    "| 500 | 800 | 500 |\n",
    "\n",
    "### 再培训\n",
    "\n",
    "每年最多可以培训200名非技术工人使其成为半技术工人。每名工人的培训成本为400美元。\n",
    "\n",
    "此外,也可以培训半技术工人使其成为技术工人。但是,培训人数不能超过当前技术工人队伍的25%,每名工人的培训成本为500美元。\n",
    "\n",
    "最后,可以将工人降级到较低技能等级。但是,50%的降级工人会离开公司,增加上述的自然流失率。\n",
    "\n",
    "### 裁员 \n",
    "\n",
    "每名被裁员工有权获得遣散费,非技术工人200美元,半技术工人或技术工人500美元。\n",
    "\n",
    "### 超编人员\n",
    "\n",
    "每年可以有超出实际需求的员工,总数不超过150人,但会产生以下每人每年的额外成本。\n",
    "\n",
    "| 非技术工人 | 半技术工人 | 技术工人 |\n",
    "| --- | --- | --- |\n",
    "| 1500美元 | 2000美元 | 3000美元 |\n",
    "\n",
    "### 兼职工人\n",
    "\n",
    "每个技能等级最多可以安排50名员工从事兼职工作。这样做的成本(每名员工,每年)如下:\n",
    "\n",
    "| 非技术工人 | 半技术工人 | 技术工人 |\n",
    "| --- | --- | --- |\n",
    "| 500美元 | 400美元 | 400美元 |\n",
    "\n",
    "**注意:** 兼职员工的生产力是全职员工的一半。\n",
    "\n",
    "如果公司的目标是最小化裁员,他们应该采取什么计划?\n",
    "\n",
    "如果他们的目标是最小化成本,他们可以进一步减少多少成本?\n",
    "\n",
    "他们如何确定每个工作岗位每年可能的节省额?\n",
    "\n",
    "---\n",
    "## 模型公式\n",
    "\n",
    "### 集合和索引\n",
    "\n",
    "$t \\in \\text{Years}=\\{1,2,3\\}$: 年份集合。\n",
    "\n",
    "$s \\in \\text{Skills}=\\{s_1: \\text{非技术工人},s_2: \\text{半技术工人},s_3: \\text{技术工人}\\}$: 技能等级集合。\n",
    "\n",
    "### 参数\n",
    "\n",
    "$\\text{rookie_attrition} \\in [0,1] \\subset \\mathbb{R}^+$: 工作年限不满一年的员工离职率。\n",
    "\n",
    "$\\text{veteran_attrition} \\in [0,1] \\subset \\mathbb{R}^+$: 工作年限超过一年的员工离职率。\n",
    "\n",
    "$\\text{demoted_attrition} \\in [0,1] \\subset \\mathbb{R}^+$: 被降级后离开公司的员工比例。\n",
    "\n",
    "$\\text{parttime_cap} \\in [0,1] \\subset \\mathbb{R}^+$: 兼职工人相对于全职工人的生产力。\n",
    "\n",
    "$\\text{max_train_unskilled} \\in \\mathbb{N}$: 任一年可培训的非技术工人最大数量。\n",
    "\n",
    "$\\text{max_train_semiskilled} \\in [0,1] \\subset \\mathbb{R}^+$: 任一年可培训的半技术工人(相对于技术工人)的最大比例。\n",
    "\n",
    "$\\text{max_parttime} \\in \\mathbb{N}$: 任一年每个技能等级的兼职工人最大数量。\n",
    "\n",
    "$\\text{max_overmanning} \\in \\mathbb{N}$: 任一年超编工人的最大数量。\n",
    "\n",
    "$\\text{max_hiring}_s \\in \\mathbb{N}$: 任一年可招聘的技能等级s的工人最大数量。\n",
    "\n",
    "$\\text{training_cost}_s \\in \\mathbb{R}^+$: 培训一名技能等级s的工人至下一等级的成本。\n",
    "\n",
    "$\\text{layoff_cost}_s \\in \\mathbb{R}^+$: 裁退一名技能等级s的工人的成本。\n",
    "\n",
    "$\\text{parttime_cost}_s \\in \\mathbb{R}^+$: 将一名技能等级s的工人安排为兼职的成本。\n",
    "\n",
    "$\\text{overmanning_cost}_s \\in \\mathbb{R}^+$: 技能等级s超编人员的年度成本。\n",
    "\n",
    "$\\text{curr_workforce}_s \\in \\mathbb{N}$: 规划期开始时技能等级s的现有人力。\n",
    "\n",
    "$\\text{demand}_{t,s} \\in \\mathbb{N}$: t年技能等级s所需的人力。\n",
    "\n",
    "\n",
    "### 决策变量\n",
    "\n",
    "$\\text{hire}_{t,s} \\in [0,\\text{max_hiring}_s] \\subset \\mathbb{R}^+$: t年招聘的技能等级s的工人数量。\n",
    "\n",
    "$\\text{part_time}_{t,s} \\in [0,\\text{max_parttime}] \\subset \\mathbb{R}^+$: t年工作的技能等级s的兼职工人数量。\n",
    "\n",
    "$\\text{workforce}_{t,s} \\in \\mathbb{R}^+$: t年可用的技能等级s的工人数量。\n",
    "\n",
    "$\\text{layoff}_{t,s} \\in \\mathbb{R}^+$: t年裁退的技能等级s的工人数量。\n",
    "\n",
    "$\\text{excess}_{t,s} \\in \\mathbb{R}^+$: t年技能等级s的超编工人数量。\n",
    "\n",
    "$\\text{train}_{t,s,s'} \\in \\mathbb{R}^+$: t年从技能等级s培训到技能等级s'的工人数量。\n",
    "\n",
    "### 目标函数\n",
    "\n",
    "- **裁员:** 最小化规划期内的总裁员人数。\n",
    "\n",
    "\\begin{equation}\n",
    "\\text{Minimize} \\quad Z = \\sum_{t \\in \\text{Years}}\\sum_{s \\in \\text{Skills}}{\\text{layoff}_{t,s}}\n",
    "\\end{equation}\n",
    "\n",
    "- **成本:** 最小化规划期内培训、超编、兼职工人和裁员产生的总成本(美元)。\n",
    "\n",
    "\\begin{equation}\n",
    "\\text{Minimize} \\quad W = \\sum_{t \\in \\text{Years}}{\\{\\text{training_cost}_{s_1}*\\text{train}_{t,s1,s2} + \\text{training_cost}_{s_2}*\\text{train}_{t,s2,s3}\\}}\n",
    "\\end{equation}\n",
    "\n",
    "\\begin{equation}\n",
    "+ \\sum_{t \\in \\text{Years}}\\sum_{s \\in \\text{Skills}}{\\{\\text{parttime_cost}*\\text{part_time}_{t,s} + \\text{layoff_cost}_s*\\text{layoff}_{t,s} + \\text{overmanning_cost}_s*\\text{excess}_{t,s}\\}}\n",
    "\\end{equation}\n",
    "\n",
    "### 约束条件\n",
    "\n",
    "- **初始平衡:** t=1年可用的技能等级s的劳动力等于上一年的劳动力、新招聘人员、晋升和降级的工人(考虑流失率)、减去裁员和调动的工人。\n",
    "\n",
    "\\begin{equation}\n",
    "\\text{workforce}_{1,s} = (1-\\text{veteran_attrition}_s)*\\text{curr_workforce} + (1-\\text{rookie_attrition}_s)*\\text{hire}_{1,s} \n",
    "\\end{equation}\n",
    "\n",
    "\\begin{equation}\n",
    "+ \\sum_{s' \\in \\text{Skills} | s' < s}{\\{(1-\\text{veteran_attrition})*\\text{train}_{1,s',s} - \\text{train}_{1,s,s'}\\}} \n",
    "\\end{equation}\n",
    "\n",
    "\\begin{equation}\n",
    "+ \\sum_{s' \\in \\text{Skills} | s' > s}{\\{(1-\\text{demoted_attrition})*\\text{train}_{1,s',s} - \\text{train}_{1,s,s'}\\}} - \\text{layoff}_{1,s} \\qquad \\forall s \\in \\text{Skills}\n",
    "\\end{equation}\n",
    "\n",
    "\n",
    "- **平衡:** t>1年可用的技能等级s的劳动力等于上一年的劳动力、新招聘人员、晋升和降级的工人(考虑流失率)、减去裁员和调动的工人。\n",
    "\n",
    "\\begin{equation}\n",
    "\\text{workforce}_{t,s} = (1-\\text{veteran_attrition}_s)*\\text{workforce}_{t-1,s} + (1-\\text{rookie_attrition}_s)*\\text{hire}_{t,s} \n",
    "\\end{equation}\n",
    "\n",
    "\\begin{equation}\n",
    "+ \\sum_{s' \\in \\text{Skills} | s' < s}{\\{(1-\\text{veteran_attrition})*\\text{train}_{t,s',s} - \\text{train}_{t,s,s'}\\}}\n",
    "\\end{equation}\n",
    "\n",
    "\\begin{equation}\n",
    "+ \\sum_{s' \\in \\text{Skills} | s' > s}{\\{(1-\\text{demotion_attrition})*\\text{train}_{t,s',s} - \\text{train}_{t,s,s'}\\}} - \\text{layoff}_{t,s} \\quad \\forall (t > 1,s) \\in \\text{Years} \\times \\text{Skills}\n",
    "\\end{equation}\n",
    "\n",
    "- **非技术工人培训:** t年培训的非技术工人不能超过最大限额。非技术工人不能直接培训成技术工人。\n",
    "\n",
    "\\begin{equation}\n",
    "\\text{train}_{t,s_1,s_2} \\leq 200 \\quad \\forall t \\in \\text{Years}\n",
    "\\end{equation}\n",
    "\n",
    "\\begin{equation}\n",
    "\\text{train}_{t,s_1,s_3} = 0 \\quad \\forall t \\in \\text{Years}\n",
    "\\end{equation}\n",
    "\n",
    "- **半技术工人培训:** t年培训的半技术工人不能超过最大限额。\n",
    "\n",
    "\\begin{equation}\n",
    "\\text{train}_{t,s_2,s_3} \\leq 0.25*\\text{available}_{t,s_3} \\quad \\forall t \\in \\text{Years}\n",
    "\\end{equation}\n",
    "\n",
    "- **超编:** t年的超编工人不能超过最大限额。\n",
    "\n",
    "\\begin{equation}\n",
    "\\sum_{s \\in \\text{Skills}}{\\text{excess}_{t,s}} \\leq \\text{max_overmanning} \\quad \\forall t \\in \\text{Years}\n",
    "\\end{equation}\n",
    "\n",
    "- **需求:** t年技能等级s可用的劳动力等于所需工人数加上超编工人和兼职工人。\n",
    "\n",
    "\\begin{equation}\n",
    "\\text{available}_{t,s} = \\text{demand}_{t,s} + \\text{excess}_{t,s} + \\text{parttime_cap}*\\text{part_time}_{t,s} \\quad \\forall (t,s) \\in \\text{Years} \\times \\text{Skills}\n",
    "\\end{equation}\n",
    "\n",
    "---\n",
    "## Python实现\n",
    "\n",
    "导入Gurobi Python模块和其他Python库。"
   ]
  },
  {
   "cell_type": "code",
   "execution_count": null,
   "metadata": {},
   "outputs": [],
   "source": [
    "%pip install gurobipy"
   ]
  },
  {
   "cell_type": "code",
   "execution_count": 1,
   "metadata": {},
   "outputs": [],
   "source": [
    "import numpy as np\n",
    "import pandas as pd\n",
    "\n",
    "import gurobipy as gp\n",
    "from gurobipy import GRB\n",
    "\n",
    "# tested with Python 3.11 & Gurobi 11.0"
   ]
  },
  {
   "cell_type": "markdown",
   "metadata": {},
   "source": [
    "## 输入数据\n",
    "我们定义模型的所有输入数据。"
   ]
  },
  {
   "cell_type": "code",
   "execution_count": null,
   "metadata": {},
   "outputs": [],
   "source": [
    "# 参数\n",
    "\n",
    "years = [1, 2, 3]\n",
    "skills = ['s1', 's2', 's3']\n",
    "\n",
    "curr_workforce = {'s1': 2000, 's2': 1500, 's3': 1000}\n",
    "demand = {\n",
    "    (1, 's1'): 1000,\n",
    "    (1, 's2'): 1400,\n",
    "    (1, 's3'): 1000,\n",
    "    (2, 's1'): 500,\n",
    "    (2, 's2'): 2000,\n",
    "    (2, 's3'): 1500,\n",
    "    (3, 's1'): 0,\n",
    "    (3, 's2'): 2500,\n",
    "    (3, 's3'): 2000\n",
    "}\n",
    "rookie_attrition = {'s1': 0.25, 's2': 0.20, 's3': 0.10}\n",
    "veteran_attrition = {'s1': 0.10, 's2': 0.05, 's3': 0.05}\n",
    "demoted_attrition = 0.50\n",
    "max_hiring = {\n",
    "    (1, 's1'): 500,\n",
    "    (1, 's2'): 800,\n",
    "    (1, 's3'): 500,\n",
    "    (2, 's1'): 500,\n",
    "    (2, 's2'): 800,\n",
    "    (2, 's3'): 500,\n",
    "    (3, 's1'): 500,\n",
    "    (3, 's2'): 800,\n",
    "    (3, 's3'): 500\n",
    "}\n",
    "max_overmanning = 150\n",
    "max_parttime = 50\n",
    "parttime_cap = 0.50\n",
    "max_train_unskilled = 200\n",
    "max_train_semiskilled = 0.25\n",
    "\n",
    "training_cost = {'s1': 400, 's2': 500}\n",
    "layoff_cost = {'s1': 200, 's2': 500, 's3': 500}\n",
    "parttime_cost = {'s1': 500, 's2': 400, 's3': 400}\n",
    "overmanning_cost = {'s1': 1500, 's2': 2000, 's3': 3000}"
   ]
  },
  {
   "cell_type": "markdown",
   "metadata": {},
   "source": [
    "## 模型部署\n",
    "我们创建一个模型和变量。对于三个技能等级中的每一个以及每一年,我们将创建变量来表示被招聘、转为兼职工作、可用作工人、被裁员或超编的工人数量。对于每对技能等级和每年,我们有一个变量表示被培训到更高/更低技能等级的工人数量。兼职和可招聘的人数是有限的。"
   ]
  },
  {
   "cell_type": "code",
   "execution_count": 3,
   "metadata": {},
   "outputs": [
    {
     "name": "stdout",
     "output_type": "stream",
     "text": [
      "Using license file c:\\gurobi\\gurobi.lic\n"
     ]
    }
   ],
   "source": [
    "manpower = gp.Model('Manpower planning')\n",
    "\n",
    "hire = manpower.addVars(years, skills, ub=max_hiring, name=\"Hire\")\n",
    "part_time = manpower.addVars(years, skills, ub=max_parttime,\n",
    "                          name=\"Part_time\")\n",
    "workforce = manpower.addVars(years, skills, name=\"Available\")\n",
    "layoff = manpower.addVars(years, skills, name=\"Layoff\")\n",
    "excess = manpower.addVars(years, skills, name=\"Overmanned\")\n",
    "train = manpower.addVars(years, skills, skills, name=\"Train\")"
   ]
  },
  {
   "cell_type": "markdown",
   "metadata": {},
   "source": [
    "接下来,我们插入约束条件。平衡约束确保每个技能等级和每年当前所需的工人(劳动力)以及被裁员的人员,和被培训到当前等级的人员,减去从当前等级培训到不同技能等级的人员,等于上一年的劳动力(或第一年的当前人数)加上招聘的人员。每年都有一定数量的人离开公司,所以这也被视为一个因素。这个约束描述了雇佣员工总数的变化。"
   ]
  },
  {
   "cell_type": "code",
   "execution_count": null,
   "metadata": {},
   "outputs": [],
   "source": [
    "#1.1 & 1.2 平衡\n",
    "\n",
    "Balance = manpower.addConstrs(\n",
    "    (workforce[year, level] == (1-veteran_attrition[level])*(curr_workforce[level] if year == 1 else workforce[year-1, level])\n",
    "    + (1-rookie_attrition[level])*hire[year, level] + gp.quicksum((1- veteran_attrition[level])* train[year, level2, level]\n",
    "                                                        -train[year, level, level2] for level2 in skills if level2 < level)\n",
    "    + gp.quicksum((1- demoted_attrition)* train[year, level2, level] -train[year, level, level2] for level2 in skills if level2 > level)\n",
    "    - layoff[year, level] for year in years for level in skills), \"Balance\")"
   ]
  },
  {
   "cell_type": "markdown",
   "metadata": {},
   "source": [
    "非技术工人培训约束强制每年只能有200名工人从非技术工人培训成半技术工人,这是由于能力限制。此外,一年内没有人可以从非技术工人直接培训成技术工人。"
   ]
  },
  {
   "cell_type": "code",
   "execution_count": null,
   "metadata": {},
   "outputs": [],
   "source": [
    "#2.1 & 2.2  非技术培训\n",
    "\n",
    "UnskilledTrain1 = manpower.addConstrs((train[year, 's1', 's2'] <= max_train_unskilled for year in years), \"Unskilled_training1\")\n",
    "UnskilledTrain2 = manpower.addConstrs((train[year, 's1', 's3'] == 0 for year in years), \"Unskilled_training2\")"
   ]
  },
  {
   "cell_type": "markdown",
   "metadata": {},
   "source": [
    "半技术工人培训约束规定,半技术工人培训成技术工人的人数不能超过当时技术工人队伍的四分之一。这是由于能力限制。"
   ]
  },
  {
   "cell_type": "code",
   "execution_count": null,
   "metadata": {},
   "outputs": [],
   "source": [
    "#3. 半=技术的培训\n",
    "\n",
    "SemiskilledTrain = manpower.addConstrs((train[year,'s2', 's3'] <= max_train_semiskilled * workforce[year,'s3'] for year in years), \"Semiskilled_training\")"
   ]
  },
  {
   "cell_type": "markdown",
   "metadata": {},
   "source": [
    "超编约束确保一年内所有技能等级的总超编人数不超过150人。"
   ]
  },
  {
   "cell_type": "code",
   "execution_count": null,
   "metadata": {},
   "outputs": [],
   "source": [
    "#4. 超编约束\n",
    "Overmanning = manpower.addConstrs((excess.sum(year, '*') <= max_overmanning for year in years), \"Overmanning\")"
   ]
  },
  {
   "cell_type": "markdown",
   "metadata": {},
   "source": [
    "需求约束确保每个等级和每年的工人数量等于所需工人数量加上超编工人和兼职工作的工人数量。"
   ]
  },
  {
   "cell_type": "code",
   "execution_count": null,
   "metadata": {},
   "outputs": [],
   "source": [
    "#5. 需求\n",
    "Demand = manpower.addConstrs((workforce[year, level] ==\n",
    "     demand[year,level] + excess[year, level] + parttime_cap * part_time[year, level]\n",
    "                     for year in years for level in skills), \"Requirements\")"
   ]
  },
  {
   "cell_type": "markdown",
   "metadata": {},
   "source": [
    "第一个目标是最小化被裁员工人的总数。这可以表述为:"
   ]
  },
  {
   "cell_type": "code",
   "execution_count": null,
   "metadata": {},
   "outputs": [],
   "source": [
    "#0.1 目标函数：减少裁员\n",
    "obj1 = layoff.sum()\n",
    "manpower.setObjective(obj1, GRB.MINIMIZE)"
   ]
  },
  {
   "cell_type": "markdown",
   "metadata": {},
   "source": [
    "第二个替代目标是最小化所有雇佣工人和再培训的总成本:\n",
    "\n",
    "```\n",
    "obj2 = quicksum((training_cost[level]*train[year, level, skills[skills.index(level)+1]] if level < 's3' else 0)\n",
    "                + layoff_cost[level]*layoff[year, level]\n",
    "                + parttime_cost[level]*part_time[year, level]\n",
    "                + overmanning_cost[level] * excess[year, level] for year in years for level in skills)\n",
    "```\n",
    "\n",
    "接下来,我们以最小化裁员的目标函数开始优化,Gurobi找到最优解。"
   ]
  },
  {
   "cell_type": "code",
   "execution_count": 10,
   "metadata": {},
   "outputs": [
    {
     "name": "stdout",
     "output_type": "stream",
     "text": [
      "Gurobi Optimizer version 9.1.0 build v9.1.0rc0 (win64)\n",
      "Thread count: 4 physical cores, 8 logical processors, using up to 8 threads\n",
      "Optimize a model with 30 rows, 72 columns and 117 nonzeros\n",
      "Model fingerprint: 0x03e41c91\n",
      "Coefficient statistics:\n",
      "  Matrix range     [3e-01, 1e+00]\n",
      "  Objective range  [1e+00, 1e+00]\n",
      "  Bounds range     [5e+01, 8e+02]\n",
      "  RHS range        [2e+02, 3e+03]\n",
      "Presolve removed 18 rows and 44 columns\n",
      "Presolve time: 0.01s\n",
      "Presolved: 12 rows, 28 columns, 56 nonzeros\n",
      "\n",
      "Iteration    Objective       Primal Inf.    Dual Inf.      Time\n",
      "       0    8.4000000e+02   6.484375e+01   0.000000e+00      0s\n",
      "       8    8.4179688e+02   0.000000e+00   0.000000e+00      0s\n",
      "\n",
      "Solved in 8 iterations and 0.01 seconds\n",
      "Optimal objective  8.417968750e+02\n"
     ]
    }
   ],
   "source": [
    "manpower.optimize()"
   ]
  },
  {
   "cell_type": "markdown",
   "metadata": {},
   "source": [
    "## 分析\n",
    "\n",
    "最小裁员人数为841.80。为达到最小裁员人数而采取的最优政策如下。\n",
    "\n",
    "### 招聘计划\n",
    "该计划确定在规划期的每一年(行)和每个技能等级(列)要招聘的新工人数量。例如,在第2年,我们将招聘649.3名半技术工人。"
   ]
  },
  {
   "cell_type": "code",
   "execution_count": 11,
   "metadata": {},
   "outputs": [
    {
     "data": {
      "text/html": [
       "<div>\n",
       "<style scoped>\n",
       "    .dataframe tbody tr th:only-of-type {\n",
       "        vertical-align: middle;\n",
       "    }\n",
       "\n",
       "    .dataframe tbody tr th {\n",
       "        vertical-align: top;\n",
       "    }\n",
       "\n",
       "    .dataframe thead th {\n",
       "        text-align: right;\n",
       "    }\n",
       "</style>\n",
       "<table border=\"1\" class=\"dataframe\">\n",
       "  <thead>\n",
       "    <tr style=\"text-align: right;\">\n",
       "      <th></th>\n",
       "      <th>s1</th>\n",
       "      <th>s2</th>\n",
       "      <th>s3</th>\n",
       "    </tr>\n",
       "  </thead>\n",
       "  <tbody>\n",
       "    <tr>\n",
       "      <th>1</th>\n",
       "      <td>0.0</td>\n",
       "      <td>0.0</td>\n",
       "      <td>0.0</td>\n",
       "    </tr>\n",
       "    <tr>\n",
       "      <th>2</th>\n",
       "      <td>0.0</td>\n",
       "      <td>649.3</td>\n",
       "      <td>500.0</td>\n",
       "    </tr>\n",
       "    <tr>\n",
       "      <th>3</th>\n",
       "      <td>0.0</td>\n",
       "      <td>677.0</td>\n",
       "      <td>500.0</td>\n",
       "    </tr>\n",
       "  </tbody>\n",
       "</table>\n",
       "</div>"
      ],
      "text/plain": [
       "    s1     s2     s3\n",
       "1  0.0    0.0    0.0\n",
       "2  0.0  649.3  500.0\n",
       "3  0.0  677.0  500.0"
      ]
     },
     "execution_count": 11,
     "metadata": {},
     "output_type": "execute_result"
    }
   ],
   "source": [
    "rows = years.copy()\n",
    "columns = skills.copy()\n",
    "hire_plan = pd.DataFrame(columns=columns, index=rows, data=0.0)\n",
    "\n",
    "for year, level in hire.keys():\n",
    "    if (abs(hire[year, level].x) > 1e-6):\n",
    "        hire_plan.loc[year, level] = np.round(hire[year, level].x, 1)\n",
    "hire_plan"
   ]
  },
  {
   "cell_type": "markdown",
   "metadata": {},
   "source": [
    "### 培训和降级计划\n",
    "该计划定义了在规划期的每一年要通过培训晋升(或降级)的工人数量。例如,在第1年,我们将把168.4名技术工人(s3)降级为半技术工人(s2)。"
   ]
  },
  {
   "cell_type": "code",
   "execution_count": 12,
   "metadata": {},
   "outputs": [
    {
     "data": {
      "text/html": [
       "<div>\n",
       "<style scoped>\n",
       "    .dataframe tbody tr th:only-of-type {\n",
       "        vertical-align: middle;\n",
       "    }\n",
       "\n",
       "    .dataframe tbody tr th {\n",
       "        vertical-align: top;\n",
       "    }\n",
       "\n",
       "    .dataframe thead th {\n",
       "        text-align: right;\n",
       "    }\n",
       "</style>\n",
       "<table border=\"1\" class=\"dataframe\">\n",
       "  <thead>\n",
       "    <tr style=\"text-align: right;\">\n",
       "      <th></th>\n",
       "      <th>s1 to s2</th>\n",
       "      <th>s1 to s3</th>\n",
       "      <th>s2 to s1</th>\n",
       "      <th>s2 to s3</th>\n",
       "      <th>s3 to s1</th>\n",
       "      <th>s3 to s2</th>\n",
       "    </tr>\n",
       "  </thead>\n",
       "  <tbody>\n",
       "    <tr>\n",
       "      <th>1</th>\n",
       "      <td>200.0</td>\n",
       "      <td>0.0</td>\n",
       "      <td>0.0</td>\n",
       "      <td>256.2</td>\n",
       "      <td>0.0</td>\n",
       "      <td>168.4</td>\n",
       "    </tr>\n",
       "    <tr>\n",
       "      <th>2</th>\n",
       "      <td>200.0</td>\n",
       "      <td>0.0</td>\n",
       "      <td>0.0</td>\n",
       "      <td>80.3</td>\n",
       "      <td>0.0</td>\n",
       "      <td>0.0</td>\n",
       "    </tr>\n",
       "    <tr>\n",
       "      <th>3</th>\n",
       "      <td>200.0</td>\n",
       "      <td>0.0</td>\n",
       "      <td>0.0</td>\n",
       "      <td>131.6</td>\n",
       "      <td>0.0</td>\n",
       "      <td>0.0</td>\n",
       "    </tr>\n",
       "  </tbody>\n",
       "</table>\n",
       "</div>"
      ],
      "text/plain": [
       "   s1 to s2  s1 to s3  s2 to s1  s2 to s3  s3 to s1  s3 to s2\n",
       "1     200.0       0.0       0.0     256.2       0.0     168.4\n",
       "2     200.0       0.0       0.0      80.3       0.0       0.0\n",
       "3     200.0       0.0       0.0     131.6       0.0       0.0"
      ]
     },
     "execution_count": 12,
     "metadata": {},
     "output_type": "execute_result"
    }
   ],
   "source": [
    "rows = years.copy()\n",
    "columns = ['{0} to {1}'.format(level1, level2) for level1 in skills for level2 in skills if level1 != level2]\n",
    "train_plan = pd.DataFrame(columns=columns, index=rows, data=0.0)\n",
    "\n",
    "for year, level1, level2 in train.keys():\n",
    "    col = '{0} to {1}'.format(level1, level2)\n",
    "    if (abs(train[year, level1, level2].x) > 1e-6):\n",
    "        train_plan.loc[year, col] = np.round(train[year, level1, level2].x, 1)\n",
    "train_plan"
   ]
  },
  {
   "cell_type": "markdown",
   "metadata": {},
   "source": [
    "### 裁员计划\n",
    "\n",
    "该计划确定在规划期的每一年要裁退的每个技能等级的工人数量。例如,我们将在第3年裁退232.5名非技术工人。"
   ]
  },
  {
   "cell_type": "code",
   "execution_count": 13,
   "metadata": {},
   "outputs": [
    {
     "data": {
      "text/html": [
       "<div>\n",
       "<style scoped>\n",
       "    .dataframe tbody tr th:only-of-type {\n",
       "        vertical-align: middle;\n",
       "    }\n",
       "\n",
       "    .dataframe tbody tr th {\n",
       "        vertical-align: top;\n",
       "    }\n",
       "\n",
       "    .dataframe thead th {\n",
       "        text-align: right;\n",
       "    }\n",
       "</style>\n",
       "<table border=\"1\" class=\"dataframe\">\n",
       "  <thead>\n",
       "    <tr style=\"text-align: right;\">\n",
       "      <th></th>\n",
       "      <th>s1</th>\n",
       "      <th>s2</th>\n",
       "      <th>s3</th>\n",
       "    </tr>\n",
       "  </thead>\n",
       "  <tbody>\n",
       "    <tr>\n",
       "      <th>1</th>\n",
       "      <td>443.0</td>\n",
       "      <td>0.0</td>\n",
       "      <td>0.0</td>\n",
       "    </tr>\n",
       "    <tr>\n",
       "      <th>2</th>\n",
       "      <td>166.3</td>\n",
       "      <td>0.0</td>\n",
       "      <td>0.0</td>\n",
       "    </tr>\n",
       "    <tr>\n",
       "      <th>3</th>\n",
       "      <td>232.5</td>\n",
       "      <td>0.0</td>\n",
       "      <td>0.0</td>\n",
       "    </tr>\n",
       "  </tbody>\n",
       "</table>\n",
       "</div>"
      ],
      "text/plain": [
       "      s1   s2   s3\n",
       "1  443.0  0.0  0.0\n",
       "2  166.3  0.0  0.0\n",
       "3  232.5  0.0  0.0"
      ]
     },
     "execution_count": 13,
     "metadata": {},
     "output_type": "execute_result"
    }
   ],
   "source": [
    "rows = years.copy()\n",
    "columns = skills.copy()\n",
    "layoff_plan = pd.DataFrame(columns=columns, index=rows, data=0.0)\n",
    "\n",
    "for year, level in layoff.keys():\n",
    "    if (abs(layoff[year, level].x) > 1e-6):\n",
    "        layoff_plan.loc[year, level] = np.round(layoff[year, level].x, 1)\n",
    "layoff_plan"
   ]
  },
  {
   "cell_type": "markdown",
   "metadata": {},
   "source": [
    "### 兼职计划\n",
    "\n",
    "该计划定义了在规划期的每一年工作的每个技能等级的兼职工人数量。例如,在第1年,我们有50名兼职技术工人。"
   ]
  },
  {
   "cell_type": "code",
   "execution_count": 14,
   "metadata": {},
   "outputs": [
    {
     "data": {
      "text/html": [
       "<div>\n",
       "<style scoped>\n",
       "    .dataframe tbody tr th:only-of-type {\n",
       "        vertical-align: middle;\n",
       "    }\n",
       "\n",
       "    .dataframe tbody tr th {\n",
       "        vertical-align: top;\n",
       "    }\n",
       "\n",
       "    .dataframe thead th {\n",
       "        text-align: right;\n",
       "    }\n",
       "</style>\n",
       "<table border=\"1\" class=\"dataframe\">\n",
       "  <thead>\n",
       "    <tr style=\"text-align: right;\">\n",
       "      <th></th>\n",
       "      <th>s1</th>\n",
       "      <th>s2</th>\n",
       "      <th>s3</th>\n",
       "    </tr>\n",
       "  </thead>\n",
       "  <tbody>\n",
       "    <tr>\n",
       "      <th>1</th>\n",
       "      <td>50.0</td>\n",
       "      <td>50.0</td>\n",
       "      <td>50.0</td>\n",
       "    </tr>\n",
       "    <tr>\n",
       "      <th>2</th>\n",
       "      <td>50.0</td>\n",
       "      <td>0.0</td>\n",
       "      <td>0.0</td>\n",
       "    </tr>\n",
       "    <tr>\n",
       "      <th>3</th>\n",
       "      <td>50.0</td>\n",
       "      <td>0.0</td>\n",
       "      <td>0.0</td>\n",
       "    </tr>\n",
       "  </tbody>\n",
       "</table>\n",
       "</div>"
      ],
      "text/plain": [
       "     s1    s2    s3\n",
       "1  50.0  50.0  50.0\n",
       "2  50.0   0.0   0.0\n",
       "3  50.0   0.0   0.0"
      ]
     },
     "execution_count": 14,
     "metadata": {},
     "output_type": "execute_result"
    }
   ],
   "source": [
    "rows = years.copy()\n",
    "columns = skills.copy()\n",
    "parttime_plan = pd.DataFrame(columns=columns, index=rows, data=0.0)\n",
    "\n",
    "for year, level in part_time.keys():\n",
    "    if (abs(part_time[year, level].x) > 1e-6):\n",
    "        parttime_plan.loc[year, level] = np.round(part_time[year, level].x, 1)\n",
    "parttime_plan"
   ]
  },
  {
   "cell_type": "markdown",
   "metadata": {},
   "source": [
    "### 超编计划\n",
    "\n",
    "该计划确定了在规划期的每一年每个技能等级的超编工人数量。例如,我们在第3年有150名非技术超编工人。"
   ]
  },
  {
   "cell_type": "code",
   "execution_count": 15,
   "metadata": {},
   "outputs": [
    {
     "data": {
      "text/html": [
       "<div>\n",
       "<style scoped>\n",
       "    .dataframe tbody tr th:only-of-type {\n",
       "        vertical-align: middle;\n",
       "    }\n",
       "\n",
       "    .dataframe tbody tr th {\n",
       "        vertical-align: top;\n",
       "    }\n",
       "\n",
       "    .dataframe thead th {\n",
       "        text-align: right;\n",
       "    }\n",
       "</style>\n",
       "<table border=\"1\" class=\"dataframe\">\n",
       "  <thead>\n",
       "    <tr style=\"text-align: right;\">\n",
       "      <th></th>\n",
       "      <th>s1</th>\n",
       "      <th>s2</th>\n",
       "      <th>s3</th>\n",
       "    </tr>\n",
       "  </thead>\n",
       "  <tbody>\n",
       "    <tr>\n",
       "      <th>1</th>\n",
       "      <td>132.0</td>\n",
       "      <td>18.0</td>\n",
       "      <td>0.0</td>\n",
       "    </tr>\n",
       "    <tr>\n",
       "      <th>2</th>\n",
       "      <td>150.0</td>\n",
       "      <td>0.0</td>\n",
       "      <td>0.0</td>\n",
       "    </tr>\n",
       "    <tr>\n",
       "      <th>3</th>\n",
       "      <td>150.0</td>\n",
       "      <td>0.0</td>\n",
       "      <td>0.0</td>\n",
       "    </tr>\n",
       "  </tbody>\n",
       "</table>\n",
       "</div>"
      ],
      "text/plain": [
       "      s1    s2   s3\n",
       "1  132.0  18.0  0.0\n",
       "2  150.0   0.0  0.0\n",
       "3  150.0   0.0  0.0"
      ]
     },
     "execution_count": 15,
     "metadata": {},
     "output_type": "execute_result"
    }
   ],
   "source": [
    "rows = years.copy()\n",
    "columns = skills.copy()\n",
    "excess_plan = pd.DataFrame(columns=columns, index=rows, data=0.0)\n",
    "\n",
    "for year, level in excess.keys():\n",
    "    if (abs(excess[year, level].x) > 1e-6):\n",
    "        excess_plan.loc[year, level] = np.round(excess[year, level].x, 1)\n",
    "excess_plan"
   ]
  },
  {
   "cell_type": "markdown",
   "metadata": {},
   "source": [
    "通过最小化成本,我们可以实施在三年期间总成本为498,677.29美元并导致1,423.7人裁员的政策。可以考虑替代的最优解决方案,以在不增加成本的情况下减少裁员。如果我们最小化成本而不是裁员,我们可以节省942,712.51美元,但代价是增加581.9人的裁员。因此,在最小化裁员时,每保住一个工作岗位的成本可以视为1,620.06美元。\n",
    "\n",
    "**注意:** 如果你想将解决方案写入文件而不是打印到终端,可以使用model.write()命令。示例实现为:\n",
    "\n",
    "`manpower.write(\"manpower-planning-output.sol\")`\n",
    "\n",
    "---\n",
    "## 参考文献\n",
    "\n",
    "H. Paul Williams,《Model Building in Mathematical Programming》第五版。\n",
    "\n",
    "版权所有 &copy; 2020 Gurobi Optimization, LLC"
   ]
  },
  {
   "cell_type": "code",
   "execution_count": null,
   "metadata": {},
   "outputs": [],
   "source": []
  }
 ],
 "metadata": {
  "kernelspec": {
   "display_name": "Python 3",
   "language": "python",
   "name": "python3"
  },
  "language_info": {
   "codemirror_mode": {
    "name": "ipython",
    "version": 3
   },
   "file_extension": ".py",
   "mimetype": "text/x-python",
   "name": "python",
   "nbconvert_exporter": "python",
   "pygments_lexer": "ipython3",
   "version": "3.7.1"
  }
 },
 "nbformat": 4,
 "nbformat_minor": 2
}
