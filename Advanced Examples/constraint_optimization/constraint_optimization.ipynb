{
 "cells": [
  {
   "cell_type": "markdown",
   "metadata": {},
   "source": [
    "# 约束优化\n",
    "\n",
    "## 目标和预备知识\n",
    "\n",
    "如果您想提高建模技能，不妨尝试这个棘手的约束优化问题。我们将向您展示如何使用Gurobi Python API将此问题建模为线性规划问题，并使用Gurobi优化器求解。\n",
    "\n",
    "这个模型是H. Paul Williams所著《Model Building in Mathematical Programming》第五版第273页和328-330页中的示例18。\n",
    "\n",
    "这是一个高级建模示例，我们假设您了解Python和Gurobi Python API，并且具有构建数学优化模型的高级知识。通常，这些示例的目标函数和/或约束条件比较复杂，或需要使用Gurobi Python API的高级功能。\n",
    "\n",
    "**下载代码库** <br />\n",
    "您可以通过点击[这里](https://github.com/Gurobi/modeling-examples/archive/master.zip)下载包含此示例和其他示例的代码库。\n"
   ]
  },
  {
   "cell_type": "markdown",
   "metadata": {},
   "source": [
    "---\n",
    "## 问题描述\n",
    "\n",
    "在一个整数规划模型中，出现了以下约束：\n",
    "\n",
    "$$\n",
    "9x_{1} + 13x_{2} -14x_{3} + 17x_{4} + 13x_{5} - 19x_{6} + 23x_{7} + 21x_{8} \\leq 37\n",
    "$$\n",
    "\n",
    "约束中的所有决策变量都是二进制变量，目标是找到另一个包含相同二进制变量的约束，该约束在逻辑上等价于原始约束，但具有最小可能的右侧值(RHS)的绝对值。\n",
    "\n",
    "在整数规划理论中，求解整数规划问题的效率取决于线性规划松弛与整数解的凸包之间的\"接近\"程度。当这个表述\"接近\"整数解的凸包时，线性规划松弛是\"紧的\"。我们说，相对于原始约束的等价约束是\"更紧的\"，当等价约束具有与原始约束相同的整数解，但移除了原始约束的一些分数可行解。下图说明了这些概念。\n",
    "\n",
    "![OptimizedConstraint](OptimizedConstraint.PNG)\n",
    "\n",
    "图中的原始约束由线AB确定，而\"更紧的\"等价约束由线CD定义。注意，等价约束具有相同的整数解集，并且移除了原始约束的分数可行解。\n"
   ]
  },
  {
   "cell_type": "markdown",
   "metadata": {},
   "source": [
    "---\n",
    "## 模型构建\n",
    "\n",
    "Bradley等人(1974)描述了一个简化单个0-1约束的程序。我们采用他们使用线性规划模型的程序。考虑以降序排列的正系数的标准形式约束是很方便的。这可以通过以下变换实现：\n",
    "\n",
    "$$\n",
    "y_{1} = x_{7}, y_{2} = x_{8}, y_{3} = 1 - x_{6}, y_{4} = x_{4},\n",
    "$$\n",
    "\n",
    "$$\n",
    "y_{5} = 1 - x_{3}, y_{6} = x_{5}, y_{7} = x_{2}, y_{8} = x_{1}.\n",
    "$$\n",
    "\n",
    "得到的等价约束是：\n",
    "\n",
    "$$\n",
    "23y_{1} + 21y_{2} + 19y_{3} + 17y_{4} + 14y_{5} + 13y_{6} + 13y_{7} + 9y_{8} \\leq 70.\n",
    "$$\n",
    "\n",
    "形如$\\sum_{i=1}^{8} b_{i}*y_{i} \\leq b_{0}$的所有等价于待优化约束的不等式都可以用一组以决策变量$b_{i}$表示的线性规划模型的不等式来表征。注意，变量$b_{i}$是变换后约束的系数。\n",
    "\n",
    "为了捕捉原始约束的完整逻辑含义，我们搜索称为*roofs*和*ceilings*的索引子集。Ceilings是变量索引的\"最大\"子集，其对应系数之和不超过右侧系数。这样的子集是最大的，因为没有包含它的子集，或者在隐含的字典序中位于左侧的子集，也可以是ceiling。例如，子集{1, 2, 4, 8}是一个ceiling，$23 +21 + 17 + 9 \\leq 70$，但任何包含它的子集(例如{1, 2, 4, 7, 8})或其\"左侧\"的子集(例如{1, 2, 4, 7})都不是ceiling。Roofs是\"最小\"的索引子集，其对应系数之和超过右侧系数。这种子集以相同的意义是\"最小的\"。例如{2, 3, 4, 5}是一个roof，\n",
    "$21 +19+ 17 + 14 > 70$，\n",
    "但任何包含在它内部的子集(例如{3, 4, 5})或其\"右侧\"的子集(例如\n",
    "{2, 3, 4, 6})都不是roof。有关这些约束如何推导的详细信息，请参见Bradley等人(1974)。\n",
    "\n",
    "因此，形如$\\sum_{i=1}^{8} b_{i}*y_{i} \\leq b_{0}$的所有等价于待优化约束的不等式都可以用以下约束来表征。\n",
    "\n",
    "**Ceiling约束**: <br />\n",
    "\n",
    "$$\n",
    "\\{1,2,3 \\}: b_{1} + b_{2} + b_{3} \\leq b_{0}\n",
    "$$\n",
    "\n",
    "$$\n",
    "\\{1,2,4,8 \\}: b_{1} + b_{2} + b_{4} + b_{8}  \\leq b_{0}\n",
    "$$\n",
    "\n",
    "$$\n",
    "\\{1,2,6,7 \\}: b_{1} + b_{2} + b_{6} + b_{7}  \\leq b_{0}\n",
    "$$\n",
    "\n",
    "$$\n",
    "\\{1,3,5,6 \\}: b_{1} + b[3] + b[5] + b[6]  \\leq b_{0}\n",
    "$$\n",
    "\n",
    "$$\n",
    "\\{2,3,4,6 \\}: b_{2} + b_{3} + b_{4} + b_{6}  \\leq b_{0}\n",
    "$$\n",
    "\n",
    "$$\n",
    "\\{2,5,6,7,8 \\}: b_{2} + b_{5} + b_{6} + b_{7} + b_{8} \\leq b_{0}\n",
    "$$\n",
    "\n",
    "**Roof约束**: <br />\n",
    "\n",
    "$$\n",
    "\\{1,2,3,8 \\}: b_{1} + b_{2} + b_{3} + b_{8} \\geq b_{0} + 1\n",
    "$$\n",
    "\n",
    "$$\n",
    "\\{1,2,5,7 \\}: b_{1} + b_{2} + b_{5} + b_{7}  \\geq b_{0} + 1\n",
    "$$\n",
    "\n",
    "$$\n",
    "\\{1,3,4,7 \\}: b_{1} + b_{3} + b_{4} + b_{7} \\geq b_{0} + 1\n",
    "$$\n",
    "\n",
    "$$\n",
    "\\{1,5,6,7,8 \\}: b_{1} + b_{5} + b_{6} + b_{7} + b_{8} \\geq b_{0} + 1\n",
    "$$\n",
    "\n",
    "$$\n",
    "\\{2,3,4,5 \\}: b_{2} + b_{3} + b_{4} + b_{5} \\geq b_{0} + 1\n",
    "$$\n",
    "\n",
    "$$\n",
    "\\{3,4,6,7,8 \\}: b_{3} + b_{4} + b_{6} + b_{7} + b_{8} \\geq b_{0} + 1\n",
    "$$\n",
    "\n",
    "\n",
    "$$\n",
    "\\text{Decreasing value:} \\quad b_{i} \\geq b_{i+1} \\quad \\forall i=1..7\n",
    "$$\n",
    "\n",
    "$$\n",
    "\\text{Non-negativity:} \\quad b_{i} \\geq 0 \\quad \\forall i=0,1..7\n",
    "$$\n",
    "\n",
    "目标是最小化原始约束右侧的值。\n",
    "$$\n",
    "\\text{Objective function:} \\quad \\text{Min} \\;\\; (b_{0} - b_{3} - b_{5} )\n",
    "$$"
   ]
  },
  {
   "cell_type": "markdown",
   "metadata": {},
   "source": [
    "---\n",
    "## Python实现\n",
    "\n",
    "我们导入Gurobi Python模块。"
   ]
  },
  {
   "cell_type": "code",
   "execution_count": null,
   "metadata": {},
   "outputs": [],
   "source": [
    "%pip install gurobipy"
   ]
  },
  {
   "cell_type": "code",
   "execution_count": null,
   "metadata": {},
   "outputs": [],
   "source": [
    "import gurobipy as gp\n",
    "from gurobipy import GRB\n",
    "\n",
    "# 测试环境：Python 3.11 & Gurobi 11.0"
   ]
  },
  {
   "cell_type": "code",
   "execution_count": null,
   "metadata": {},
   "outputs": [],
   "source": [
    "# 变量b[i]的索引列表\n",
    "\n",
    "indices = [*range(9)]"
   ]
  },
  {
   "cell_type": "markdown",
   "metadata": {},
   "source": [
    "## 模型部署\n",
    "我们创建一个模型和决策变量。这些变量确定了转换后的等价约束的系数，它将最小化RHS的值。"
   ]
  },
  {
   "cell_type": "code",
   "execution_count": null,
   "metadata": {},
   "outputs": [
    {
     "name": "stdout",
     "output_type": "stream",
     "text": [
      "Using license file c:\\gurobi\\gurobi.lic\n"
     ]
    }
   ],
   "source": [
    "model = gp.Model('ConstraintOptimization')\n",
    "\n",
    "# 变量b[i]\n",
    "b = model.addVars(indices, name=\"b\")"
   ]
  },
  {
   "cell_type": "markdown",
   "metadata": {},
   "source": [
    "### Ceiling约束"
   ]
  },
  {
   "cell_type": "code",
   "execution_count": null,
   "metadata": {},
   "outputs": [],
   "source": [
    "# 约束 {1, 2, 3}:\n",
    "\n",
    "C123 = model.addConstr( b[1] + b[2] + b[3] <= b[0] , name='C123')\n",
    "\n",
    "# 约束 {1, 2, 4, 8}}:\n",
    "\n",
    "C1248 = model.addConstr( b[1] + b[2] + b[4] + b[8] <= b[0] , name='C1248')\n",
    "\n",
    "# 约束 {1, 2, 6, 7}:\n",
    "\n",
    "C1267 = model.addConstr( b[1] + b[2] + b[6] + b[7] <= b[0] , name='C1267')\n",
    "\n",
    "# 约束 {1, 3, 5, 6}:\n",
    "\n",
    "C1356 = model.addConstr( b[1] + b[3] + b[5] + b[6] <= b[0] , name='C1356')\n",
    "\n",
    "# 约束 {2, 3, 4, 6}:\n",
    "\n",
    "C2346 = model.addConstr( b[2] + b[3] + b[4] + b[6] <= b[0] , name='C2346')\n",
    "\n",
    "# 约束 {2, 5, 6, 7, 8}:\n",
    "\n",
    "C25678 = model.addConstr( b[2] + b[5] + b[6] + b[7] + b[8] <= b[0] , name='C25678')"
   ]
  },
  {
   "cell_type": "markdown",
   "metadata": {},
   "source": [
    "### Roof约束"
   ]
  },
  {
   "cell_type": "code",
   "execution_count": null,
   "metadata": {},
   "outputs": [],
   "source": [
    "# 约束 {1, 2, 3, 8}:\n",
    "\n",
    "R1238 = model.addConstr( b[1] + b[2] + b[3] + b[8] >= b[0] + 1 , name='R1238')\n",
    "\n",
    "# 约束 {1, 2, 5, 7}:\n",
    "\n",
    "R1257 = model.addConstr( b[1] + b[2] + b[5] + b[7] >= b[0] + 1 , name='R1257')\n",
    "\n",
    "# 约束 {1, 3, 4, 7}:\n",
    "\n",
    "R1347 = model.addConstr( b[1] + b[3] + b[4] + b[7] >= b[0] + 1 , name='R1347')\n",
    "\n",
    "# 约束 {1, 5, 6, 7, 8}:\n",
    "\n",
    "R15678 = model.addConstr( b[1] + b[5] + b[6] + b[7] + b[8] >= b[0] + 1 , name='R15678')\n",
    "\n",
    "# 约束 {2, 3, 4, 5}:\n",
    "\n",
    "R2345 = model.addConstr( b[2] + b[3] + b[4] + b[5] >= b[0] + 1 , name='R2345')\n",
    "\n",
    "# 约束 {3, 4, 6, 7, 8}:\n",
    "\n",
    "R34678 = model.addConstr( b[3] + b[4] + b[6] + b[7] + b[8] >= b[0] + 1 , name='R34678')"
   ]
  },
  {
   "cell_type": "markdown",
   "metadata": {},
   "source": [
    "### 递减值系数\n",
    "这些约束保证了系数的顺序。"
   ]
  },
  {
   "cell_type": "code",
   "execution_count": null,
   "metadata": {},
   "outputs": [],
   "source": [
    "# 系数递减值约束\n",
    "\n",
    "DV1_2 = model.addConstr( b[1] >= b[2] , name='DV1_2')\n",
    "DV2_3 = model.addConstr( b[2] >= b[3] , name='DV2_3')\n",
    "DV3_4 = model.addConstr( b[3] >= b[4] , name='DV3_4')\n",
    "DV4_5 = model.addConstr( b[4] >= b[5] , name='DV4_5')\n",
    "DV5_6 = model.addConstr( b[5] >= b[6] , name='DV5_6')\n",
    "DV6_7 = model.addConstr( b[6] >= b[7] , name='DV6_7')\n",
    "DV7_8 = model.addConstr( b[7] >= b[8] , name='DV7_8')"
   ]
  },
  {
   "cell_type": "markdown",
   "metadata": {},
   "source": [
    "目标是最小化原始约束右侧的值。"
   ]
  },
  {
   "cell_type": "code",
   "execution_count": null,
   "metadata": {},
   "outputs": [],
   "source": [
    "# 目标函数\n",
    "\n",
    "model.setObjective(b[0] -b[3] -b[5] )"
   ]
  },
  {
   "cell_type": "code",
   "execution_count": null,
   "metadata": {},
   "outputs": [
    {
     "name": "stdout",
     "output_type": "stream",
     "text": [
      "Gurobi Optimizer version 9.1.0 build v9.1.0rc0 (win64)\n",
      "Thread count: 4 physical cores, 8 logical processors, using up to 8 threads\n",
      "Optimize a model with 19 rows, 9 columns and 76 nonzeros\n",
      "Model fingerprint: 0x88e2e477\n",
      "Coefficient statistics:\n",
      "  Matrix range     [1e+00, 1e+00]\n",
      "  Objective range  [1e+00, 1e+00]\n",
      "  Bounds range     [0e+00, 0e+00]\n",
      "  RHS range        [1e+00, 1e+00]\n",
      "Presolve time: 0.00s\n",
      "Presolved: 19 rows, 9 columns, 76 nonzeros\n",
      "\n",
      "Iteration    Objective       Primal Inf.    Dual Inf.      Time\n",
      "       0   -2.0000000e+30   7.000000e+30   2.000000e+00      0s\n",
      "      16    2.5000000e+01   0.000000e+00   0.000000e+00      0s\n",
      "\n",
      "Solved in 16 iterations and 0.01 seconds\n",
      "Optimal objective  2.500000000e+01\n"
     ]
    }
   ],
   "source": [
    "# 验证模型构建\n",
    "\n",
    "model.write('OptimizeConstraint.lp')\n",
    "\n",
    "# 运行优化引擎\n",
    "\n",
    "model.optimize()"
   ]
  },
  {
   "cell_type": "code",
   "execution_count": null,
   "metadata": {},
   "outputs": [
    {
     "name": "stdout",
     "output_type": "stream",
     "text": [
      "________________________________________\n",
      "The equivalent optimized constraint is:\n",
      "\n",
      "6.0x[1] + 9.0x[2] + -10.0x[3] + 12.0x[4] + 9.0x[5] + -13.0x[6]  + 16.0x[7] + 14.0x[8] <= 25.0\n"
     ]
    }
   ],
   "source": [
    "# 输出报告\n",
    "\n",
    "\n",
    "# 相对于原始变量x的优化系数值\n",
    "\n",
    "a = {}\n",
    "\n",
    "a[0] = b[0].x - b[3].x - b[5].x\n",
    "a[1] = b[8].x\n",
    "a[2] = b[7].x\n",
    "a[3] = -b[5].x\n",
    "a[4] = b[4].x\n",
    "a[5] = b[6].x\n",
    "a[6] = -b[3].x\n",
    "a[7] = b[1].x\n",
    "a[8] = b[2].x\n",
    "\n",
    "print(\"________________________________________\")\n",
    "print(f\"等价优化约束为:\")\n",
    "\n",
    "\n",
    "optimized_constraint = {}\n",
    "for i in indices:\n",
    "    if i==0:\n",
    "        optimized_constraint[i]=f\"{a[i]}\"\n",
    "    else:\n",
    "        optimized_constraint[i]= f\"{a[i]}x[{i}]\"\n",
    "        #print(optimized_constraint)\n",
    "            \n",
    "print(f\"\\n{optimized_constraint[1]} + {optimized_constraint[2]} + {optimized_constraint[3]} + {optimized_constraint[4]} + {optimized_constraint[5]} + {optimized_constraint[6]}  + {optimized_constraint[7]} + {optimized_constraint[8]} <= {optimized_constraint[0]}\")"
   ]
  },
  {
   "cell_type": "markdown",
   "metadata": {},
   "source": [
    "---\n",
    "## 参考文献\n",
    "\n",
    "H. Paul Williams著《Model Building in Mathematical Programming》第五版。\n",
    "\n",
    "Bradley, G.H., Hammer, P.L. 和 Wolsey, L. (1974) 0-1变量不等式的系数简化。Mathematical Programming, 7, 263-282。\n",
    "\n",
    "版权所有 © 2020 Gurobi Optimization, LLC"
   ]
  },
  {
   "cell_type": "code",
   "execution_count": null,
   "metadata": {},
   "outputs": [],
   "source": []
  }
 ],
 "metadata": {
  "kernelspec": {
   "display_name": "Python 3",
   "language": "python",
   "name": "python3"
  },
  "language_info": {
   "codemirror_mode": {
    "name": "ipython",
    "version": 3
   },
   "file_extension": ".py",
   "mimetype": "text/x-python",
   "name": "python",
   "nbconvert_exporter": "python",
   "pygments_lexer": "ipython3",
   "version": "3.7.1"
  }
 },
 "nbformat": 4,
 "nbformat_minor": 2
}
