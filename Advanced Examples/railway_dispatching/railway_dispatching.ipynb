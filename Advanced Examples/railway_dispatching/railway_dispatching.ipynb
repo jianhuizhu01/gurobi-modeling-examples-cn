{
 "cells": [
  {
   "cell_type": "markdown",
   "metadata": {},
   "source": [
    "# 铁路调度问题\n",
    "公共交通运输业有许多可以从数学优化中受益的应用场景。这包括长期规划(运营哪些服务及其频率、服务时刻表编制)、中期规划(将车辆和乘务员分配给列车运行)以及短期规划(重新调度、调度)。本笔记本主要讨论铁路调度问题。给定一组列车及其当前位置和期望路线,我们需要决定列车运行的顺序,使每列车在遵守轨道和中间站点容量限制的前提下尽快到达终点。"
   ]
  },
  {
   "cell_type": "markdown",
   "metadata": {},
   "source": [
    "## 加载所需的包\n",
    "如果您已经有 Gurobi 许可证并安装了该软件,则可以跳过安装 `gurobipy`,但请始终确保您使用的是[最新版本](https://www.gurobi.com/downloads/gurobi-software)。"
   ]
  },
  {
   "cell_type": "code",
   "execution_count": 1,
   "metadata": {},
   "outputs": [],
   "source": [
    "%pip install gurobipy pandas plotly.express nbformat"
   ]
  },
  {
   "cell_type": "code",
   "execution_count": 2,
   "metadata": {},
   "outputs": [],
   "source": [
    "import itertools as it\n",
    "import math\n",
    "import pandas as pd\n",
    "import plotly.express as px\n",
    "import datetime as dt\n",
    "from os import path\n",
    "import gurobipy as gp\n",
    "from gurobipy import GRB"
   ]
  },
  {
   "cell_type": "markdown",
   "metadata": {},
   "source": [
    "## 获取数据\n",
    "我们将从 CSV 文件加载场景数据。这些文件位于 `data` 文件夹中;每个场景在其子文件夹中包含多个 CSV 文件。这些文件包含以下数据:\n",
    "- `stations.csv` 包含铁路站点信息。每个站点都有 `capacity`(可同时容纳的列车数量)和 `duration`(在站点停留所需的时间)。站点还有一个 `y` 坐标用于后续可视化时刻表。\n",
    "- `tracks.csv` 包含连接站点对的铁路轨道。每条轨道都有 `capacity` 和 `duration` 属性,以及 `start` 和 `end` 站点。我们假设轨道可双向通行,所以 `start` 和 `end` 的顺序并不重要。\n",
    "- `routes.csv` 包含网络中预定义的路线。每条路线是资源(站点和轨道)的列表。\n",
    "- `trains.csv` 包含需要调度通过网络的列车。每列火车都遵循一条 `route`,但可以从路线上的任何点 `start` 开始。"
   ]
  },
  {
   "cell_type": "code",
   "execution_count": 3,
   "metadata": {},
   "outputs": [],
   "source": [
    "dataset = 'linear'\n",
    "folder = f'data/{dataset}'\n",
    "df_stations = pd.read_csv(path.join(folder, 'stations.csv')).set_index('id')\n",
    "df_tracks = pd.read_csv(path.join(folder, 'tracks.csv')).set_index('id')\n",
    "df_routes = pd.read_csv(path.join(folder, 'routes.csv')).set_index('id')\n",
    "df_trains = pd.read_csv(path.join(folder, 'trains.csv')).set_index('id')"
   ]
  },
  {
   "cell_type": "markdown",
   "metadata": {},
   "source": [
    "我们将进行一些处理,以便更容易使用我们的数据。"
   ]
  },
  {
   "cell_type": "code",
   "execution_count": null,
   "metadata": {},
   "outputs": [],
   "source": [
    "# 对于每条路线，解析站点/轨道字符串\n",
    "routes = df_routes['resources'].map(lambda route: [int(res) for res in route.split('-')]).to_dict()\n",
    "\n",
    "# 对于每列列车，找到对应的路线并应用起始位置\n",
    "trains = df_trains.apply(lambda row: list(it.dropwhile(lambda resource: resource!=row.start, routes[row.route])), axis=1).to_dict()\n",
    "\n",
    "# 对于每个资源，找到持续时间和容量\n",
    "duration = pd.concat([df_tracks['duration'], df_stations['duration']]).to_dict()\n",
    "capacity = pd.concat([df_tracks['capacity'], df_stations['capacity']]).to_dict()\n",
    "\n",
    "# 查找站点的Y坐标\n",
    "station_y = df_stations['y'].to_dict()\n",
    "\n",
    "# 对于每条轨道，找到轨道两侧的站点对\n",
    "track_stations = df_tracks.apply(lambda track: (track.start, track.end), axis=1)\n",
    "\n",
    "# 查找资源集合及其类型（S=站点，T=轨道）\n",
    "resource_type = { key: 'S' for key in df_stations.index } | { key: 'T' for key in df_tracks.index }\n",
    "resources = resource_type.keys()"
   ]
  },
  {
   "cell_type": "markdown",
   "metadata": {},
   "source": [
    "我们可以将输入数据显示为一个简单的 Dataframe,将轨道和站点结合在一起。请注意,轨道没有 `y` 值,而站点没有 `endpoints` 值。"
   ]
  },
  {
   "cell_type": "code",
   "execution_count": 5,
   "metadata": {},
   "outputs": [
    {
     "data": {
      "text/html": [
       "<div>\n",
       "<style scoped>\n",
       "    .dataframe tbody tr th:only-of-type {\n",
       "        vertical-align: middle;\n",
       "    }\n",
       "\n",
       "    .dataframe tbody tr th {\n",
       "        vertical-align: top;\n",
       "    }\n",
       "\n",
       "    .dataframe thead th {\n",
       "        text-align: right;\n",
       "    }\n",
       "</style>\n",
       "<table border=\"1\" class=\"dataframe\">\n",
       "  <thead>\n",
       "    <tr style=\"text-align: right;\">\n",
       "      <th></th>\n",
       "      <th>type</th>\n",
       "      <th>duration</th>\n",
       "      <th>capacity</th>\n",
       "      <th>y</th>\n",
       "      <th>endpoints</th>\n",
       "    </tr>\n",
       "  </thead>\n",
       "  <tbody>\n",
       "    <tr>\n",
       "      <th>0</th>\n",
       "      <td>S</td>\n",
       "      <td>2</td>\n",
       "      <td>2</td>\n",
       "      <td>0.0</td>\n",
       "      <td>NaN</td>\n",
       "    </tr>\n",
       "    <tr>\n",
       "      <th>1</th>\n",
       "      <td>T</td>\n",
       "      <td>6</td>\n",
       "      <td>1</td>\n",
       "      <td>NaN</td>\n",
       "      <td>(0, 2)</td>\n",
       "    </tr>\n",
       "    <tr>\n",
       "      <th>2</th>\n",
       "      <td>S</td>\n",
       "      <td>4</td>\n",
       "      <td>2</td>\n",
       "      <td>6.0</td>\n",
       "      <td>NaN</td>\n",
       "    </tr>\n",
       "    <tr>\n",
       "      <th>3</th>\n",
       "      <td>T</td>\n",
       "      <td>8</td>\n",
       "      <td>1</td>\n",
       "      <td>NaN</td>\n",
       "      <td>(2, 4)</td>\n",
       "    </tr>\n",
       "    <tr>\n",
       "      <th>4</th>\n",
       "      <td>S</td>\n",
       "      <td>2</td>\n",
       "      <td>2</td>\n",
       "      <td>14.0</td>\n",
       "      <td>NaN</td>\n",
       "    </tr>\n",
       "    <tr>\n",
       "      <th>5</th>\n",
       "      <td>T</td>\n",
       "      <td>5</td>\n",
       "      <td>1</td>\n",
       "      <td>NaN</td>\n",
       "      <td>(4, 6)</td>\n",
       "    </tr>\n",
       "    <tr>\n",
       "      <th>6</th>\n",
       "      <td>S</td>\n",
       "      <td>2</td>\n",
       "      <td>2</td>\n",
       "      <td>19.0</td>\n",
       "      <td>NaN</td>\n",
       "    </tr>\n",
       "  </tbody>\n",
       "</table>\n",
       "</div>"
      ],
      "text/plain": [
       "  type  duration  capacity     y endpoints\n",
       "0    S         2         2   0.0       NaN\n",
       "1    T         6         1   NaN    (0, 2)\n",
       "2    S         4         2   6.0       NaN\n",
       "3    T         8         1   NaN    (2, 4)\n",
       "4    S         2         2  14.0       NaN\n",
       "5    T         5         1   NaN    (4, 6)\n",
       "6    S         2         2  19.0       NaN"
      ]
     },
     "execution_count": 5,
     "metadata": {},
     "output_type": "execute_result"
    }
   ],
   "source": [
    "pd.DataFrame({'type': resource_type, 'duration': duration, 'capacity': capacity, 'y': station_y, 'endpoints': track_stations})"
   ]
  },
  {
   "cell_type": "markdown",
   "metadata": {},
   "source": [
    "为了使我们的生活更轻松,我们将定义一个小的辅助函数,该函数为特定列车和资源提供沿列车路线给定资源之后的资源。如果给定资源是路线中的最后一个,则返回 `None`。"
   ]
  },
  {
   "cell_type": "code",
   "execution_count": 6,
   "metadata": {},
   "outputs": [],
   "source": [
    "def get_next_resource(train, resource):\n",
    "    route = trains[train]\n",
    "    index = route.index(resource)\n",
    "    return route[index + 1] if index < len(route)-1 else None"
   ]
  },
  {
   "cell_type": "markdown",
   "metadata": {},
   "source": [
    "本笔记本中包含的各种数据集如下所示。节点(圆圈)表示站点,而线条表示轨道。虽然 `linear` 模型不涉及分支,但 `yshape` 更复杂,而 `xshape` 增加了更多复杂性。\n",
    "\n",
    "![](images/Slide2.png)"
   ]
  },
  {
   "cell_type": "markdown",
   "metadata": {},
   "source": [
    "## 数学优化模型\n",
    "\n",
    "### 时间方面\n",
    "此用例中的主要决策是关于时间安排:每列列车何时访问每个资源。\n",
    "\n",
    "让我们定义一些重要的集合。\n",
    "- 令 $R$ 为资源集合;这些资源包括站点和轨道。\n",
    "- 令 $I$ 为列车集合;我们定义 $R_i$ 为列车 $i \\in I$ 要访问的(有序)资源集合\n",
    "\n",
    "对于时间安排,我们引入两组决策变量。\n",
    "- 主要变量是 $t_{i,r}$,表示列车 $i$ 访问(开始占用)资源 $r$ 的时间。\n",
    "- 由于我们希望查看总的通过时间,我们还定义 $t^F_i \\: \\forall i \\in I$ 为列车 $i$ 的完成时间"
   ]
  },
  {
   "cell_type": "code",
   "execution_count": null,
   "metadata": {},
   "outputs": [
    {
     "name": "stdout",
     "output_type": "stream",
     "text": [
      "Set parameter LicenseID to value 692374\n"
     ]
    }
   ],
   "source": [
    "model = gp.Model()\n",
    "events = gp.tuplelist([(train, resource) for train, route in trains.items() for resource in route])\n",
    "t = model.addVars(events, name='t')\n",
    "tf = model.addVars(trains.keys(), name='tf')\n",
    "\n",
    "# 辅助函数，根据资源是否为None返回't'或'tf'\n",
    "def tvar(train, resource):\n",
    "    return t[train, resource] if resource is not None else tf[train]"
   ]
  },
  {
   "cell_type": "markdown",
   "metadata": {},
   "source": [
    "如果我们考虑单列列车,我们知道资源是按特定顺序访问的,列车将花费已知的时间访问每个资源。\n",
    "- 假设每个资源 $r \\in R$ 的持续时间为 $dur_r$\n",
    "- 然后对于列车 $i$ 连续访问的资源对 $(r, r')$,我们知道 $t_{i,r'} = t_{i,r} + dur_r$\n",
    "\n",
    "因此,我们可以使用该方程链接每列列车的成对连续时间变量。"
   ]
  },
  {
   "cell_type": "code",
   "execution_count": null,
   "metadata": {},
   "outputs": [],
   "source": [
    "# 优先级约束\n",
    "for train, route in trains.items():\n",
    "    for train_i in range(len(route)-1):\n",
    "        # 我们假设列车从一开始就存在于网络中，因此\n",
    "        # 第一个事件必须等于0。\n",
    "        if train_i==0:\n",
    "            model.addConstr(t[train, route[train_i+1]] - t[train, route[train_i]] >= duration[route[train_i]])\n",
    "        else:\n",
    "            model.addConstr(t[train, route[train_i+1]] - t[train, route[train_i]] >= duration[route[train_i]])            \n",
    "    model.addConstr(tf[train] - t[train, route[len(route)-1]] == duration[route[len(route)-1]])\n",
    "\n",
    "# 起始位置\n",
    "for train in trains:\n",
    "    resource = trains[train][0]\n",
    "    t[train, resource].UB=0"
   ]
  },
  {
   "cell_type": "markdown",
   "metadata": {},
   "source": [
    "### 冲突检测\n",
    "如果我们按现在的模型求解,由于列车之间没有相互关联的约束,我们将分别优化每列列车。列车之间的关系是由于它们共享某些有限容量的资源而产生的。\n",
    "\n",
    "为了处理资源容量问题,第一步是关注共享特定资源 $r$ 的一对列车 $i$ 和 $j$。假设列车 $i$ 在访问资源 $r$ 后访问资源 $u$,而列车 $j$ 接下来访问资源 $v$。\n",
    "\n",
    "现在根据 $t$ 变量的值,我们将面临以下三种情况之一:\n",
    "- 列车 $i$ 先于 $j$,这意味着列车 $i$ 在列车 $j$ 到达资源 $r$ 之前就已到达 $u$。\n",
    "- 同样,列车 $j$ 可能先于列车 $i$,当它在列车 $i$ 到达资源 $r$ 之前到达 $v$。\n",
    "- 最后,列车 $i$ 和 $j$ 可能在某段时间内同时共享资源。\n",
    "\n",
    "我们可以引入二进制变量来表示上述三种情况:\n",
    "- 当 $i$ 先于 $j$ 时,$y_{i,j,r}=1$;为此添加约束 $t_{j,r} - t_{i,u} ≥ -M·(1-y_{i,j,r}$)\n",
    "- 当 $j$ 先于 $i$ 时,$y_{j,i,r}=1$;为此添加约束 $t_{i,r} - t_{j,v} ≥ -M·(1-y_{j,i,r}$) \n",
    "- 当 $i$ 和 $j$ 在资源 $r$ 相遇时,$x_{i,j,r}=1$;为此添加一对约束 $t_{j,v} - t_{i,r} ≥ -M·(1-x_{i,j,r}$) 和 $t_{i,u} - t_{j,r} ≥ -M·(1-x_{i,j,r}$)\n",
    "- 根据定义,必须满足 $y_{i,j,r} + y_{j,i,r} + x_{i,j,r} = 1$"
   ]
  },
  {
   "cell_type": "markdown",
   "metadata": {},
   "source": [
    "![](images/Slide1.png)\n",
    "\n",
    "左图显示了两列列车 i 和 i' 如何访问共享资源 r,然后分别继续前往资源 u 和 v。右图显示了资源 r 的冲突检测涉及的各个事件。每个箭头表示头节点必须跟随尾节点。P 箭头表示单列列车的优先级约束。X 约束适用于列车同时占用资源的情况。当一列列车在资源 r 上先于另一列时,应用 Y 箭头。"
   ]
  },
  {
   "cell_type": "code",
   "execution_count": null,
   "metadata": {},
   "outputs": [],
   "source": [
    "M = sum(duration) * len(trains)\n",
    "\n",
    "def create_disjunct_constraints(resource, train_i, resource_u, train_j, resource_v, M):\n",
    "    t_ir = tvar(train_i, resource)\n",
    "    t_iu = tvar(train_i, resource_u)\n",
    "    t_jr = tvar(train_j, resource)\n",
    "    t_jv = tvar(train_j, resource_v)\n",
    "\n",
    "    # A在B之前\n",
    "    y_ab = model.addVar(vtype=GRB.BINARY, name=f'y[{resource},{train_i},{train_j}]')\n",
    "    model.addConstr(t_jr - t_iu >= -M *(1-y_ab), name=f'y[{resource},{train_i},{train_j}]')\n",
    "\n",
    "    # B在A之前\n",
    "    y_ba = model.addVar(vtype=GRB.BINARY, name=f'y[{resource},{train_j},{train_i}]')\n",
    "    model.addConstr(t_ir - t_jv >= -M *(1-y_ba), name=f'y[{resource},{train_j},{train_i}]')\n",
    "\n",
    "    # A和B相遇\n",
    "    x = model.addVar(vtype=GRB.BINARY, name=f'x[{resource},{train_i},{train_j}]')\n",
    "    model.addConstr(t_jv - t_ir >= -M *(1-x), name=f'x1[{resource},{train_i},{train_j}]')\n",
    "    model.addConstr(t_iu - t_jr >= -M *(1-x), name=f'x2[{resource},{train_i},{train_j}]')\n",
    "\n",
    "    # 三种情况有且只有一种成立\n",
    "    model.addConstr(y_ab + y_ba + x == 1, name=f'xy[{resource},{train_i},{train_j}]')\n",
    "    return x"
   ]
  },
  {
   "cell_type": "markdown",
   "metadata": {},
   "source": [
    "### 资源容量\n",
    "有了上述约束,我们只能根据 t 的值推导出 x 和 y 的正确值,而不会影响 t 的可行域。缺失的部分是我们资源的有限容量。\n",
    "\n",
    "假设我们有一个容量为 c 的资源,有 n 列列车要访问它。如果 $c ≥ n$,那么我们不需要做任何事。否则,我们需要约束来确保同时不会有超过 c 个资源。我们如何使用列车对之间的 x 变量来建模呢?\n",
    "\n",
    "想象一下,我们有 c+1 列列车同时访问。这些列车会形成 ${c+1 \\choose 2}$ 对列车 (i,j),并且所有对应的变量 $y_{i,j,r}$ 的值都将为 1,因为它们都在同一时间相遇。因此,这些变量的总和将等于 ${c+1 \\choose 2}$。\n",
    "\n",
    "所以要防止这种情况,需要为每个包含 $c+1$ 列列车的子集添加约束。该约束应确保子集中至少有一对列车不会在资源处相遇。换句话说,子集中 y 变量的总和需要小于 ${c+1 \\choose 2}$。\n",
    "\n",
    "生成这些约束的算法如下:\n",
    "- 遍历所有资源\n",
    "- 找出访问该资源的所有列车对\n",
    "- 使用上面的辅助函数为每对列车生成 x 和 y 变量\n",
    "- 如果列车数量不超过 c,则跳过\n",
    "- 否则,如果资源容量 $c>1$:\n",
    "  - 生成所有大小为 $c+1$ 的列车子集\n",
    "  - 添加一个约束,确保该子集中列车对的 y 变量之和不超过 ${c+1 \\choose 2}$\n",
    "- 否则,我们可以简单地强制 $x=0$ 来防止重叠。"
   ]
  },
  {
   "cell_type": "code",
   "execution_count": null,
   "metadata": {},
   "outputs": [],
   "source": [
    "# 冲突\n",
    "for resource in resources:\n",
    "    # 查找访问该资源的列车\n",
    "    resource_events = events.select('*', resource)\n",
    "    resource_trains = [t for (t,r) in resource_events]\n",
    "    trains_with_next = []\n",
    "\n",
    "    # 对于每列列车，找到下一个连续事件\n",
    "    for train in resource_trains:\n",
    "        next_resource = get_next_resource(train, resource)\n",
    "        trains_with_next.append((train, next_resource))\n",
    "\n",
    "    # X变量列表，稍后用于热点约束\n",
    "    xlist = {}\n",
    "\n",
    "    # 考虑列车对\n",
    "    pairs = it.combinations(trains_with_next, 2)\n",
    "    for pair in pairs:\n",
    "        ((train_i, resource_u), (train_j, resource_v)) = pair\n",
    "        xlist[train_i,train_j] = create_disjunct_constraints(resource, train_i, resource_u, train_j, resource_v, M)\n",
    "\n",
    "    # 添加热点约束\n",
    "    if len(resource_trains) <= capacity[resource]:\n",
    "        continue\n",
    "    elif(capacity[resource] > 1):\n",
    "        subsets = it.combinations(resource_trains, capacity[resource]+1)\n",
    "        rhs = math.comb(capacity[resource]+1, 2) - 1\n",
    "        for subset in subsets:\n",
    "            pairs = it.combinations(subset, 2)\n",
    "            xsel = [xlist[ta,tb] for (ta,tb) in pairs]\n",
    "            suffix = ','.join(list(subset))\n",
    "            model.addConstr(gp.quicksum(xsel) <= rhs, f'h[{resource},{suffix}]')            \n",
    "    else:\n",
    "        for x in xlist.values():\n",
    "            x.UB = 0"
   ]
  },
  {
   "cell_type": "markdown",
   "metadata": {},
   "source": [
    "### 额外的复杂性\n",
    "如果需要,您可以通过在事件时间上添加约束来增加模型的复杂性。例如,在 `linear` 数据集中,您可能希望强制列车 `F` 在列车 `E` 之前到达。我们可以通过取消下面语句的注释来实现这一点。请注意这如何增加总延迟,因为列车 `E` 必须在车站等待列车 `F`。"
   ]
  },
  {
   "cell_type": "code",
   "execution_count": 11,
   "metadata": {},
   "outputs": [],
   "source": [
    "#model.addConstr(tf['F'] <= tf['E'])"
   ]
  },
  {
   "cell_type": "markdown",
   "metadata": {},
   "source": [
    "### 最小化延误\n",
    "这就是大部分工作了! 我们已经定义了每列列车的时间变量和优先级约束;然后我们添加了列车共享资源时的关系,并确保这些列车永远不会超过资源容量。现在唯一缺少的是目标函数。为了优化乘客体验和运营效率,我们希望所有列车尽快到达终点。我们可以通过几种方式建模:\n",
    "- 一个简单的目标可以是简单地将终点的到达时间相加。在这里,一列列车有较长的延误,或者相同的总延误分布在多列列车上并不重要。我们在这里实现的是确保有限容量的资源尽快得到使用。\n",
    "- 另一个目标可以是最小化所有列车到达终点的时间。这类似于其他调度问题中的\"完工时间\"概念。\n",
    "- 这些值不仅取决于我们的调度决策,还取决于每列列车无法避免的最小行程时间。我们可以通过从每列列车的计划到达时间中减去这个最小持续时间来补偿。请注意,由于我们只是减去一个常数值,我们将得到与前一点相同的最优解。\n",
    "- 最后,为了使事情更有趣,我们可以尝试在列车之间分配延误。虽然这可能对运营效率产生负面影响(处理单个延误可能比处理多个小延误更容易),但它确实代表了一个可以被视为\"公平性\"的概念。\n",
    "\n",
    "下面我们将采用第三种方法,但可以轻松修改目标函数以使用这里提到的任何想法。第四种方法需要完整的 Gurobi 许可证,因为它涉及二次目标。"
   ]
  },
  {
   "cell_type": "code",
   "execution_count": 12,
   "metadata": {},
   "outputs": [],
   "source": [
    "def delay(train):\n",
    "    min_duration = sum(duration[resource] for resource in trains[train])\n",
    "    return tf[train] - min_duration\n",
    "    \n",
    "model.setObjective(gp.quicksum(delay(train) for train in trains))\n",
    "model.ModelSense = GRB.MINIMIZE"
   ]
  },
  {
   "cell_type": "markdown",
   "metadata": {},
   "source": [
    "## 求解模型\n",
    "现在我们准备求解模型。Gurobi 在几秒钟内完成此操作:"
   ]
  },
  {
   "cell_type": "code",
   "execution_count": 13,
   "metadata": {},
   "outputs": [
    {
     "name": "stdout",
     "output_type": "stream",
     "text": [
      "Gurobi Optimizer version 12.0.0 build v12.0.0rc1 (mac64[arm] - Darwin 24.1.0 24B91)\n",
      "\n",
      "CPU model: Apple M1\n",
      "Thread count: 8 physical cores, 8 logical processors, using up to 8 threads\n",
      "\n",
      "Optimize a model with 367 rows, 218 columns and 1069 nonzeros\n",
      "Model fingerprint: 0x55c46576\n",
      "Variable types: 38 continuous, 180 integer (180 binary)\n",
      "Coefficient statistics:\n",
      "  Matrix range     [1e+00, 1e+02]\n",
      "  Objective range  [1e+00, 1e+00]\n",
      "  Bounds range     [1e+00, 1e+00]\n",
      "  RHS range        [1e+00, 1e+02]\n",
      "Presolve removed 154 rows and 108 columns\n",
      "Presolve time: 0.00s\n",
      "Presolved: 213 rows, 110 columns, 641 nonzeros\n",
      "Variable types: 26 continuous, 84 integer (84 binary)\n",
      "Found heuristic solution: objective 70.0000000\n",
      "\n",
      "Root relaxation: objective 1.000000e+01, 39 iterations, 0.00 seconds (0.00 work units)\n",
      "\n",
      "    Nodes    |    Current Node    |     Objective Bounds      |     Work\n",
      " Expl Unexpl |  Obj  Depth IntInf | Incumbent    BestBd   Gap | It/Node Time\n",
      "\n",
      "     0     0   10.00000    0    9   70.00000   10.00000  85.7%     -    0s\n",
      "H    0     0                      67.0000000   10.00000  85.1%     -    0s\n",
      "H    0     0                      54.0000000   10.00000  81.5%     -    0s\n",
      "H    0     0                      49.0000000   10.00000  79.6%     -    0s\n",
      "     0     0   24.80544    0   19   49.00000   24.80544  49.4%     -    0s\n",
      "     0     0   26.90349    0   19   49.00000   26.90349  45.1%     -    0s\n",
      "     0     0   29.48228    0   20   49.00000   29.48228  39.8%     -    0s\n",
      "     0     0   30.44468    0   20   49.00000   30.44468  37.9%     -    0s\n",
      "     0     0   30.65423    0   16   49.00000   30.65423  37.4%     -    0s\n",
      "     0     0   30.65531    0   16   49.00000   30.65531  37.4%     -    0s\n",
      "     0     0   33.98537    0   20   49.00000   33.98537  30.6%     -    0s\n",
      "     0     0   34.08360    0   20   49.00000   34.08360  30.4%     -    0s\n",
      "H    0     0                      47.0000000   34.08360  27.5%     -    0s\n",
      "     0     0   35.05769    0    9   47.00000   35.05769  25.4%     -    0s\n",
      "     0     0   35.32909    0   13   47.00000   35.32909  24.8%     -    0s\n",
      "     0     0   37.00000    0   15   47.00000   37.00000  21.3%     -    0s\n",
      "     0     0   38.42857    0   15   47.00000   38.42857  18.2%     -    0s\n",
      "     0     0   38.42857    0   15   47.00000   38.42857  18.2%     -    0s\n",
      "     0     0   39.00000    0   19   47.00000   39.00000  17.0%     -    0s\n",
      "     0     0   43.00000    0   19   47.00000   43.00000  8.51%     -    0s\n",
      "\n",
      "Cutting planes:\n",
      "  Implied bound: 2\n",
      "  MIR: 21\n",
      "  RLT: 1\n",
      "  Relax-and-lift: 4\n",
      "\n",
      "Explored 1 nodes (281 simplex iterations) in 0.05 seconds (0.02 work units)\n",
      "Thread count was 8 (of 8 available processors)\n",
      "\n",
      "Solution count 5: 47 49 54 ... 70\n",
      "\n",
      "Optimal solution found (tolerance 1.00e-04)\n",
      "Best objective 4.700000000000e+01, best bound 4.700000000000e+01, gap 0.0000%\n"
     ]
    }
   ],
   "source": [
    "model.optimize()"
   ]
  },
  {
   "cell_type": "markdown",
   "metadata": {},
   "source": [
    "## 可视化解决方案\n",
    "### 检索解决方案\n",
    "\n",
    "一旦计算出解决方案,我们希望通过多种方式进行可视化验证。为此,我们首先检索所有变量的值并以有用的方式构建此信息。对于每个列车和访问的资源组合,我们收集到达该资源的时间,以及下一个资源和到达下一个资源的时间。"
   ]
  },
  {
   "cell_type": "code",
   "execution_count": 14,
   "metadata": {},
   "outputs": [],
   "source": [
    "intervals = {\n",
    "    (train, resource): (tvar(train, resource).X, tvar(train, get_next_resource(train, resource)).X, get_next_resource(train, resource) )\n",
    "    for (train, resource) in events\n",
    "}\n",
    "model.dispose()"
   ]
  },
  {
   "cell_type": "markdown",
   "metadata": {},
   "source": [
    "### 显示每列列车和每个资源的解决方案"
   ]
  },
  {
   "cell_type": "markdown",
   "metadata": {},
   "source": [
    "一种快速简便的方法是创建一个(透视)表,其中列表示资源(横轴表示*空间*),行表示列车。单元格显示列车开始占用资源的时间。可以从特定列车的时间从左到右或从右到左增加的事实中轻松看出行驶方向。"
   ]
  },
  {
   "cell_type": "code",
   "execution_count": 15,
   "metadata": {},
   "outputs": [
    {
     "name": "stderr",
     "output_type": "stream",
     "text": [
      "/var/folders/c2/2cvvyd0s4jd_bl77ppy651kh0002ym/T/ipykernel_22752/1260593270.py:4: FutureWarning: Downcasting object dtype arrays on .fillna, .ffill, .bfill is deprecated and will change in a future version. Call result.infer_objects(copy=False) instead. To opt-in to the future behavior, set `pd.set_option('future.no_silent_downcasting', True)`\n",
      "  df_intervals.pivot_table(values='start', columns='resource', index='train', fill_value='')\n"
     ]
    },
    {
     "data": {
      "text/html": [
       "<div>\n",
       "<style scoped>\n",
       "    .dataframe tbody tr th:only-of-type {\n",
       "        vertical-align: middle;\n",
       "    }\n",
       "\n",
       "    .dataframe tbody tr th {\n",
       "        vertical-align: top;\n",
       "    }\n",
       "\n",
       "    .dataframe thead th {\n",
       "        text-align: right;\n",
       "    }\n",
       "</style>\n",
       "<table border=\"1\" class=\"dataframe\">\n",
       "  <thead>\n",
       "    <tr style=\"text-align: right;\">\n",
       "      <th>resource</th>\n",
       "      <th>0</th>\n",
       "      <th>1</th>\n",
       "      <th>2</th>\n",
       "      <th>3</th>\n",
       "      <th>4</th>\n",
       "      <th>5</th>\n",
       "      <th>6</th>\n",
       "    </tr>\n",
       "    <tr>\n",
       "      <th>train</th>\n",
       "      <th></th>\n",
       "      <th></th>\n",
       "      <th></th>\n",
       "      <th></th>\n",
       "      <th></th>\n",
       "      <th></th>\n",
       "      <th></th>\n",
       "    </tr>\n",
       "  </thead>\n",
       "  <tbody>\n",
       "    <tr>\n",
       "      <th>A</th>\n",
       "      <td>0.0</td>\n",
       "      <td>6.0</td>\n",
       "      <td>12.0</td>\n",
       "      <td>24.0</td>\n",
       "      <td>32.0</td>\n",
       "      <td>34.0</td>\n",
       "      <td>39.0</td>\n",
       "    </tr>\n",
       "    <tr>\n",
       "      <th>B</th>\n",
       "      <td></td>\n",
       "      <td>0.0</td>\n",
       "      <td>6.0</td>\n",
       "      <td>16.0</td>\n",
       "      <td>24.0</td>\n",
       "      <td>26.0</td>\n",
       "      <td>31.0</td>\n",
       "    </tr>\n",
       "    <tr>\n",
       "      <th>C</th>\n",
       "      <td></td>\n",
       "      <td></td>\n",
       "      <td></td>\n",
       "      <td>0.0</td>\n",
       "      <td>8.0</td>\n",
       "      <td>10.0</td>\n",
       "      <td>15.0</td>\n",
       "    </tr>\n",
       "    <tr>\n",
       "      <th>D</th>\n",
       "      <td></td>\n",
       "      <td></td>\n",
       "      <td></td>\n",
       "      <td></td>\n",
       "      <td>0.0</td>\n",
       "      <td>2.0</td>\n",
       "      <td>7.0</td>\n",
       "    </tr>\n",
       "    <tr>\n",
       "      <th>E</th>\n",
       "      <td>26.0</td>\n",
       "      <td>20.0</td>\n",
       "      <td>16.0</td>\n",
       "      <td>8.0</td>\n",
       "      <td>0.0</td>\n",
       "      <td></td>\n",
       "      <td></td>\n",
       "    </tr>\n",
       "    <tr>\n",
       "      <th>F</th>\n",
       "      <td>50.0</td>\n",
       "      <td>44.0</td>\n",
       "      <td>40.0</td>\n",
       "      <td>32.0</td>\n",
       "      <td>26.0</td>\n",
       "      <td>15.0</td>\n",
       "      <td>0.0</td>\n",
       "    </tr>\n",
       "  </tbody>\n",
       "</table>\n",
       "</div>"
      ],
      "text/plain": [
       "resource     0     1     2     3     4     5     6\n",
       "train                                             \n",
       "A          0.0   6.0  12.0  24.0  32.0  34.0  39.0\n",
       "B                0.0   6.0  16.0  24.0  26.0  31.0\n",
       "C                            0.0   8.0  10.0  15.0\n",
       "D                                  0.0   2.0   7.0\n",
       "E         26.0  20.0  16.0   8.0   0.0            \n",
       "F         50.0  44.0  40.0  32.0  26.0  15.0   0.0"
      ]
     },
     "execution_count": 15,
     "metadata": {},
     "output_type": "execute_result"
    }
   ],
   "source": [
    "df_intervals = pd.DataFrame.from_dict(intervals, orient='index').rename(columns={0:'start',1:'end',2:'next'}).reset_index()\n",
    "df_intervals['train'], df_intervals['resource'] = zip(*df_intervals['index'])\n",
    "df_intervals.drop(columns='index', inplace=True)\n",
    "df_intervals.pivot_table(values='start', columns='resource', index='train', fill_value='')"
   ]
  },
  {
   "cell_type": "markdown",
   "metadata": {},
   "source": [
    "### 使用时空图可视化时刻表"
   ]
  },
  {
   "cell_type": "markdown",
   "metadata": {},
   "source": [
    "列车时刻表通常通过在*垂直*轴上显示空间,在*水平*轴上显示时间来进行可视化。站点在 y 轴上有特定的点,而轨道是这些站点之间的空间。单个列车行程是通过图表连接(位置,时间)对的路径。水平线段表示列车在站点停留。当两列列车在同一方向行驶并且它们的路径交叉时,这意味着较快的列车超过较慢的列车。要构建此类可视化,我们首先需要为每列列车的每个事件计算 Y 坐标。"
   ]
  },
  {
   "cell_type": "code",
   "execution_count": null,
   "metadata": {},
   "outputs": [],
   "source": [
    "# 对于每列列车，计算每个事件的Y坐标\n",
    "train_coordinates = { }\n",
    "for train, route in trains.items():\n",
    "    current_resource = None\n",
    "    for resource in route:\n",
    "        if resource_type[resource] == 'S':\n",
    "            train_coordinates[train, resource] = (station_y[resource], station_y[resource])\n",
    "        else:\n",
    "            endpoints = track_stations[resource]\n",
    "            if current_resource != None:\n",
    "                first = current_resource\n",
    "                second = endpoints[0] if endpoints[1] == current_resource else endpoints[1]                \n",
    "            else:\n",
    "                second = route[1]\n",
    "                first = endpoints[0] if endpoints[1] == second else endpoints[1]\n",
    "            train_coordinates[train, resource] = (station_y[first], station_y[second])\n",
    "        current_resource = resource"
   ]
  },
  {
   "cell_type": "markdown",
   "metadata": {},
   "source": [
    "一旦我们有了这些坐标,我们可以计算每列列车的单个线段,然后将这些线段连接为路径。我们将站点绘制为虚线。通常线段的斜率表示列车的速度。\n",
    "\n",
    "请注意,对于 `yshape` 数据集,轨道中有一个交叉点,但两个分支无法在一维中正确可视化。站点 6 被绘制在站点 4 和 8 之间,即使从站点 4 到 8 行驶的列车实际上并没有经过/通过站点 6。"
   ]
  },
  {
   "cell_type": "code",
   "execution_count": 17,
   "metadata": {},
   "outputs": [
    {
     "data": {
      "application/vnd.plotly.v1+json": {
       "config": {
        "plotlyServerURL": "https://plot.ly"
       },
       "data": [
        {
         "hovertemplate": "train=A<br>x=%{x}<br>y=%{y}<extra></extra>",
         "legendgroup": "A",
         "line": {
          "color": "#636efa",
          "dash": "solid",
          "width": 4
         },
         "marker": {
          "symbol": "circle"
         },
         "mode": "lines",
         "name": "A",
         "opacity": 0.7,
         "orientation": "v",
         "showlegend": true,
         "type": "scatter",
         "x": [
          0,
          6,
          6,
          12,
          12,
          24,
          24,
          32,
          32,
          34,
          34,
          39,
          39,
          41
         ],
         "xaxis": "x",
         "y": [
          0,
          0,
          0,
          6,
          6,
          6,
          6,
          14,
          14,
          14,
          14,
          19,
          19,
          19
         ],
         "yaxis": "y"
        },
        {
         "hovertemplate": "train=B<br>x=%{x}<br>y=%{y}<extra></extra>",
         "legendgroup": "B",
         "line": {
          "color": "#EF553B",
          "dash": "solid",
          "width": 4
         },
         "marker": {
          "symbol": "circle"
         },
         "mode": "lines",
         "name": "B",
         "opacity": 0.7,
         "orientation": "v",
         "showlegend": true,
         "type": "scatter",
         "x": [
          0,
          6,
          6,
          16,
          16,
          24,
          24,
          26,
          26,
          31,
          31,
          33
         ],
         "xaxis": "x",
         "y": [
          0,
          6,
          6,
          6,
          6,
          14,
          14,
          14,
          14,
          19,
          19,
          19
         ],
         "yaxis": "y"
        },
        {
         "hovertemplate": "train=C<br>x=%{x}<br>y=%{y}<extra></extra>",
         "legendgroup": "C",
         "line": {
          "color": "#00cc96",
          "dash": "solid",
          "width": 4
         },
         "marker": {
          "symbol": "circle"
         },
         "mode": "lines",
         "name": "C",
         "opacity": 0.7,
         "orientation": "v",
         "showlegend": true,
         "type": "scatter",
         "x": [
          0,
          8,
          8,
          10,
          10,
          15,
          15,
          17
         ],
         "xaxis": "x",
         "y": [
          6,
          14,
          14,
          14,
          14,
          19,
          19,
          19
         ],
         "yaxis": "y"
        },
        {
         "hovertemplate": "train=D<br>x=%{x}<br>y=%{y}<extra></extra>",
         "legendgroup": "D",
         "line": {
          "color": "#ab63fa",
          "dash": "solid",
          "width": 4
         },
         "marker": {
          "symbol": "circle"
         },
         "mode": "lines",
         "name": "D",
         "opacity": 0.7,
         "orientation": "v",
         "showlegend": true,
         "type": "scatter",
         "x": [
          0,
          2,
          2,
          7,
          7,
          9
         ],
         "xaxis": "x",
         "y": [
          14,
          14,
          14,
          19,
          19,
          19
         ],
         "yaxis": "y"
        },
        {
         "hovertemplate": "train=E<br>x=%{x}<br>y=%{y}<extra></extra>",
         "legendgroup": "E",
         "line": {
          "color": "#FFA15A",
          "dash": "solid",
          "width": 4
         },
         "marker": {
          "symbol": "circle"
         },
         "mode": "lines",
         "name": "E",
         "opacity": 0.7,
         "orientation": "v",
         "showlegend": true,
         "type": "scatter",
         "x": [
          0,
          8,
          8,
          16,
          16,
          20,
          20,
          26,
          26,
          28
         ],
         "xaxis": "x",
         "y": [
          14,
          14,
          14,
          6,
          6,
          6,
          6,
          0,
          0,
          0
         ],
         "yaxis": "y"
        },
        {
         "hovertemplate": "train=F<br>x=%{x}<br>y=%{y}<extra></extra>",
         "legendgroup": "F",
         "line": {
          "color": "#19d3f3",
          "dash": "solid",
          "width": 4
         },
         "marker": {
          "symbol": "circle"
         },
         "mode": "lines",
         "name": "F",
         "opacity": 0.7,
         "orientation": "v",
         "showlegend": true,
         "type": "scatter",
         "x": [
          0,
          15,
          15,
          26,
          26,
          32,
          32,
          40,
          40,
          44,
          44,
          50,
          50,
          52
         ],
         "xaxis": "x",
         "y": [
          19,
          19,
          19,
          14,
          14,
          14,
          14,
          6,
          6,
          6,
          6,
          0,
          0,
          0
         ],
         "yaxis": "y"
        }
       ],
       "layout": {
        "annotations": [
         {
          "showarrow": false,
          "text": "0",
          "x": 1,
          "xanchor": "right",
          "xref": "x domain",
          "y": 0,
          "yanchor": "bottom",
          "yref": "y"
         },
         {
          "showarrow": false,
          "text": "2",
          "x": 1,
          "xanchor": "right",
          "xref": "x domain",
          "y": 6,
          "yanchor": "bottom",
          "yref": "y"
         },
         {
          "showarrow": false,
          "text": "4",
          "x": 1,
          "xanchor": "right",
          "xref": "x domain",
          "y": 14,
          "yanchor": "bottom",
          "yref": "y"
         },
         {
          "showarrow": false,
          "text": "6",
          "x": 1,
          "xanchor": "right",
          "xref": "x domain",
          "y": 19,
          "yanchor": "bottom",
          "yref": "y"
         }
        ],
        "height": 400,
        "legend": {
         "title": {
          "text": "train"
         },
         "tracegroupgap": 0
        },
        "margin": {
         "t": 60
        },
        "shapes": [
         {
          "line": {
           "color": "gray",
           "dash": "dot",
           "width": 1
          },
          "type": "line",
          "x0": 0,
          "x1": 1,
          "xref": "x domain",
          "y0": 0,
          "y1": 0,
          "yref": "y"
         },
         {
          "line": {
           "color": "gray",
           "dash": "dot",
           "width": 1
          },
          "type": "line",
          "x0": 0,
          "x1": 1,
          "xref": "x domain",
          "y0": 6,
          "y1": 6,
          "yref": "y"
         },
         {
          "line": {
           "color": "gray",
           "dash": "dot",
           "width": 1
          },
          "type": "line",
          "x0": 0,
          "x1": 1,
          "xref": "x domain",
          "y0": 14,
          "y1": 14,
          "yref": "y"
         },
         {
          "line": {
           "color": "gray",
           "dash": "dot",
           "width": 1
          },
          "type": "line",
          "x0": 0,
          "x1": 1,
          "xref": "x domain",
          "y0": 19,
          "y1": 19,
          "yref": "y"
         }
        ],
        "template": {
         "data": {
          "bar": [
           {
            "error_x": {
             "color": "#2a3f5f"
            },
            "error_y": {
             "color": "#2a3f5f"
            },
            "marker": {
             "line": {
              "color": "#E5ECF6",
              "width": 0.5
             },
             "pattern": {
              "fillmode": "overlay",
              "size": 10,
              "solidity": 0.2
             }
            },
            "type": "bar"
           }
          ],
          "barpolar": [
           {
            "marker": {
             "line": {
              "color": "#E5ECF6",
              "width": 0.5
             },
             "pattern": {
              "fillmode": "overlay",
              "size": 10,
              "solidity": 0.2
             }
            },
            "type": "barpolar"
           }
          ],
          "carpet": [
           {
            "aaxis": {
             "endlinecolor": "#2a3f5f",
             "gridcolor": "white",
             "linecolor": "white",
             "minorgridcolor": "white",
             "startlinecolor": "#2a3f5f"
            },
            "baxis": {
             "endlinecolor": "#2a3f5f",
             "gridcolor": "white",
             "linecolor": "white",
             "minorgridcolor": "white",
             "startlinecolor": "#2a3f5f"
            },
            "type": "carpet"
           }
          ],
          "choropleth": [
           {
            "colorbar": {
             "outlinewidth": 0,
             "ticks": ""
            },
            "type": "choropleth"
           }
          ],
          "contour": [
           {
            "colorbar": {
             "outlinewidth": 0,
             "ticks": ""
            },
            "colorscale": [
             [
              0,
              "#0d0887"
             ],
             [
              0.1111111111111111,
              "#46039f"
             ],
             [
              0.2222222222222222,
              "#7201a8"
             ],
             [
              0.3333333333333333,
              "#9c179e"
             ],
             [
              0.4444444444444444,
              "#bd3786"
             ],
             [
              0.5555555555555556,
              "#d8576b"
             ],
             [
              0.6666666666666666,
              "#ed7953"
             ],
             [
              0.7777777777777778,
              "#fb9f3a"
             ],
             [
              0.8888888888888888,
              "#fdca26"
             ],
             [
              1,
              "#f0f921"
             ]
            ],
            "type": "contour"
           }
          ],
          "contourcarpet": [
           {
            "colorbar": {
             "outlinewidth": 0,
             "ticks": ""
            },
            "type": "contourcarpet"
           }
          ],
          "heatmap": [
           {
            "colorbar": {
             "outlinewidth": 0,
             "ticks": ""
            },
            "colorscale": [
             [
              0,
              "#0d0887"
             ],
             [
              0.1111111111111111,
              "#46039f"
             ],
             [
              0.2222222222222222,
              "#7201a8"
             ],
             [
              0.3333333333333333,
              "#9c179e"
             ],
             [
              0.4444444444444444,
              "#bd3786"
             ],
             [
              0.5555555555555556,
              "#d8576b"
             ],
             [
              0.6666666666666666,
              "#ed7953"
             ],
             [
              0.7777777777777778,
              "#fb9f3a"
             ],
             [
              0.8888888888888888,
              "#fdca26"
             ],
             [
              1,
              "#f0f921"
             ]
            ],
            "type": "heatmap"
           }
          ],
          "heatmapgl": [
           {
            "colorbar": {
             "outlinewidth": 0,
             "ticks": ""
            },
            "colorscale": [
             [
              0,
              "#0d0887"
             ],
             [
              0.1111111111111111,
              "#46039f"
             ],
             [
              0.2222222222222222,
              "#7201a8"
             ],
             [
              0.3333333333333333,
              "#9c179e"
             ],
             [
              0.4444444444444444,
              "#bd3786"
             ],
             [
              0.5555555555555556,
              "#d8576b"
             ],
             [
              0.6666666666666666,
              "#ed7953"
             ],
             [
              0.7777777777777778,
              "#fb9f3a"
             ],
             [
              0.8888888888888888,
              "#fdca26"
             ],
             [
              1,
              "#f0f921"
             ]
            ],
            "type": "heatmapgl"
           }
          ],
          "histogram": [
           {
            "marker": {
             "pattern": {
              "fillmode": "overlay",
              "size": 10,
              "solidity": 0.2
             }
            },
            "type": "histogram"
           }
          ],
          "histogram2d": [
           {
            "colorbar": {
             "outlinewidth": 0,
             "ticks": ""
            },
            "colorscale": [
             [
              0,
              "#0d0887"
             ],
             [
              0.1111111111111111,
              "#46039f"
             ],
             [
              0.2222222222222222,
              "#7201a8"
             ],
             [
              0.3333333333333333,
              "#9c179e"
             ],
             [
              0.4444444444444444,
              "#bd3786"
             ],
             [
              0.5555555555555556,
              "#d8576b"
             ],
             [
              0.6666666666666666,
              "#ed7953"
             ],
             [
              0.7777777777777778,
              "#fb9f3a"
             ],
             [
              0.8888888888888888,
              "#fdca26"
             ],
             [
              1,
              "#f0f921"
             ]
            ],
            "type": "histogram2d"
           }
          ],
          "histogram2dcontour": [
           {
            "colorbar": {
             "outlinewidth": 0,
             "ticks": ""
            },
            "colorscale": [
             [
              0,
              "#0d0887"
             ],
             [
              0.1111111111111111,
              "#46039f"
             ],
             [
              0.2222222222222222,
              "#7201a8"
             ],
             [
              0.3333333333333333,
              "#9c179e"
             ],
             [
              0.4444444444444444,
              "#bd3786"
             ],
             [
              0.5555555555555556,
              "#d8576b"
             ],
             [
              0.6666666666666666,
              "#ed7953"
             ],
             [
              0.7777777777777778,
              "#fb9f3a"
             ],
             [
              0.8888888888888888,
              "#fdca26"
             ],
             [
              1,
              "#f0f921"
             ]
            ],
            "type": "histogram2dcontour"
           }
          ],
          "mesh3d": [
           {
            "colorbar": {
             "outlinewidth": 0,
             "ticks": ""
            },
            "type": "mesh3d"
           }
          ],
          "parcoords": [
           {
            "line": {
             "colorbar": {
              "outlinewidth": 0,
              "ticks": ""
             }
            },
            "type": "parcoords"
           }
          ],
          "pie": [
           {
            "automargin": true,
            "type": "pie"
           }
          ],
          "scatter": [
           {
            "fillpattern": {
             "fillmode": "overlay",
             "size": 10,
             "solidity": 0.2
            },
            "type": "scatter"
           }
          ],
          "scatter3d": [
           {
            "line": {
             "colorbar": {
              "outlinewidth": 0,
              "ticks": ""
             }
            },
            "marker": {
             "colorbar": {
              "outlinewidth": 0,
              "ticks": ""
             }
            },
            "type": "scatter3d"
           }
          ],
          "scattercarpet": [
           {
            "marker": {
             "colorbar": {
              "outlinewidth": 0,
              "ticks": ""
             }
            },
            "type": "scattercarpet"
           }
          ],
          "scattergeo": [
           {
            "marker": {
             "colorbar": {
              "outlinewidth": 0,
              "ticks": ""
             }
            },
            "type": "scattergeo"
           }
          ],
          "scattergl": [
           {
            "marker": {
             "colorbar": {
              "outlinewidth": 0,
              "ticks": ""
             }
            },
            "type": "scattergl"
           }
          ],
          "scattermapbox": [
           {
            "marker": {
             "colorbar": {
              "outlinewidth": 0,
              "ticks": ""
             }
            },
            "type": "scattermapbox"
           }
          ],
          "scatterpolar": [
           {
            "marker": {
             "colorbar": {
              "outlinewidth": 0,
              "ticks": ""
             }
            },
            "type": "scatterpolar"
           }
          ],
          "scatterpolargl": [
           {
            "marker": {
             "colorbar": {
              "outlinewidth": 0,
              "ticks": ""
             }
            },
            "type": "scatterpolargl"
           }
          ],
          "scatterternary": [
           {
            "marker": {
             "colorbar": {
              "outlinewidth": 0,
              "ticks": ""
             }
            },
            "type": "scatterternary"
           }
          ],
          "surface": [
           {
            "colorbar": {
             "outlinewidth": 0,
             "ticks": ""
            },
            "colorscale": [
             [
              0,
              "#0d0887"
             ],
             [
              0.1111111111111111,
              "#46039f"
             ],
             [
              0.2222222222222222,
              "#7201a8"
             ],
             [
              0.3333333333333333,
              "#9c179e"
             ],
             [
              0.4444444444444444,
              "#bd3786"
             ],
             [
              0.5555555555555556,
              "#d8576b"
             ],
             [
              0.6666666666666666,
              "#ed7953"
             ],
             [
              0.7777777777777778,
              "#fb9f3a"
             ],
             [
              0.8888888888888888,
              "#fdca26"
             ],
             [
              1,
              "#f0f921"
             ]
            ],
            "type": "surface"
           }
          ],
          "table": [
           {
            "cells": {
             "fill": {
              "color": "#EBF0F8"
             },
             "line": {
              "color": "white"
             }
            },
            "header": {
             "fill": {
              "color": "#C8D4E3"
             },
             "line": {
              "color": "white"
             }
            },
            "type": "table"
           }
          ]
         },
         "layout": {
          "annotationdefaults": {
           "arrowcolor": "#2a3f5f",
           "arrowhead": 0,
           "arrowwidth": 1
          },
          "autotypenumbers": "strict",
          "coloraxis": {
           "colorbar": {
            "outlinewidth": 0,
            "ticks": ""
           }
          },
          "colorscale": {
           "diverging": [
            [
             0,
             "#8e0152"
            ],
            [
             0.1,
             "#c51b7d"
            ],
            [
             0.2,
             "#de77ae"
            ],
            [
             0.3,
             "#f1b6da"
            ],
            [
             0.4,
             "#fde0ef"
            ],
            [
             0.5,
             "#f7f7f7"
            ],
            [
             0.6,
             "#e6f5d0"
            ],
            [
             0.7,
             "#b8e186"
            ],
            [
             0.8,
             "#7fbc41"
            ],
            [
             0.9,
             "#4d9221"
            ],
            [
             1,
             "#276419"
            ]
           ],
           "sequential": [
            [
             0,
             "#0d0887"
            ],
            [
             0.1111111111111111,
             "#46039f"
            ],
            [
             0.2222222222222222,
             "#7201a8"
            ],
            [
             0.3333333333333333,
             "#9c179e"
            ],
            [
             0.4444444444444444,
             "#bd3786"
            ],
            [
             0.5555555555555556,
             "#d8576b"
            ],
            [
             0.6666666666666666,
             "#ed7953"
            ],
            [
             0.7777777777777778,
             "#fb9f3a"
            ],
            [
             0.8888888888888888,
             "#fdca26"
            ],
            [
             1,
             "#f0f921"
            ]
           ],
           "sequentialminus": [
            [
             0,
             "#0d0887"
            ],
            [
             0.1111111111111111,
             "#46039f"
            ],
            [
             0.2222222222222222,
             "#7201a8"
            ],
            [
             0.3333333333333333,
             "#9c179e"
            ],
            [
             0.4444444444444444,
             "#bd3786"
            ],
            [
             0.5555555555555556,
             "#d8576b"
            ],
            [
             0.6666666666666666,
             "#ed7953"
            ],
            [
             0.7777777777777778,
             "#fb9f3a"
            ],
            [
             0.8888888888888888,
             "#fdca26"
            ],
            [
             1,
             "#f0f921"
            ]
           ]
          },
          "colorway": [
           "#636efa",
           "#EF553B",
           "#00cc96",
           "#ab63fa",
           "#FFA15A",
           "#19d3f3",
           "#FF6692",
           "#B6E880",
           "#FF97FF",
           "#FECB52"
          ],
          "font": {
           "color": "#2a3f5f"
          },
          "geo": {
           "bgcolor": "white",
           "lakecolor": "white",
           "landcolor": "#E5ECF6",
           "showlakes": true,
           "showland": true,
           "subunitcolor": "white"
          },
          "hoverlabel": {
           "align": "left"
          },
          "hovermode": "closest",
          "mapbox": {
           "style": "light"
          },
          "paper_bgcolor": "white",
          "plot_bgcolor": "#E5ECF6",
          "polar": {
           "angularaxis": {
            "gridcolor": "white",
            "linecolor": "white",
            "ticks": ""
           },
           "bgcolor": "#E5ECF6",
           "radialaxis": {
            "gridcolor": "white",
            "linecolor": "white",
            "ticks": ""
           }
          },
          "scene": {
           "xaxis": {
            "backgroundcolor": "#E5ECF6",
            "gridcolor": "white",
            "gridwidth": 2,
            "linecolor": "white",
            "showbackground": true,
            "ticks": "",
            "zerolinecolor": "white"
           },
           "yaxis": {
            "backgroundcolor": "#E5ECF6",
            "gridcolor": "white",
            "gridwidth": 2,
            "linecolor": "white",
            "showbackground": true,
            "ticks": "",
            "zerolinecolor": "white"
           },
           "zaxis": {
            "backgroundcolor": "#E5ECF6",
            "gridcolor": "white",
            "gridwidth": 2,
            "linecolor": "white",
            "showbackground": true,
            "ticks": "",
            "zerolinecolor": "white"
           }
          },
          "shapedefaults": {
           "line": {
            "color": "#2a3f5f"
           }
          },
          "ternary": {
           "aaxis": {
            "gridcolor": "white",
            "linecolor": "white",
            "ticks": ""
           },
           "baxis": {
            "gridcolor": "white",
            "linecolor": "white",
            "ticks": ""
           },
           "bgcolor": "#E5ECF6",
           "caxis": {
            "gridcolor": "white",
            "linecolor": "white",
            "ticks": ""
           }
          },
          "title": {
           "x": 0.05
          },
          "xaxis": {
           "automargin": true,
           "gridcolor": "white",
           "linecolor": "white",
           "ticks": "",
           "title": {
            "standoff": 15
           },
           "zerolinecolor": "white",
           "zerolinewidth": 2
          },
          "yaxis": {
           "automargin": true,
           "gridcolor": "white",
           "linecolor": "white",
           "ticks": "",
           "title": {
            "standoff": 15
           },
           "zerolinecolor": "white",
           "zerolinewidth": 2
          }
         }
        },
        "width": 600,
        "xaxis": {
         "anchor": "y",
         "domain": [
          0,
          1
         ],
         "title": {
          "text": "x"
         }
        },
        "yaxis": {
         "anchor": "x",
         "domain": [
          0,
          1
         ],
         "title": {
          "text": "y"
         }
        }
       }
      }
     },
     "metadata": {},
     "output_type": "display_data"
    }
   ],
   "source": [
    "df_diagram = it.chain(*[[{ 'train':train, 'y': train_coordinates[train, resource][0], 'x': start }, { 'train':train, 'y': train_coordinates[train, resource][1], 'x':end }] for (train, resource), (start, end, next) in intervals.items()])\n",
    "fig = px.line(df_diagram, x='x', y='y', color='train', width=600, height=400)\n",
    "fig.update_traces(line={'width': 4}, opacity=.7)\n",
    "for station, y_ab in station_y.items():    \n",
    "    fig.add_hline(y=y_ab, annotation_text=station, line_dash=\"dot\", line_width=1, line_color='gray')\n",
    "fig.show()"
   ]
  },
  {
   "cell_type": "markdown",
   "metadata": {},
   "source": [
    "### 资源占用"
   ]
  },
  {
   "cell_type": "markdown",
   "metadata": {},
   "source": [
    "最后,我们可以以甘特图的形式可视化每个资源的占用情况。行表示资源,横轴表示时间。当不同列车的两个条形图重叠时,它们在同一时间(部分)占用相同的资源。"
   ]
  },
  {
   "cell_type": "code",
   "execution_count": 18,
   "metadata": {},
   "outputs": [
    {
     "data": {
      "application/vnd.plotly.v1+json": {
       "config": {
        "plotlyServerURL": "https://plot.ly"
       },
       "data": [
        {
         "alignmentgroup": "True",
         "base": [
          "2024-12-18T00:00:00",
          "2024-12-18T00:06:00",
          "2024-12-18T00:12:00",
          "2024-12-18T00:24:00",
          "2024-12-18T00:32:00",
          "2024-12-18T00:34:00",
          "2024-12-18T00:39:00"
         ],
         "hovertemplate": "train=A<br>start=%{base}<br>end=%{x}<br>resource=%{y}<extra></extra>",
         "legendgroup": "A",
         "marker": {
          "color": "#636efa",
          "opacity": 0.5,
          "pattern": {
           "shape": ""
          }
         },
         "name": "A",
         "offsetgroup": "A",
         "orientation": "h",
         "showlegend": true,
         "textposition": "auto",
         "type": "bar",
         "x": [
          360000,
          360000,
          720000,
          480000,
          120000,
          300000,
          120000
         ],
         "xaxis": "x",
         "y": [
          0,
          1,
          2,
          3,
          4,
          5,
          6
         ],
         "yaxis": "y"
        },
        {
         "alignmentgroup": "True",
         "base": [
          "2024-12-18T00:00:00",
          "2024-12-18T00:06:00",
          "2024-12-18T00:16:00",
          "2024-12-18T00:24:00",
          "2024-12-18T00:26:00",
          "2024-12-18T00:31:00"
         ],
         "hovertemplate": "train=B<br>start=%{base}<br>end=%{x}<br>resource=%{y}<extra></extra>",
         "legendgroup": "B",
         "marker": {
          "color": "#EF553B",
          "opacity": 0.5,
          "pattern": {
           "shape": ""
          }
         },
         "name": "B",
         "offsetgroup": "B",
         "orientation": "h",
         "showlegend": true,
         "textposition": "auto",
         "type": "bar",
         "x": [
          360000,
          600000,
          480000,
          120000,
          300000,
          120000
         ],
         "xaxis": "x",
         "y": [
          1,
          2,
          3,
          4,
          5,
          6
         ],
         "yaxis": "y"
        },
        {
         "alignmentgroup": "True",
         "base": [
          "2024-12-18T00:00:00",
          "2024-12-18T00:08:00",
          "2024-12-18T00:10:00",
          "2024-12-18T00:15:00"
         ],
         "hovertemplate": "train=C<br>start=%{base}<br>end=%{x}<br>resource=%{y}<extra></extra>",
         "legendgroup": "C",
         "marker": {
          "color": "#00cc96",
          "opacity": 0.5,
          "pattern": {
           "shape": ""
          }
         },
         "name": "C",
         "offsetgroup": "C",
         "orientation": "h",
         "showlegend": true,
         "textposition": "auto",
         "type": "bar",
         "x": [
          480000,
          120000,
          300000,
          120000
         ],
         "xaxis": "x",
         "y": [
          3,
          4,
          5,
          6
         ],
         "yaxis": "y"
        },
        {
         "alignmentgroup": "True",
         "base": [
          "2024-12-18T00:00:00",
          "2024-12-18T00:02:00",
          "2024-12-18T00:07:00"
         ],
         "hovertemplate": "train=D<br>start=%{base}<br>end=%{x}<br>resource=%{y}<extra></extra>",
         "legendgroup": "D",
         "marker": {
          "color": "#ab63fa",
          "opacity": 0.5,
          "pattern": {
           "shape": ""
          }
         },
         "name": "D",
         "offsetgroup": "D",
         "orientation": "h",
         "showlegend": true,
         "textposition": "auto",
         "type": "bar",
         "x": [
          120000,
          300000,
          120000
         ],
         "xaxis": "x",
         "y": [
          4,
          5,
          6
         ],
         "yaxis": "y"
        },
        {
         "alignmentgroup": "True",
         "base": [
          "2024-12-18T00:00:00",
          "2024-12-18T00:08:00",
          "2024-12-18T00:16:00",
          "2024-12-18T00:20:00",
          "2024-12-18T00:26:00"
         ],
         "hovertemplate": "train=E<br>start=%{base}<br>end=%{x}<br>resource=%{y}<extra></extra>",
         "legendgroup": "E",
         "marker": {
          "color": "#FFA15A",
          "opacity": 0.5,
          "pattern": {
           "shape": ""
          }
         },
         "name": "E",
         "offsetgroup": "E",
         "orientation": "h",
         "showlegend": true,
         "textposition": "auto",
         "type": "bar",
         "x": [
          480000,
          480000,
          240000,
          360000,
          120000
         ],
         "xaxis": "x",
         "y": [
          4,
          3,
          2,
          1,
          0
         ],
         "yaxis": "y"
        },
        {
         "alignmentgroup": "True",
         "base": [
          "2024-12-18T00:00:00",
          "2024-12-18T00:15:00",
          "2024-12-18T00:26:00",
          "2024-12-18T00:32:00",
          "2024-12-18T00:40:00",
          "2024-12-18T00:44:00",
          "2024-12-18T00:50:00"
         ],
         "hovertemplate": "train=F<br>start=%{base}<br>end=%{x}<br>resource=%{y}<extra></extra>",
         "legendgroup": "F",
         "marker": {
          "color": "#19d3f3",
          "opacity": 0.5,
          "pattern": {
           "shape": ""
          }
         },
         "name": "F",
         "offsetgroup": "F",
         "orientation": "h",
         "showlegend": true,
         "textposition": "auto",
         "type": "bar",
         "x": [
          900000,
          660000,
          360000,
          480000,
          240000,
          360000,
          120000
         ],
         "xaxis": "x",
         "y": [
          6,
          5,
          4,
          3,
          2,
          1,
          0
         ],
         "yaxis": "y"
        }
       ],
       "layout": {
        "barmode": "overlay",
        "height": 400,
        "legend": {
         "title": {
          "text": "train"
         },
         "tracegroupgap": 0
        },
        "margin": {
         "t": 60
        },
        "template": {
         "data": {
          "bar": [
           {
            "error_x": {
             "color": "#2a3f5f"
            },
            "error_y": {
             "color": "#2a3f5f"
            },
            "marker": {
             "line": {
              "color": "#E5ECF6",
              "width": 0.5
             },
             "pattern": {
              "fillmode": "overlay",
              "size": 10,
              "solidity": 0.2
             }
            },
            "type": "bar"
           }
          ],
          "barpolar": [
           {
            "marker": {
             "line": {
              "color": "#E5ECF6",
              "width": 0.5
             },
             "pattern": {
              "fillmode": "overlay",
              "size": 10,
              "solidity": 0.2
             }
            },
            "type": "barpolar"
           }
          ],
          "carpet": [
           {
            "aaxis": {
             "endlinecolor": "#2a3f5f",
             "gridcolor": "white",
             "linecolor": "white",
             "minorgridcolor": "white",
             "startlinecolor": "#2a3f5f"
            },
            "baxis": {
             "endlinecolor": "#2a3f5f",
             "gridcolor": "white",
             "linecolor": "white",
             "minorgridcolor": "white",
             "startlinecolor": "#2a3f5f"
            },
            "type": "carpet"
           }
          ],
          "choropleth": [
           {
            "colorbar": {
             "outlinewidth": 0,
             "ticks": ""
            },
            "type": "choropleth"
           }
          ],
          "contour": [
           {
            "colorbar": {
             "outlinewidth": 0,
             "ticks": ""
            },
            "colorscale": [
             [
              0,
              "#0d0887"
             ],
             [
              0.1111111111111111,
              "#46039f"
             ],
             [
              0.2222222222222222,
              "#7201a8"
             ],
             [
              0.3333333333333333,
              "#9c179e"
             ],
             [
              0.4444444444444444,
              "#bd3786"
             ],
             [
              0.5555555555555556,
              "#d8576b"
             ],
             [
              0.6666666666666666,
              "#ed7953"
             ],
             [
              0.7777777777777778,
              "#fb9f3a"
             ],
             [
              0.8888888888888888,
              "#fdca26"
             ],
             [
              1,
              "#f0f921"
             ]
            ],
            "type": "contour"
           }
          ],
          "contourcarpet": [
           {
            "colorbar": {
             "outlinewidth": 0,
             "ticks": ""
            },
            "type": "contourcarpet"
           }
          ],
          "heatmap": [
           {
            "colorbar": {
             "outlinewidth": 0,
             "ticks": ""
            },
            "colorscale": [
             [
              0,
              "#0d0887"
             ],
             [
              0.1111111111111111,
              "#46039f"
             ],
             [
              0.2222222222222222,
              "#7201a8"
             ],
             [
              0.3333333333333333,
              "#9c179e"
             ],
             [
              0.4444444444444444,
              "#bd3786"
             ],
             [
              0.5555555555555556,
              "#d8576b"
             ],
             [
              0.6666666666666666,
              "#ed7953"
             ],
             [
              0.7777777777777778,
              "#fb9f3a"
             ],
             [
              0.8888888888888888,
              "#fdca26"
             ],
             [
              1,
              "#f0f921"
             ]
            ],
            "type": "heatmap"
           }
          ],
          "heatmapgl": [
           {
            "colorbar": {
             "outlinewidth": 0,
             "ticks": ""
            },
            "colorscale": [
             [
              0,
              "#0d0887"
             ],
             [
              0.1111111111111111,
              "#46039f"
             ],
             [
              0.2222222222222222,
              "#7201a8"
             ],
             [
              0.3333333333333333,
              "#9c179e"
             ],
             [
              0.4444444444444444,
              "#bd3786"
             ],
             [
              0.5555555555555556,
              "#d8576b"
             ],
             [
              0.6666666666666666,
              "#ed7953"
             ],
             [
              0.7777777777777778,
              "#fb9f3a"
             ],
             [
              0.8888888888888888,
              "#fdca26"
             ],
             [
              1,
              "#f0f921"
             ]
            ],
            "type": "heatmapgl"
           }
          ],
          "histogram": [
           {
            "marker": {
             "pattern": {
              "fillmode": "overlay",
              "size": 10,
              "solidity": 0.2
             }
            },
            "type": "histogram"
           }
          ],
          "histogram2d": [
           {
            "colorbar": {
             "outlinewidth": 0,
             "ticks": ""
            },
            "colorscale": [
             [
              0,
              "#0d0887"
             ],
             [
              0.1111111111111111,
              "#46039f"
             ],
             [
              0.2222222222222222,
              "#7201a8"
             ],
             [
              0.3333333333333333,
              "#9c179e"
             ],
             [
              0.4444444444444444,
              "#bd3786"
             ],
             [
              0.5555555555555556,
              "#d8576b"
             ],
             [
              0.6666666666666666,
              "#ed7953"
             ],
             [
              0.7777777777777778,
              "#fb9f3a"
             ],
             [
              0.8888888888888888,
              "#fdca26"
             ],
             [
              1,
              "#f0f921"
             ]
            ],
            "type": "histogram2d"
           }
          ],
          "histogram2dcontour": [
           {
            "colorbar": {
             "outlinewidth": 0,
             "ticks": ""
            },
            "colorscale": [
             [
              0,
              "#0d0887"
             ],
             [
              0.1111111111111111,
              "#46039f"
             ],
             [
              0.2222222222222222,
              "#7201a8"
             ],
             [
              0.3333333333333333,
              "#9c179e"
             ],
             [
              0.4444444444444444,
              "#bd3786"
             ],
             [
              0.5555555555555556,
              "#d8576b"
             ],
             [
              0.6666666666666666,
              "#ed7953"
             ],
             [
              0.7777777777777778,
              "#fb9f3a"
             ],
             [
              0.8888888888888888,
              "#fdca26"
             ],
             [
              1,
              "#f0f921"
             ]
            ],
            "type": "histogram2dcontour"
           }
          ],
          "mesh3d": [
           {
            "colorbar": {
             "outlinewidth": 0,
             "ticks": ""
            },
            "type": "mesh3d"
           }
          ],
          "parcoords": [
           {
            "line": {
             "colorbar": {
              "outlinewidth": 0,
              "ticks": ""
             }
            },
            "type": "parcoords"
           }
          ],
          "pie": [
           {
            "automargin": true,
            "type": "pie"
           }
          ],
          "scatter": [
           {
            "fillpattern": {
             "fillmode": "overlay",
             "size": 10,
             "solidity": 0.2
            },
            "type": "scatter"
           }
          ],
          "scatter3d": [
           {
            "line": {
             "colorbar": {
              "outlinewidth": 0,
              "ticks": ""
             }
            },
            "marker": {
             "colorbar": {
              "outlinewidth": 0,
              "ticks": ""
             }
            },
            "type": "scatter3d"
           }
          ],
          "scattercarpet": [
           {
            "marker": {
             "colorbar": {
              "outlinewidth": 0,
              "ticks": ""
             }
            },
            "type": "scattercarpet"
           }
          ],
          "scattergeo": [
           {
            "marker": {
             "colorbar": {
              "outlinewidth": 0,
              "ticks": ""
             }
            },
            "type": "scattergeo"
           }
          ],
          "scattergl": [
           {
            "marker": {
             "colorbar": {
              "outlinewidth": 0,
              "ticks": ""
             }
            },
            "type": "scattergl"
           }
          ],
          "scattermapbox": [
           {
            "marker": {
             "colorbar": {
              "outlinewidth": 0,
              "ticks": ""
             }
            },
            "type": "scattermapbox"
           }
          ],
          "scatterpolar": [
           {
            "marker": {
             "colorbar": {
              "outlinewidth": 0,
              "ticks": ""
             }
            },
            "type": "scatterpolar"
           }
          ],
          "scatterpolargl": [
           {
            "marker": {
             "colorbar": {
              "outlinewidth": 0,
              "ticks": ""
             }
            },
            "type": "scatterpolargl"
           }
          ],
          "scatterternary": [
           {
            "marker": {
             "colorbar": {
              "outlinewidth": 0,
              "ticks": ""
             }
            },
            "type": "scatterternary"
           }
          ],
          "surface": [
           {
            "colorbar": {
             "outlinewidth": 0,
             "ticks": ""
            },
            "colorscale": [
             [
              0,
              "#0d0887"
             ],
             [
              0.1111111111111111,
              "#46039f"
             ],
             [
              0.2222222222222222,
              "#7201a8"
             ],
             [
              0.3333333333333333,
              "#9c179e"
             ],
             [
              0.4444444444444444,
              "#bd3786"
             ],
             [
              0.5555555555555556,
              "#d8576b"
             ],
             [
              0.6666666666666666,
              "#ed7953"
             ],
             [
              0.7777777777777778,
              "#fb9f3a"
             ],
             [
              0.8888888888888888,
              "#fdca26"
             ],
             [
              1,
              "#f0f921"
             ]
            ],
            "type": "surface"
           }
          ],
          "table": [
           {
            "cells": {
             "fill": {
              "color": "#EBF0F8"
             },
             "line": {
              "color": "white"
             }
            },
            "header": {
             "fill": {
              "color": "#C8D4E3"
             },
             "line": {
              "color": "white"
             }
            },
            "type": "table"
           }
          ]
         },
         "layout": {
          "annotationdefaults": {
           "arrowcolor": "#2a3f5f",
           "arrowhead": 0,
           "arrowwidth": 1
          },
          "autotypenumbers": "strict",
          "coloraxis": {
           "colorbar": {
            "outlinewidth": 0,
            "ticks": ""
           }
          },
          "colorscale": {
           "diverging": [
            [
             0,
             "#8e0152"
            ],
            [
             0.1,
             "#c51b7d"
            ],
            [
             0.2,
             "#de77ae"
            ],
            [
             0.3,
             "#f1b6da"
            ],
            [
             0.4,
             "#fde0ef"
            ],
            [
             0.5,
             "#f7f7f7"
            ],
            [
             0.6,
             "#e6f5d0"
            ],
            [
             0.7,
             "#b8e186"
            ],
            [
             0.8,
             "#7fbc41"
            ],
            [
             0.9,
             "#4d9221"
            ],
            [
             1,
             "#276419"
            ]
           ],
           "sequential": [
            [
             0,
             "#0d0887"
            ],
            [
             0.1111111111111111,
             "#46039f"
            ],
            [
             0.2222222222222222,
             "#7201a8"
            ],
            [
             0.3333333333333333,
             "#9c179e"
            ],
            [
             0.4444444444444444,
             "#bd3786"
            ],
            [
             0.5555555555555556,
             "#d8576b"
            ],
            [
             0.6666666666666666,
             "#ed7953"
            ],
            [
             0.7777777777777778,
             "#fb9f3a"
            ],
            [
             0.8888888888888888,
             "#fdca26"
            ],
            [
             1,
             "#f0f921"
            ]
           ],
           "sequentialminus": [
            [
             0,
             "#0d0887"
            ],
            [
             0.1111111111111111,
             "#46039f"
            ],
            [
             0.2222222222222222,
             "#7201a8"
            ],
            [
             0.3333333333333333,
             "#9c179e"
            ],
            [
             0.4444444444444444,
             "#bd3786"
            ],
            [
             0.5555555555555556,
             "#d8576b"
            ],
            [
             0.6666666666666666,
             "#ed7953"
            ],
            [
             0.7777777777777778,
             "#fb9f3a"
            ],
            [
             0.8888888888888888,
             "#fdca26"
            ],
            [
             1,
             "#f0f921"
            ]
           ]
          },
          "colorway": [
           "#636efa",
           "#EF553B",
           "#00cc96",
           "#ab63fa",
           "#FFA15A",
           "#19d3f3",
           "#FF6692",
           "#B6E880",
           "#FF97FF",
           "#FECB52"
          ],
          "font": {
           "color": "#2a3f5f"
          },
          "geo": {
           "bgcolor": "white",
           "lakecolor": "white",
           "landcolor": "#E5ECF6",
           "showlakes": true,
           "showland": true,
           "subunitcolor": "white"
          },
          "hoverlabel": {
           "align": "left"
          },
          "hovermode": "closest",
          "mapbox": {
           "style": "light"
          },
          "paper_bgcolor": "white",
          "plot_bgcolor": "#E5ECF6",
          "polar": {
           "angularaxis": {
            "gridcolor": "white",
            "linecolor": "white",
            "ticks": ""
           },
           "bgcolor": "#E5ECF6",
           "radialaxis": {
            "gridcolor": "white",
            "linecolor": "white",
            "ticks": ""
           }
          },
          "scene": {
           "xaxis": {
            "backgroundcolor": "#E5ECF6",
            "gridcolor": "white",
            "gridwidth": 2,
            "linecolor": "white",
            "showbackground": true,
            "ticks": "",
            "zerolinecolor": "white"
           },
           "yaxis": {
            "backgroundcolor": "#E5ECF6",
            "gridcolor": "white",
            "gridwidth": 2,
            "linecolor": "white",
            "showbackground": true,
            "ticks": "",
            "zerolinecolor": "white"
           },
           "zaxis": {
            "backgroundcolor": "#E5ECF6",
            "gridcolor": "white",
            "gridwidth": 2,
            "linecolor": "white",
            "showbackground": true,
            "ticks": "",
            "zerolinecolor": "white"
           }
          },
          "shapedefaults": {
           "line": {
            "color": "#2a3f5f"
           }
          },
          "ternary": {
           "aaxis": {
            "gridcolor": "white",
            "linecolor": "white",
            "ticks": ""
           },
           "baxis": {
            "gridcolor": "white",
            "linecolor": "white",
            "ticks": ""
           },
           "bgcolor": "#E5ECF6",
           "caxis": {
            "gridcolor": "white",
            "linecolor": "white",
            "ticks": ""
           }
          },
          "title": {
           "x": 0.05
          },
          "xaxis": {
           "automargin": true,
           "gridcolor": "white",
           "linecolor": "white",
           "ticks": "",
           "title": {
            "standoff": 15
           },
           "zerolinecolor": "white",
           "zerolinewidth": 2
          },
          "yaxis": {
           "automargin": true,
           "gridcolor": "white",
           "linecolor": "white",
           "ticks": "",
           "title": {
            "standoff": 15
           },
           "zerolinecolor": "white",
           "zerolinewidth": 2
          }
         }
        },
        "xaxis": {
         "anchor": "y",
         "domain": [
          0,
          1
         ],
         "type": "date"
        },
        "yaxis": {
         "anchor": "x",
         "categoryarray": [
          0,
          1,
          2,
          3,
          4,
          5,
          6
         ],
         "categoryorder": "array",
         "domain": [
          0,
          1
         ],
         "showticklabels": true,
         "title": {
          "text": "resource"
         },
         "type": "category"
        }
       }
      }
     },
     "metadata": {},
     "output_type": "display_data"
    }
   ],
   "source": [
    "t = dt.datetime.combine(dt.date.today(), dt.time())\n",
    "df_timeline =  pd.DataFrame.from_records([{ 'train':train, 'resource':resource, 'start':t+dt.timedelta(minutes=start), 'end':t+dt.timedelta(minutes=end) } for (train, resource), (start, end, next) in intervals.items()])\n",
    "fig = px.timeline(df_timeline, x_start='start', x_end='end', y='resource', color='train', height=400, opacity=0.5)\n",
    "fig.update_yaxes(type='category', showticklabels=True, categoryorder='array', categoryarray=sorted(int(x) for x in resources))\n",
    "fig.show() "
   ]
  },
  {
   "cell_type": "markdown",
   "metadata": {},
   "source": [
    " # 结论"
   ]
  },
  {
   "cell_type": "markdown",
   "metadata": {},
   "source": [
    "在本笔记本中,我们研究了铁路运营商的调度问题。我们将调度问题表述为一个 MIP,可以使用 Gurobi 在合理的时间内求解相对较小的实例。当然,随着列车和资源数量的增加,以及单个资源的容量增加,所选方法的模型规模将迅速增长。已经开发了更先进的技术来解决更大的实例。了解更多信息,请参阅我们与 Sintef 合作的[2024 年网络研讨会](https://www.gurobi.com/events/sintef-railway-optimization/)。"
   ]
  },
  {
   "cell_type": "markdown",
   "metadata": {},
   "source": []
  }
 ],
 "metadata": {
  "kernelspec": {
   "display_name": "Python 3",
   "language": "python",
   "name": "python3"
  },
  "language_info": {
   "codemirror_mode": {
    "name": "ipython",
    "version": 3
   },
   "file_extension": ".py",
   "mimetype": "text/x-python",
   "name": "python",
   "nbconvert_exporter": "python",
   "pygments_lexer": "ipython3",
   "version": "3.12.8"
  }
 },
 "nbformat": 4,
 "nbformat_minor": 2
}
