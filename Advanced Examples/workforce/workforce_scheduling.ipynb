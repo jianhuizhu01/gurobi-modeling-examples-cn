{
 "cells": [
  {
   "cell_type": "markdown",
   "metadata": {},
   "source": [
    "# 人力资源调度问题\n",
    "\n",
    "## 目标和先决条件\n",
    "\n",
    "在这个示例中，您将学习如何解决服务行业中一个关键的核心问题：人力资源调度。我们将演示如何使用数学优化来生成满足业务需求、最大化员工公平性和满意度，并最小化公司需要雇佣的临时工数量的最优人力资源调度方案。\n",
    "\n",
    "这个建模示例属于高级水平，我们假设您了解Python和Gurobi Python API，并且您具有构建数学优化模型的高级知识。通常，这些示例的目标函数和/或约束条件比较复杂，或者需要使用Gurobi Python API的高级功能。\n",
    "\n",
    "**下载仓库** <br />\n",
    "您可以通过点击[这里](https://github.com/Gurobi/modeling-examples/archive/master.zip)下载包含此示例和其他示例的仓库。\n",
    "\n",
    "## 动机\n",
    "对于服务行业的公司来说，人是最重要的资产，也是最大的成本来源。\n",
    "人力资源分配和人员调度处理的是工作安排和人员轮班分配，以满足随时间变化的资源需求。\n",
    "\n",
    "这些问题对于依赖人力资源的服务行业公司非常重要，例如：\n",
    "- 电话接线员\n",
    "- 医院护士\n",
    "- 警察\n",
    "- 运输人员（飞机机组人员、公交车司机等）\n",
    "- 酒店服务人员\n",
    "- 餐厅服务人员\n",
    "\n",
    "## 问题描述\n",
    "\n",
    "考虑一个服务型企业，例如餐厅，它为未来两周（考虑一周7天）制定人力资源计划。该服务只需要一组技能。有多名拥有相同技能和相同生产力的雇佣工人，他们在两周规划期内的某些天可以工作。每个工作日只有一个班次。每个工作日的班次可能有不同的资源（工人）需求。服务企业可以从中介机构雇佣额外（临时）工人以满足班次需求。服务企业希望最小化需要雇佣的额外工人数量，作为次要目标，它希望平衡雇佣工人的工作量以确保公平性。"
   ]
  },
  {
   "cell_type": "markdown",
   "metadata": {},
   "source": [
    "## 模型构建\n",
    "数学规划是一种声明式方法，其中建模者制定一个能够捕捉复杂决策问题关键特征的数学优化问题。Gurobi优化器使用最先进的数学和计算机科学方法来解决数学优化问题。\n",
    "\n",
    "数学优化模型有五个组成部分：\n",
    "- 集合\n",
    "- 参数\n",
    "- 决策变量\n",
    "- 约束条件\n",
    "- 目标函数\n",
    "\n",
    "### 集合和索引\n",
    "\n",
    "$s \\in \\text{shifts}$：索引和班次集合。\n",
    "\n",
    "$w \\in workers$：索引和雇佣工人集合。\n",
    "\n",
    "$availability= \\{(w,s): w \\in workers \\; \\text{可以工作于} \\; s \\in \\text{shifts} \\}$：该集合确定雇佣工人 $w$ 可以在班次 $s$ 工作。\n",
    "\n",
    "### 参数\n",
    "\n",
    "$\\text{shiftRequirements}(s) \\in \\mathbb{N}$：此参数表示每个班次 $s \\in \\text{shifts}$ 所需的工人数量。\n",
    "\n",
    "$pay(w) \\in \\mathbb{R^{+}}$：此参数是每个工人 $w \\in workers$ 的每日工资。\n",
    "\n",
    "$relTol$：此相对容差参数使得在解决次要目标的模型时，可以偏离主要目标函数的最优值。（见下文关于多目标优化过程的解释）。\n",
    "\n",
    "### 计算参数\n",
    "这些参数由输入参数和/或优化过程导出。\n",
    "\n",
    "$Opt(totSlack)$：此参数是满足需求所需的额外工人的最小数量。\n",
    "\n",
    "### 决策变量\n",
    "\n",
    "$x(w,s) \\in \\{0,1\\}$：如果工人 $w \\in workers$ 被分配到班次 $s \\in \\text{shifts}$，则此变量等于1，否则为0。\n",
    "此决策变量定义在 $availability$ 集合上。\n",
    "\n",
    "$Slack(s) \\geq 0$：此变量是满足班次 $s$ 需求所需的额外工人数量。\n",
    "\n",
    "### 辅助变量\n",
    "辅助变量由决策变量的值导出。\n",
    "\n",
    "$totSlack$：此变量计算满足班次工人需求所需的额外工人总数。\n",
    "\n",
    "$\\text{totShifts}(w)$：此变量计算每个工人 $w \\in workers$ 工作的班次总数。\n",
    "\n",
    "$\\text{minShift}$：此变量确定分配给工人的最小班次数。\n",
    "\n",
    "$\\text{maxShift}$：此变量确定分配给工人的最大班次数。\n",
    "\n",
    "## 优化过程\n",
    "\n",
    "在这个建模示例中，我们处理一个多目标模型，其主要目标是最小化满足班次需求所需的额外工人数量，次要目标是最小化任意两名工人之间工作班次数量的最大差异。这个次要目标平衡了分配给工人的工作量。\n",
    " \n",
    "分层多目标优化方法首先用主要目标解决以下模型。\n",
    "\n",
    "### 目标函数\n",
    "\n",
    "- **主要目标：** 目标函数是最小化分配的额外工人数量。\n",
    "\n",
    "\\begin{equation}\n",
    "\\text{Min} \\quad totSlack\n",
    "\\tag{0}\n",
    "\\end{equation}\n",
    "\n",
    "### 约束条件\n",
    "\n",
    "- **班次需求：** 所有班次需求必须得到满足。\n",
    "\n",
    "\\begin{equation}\n",
    "\\sum_{w \\: \\in \\: workers} x(w,s)  +  Slack(s) = \\text{shiftRequirements}(s) \\quad \\forall \\; s \\in \\text{shifts}\n",
    "\\tag{1}\n",
    "\\end{equation}\n",
    "\n",
    "- **临时工：** 计算所需的额外工人总数。\n",
    "\n",
    "\\begin{equation}\n",
    "\\sum_{s \\: \\in \\: \\text{shifts}} Slack(s) =  totSlack \n",
    "\\tag{2}\n",
    "\\end{equation}\n",
    "\n",
    "- **班次：** 计算每个工人的班次总数。\n",
    "\n",
    "\\begin{equation}\n",
    "\\sum_{s \\: \\in \\: \\text{shifts}} x(w,s)  = \\text{totShifts}(w) \\quad \\forall \\; w \\in workers\n",
    "\\tag{3}\n",
    "\\end{equation}\n",
    "\n",
    "- **二进制和非负约束：**\n",
    "\n",
    "$$\n",
    "x(w,s) \\in \\{0, 1 \\}  \\quad \\forall \\; (w,s) \\in availability\n",
    "$$\n",
    "\n",
    "$$\n",
    "Slack(s) \\geq 0 \\quad  \\forall \\; s \\in \\text{shifts}\n",
    "$$\n",
    "\n",
    "$$\n",
    "\\text{totShifts}(w) \\geq 0 \\quad \\forall \\; w \\in workers\n",
    "$$\n",
    "\n",
    "$$\n",
    "totSlack  \\geq 0\n",
    "$$\n",
    "\n",
    "参数 $Opt(totSlack)$ 被设置为等于满足需求所需的额外工人的最小数量。即，$Opt(totSlack) = totSlack^{*} $，其中 $totSlack^{*} $ 是变量 $totSlack$ 的最优值。\n",
    "\n",
    "对于给定的主要目标相对容差 $relTol$，我们现在解决以下模型，其中我们最小化次要目标。\n",
    "\n",
    "\n",
    "### 目标函数\n",
    "\n",
    "- **次要目标：** 目标函数是最小化分配给工人的最大班次数与最小班次数之间的差异。\n",
    "\n",
    "\\begin{equation}\n",
    "\\text{Min} \\quad ( \\text{maxShift} -  \\text{minShift} )\n",
    "\\tag{4}\n",
    "\\end{equation}\n",
    "\n",
    "### 约束条件\n",
    "\n",
    "- **班次需求：** 所有班次需求必须得到满足。\n",
    "\n",
    "\\begin{equation}\n",
    "\\sum_{w \\: \\in \\: workers} x(w,s)  +  Slack(s) = \\text{shiftRequirements}(s) \\quad \\forall \\; s \\in \\text{shifts}\n",
    "\\tag{1}\n",
    "\\end{equation}\n",
    "\n",
    "\n",
    "- **相对容差：** 确保由主要目标最小化的额外工人总数（totSlack）在一定容差百分比内得到满足。\n",
    "\n",
    "\\begin{equation}\n",
    "\\sum_{s \\: \\in \\: shifts} Slack(s) \\leq (1+relTol)*Opt(totSlack)\n",
    "\\tag{5}\n",
    "\\end{equation}\n",
    "\n",
    "- **班次：** 计算每个工人的班次总数。\n",
    "\n",
    "\\begin{equation}\n",
    "\\sum_{s \\: \\in \\: \\text{shifts}} x(w,s)  = \\text{totShifts}(w) \\quad \\forall \\; w \\in workers\n",
    "\\tag{3}\n",
    "\\end{equation}\n",
    "\n",
    "- **最小班次：** 计算分配给雇佣工人的最小班次数。\n",
    "\n",
    "\\begin{equation}\n",
    "\\text{minShift} = \\text{Min} \\{\\text{totShifts}(w): \\ w \\; in \\; workers \\}  \n",
    "\\tag{6}\n",
    "\\end{equation}\n",
    "\n",
    "\n",
    "- **最大班次：** 计算分配给雇佣工人的最大班次数。\n",
    "\n",
    "\\begin{equation}\n",
    "\\text{maxShift} = \\text{Max} \\{\\text{totShifts}(w): \\ w \\; in \\; workers \\}\n",
    "\\tag{7}\n",
    "\\end{equation}\n",
    "\n",
    "- **二进制和非负约束：**\n",
    "\n",
    "$$\n",
    "x(w,s) \\in \\{0, 1 \\}  \\quad \\forall \\; (w,s) \\in availability\n",
    "$$\n",
    "\n",
    "$$\n",
    "Slack(s) \\geq 0 \\quad  \\forall \\; s \\in \\text{shifts}\n",
    "$$\n",
    "\n",
    "$$\n",
    "\\text{totShifts}(w) \\geq 0 \\quad   \\forall \\; w \\in workers\n",
    "$$\n",
    "\n",
    "$$\n",
    "\\text{maxShift},  \\text{minShift}   \\geq 0\n",
    "$$\n",
    "\n",
    "使用以下方法时，Gurobi Python API会自动完成此优化过程：\n",
    "\n",
    "\"Model.setObjectiveN()\""
   ]
  },
  {
   "cell_type": "markdown",
   "metadata": {},
   "source": [
    "## Python实现\n",
    "\n",
    "现在我们导入Gurobi Python模块。然后，我们使用给定数据初始化数据结构。"
   ]
  },
  {
   "cell_type": "code",
   "execution_count": null,
   "metadata": {},
   "outputs": [],
   "source": [
    "%pip install gurobipy"
   ]
  },
  {
   "cell_type": "code",
   "execution_count": null,
   "metadata": {},
   "outputs": [],
   "source": [
    "# 这个命令导入Gurobi函数和类。\n",
    "\n",
    "import gurobipy as gp\n",
    "from gurobipy import GRB\n",
    "\n",
    "\n",
    "import pandas as pd\n",
    "from pylab import *\n",
    "import matplotlib\n",
    "import matplotlib.pyplot as plt"
   ]
  },
  {
   "cell_type": "markdown",
   "metadata": {},
   "source": [
    "## 输入数据\n",
    "\n",
    "我们定义模型的所有输入数据。\n",
    "\n",
    "### 参数\n",
    "\n",
    "$\\text{shiftRequirements}(s) \\in \\mathbb{N}$：此参数表示每个班次 $s \\in \\text{shifts}$ 所需的工人数量。"
   ]
  },
  {
   "cell_type": "code",
   "execution_count": null,
   "metadata": {},
   "outputs": [],
   "source": [
    "# 每个班次所需的工人数量。\n",
    "shifts, shiftRequirements = gp.multidict({\n",
    "  \"Mon1\":  3,\n",
    "  \"Tue2\":  2,\n",
    "  \"Wed3\":  4,\n",
    "  \"Thu4\":  4,\n",
    "  \"Fri5\":  5,\n",
    "  \"Sat6\":  6,\n",
    "  \"Sun7\":  5,\n",
    "  \"Mon8\":  2,\n",
    "  \"Tue9\":  2,\n",
    "  \"Wed10\": 3,\n",
    "  \"Thu11\": 4,\n",
    "  \"Fri12\": 6,\n",
    "  \"Sat13\": 7,\n",
    "  \"Sun14\": 5 })"
   ]
  },
  {
   "cell_type": "markdown",
   "metadata": {},
   "source": [
    "### 参数\n",
    "\n",
    "$pay(w) \\in \\mathbb{R^{+}}$：此参数是每个工人 $w \\in workers$ 的每日工资。"
   ]
  },
  {
   "cell_type": "code",
   "execution_count": null,
   "metadata": {},
   "outputs": [],
   "source": [
    "# 每个工人工作一个班次的薪资。\n",
    "workers, pay = gp.multidict({\n",
    "  \"Amy\":   10,\n",
    "  \"Bob\":   12,\n",
    "  \"Cathy\": 10,\n",
    "  \"Dan\":   8,\n",
    "  \"Ed\":    8,\n",
    "  \"Fred\":  9,\n",
    "  \"Gu\":    11 })"
   ]
  },
  {
   "cell_type": "markdown",
   "metadata": {},
   "source": [
    "### 集合\n",
    "\n",
    "$availability= \\{(w,s): w \\in workers \\; \\text{可以工作于} \\; s \\in \\text{shifts} \\}$：该集合确定雇佣工人 $w$ 可以在班次 $s$ 工作。\n",
    "\n"
   ]
  },
  {
   "cell_type": "code",
   "execution_count": null,
   "metadata": {},
   "outputs": [],
   "source": [
    "# 工人可用性：定义每个雇佣工人在哪些天可以工作。\n",
    "\n",
    "availability = gp.tuplelist([\n",
    "('Amy', 'Tue2'), ('Amy', 'Wed3'), ('Amy', 'Fri5'), ('Amy', 'Sun7'),\n",
    "('Amy', 'Tue9'), ('Amy', 'Wed10'), ('Amy', 'Thu11'), ('Amy', 'Fri12'),\n",
    "('Amy', 'Sat13'), ('Amy', 'Sun14'), ('Bob', 'Mon1'), ('Bob', 'Tue2'),\n",
    "('Bob', 'Fri5'), ('Bob', 'Sat6'), ('Bob', 'Mon8'), ('Bob', 'Thu11'),\n",
    "('Bob', 'Sat13'), ('Cathy', 'Wed3'), ('Cathy', 'Thu4'), ('Cathy', 'Fri5'),\n",
    "('Cathy', 'Sun7'), ('Cathy', 'Mon8'), ('Cathy', 'Tue9'), ('Cathy', 'Wed10'),\n",
    "('Cathy', 'Thu11'), ('Cathy', 'Fri12'), ('Cathy', 'Sat13'),\n",
    "('Cathy', 'Sun14'), ('Dan', 'Tue2'), ('Dan', 'Wed3'), ('Dan', 'Fri5'),\n",
    "('Dan', 'Sat6'), ('Dan', 'Mon8'), ('Dan', 'Tue9'), ('Dan', 'Wed10'),\n",
    "('Dan', 'Thu11'), ('Dan', 'Fri12'), ('Dan', 'Sat13'), ('Dan', 'Sun14'),\n",
    "('Ed', 'Mon1'), ('Ed', 'Tue2'), ('Ed', 'Wed3'), ('Ed', 'Thu4'),\n",
    "('Ed', 'Fri5'), ('Ed', 'Sun7'), ('Ed', 'Mon8'), ('Ed', 'Tue9'),\n",
    "('Ed', 'Thu11'), ('Ed', 'Sat13'), ('Ed', 'Sun14'), ('Fred', 'Mon1'),\n",
    "('Fred', 'Tue2'), ('Fred', 'Wed3'), ('Fred', 'Sat6'), ('Fred', 'Mon8'),\n",
    "('Fred', 'Tue9'), ('Fred', 'Fri12'), ('Fred', 'Sat13'), ('Fred', 'Sun14'),\n",
    "('Gu', 'Mon1'), ('Gu', 'Tue2'), ('Gu', 'Wed3'), ('Gu', 'Fri5'),\n",
    "('Gu', 'Sat6'), ('Gu', 'Sun7'), ('Gu', 'Mon8'), ('Gu', 'Tue9'),\n",
    "('Gu', 'Wed10'), ('Gu', 'Thu11'), ('Gu', 'Fri12'), ('Gu', 'Sat13'),\n",
    "('Gu', 'Sun14')\n",
    "])"
   ]
  },
  {
   "cell_type": "markdown",
   "metadata": {},
   "source": [
    "## 模型部署"
   ]
  },
  {
   "cell_type": "code",
   "execution_count": null,
   "metadata": {},
   "outputs": [
    {
     "name": "stdout",
     "output_type": "stream",
     "text": [
      "Using license file c:\\gurobi\\gurobi.lic\n"
     ]
    }
   ],
   "source": [
    "# 创建初始模型。\n",
    "m = gp.Model(\"workforce5\")"
   ]
  },
  {
   "cell_type": "markdown",
   "metadata": {},
   "source": [
    "### 决策变量\n",
    "\n",
    "$x(w,s) \\in \\{0,1\\}$：如果工人 $w \\in workers$ 被分配到班次 $s \\in \\text{shifts}$，则此变量等于1，否则为0。\n",
    "此决策变量定义在 $availability$ 集合上。\n",
    "\n",
    "$Slack(s) \\geq 0$：此变量是满足班次 $s$ 需求所需的额外工人数量。"
   ]
  },
  {
   "cell_type": "code",
   "execution_count": null,
   "metadata": {},
   "outputs": [],
   "source": [
    "# 初始化分配决策变量。\n",
    "\n",
    "x = m.addVars(availability, vtype=GRB.BINARY, name=\"x\")"
   ]
  },
  {
   "cell_type": "code",
   "execution_count": null,
   "metadata": {},
   "outputs": [],
   "source": [
    "# Slack决策变量确定满足每个班次需求所需的额外工人数量\n",
    "slacks = m.addVars(shifts, name=\"Slack\")"
   ]
  },
  {
   "cell_type": "markdown",
   "metadata": {},
   "source": [
    "### 辅助变量\n",
    "辅助变量由决策变量的值导出。\n",
    "\n",
    "$totSlack$：此变量计算满足班次工人需求所需的额外工人总数。\n",
    "\n",
    "$\\text{totShifts}(w)$：此变量计算每个工人 $w \\in workers$ 工作的班次总数。\n",
    "\n",
    "$\\text{minShift}$：此变量确定分配给工人的最小班次数。\n",
    "\n",
    "$\\text{maxShift}$：此变量确定分配给工人的最大班次数。"
   ]
  },
  {
   "cell_type": "code",
   "execution_count": null,
   "metadata": {},
   "outputs": [],
   "source": [
    "# 辅助变量totSlack表示满足所有班次需求所需的额外工人总数。\n",
    "totSlack = m.addVar(name='totSlack')"
   ]
  },
  {
   "cell_type": "code",
   "execution_count": null,
   "metadata": {},
   "outputs": [],
   "source": [
    "# 辅助变量totShifts计算每个雇佣工人工作的总班次数\n",
    "totShifts = m.addVars(workers, name=\"TotShifts\")"
   ]
  },
  {
   "cell_type": "markdown",
   "metadata": {},
   "source": [
    "### 约束条件\n",
    "\n",
    "$$\\sum_{w \\: \\in \\: workers} x(w,s) \\; + \\; Slack(s) \\; = \\; \\text{shiftRequirements}(s) \\; \\; \\; \\forall \\; s \\in shifts $$"
   ]
  },
  {
   "cell_type": "code",
   "execution_count": null,
   "metadata": {},
   "outputs": [],
   "source": [
    "# 约束条件：所有班次需求必须得到满足。\n",
    "\n",
    "shift_reqmts = m.addConstrs((x.sum('*',s) + slacks[s] == shiftRequirements[s] for s in shifts), name='shiftRequirement')\n"
   ]
  },
  {
   "cell_type": "markdown",
   "metadata": {},
   "source": [
    "### 约束条件\n",
    "\n",
    "$$ \\sum_{s \\: \\in \\: shifts} Slack(s) \\; = \\; totSlack  $$"
   ]
  },
  {
   "cell_type": "code",
   "execution_count": null,
   "metadata": {},
   "outputs": [],
   "source": [
    "# 约束条件：设置辅助变量(totSlack)等于满足班次需求所需的额外工人总数\n",
    " \n",
    "num_temps = m.addConstr(totSlack == slacks.sum(), name='totSlack')\n"
   ]
  },
  {
   "cell_type": "markdown",
   "metadata": {},
   "source": [
    "### 约束条件\n",
    "\n",
    "$$\\sum_{s \\: \\in \\: shifts} x(w,s) \\; = \\; \\text{totShifts}(w) \\; \\; \\forall \\ w \\; in \\; workers$$"
   ]
  },
  {
   "cell_type": "code",
   "execution_count": null,
   "metadata": {},
   "outputs": [],
   "source": [
    "# 约束条件：计算每个工人的总班次数\n",
    "\n",
    "num_shifts = m.addConstrs((totShifts[w] == x.sum(w,'*') for w in workers), name='totShifts')\n"
   ]
  },
  {
   "cell_type": "markdown",
   "metadata": {},
   "source": [
    "变量 $\\text{minShift}$ 确定分配给工人的最小班次数。该变量计算如下：\n",
    "$\\text{minShift} = Min \\{\\text{totShifts}(w): \\ w \\; in \\; workers \\} $\n",
    "\n",
    "变量 $\\text{maxShift}$ 确定分配给工人的最大班次数。该变量计算如下：\n",
    "$\\text{maxShift} = Max \\{\\text{totShifts}(w): \\ w \\; in \\; workers \\} $"
   ]
  },
  {
   "cell_type": "code",
   "execution_count": null,
   "metadata": {},
   "outputs": [],
   "source": [
    "# 辅助变量。 \n",
    "# minShift是分配给工人的最小班次数 \n",
    "# maxShift是分配给工人的最大班次数\n",
    "\n",
    "minShift = m.addVar(name='minShift')\n",
    "\n",
    "maxShift = m.addVar(name='maxShift')\n",
    "\n",
    "# 约束条件： \n",
    "# 模型对象m的addGenConstrMin()方法添加一个新的通用约束，\n",
    "# 确定一组变量中的最小值。 \n",
    "# 第一个参数是变量，其值将等于其他变量的最小值，\n",
    "# 在这种情况下是minShift。 \n",
    "# 第二个参数是将取最小值的变量集，在这种情况下是(totShifts)。 \n",
    "# 回想一下，totShifts变量定义在工人集合上，并确定雇佣工人将工作的班次数。\n",
    "# 第三个参数是此约束的名称。\n",
    "\n",
    "min_constr = m.addGenConstrMin(minShift, totShifts, name='minShift')\n",
    "\n",
    "# 约束条件： \n",
    "# 类似地，模型对象m的addGenConstrMax()方法添加一个新的通用\n",
    "# 约束，确定一组变量中的最大值。\n",
    "\n",
    "max_constr = m.addGenConstrMax(maxShift, totShifts, name='maxShift')\n"
   ]
  },
  {
   "cell_type": "markdown",
   "metadata": {},
   "source": [
    "我们有一个主要目标和一个次要目标，都是为了最小化。"
   ]
  },
  {
   "cell_type": "code",
   "execution_count": null,
   "metadata": {},
   "outputs": [],
   "source": [
    "# 为所有目标设置全局方向。\n",
    "# 这意味着模型对象m的所有目标都将被最小化\n",
    "m.ModelSense = GRB.MINIMIZE"
   ]
  },
  {
   "cell_type": "markdown",
   "metadata": {},
   "source": [
    "## 目标函数\n",
    "\n",
    "主要目标是最小化满足班次需求所需的额外工人总数。\n",
    "$$\n",
    "\\text{Min} \\; totSlack \\; = \\; \\sum_{s \\: \\in \\: shifts} Slack(s) \n",
    "$$\n",
    "\n",
    "对于这个目标，我们允许最多一定百分比的降级容差。如果reltol = 0.2，那么我们允许20%的降级容差。"
   ]
  },
  {
   "cell_type": "code",
   "execution_count": null,
   "metadata": {},
   "outputs": [],
   "source": [
    "# 设置主要目标。\n",
    "\n",
    "# 模型对象m的setObjectiveN()方法允许定义多个目标。\n",
    "# 第一个参数是定义最重要目标的线性表达式，称为主要\n",
    "# 目标，在这种情况下是最小化满足班次需求所需的额外工人数量。 \n",
    "# 第二个参数是目标函数的索引，我们将主要目标的索引设置为等于0。 \n",
    "# 第三个参数是目标的优先级。\n",
    "# 第四个参数是优化低优先级目标时，这个目标可以退化的相对容差。\n",
    "# 第五个参数是此目标的名称。\n",
    "# 分层或字典式方法为每个目标分配优先级，并按降序优先级顺序优化目标。 \n",
    "# 对于这个问题，我们有两个目标，主要目标具有最高优先级，等于2。 \n",
    "# 当次要目标被最小化时，由于相对容差为0.2，我们只能\n",
    "# 将额外工人的最小数量增加至多20%。 \n",
    "# 例如，如果额外工人的最小数量是10，那么在优化次要目标时，\n",
    "# 我们最多可以有12名额外工人。\n",
    "\n",
    "m.setObjectiveN(totSlack, index=0, priority=2, reltol=0.2, name='TotalSlack')"
   ]
  },
  {
   "cell_type": "markdown",
   "metadata": {},
   "source": [
    "次要目标是平衡工人之间的工作量。为此，我们最小化分配给工人的最大班次数与最小班次数之间的差异。即\n",
    "$$\n",
    "\\text{Min} \\; (\\text{maxShift}  -  \\text{minShift}) \n",
    "$$ "
   ]
  },
  {
   "cell_type": "code",
   "execution_count": null,
   "metadata": {},
   "outputs": [],
   "source": [
    "# 设置次要目标。\n",
    "\n",
    "# 次要目标称为公平性，其目标是平衡分配给雇佣工人的工作量。 \n",
    "# 为了平衡分配给雇佣工人的工作量，我们可以最小化分配给雇佣工人的\n",
    "# 最大班次数与分配给雇佣工人的最小班次数之间的差异。\n",
    "\n",
    "m.setObjectiveN(maxShift - minShift, index=1, priority=1, name='Fairness')"
   ]
  },
  {
   "cell_type": "code",
   "execution_count": null,
   "metadata": {},
   "outputs": [],
   "source": [
    "# 保存模型公式以供检查\n",
    "\n",
    "m.write('workforce.lp')"
   ]
  },
  {
   "cell_type": "code",
   "execution_count": null,
   "metadata": {},
   "outputs": [
    {
     "name": "stdout",
     "output_type": "stream",
     "text": [
      "Gurobi Optimizer version 9.1.0 build v9.1.0rc0 (win64)\n",
      "Thread count: 4 physical cores, 8 logical processors, using up to 8 threads\n",
      "Optimize a model with 22 rows, 96 columns and 180 nonzeros\n",
      "Model fingerprint: 0x8f5c4720\n",
      "Model has 2 general constraints\n",
      "Variable types: 24 continuous, 72 integer (72 binary)\n",
      "Coefficient statistics:\n",
      "  Matrix range     [1e+00, 1e+00]\n",
      "  Objective range  [1e+00, 1e+00]\n",
      "  Bounds range     [1e+00, 1e+00]\n",
      "  RHS range        [2e+00, 7e+00]\n",
      "\n",
      "---------------------------------------------------------------------------\n",
      "Multi-objectives: starting optimization with 2 objectives ... \n",
      "---------------------------------------------------------------------------\n",
      "\n",
      "Multi-objectives: applying initial presolve ...\n",
      "---------------------------------------------------------------------------\n",
      "\n",
      "Presolve added 10 rows and 22 columns\n",
      "Presolve time: 0.00s\n",
      "Presolved: 32 rows and 118 columns\n",
      "---------------------------------------------------------------------------\n",
      "\n",
      "Multi-objectives: optimize objective 1 (TotalSlack) ...\n",
      "---------------------------------------------------------------------------\n",
      "\n",
      "Presolve added 7 rows and 0 columns\n",
      "Presolve removed 0 rows and 24 columns\n",
      "Presolve time: 0.00s\n",
      "Presolved: 39 rows, 94 columns, 184 nonzeros\n",
      "Presolved model has 7 SOS constraint(s)\n",
      "Variable types: 16 continuous, 78 integer (64 binary)\n",
      "Found heuristic solution: objective 11.0000000\n",
      "Found heuristic solution: objective 6.0000000\n",
      "\n",
      "Root relaxation: cutoff, 0 iterations, 0.00 seconds\n",
      "\n",
      "Explored 0 nodes (0 simplex iterations) in 0.03 seconds\n",
      "Thread count was 8 (of 8 available processors)\n",
      "\n",
      "Solution count 2: 6 11 \n",
      "\n",
      "Optimal solution found (tolerance 1.00e-04)\n",
      "Best objective 6.000000000000e+00, best bound 6.000000000000e+00, gap 0.0000%\n",
      "---------------------------------------------------------------------------\n",
      "\n",
      "Multi-objectives: optimize objective 2 (Fairness) ...\n",
      "---------------------------------------------------------------------------\n",
      "\n",
      "\n",
      "Loaded user MIP start with objective 10\n",
      "\n",
      "Presolve added 7 rows and 0 columns\n",
      "Presolve removed 0 rows and 15 columns\n",
      "Presolve time: 0.00s\n",
      "Presolved: 40 rows, 103 columns, 241 nonzeros\n",
      "Presolved model has 7 SOS constraint(s)\n",
      "Variable types: 16 continuous, 87 integer (80 binary)\n",
      "\n",
      "Root relaxation: objective 3.333333e-01, 52 iterations, 0.00 seconds\n",
      "\n",
      "    Nodes    |    Current Node    |     Objective Bounds      |     Work\n",
      " Expl Unexpl |  Obj  Depth IntInf | Incumbent    BestBd   Gap | It/Node Time\n",
      "\n",
      "     0     0    0.33333    0   16   10.00000    0.33333  96.7%     -    0s\n",
      "H    0     0                       1.0000000    0.33333  66.7%     -    0s\n",
      "     0     0     cutoff    0         1.00000    1.00000  0.00%     -    0s\n",
      "\n",
      "Cutting planes:\n",
      "  Gomory: 8\n",
      "  Implied bound: 1\n",
      "  RLT: 6\n",
      "  Relax-and-lift: 1\n",
      "\n",
      "Explored 1 nodes (79 simplex iterations) in 0.07 seconds\n",
      "Thread count was 8 (of 8 available processors)\n",
      "\n",
      "Solution count 2: 1 10 \n",
      "\n",
      "Optimal solution found (tolerance 1.00e-04)\n",
      "Best objective 1.000000000000e+00, best bound 1.000000000000e+00, gap 0.0000%\n",
      "\n",
      "---------------------------------------------------------------------------\n",
      "Multi-objectives: solved in 0.08 seconds, solution count 3\n",
      "\n"
     ]
    }
   ],
   "source": [
    "# 优化\n",
    "# 此方法运行优化引擎来解决模型对象m中的MIP问题\n",
    "m.optimize()"
   ]
  },
  {
   "cell_type": "code",
   "execution_count": null,
   "metadata": {},
   "outputs": [],
   "source": [
    "# Status属性提供模型对象m的当前优化状态\n",
    "# 在workforce模型中，我们检查模型是否不可行或无界，并报告这种情况\n",
    "status = m.Status\n",
    "if status == GRB.Status.INF_OR_UNBD or status == GRB.Status.INFEASIBLE  or status == GRB.Status.UNBOUNDED:\n",
    "    print('由于模型不可行或无界，无法求解')\n",
    "    sys.exit(0)\n",
    "# 如果模型的优化状态由于其他原因不是最优的，我们报告这种情况。\n",
    "if status != GRB.Status.OPTIMAL:\n",
    "    print('优化被停止，状态为 ' + str(status))\n",
    "    sys.exit(0)"
   ]
  },
  {
   "cell_type": "code",
   "execution_count": null,
   "metadata": {},
   "outputs": [
    {
     "name": "stdout",
     "output_type": "stream",
     "text": [
      "                    KPI Value\n",
      "0  Total slack required   7.0\n",
      "--------------------------------------------------\n",
      "Shifts\n",
      "  Worker  Number of shifts\n",
      "0    Amy               7.0\n",
      "1    Bob               7.0\n",
      "2  Cathy               7.0\n",
      "3    Dan               8.0\n",
      "4     Ed               7.0\n",
      "5   Fred               7.0\n",
      "6     Gu               8.0\n"
     ]
    },
    {
     "data": {
      "image/png": "[encoded data removed]",
      "text/plain": [
       "<Figure size 432x288 with 1 Axes>"
      ]
     },
     "metadata": {
      "needs_background": "light"
     },
     "output_type": "display_data"
    },
    {
     "name": "stdout",
     "output_type": "stream",
     "text": [
      "--------------------------------------------------\n",
      "Assigments\n",
      "Symbols: '-': not working, '*': working\n",
      "  worker Mon1 Tue2 Wed3 Thu4 Fri5 Sat6 Sun7 Mon8 Tue9 Wed10 Thu11 Fri12 Sat13 Sun14\n",
      "0    Amy    -    -    *    -    *    -    *    -    -     -     *     *     *     *\n",
      "1    Bob    *    *    -    -    *    *    -    *    -     -     *     -     *     -\n",
      "2  Cathy    -    -    -    *    *    -    *    -    *     *     -     *     *     -\n",
      "3    Dan    -    *    *    -    -    *    -    -    -     *     *     *     *     *\n",
      "4     Ed    *    -    -    *    *    -    *    -    *     -     *     -     *     -\n",
      "5   Fred    *    -    *    -    -    *    -    *    -     -     -     *     *     *\n",
      "6     Gu    -    -    *    -    *    *    *    -    -     *     -     *     *     *\n"
     ]
    }
   ],
   "source": [
    "# 打印总松弛变量和每个工人工作的班次数\n",
    "# 这个优化问题的关键绩效指标是满足需求所需的额外工人数量\n",
    "# 以及每个雇佣工人正在工作的班次数。\n",
    "solution = {}\n",
    "shifts_sol = {}\n",
    "solution['需要的总松弛变量'] = str(totSlack.X)\n",
    "assignments_all = {}\n",
    "gant={}\n",
    "\n",
    "assignments = dict()\n",
    "for [w, s] in availability:\n",
    "    if x[w, s].x == 1:\n",
    "        if w in assignments:\n",
    "            assignments[w].append(s)\n",
    "        else:\n",
    "            assignments[w] = [s]\n",
    "\n",
    "\n",
    "print(pd.DataFrame.from_records(list(solution.items()), columns=['KPI', '值']))\n",
    "print('-'*50)\n",
    "\n",
    "for w in workers:\n",
    "    shifts_sol[w]=totShifts[w].X\n",
    "    assignments_all[w]=assignments.get(w, [])\n",
    "\n",
    "print('班次')\n",
    "print(pd.DataFrame.from_records(list(shifts_sol.items()), columns=['工人', '班次数']))\n",
    "    \n",
    "y_pos = np.arange(len(shifts_sol.keys())) \n",
    "plt.bar(y_pos,shifts_sol.values() , align='center')\n",
    "plt.xticks(y_pos, shifts_sol.keys())\n",
    "plt.show()\n",
    "\n",
    "print('-'*50)\n",
    "for w in assignments_all:\n",
    "    gant[w] = [w]\n",
    "    for d in shifts:\n",
    "        gant[w].append('*' if d in assignments_all[w] else '-')\n",
    "\n",
    "print('分配')\n",
    "print('符号: \\'-\\': 不工作, \\'*\\': 工作')\n",
    "pd.set_option('display.width', 1000)\n",
    "print(pd.DataFrame.from_records(list(gant.values()), columns=['工人']+shifts))"
   ]
  },
  {
   "cell_type": "markdown",
   "metadata": {},
   "source": [
    "## 分析\n",
    "\n",
    "在规划期内满足班次需求所需的额外工人总数是七名。\n",
    "\n",
    "柱状图显示了每个雇佣工人在规划期内将要工作的班次数量。可以看出，有七名额外工人的情况下，雇佣工人的工作量相当平衡。\n",
    "\n",
    "最后一个表格显示了在规划期内每个雇佣工人在哪一天工作。"
   ]
  },
  {
   "cell_type": "markdown",
   "metadata": {},
   "source": [
    "## 结论\n",
    "\n",
    "在这个Jupyter Notebook中，我们讨论了服务行业常见的人力资源调度优化问题。\n",
    "考虑一个服务型企业，它为未来两周制定人力资源计划。每个工作日只有一个班次。每个工作日的班次可能有不同的工人需求。该服务企业可以从中介机构雇佣额外工人以满足班次需求。该服务企业希望最小化需要雇佣的额外工人数量，作为次要目标，它希望平衡雇佣工人的工作量。\n",
    "\n",
    "该问题被构建为一个多目标混合整数规划（MIP）模型，使用Gurobi Python API实现并使用Gurobi优化器求解。\n",
    "\n",
    "详细解释了处理多目标函数问题的分层方法。\n"
   ]
  },
  {
   "cell_type": "markdown",
   "metadata": {},
   "source": [
    "版权所有 © 2020 Gurobi Optimization, LLC"
   ]
  }
 ],
 "metadata": {
  "kernelspec": {
   "display_name": "Python 3",
   "language": "python",
   "name": "python3"
  },
  "language_info": {
   "codemirror_mode": {
    "name": "ipython",
    "version": 3
   },
   "file_extension": ".py",
   "mimetype": "text/x-python",
   "name": "python",
   "nbconvert_exporter": "python",
   "pygments_lexer": "ipython3",
   "version": "3.7.1"
  }
 },
 "nbformat": 4,
 "nbformat_minor": 2
}
