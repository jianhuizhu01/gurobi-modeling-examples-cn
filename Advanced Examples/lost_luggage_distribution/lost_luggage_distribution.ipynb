{
 "cells": [
  {
   "cell_type": "markdown",
   "metadata": {},
   "source": [
    "# 行李配送问题\n",
    "\n",
    "## 目标和前提条件\n",
    "\n",
    "在这个例子中，您将学习如何使用数学优化来解决带时间窗口的车辆路径问题，该问题涉及帮助一家公司确定运送丢失或延误行李到其合法所有者所需的最少货车数量，并确定货车到客户的最优分配方案。\n",
    "\n",
    "这个模型是 H. Paul Williams 所著《数学规划中的模型构建》第五版第287-289页和第343-344页的第27个例子。\n",
    "\n",
    "这是一个高级建模示例，我们假设您了解Python和Gurobi Python API，并且具有构建数学优化模型的高级知识。通常，这些示例的目标函数和/或约束条件比较复杂，或需要使用Gurobi Python API的高级功能。\n",
    "\n",
    "**下载代码库** <br />\n",
    "您可以通过点击[这里](https://github.com/Gurobi/modeling-examples/archive/master.zip)下载包含此示例和其他示例的代码库。"
   ]
  },
  {
   "cell_type": "markdown",
   "metadata": {},
   "source": [
    "## 问题描述\n",
    "\n",
    "一家拥有6辆货车的小公司与多家航空公司签订了合同，每天晚上6点从希思罗机场接收伦敦地区客户的丢失或延误行李。合同规定每位客户必须在晚上8点前收到他们的行李。公司需要一个模型来建议他们需要使用的最少货车数量，以及每辆货车应该按什么顺序为哪些客户送货。每辆货车在实际使用中没有容量限制。每辆货车可以装载两小时内需要配送的所有行李。为了解决这个问题，我们可以制定一个优化模型，以最小化需要使用的货车数量。"
   ]
  },
  {
   "cell_type": "markdown",
   "metadata": {},
   "source": [
    "## 模型构建\n",
    "\n",
    "### 集合和索引\n",
    "\n",
    "$i,j \\in \\text{位置集合} \\equiv L=\\{0,1..(n-1)\\}$：位置集合，其中 $0$ 是单一仓库（希思罗机场）的索引，$n$ 是位置数量。\n",
    "\n",
    "$k \\in \\text{货车集合} \\equiv V=\\{0..K-1\\}$：货车的索引和集合，其中 $K$ 是货车数量。\n",
    "\n",
    "$S_k \\in S$：货车 $k$ 的路线，即该货车访问的位置子集。\n",
    "\n",
    "### 参数\n",
    "\n",
    "$t_{i,j} \\in \\mathbb{R}^+$：从位置 $i$ 到位置 $j$ 的行驶时间。\n",
    "\n",
    "### 决策变量\n",
    "\n",
    "$x_{i,j,k} \\in \\{0,1\\}$：二元变量，如果货车 $k$ 直接从位置 $i$ 访问并前往位置 $j$ 则为1，否则为0。\n",
    "\n",
    "$y_{i,k} \\in \\{0,1\\}$：二元变量，如果货车 $k$ 访问位置 $i$ 则为1，否则为0。\n",
    "\n",
    "$z_{k} \\in \\{0,1\\}$：二元变量，如果使用货车 $k \\in \\{1,2..K\\}$ 则为1，否则为0。\n",
    "\n",
    "### 目标函数\n",
    "\n",
    "**货车数量**：最小化使用的货车数量。\n",
    "\n",
    "\\begin{equation}\n",
    "\\text{最小化} \\quad \\sum_{k = 1}^{K} z_k\n",
    "\\end{equation}\n",
    "\n",
    "### 约束条件\n",
    "\n",
    "**货车利用率**：对于所有非仓库位置（即 $i > 0$），如果该位置被货车 $k$ 访问，则该货车被使用。\n",
    "\n",
    "\\begin{equation}\n",
    "y_{i,k} \\leq z_{k} \\quad \\forall i \\in L \\setminus \\{0\\}, \\; k \\in V\n",
    "\\end{equation}\n",
    "\n",
    "**行驶时间**：任何货车行驶时间不超过120分钟。注意我们不考虑返回仓库的行驶时间。\n",
    "\n",
    "\\begin{equation}\n",
    "\\sum_{i \\in L} \\sum_{j \\in L \\setminus \\{0\\}} t_{i,j} \\cdot x_{i,j,k} \\leq 120 \\quad \\forall k \\in V\n",
    "\\end{equation}\n",
    "\n",
    "**访问所有客户**：每个客户位置恰好被一辆货车访问。\n",
    "\n",
    "\\begin{equation}\n",
    "\\sum_{k \\in V} y_{i,k} = 1 \\quad \\forall i \\in L \\setminus \\{0\\}\n",
    "\\end{equation}\n",
    "\n",
    "**仓库**：希思罗机场被每辆使用的货车访问。（注意：为了提高性能，我们通过分解这个约束条件与书中的版本有所不同）。\n",
    "\n",
    "\\begin{equation}\n",
    "y_{0,k} = z_k \\quad \\forall k \\in V\n",
    "\\end{equation}\n",
    "\n",
    "**到达位置**：如果位置 $j$ 被货车 $k$ 访问，则该货车必须从另一个位置 $i$ 到达。\n",
    "\n",
    "\\begin{equation}\n",
    "\\sum_{i \\in L} x_{i,j,k} = y_{j,k} \\quad \\forall j \\in L, \\; k \\in V\n",
    "\\end{equation}\n",
    "\n",
    "**离开位置**：如果货车 $k$ 离开位置 $j$，则该货车必须前往另一个位置 $i$。\n",
    "\n",
    "\\begin{equation}\n",
    "\\sum_{i \\in L} x_{j,i,k} = y_{j,k} \\quad \\forall j \\in L, \\; k \\in V\n",
    "\\end{equation}\n",
    "\n",
    "**打破对称性**：\n",
    "\n",
    "\\begin{equation}\n",
    "\\sum_{i \\in L} y_{i,k} \\geq \\sum_{i \\in L} y_{i,k+1} \\quad \\forall k \\in \\{0..K-1\\}\n",
    "\\end{equation}\n",
    "\n",
    "**消除子回路**：这些约束确保每条货车路线中不存在环路。\n",
    "\n",
    "\\begin{equation}\n",
    "\\sum_{(i,j) \\in S_k}x_{i,j,k} \\leq |S_k|-1 \\quad \\forall k \\in K, \\; S_k \\subseteq L\n",
    "\\end{equation}"
   ]
  },
  {
   "cell_type": "markdown",
   "metadata": {},
   "source": [
    "## Python实现\n",
    "\n",
    "我们导入Gurobi Python模块和其他Python库。"
   ]
  },
  {
   "cell_type": "code",
   "execution_count": null,
   "metadata": {},
   "outputs": [],
   "source": [
    "%pip install gurobipy"
   ]
  },
  {
   "cell_type": "code",
   "execution_count": null,
   "metadata": {},
   "outputs": [],
   "source": [
    "import sys\n",
    "import math\n",
    "import random\n",
    "from itertools import permutations\n",
    "import gurobipy as gp\n",
    "from gurobipy import GRB\n",
    "\n",
    "# tested with Python 3.7.0 & Gurobi 9.1.0"
   ]
  },
  {
   "cell_type": "markdown",
   "metadata": {},
   "source": [
    "## 输入数据\n",
    "我们定义模型的所有输入数据。用户定义包括仓库在内的位置数量和货车数量。我们随机确定每个位置的坐标，然后计算每对位置之间的欧几里得距离。我们假设速度为60公里/小时，即1公里/分钟。因此行驶时间等于距离。"
   ]
  },
  {
   "cell_type": "code",
   "execution_count": null,
   "metadata": {},
   "outputs": [],
   "source": [
    "# 包括仓库在内的位置数量。仓库的索引是0\n",
    "n = 17\n",
    "locations = [*range(n)]\n",
    "\n",
    "# 货车数量\n",
    "K = 6\n",
    "vans = [*range(K)]\n",
    "\n",
    "# 创建n个随机点\n",
    "# 仓库位于(0,0)坐标\n",
    "random.seed(1)\n",
    "points = [(0, 0)]\n",
    "points += [(random.randint(0, 50), random.randint(0, 50)) for i in range(n-1)]\n",
    "\n",
    "# 每对点之间的欧几里得距离字典\n",
    "# 假设速度为60公里/小时，即1公里/分钟。因此行驶时间等于距离\n",
    "time = {(i, j):\n",
    "        math.sqrt(sum((points[i][k]-points[j][k])**2 for k in range(2)))\n",
    "        for i in locations for j in locations if i != j}"
   ]
  },
  {
   "cell_type": "markdown",
   "metadata": {},
   "source": [
    "## 模型部署\n",
    "\n",
    "我们创建一个模型和变量。决策变量确定每辆货车访问客户子集的顺序、每辆货车访问哪些客户，以及是否使用某辆货车。"
   ]
  },
  {
   "cell_type": "code",
   "execution_count": null,
   "metadata": {},
   "outputs": [],
   "source": [
    "m = gp.Model('lost_luggage_distribution')\n",
    "\n",
    "# 创建变量：\n",
    "\n",
    "# x=1，如果货车k直接从位置i访问并前往位置j\n",
    "x = m.addVars(time.keys(), vans, vtype=GRB.BINARY, name='FromToBy')\n",
    "\n",
    "# y=1，如果客户i被货车k访问\n",
    "y = m.addVars(locations, vans, vtype=GRB.BINARY, name='visitBy')\n",
    "\n",
    "# 使用的货车数量是决策变量\n",
    "z = m.addVars(vans, vtype=GRB.BINARY, name='used')\n",
    "\n",
    "# 每辆货车的行驶时间\n",
    "t = m.addVars(vans, ub=120, name='travelTime')\n",
    "\n",
    "# 最大行驶时间\n",
    "s = m.addVar(name='maxTravelTime')"
   ]
  },
  {
   "cell_type": "markdown",
   "metadata": {},
   "source": [
    "## 约束条件\n",
    "\n",
    "对于所有非仓库位置（即 $i > 0$），如果该位置被货车 $k$ 访问，则该货车被使用。"
   ]
  },
  {
   "cell_type": "code",
   "execution_count": null,
   "metadata": {},
   "outputs": [],
   "source": [
    "# 货车使用约束\n",
    "visitCustomer = m.addConstrs((y[i,k] <= z[k]  for k in vans for i in locations if i > 0), name='visitCustomer' )"
   ]
  },
  {
   "cell_type": "markdown",
   "metadata": {},
   "source": [
    "任何货车行驶时间不超过120分钟。我们对原始H.P. Williams版本做了小改动，为每辆货车引入了一个行驶时间的松弛变量t[k]。"
   ]
  },
  {
   "cell_type": "code",
   "execution_count": null,
   "metadata": {},
   "outputs": [],
   "source": [
    "# 行驶时间约束\n",
    "# 不包括返回仓库的时间\n",
    "travelTime = m.addConstrs((gp.quicksum(time[i,j]*x[i,j,k] for i,j in time.keys() if j > 0) == t[k] for k in vans), \n",
    "                          name='travelTimeConstr' )"
   ]
  },
  {
   "cell_type": "markdown",
   "metadata": {},
   "source": [
    "每个客户位置恰好被一辆货车访问"
   ]
  },
  {
   "cell_type": "code",
   "execution_count": null,
   "metadata": {},
   "outputs": [],
   "source": [
    "# 访问所有客户\n",
    "visitAll = m.addConstrs((y.sum(i,'*') == 1 for i in locations if i > 0), name='visitAll' )"
   ]
  },
  {
   "cell_type": "markdown",
   "metadata": {},
   "source": [
    "希思罗机场（仓库）被每辆使用的货车访问。"
   ]
  },
  {
   "cell_type": "code",
   "execution_count": null,
   "metadata": {},
   "outputs": [],
   "source": [
    "# 仓库约束\n",
    "depotConstr = m.addConstrs((y[0, k] == z[k] for k in vans), name='depotConstr' )"
   ]
  },
  {
   "cell_type": "markdown",
   "metadata": {},
   "source": [
    "如果位置 j 被货车 k 访问，则该货车必须从另一个位置 i 到达。"
   ]
  },
  {
   "cell_type": "code",
   "execution_count": null,
   "metadata": {},
   "outputs": [],
   "source": [
    "# 到达客户位置约束\n",
    "ArriveConstr = m.addConstrs((x.sum('*',j,k) == y[j,k] for j,k in y.keys()), name='ArriveConstr' )"
   ]
  },
  {
   "cell_type": "markdown",
   "metadata": {},
   "source": [
    "如果货车 k 离开位置 j，则该货车必须前往另一个位置 i。"
   ]
  },
  {
   "cell_type": "code",
   "execution_count": null,
   "metadata": {},
   "outputs": [],
   "source": [
    "# 离开客户位置约束\n",
    "LeaveConstr = m.addConstrs((x.sum(j,'*',k) == y[j,k] for j,k in y.keys()), name='LeaveConstr' )"
   ]
  },
  {
   "cell_type": "markdown",
   "metadata": {},
   "source": [
    "打破对称性约束。"
   ]
  },
  {
   "cell_type": "code",
   "execution_count": null,
   "metadata": {},
   "outputs": [],
   "source": [
    "breakSymm = m.addConstrs((y.sum('*',k-1) >= y.sum('*',k) for k in vans if k>0), name='breakSymm' )"
   ]
  },
  {
   "cell_type": "markdown",
   "metadata": {},
   "source": [
    "将最大行驶时间与每辆货车的行驶时间关联起来"
   ]
  },
  {
   "cell_type": "code",
   "execution_count": null,
   "metadata": {},
   "outputs": [],
   "source": [
    "maxTravelTime = m.addConstrs((t[k] <= s for k in vans), name='maxTravelTimeConstr')\n",
    "\n",
    "# Alternately, as a general constraint:\n",
    "# maxTravelTime = m.addConstr(s == gp.max_(t), name='maxTravelTimeConstr')"
   ]
  },
  {
   "cell_type": "markdown",
   "metadata": {},
   "source": [
    "### 目标函数\n",
    "我们使用两个层次的目标：\n",
    "- 首先，最小化使用的货车数量\n",
    "- 然后，最小化时间限制约束的最大值"
   ]
  },
  {
   "cell_type": "code",
   "execution_count": null,
   "metadata": {},
   "outputs": [],
   "source": [
    "m.ModelSense = GRB.MINIMIZE\n",
    "m.setObjectiveN(z.sum(), 0, priority=1, name=\"Number of vans\")\n",
    "m.setObjectiveN(s, 1, priority=0, name=\"Travel time\")"
   ]
  },
  {
   "cell_type": "markdown",
   "metadata": {},
   "source": [
    "### 回调函数定义\n",
    "子回路约束防止货车在不经过希思罗机场（起点或终点）的情况下访问一组目的地。由于这些约束的数量呈指数级增长，我们不想将它们全部添加到模型中。相反，我们使用回调函数来找到违反的子回路约束，并将它们作为延迟约束添加到模型中。"
   ]
  },
  {
   "cell_type": "code",
   "execution_count": null,
   "metadata": {},
   "outputs": [],
   "source": [
    "# 回调函数 - 使用延迟约束消除子回路\n",
    "def subtourelim(model, where):\n",
    "    if where == GRB.Callback.MIPSOL:\n",
    "        # 创建解中选择的边的列表\n",
    "        vals = model.cbGetSolution(model._x)\n",
    "        selected = gp.tuplelist((i,j) for i, j, k in model._x.keys()\n",
    "                                if vals[i, j, k] > 0.5)\n",
    "        # 在选定的边列表中找到最短环路\n",
    "        tour = subtour(selected)\n",
    "        if len(tour) < n: \n",
    "            for k in vans:\n",
    "                model.cbLazy(gp.quicksum(model._x[i, j, k]\n",
    "                                         for i, j in permutations(tour, 2))\n",
    "                             <= len(tour)-1)\n",
    "\n",
    "\n",
    "# 给定边的元组列表，找出不包含仓库(0)的最短子回路\n",
    "def subtour(edges):\n",
    "    unvisited = list(range(1, n))\n",
    "    cycle = range(n+1)  # 初始长度多一个城市\n",
    "    while unvisited:\n",
    "        thiscycle = []\n",
    "        neighbors = unvisited\n",
    "        while neighbors:\n",
    "            current = neighbors[0]\n",
    "            thiscycle.append(current)\n",
    "            if current != 0:\n",
    "                unvisited.remove(current)\n",
    "            neighbors = [j for i, j in edges.select(current, '*')\n",
    "                         if j == 0 or j in unvisited]\n",
    "        if 0 not in thiscycle and len(cycle) > len(thiscycle):\n",
    "            cycle = thiscycle\n",
    "    return cycle"
   ]
  },
  {
   "cell_type": "markdown",
   "metadata": {},
   "source": [
    "## 求解模型"
   ]
  },
  {
   "cell_type": "code",
   "execution_count": null,
   "metadata": {},
   "outputs": [],
   "source": [
    "# 验证模型公式\n",
    "m.write('lost_luggage_distribution.lp')\n",
    "\n",
    "# 运行优化引擎\n",
    "m._x = x\n",
    "m.Params.LazyConstraints = 1\n",
    "m.optimize(subtourelim)"
   ]
  },
  {
   "cell_type": "markdown",
   "metadata": {},
   "source": [
    "## 分析\n",
    "\n",
    "下面是每辆使用的货车的最优路线和总行李配送时间报告。"
   ]
  },
  {
   "cell_type": "code",
   "execution_count": null,
   "metadata": {
    "scrolled": true
   },
   "outputs": [],
   "source": [
    "# 打印最优路线\n",
    "for k in vans:\n",
    "    route = gp.tuplelist((i,j) for i,j in time.keys() if x[i,j,k].X > 0.5)\n",
    "    if route:\n",
    "        i = 0\n",
    "        print(f\"货车 {k} 的路线: {i}\", end='')\n",
    "        while True:\n",
    "            i = route.select(i, '*')[0][1]\n",
    "            print(f\" -> {i}\", end='')\n",
    "            if i == 0:\n",
    "                break\n",
    "        print(f\". 行驶时间: {round(t[k].X,2)} 分钟\")\n",
    "\n",
    "print(f\"最大行驶时间: {round(s.X,2)}\")"
   ]
  },
  {
   "cell_type": "markdown",
   "metadata": {},
   "source": [
    "## 参考文献\n",
    "\n",
    "H. Paul Williams，《数学规划中的模型构建》，第五版。\n",
    "\n",
    "Copyright © 2020 Gurobi Optimization, LLC"
   ]
  }
 ],
 "metadata": {
  "kernelspec": {
   "display_name": "Python 3",
   "language": "python",
   "name": "python3"
  },
  "language_info": {
   "codemirror_mode": {
    "name": "ipython",
    "version": 3
   },
   "file_extension": ".py",
   "mimetype": "text/x-python",
   "name": "python",
   "nbconvert_exporter": "python",
   "pygments_lexer": "ipython3",
   "version": "3.8.2"
  }
 },
 "nbformat": 4,
 "nbformat_minor": 2
}
