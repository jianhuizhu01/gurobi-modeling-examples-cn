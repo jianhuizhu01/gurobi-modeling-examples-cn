{
 "cells": [
  {
   "cell_type": "markdown",
   "metadata": {},
   "source": [
    "# 去中心化规划\n",
    "\n",
    "## 目标和前提条件\n",
    "\n",
    "准备好接受数学优化建模的挑战了吗？通过这个例子来测试您的技能,在这里您将学习如何建模和求解一个去中心化规划问题。您需要找出 - 给定一个公司的部门集合,以及这些部门可能迁移的潜在城市 - 为每个部门确定'最佳'位置,以最大化毛利润。\n",
    "\n",
    "这个模型是 H. Paul Williams 所著《数学规划中的模型构建》第五版中的示例 10,见第 265 页和第 317-319 页。\n",
    "\n",
    "这个建模示例属于高级水平,我们假设您已掌握 Python 和 Gurobi Python API,并且具备构建数学优化模型的高级知识。通常,这些示例的目标函数和/或约束条件比较复杂,或需要使用 Gurobi Python API 的高级功能。\n",
    "\n",
    "**下载代码库** <br /> \n",
    "您可以通过点击[这里](https://github.com/Gurobi/modeling-examples/archive/master.zip)下载包含此示例和其他示例的代码库。"
   ]
  },
  {
   "cell_type": "markdown",
   "metadata": {},
   "source": [
    "## 问题描述\n",
    "\n",
    "一家大公司想要将其部分部门迁出伦敦。这样做在某些方面会降低成本(如房价更便宜、政府激励、更容易招聘等),但在其他方面会增加成本(如部门之间的通信成本)。已经计算出了每个部门在所有可能位置的成本影响。\n",
    "目标是确定每个部门的位置,以最大化搬迁带来的成本降低与通信成本增加之间的总差额。\n",
    "\n",
    "该公司包括五个部门(A、B、C、D和E)。可选择的搬迁城市有布里斯托尔和布莱顿,或者部门可以留在伦敦。这些城市(包括伦敦)中的任何一个都不能安置超过三个部门。"
   ]
  },
  {
   "cell_type": "markdown",
   "metadata": {},
   "source": [
    "## 模型构建\n",
    "\n",
    "### 集合和索引\n",
    "\n",
    "$d,d2 \\in \\text{Departments}=\\{A,B,C,D,E\\}$\n",
    "\n",
    "$c,c2 \\in \\text{Cities}=\\{\\text{布里斯托尔}, \\text{布莱顿}, \\text{伦敦}\\}$\n",
    "\n",
    "### 参数\n",
    "\n",
    "$\\text{benefit}_{d,c} \\in \\mathbb{R}^+$: 将部门 $d$ 搬迁到城市 $c$ 获得的收益(每年千美元)\n",
    "\n",
    "$\\text{communicationCost}_{d,c,d2,c2} \\in \\mathbb{R}^+$: 当部门 $d$ 搬迁到城市 $c$ 且部门 $d2$ 搬迁到城市 $c2$ 时产生的通信成本(每年千美元)\n",
    "\n",
    "我们定义集合 $dcd2c2 = \\{(d,c,d2,c2) \\in \\text{Departments} \\times \\text{Cities} \\times \\text{Departments} \\times \\text{Cities}: \\text{communicationCost}_{d,c,d2,c2} > 0  \\}$\n",
    "\n",
    "### 决策变量\n",
    "\n",
    "$\\text{locate}_{d,c} \\in \\{0,1 \\}$: 如果部门 $d$ 位于城市 $c$ 则该二元变量为1,否则为0\n",
    "\n",
    "$y_{d,c,d2,c2} = \\text{locate}_{d,c}*\\text{locate}_{d2,c2} \\in \\{0,1 \\}$: 当部门 $d$ 位于城市 $c$ 且部门 $d2$ 位于城市 $c2$ 时该辅助二元变量为1,否则为0\n",
    "\n",
    "\n",
    "### 约束条件\n",
    "\n",
    "**部门位置**: 每个部门必须且只能位于一个城市\n",
    "\n",
    "\\begin{equation}\n",
    "\\sum_{c \\in \\text{Cities}} \\text{locate}_{d,c} = 1 \\quad \\forall d \\in \\text{Departments}\n",
    "\\end{equation}\n",
    "\n",
    "**部门数量限制**: 任何城市容纳的部门不得超过三个\n",
    "\n",
    "\\begin{equation}\n",
    "\\sum_{d \\in \\text{Departments}} \\text{locate}_{d,c} \\leq 3 \\quad \\forall c \\in \\text{Cities}\n",
    "\\end{equation}\n",
    "\n",
    "**逻辑约束**: \n",
    "\n",
    "- 如果 $y_{d,c,d2,c2} = 1$ 则 $\\text{locate}_{d,c} = 1$ 且 $\\text{locate}_{d2,c2} = 1$\n",
    "\n",
    "\\begin{equation}\n",
    "y_{d,c,d2,c2} \\leq \\text{locate}_{d,c} \\quad \\forall (d,c,d2,c2) \\in dcd2c2\n",
    "\\end{equation}\n",
    "\n",
    "\\begin{equation}\n",
    "y_{d,c,d2,c2} \\leq \\text{locate}_{d2,c2} \\quad \\forall (d,c,d2,c2) \\in dcd2c2\n",
    "\\end{equation}\n",
    "\n",
    "- 如果 $\\text{locate}_{d,c} = 1$ 且 $\\text{locate}_{d2,c2} = 1$ 则 $y_{d,c,d2,c2} = 1$\n",
    "\n",
    "\n",
    "\\begin{equation}\n",
    "\\text{locate}_{d,c} + \\text{locate}_{d2,c2} - y_{d,c,d2,c2} \\leq 1 \\quad  \\forall (d,c,d2,c2) \\in dcd2c2\n",
    "\\end{equation}\n",
    "\n",
    "### 目标函数\n",
    "\n",
    "**毛利润**: 最大化搬迁的毛利润\n",
    "\n",
    "\\begin{equation}\n",
    "\\text{最大化} \\quad Z = \\sum_{d \\in \\text{Departments}} \\sum_{c \\in \\text{Cities}} \\text{benefit}_{d,c}*\\text{locate}_{d,c} -\n",
    "\\sum_{d,c,d2,c2 \\in dcd2c2} \\text{communicationCost}_{d,c,d2,c2}*y_{d,c,d2,c2}\n",
    "\\end{equation}\n",
    "\n",
    "这个去中心化问题的线性整数规划表述实际上是此问题的二次分配表述的线性化。使用 Gurobi 9.0,您可以直接求解去中心化问题的二次分配表述,无需引入辅助变量和逻辑约束。\n",
    "\n",
    "### 目标函数\n",
    "\n",
    "**毛利润**: 最大化搬迁的毛利润\n",
    "\n",
    "\\begin{equation}\n",
    "\\text{最大化} \\quad Z = \\sum_{d \\in \\text{Departments}} \\sum_{c \\in \\text{Cities}} \\text{benefit}_{d,c}*\\text{locate}_{d,c} -\n",
    "\\sum_{d,c,d2,c2 \\in dcd2c2} \\text{communicationCost}_{d,c,d2,c2}*\\text{locate}_{d,c}*\\text{locate}_{d2,c2}\n",
    "\\end{equation}\n",
    "\n",
    "### 约束条件\n",
    "\n",
    "**部门位置**: 每个部门必须且只能位于一个城市\n",
    "\n",
    "\\begin{equation}\n",
    "\\sum_{c \\in \\text{Cities}} \\text{locate}_{d,c} = 1 \\quad \\forall d \\in \\text{Departments}\n",
    "\\end{equation}\n",
    "\n",
    "**部门数量限制**: 任何城市容纳的部门不得超过三个\n",
    "\n",
    "\\begin{equation}\n",
    "\\sum_{d \\in \\text{Departments}} \\text{locate}_{d,c} \\leq 3 \\quad \\forall c \\in \\text{Cities}\n",
    "\\end{equation}"
   ]
  },
  {
   "cell_type": "markdown",
   "metadata": {},
   "source": [
    "## Python 实现\n",
    "\n",
    "我们导入 Gurobi Python 模块和其他 Python 库。"
   ]
  },
  {
   "cell_type": "code",
   "execution_count": null,
   "metadata": {},
   "outputs": [],
   "source": [
    "%pip install gurobipy"
   ]
  },
  {
   "cell_type": "code",
   "execution_count": 1,
   "metadata": {},
   "outputs": [],
   "source": [
    "import pandas as pd\n",
    "\n",
    "import gurobipy as gp\n",
    "from gurobipy import GRB\n",
    "\n",
    "# tested with Python 3.11 & Gurobi 11.0"
   ]
  },
  {
   "cell_type": "markdown",
   "metadata": {},
   "source": [
    "## 输入数据\n",
    "\n",
    "我们定义模型所需的所有输入数据。"
   ]
  },
  {
   "cell_type": "code",
   "execution_count": null,
   "metadata": {},
   "outputs": [],
   "source": [
    "# 部门和城市列表\n",
    "\n",
    "Deparments = ['A','B','C','D','E']\n",
    "Cities = ['Bristol', 'Brighton', 'London']\n",
    "\n",
    "# 创建字典来记录搬迁带来的收益（单位：千美元）\n",
    "\n",
    "d2c, benefit = gp.multidict({\n",
    "    ('A', 'Bristol'): 10,\n",
    "    ('A', 'Brighton'): 10,\n",
    "    ('A', 'London'): 0,\n",
    "    ('B', 'Bristol'): 15,\n",
    "    ('B', 'Brighton'): 20,\n",
    "    ('B', 'London'): 0,\n",
    "    ('C', 'Bristol'): 10,\n",
    "    ('C', 'Brighton'): 15,\n",
    "    ('C', 'London'): 0,\n",
    "    ('D', 'Bristol'): 20,\n",
    "    ('D', 'Brighton'): 15,\n",
    "    ('D', 'London'): 0,\n",
    "    ('E', 'Bristol'): 5,\n",
    "    ('E', 'Brighton'): 15,\n",
    "    ('E', 'London'): 0\n",
    "})\n",
    "\n",
    "# 创建字典来记录搬迁产生的通信成本（单位：千美元）\n",
    "\n",
    "dcd2c2, communicationCost = gp.multidict({\n",
    "    ('A','London','C','Bristol'): 13,\n",
    "    ('A','London','C','Brighton'): 9,\n",
    "    ('A','London','C','London'): 10,\n",
    "    ('A','London','D','Bristol'): 19.5,\n",
    "    ('A','London','D','Brighton'): 13.5,\n",
    "    ('A','London','D','London'): 15,\n",
    "    ('B','London','C','Bristol'): 18.2,\n",
    "    ('B','London','C','Brighton'): 12.6,\n",
    "    ('B','London','C','London'): 14,\n",
    "    ('B','London','D','Bristol'): 15.6,\n",
    "    ('B','London','D','Brighton'): 10.8,\n",
    "    ('B','London','D','London'): 12,\n",
    "    ('C','London','E','Bristol'): 26,\n",
    "    ('C','London','E','Brighton'): 18,\n",
    "    ('C','London','E','London'): 20,\n",
    "    ('D','London','E','Bristol'): 9.1,\n",
    "    ('D','London','E','Brighton'): 6.3,\n",
    "    ('D','London','E','London'): 7,\n",
    "    ('A','Bristol','C','Bristol'): 5,\n",
    "    ('A','Bristol','C','Brighton'): 14,\n",
    "    ('A','Bristol','C','London'): 13,\n",
    "    ('A','Bristol','D','Bristol'): 7.5,\n",
    "    ('A','Bristol','D','Brighton'): 21,\n",
    "    ('A','Bristol','D','London'): 19.5,\n",
    "    ('B','Bristol','C','Bristol'): 7,\n",
    "    ('B','Bristol','C','Brighton'): 19.6,\n",
    "    ('B','Bristol','C','London'): 18.2,\n",
    "    ('B','Bristol','D','Bristol'): 6,\n",
    "    ('B','Bristol','D','Brighton'): 16.8,\n",
    "    ('B','Bristol','D','London'): 15.6,\n",
    "    ('C','Bristol','E','Bristol'): 10,\n",
    "    ('C','Bristol','E','Brighton'): 28,\n",
    "    ('C','Bristol','E','London'): 26,\n",
    "    ('D','Bristol','E','Bristol'): 3.5,\n",
    "    ('D','Bristol','E','Brighton'): 9.8, \n",
    "    ('D','Bristol','E','London'): 9.1,\n",
    "    ('A','Brighton','C','Bristol'): 14,\n",
    "    ('A','Brighton','C','Brighton'): 5,\n",
    "    ('A','Brighton','C','London'): 9,\n",
    "    ('A','Brighton','D','Bristol'): 21,\n",
    "    ('A','Brighton','D','Brighton'): 7.5,\n",
    "    ('A','Brighton','D','London'): 13.5,\n",
    "    ('B','Brighton','C','Bristol'): 19.6,\n",
    "    ('B','Brighton','C','Brighton'): 7,\n",
    "    ('B','Brighton','C','London'): 12.6,\n",
    "    ('B','Brighton','D','Bristol'): 16.8,\n",
    "    ('B','Brighton','D','Brighton'): 6,\n",
    "    ('B','Brighton','D','London'): 10.8,\n",
    "    ('C','Brighton','E','Bristol'): 28,\n",
    "    ('C','Brighton','E','Brighton'): 10,\n",
    "    ('C','Brighton','E','London'): 18,\n",
    "    ('D','Brighton','E','Bristol'): 9.8,\n",
    "    ('D','Brighton','E','Brighton'): 3.5,\n",
    "    ('D','Brighton','E','London'): 6.3\n",
    "})"
   ]
  },
  {
   "cell_type": "markdown",
   "metadata": {},
   "source": [
    "## 模型部署\n",
    "\n",
    "我们创建一个模型和变量。这些二元决策变量定义每个部门将被安置在哪个城市。\n",
    "\n",
    "使用 Gurobi 求解二次分配问题很简单,只需将全局参数 `nonConvex` 配置为值 2。"
   ]
  },
  {
   "cell_type": "code",
   "execution_count": null,
   "metadata": {},
   "outputs": [
    {
     "name": "stdout",
     "output_type": "stream",
     "text": [
      "Using license file c:\\gurobi\\gurobi.lic\n",
      "Changed value of parameter nonConvex to 2\n",
      "   Prev: -1  Min: -1  Max: 2  Default: -1\n"
     ]
    }
   ],
   "source": [
    "model = gp.Model('decentralization')\n",
    "\n",
    "# 设置全局参数\n",
    "model.params.nonConvex = 2\n",
    "\n",
    "# 将部门 d 安置在城市 c\n",
    "locate = model.addVars(d2c, vtype=GRB.BINARY, name=\"locate\")"
   ]
  },
  {
   "cell_type": "markdown",
   "metadata": {},
   "source": [
    "每个部门必须且只能位于一个城市。"
   ]
  },
  {
   "cell_type": "code",
   "execution_count": null,
   "metadata": {},
   "outputs": [],
   "source": [
    "# 部门位置约束\n",
    "\n",
    "department_location = model.addConstrs((gp.quicksum(locate[d,c] for c in Cities) == 1 for d in Deparments), \n",
    "                                    name='department_location')"
   ]
  },
  {
   "cell_type": "markdown",
   "metadata": {},
   "source": [
    "任何城市容纳的部门不得超过三个。"
   ]
  },
  {
   "cell_type": "code",
   "execution_count": null,
   "metadata": {},
   "outputs": [],
   "source": [
    "# 部门数量限制\n",
    "\n",
    "departments_limit = model.addConstrs((gp.quicksum(locate[d,c] for d in Deparments) <= 3 for c in Cities), \n",
    "                                    name='departments_limit')"
   ]
  },
  {
   "cell_type": "markdown",
   "metadata": {},
   "source": [
    "现在我们设置优化目标,即最大化毛利润。"
   ]
  },
  {
   "cell_type": "code",
   "execution_count": 6,
   "metadata": {},
   "outputs": [],
   "source": [
    "model.setObjective((gp.quicksum(benefit[d,c]*locate[d,c] for d,c in d2c) \n",
    "                    - gp.quicksum(communicationCost[d,c,d2,c2]*locate[d,c]*locate[d2,c2] for d,c,d2,c2 in dcd2c2) ),\n",
    "                   GRB.MAXIMIZE)"
   ]
  },
  {
   "cell_type": "code",
   "execution_count": null,
   "metadata": {},
   "outputs": [
    {
     "name": "stdout",
     "output_type": "stream",
     "text": [
      "Gurobi Optimizer version 9.1.0 build v9.1.0rc0 (win64)\n",
      "Thread count: 4 physical cores, 8 logical processors, using up to 8 threads\n",
      "Optimize a model with 8 rows, 15 columns and 30 nonzeros\n",
      "Model fingerprint: 0x2ad3c449\n",
      "Model has 54 quadratic objective terms\n",
      "Variable types: 0 continuous, 15 integer (15 binary)\n",
      "Coefficient statistics:\n",
      "  Matrix range     [1e+00, 1e+00]\n",
      "  Objective range  [5e+00, 2e+01]\n",
      "  QObjective range [7e+00, 6e+01]\n",
      "  Bounds range     [1e+00, 1e+00]\n",
      "  RHS range        [1e+00, 3e+00]\n",
      "Found heuristic solution: objective -73.9000000\n",
      "Presolve time: 0.00s\n",
      "Presolved: 62 rows, 69 columns, 192 nonzeros\n",
      "Variable types: 0 continuous, 69 integer (69 binary)\n",
      "\n",
      "Root relaxation: objective -6.750000e+01, 14 iterations, 0.00 seconds\n",
      "\n",
      "    Nodes    |    Current Node    |     Objective Bounds      |     Work\n",
      " Expl Unexpl |  Obj  Depth IntInf | Incumbent    BestBd   Gap | It/Node Time\n",
      "\n",
      "     0     0   67.50000    0   10  -73.90000   67.50000   191%     -    0s\n",
      "H    0     0                     -33.9000000   67.50000   299%     -    0s\n",
      "H    0     0                     -16.3000000   67.50000   514%     -    0s\n",
      "H    0     0                      14.9000000   67.50000   353%     -    0s\n",
      "     0     0   30.00000    0   22   14.90000   30.00000   101%     -    0s\n",
      "\n",
      "Cutting planes:\n",
      "  Gomory: 3\n",
      "  MIR: 16\n",
      "  Zero half: 4\n",
      "  Mod-K: 2\n",
      "  RLT: 25\n",
      "\n",
      "Explored 1 nodes (43 simplex iterations) in 0.04 seconds\n",
      "Thread count was 8 (of 8 available processors)\n",
      "\n",
      "Solution count 4: 14.9 -16.3 -33.9 -73.9 \n",
      "\n",
      "Optimal solution found (tolerance 1.00e-04)\n",
      "Best objective 1.490000000000e+01, best bound 1.490000000000e+01, gap 0.0000%\n"
     ]
    }
   ],
   "source": [
    "# 验证模型公式\n",
    "\n",
    "model.write('decentralizationQA.lp')\n",
    "\n",
    "# 运行优化引擎\n",
    "\n",
    "model.optimize()"
   ]
  },
  {
   "cell_type": "markdown",
   "metadata": {},
   "source": [
    "## 分析\n",
    "\n",
    "以下是最优搬迁方案和相关财务报告。"
   ]
  },
  {
   "cell_type": "code",
   "execution_count": 8,
   "metadata": {},
   "outputs": [
    {
     "data": {
      "text/html": [
       "<div>\n",
       "<style scoped>\n",
       "    .dataframe tbody tr th:only-of-type {\n",
       "        vertical-align: middle;\n",
       "    }\n",
       "\n",
       "    .dataframe tbody tr th {\n",
       "        vertical-align: top;\n",
       "    }\n",
       "\n",
       "    .dataframe thead th {\n",
       "        text-align: right;\n",
       "    }\n",
       "</style>\n",
       "<table border=\"1\" class=\"dataframe\">\n",
       "  <thead>\n",
       "    <tr style=\"text-align: right;\">\n",
       "      <th></th>\n",
       "      <th>Department</th>\n",
       "      <th>City</th>\n",
       "    </tr>\n",
       "  </thead>\n",
       "  <tbody>\n",
       "    <tr>\n",
       "      <th></th>\n",
       "      <td>A</td>\n",
       "      <td>Bristol</td>\n",
       "    </tr>\n",
       "    <tr>\n",
       "      <th></th>\n",
       "      <td>D</td>\n",
       "      <td>Bristol</td>\n",
       "    </tr>\n",
       "    <tr>\n",
       "      <th></th>\n",
       "      <td>B</td>\n",
       "      <td>Brighton</td>\n",
       "    </tr>\n",
       "    <tr>\n",
       "      <th></th>\n",
       "      <td>C</td>\n",
       "      <td>Brighton</td>\n",
       "    </tr>\n",
       "    <tr>\n",
       "      <th></th>\n",
       "      <td>E</td>\n",
       "      <td>Brighton</td>\n",
       "    </tr>\n",
       "  </tbody>\n",
       "</table>\n",
       "</div>"
      ],
      "text/plain": [
       " Department      City\n",
       "          A   Bristol\n",
       "          D   Bristol\n",
       "          B  Brighton\n",
       "          C  Brighton\n",
       "          E  Brighton"
      ]
     },
     "execution_count": 8,
     "metadata": {},
     "output_type": "execute_result"
    }
   ],
   "source": [
    "relocation_plan = pd.DataFrame(\n",
    "    {key for key, var in locate.items() if var.x > 0.5},\n",
    "    columns = [\"Department\", \"City\"],\n",
    ")\n",
    "relocation_plan.index=['']*len(relocation_plan)\n",
    "relocation_plan.sort_values([\"Department\", \"City\"])"
   ]
  },
  {
   "cell_type": "code",
   "execution_count": null,
   "metadata": {},
   "outputs": [
    {
     "name": "stdout",
     "output_type": "stream",
     "text": [
      "\n",
      "\n",
      "_________________________________________________________________________________\n",
      "Financial report\n",
      "_________________________________________________________________________________\n",
      "The yearly total benefit is $80,000.00 dollars\n",
      "The yearly total communication cost is $65,100.00 dollars\n",
      "The yearly total gross margin is $14,900.00 dollars\n"
     ]
    }
   ],
   "source": [
    "print(\"\\n\\n_________________________________________________________________________________\")\n",
    "print(f\"财务报告\")\n",
    "print(\"_________________________________________________________________________________\")\n",
    "total_benefit = 0\n",
    "for c in Cities:\n",
    "    for d in Deparments:\n",
    "        if(locate[d,c].x > 0.5):\n",
    "            total_benefit += 1000*benefit[d,c]\n",
    "\n",
    "dollars_benefit = '${:,.2f}'.format(total_benefit)\n",
    "print(f\"年度总收益为 {dollars_benefit} 美元\")\n",
    "\n",
    "total_communication_cost = 0\n",
    "for d,c,d2,c2 in dcd2c2:\n",
    "    if(locate[d,c].x*locate[d2,c2].x > 0.5):\n",
    "        total_communication_cost += 1000*communicationCost[d,c,d2,c2]\n",
    "\n",
    "dollars_communication_cost = '${:,.2f}'.format(total_communication_cost)\n",
    "print(f\"年度总通信成本为 {dollars_communication_cost} 美元\")\n",
    "\n",
    "total_gross_margin = total_benefit - total_communication_cost\n",
    "dollars_gross_margin = '${:,.2f}'.format(total_gross_margin)\n",
    "print(f\"年度总毛利润为 {dollars_gross_margin} 美元\")"
   ]
  },
  {
   "cell_type": "markdown",
   "metadata": {},
   "source": [
    "## 参考文献\n",
    "\n",
    "H. Paul Williams, 《数学规划中的模型构建》第五版。\n",
    "\n",
    "版权所有 © 2020 Gurobi Optimization, LLC"
   ]
  }
 ],
 "metadata": {
  "kernelspec": {
   "display_name": "Python 3",
   "language": "python",
   "name": "python3"
  },
  "language_info": {
   "codemirror_mode": {
    "name": "ipython",
    "version": 3
   },
   "file_extension": ".py",
   "mimetype": "text/x-python",
   "name": "python",
   "nbconvert_exporter": "python",
   "pygments_lexer": "ipython3",
   "version": "3.10.9"
  }
 },
 "nbformat": 4,
 "nbformat_minor": 2
}
