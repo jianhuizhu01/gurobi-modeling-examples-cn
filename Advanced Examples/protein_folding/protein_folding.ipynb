{
 "cells": [
  {
   "cell_type": "markdown",
   "metadata": {},
   "source": [
    "# 蛋白质折叠\n",
    "\n",
    "## 目标和前提条件\n",
    "\n",
    "通过这个具有挑战性的蛋白质折叠问题来提升您的建模技能。我们将向您展示如何使用Gurobi Python API创建该问题的二元优化模型，并使用Gurobi优化器求解。\n",
    "\n",
    "这个模型来自H. Paul Williams所著《数学规划中的模型构建》第五版第289-290页和344-345页的示例28。\n",
    "\n",
    "这是一个高级建模示例，我们假设您已经掌握Python和Gurobi Python API，并且具有构建数学优化模型的进阶知识。通常，这些示例的目标函数和/或约束条件比较复杂，或需要使用Gurobi Python API的高级功能。\n",
    "\n",
    "**下载代码库** <br /> \n",
    "您可以通过点击[这里](https://github.com/Gurobi/modeling-examples/archive/master.zip)下载包含此示例和其他示例的代码库。\n",
    "\n",
    "**Gurobi许可证** <br /> \n",
    "为了正确运行此Jupyter笔记本，您必须拥有Gurobi许可证。如果您没有许可证，可以作为*商业用户*申请[评估许可证](https://www.gurobi.com/downloads/request-an-evaluation-license/)，或作为*学术用户*下载[免费许可证](https://www.gurobi.com/academia/academic-program-and-licenses/)。"
   ]
  },
  {
   "cell_type": "markdown",
   "metadata": {},
   "source": [
    "---\n",
    "## 问题描述\n",
    "\n",
    "本Jupyter笔记本中描述的问题基于Forrester和Greenberg(2008)发表的一篇题为《计算生物学中的二次二元规划模型》的论文中讨论的分子生物学问题。该问题涉及蛋白质，它由氨基酸链组成。在这个问题中，氨基酸有两种形式：亲水性（喜水）和疏水性（厌水）。下图给出了这样一个链的示例，其中疏水性氨基酸用粗体标记。\n",
    "\n",
    "![chain](chain.PNG)\n",
    "\n",
    "这样的链会自然折叠，使尽可能多的疏水性氨基酸靠近在一起。下图给出了该链在二维平面上的一种折叠方式，新的匹配用虚线标记。我们的目标是预测最优折叠方式。\n",
    "\n",
    "![folding](folding.PNG)\n",
    "\n",
    "要解决这里提出的问题，我们必须为一个包含50个氨基酸的链找到最优折叠方式，其中在位置2、4、5、6、11、12、17、20、21、25、27、28、30、31、33、37、44和46处的氨基酸是疏水性的。"
   ]
  },
  {
   "cell_type": "markdown",
   "metadata": {},
   "source": [
    "---\n",
    "## 模型构建\n",
    "\n",
    "### 集合和索引\n",
    "\n",
    "$k \\in A =\\{1,2,...,50\\}$：氨基酸链。\n",
    "\n",
    "$i,j \\in H =\\{2,4,5,6,11,12,17,20,21,25,27,28,30,31,33,37,44,46\\} \\subseteq Aminoacids$：疏水性氨基酸的子集。\n",
    "\n",
    "### 决策变量\n",
    "\n",
    "$\\text{match}_{i,j} \\equiv x_{i,j} = 1$，当且仅当疏水性氨基酸$i$与氨基酸$j$匹配，对于所有疏水性氨基酸$i < j \\in H$。这种匹配不包括因在链中相邻而预定义的匹配，即$j > i+1$。\n",
    "\n",
    "$\\text{fold}_{k} \\equiv y_{k} = 1$，当且仅当在链中第$i$个和第$(i+1)$个氨基酸之间发生折叠。\n",
    "\n",
    "### 约束条件\n",
    "\n",
    "对于每对疏水性氨基酸$i$和$j$，我们可以将它们匹配，如果：\n",
    "* 它们不相邻，即尚未匹配，\n",
    "* 它们在链中之间有偶数个氨基酸，\n",
    "* 在$i$和$j$之间恰好有一个折叠。\n",
    "\n",
    "这导致以下约束条件：\n",
    "\n",
    "1. $y_{k} + x_{i,j} \\leq 1, \\; \\forall k \\in A, (i,j) \\in H, \\; \\text{such that} \\; i \\leq k < j, \\; \\text{and} \\; \n",
    "k \\neq (i+j-1)/2$\n",
    "2. $x_{i,j} \\leq y_{k}, \\; \\text{where} \\; k = (i+j-1)/2$\n",
    "\n",
    "令$\\text{H_fold} = \\{(i,j) \\in H: x_{i,j} \\leq y_{k}, \\; k = (i+j-1)/2  \\}$为能够通过折叠实现匹配的疏水性氨基酸集合。\n",
    "\n",
    "### 目标函数\n",
    "目标是最大化疏水性氨基酸的匹配数量。\n",
    "\n",
    "$$\n",
    "\\sum_{i,j \\in \\text{H_fold}} x_{i,j}\n",
    "$$"
   ]
  },
  {
   "cell_type": "markdown",
   "metadata": {},
   "source": [
    "---\n",
    "## Python实现\n",
    "\n",
    "我们导入Gurobi Python模块。"
   ]
  },
  {
   "cell_type": "code",
   "execution_count": null,
   "metadata": {},
   "outputs": [],
   "source": [
    "%pip install gurobipy \n",
    "# 注意：受限许可证不足以运行此笔记本，需要完整许可证"
   ]
  },
  {
   "cell_type": "code",
   "execution_count": null,
   "metadata": {},
   "outputs": [],
   "source": [
    "import gurobipy as gp\n",
    "from gurobipy import GRB\n",
    "\n",
    "# 使用 Python 3.11 和 Gurobi 11.0 测试通过"
   ]
  },
  {
   "cell_type": "markdown",
   "metadata": {},
   "source": [
    "## 输入数据"
   ]
  },
  {
   "cell_type": "code",
   "execution_count": null,
   "metadata": {},
   "outputs": [],
   "source": [
    "# 氨基酸列表和疏水性氨基酸列表\n",
    "\n",
    "acids = [*range(1,51)]\n",
    "\n",
    "h_phobic = [2,4,5,6,11,12,17,20,21,25,27,28,30,31,33,37,44,46]"
   ]
  },
  {
   "cell_type": "markdown",
   "metadata": {},
   "source": [
    "## 预处理"
   ]
  },
  {
   "cell_type": "code",
   "execution_count": null,
   "metadata": {},
   "outputs": [],
   "source": [
    "# 创建用于生成模型的数据结构\n",
    "list_ij = []\n",
    "\n",
    "# 可以匹配的疏水性氨基酸的索引\n",
    "for i in h_phobic:\n",
    "    for j in h_phobic:\n",
    "        if j > i + 1:\n",
    "            tp = i,j\n",
    "            list_ij.append(tp)\n",
    "            \n",
    "ij = gp.tuplelist(list_ij)\n",
    "\n",
    "###\n",
    "list_ik1j = []\n",
    "\n",
    "list_ik2j = []\n",
    "\n",
    "for i,j in ij:\n",
    "    for k in range(i,j):\n",
    "        if (k == (i+j-1)/2  ):\n",
    "            tp = i,j,k\n",
    "            list_ik2j.append(tp)\n",
    "        else:\n",
    "            tp = i,j,k\n",
    "            list_ik1j.append(tp)\n",
    "\n",
    "# 类型2约束的索引\n",
    "ik2j = gp.tuplelist(list_ik2j)\n",
    "\n",
    "# 类型1约束的索引\n",
    "ik1j = gp.tuplelist(list_ik1j)\n",
    "\n",
    "# 通过折叠实现的匹配\n",
    "list_ijfold = []\n",
    "\n",
    "for i,j,k in ik2j:\n",
    "    tp = i,j\n",
    "    list_ijfold.append(tp)\n",
    "\n",
    "ijfold = gp.tuplelist(list_ijfold)"
   ]
  },
  {
   "cell_type": "markdown",
   "metadata": {},
   "source": [
    "## 模型部署\n",
    "我们创建一个模型和决策变量。有两种类型的决策变量：确定要匹配哪些疏水性氨基酸的变量，以及确定蛋白质在哪个氨基酸处发生折叠的变量。"
   ]
  },
  {
   "cell_type": "code",
   "execution_count": null,
   "metadata": {},
   "outputs": [
    {
     "name": "stdout",
     "output_type": "stream",
     "text": [
      "Using license file c:\\gurobi\\gurobi.lic\n"
     ]
    }
   ],
   "source": [
    "model = gp.Model('ProteinFolding')\n",
    "\n",
    "# 匹配变量\n",
    "match = model.addVars(ij, vtype=GRB.BINARY, name=\"match\")\n",
    "\n",
    "# 折叠变量\n",
    "fold = model.addVars(acids, vtype=GRB.BINARY, name=\"fold\")"
   ]
  },
  {
   "cell_type": "markdown",
   "metadata": {},
   "source": [
    "### 折叠和匹配约束\n",
    "\n",
    "1. $y_{k} + x_{i,j} \\leq 1, \\; \\forall k \\in A, (i,j) \\in H, \\; \\text{such that} \\; i \\leq k < j, \\; \\text{and} \\; \n",
    "k \\neq (i+j-1)/2$\n",
    "2. $x_{i,j} \\leq y_{k}, \\; \\text{where} \\; k = (i+j-1)/2$"
   ]
  },
  {
   "cell_type": "code",
   "execution_count": null,
   "metadata": {},
   "outputs": [],
   "source": [
    "# 约束条件1：\n",
    "\n",
    "C1 = model.addConstrs( (fold[k] + match[i,j] <= 1 for i,j,k in ik1j ) , name='C1')\n",
    "\n",
    "# 约束条件2：\n",
    "\n",
    "C2 = model.addConstrs( ( match[i,j] <= fold[k]  for i,j,k in ik2j ) , name='C2')"
   ]
  },
  {
   "cell_type": "markdown",
   "metadata": {},
   "source": [
    "### 目标函数\n",
    "\n",
    "最大化疏水性氨基酸的匹配数。"
   ]
  },
  {
   "cell_type": "code",
   "execution_count": null,
   "metadata": {},
   "outputs": [],
   "source": [
    "# 目标函数\n",
    "\n",
    "model.setObjective(gp.quicksum(match[i,j] for i,j in ijfold) , GRB.MAXIMIZE )\n"
   ]
  },
  {
   "cell_type": "code",
   "execution_count": null,
   "metadata": {},
   "outputs": [
    {
     "name": "stdout",
     "output_type": "stream",
     "text": [
      "Gurobi Optimizer version 9.1.0 build v9.1.0rc0 (win64)\n",
      "Thread count: 4 physical cores, 8 logical processors, using up to 8 threads\n",
      "Optimize a model with 2441 rows, 197 columns and 4882 nonzeros\n",
      "Model fingerprint: 0x7a3a8e69\n",
      "Variable types: 0 continuous, 197 integer (197 binary)\n",
      "Coefficient statistics:\n",
      "  Matrix range     [1e+00, 1e+00]\n",
      "  Objective range  [1e+00, 1e+00]\n",
      "  Bounds range     [1e+00, 1e+00]\n",
      "  RHS range        [1e+00, 1e+00]\n",
      "Found heuristic solution: objective -0.0000000\n",
      "Presolve removed 1596 rows and 105 columns\n",
      "Presolve time: 0.02s\n",
      "Presolved: 845 rows, 92 columns, 1779 nonzeros\n",
      "Variable types: 0 continuous, 92 integer (92 binary)\n",
      "\n",
      "Root relaxation: objective 3.200000e+01, 90 iterations, 0.00 seconds\n",
      "\n",
      "    Nodes    |    Current Node    |     Objective Bounds      |     Work\n",
      " Expl Unexpl |  Obj  Depth IntInf | Incumbent    BestBd   Gap | It/Node Time\n",
      "\n",
      "     0     0   32.00000    0   89   -0.00000   32.00000      -     -    0s\n",
      "H    0     0                       8.0000000   32.00000   300%     -    0s\n",
      "H    0     0                       9.0000000   32.00000   256%     -    0s\n",
      "     0     0   21.00000    0   69    9.00000   21.00000   133%     -    0s\n",
      "     0     0   13.50000    0   81    9.00000   13.50000  50.0%     -    0s\n",
      "     0     0   12.50000    0   82    9.00000   12.50000  38.9%     -    0s\n",
      "     0     0   12.50000    0   82    9.00000   12.50000  38.9%     -    0s\n",
      "     0     0   12.00000    0   82    9.00000   12.00000  33.3%     -    0s\n",
      "     0     0   12.00000    0   82    9.00000   12.00000  33.3%     -    0s\n",
      "H    0     0                      10.0000000   11.00000  10.0%     -    0s\n",
      "     0     0   11.00000    0   76   10.00000   11.00000  10.0%     -    0s\n",
      "     0     0   11.00000    0   67   10.00000   11.00000  10.0%     -    0s\n",
      "     0     2   11.00000    0   67   10.00000   11.00000  10.0%     -    0s\n",
      "\n",
      "Cutting planes:\n",
      "  Gomory: 2\n",
      "  Zero half: 17\n",
      "  RLT: 38\n",
      "\n",
      "Explored 55 nodes (1222 simplex iterations) in 0.21 seconds\n",
      "Thread count was 8 (of 8 available processors)\n",
      "\n",
      "Solution count 4: 10 9 8 -0 \n",
      "\n",
      "Optimal solution found (tolerance 1.00e-04)\n",
      "Best objective 1.000000000000e+01, best bound 1.000000000000e+01, gap 0.0000%\n"
     ]
    }
   ],
   "source": [
    "# 验证模型公式\n",
    "\n",
    "model.write('ProteinFolding.lp')\n",
    "\n",
    "# 运行优化引擎\n",
    "\n",
    "model.optimize()"
   ]
  },
  {
   "cell_type": "code",
   "execution_count": null,
   "metadata": {},
   "outputs": [
    {
     "name": "stdout",
     "output_type": "stream",
     "text": [
      "Optimal number of hydrophobic acids matchings: 10.0\n",
      "_______________________________________\n",
      "Optimal matching of hydrophobic acids.\n",
      "_______________________________________\n",
      "Hydrophobic acid matching (2, 5) with folding at amonacid 3.\n",
      "Hydrophobic acid matching (5, 12) with folding at amonacid 8.\n",
      "Hydrophobic acid matching (6, 11) with folding at amonacid 8.\n",
      "Hydrophobic acid matching (12, 17) with folding at amonacid 14.\n",
      "Hydrophobic acid matching (17, 20) with folding at amonacid 18.\n",
      "Hydrophobic acid matching (20, 25) with folding at amonacid 22.\n",
      "Hydrophobic acid matching (25, 28) with folding at amonacid 26.\n",
      "Hydrophobic acid matching (28, 31) with folding at amonacid 29.\n",
      "Hydrophobic acid matching (31, 46) with folding at amonacid 38.\n",
      "Hydrophobic acid matching (33, 44) with folding at amonacid 38.\n"
     ]
    }
   ],
   "source": [
    "# 输出报告\n",
    "\n",
    "print(f\"疏水性氨基酸匹配的最优数量: {model.objVal}\")\n",
    "\n",
    "print(\"_______________________________________\")\n",
    "print(f\"疏水性氨基酸的最优匹配方案\")\n",
    "print(\"_______________________________________\")\n",
    "\n",
    "for i,j,k in ik2j:\n",
    "    if (match[i,j].x > 0.5): \n",
    "        print(f\"疏水性氨基酸 {i} 和 {j} 匹配，在氨基酸 {k} 处发生折叠。\")"
   ]
  },
  {
   "cell_type": "markdown",
   "metadata": {},
   "source": [
    "---\n",
    "## 参考文献\n",
    "\n",
    "H. Paul Williams，《数学规划中的模型构建》，第五版。\n",
    "\n",
    "Forrester, R.J. 和 Greenberg, H.J. (2008) 计算生物学中的二次二元规划模型。算法运筹学，3，110–129。\n",
    "\n",
    "版权所有 © 2020 Gurobi Optimization, LLC"
   ]
  },
  {
   "cell_type": "code",
   "execution_count": null,
   "metadata": {},
   "outputs": [],
   "source": []
  }
 ],
 "metadata": {
  "kernelspec": {
   "display_name": "Python 3 (ipykernel)",
   "language": "python",
   "name": "python3"
  },
  "language_info": {
   "codemirror_mode": {
    "name": "ipython",
    "version": 3
   },
   "file_extension": ".py",
   "mimetype": "text/x-python",
   "name": "python",
   "nbconvert_exporter": "python",
   "pygments_lexer": "ipython3",
   "version": "3.9.7"
  }
 },
 "nbformat": 4,
 "nbformat_minor": 2
}
