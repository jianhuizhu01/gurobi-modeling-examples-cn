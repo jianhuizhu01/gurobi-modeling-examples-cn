{
 "cells": [
  {
   "cell_type": "markdown",
   "metadata": {},
   "source": [
    "# 投资组合优选优化\n",
    "\n",
    "本模型是经典的[马科维茨投资组合选择优化模型](https://en.wikipedia.org/wiki/Markowitz_model)的示例。我们要在一组股票中找到投资组合的比例，以平衡风险和回报。这是一个具有向量和矩阵数据（分别用于回报和风险）的二次规划（QP）模型。这最适合用矩阵形式表示，因此我们使用 Gurobi Python 的*矩阵*接口。基本模型相当简单，所以我们还通过参数化求解来找到有效前沿。\n",
    "\n",
    "**下载代码库** <br /> \n",
    "你可以通过点击[这里](https://github.com/Gurobi/modeling-examples/archive/master.zip)下载包含此示例和其他示例的代码库。\n",
    "\n",
    "## 模型构建\n",
    "### 参数\n",
    "\n",
    "我们使用金融领域传统的[希腊字母值](https://en.wikipedia.org/wiki/Greeks_\\(finance\\))：\n",
    "\n",
    "- $\\delta$: 测量每支股票价格变化的 n 维向量\n",
    "- $\\sigma$: 测量股票之间协方差的 n x n 矩阵\n",
    "\n",
    "在参数化求解模型时还有一个额外的参数：\n",
    "\n",
    "- r: 目标收益率\n",
    "\n",
    "### 决策变量\n",
    "- $x \\ge 0$: n维向量，每个元素代表投资组合中投资于每支股票的比例\n",
    "\n",
    "### 目标函数\n",
    "最小化总风险，这是一个凸二次函数：\n",
    "\n",
    "\\begin{equation}\n",
    "\\min x^t \\cdot \\sigma \\cdot x\n",
    "\\end{equation}\n",
    "\n",
    "### 约束条件\n",
    "\n",
    "分配整个投资组合：总投资应为1.0（100%），其中 $e$ 是单位向量（全为1）：\n",
    "\n",
    "\\begin{equation}\n",
    "e \\cdot x = 1\n",
    "\\end{equation}\n",
    "\n",
    "收益率：当我们对不同的收益率值 $r$ 进行参数化求解时，我们添加目标收益率的约束：\n",
    "\n",
    "\\begin{equation}\n",
    "\\delta \\cdot x = r\n",
    "\\end{equation}"
   ]
  },
  {
   "cell_type": "markdown",
   "metadata": {},
   "source": [
    "## Python 实现\n",
    "### 股票数据\n",
    "使用 [yfinance](https://pypi.org/project/yfinance/) 库获取美国20家最赚钱公司（[根据2021年4月的维基百科](https://en.wikipedia.org/wiki/List_of_largest_companies_in_the_United_States_by_revenue#List_of_companies_by_profit)）最近2年的*实际股票数据*。"
   ]
  },
  {
   "cell_type": "code",
   "execution_count": null,
   "metadata": {},
   "outputs": [],
   "source": [
    "%pip install gurobipy yfinance"
   ]
  },
  {
   "cell_type": "code",
   "execution_count": null,
   "metadata": {
    "scrolled": true
   },
   "outputs": [],
   "source": [
    "import yfinance as yf\n",
    "\n",
    "stocks = ['BRK-A', 'AAPL', 'MSFT', 'JPM', 'GOOG', 'BAC', 'INTC', 'WFC',\n",
    "          'C', 'VZ', 'META', 'PFE', 'JNJ', 'WMT', 'XOM',\n",
    "          'FNMA', 'T', 'UNH', 'CMCSA', 'V' ]\n",
    "\n",
    "data = yf.download(stocks, period='2y')"
   ]
  },
  {
   "cell_type": "markdown",
   "metadata": {},
   "source": [
    "### 计算希腊字母值\n",
    "使用下载的股票数据，计算股票价格的 delta（收益率）、sigma（协方差）和标准差值："
   ]
  },
  {
   "cell_type": "code",
   "execution_count": null,
   "metadata": {},
   "outputs": [],
   "source": [
    "import numpy as np\n",
    "\n",
    "closes = np.transpose(np.array(data.Close)) # 每日收盘价矩阵\n",
    "absdiff = np.diff(closes)                   # 每天收盘价的变化\n",
    "reldiff = np.divide(absdiff, closes[:,:-1]) # 每日收盘价的相对变化\n",
    "delta = np.mean(reldiff, axis=1)            # 平均价格变动\n",
    "sigma = np.cov(reldiff)                     # 协方差（标准差）\n",
    "std = np.std(reldiff, axis=1)               # 标准偏差"
   ]
  },
  {
   "cell_type": "markdown",
   "metadata": {},
   "source": [
    "## 通过求解 QP 模型最小化风险"
   ]
  },
  {
   "cell_type": "code",
   "execution_count": null,
   "metadata": {},
   "outputs": [],
   "source": [
    "import gurobipy as gp\n",
    "from gurobipy import GRB\n",
    "from math import sqrt\n",
    "\n",
    "# 创建空模型\n",
    "m = gp.Model('portfolio')\n",
    "\n",
    "# 为股票添加矩阵变量\n",
    "x = m.addMVar(len(stocks))\n",
    "\n",
    "# 目标是最小化风险（平方）。这是使用协方差矩阵建模的，\n",
    "# 协方差矩阵用于衡量股票之间的历史相关性\n",
    "portfolio_risk = x @ sigma @ x\n",
    "m.setObjective(portfolio_risk, GRB.MINIMIZE)\n",
    "\n",
    "# 用约束条件固定预算\n",
    "m.addConstr(x.sum() == 1, 'budget')\n",
    "\n",
    "# 验证模型公式\n",
    "m.write('portfolio_selection_optimization.lp')\n",
    "\n",
    "# 优化模型以找到最小风险投资组合\n",
    "m.optimize()"
   ]
  },
  {
   "cell_type": "markdown",
   "metadata": {},
   "source": [
    "## 使用 Pandas 显示最小风险投资组合"
   ]
  },
  {
   "cell_type": "code",
   "execution_count": null,
   "metadata": {},
   "outputs": [],
   "source": [
    "import pandas as pd\n",
    "minrisk_volatility = sqrt(m.ObjVal)\n",
    "minrisk_return = delta @ x.X\n",
    "pd.DataFrame(data=np.append(x.X, [minrisk_volatility, minrisk_return]),\n",
    "             index=stocks + ['Volatility', 'Expected Return'],\n",
    "             columns=['Minimum Risk Portfolio'])"
   ]
  },
  {
   "cell_type": "markdown",
   "metadata": {},
   "source": [
    "## 计算有效前沿\n",
    "通过参数化求解 QP 模型，找到不同预期收益率下的最低风险投资组合。"
   ]
  },
  {
   "cell_type": "code",
   "execution_count": null,
   "metadata": {},
   "outputs": [],
   "source": [
    "# 创建表示投资组合预期回报的表达式\n",
    "portfolio_return = delta @ x\n",
    "target = m.addConstr(portfolio_return == minrisk_return, 'target')\n",
    "\n",
    "# 通过改变目标回报求解有效前沿\n",
    "frontier = np.empty((2,0))\n",
    "for r in np.linspace(delta.min(), delta.max(), 25):\n",
    "    target.rhs = r\n",
    "    m.optimize()\n",
    "    frontier = np.append(frontier, [[sqrt(m.ObjVal)],[r]], axis=1)"
   ]
  },
  {
   "cell_type": "markdown",
   "metadata": {},
   "source": [
    "## 绘制结果\n",
    "使用 matplot 库绘制优化解和个股的图表："
   ]
  },
  {
   "cell_type": "code",
   "execution_count": null,
   "metadata": {},
   "outputs": [],
   "source": [
    "import matplotlib.pyplot as plt\n",
    "#plt.figure(figsize=(10,10))\n",
    "\n",
    "fig, ax = plt.subplots(figsize=(10,8))\n",
    "\n",
    "# 绘制个股的波动率与预期回报关系图\n",
    "ax.scatter(x=std, y=delta,\n",
    "           color='Blue', label='Individual Stocks')\n",
    "for i, stock in enumerate(stocks):\n",
    "    ax.annotate(stock, (std[i], delta[i]))\n",
    "\n",
    "# 绘制波动性与最小风险投资组合的预期回报\n",
    "ax.scatter(x=minrisk_volatility, y=minrisk_return, color='DarkGreen')\n",
    "ax.annotate('Minimum\\nRisk\\nPortfolio', (minrisk_volatility, minrisk_return),\n",
    "            horizontalalignment='right')\n",
    "\n",
    "# 绘制有效前沿\n",
    "ax.plot(frontier[0], frontier[1], label='Efficient Frontier', color='DarkGreen')\n",
    "\n",
    "# 设置和显示最终图表格式\n",
    "ax.axis([frontier[0].min()*0.7, frontier[0].max()*1.3, delta.min()*1.2, delta.max()*1.2])\n",
    "ax.set_xlabel('Volatility (standard deviation)')\n",
    "ax.set_ylabel('Expected Return')\n",
    "ax.legend()\n",
    "ax.grid()\n",
    "plt.show()"
   ]
  }
 ],
 "metadata": {
  "kernelspec": {
   "display_name": "Python 3 (ipykernel)",
   "language": "python",
   "name": "python3"
  },
  "language_info": {
   "codemirror_mode": {
    "name": "ipython",
    "version": 3
   },
   "file_extension": ".py",
   "mimetype": "text/x-python",
   "name": "python",
   "nbconvert_exporter": "python",
   "pygments_lexer": "ipython3",
   "version": "3.9.7"
  }
 },
 "nbformat": 4,
 "nbformat_minor": 4
}
